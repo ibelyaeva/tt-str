{
 "cells": [
  {
   "cell_type": "code",
   "execution_count": 1,
   "metadata": {},
   "outputs": [
    {
     "name": "stderr",
     "output_type": "stream",
     "text": [
      "/usr/local/lib/python2.7/site-packages/matplotlib/__init__.py:1405: UserWarning: \n",
      "This call to matplotlib.use() has no effect because the backend has already\n",
      "been chosen; matplotlib.use() must be called *before* pylab, matplotlib.pyplot,\n",
      "or matplotlib.backends is imported for the first time.\n",
      "\n",
      "  warnings.warn(_use_error_msg)\n"
     ]
    }
   ],
   "source": [
    "import tensorflow as tf\n",
    "import numpy as np\n",
    "import t3f\n",
    "tf.set_random_seed(0)\n",
    "np.random.seed(0)\n",
    "%matplotlib inline\n",
    "import matplotlib.pyplot as plt\n",
    "import metric_util as mt\n",
    "import data_util as du\n",
    "from t3f import shapes\n",
    "from nilearn import image\n",
    "from skimage.measure import compare_ssim as ssim\n",
    "from tensorflow.python.util import nest\n",
    "import copy\n",
    "from nilearn import plotting"
   ]
  },
  {
   "cell_type": "code",
   "execution_count": 2,
   "metadata": {
    "collapsed": true
   },
   "outputs": [],
   "source": [
    "#sess = tf.InteractiveSession()"
   ]
  },
  {
   "cell_type": "code",
   "execution_count": 3,
   "metadata": {
    "collapsed": true
   },
   "outputs": [],
   "source": [
    "def frobenius_norm_tf(x):\n",
    "    return tf.reduce_sum(x ** 2) ** 0.5"
   ]
  },
  {
   "cell_type": "code",
   "execution_count": 4,
   "metadata": {
    "collapsed": true
   },
   "outputs": [],
   "source": [
    "def relative_error1(x_hat,x_true):\n",
    "    percent_error = frobenius_norm_tf(x_hat - x_true) / frobenius_norm_tf(x_true)\n",
    "    return percent_error"
   ]
  },
  {
   "cell_type": "code",
   "execution_count": 5,
   "metadata": {},
   "outputs": [
    {
     "name": "stdout",
     "output_type": "stream",
     "text": [
      "Subject Path: /work/pl/sch/analysis/data/COBRE001/swaAMAYER+cobre01_63001+M87100944+20110309at135133+RSTpre_V01_R01+CM.nii\n"
     ]
    }
   ],
   "source": [
    "subject_scan_path = du.get_full_path_subject1()\n",
    "print \"Subject Path: \" + str(subject_scan_path)\n",
    "x_true_org = mt.read_image_abs_path(subject_scan_path)\n"
   ]
  },
  {
   "cell_type": "code",
   "execution_count": 6,
   "metadata": {
    "collapsed": true
   },
   "outputs": [],
   "source": [
    "observed_ratio = 0.9\n",
    "x_true_img = np.array(x_true_org.get_data())\n",
    "mask_indices = (np.random.rand(x_true_img.shape[0],x_true_img.shape[1],x_true_img.shape[2], x_true_img.shape[3]) < observed_ratio).astype('int') \n",
    "ten_ones = np.ones_like(mask_indices)\n",
    "x_train = copy.deepcopy(x_true_img)\n",
    "x_train[mask_indices==0] = 0.0\n",
    "#x_train[mask_indices == 0] = np.mean(x_train[mask_indices == 1])\n",
    "x_init = copy.deepcopy(x_train)\n",
    "\n",
    "ground_truth = copy.deepcopy(x_true_img)"
   ]
  },
  {
   "cell_type": "code",
   "execution_count": 7,
   "metadata": {
    "collapsed": true
   },
   "outputs": [],
   "source": [
    "x_miss_img = mt.reconstruct_image_affine(x_true_org, x_train)"
   ]
  },
  {
   "cell_type": "code",
   "execution_count": 8,
   "metadata": {
    "collapsed": true
   },
   "outputs": [],
   "source": [
    "x_miss = image.index_img(x_miss_img,1)"
   ]
  },
  {
   "cell_type": "code",
   "execution_count": 9,
   "metadata": {},
   "outputs": [
    {
     "data": {
      "image/png": "[encoded data removed]",
      "text/plain": [
       "<matplotlib.figure.Figure at 0x126b58490>"
      ]
     },
     "metadata": {},
     "output_type": "display_data"
    }
   ],
   "source": [
    "x_miss_image = plotting.plot_epi(x_miss, bg_img=None,black_bg=True, cmap='jet', cut_coords=None) "
   ]
  },
  {
   "cell_type": "code",
   "execution_count": 10,
   "metadata": {},
   "outputs": [
    {
     "name": "stdout",
     "output_type": "stream",
     "text": [
      "[1, 53, 1, 1, 1] 0 (1, 53, 53)\n",
      "[1, 53, 63, 1, 1] 1 (53, 63, 63)\n",
      "[1, 53, 63, 63, 1] 2 (63, 46, 63)\n",
      "ranks: [1, 53, 63, 63, 1]\n"
     ]
    }
   ],
   "source": [
    "ground_truth_tf = t3f.to_tt_tensor(ground_truth, max_tt_rank=63)"
   ]
  },
  {
   "cell_type": "code",
   "execution_count": 11,
   "metadata": {},
   "outputs": [],
   "source": [
    "A = t3f.get_variable('A', initializer=ground_truth_tf, trainable=False)"
   ]
  },
  {
   "cell_type": "code",
   "execution_count": 12,
   "metadata": {},
   "outputs": [
    {
     "name": "stdout",
     "output_type": "stream",
     "text": [
      "A Tensor Train variable of shape (53, 63, 46, 144), TT-ranks: (1, 53, 63, 63, 1)\n"
     ]
    }
   ],
   "source": [
    "print A"
   ]
  },
  {
   "cell_type": "code",
   "execution_count": 13,
   "metadata": {},
   "outputs": [
    {
     "name": "stdout",
     "output_type": "stream",
     "text": [
      "[1, 53, 1, 1, 1] 0 (1, 53, 53)\n",
      "[1, 53, 63, 1, 1] 1 (53, 63, 63)\n",
      "[1, 53, 63, 63, 1] 2 (63, 46, 63)\n",
      "ranks: [1, 53, 63, 63, 1]\n"
     ]
    }
   ],
   "source": [
    "x_train_tf = t3f.to_tt_tensor(x_init, max_tt_rank=63)"
   ]
  },
  {
   "cell_type": "code",
   "execution_count": 14,
   "metadata": {
    "collapsed": true
   },
   "outputs": [],
   "source": [
    "X = t3f.get_variable('X', initializer=x_train_tf)"
   ]
  },
  {
   "cell_type": "code",
   "execution_count": 15,
   "metadata": {},
   "outputs": [],
   "source": [
    "# Algorithm\n",
    "gradF = X - A\n",
    "riemannian_grad = t3f.riemannian.project(gradF, X)\n",
    "F = 0.5 * t3f.frobenius_norm_squared(X - A)\n",
    "alpha = 0.01\n",
    "gradnorm = t3f.frobenius_norm_squared(X - A)/(t3f.frobenius_norm_squared(A))\n",
    "\n",
    "train_step = t3f.assign(X, t3f.round(X - alpha * riemannian_grad, max_tt_rank=63))\n",
    "rel_error1 = relative_error1(t3f.full(X), t3f.full(A))\n"
   ]
  },
  {
   "cell_type": "code",
   "execution_count": 16,
   "metadata": {},
   "outputs": [],
   "source": [
    "eps = 1.0e-5"
   ]
  },
  {
   "cell_type": "code",
   "execution_count": 17,
   "metadata": {},
   "outputs": [
    {
     "data": {
      "text/plain": [
       "1e-05"
      ]
     },
     "execution_count": 17,
     "metadata": {},
     "output_type": "execute_result"
    }
   ],
   "source": [
    "eps"
   ]
  },
  {
   "cell_type": "code",
   "execution_count": 18,
   "metadata": {},
   "outputs": [
    {
     "name": "stdout",
     "output_type": "stream",
     "text": [
      "(38653405000000.0, 1, 0.013769544, 0.11733481)\n",
      "(37902260000000.0, 2, 0.013501963, 0.11617663)\n",
      "(37159250000000.0, 3, 0.01323728, 0.11503027)\n",
      "(36429900000000.0, 4, 0.012977462, 0.11389537)\n",
      "(35714863000000.0, 5, 0.012722744, 0.11277209)\n",
      "(35014130000000.0, 6, 0.01247312, 0.11166021)\n",
      "(34326557000000.0, 7, 0.012228186, 0.110559486)\n",
      "(33653428000000.0, 8, 0.011988397, 0.10946989)\n",
      "(32993136000000.0, 9, 0.01175318, 0.10839074)\n",
      "(32346750000000.0, 10, 0.011522917, 0.107322656)\n",
      "(31712027000000.0, 11, 0.01129681, 0.10626501)\n",
      "(31091071000000.0, 12, 0.011075606, 0.10521799)\n",
      "(30482033000000.0, 13, 0.0108586475, 0.104181744)\n",
      "(29883843000000.0, 14, 0.0106455535, 0.10315529)\n",
      "(29297216000000.0, 15, 0.010436579, 0.10213941)\n",
      "(28724560000000.0, 16, 0.010232581, 0.101134054)\n",
      "(28162990000000.0, 17, 0.010032532, 0.10013909)\n",
      "(27611883000000.0, 18, 0.009836211, 0.099154)\n",
      "(27070745000000.0, 19, 0.00964344, 0.098179035)\n",
      "(26540550000000.0, 20, 0.009454568, 0.09721321)\n",
      "(26021920000000.0, 21, 0.009269816, 0.09625735)\n",
      "(25513056000000.0, 22, 0.009088543, 0.09531182)\n",
      "(25013430000000.0, 23, 0.008910561, 0.09437518)\n",
      "(24525840000000.0, 24, 0.0087368665, 0.09344807)\n",
      "(24046106000000.0, 25, 0.00856597, 0.09253076)\n",
      "(23576160000000.0, 26, 0.008398561, 0.09162261)\n",
      "(23115965000000.0, 27, 0.008234625, 0.09072372)\n",
      "(22663940000000.0, 28, 0.0080736, 0.08983342)\n",
      "(22221605000000.0, 29, 0.007916026, 0.08895222)\n",
      "(21788260000000.0, 30, 0.007761655, 0.08807979)\n",
      "(21361966000000.0, 31, 0.007609796, 0.08721652)\n",
      "(20945184000000.0, 32, 0.0074613253, 0.0863615)\n",
      "(20537888000000.0, 33, 0.0073162336, 0.08551531)\n",
      "(20136937000000.0, 34, 0.0071734027, 0.084677674)\n",
      "(19744240000000.0, 35, 0.0070335115, 0.08384819)\n",
      "(19359470000000.0, 36, 0.006896445, 0.08302744)\n",
      "(18982755000000.0, 37, 0.006762247, 0.082214475)\n",
      "(18613382000000.0, 38, 0.0066306647, 0.08140999)\n",
      "(18250555000000.0, 39, 0.006501415, 0.080613315)\n",
      "(17895338000000.0, 40, 0.006374875, 0.07982506)\n",
      "(17549583000000.0, 41, 0.0062517067, 0.07904464)\n",
      "(17209261000000.0, 42, 0.006130473, 0.07827254)\n",
      "(16874698000000.0, 43, 0.0060112914, 0.077507675)\n",
      "(16546209000000.0, 44, 0.005894274, 0.0767508)\n",
      "(16225122000000.0, 45, 0.0057798927, 0.076001756)\n",
      "(15910336000000.0, 46, 0.005667756, 0.07526012)\n",
      "(15600559000000.0, 47, 0.0055574034, 0.074525416)\n",
      "(15297714000000.0, 48, 0.005449521, 0.07379889)\n",
      "(15001372000000.0, 49, 0.0053439545, 0.07307925)\n",
      "(14710723000000.0, 50, 0.0052404166, 0.07236674)\n",
      "(14424945000000.0, 51, 0.0051386137, 0.07166171)\n",
      "(14145138000000.0, 52, 0.0050389376, 0.07096352)\n",
      "(13870992000000.0, 53, 0.004941278, 0.07027294)\n",
      "(13602788000000.0, 54, 0.0048457356, 0.06958944)\n",
      "(13338639000000.0, 55, 0.0047516376, 0.0689126)\n",
      "(13081014000000.0, 56, 0.0046598637, 0.06824208)\n",
      "(12828249000000.0, 57, 0.004569821, 0.06757896)\n",
      "(12580056000000.0, 58, 0.004481407, 0.066921934)\n",
      "(12336945000000.0, 59, 0.004394803, 0.066272005)\n",
      "(12099294000000.0, 60, 0.0043101446, 0.06562879)\n",
      "(11864812000000.0, 61, 0.0042266143, 0.064991996)\n",
      "(11635356000000.0, 62, 0.0041448753, 0.06436177)\n",
      "(11410775000000.0, 63, 0.0040648724, 0.06373773)\n",
      "(11191208000000.0, 64, 0.003986656, 0.06312029)\n",
      "(10975535000000.0, 65, 0.0039098267, 0.062508956)\n",
      "(10763851000000.0, 66, 0.003834418, 0.061903603)\n",
      "(10556567000000.0, 67, 0.0037605772, 0.061304875)\n",
      "(10353811000000.0, 68, 0.0036883494, 0.06071219)\n",
      "(10154115000000.0, 69, 0.0036172112, 0.06012514)\n",
      "(9959191000000.0, 70, 0.0035477735, 0.05954424)\n",
      "(9768017000000.0, 71, 0.0034796712, 0.058969375)\n",
      "(9580400000000.0, 72, 0.003412836, 0.05840012)\n",
      "(9396191000000.0, 73, 0.0033472152, 0.057836138)\n",
      "(9215622000000.0, 74, 0.003282891, 0.057277925)\n",
      "(9038762000000.0, 75, 0.0032198878, 0.056724887)\n",
      "(8865412000000.0, 76, 0.0031581353, 0.056178123)\n",
      "(8695000300000.0, 77, 0.0030974292, 0.055636942)\n",
      "(8527928600000.0, 78, 0.003037913, 0.05510135)\n",
      "(8364498000000.0, 79, 0.0029796942, 0.05457112)\n",
      "(8204475000000.0, 80, 0.0029226888, 0.054046612)\n",
      "(8047844400000.0, 81, 0.0028668921, 0.053527173)\n",
      "(7893388600000.0, 82, 0.0028118703, 0.053012382)\n",
      "(7742331000000.0, 83, 0.0027580587, 0.05250336)\n",
      "(7595165000000.0, 84, 0.0027056339, 0.05199929)\n",
      "(7449958400000.0, 85, 0.0026539066, 0.05150055)\n",
      "(7307905000000.0, 86, 0.002603303, 0.051006563)\n",
      "(7168544000000.0, 87, 0.002553658, 0.050517805)\n",
      "(7031724400000.0, 88, 0.0025049187, 0.050034124)\n",
      "(6897592700000.0, 89, 0.0024571368, 0.049555596)\n",
      "(6765990000000.0, 90, 0.0024102558, 0.04908128)\n",
      "(6637674300000.0, 91, 0.0023645458, 0.048612043)\n",
      "(6511487600000.0, 92, 0.0023195941, 0.048147533)\n",
      "(6387607000000.0, 93, 0.002275464, 0.04768783)\n",
      "(6266187000000.0, 94, 0.0022322105, 0.047232654)\n",
      "(6147283600000.0, 95, 0.0021898535, 0.04678234)\n",
      "(6030702000000.0, 96, 0.0021483235, 0.046336666)\n",
      "(5915963000000.0, 97, 0.0021074498, 0.045895703)\n",
      "(5804374600000.0, 98, 0.0020676986, 0.04545912)\n",
      "(5694345400000.0, 99, 0.0020285028, 0.045026794)\n",
      "(5586275000000.0, 100, 0.0019900047, 0.044598658)\n",
      "(5481020500000.0, 101, 0.0019525097, 0.044175155)\n",
      "(5377298000000.0, 102, 0.0019155606, 0.04375576)\n",
      "(5275406300000.0, 103, 0.0018792637, 0.043340486)\n",
      "(5175646400000.0, 104, 0.001843726, 0.042929176)\n",
      "(5078288700000.0, 105, 0.0018090442, 0.04252239)\n",
      "(4982441500000.0, 106, 0.0017749005, 0.042119298)\n",
      "(4888488600000.0, 107, 0.0017414315, 0.04172057)\n",
      "(4796229600000.0, 108, 0.001708566, 0.04132553)\n",
      "(4706072500000.0, 109, 0.0016764492, 0.040934652)\n",
      "(4617026000000.0, 110, 0.001644728, 0.040547375)\n",
      "(4530399300000.0, 111, 0.001613869, 0.040164277)\n",
      "(4445407500000.0, 112, 0.0015835923, 0.03978508)\n",
      "(4361979200000.0, 113, 0.0015538725, 0.039409786)\n",
      "(4280424000000.0, 114, 0.00152482, 0.0390383)\n",
      "(4200070600000.0, 115, 0.0014961957, 0.038670532)\n",
      "(4121451800000.0, 116, 0.0014681892, 0.03830647)\n",
      "(4044084700000.0, 117, 0.0014406287, 0.03794616)\n",
      "(3968359500000.0, 118, 0.0014136529, 0.03758906)\n",
      "(3894230600000.0, 119, 0.001387246, 0.037235912)\n",
      "(3821555000000.0, 120, 0.0013613566, 0.03688601)\n",
      "(3749971800000.0, 121, 0.0013358564, 0.03653969)\n",
      "(3680027000000.0, 122, 0.0013109399, 0.036197007)\n",
      "(3611111700000.0, 123, 0.0012863902, 0.035857618)\n",
      "(3543927400000.0, 124, 0.001262457, 0.03552209)\n",
      "(3477743600000.0, 125, 0.0012388803, 0.035189968)\n",
      "(3413250100000.0, 126, 0.0012159058, 0.034861207)\n",
      "(3349654300000.0, 127, 0.0011932509, 0.034535352)\n",
      "(3287370000000.0, 128, 0.0011710633, 0.03421318)\n",
      "(3226450300000.0, 129, 0.0011493618, 0.03389441)\n",
      "(3166540100000.0, 130, 0.00112802, 0.033578847)\n",
      "(3108034300000.0, 131, 0.0011071784, 0.033266217)\n",
      "(3050446300000.0, 132, 0.0010866637, 0.032956928)\n",
      "(2994171800000.0, 133, 0.001066617, 0.03265099)\n",
      "(2938876500000.0, 134, 0.0010469191, 0.032347936)\n",
      "(2884731100000.0, 135, 0.0010276309, 0.0320479)\n",
      "(2831330800000.0, 136, 0.001008608, 0.03175079)\n",
      "(2779017400000.0, 137, 0.0009899724, 0.031456426)\n",
      "(2727855800000.0, 138, 0.000971747, 0.03116525)\n",
      "(2677647300000.0, 139, 0.00095386116, 0.030876918)\n",
      "(2628418300000.0, 140, 0.00093632424, 0.030591458)\n",
      "(2579943000000.0, 141, 0.0009190559, 0.03030895)\n",
      "(2532598600000.0, 142, 0.0009021903, 0.030029295)\n",
      "(2486112600000.0, 143, 0.00088563055, 0.029752402)\n",
      "(2440596000000.0, 144, 0.0008694161, 0.029478492)\n",
      "(2395924000000.0, 145, 0.0008535026, 0.029207125)\n",
      "(2352041000000.0, 146, 0.00083787006, 0.028938154)\n",
      "(2309033800000.0, 147, 0.00082254957, 0.028672298)\n",
      "(2266738500000.0, 148, 0.00080748263, 0.028409565)\n",
      "(2225325700000.0, 149, 0.00079273013, 0.02814908)\n",
      "(2184769300000.0, 150, 0.0007782827, 0.027890928)\n",
      "(2145032100000.0, 151, 0.00076412706, 0.027635973)\n",
      "(2105897900000.0, 152, 0.0007501863, 0.027383313)\n",
      "(2067663300000.0, 153, 0.0007365659, 0.027133299)\n",
      "(2030046300000.0, 154, 0.0007231656, 0.026885545)\n",
      "(1993244700000.0, 155, 0.0007100557, 0.026640061)\n",
      "(1956859000000.0, 156, 0.00069709396, 0.026397012)\n",
      "(1921420600000.0, 157, 0.0006844697, 0.026156297)\n",
      "(1886722300000.0, 158, 0.00067210913, 0.025918342)\n",
      "(1852692000000.0, 159, 0.00065998646, 0.025682842)\n",
      "(1819228500000.0, 160, 0.0006480657, 0.025449703)\n",
      "(1786289300000.0, 161, 0.00063633174, 0.025219087)\n",
      "(1754201200000.0, 162, 0.000624901, 0.024990357)\n",
      "(1722536000000.0, 163, 0.00061362085, 0.024763811)\n",
      "(1691506300000.0, 164, 0.0006025671, 0.024539756)\n",
      "(1660972600000.0, 165, 0.00059169, 0.024318071)\n",
      "(1631157100000.0, 166, 0.00058106886, 0.024098286)\n",
      "(1601956900000.0, 167, 0.0005706668, 0.023881067)\n",
      "(1573050300000.0, 168, 0.00056036934, 0.023666112)\n"
     ]
    },
    {
     "name": "stdout",
     "output_type": "stream",
     "text": [
      "(1544883400000.0, 169, 0.00055033545, 0.023452843)\n",
      "(1517453800000.0, 170, 0.0005405642, 0.02324211)\n",
      "(1490203200000.0, 171, 0.00053085666, 0.023033539)\n",
      "(1463542300000.0, 172, 0.00052135927, 0.022826657)\n",
      "(1437486300000.0, 173, 0.0005120773, 0.022622103)\n",
      "(1411850700000.0, 174, 0.0005029451, 0.022419836)\n",
      "(1386569000000.0, 175, 0.000493939, 0.022219438)\n",
      "(1362071800000.0, 176, 0.00048521228, 0.022020914)\n",
      "(1337833200000.0, 177, 0.00047657773, 0.021824371)\n",
      "(1314168900000.0, 178, 0.0004681478, 0.021629985)\n",
      "(1291022000000.0, 179, 0.00045990213, 0.021437997)\n",
      "(1268103500000.0, 180, 0.00045173787, 0.02124728)\n",
      "(1245752200000.0, 181, 0.00044377564, 0.021058163)\n",
      "(1223743500000.0, 182, 0.00043593545, 0.020871611)\n",
      "(1202300100000.0, 183, 0.00042829665, 0.020686854)\n",
      "(1180931700000.0, 184, 0.00042068458, 0.020503767)\n",
      "(1160210800000.0, 185, 0.00041330315, 0.020322671)\n",
      "(1139882600000.0, 186, 0.0004060616, 0.02014343)\n",
      "(1119922300000.0, 187, 0.00039895112, 0.019966148)\n",
      "(1100220600000.0, 188, 0.00039193276, 0.01979028)\n",
      "(1080872500000.0, 189, 0.00038504036, 0.019616064)\n",
      "(1061904250000.0, 190, 0.0003782833, 0.019443551)\n",
      "(1043474700000.0, 191, 0.0003717181, 0.019273087)\n",
      "(1025170600000.0, 192, 0.00036519763, 0.019104308)\n",
      "(1007334000000.0, 193, 0.00035884365, 0.018937578)\n",
      "(989971000000.0, 194, 0.00035265842, 0.018772416)\n",
      "(972794560000.0, 195, 0.00034653966, 0.018608807)\n",
      "(955863100000.0, 196, 0.00034050812, 0.018446896)\n",
      "(939385750000.0, 197, 0.00033463837, 0.018286748)\n",
      "(923199800000.0, 198, 0.00032887244, 0.018127898)\n",
      "(907114600000.0, 199, 0.0003231424, 0.0179705)\n",
      "(891480640000.0, 200, 0.0003175731, 0.017814875)\n",
      "(876095800000.0, 201, 0.00031209254, 0.017660983)\n",
      "(861107650000.0, 202, 0.0003067533, 0.017508058)\n",
      "(846273840000.0, 203, 0.00030146903, 0.017357234)\n",
      "(831831900000.0, 204, 0.00029632435, 0.017208053)\n",
      "(817572800000.0, 205, 0.00029124483, 0.017059961)\n",
      "(803585850000.0, 206, 0.00028626225, 0.016913526)\n",
      "(789931360000.0, 207, 0.0002813981, 0.016768608)\n",
      "(776388350000.0, 208, 0.00027657364, 0.016625075)\n",
      "(763210700000.0, 209, 0.00027187937, 0.016482787)\n",
      "(750241900000.0, 210, 0.0002672595, 0.01634238)\n",
      "(737600800000.0, 211, 0.0002627563, 0.016203415)\n",
      "(724994160000.0, 212, 0.00025826544, 0.016065562)\n",
      "(712706500000.0, 213, 0.0002538882, 0.015929278)\n",
      "(700736800000.0, 214, 0.00024962422, 0.015794225)\n",
      "(689003000000.0, 215, 0.00024544427, 0.01566087)\n",
      "(677382650000.0, 216, 0.00024130475, 0.015528435)\n",
      "(666003830000.0, 217, 0.00023725125, 0.015397492)\n",
      "(654871900000.0, 218, 0.00023328571, 0.015267908)\n",
      "(643964400000.0, 219, 0.00022940013, 0.015139734)\n",
      "(633206870000.0, 220, 0.00022556796, 0.015012615)\n",
      "(622622000000.0, 221, 0.00022179731, 0.014886947)\n",
      "(612281350000.0, 222, 0.00021811364, 0.014762748)\n",
      "(602149550000.0, 223, 0.00021450438, 0.014639511)\n",
      "(592131500000.0, 224, 0.00021093564, 0.014517687)\n",
      "(582290300000.0, 225, 0.0002074299, 0.014396903)\n",
      "(572582130000.0, 226, 0.00020397155, 0.014277589)\n",
      "(563243200000.0, 227, 0.00020064472, 0.01415952)\n",
      "(553985100000.0, 228, 0.00019734672, 0.014042838)\n",
      "(544883100000.0, 229, 0.00019410429, 0.0139263645)\n",
      "(535888430000.0, 230, 0.0001909001, 0.013811752)\n",
      "(527164700000.0, 231, 0.00018779245, 0.013697912)\n",
      "(518576600000.0, 232, 0.0001847331, 0.013585517)\n",
      "(510131860000.0, 233, 0.00018172481, 0.013474373)\n",
      "(501818230000.0, 234, 0.00017876325, 0.01336414)\n",
      "(493722400000.0, 235, 0.00017587926, 0.013255094)\n",
      "(485671630000.0, 236, 0.00017301133, 0.013147063)\n",
      "(477911800000.0, 237, 0.00017024703, 0.013040408)\n",
      "(470116430000.0, 238, 0.00016747008, 0.012934514)\n",
      "(462513800000.0, 239, 0.00016476179, 0.01282963)\n",
      "(455165870000.0, 240, 0.00016214422, 0.012725972)\n",
      "(447751420000.0, 241, 0.00015950296, 0.01262338)\n",
      "(440613040000.0, 242, 0.00015696006, 0.012521666)\n",
      "(433561240000.0, 243, 0.00015444799, 0.012421039)\n",
      "(426602140000.0, 244, 0.00015196894, 0.012321196)\n",
      "(419752440000.0, 245, 0.00014952886, 0.0122225145)\n",
      "(413149920000.0, 246, 0.00014717683, 0.012124935)\n",
      "(406609400000.0, 247, 0.0001448469, 0.012028474)\n",
      "(400189460000.0, 248, 0.00014255992, 0.011932723)\n",
      "(393817300000.0, 249, 0.00014028995, 0.011838053)\n",
      "(387603300000.0, 250, 0.00013807634, 0.011744386)\n",
      "(381472240000.0, 251, 0.00013589226, 0.011651592)\n",
      "(375474000000.0, 252, 0.0001337555, 0.011559333)\n",
      "(369610820000.0, 253, 0.00013166685, 0.0114684645)\n",
      "(363835200000.0, 254, 0.0001296094, 0.011378384)\n",
      "(358146000000.0, 255, 0.00012758274, 0.011288994)\n",
      "(352581840000.0, 256, 0.0001256006, 0.011200612)\n",
      "(347005260000.0, 257, 0.00012361405, 0.011112925)\n",
      "(341652730000.0, 258, 0.000121707315, 0.011026307)\n",
      "(336414830000.0, 259, 0.00011984142, 0.0109406775)\n",
      "(331140960000.0, 260, 0.00011796269, 0.010855499)\n",
      "(326029700000.0, 261, 0.00011614191, 0.0107716145)\n",
      "(321000140000.0, 262, 0.00011435022, 0.010688076)\n",
      "(316026750000.0, 263, 0.00011257855, 0.010605591)\n",
      "(311243370000.0, 264, 0.00011087456, 0.010523693)\n",
      "(306448500000.0, 265, 0.000109166474, 0.010442641)\n",
      "(301773950000.0, 266, 0.000107501255, 0.0103620915)\n",
      "(297077640000.0, 267, 0.00010582829, 0.010282451)\n",
      "(292574950000.0, 268, 0.00010422429, 0.010203646)\n",
      "(288124900000.0, 269, 0.00010263904, 0.010125578)\n",
      "(283764260000.0, 270, 0.00010108564, 0.010048108)\n",
      "(279449440000.0, 271, 9.954857e-05, 0.009971485)\n",
      "(275175700000.0, 272, 9.802613e-05, 0.0098953955)\n",
      "(271023240000.0, 273, 9.65469e-05, 0.009820363)\n",
      "(266946770000.0, 274, 9.5094736e-05, 0.009745818)\n",
      "(262924300000.0, 275, 9.366181e-05, 0.009672145)\n",
      "(258962770000.0, 276, 9.2250586e-05, 0.009598931)\n",
      "(255063050000.0, 277, 9.086138e-05, 0.009526662)\n",
      "(251176120000.0, 278, 8.9476736e-05, 0.00945483)\n",
      "(247427060000.0, 279, 8.8141205e-05, 0.009383717)\n",
      "(243731370000.0, 280, 8.6824686e-05, 0.009313232)\n",
      "(240140700000.0, 281, 8.554558e-05, 0.009243474)\n",
      "(236555350000.0, 282, 8.4268366e-05, 0.009174429)\n",
      "(233046720000.0, 283, 8.301848e-05, 0.009106146)\n",
      "(229584390000.0, 284, 8.178509e-05, 0.009038318)\n",
      "(226154350000.0, 285, 8.056321e-05, 0.008971206)\n",
      "(222841540000.0, 286, 7.938308e-05, 0.008904553)\n",
      "(219491010000.0, 287, 7.8189514e-05, 0.008838257)\n",
      "(216246500000.0, 288, 7.703372e-05, 0.008772453)\n",
      "(213039120000.0, 289, 7.5891156e-05, 0.008707678)\n",
      "(209900160000.0, 290, 7.477296e-05, 0.008643383)\n",
      "(206860680000.0, 291, 7.36902e-05, 0.008579635)\n",
      "(203821420000.0, 292, 7.260752e-05, 0.00851619)\n",
      "(200831570000.0, 293, 7.154244e-05, 0.008453467)\n",
      "(197901760000.0, 294, 7.0498754e-05, 0.0083912825)\n",
      "(195011050000.0, 295, 6.9468995e-05, 0.008329539)\n",
      "(192138940000.0, 296, 6.844586e-05, 0.008268302)\n",
      "(189325200000.0, 297, 6.7443514e-05, 0.008207482)\n",
      "(186578900000.0, 298, 6.6465196e-05, 0.00814742)\n",
      "(183833310000.0, 299, 6.548714e-05, 0.008087551)\n",
      "(181180100000.0, 300, 6.454198e-05, 0.0080283005)\n",
      "(178525980000.0, 301, 6.35965e-05, 0.00796972)\n",
      "(175925280000.0, 302, 6.267005e-05, 0.007911709)\n",
      "(173407350000.0, 303, 6.1773084e-05, 0.007854025)\n",
      "(170857100000.0, 304, 6.0864608e-05, 0.007796923)\n",
      "(168367770000.0, 305, 5.997783e-05, 0.0077402)\n",
      "(165929290000.0, 306, 5.9109167e-05, 0.007683845)\n",
      "(163534980000.0, 307, 5.825624e-05, 0.00762801)\n",
      "(161176170000.0, 308, 5.741596e-05, 0.00757262)\n",
      "(158845520000.0, 309, 5.6585708e-05, 0.007517628)\n",
      "(156573910000.0, 310, 5.577649e-05, 0.007463018)\n",
      "(154287930000.0, 311, 5.4962155e-05, 0.0074091083)\n",
      "(152104700000.0, 312, 5.418442e-05, 0.0073554786)\n",
      "(149896430000.0, 313, 5.3397765e-05, 0.0073022055)\n",
      "(147740110000.0, 314, 5.2629617e-05, 0.0072495253)\n",
      "(145608640000.0, 315, 5.187032e-05, 0.0071970783)\n",
      "(143539110000.0, 316, 5.113309e-05, 0.0071452055)\n",
      "(141461830000.0, 317, 5.03931e-05, 0.007093716)\n",
      "(139434120000.0, 318, 4.9670765e-05, 0.0070424546)\n",
      "(137449730000.0, 319, 4.8963866e-05, 0.0069913864)\n",
      "(135426700000.0, 320, 4.82432e-05, 0.00694094)\n",
      "(133513600000.0, 321, 4.756169e-05, 0.006891028)\n",
      "(131605100000.0, 322, 4.6881825e-05, 0.0068412675)\n",
      "(129705230000.0, 323, 4.6205034e-05, 0.006792188)\n",
      "(127834200000.0, 324, 4.5538512e-05, 0.0067432756)\n",
      "(126025530000.0, 325, 4.489421e-05, 0.0066947937)\n",
      "(124216750000.0, 326, 4.4249864e-05, 0.006646389)\n",
      "(122421750000.0, 327, 4.361043e-05, 0.0065986076)\n",
      "(120653730000.0, 328, 4.298061e-05, 0.0065511265)\n",
      "(118932820000.0, 329, 4.2367566e-05, 0.006504038)\n",
      "(117220330000.0, 330, 4.175752e-05, 0.006457375)\n",
      "(115567480000.0, 331, 4.1168725e-05, 0.0064109964)\n",
      "(113882055000.0, 332, 4.0568324e-05, 0.0063648177)\n",
      "(112244875000.0, 333, 3.9985112e-05, 0.0063188323)\n"
     ]
    },
    {
     "name": "stdout",
     "output_type": "stream",
     "text": [
      "(110652604000.0, 334, 3.9417897e-05, 0.0062733903)\n",
      "(109066800000.0, 335, 3.885298e-05, 0.0062282966)\n",
      "(107500310000.0, 336, 3.8294947e-05, 0.0061833533)\n",
      "(105963995000.0, 337, 3.7747668e-05, 0.00613884)\n",
      "(104456050000.0, 338, 3.721049e-05, 0.0060948012)\n",
      "(102949310000.0, 339, 3.667374e-05, 0.0060509117)\n",
      "(101491750000.0, 340, 3.6154517e-05, 0.006007369)\n",
      "(100023450000.0, 341, 3.563146e-05, 0.0059641404)\n",
      "(98578150000.0, 342, 3.51166e-05, 0.00592105)\n",
      "(97169195000.0, 343, 3.4614684e-05, 0.0058783484)\n",
      "(95782640000.0, 344, 3.4120752e-05, 0.005836031)\n",
      "(94403480000.0, 345, 3.362945e-05, 0.005793534)\n",
      "(93054600000.0, 346, 3.314894e-05, 0.005751801)\n",
      "(91707220000.0, 347, 3.2668962e-05, 0.0057102093)\n",
      "(90372860000.0, 348, 3.219362e-05, 0.0056689205)\n",
      "(89067610000.0, 349, 3.172865e-05, 0.00562799)\n",
      "(87778950000.0, 350, 3.126959e-05, 0.0055873333)\n",
      "(86515835000.0, 351, 3.081963e-05, 0.0055469857)\n",
      "(85259340000.0, 352, 3.0372024e-05, 0.005506523)\n",
      "(84028120000.0, 353, 2.9933428e-05, 0.005466747)\n",
      "(82824310000.0, 354, 2.9504592e-05, 0.0054271203)\n",
      "(81630550000.0, 355, 2.9079338e-05, 0.0053878315)\n",
      "(80436716000.0, 356, 2.8654056e-05, 0.005348599)\n",
      "(79268290000.0, 357, 2.8237828e-05, 0.005309694)\n",
      "(78128050000.0, 358, 2.7831637e-05, 0.0052712453)\n",
      "(77003070000.0, 359, 2.7430886e-05, 0.005233018)\n",
      "(75892376000.0, 360, 2.7035221e-05, 0.005194887)\n",
      "(74796520000.0, 361, 2.6644846e-05, 0.0051571694)\n",
      "(73721000000.0, 362, 2.6261712e-05, 0.005119496)\n",
      "(72624490000.0, 363, 2.5871099e-05, 0.005082136)\n",
      "(71564894000.0, 364, 2.5493639e-05, 0.0050452524)\n",
      "(70532450000.0, 365, 2.512585e-05, 0.005008293)\n",
      "(69508890000.0, 366, 2.4761226e-05, 0.004971624)\n",
      "(68498362000.0, 367, 2.4401244e-05, 0.0049350965)\n",
      "(67491987000.0, 368, 2.4042743e-05, 0.0048991307)\n",
      "(66516530000.0, 369, 2.3695255e-05, 0.004863194)\n",
      "(65527600000.0, 370, 2.3342967e-05, 0.0048273816)\n",
      "(64575095000.0, 371, 2.3003655e-05, 0.004791972)\n",
      "(63621590000.0, 372, 2.2663988e-05, 0.004756798)\n",
      "(62685790000.0, 373, 2.2330625e-05, 0.004721616)\n",
      "(61765394000.0, 374, 2.2002752e-05, 0.0046867644)\n",
      "(60854268000.0, 375, 2.1678181e-05, 0.0046521123)\n",
      "(59960308000.0, 376, 2.1359725e-05, 0.0046176785)\n",
      "(59060440000.0, 377, 2.1039164e-05, 0.004583349)\n",
      "(58185785000.0, 378, 2.0727584e-05, 0.0045494214)\n",
      "(57323320000.0, 379, 2.0420348e-05, 0.0045158076)\n",
      "(56483254000.0, 380, 2.012109e-05, 0.0044824155)\n",
      "(55647840000.0, 381, 1.9823488e-05, 0.0044489703)\n",
      "(54833140000.0, 382, 1.9533269e-05, 0.004415836)\n",
      "(54020645000.0, 383, 1.9243831e-05, 0.004382931)\n",
      "(53227872000.0, 384, 1.8961422e-05, 0.0043502627)\n",
      "(52444623000.0, 385, 1.8682404e-05, 0.004317836)\n",
      "(51663663000.0, 386, 1.8404202e-05, 0.0042856713)\n",
      "(50889880000.0, 387, 1.8128556e-05, 0.0042536636)\n",
      "(50122510000.0, 388, 1.7855195e-05, 0.0042215944)\n",
      "(49382363000.0, 389, 1.7591532e-05, 0.0041898116)\n",
      "(48635863000.0, 390, 1.7325605e-05, 0.0041583274)\n",
      "(47908164000.0, 391, 1.7066377e-05, 0.00412705)\n",
      "(47181955000.0, 392, 1.6807679e-05, 0.004096098)\n",
      "(46473430000.0, 393, 1.655528e-05, 0.0040651616)\n",
      "(45770596000.0, 394, 1.6304908e-05, 0.004034178)\n",
      "(45085737000.0, 395, 1.606094e-05, 0.004003577)\n",
      "(44406387000.0, 396, 1.5818934e-05, 0.003973118)\n",
      "(43726176000.0, 397, 1.5576623e-05, 0.0039428533)\n",
      "(43060834000.0, 398, 1.5339607e-05, 0.0039127893)\n",
      "(42410960000.0, 399, 1.5108101e-05, 0.003883026)\n",
      "(41772143000.0, 400, 1.4880535e-05, 0.0038534757)\n",
      "(41135796000.0, 401, 1.4653849e-05, 0.0038238282)\n",
      "(40509920000.0, 402, 1.44308915e-05, 0.0037945388)\n",
      "(39894606000.0, 403, 1.4211698e-05, 0.0037654194)\n",
      "(39271772000.0, 404, 1.3989826e-05, 0.0037362326)\n",
      "(38673342000.0, 405, 1.37766465e-05, 0.0037074315)\n",
      "(38075167000.0, 406, 1.3563557e-05, 0.0036789426)\n",
      "(37484340000.0, 407, 1.3353086e-05, 0.0036502879)\n",
      "(36911346000.0, 408, 1.3148968e-05, 0.0036218541)\n",
      "(36336857000.0, 409, 1.2944317e-05, 0.0035937151)\n",
      "(35771750000.0, 410, 1.27430085e-05, 0.0035657478)\n",
      "(35213545000.0, 411, 1.2544159e-05, 0.0035378258)\n",
      "(34659066000.0, 412, 1.2346636e-05, 0.0035100603)\n",
      "(34125177000.0, 413, 1.2156448e-05, 0.003482543)\n",
      "(33585338000.0, 414, 1.1964141e-05, 0.0034550542)\n",
      "(33054005000.0, 415, 1.1774863e-05, 0.0034277206)\n",
      "(32538348000.0, 416, 1.159117e-05, 0.0034005966)\n",
      "(32024422000.0, 417, 1.1408094e-05, 0.0033737242)\n",
      "(31513154000.0, 418, 1.1225964e-05, 0.0033469638)\n",
      "(31017060000.0, 419, 1.104924e-05, 0.003320366)\n",
      "(30524742000.0, 420, 1.0873861e-05, 0.003293765)\n",
      "(30041980000.0, 421, 1.0701887e-05, 0.0032674277)\n",
      "(29564103000.0, 422, 1.0531652e-05, 0.003241301)\n",
      "(29091750000.0, 423, 1.0363385e-05, 0.0032153819)\n",
      "(28630147000.0, 424, 1.0198948e-05, 0.003189511)\n",
      "(28164530000.0, 425, 1.0033081e-05, 0.0031638353)\n",
      "(27716670000.0, 426, 9.873539e-06, 0.003138064)\n"
     ]
    }
   ],
   "source": [
    "sess = tf.Session()\n",
    "sess.run(tf.global_variables_initializer())\n",
    "log = []\n",
    "#for i in range(1000):\n",
    "gradnorm_val = sess.run([gradnorm])\n",
    "i = 0\n",
    "while gradnorm_val > eps:    \n",
    "    i = i + 1\n",
    "    F_v, rel_error1_v, gradnorm_val,_ = sess.run([F, rel_error1, gradnorm, train_step.op])\n",
    "    print (F_v, i, gradnorm_val, rel_error1_v)\n",
    "    log.append(F_v)"
   ]
  },
  {
   "cell_type": "code",
   "execution_count": null,
   "metadata": {
    "collapsed": true
   },
   "outputs": [],
   "source": []
  },
  {
   "cell_type": "code",
   "execution_count": 19,
   "metadata": {
    "collapsed": true
   },
   "outputs": [],
   "source": [
    "estimated_val = sess.run(t3f.full(X))"
   ]
  },
  {
   "cell_type": "code",
   "execution_count": 20,
   "metadata": {
    "collapsed": true
   },
   "outputs": [],
   "source": [
    "def relative_error(x_hat,x_true):\n",
    "    percent_error = np.linalg.norm(x_hat - x_true) / np.linalg.norm(x_true)\n",
    "    return percent_error"
   ]
  },
  {
   "cell_type": "code",
   "execution_count": 21,
   "metadata": {
    "collapsed": true
   },
   "outputs": [],
   "source": [
    "rel_error = relative_error(estimated_val,ground_truth)"
   ]
  },
  {
   "cell_type": "code",
   "execution_count": 22,
   "metadata": {},
   "outputs": [
    {
     "data": {
      "text/plain": [
       "0.004320675"
      ]
     },
     "execution_count": 22,
     "metadata": {},
     "output_type": "execute_result"
    }
   ],
   "source": [
    "rel_error"
   ]
  },
  {
   "cell_type": "code",
   "execution_count": 23,
   "metadata": {
    "collapsed": true
   },
   "outputs": [],
   "source": [
    "x_miss_img = mt.reconstruct_image_affine(x_true_org, x_train)"
   ]
  },
  {
   "cell_type": "code",
   "execution_count": 24,
   "metadata": {
    "collapsed": true
   },
   "outputs": [],
   "source": [
    "x_miss = image.index_img(x_miss_img,1)"
   ]
  },
  {
   "cell_type": "code",
   "execution_count": 25,
   "metadata": {},
   "outputs": [
    {
     "data": {
      "image/png": "[encoded data removed]",
      "text/plain": [
       "<matplotlib.figure.Figure at 0x1828bd450>"
      ]
     },
     "metadata": {},
     "output_type": "display_data"
    }
   ],
   "source": [
    "x_miss_image = plotting.plot_epi(x_miss, bg_img=None,black_bg=True, cmap='jet', cut_coords=None) "
   ]
  },
  {
   "cell_type": "code",
   "execution_count": 26,
   "metadata": {},
   "outputs": [
    {
     "data": {
      "image/png": "[encoded data removed]",
      "text/plain": [
       "<matplotlib.figure.Figure at 0x15d7325d0>"
      ]
     },
     "metadata": {},
     "output_type": "display_data"
    }
   ],
   "source": [
    "x_hat_img = mt.reconstruct_image_affine(x_true_org, estimated_val)\n",
    "x_hat = image.index_img(x_hat_img,1)\n",
    "recovered_image = plotting.plot_epi(x_hat, bg_img=None,black_bg=True, cmap='jet', cut_coords=None)"
   ]
  },
  {
   "cell_type": "code",
   "execution_count": 27,
   "metadata": {},
   "outputs": [
    {
     "data": {
      "image/png": "[encoded data removed]",
      "text/plain": [
       "<matplotlib.figure.Figure at 0x15c0ed7d0>"
      ]
     },
     "metadata": {},
     "output_type": "display_data"
    }
   ],
   "source": [
    "x_true_org_img = image.index_img(x_true_org,1)\n",
    "org_image = plotting.plot_epi(x_true_org_img, bg_img=None,black_bg=True, cmap='jet', cut_coords=None)"
   ]
  },
  {
   "cell_type": "code",
   "execution_count": null,
   "metadata": {
    "collapsed": true
   },
   "outputs": [],
   "source": []
  },
  {
   "cell_type": "code",
   "execution_count": null,
   "metadata": {
    "collapsed": true
   },
   "outputs": [],
   "source": []
  },
  {
   "cell_type": "code",
   "execution_count": null,
   "metadata": {
    "collapsed": true
   },
   "outputs": [],
   "source": []
  }
 ],
 "metadata": {
  "kernelspec": {
   "display_name": "Python 2",
   "language": "python",
   "name": "python2"
  },
  "language_info": {
   "codemirror_mode": {
    "name": "ipython",
    "version": 2
   },
   "file_extension": ".py",
   "mimetype": "text/x-python",
   "name": "python",
   "nbconvert_exporter": "python",
   "pygments_lexer": "ipython2",
   "version": "2.7.13"
  }
 },
 "nbformat": 4,
 "nbformat_minor": 2
}
