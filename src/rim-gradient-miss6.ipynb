{
 "cells": [
  {
   "cell_type": "code",
   "execution_count": 1,
   "metadata": {},
   "outputs": [
    {
     "name": "stderr",
     "output_type": "stream",
     "text": [
      "/usr/local/lib/python2.7/site-packages/matplotlib/__init__.py:1405: UserWarning: \n",
      "This call to matplotlib.use() has no effect because the backend has already\n",
      "been chosen; matplotlib.use() must be called *before* pylab, matplotlib.pyplot,\n",
      "or matplotlib.backends is imported for the first time.\n",
      "\n",
      "  warnings.warn(_use_error_msg)\n"
     ]
    }
   ],
   "source": [
    "import tensorflow as tf\n",
    "import numpy as np\n",
    "import t3f\n",
    "tf.set_random_seed(0)\n",
    "np.random.seed(0)\n",
    "%matplotlib inline\n",
    "import matplotlib.pyplot as plt\n",
    "import metric_util as mt\n",
    "import data_util as du\n",
    "from t3f import shapes\n",
    "from nilearn import image\n",
    "from skimage.measure import compare_ssim as ssim\n",
    "from tensorflow.python.util import nest\n",
    "import copy\n",
    "from nilearn import plotting\n",
    "from t3f import ops\n",
    "import mri_draw_utils as mrd\n",
    "from t3f import initializers\n",
    "from t3f import approximate"
   ]
  },
  {
   "cell_type": "code",
   "execution_count": 2,
   "metadata": {
    "collapsed": true
   },
   "outputs": [],
   "source": [
    "#sess = tf.InteractiveSession()"
   ]
  },
  {
   "cell_type": "code",
   "execution_count": 3,
   "metadata": {
    "collapsed": true
   },
   "outputs": [],
   "source": [
    "def frobenius_norm_tf_squared(x):\n",
    "    return tf.reduce_sum(x ** 2)"
   ]
  },
  {
   "cell_type": "code",
   "execution_count": 4,
   "metadata": {
    "collapsed": true
   },
   "outputs": [],
   "source": [
    "def frobenius_norm_tf(x):\n",
    "    return tf.reduce_sum(x ** 2) ** 0.5"
   ]
  },
  {
   "cell_type": "code",
   "execution_count": 5,
   "metadata": {
    "collapsed": true
   },
   "outputs": [],
   "source": [
    "def relative_error1(x_hat,x_true):\n",
    "    percent_error = frobenius_norm_tf(x_hat - x_true) / frobenius_norm_tf(x_true)\n",
    "    return percent_error"
   ]
  },
  {
   "cell_type": "code",
   "execution_count": 6,
   "metadata": {
    "collapsed": true
   },
   "outputs": [],
   "source": [
    "def innerProduct(x, y):\n",
    "    result = tf.reduce_sum(tf.multiply(x, y))\n",
    "    return result"
   ]
  },
  {
   "cell_type": "code",
   "execution_count": 7,
   "metadata": {
    "collapsed": true
   },
   "outputs": [],
   "source": [
    "def compute_step_size(n_omega, grad):\n",
    "    result = innerProduct(n_omega,grad)/(innerProduct(n_omega, n_omega))\n",
    "    return result"
   ]
  },
  {
   "cell_type": "code",
   "execution_count": 8,
   "metadata": {
    "collapsed": true
   },
   "outputs": [],
   "source": [
    "def draw(omega, x_true, x_hat, rel_error):\n",
    "    images_folder = \"/work/scratch/tt1\"\n",
    "    ten_ones = np.ones_like(omega)\n",
    "    x_reconstr1 = mt.reconstruct2(x_hat,ground_truth, omega)\n",
    "    x_hat_img = mt.reconstruct_image_affine(x_true_org, x_reconstr1)\n",
    "    x_hat_est = image.index_img(x_hat_img,1)\n",
    "    \n",
    "    x_true_org_img = image.index_img(x_true,1)\n",
    "    x_miss_img = mt.reconstruct_image_affine(x_true_org, x_train)\n",
    "    x_miss = image.index_img(x_miss_img,1)\n",
    "    mrd.draw_original_vs_reconstructed_rim(x_true_org_img,x_hat_est, x_miss, \"Rim Completion\",\n",
    "                                             rel_error, observed_ratio, coord=None, folder=images_folder)"
   ]
  },
  {
   "cell_type": "code",
   "execution_count": 9,
   "metadata": {},
   "outputs": [
    {
     "name": "stdout",
     "output_type": "stream",
     "text": [
      "Subject Path: /work/pl/sch/analysis/data/COBRE001/swaAMAYER+cobre01_63001+M87100944+20110309at135133+RSTpre_V01_R01+CM.nii\n"
     ]
    }
   ],
   "source": [
    "subject_scan_path = du.get_full_path_subject1()\n",
    "print \"Subject Path: \" + str(subject_scan_path)\n",
    "x_true_org = mt.read_image_abs_path(subject_scan_path)\n"
   ]
  },
  {
   "cell_type": "code",
   "execution_count": null,
   "metadata": {
    "collapsed": true
   },
   "outputs": [],
   "source": []
  },
  {
   "cell_type": "code",
   "execution_count": 10,
   "metadata": {
    "collapsed": true
   },
   "outputs": [],
   "source": [
    "observed_ratio = 0.4\n",
    "x_true_img = np.array(x_true_org.get_data())\n",
    "mask_indices = (np.random.rand(x_true_img.shape[0],x_true_img.shape[1],x_true_img.shape[2], x_true_img.shape[3]) < observed_ratio).astype('int') \n",
    "ten_ones = np.ones_like(mask_indices)\n",
    "x_train = copy.deepcopy(x_true_img)\n",
    "x_train[mask_indices==0] = 0.0\n",
    "x_train[mask_indices == 0] = np.mean(x_train[mask_indices == 1])\n",
    "#x_train[mask_indices == 0] = np.mean(x_train[mask_indices == 1])\n",
    "\n",
    "x_init = copy.deepcopy(x_train)\n",
    "#shape = (1, 53, 63, 63, 1)\n",
    "#x_init_tf = t3f.random_tensor(shape, tt_rank=63)\n",
    "\n",
    "ground_truth = copy.deepcopy(x_true_img)\n",
    "\n",
    "sparse_observation = copy.deepcopy(ground_truth)\n",
    "sparse_observation[mask_indices==0] = 0.0"
   ]
  },
  {
   "cell_type": "code",
   "execution_count": 11,
   "metadata": {
    "collapsed": true
   },
   "outputs": [],
   "source": [
    "ten_ones = np.ones_like(mask_indices)\n"
   ]
  },
  {
   "cell_type": "code",
   "execution_count": 12,
   "metadata": {},
   "outputs": [
    {
     "name": "stdout",
     "output_type": "stream",
     "text": [
      "47395410.0\n"
     ]
    }
   ],
   "source": [
    "norm_sparse_observation = np.linalg.norm(sparse_observation)\n",
    "print norm_sparse_observation"
   ]
  },
  {
   "cell_type": "code",
   "execution_count": 13,
   "metadata": {},
   "outputs": [
    {
     "name": "stdout",
     "output_type": "stream",
     "text": [
      "[1, 53, 1, 1, 1] 0 (1, 53, 53)\n",
      "[1, 53, 63, 1, 1] 1 (53, 63, 63)\n",
      "[1, 53, 63, 63, 1] 2 (63, 46, 63)\n",
      "ranks: [1, 53, 63, 63, 1]\n"
     ]
    }
   ],
   "source": [
    "mask_indices_tf = t3f.to_tt_tensor(mask_indices.astype('float32'), max_tt_rank=63)"
   ]
  },
  {
   "cell_type": "code",
   "execution_count": 14,
   "metadata": {
    "collapsed": true
   },
   "outputs": [],
   "source": [
    "x_miss_img = mt.reconstruct_image_affine(x_true_org, x_train)"
   ]
  },
  {
   "cell_type": "code",
   "execution_count": 15,
   "metadata": {
    "collapsed": true
   },
   "outputs": [],
   "source": [
    "x_miss = image.index_img(x_miss_img,1)"
   ]
  },
  {
   "cell_type": "code",
   "execution_count": 16,
   "metadata": {},
   "outputs": [
    {
     "data": {
      "image/png": "[encoded data removed]",
      "text/plain": [
       "<matplotlib.figure.Figure at 0x103a268d0>"
      ]
     },
     "metadata": {},
     "output_type": "display_data"
    }
   ],
   "source": [
    "x_miss_image = plotting.plot_epi(x_miss, bg_img=None,black_bg=True, cmap='jet', cut_coords=None) "
   ]
  },
  {
   "cell_type": "code",
   "execution_count": 17,
   "metadata": {},
   "outputs": [
    {
     "name": "stdout",
     "output_type": "stream",
     "text": [
      "('Saving figure', '/work/scratch/tt1/missing_ratio_60.00.png')\n",
      "Called from mrd\n"
     ]
    }
   ],
   "source": [
    "images_folder = \"/work/scratch/tt1\"\n",
    "mrd.draw_original_vs_reconstructed_rim(image.index_img(x_true_org,1),image.index_img(x_miss_img,1), image.index_img(x_miss_img,1), \"Rim Completion\",\n",
    "                                             observed_ratio, observed_ratio, coord=None, folder=images_folder)"
   ]
  },
  {
   "cell_type": "code",
   "execution_count": 18,
   "metadata": {},
   "outputs": [
    {
     "name": "stdout",
     "output_type": "stream",
     "text": [
      "[1, 53, 1, 1, 1] 0 (1, 53, 53)\n",
      "[1, 53, 63, 1, 1] 1 (53, 63, 63)\n",
      "[1, 53, 63, 63, 1] 2 (63, 46, 63)\n",
      "ranks: [1, 53, 63, 63, 1]\n"
     ]
    }
   ],
   "source": [
    "ground_truth_tf = t3f.to_tt_tensor(ground_truth, max_tt_rank=63)"
   ]
  },
  {
   "cell_type": "code",
   "execution_count": 19,
   "metadata": {
    "collapsed": true
   },
   "outputs": [],
   "source": [
    "A = t3f.get_variable('A', initializer=ground_truth_tf, trainable=False)"
   ]
  },
  {
   "cell_type": "code",
   "execution_count": 20,
   "metadata": {
    "collapsed": true
   },
   "outputs": [],
   "source": [
    "ground_truth = tf.get_variable('ground_truth', initializer=ground_truth, trainable=False)\n",
    "sparsity_mask = tf.get_variable('sparsity_mask', initializer=mask_indices, trainable=False)\n",
    "sparsity_mask = tf.cast(sparsity_mask,tf.float32)\n",
    "sparse_observation = ground_truth * sparsity_mask"
   ]
  },
  {
   "cell_type": "code",
   "execution_count": 21,
   "metadata": {
    "collapsed": true
   },
   "outputs": [],
   "source": [
    "#sparsity_mask = t3f.get_variable('sparsity_mask', initializer=mask_indices_tf, trainable=False)\n",
    "#sparsity_mask = t3f.cast(sparsity_mask, tf.float32)\n",
    "#sparse_observation_tf = t3f.to_tt_tensor(sparse_observation, max_tt_rank=63)\n",
    "#sparse_observation_tf3 = t3f.get_variable('sparse_observation_tf', initializer=sparse_observation_tf, trainable=False)"
   ]
  },
  {
   "cell_type": "code",
   "execution_count": 22,
   "metadata": {},
   "outputs": [
    {
     "name": "stdout",
     "output_type": "stream",
     "text": [
      "[1, 53, 1, 1, 1] 0 (1, 53, 53)\n",
      "[1, 53, 63, 1, 1] 1 (53, 63, 63)\n",
      "[1, 53, 63, 63, 1] 2 (63, 46, 63)\n",
      "ranks: [1, 53, 63, 63, 1]\n"
     ]
    }
   ],
   "source": [
    "x_train_tf = t3f.to_tt_tensor(x_init, max_tt_rank=63)"
   ]
  },
  {
   "cell_type": "code",
   "execution_count": null,
   "metadata": {
    "collapsed": true
   },
   "outputs": [],
   "source": []
  },
  {
   "cell_type": "code",
   "execution_count": 23,
   "metadata": {
    "collapsed": true
   },
   "outputs": [],
   "source": [
    "normAOmegavar = tf.get_variable('normAOmega', initializer=norm_sparse_observation, trainable=False)"
   ]
  },
  {
   "cell_type": "code",
   "execution_count": 24,
   "metadata": {
    "collapsed": true
   },
   "outputs": [],
   "source": [
    "X = t3f.get_variable('X', initializer=x_train_tf)"
   ]
  },
  {
   "cell_type": "code",
   "execution_count": 25,
   "metadata": {},
   "outputs": [
    {
     "name": "stdout",
     "output_type": "stream",
     "text": [
      "A Tensor Train variable of shape (53, 63, 46, 144), TT-ranks: (1, 53, 63, 63, 1)\n"
     ]
    }
   ],
   "source": [
    "print X"
   ]
  },
  {
   "cell_type": "code",
   "execution_count": 26,
   "metadata": {
    "collapsed": true
   },
   "outputs": [],
   "source": [
    "def train_it_rel_cost(cost_hist, k):\n",
    "    res = np.abs(cost_hist[k] - cost_hist[k-1])/np.abs(cost_hist[k])\n",
    "    return res"
   ]
  },
  {
   "cell_type": "code",
   "execution_count": 27,
   "metadata": {
    "collapsed": true
   },
   "outputs": [],
   "source": [
    "counter = tf.get_variable('counter', initializer=0)"
   ]
  },
  {
   "cell_type": "code",
   "execution_count": 28,
   "metadata": {
    "collapsed": true
   },
   "outputs": [],
   "source": [
    "one = tf.constant(1)\n",
    "zero_point1 = tf.constant(0.1)"
   ]
  },
  {
   "cell_type": "code",
   "execution_count": 29,
   "metadata": {
    "collapsed": true
   },
   "outputs": [],
   "source": [
    "tt_zeros = initializers.tensor_zeros([53, 63, 46, 144])"
   ]
  },
  {
   "cell_type": "code",
   "execution_count": 30,
   "metadata": {
    "collapsed": true
   },
   "outputs": [],
   "source": [
    "#eta_t3f_old = t3f.get_variable('eta_t3f_old', initializer=tt_zeros)\n",
    "#grad_t3f_old = t3f.get_variable('grad_t3f_old', initializer=tt_zeros)"
   ]
  },
  {
   "cell_type": "code",
   "execution_count": 31,
   "metadata": {
    "collapsed": true
   },
   "outputs": [],
   "source": [
    "eta_old = tf.get_variable('eta_old', shape = (53, 63, 46, 144), validate_shape=False)\n",
    "grad_old = tf.get_variable('grad_old', shape = (53, 63, 46, 144), validate_shape=False)"
   ]
  },
  {
   "cell_type": "code",
   "execution_count": 32,
   "metadata": {
    "collapsed": true
   },
   "outputs": [],
   "source": [
    "one = tf.constant(1)\n",
    "zero_point1 = tf.constant(0.1)"
   ]
  },
  {
   "cell_type": "code",
   "execution_count": null,
   "metadata": {
    "collapsed": true
   },
   "outputs": [],
   "source": []
  },
  {
   "cell_type": "code",
   "execution_count": 33,
   "metadata": {
    "collapsed": true
   },
   "outputs": [],
   "source": [
    "# Algorithm\n",
    "#grad_full = (t3f.full(X)*t3f.full(sparse_observation_tf3) - t3f.full(sparse_observation_tf3))\n",
    "#counter_step = tf.assign(counter, counter + 1)\n",
    "\n",
    "#grad_trans = t3f.riemannian.project(grad_t3f_old, X)\n",
    "#eta_trans = t3f.riemannian.project(eta_t3f_old, X)\n",
    "    \n",
    "#grad_full = sparsity_mask * t3f.full(X) - sparse_observation\n",
    "#grad_t3f = t3f.to_tt_tensor(grad_full, max_tt_rank=63)\n",
    "\n",
    "#loss = 0.5 * t3f.frobenius_norm_squared(grad_t3f)\n",
    "#gradnorm_omega = t3f.frobenius_norm(grad_t3f)/(normAOmegavar)\n",
    "\n",
    "#riemannian_grad = t3f.riemannian.project(grad_t3f, X)\n",
    "\n",
    "\n",
    "#eta_omega = sparsity_mask * t3f.full(-riemannian_grad)\n",
    "#alpha = compute_step_size(eta_omega, grad_full)\n",
    "\n",
    "\n",
    "\n",
    "#riemannian_grad_norm = t3f.flat_inner(riemannian_grad, riemannian_grad)\n",
    "\n",
    "\n",
    "\n",
    "#rel_error1 = relative_error1(t3f.full(X), t3f.full(sparse_observation))\n",
    "\n",
    "\n"
   ]
  },
  {
   "cell_type": "code",
   "execution_count": 34,
   "metadata": {
    "collapsed": true
   },
   "outputs": [],
   "source": [
    "eps = 1e-5\n",
    "epsilon_train=1e-5"
   ]
  },
  {
   "cell_type": "code",
   "execution_count": 35,
   "metadata": {
    "collapsed": true
   },
   "outputs": [],
   "source": [
    "#print grad_full"
   ]
  },
  {
   "cell_type": "code",
   "execution_count": 36,
   "metadata": {
    "collapsed": true
   },
   "outputs": [],
   "source": [
    "#print grad_t3f"
   ]
  },
  {
   "cell_type": "code",
   "execution_count": 37,
   "metadata": {},
   "outputs": [
    {
     "name": "stdout",
     "output_type": "stream",
     "text": [
      "1e-05\n"
     ]
    }
   ],
   "source": [
    "print eps"
   ]
  },
  {
   "cell_type": "code",
   "execution_count": 38,
   "metadata": {
    "collapsed": true
   },
   "outputs": [],
   "source": [
    "#alpha = 0.3\n"
   ]
  },
  {
   "cell_type": "code",
   "execution_count": 39,
   "metadata": {
    "collapsed": true
   },
   "outputs": [],
   "source": [
    "#sess = tf.Session()\n",
    "#sess.run(tf.global_variables_initializer())"
   ]
  },
  {
   "cell_type": "code",
   "execution_count": null,
   "metadata": {
    "collapsed": true
   },
   "outputs": [],
   "source": []
  },
  {
   "cell_type": "code",
   "execution_count": null,
   "metadata": {
    "collapsed": true
   },
   "outputs": [],
   "source": [
    "\n"
   ]
  },
  {
   "cell_type": "code",
   "execution_count": null,
   "metadata": {
    "collapsed": true
   },
   "outputs": [],
   "source": []
  },
  {
   "cell_type": "code",
   "execution_count": null,
   "metadata": {
    "collapsed": true
   },
   "outputs": [],
   "source": []
  },
  {
   "cell_type": "code",
   "execution_count": 40,
   "metadata": {
    "collapsed": true
   },
   "outputs": [],
   "source": [
    "#first step"
   ]
  },
  {
   "cell_type": "code",
   "execution_count": 41,
   "metadata": {},
   "outputs": [
    {
     "name": "stdout",
     "output_type": "stream",
     "text": [
      "[1, 53, 1, 1, 1] 0 (1, 53, 53)\n",
      "[1, 53, 63, 1, 1] 1 (53, 63, 63)\n",
      "[1, 53, 63, 63, 1] 2 (63, 46, 63)\n",
      "ranks: [1, 53, 63, 63, 1]\n",
      "Max_TT rank63\n",
      "[1, 53, 63, 63, 1]\n",
      "Max_TT rank63\n",
      "[1, 53, 63, 63, 1]\n"
     ]
    }
   ],
   "source": [
    "grad_full_0 = sparsity_mask * t3f.full(X) - sparse_observation\n",
    "grad_t3f_0 = t3f.to_tt_tensor(grad_full_0, max_tt_rank=63)\n",
    "\n",
    "gradnorm_omega_0 = t3f.frobenius_norm(grad_t3f_0)/(normAOmegavar)\n",
    "riemannian_grad_0 = t3f.riemannian.project(grad_t3f_0, X)\n",
    "riemannian_grad_0 = t3f.round(riemannian_grad_0, max_tt_rank =63, epsilon = 1e-15)\n",
    "\n",
    "grad_t3f_old = t3f.get_variable('grad_t3f_old', initializer=riemannian_grad_0)\n",
    "\n",
    "#grad_t3f_old_op = t3f.assign(grad_t3f_old, riemannian_grad_0, validate_shape=False)\n",
    "riemannian_grad_full_0 = t3f.full(riemannian_grad_0)\n",
    "riemannian_grad_init_op = tf.assign(grad_old,riemannian_grad_full_0)\n",
    "\n",
    "eta_t3f_0 = -riemannian_grad_0\n",
    "eta_t3f_old = t3f.get_variable('eta_t3f_old', initializer=eta_t3f_0)\n",
    "\n",
    "eta_0 = -riemannian_grad_init_op\n",
    "eta_omega_0 = sparsity_mask * t3f.full(-riemannian_grad_0)\n",
    "\n",
    "alpha_0 = compute_step_size(eta_omega_0, riemannian_grad_init_op)\n",
    "eta_op_0 = tf.assign(eta_old,eta_0, validate_shape=False)\n",
    "\n",
    "train_step_0 = t3f.assign(X, t3f.round(X + alpha_0 * eta_t3f_0, max_tt_rank=63))\n",
    "\n"
   ]
  },
  {
   "cell_type": "code",
   "execution_count": 42,
   "metadata": {},
   "outputs": [
    {
     "name": "stdout",
     "output_type": "stream",
     "text": [
      "Rim 0:A Tensor Train of shape (53, 63, 46, 144), TT-ranks: (1, 53, 63, 63, 1)\n"
     ]
    }
   ],
   "source": [
    "print \"Rim 0:\" + str(riemannian_grad_0)"
   ]
  },
  {
   "cell_type": "code",
   "execution_count": 43,
   "metadata": {},
   "outputs": [
    {
     "name": "stdout",
     "output_type": "stream",
     "text": [
      "Eta 0: A Tensor Train of shape (53, 63, 46, 144), TT-ranks: (1, 53, 63, 63, 1)\n"
     ]
    }
   ],
   "source": [
    "print \"Eta 0: \" + str(eta_t3f_0)"
   ]
  },
  {
   "cell_type": "code",
   "execution_count": 44,
   "metadata": {},
   "outputs": [],
   "source": [
    "#tt = t3f.round(eta_t3f_old, max_tt_rank =63, epsilon = 1e-15"
   ]
  },
  {
   "cell_type": "code",
   "execution_count": null,
   "metadata": {},
   "outputs": [],
   "source": []
  },
  {
   "cell_type": "code",
   "execution_count": null,
   "metadata": {},
   "outputs": [],
   "source": []
  },
  {
   "cell_type": "code",
   "execution_count": 45,
   "metadata": {},
   "outputs": [],
   "source": [
    "# new\n",
    "#t3f.assign(eta_t3f_old, t3f.round(eta_t3f_old, max_tt_rank =63, epsilon = 1e-15))\n"
   ]
  },
  {
   "cell_type": "code",
   "execution_count": 46,
   "metadata": {},
   "outputs": [
    {
     "name": "stdout",
     "output_type": "stream",
     "text": [
      "[1, 53, 1, 1, 1] 0 (1, 53, 53)\n",
      "[1, 53, 63, 1, 1] 1 (53, 63, 63)\n",
      "[1, 53, 63, 63, 1] 2 (63, 46, 63)\n",
      "ranks: [1, 53, 63, 63, 1]\n",
      "Max_TT rank63\n",
      "[1, 53, 63, 63, 1]\n",
      "Rim Grad shape: A Tensor Train of shape (53, 63, 46, 144), TT-ranks: (1, 53, 63, 63, 1)\n",
      "eta_trans: A Tensor Train of shape (53, 63, 46, 144), TT-ranks: (1, 106, 126, 126, 1)\n",
      "Max_TT rank63\n",
      "[1, 53, 63, 63, 1]\n",
      "eta: A Tensor Train of shape (53, 63, 46, 144), TT-ranks: (1, 53, 63, 63, 1)\n"
     ]
    }
   ],
   "source": [
    "counter_step = tf.assign(counter, counter + 1)\n",
    "\n",
    "grad_trans = t3f.riemannian.project(grad_t3f_old, X)\n",
    "eta_trans = t3f.riemannian.project(eta_t3f_old, X)\n",
    "    \n",
    "grad_full = sparsity_mask * t3f.full(X) - sparse_observation\n",
    "grad_t3f = t3f.to_tt_tensor(grad_full, max_tt_rank=63)\n",
    "\n",
    "loss = 0.5 * t3f.frobenius_norm_squared(grad_t3f)\n",
    "gradnorm_omega = t3f.frobenius_norm(grad_t3f)/(normAOmegavar)\n",
    "\n",
    "riemannian_grad =  t3f.round(t3f.riemannian.project(grad_t3f, X),max_tt_rank =63)\n",
    "#riemannian_grad = t3f.round(riemannian_grad, max_tt_rank =63, epsilon = 1e-15)\n",
    "\n",
    "inner_product_rim_grad = t3f.flat_inner(riemannian_grad, riemannian_grad)\n",
    "ip_xitrans_xi = t3f.flat_inner(grad_trans,riemannian_grad)\n",
    "theta = ip_xitrans_xi / inner_product_rim_grad\n",
    "\n",
    "# compute beta\n",
    "inner_product_rim_grad_old = t3f.flat_inner(grad_t3f_old, grad_t3f_old)\n",
    "beta = tf.maximum(0.0, (inner_product_rim_grad - ip_xitrans_xi)/inner_product_rim_grad_old)\n",
    "#eta = -riemannian_grad + beta*eta_trans\n",
    "\n",
    "print \"Rim Grad shape: \" + str(riemannian_grad)\n",
    "print \"eta_trans: \" + str(eta_trans)\n",
    "\n",
    "eta = approximate.add_n([-riemannian_grad, beta*eta_trans], max_tt_rank=63)\n",
    "\n",
    "print \"eta: \" + str(eta)\n",
    "                                            \n",
    "#(1, 106, 126, 126, 1)\n",
    "\n",
    "eta_omega = sparsity_mask * t3f.full(eta)\n",
    "alpha = compute_step_size(eta_omega, grad_full)"
   ]
  },
  {
   "cell_type": "code",
   "execution_count": null,
   "metadata": {},
   "outputs": [],
   "source": []
  },
  {
   "cell_type": "code",
   "execution_count": 47,
   "metadata": {},
   "outputs": [
    {
     "name": "stdout",
     "output_type": "stream",
     "text": [
      "A Tensor Train of shape (53, 63, 46, 144), TT-ranks: (1, 53, 63, 63, 1)\n"
     ]
    }
   ],
   "source": [
    "print eta"
   ]
  },
  {
   "cell_type": "code",
   "execution_count": 48,
   "metadata": {},
   "outputs": [
    {
     "name": "stdout",
     "output_type": "stream",
     "text": [
      "Max_TT rank63\n",
      "[1, 53, 63, 63, 1]\n"
     ]
    }
   ],
   "source": [
    "train_step = t3f.assign(X, t3f.round(X - alpha * eta, max_tt_rank=63))"
   ]
  },
  {
   "cell_type": "code",
   "execution_count": 49,
   "metadata": {},
   "outputs": [],
   "source": [
    "eta_update_op = t3f.assign(eta_t3f_old, eta,use_locking = True)"
   ]
  },
  {
   "cell_type": "code",
   "execution_count": 50,
   "metadata": {},
   "outputs": [],
   "source": [
    "grad_update_op = t3f.assign(grad_t3f_old, riemannian_grad)"
   ]
  },
  {
   "cell_type": "code",
   "execution_count": 51,
   "metadata": {},
   "outputs": [
    {
     "name": "stdout",
     "output_type": "stream",
     "text": [
      "Tensor(\"div_1:0\", shape=(), dtype=float32)\n"
     ]
    }
   ],
   "source": [
    "print alpha_0"
   ]
  },
  {
   "cell_type": "code",
   "execution_count": null,
   "metadata": {},
   "outputs": [],
   "source": []
  },
  {
   "cell_type": "code",
   "execution_count": null,
   "metadata": {},
   "outputs": [],
   "source": []
  },
  {
   "cell_type": "code",
   "execution_count": null,
   "metadata": {},
   "outputs": [],
   "source": []
  },
  {
   "cell_type": "code",
   "execution_count": null,
   "metadata": {},
   "outputs": [],
   "source": []
  },
  {
   "cell_type": "code",
   "execution_count": null,
   "metadata": {},
   "outputs": [],
   "source": []
  },
  {
   "cell_type": "code",
   "execution_count": null,
   "metadata": {},
   "outputs": [],
   "source": []
  },
  {
   "cell_type": "code",
   "execution_count": null,
   "metadata": {},
   "outputs": [],
   "source": []
  },
  {
   "cell_type": "code",
   "execution_count": null,
   "metadata": {},
   "outputs": [],
   "source": []
  },
  {
   "cell_type": "code",
   "execution_count": null,
   "metadata": {},
   "outputs": [],
   "source": []
  },
  {
   "cell_type": "code",
   "execution_count": null,
   "metadata": {
    "collapsed": true
   },
   "outputs": [],
   "source": []
  },
  {
   "cell_type": "code",
   "execution_count": null,
   "metadata": {},
   "outputs": [],
   "source": []
  },
  {
   "cell_type": "code",
   "execution_count": null,
   "metadata": {},
   "outputs": [],
   "source": []
  },
  {
   "cell_type": "code",
   "execution_count": null,
   "metadata": {},
   "outputs": [],
   "source": []
  },
  {
   "cell_type": "code",
   "execution_count": null,
   "metadata": {},
   "outputs": [],
   "source": []
  },
  {
   "cell_type": "code",
   "execution_count": null,
   "metadata": {},
   "outputs": [],
   "source": []
  },
  {
   "cell_type": "code",
   "execution_count": null,
   "metadata": {
    "collapsed": true
   },
   "outputs": [],
   "source": []
  },
  {
   "cell_type": "code",
   "execution_count": null,
   "metadata": {
    "collapsed": true
   },
   "outputs": [],
   "source": []
  },
  {
   "cell_type": "code",
   "execution_count": null,
   "metadata": {
    "collapsed": true
   },
   "outputs": [],
   "source": []
  },
  {
   "cell_type": "code",
   "execution_count": null,
   "metadata": {
    "collapsed": true
   },
   "outputs": [],
   "source": []
  },
  {
   "cell_type": "code",
   "execution_count": null,
   "metadata": {},
   "outputs": [],
   "source": []
  },
  {
   "cell_type": "code",
   "execution_count": null,
   "metadata": {},
   "outputs": [],
   "source": []
  },
  {
   "cell_type": "code",
   "execution_count": 52,
   "metadata": {},
   "outputs": [],
   "source": [
    "#t3f.round(-riemannian_grad + beta*eta_trans, max_tt_rank=[eta_trans])"
   ]
  },
  {
   "cell_type": "code",
   "execution_count": null,
   "metadata": {
    "collapsed": true
   },
   "outputs": [],
   "source": []
  },
  {
   "cell_type": "code",
   "execution_count": null,
   "metadata": {},
   "outputs": [],
   "source": []
  },
  {
   "cell_type": "code",
   "execution_count": null,
   "metadata": {},
   "outputs": [],
   "source": []
  },
  {
   "cell_type": "code",
   "execution_count": null,
   "metadata": {},
   "outputs": [],
   "source": []
  },
  {
   "cell_type": "code",
   "execution_count": null,
   "metadata": {},
   "outputs": [],
   "source": []
  },
  {
   "cell_type": "code",
   "execution_count": 53,
   "metadata": {},
   "outputs": [],
   "source": [
    "#eta_update_op = t3f.assign(eta_t3f_old, eta,validate_shape=False, use_locking = True)"
   ]
  },
  {
   "cell_type": "code",
   "execution_count": 54,
   "metadata": {
    "collapsed": true
   },
   "outputs": [],
   "source": [
    "#grad_update_op = t3f.assign(grad_t3f_old, riemannian_grad)"
   ]
  },
  {
   "cell_type": "code",
   "execution_count": null,
   "metadata": {
    "collapsed": true
   },
   "outputs": [],
   "source": []
  },
  {
   "cell_type": "code",
   "execution_count": null,
   "metadata": {},
   "outputs": [],
   "source": []
  },
  {
   "cell_type": "code",
   "execution_count": null,
   "metadata": {},
   "outputs": [],
   "source": []
  },
  {
   "cell_type": "code",
   "execution_count": null,
   "metadata": {},
   "outputs": [],
   "source": []
  },
  {
   "cell_type": "code",
   "execution_count": 55,
   "metadata": {
    "collapsed": true
   },
   "outputs": [],
   "source": [
    "sess = tf.Session()\n",
    "sess.run(tf.global_variables_initializer())"
   ]
  },
  {
   "cell_type": "code",
   "execution_count": 56,
   "metadata": {},
   "outputs": [
    {
     "name": "stdout",
     "output_type": "stream",
     "text": [
      "0.24615465 -1.0\n"
     ]
    }
   ],
   "source": [
    "log = []\n",
    "train_loss_hist = []\n",
    "#for i in range(1000):\n",
    "gradnorm_val, alpha_val, eta_op_0_val,_ = sess.run([gradnorm_omega_0, alpha_0, eta_op_0, train_step_0.op])\n",
    "print gradnorm_val, alpha_val"
   ]
  },
  {
   "cell_type": "code",
   "execution_count": 57,
   "metadata": {},
   "outputs": [
    {
     "name": "stdout",
     "output_type": "stream",
     "text": [
      "A Tensor Train of shape (53, 63, 46, 144), TT-ranks: (1, 106, 126, 126, 1)\n"
     ]
    }
   ],
   "source": [
    "print grad_trans"
   ]
  },
  {
   "cell_type": "code",
   "execution_count": null,
   "metadata": {},
   "outputs": [],
   "source": []
  },
  {
   "cell_type": "code",
   "execution_count": 58,
   "metadata": {},
   "outputs": [],
   "source": [
    "#sess.run([loss])"
   ]
  },
  {
   "cell_type": "code",
   "execution_count": 59,
   "metadata": {},
   "outputs": [],
   "source": [
    "#sess.run([theta])"
   ]
  },
  {
   "cell_type": "code",
   "execution_count": 60,
   "metadata": {},
   "outputs": [],
   "source": [
    "#print theta"
   ]
  },
  {
   "cell_type": "code",
   "execution_count": 61,
   "metadata": {},
   "outputs": [],
   "source": [
    "#sess.run([eta_trans])"
   ]
  },
  {
   "cell_type": "code",
   "execution_count": 62,
   "metadata": {},
   "outputs": [],
   "source": [
    "#sess.run([eta])"
   ]
  },
  {
   "cell_type": "code",
   "execution_count": 63,
   "metadata": {},
   "outputs": [],
   "source": [
    "#sess.run([train_step.op])"
   ]
  },
  {
   "cell_type": "code",
   "execution_count": 64,
   "metadata": {},
   "outputs": [],
   "source": [
    "#sess.run([loss, gradnorm_omega, alpha, theta, eta_update_op, grad_update_op, train_step.op])"
   ]
  },
  {
   "cell_type": "code",
   "execution_count": 65,
   "metadata": {},
   "outputs": [
    {
     "name": "stdout",
     "output_type": "stream",
     "text": [
      "(133266030000000.0, 1, 0.34445974, -1.7783686, 0.7138214, 0.5609109)\n",
      "(1619424300000.0, 2, 0.037971612, 8.0715065, -2.401021, 0.05302271, 0.010989868)\n",
      "(417377750000.0, 3, 0.019277174, 0.96977067, -2.2867138, 0.047138482, 0.23071691)\n",
      "(93988140000.0, 4, 0.009147771, 1.1073084, -2.3103588, 0.3939796, 0.122132406)\n",
      "(32569076000.0, 5, 0.005384947, 0.698767, -2.2582881, 0.10127587, 0.21532296)\n",
      "(18855995000.0, 6, 0.0040973537, 0.31425002, -2.076762, 0.19544736, 0.38757825)\n",
      "(11777142000.0, 7, 0.0032381627, 0.26533285, -2.1138186, 0.33411998, 0.35192075)\n",
      "(8388524500.0, 8, 0.002732886, 0.1848876, -1.9142829, 0.15661521, 0.53569704)\n",
      "(6638479000.0, 9, 0.002431157, 0.1241092, -1.9798803, 0.27786407, 0.5302234)\n",
      "(5311626000.0, 10, 0.0021746657, 0.117945194, -1.9134586, 0.20704898, 0.5906221)\n",
      "(4428875000.0, 11, 0.001985754, 0.09513354, -1.8953286, 0.19869001, 0.61376643)\n",
      "(3840721700.0, 12, 0.0018492053, 0.073841736, -1.8274317, 0.1880158, 0.6650616)\n",
      "(3407056400.0, 13, 0.0017416801, 0.06173652, -1.7748203, 0.18871674, 0.6798884)\n",
      "(3047403800.0, 14, 0.0016471902, 0.05736429, -1.7333908, 0.18058471, 0.6890841)\n",
      "(2797365200.0, 15, 0.0015781682, 0.04373548, -1.6801213, 0.15027243, 0.7192078)\n",
      "(2618569500.0, 16, 0.0015269007, 0.033576224, -1.693254, 0.14188868, 0.72209764)\n",
      "(2487915000.0, 17, 0.0014883206, 0.025921859, -1.6160823, 0.14546314, 0.75179416)\n",
      "(2354329000.0, 18, 0.0014478125, 0.027978836, -1.5374895, 0.15475665, 0.74907136)\n",
      "(2248058000.0, 19, 0.0014147591, 0.023363309, -1.4253056, 0.12704712, 0.8029752)\n",
      "(2169424400.0, 20, 0.0013897958, 0.017961837, -1.5083652, 0.18193099, 0.7271621)\n",
      "(2114107300.0, 21, 0.0013719625, 0.012998397, -1.4400954, 0.11243986, 0.7807002)\n",
      "(2072492500.0, 22, 0.0013583923, 0.009989887, -1.3974444, 0.1436639, 0.75262505)\n",
      "(2046097900.0, 23, 0.0013497146, 0.006429296, -1.2693634, 0.07486701, 0.80210215)\n",
      "(2027952500.0, 24, 0.0013437164, 0.0044638757, -1.2412796, 0.1282557, 0.7579023)\n",
      "(2007433000.0, 25, 0.001336901, 0.0050979233, -1.1270853, 0.06841578, 0.85590714)\n",
      "(1996137900.0, 26, 0.0013331346, 0.0028252099, -1.1433653, 0.15035883, 0.7816996)\n",
      "(1991428200.0, 27, 0.001331561, 0.0011817602, -1.035221, 0.087069765, 0.85587233)\n",
      "(1982883500.0, 28, 0.0013287012, 0.0021523717, -0.9997957, 0.13229388, 0.84490645)\n",
      "(1978931100.0, 29, 0.0013273763, 0.0009980638, -1.0343711, 0.13415024, 0.8043254)\n",
      "(1975007500.0, 30, 0.0013260598, 0.0009928216, -0.9879103, 0.07887458, 0.8876302)\n",
      "(1970790500.0, 31, 0.0013246434, 0.001069288, -1.0012492, 0.15653402, 0.8278454)\n",
      "(1966923300.0, 32, 0.001323343, 0.0009826319, -0.9937621, 0.108081, 0.7798886)\n",
      "(1961113100.0, 33, 0.0013213871, 0.0014801823, -0.9480462, 0.075026914, 0.9204522)\n",
      "(1960917400.0, 34, 0.0013213211, 4.9955674e-05, -0.93555224, 0.13992843, 0.8720682)\n",
      "(1953002000.0, 35, 0.0013186516, 0.0020244315, -0.92671967, 0.079627246, 0.8553655)\n",
      "(1958391400.0, 36, 0.0013204699, 0.0013770029, -0.8811883, 0.124082275, 0.8998337)\n",
      "(1957743000.0, 37, 0.0013202511, 0.00016568393, -0.92040646, 0.12197562, 0.841414)\n",
      "(1958612000.0, 38, 0.0013205442, 0.00022189137, -0.8590202, 0.10163133, 0.8971876)\n",
      "(1957164200.0, 39, 0.001320056, 0.00036977933, -0.8916153, 0.14085877, 0.81259465)\n",
      "(1954229100.0, 40, 0.0013190658, 0.00075070455, -0.86242324, 0.11778183, 0.86098397)\n",
      "(1953857500.0, 41, 0.0013189404, 9.5060626e-05, -0.8025055, 0.092456825, 0.92117745)\n",
      "(1955246000.0, 42, 0.001319409, 0.00035513754, -0.9042085, 0.18418616, 0.7816682)\n",
      "(1954210600.0, 43, 0.0013190596, 0.00026485717, -0.8302889, 0.04395765, 0.9007232)\n",
      "(1952755800.0, 44, 0.0013185685, 0.00037249204, -0.82390493, 0.16553396, 0.8421347)\n",
      "(1950692000.0, 45, 0.0013178715, 0.00052886683, -0.8321475, 0.13808103, 0.8051505)\n",
      "(1948651800.0, 46, 0.0013171822, 0.0005233104, -0.7100576, 0.04713858, 0.9556695)\n",
      "(1948744700.0, 47, 0.0013172135, 2.3774219e-05, -0.8096551, 0.22903508, 0.77189356)\n",
      "(1945221400.0, 48, 0.0013160224, 0.0009051226, -0.72586375, 0.009147626, 0.9025392)\n",
      "(1949485800.0, 49, 0.001317464, 0.0010942897, -0.78453255, 0.17705822, 0.85200685)\n",
      "(1948369500.0, 50, 0.0013170869, 0.00028637872, -0.7235657, 0.080575034, 0.9316331)\n",
      "(1950327900.0, 51, 0.0013177486, 0.0005021479, -0.7432957, 0.1280769, 0.86357784)\n",
      "(1946425700.0, 52, 0.0013164296, 0.0010019416, -0.78007644, 0.14284092, 0.8000633)\n",
      "(1950363500.0, 53, 0.0013177606, 0.001010029, -0.66116416, 0.026020177, 0.95749277)\n",
      "(1946324400.0, 54, 0.0013163954, 0.0010370763, -0.6889312, 0.24139076, 0.7519145)\n",
      "(1945368300.0, 55, 0.001316072, 0.00024573258, -0.65478534, 0.04587209, 0.9052425)\n",
      "(1946566800.0, 56, 0.0013164773, 0.00030791122, -0.6900741, 0.15119612, 0.8288071)\n",
      "(1945397100.0, 57, 0.0013160817, 0.00030057348, -0.65270036, 0.08707269, 0.8989611)\n",
      "(1943435100.0, 58, 0.0013154179, 0.0005046306, -0.6688344, 0.17786133, 0.75569403)\n",
      "(1943603500.0, 59, 0.0013154749, 4.3274937e-05, -0.6039887, 0.04776813, 0.95340776)\n",
      "(1944390900.0, 60, 0.0013157413, 0.00020252816, -0.6475588, 0.15775415, 0.8575889)\n",
      "(1942547600.0, 61, 0.0013151175, 0.00047438327, -0.58987546, 0.06288775, 0.924452)\n",
      "(1944539000.0, 62, 0.0013157914, 0.00051218475, -0.59557724, 0.15678982, 0.8352579)\n",
      "(1942604000.0, 63, 0.0013151367, 0.000497834, -0.58708084, 0.121549636, 0.81137735)\n",
      "(1940615800.0, 64, 0.0013144634, 0.00051217084, -0.5610743, 0.09613297, 0.90897113)\n",
      "(1941003500.0, 65, 0.0013145948, 9.989123e-05, -0.6125885, 0.16371635, 0.8011975)\n",
      "(1942039400.0, 66, 0.0013149455, 0.00026674822, -0.48108447, 0.014400776, 1.0296375)\n",
      "(1941530000.0, 67, 0.001314773, 0.00013122227, -0.60160136, 0.23394233, 0.74263984)\n",
      "(1940251500.0, 68, 0.00131434, 0.0003294038, -0.54956007, 0.021901892, 0.9624631)\n",
      "(1945557400.0, 69, 0.001316136, 0.0013645544, -0.52400833, 0.1560321, 0.87321)\n",
      "(1945682200.0, 70, 0.0013161781, 3.2018725e-05, -0.51124674, 0.12063656, 0.8310802)\n",
      "(1939013900.0, 71, 0.0013139208, 0.0017179826, -0.51708686, 0.10761225, 0.83713293)\n",
      "(1943179900.0, 72, 0.0013153316, 0.0010725211, -0.4441279, 0.11506708, 0.8991945)\n",
      "(1941146400.0, 73, 0.0013146431, 0.00052370125, -0.48948753, 0.18530451, 0.8008367)\n",
      "(1937458800.0, 74, 0.0013133938, 0.00095116394, -0.4560475, 0.08205407, 0.8633045)\n",
      "(1940008000.0, 75, 0.0013142576, 0.0006572545, -0.39687425, 0.06705474, 0.959341)\n",
      "(1940419700.0, 76, 0.001314397, 0.00010601754, -0.51203555, 0.31245628, 0.66162354)\n",
      "(1939540400.0, 77, 0.0013140992, 0.00022661181, -0.37741628, -0.06245706, 1.0493813)\n",
      "(1940730900.0, 78, 0.0013145024, 0.0003067797, -0.49559444, 0.24333204, 0.79890144)\n",
      "(1940681000.0, 79, 0.0013144856, 1.2841694e-05, -0.43487635, 0.06607734, 0.88533455)\n",
      "(1941937000.0, 80, 0.0013149108, 0.0003234175, -0.43993112, 0.12278488, 0.8909662)\n",
      "(1941022200.0, 81, 0.001314601, 0.00023564653, -0.4770996, 0.17823938, 0.7877604)\n",
      "(1940372700.0, 82, 0.0013143811, 0.00016730957, -0.40166745, 0.029961988, 0.93338877)\n",
      "(1941955200.0, 83, 0.001314917, 0.00040752362, -0.41213125, 0.15954982, 0.84274244)\n",
      "(1944466200.0, 84, 0.0013157668, 0.0006458833, -0.43075487, 0.1764494, 0.7919169)\n",
      "(1940066300.0, 85, 0.0013142773, 0.0011333483, -0.34230042, 0.07936801, 0.9408678)\n",
      "(1941327900.0, 86, 0.0013147047, 0.00032506208, -0.39975816, 0.17201136, 0.83422285)\n",
      "(1940992500.0, 87, 0.001314591, 8.6430955e-05, -0.38083446, 0.1263125, 0.8347318)\n",
      "(1937398500.0, 88, 0.0013133733, 0.00092715776, -0.33987898, 0.12074194, 0.82889456)\n",
      "(1938357400.0, 89, 0.0013136984, 0.0002474172, -0.34116852, 0.13903001, 0.89206874)\n",
      "(1939962500.0, 90, 0.0013142421, 0.0004137563, -0.31876582, 0.027902769, 0.9413409)\n",
      "(1940699800.0, 91, 0.0013144918, 0.0001899676, -0.40006, 0.24782677, 0.7424903)\n",
      "(1943416600.0, 92, 0.0013154116, 0.0006992469, -0.3152036, -0.02698227, 1.0255919)\n",
      "(1942560800.0, 93, 0.001315122, 0.00022023912, -0.39935032, 0.23607108, 0.74882007)\n",
      "(1939053600.0, 94, 0.0013139342, 0.00090399163, -0.2979543, 0.0876649, 0.9030638)\n",
      "(1938315500.0, 95, 0.0013136842, 0.00019035026, -0.3391725, 0.10147685, 0.9208972)\n",
      "(1941920100.0, 96, 0.0013149051, 0.00092855666, -0.30711424, 0.15848143, 0.8092326)\n",
      "(1940446800.0, 97, 0.0013144063, 0.0003795171, -0.32680836, 0.12300936, 0.8297049)\n",
      "(1939037200.0, 98, 0.0013139287, 0.00036344107, -0.3159456, 0.0813207, 0.9128686)\n",
      "(1943024100.0, 99, 0.0013152788, 0.0010264504, -0.32136488, 0.10132611, 0.9276065)\n",
      "(1943637800.0, 100, 0.0013154865, 0.0001578769, -0.29783413, 0.1441447, 0.9274089)\n"
     ]
    },
    {
     "name": "stdout",
     "output_type": "stream",
     "text": [
      "(1938638600.0, 101, 0.0013137936, 0.0012885674, -0.28053597, 0.12025511, 0.7802829)\n",
      "(1939759000.0, 102, 0.0013141732, 0.0002888739, -0.2510742, 0.19692253, 0.72240955)\n",
      "(1939641100.0, 103, 0.0013141333, 3.0385392e-05, -0.24176133, 0.08279284, 0.84164685)\n",
      "(1942037000.0, 104, 0.0013149447, 0.0006170714, -0.21222344, 0.07506751, 0.99864763)\n",
      "(1939755100.0, 105, 0.0013141719, 0.0005880242, -0.28207022, 0.25789964, 0.75331473)\n",
      "(1939620900.0, 106, 0.0013141264, 3.4637756e-05, -0.16492645, -0.028523855, 0.960634)\n",
      "(1939932000.0, 107, 0.0013142319, 8.0253936e-05, -0.23106638, 0.39238274, 0.6060479)\n",
      "(1939118200.0, 108, 0.0013139561, 0.00020989125, -0.20782262, -0.03218155, 0.93771124)\n",
      "(1940498000.0, 109, 0.0013144235, 0.00035559887, -0.2193955, 0.0814211, 1.0222005)\n",
      "(1941073200.0, 110, 0.0013146183, 0.00014815162, -0.31077358, 0.28653815, 0.71391577)\n",
      "(1942459400.0, 111, 0.0013150877, 0.00035692417, -0.1727259, -0.111904256, 1.2118112)\n",
      "(1940935000.0, 112, 0.0013145716, 0.0003925759, -0.33712485, 0.43935966, 0.52417254)\n",
      "(1941663600.0, 113, 0.0013148183, 0.00018761837, -0.20256317, -0.21405262, 1.1490681)\n",
      "(1942387600.0, 114, 0.0013150633, 0.00018634407, -0.23948815, 0.36416677, 0.66247743)\n",
      "(1941797800.0, 115, 0.0013148637, 0.00015184257, -0.12814853, 0.15852529, 0.71044403)\n",
      "(1939928300.0, 116, 0.0013142306, 0.00048170125, -0.121907525, 0.08416, 0.83420396)\n",
      "(1938197600.0, 117, 0.0013136442, 0.0004463796, -0.08904365, 0.28548914, 0.671281)\n",
      "(1937047400.0, 118, 0.0013132544, 0.0002968769, -0.14500585, 0.27346027, 0.64636904)\n",
      "(1939500700.0, 119, 0.0013140857, 0.00063262373, -0.044535406, -0.1054545, 1.1942322)\n",
      "(1940445700.0, 120, 0.0013144058, 0.00024356415, -0.25946248, 0.45614916, 0.62019795)\n",
      "(1941713300.0, 121, 0.001314835, 0.0003264465, -0.068511695, -0.32520548, 1.3758075)\n",
      "(1941761200.0, 122, 0.0013148513, 1.2395428e-05, -0.29183188, 0.6052146, 0.42129582)\n",
      "(1942516000.0, 123, 0.0013151068, 0.00019421634, -0.11691545, -0.24581425, 1.2328373)\n",
      "(1942185500.0, 124, 0.001314995, 8.4987936e-05, -0.20502172, 0.38747612, 0.6200064)\n",
      "(1942705200.0, 125, 0.0013151709, 0.00013374958, -0.19467767, -0.03816469, 0.94366693)\n",
      "(1938973400.0, 126, 0.0013139071, 0.0009618676, -0.17000267, 0.06088053, 0.9995687)\n",
      "(1941201200.0, 127, 0.0013146617, 0.0005739911, -0.18640584, 0.17238492, 0.86340344)\n",
      "(1944451600.0, 128, 0.0013157618, 0.0008361124, -0.25314477, 0.22442801, 0.7091249)\n",
      "(1943564000.0, 129, 0.0013154616, 0.00022823556, -0.10931472, -0.10173245, 1.2105035)\n",
      "(1944203100.0, 130, 0.0013156778, 0.00016431323, -0.19925205, 0.4912248, 0.49799857)\n",
      "(1938740500.0, 131, 0.0013138282, 0.0014077995, -0.08481748, -0.0673376, 0.9323967)\n",
      "(1938193200.0, 132, 0.0013136427, 0.00014117203, -0.07938707, 0.36795267, 0.5714753)\n",
      "(1940026000.0, 133, 0.0013142637, 0.00047247697, -0.12747583, 0.32752222, 0.64579797)\n",
      "(1941516000.0, 134, 0.0013147683, 0.0003838398, -0.073254, -0.24648646, 1.333619)\n",
      "(1944487800.0, 135, 0.0013157742, 0.0007644385, -0.2759503, 0.44773915, 0.63461995)\n",
      "(1941126700.0, 136, 0.0013146364, 0.00086543086, -0.17498314, -0.16389662, 1.3849277)\n",
      "(1943861900.0, 137, 0.0013155623, 0.00070376834, -0.38809276, 0.46833965, 0.5252946)\n",
      "(1943661800.0, 138, 0.0013154947, 5.141587e-05, -0.22362018, -0.26175654, 1.348288)\n",
      "(1941807500.0, 139, 0.0013148669, 0.0004773954, -0.39990988, 0.39624178, 0.6620419)\n",
      "(1945918500.0, 140, 0.0013162581, 0.0010569076, -0.16913511, -0.16799545, 1.1252048)\n",
      "(1946440800.0, 141, 0.0013164347, 0.00013415176, -0.2952778, 0.591729, 0.39798653)\n",
      "(1941154200.0, 142, 0.0013146457, 0.0013607881, -0.24488905, -0.26547948, 1.0849314)\n",
      "(1944751600.0, 143, 0.0013158635, 0.0009254032, -0.26739994, 0.27621603, 0.8758938)\n",
      "(1947112800.0, 144, 0.001316662, 0.00060645235, -0.31997693, 0.15440752, 0.8188257)\n",
      "(1947563300.0, 145, 0.0013168142, 0.00011563609, -0.17334886, -0.044247717, 1.161874)\n",
      "(1945276700.0, 146, 0.001316041, 0.00058754295, -0.36352167, 0.45748377, 0.5019585)\n",
      "(1946924800.0, 147, 0.0013165984, 0.0004233611, -0.18857999, -0.23473054, 1.1465178)\n",
      "(1943980700.0, 148, 0.0013156026, 0.0007569282, -0.31669816, 0.4177732, 0.61043054)\n",
      "(1948321500.0, 149, 0.0013170706, 0.0011145927, -0.2129373, -0.06795088, 1.0198789)\n",
      "(1944915000.0, 150, 0.0013159186, 0.0008753806, -0.26039624, 0.24963406, 0.74444824)\n",
      "(1944883500.0, 151, 0.001315908, 8.050558e-06, -0.26045427, 0.071332715, 0.88196373)\n",
      "Breaking after 151 iterations\n"
     ]
    }
   ],
   "source": [
    "\n",
    "\n",
    "i = 0\n",
    "while gradnorm_val > eps:   \n",
    "#for k in range(10):\n",
    "    i = i + 1\n",
    "    F_v, gradnorm_val, alpha_val,theta_val, beta_val, _, _,_ = sess.run([loss, gradnorm_omega, alpha, theta, beta, train_step.op, eta_update_op.op, grad_update_op.op])\n",
    "    #eta_old_val, grad_update_val,_ = sess.run([eta_update_op, grad_update_op])\n",
    "    \n",
    "    train_loss_hist.append(gradnorm_val)\n",
    "    if i > 1:\n",
    "        diff_train = np.abs(train_loss_hist[i - 1] - train_loss_hist[i-2])/np.abs(train_loss_hist[i-1])\n",
    "        print (F_v, i, gradnorm_val, diff_train, alpha_val, theta_val, beta_val)\n",
    "        if diff_train <= epsilon_train:\n",
    "            print \"Breaking after \" + str(i) + \" iterations\"\n",
    "            break\n",
    "    else:\n",
    "        print (F_v, i, gradnorm_val, alpha_val, theta_val, beta_val)\n",
    "    log.append(F_v)"
   ]
  },
  {
   "cell_type": "code",
   "execution_count": 66,
   "metadata": {},
   "outputs": [
    {
     "name": "stdout",
     "output_type": "stream",
     "text": [
      "Tensor(\"Maximum:0\", shape=(), dtype=float32)\n"
     ]
    }
   ],
   "source": [
    "print beta"
   ]
  },
  {
   "cell_type": "code",
   "execution_count": 67,
   "metadata": {},
   "outputs": [],
   "source": [
    "#sess.run([eta_update_op.op, grad_update_op.op])"
   ]
  },
  {
   "cell_type": "code",
   "execution_count": 68,
   "metadata": {},
   "outputs": [
    {
     "name": "stdout",
     "output_type": "stream",
     "text": [
      "A Tensor Train variable of shape (53, 63, 46, 144), TT-ranks: (1, 53, 63, 63, 1)\n"
     ]
    }
   ],
   "source": [
    "print X"
   ]
  },
  {
   "cell_type": "code",
   "execution_count": 69,
   "metadata": {
    "collapsed": true
   },
   "outputs": [],
   "source": [
    "estimated_val = sess.run(t3f.full(X))"
   ]
  },
  {
   "cell_type": "code",
   "execution_count": 70,
   "metadata": {
    "collapsed": true
   },
   "outputs": [],
   "source": [
    "ground_truth_val = sess.run(ground_truth)\n"
   ]
  },
  {
   "cell_type": "code",
   "execution_count": 71,
   "metadata": {
    "collapsed": true
   },
   "outputs": [],
   "source": [
    "x_reconstr = mt.reconstruct(estimated_val,ground_truth_val, ten_ones, mask_indices)\n"
   ]
  },
  {
   "cell_type": "code",
   "execution_count": 72,
   "metadata": {
    "collapsed": true
   },
   "outputs": [],
   "source": [
    "def relative_error(x_hat,x_true):\n",
    "    percent_error = np.linalg.norm(x_hat - x_true) / np.linalg.norm(x_true)\n",
    "    return percent_error"
   ]
  },
  {
   "cell_type": "code",
   "execution_count": 73,
   "metadata": {
    "collapsed": true
   },
   "outputs": [],
   "source": [
    "rel_error = relative_error(estimated_val,ground_truth_val)"
   ]
  },
  {
   "cell_type": "code",
   "execution_count": 74,
   "metadata": {},
   "outputs": [
    {
     "name": "stdout",
     "output_type": "stream",
     "text": [
      "0.0033622284\n"
     ]
    }
   ],
   "source": [
    "print rel_error"
   ]
  },
  {
   "cell_type": "code",
   "execution_count": 75,
   "metadata": {
    "collapsed": true
   },
   "outputs": [],
   "source": [
    "rel_error_rec = relative_error(x_reconstr,ground_truth_val)"
   ]
  },
  {
   "cell_type": "code",
   "execution_count": 76,
   "metadata": {},
   "outputs": [
    {
     "data": {
      "text/plain": [
       "0.00266230216841754"
      ]
     },
     "execution_count": 76,
     "metadata": {},
     "output_type": "execute_result"
    }
   ],
   "source": [
    "rel_error_rec"
   ]
  },
  {
   "cell_type": "code",
   "execution_count": 77,
   "metadata": {
    "collapsed": true
   },
   "outputs": [],
   "source": [
    "x_miss_img = mt.reconstruct_image_affine(x_true_org, x_train)"
   ]
  },
  {
   "cell_type": "code",
   "execution_count": 78,
   "metadata": {
    "collapsed": true
   },
   "outputs": [],
   "source": [
    "x_miss = image.index_img(x_miss_img,1)"
   ]
  },
  {
   "cell_type": "code",
   "execution_count": 79,
   "metadata": {},
   "outputs": [
    {
     "data": {
      "image/png": "[encoded data removed]",
      "text/plain": [
       "<matplotlib.figure.Figure at 0x137780050>"
      ]
     },
     "metadata": {},
     "output_type": "display_data"
    }
   ],
   "source": [
    "x_miss_image = plotting.plot_epi(x_miss, bg_img=None,black_bg=True, cmap='jet', cut_coords=None) "
   ]
  },
  {
   "cell_type": "code",
   "execution_count": 80,
   "metadata": {},
   "outputs": [
    {
     "data": {
      "image/png": "[encoded data removed]",
      "text/plain": [
       "<matplotlib.figure.Figure at 0x1036cbd10>"
      ]
     },
     "metadata": {},
     "output_type": "display_data"
    }
   ],
   "source": [
    "x_hat_img = mt.reconstruct_image_affine(x_true_org, x_reconstr)\n",
    "x_hat = image.index_img(x_hat_img,1)\n",
    "recovered_image = plotting.plot_epi(x_hat, bg_img=None,black_bg=True, cmap='jet', cut_coords=None)"
   ]
  },
  {
   "cell_type": "code",
   "execution_count": 81,
   "metadata": {},
   "outputs": [
    {
     "data": {
      "image/png": "[encoded data removed]",
      "text/plain": [
       "<matplotlib.figure.Figure at 0x13df3a2d0>"
      ]
     },
     "metadata": {},
     "output_type": "display_data"
    }
   ],
   "source": [
    "x_true_org_img = image.index_img(x_true_org,1)\n",
    "org_image = plotting.plot_epi(x_true_org_img, bg_img=None,black_bg=True, cmap='jet', cut_coords=None)"
   ]
  },
  {
   "cell_type": "code",
   "execution_count": 82,
   "metadata": {},
   "outputs": [
    {
     "name": "stdout",
     "output_type": "stream",
     "text": [
      "('Saving figure', '/work/scratch/tt1/1/missing_ratio_60.00.png')\n",
      "Called from mrd\n"
     ]
    }
   ],
   "source": [
    "images_folder = \"/work/scratch/tt1/1\"\n",
    "mrd.draw_original_vs_reconstructed_rim(image.index_img(x_true_org,1),x_hat, image.index_img(x_miss_img,1), \"Rim Completion\",\n",
    "                                             rel_error_rec, observed_ratio, coord=None, folder=images_folder)"
   ]
  },
  {
   "cell_type": "code",
   "execution_count": 83,
   "metadata": {
    "collapsed": true
   },
   "outputs": [],
   "source": [
    "estimated_val_img = mt.reconstruct_image_affine(x_true_org, estimated_val)"
   ]
  },
  {
   "cell_type": "code",
   "execution_count": 84,
   "metadata": {
    "collapsed": true
   },
   "outputs": [],
   "source": [
    "estimated_val_hat = image.index_img(estimated_val_img,1)"
   ]
  },
  {
   "cell_type": "code",
   "execution_count": 85,
   "metadata": {},
   "outputs": [
    {
     "name": "stdout",
     "output_type": "stream",
     "text": [
      "('Saving figure', '/work/scratch/tt1/2/missing_ratio_60.00.png')\n",
      "Called from mrd\n"
     ]
    }
   ],
   "source": [
    "images_folder = \"/work/scratch/tt1/2\"\n",
    "mrd.draw_original_vs_reconstructed_rim(image.index_img(x_true_org,1),estimated_val_hat,image.index_img(x_miss_img,1), \"Rim Completion2\",\n",
    "                                             rel_error_rec, observed_ratio, coord=None, folder=images_folder)"
   ]
  },
  {
   "cell_type": "code",
   "execution_count": null,
   "metadata": {
    "collapsed": true
   },
   "outputs": [],
   "source": []
  }
 ],
 "metadata": {
  "kernelspec": {
   "display_name": "Python 2",
   "language": "python",
   "name": "python2"
  },
  "language_info": {
   "codemirror_mode": {
    "name": "ipython",
    "version": 2
   },
   "file_extension": ".py",
   "mimetype": "text/x-python",
   "name": "python",
   "nbconvert_exporter": "python",
   "pygments_lexer": "ipython2",
   "version": "2.7.13"
  }
 },
 "nbformat": 4,
 "nbformat_minor": 2
}
