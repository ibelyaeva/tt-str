{
 "cells": [
  {
   "cell_type": "code",
   "execution_count": 1,
   "metadata": {},
   "outputs": [
    {
     "name": "stderr",
     "output_type": "stream",
     "text": [
      "/usr/local/lib/python2.7/site-packages/matplotlib/__init__.py:1405: UserWarning: \n",
      "This call to matplotlib.use() has no effect because the backend has already\n",
      "been chosen; matplotlib.use() must be called *before* pylab, matplotlib.pyplot,\n",
      "or matplotlib.backends is imported for the first time.\n",
      "\n",
      "  warnings.warn(_use_error_msg)\n"
     ]
    }
   ],
   "source": [
    "import tensorflow as tf\n",
    "import numpy as np\n",
    "import t3f\n",
    "tf.set_random_seed(0)\n",
    "np.random.seed(0)\n",
    "%matplotlib inline\n",
    "import matplotlib.pyplot as plt\n",
    "import metric_util as mt\n",
    "import data_util as du\n",
    "from t3f import shapes\n",
    "from nilearn import image\n",
    "from skimage.measure import compare_ssim as ssim\n",
    "from tensorflow.python.util import nest\n",
    "import copy\n",
    "from nilearn import plotting"
   ]
  },
  {
   "cell_type": "code",
   "execution_count": 2,
   "metadata": {
    "collapsed": true
   },
   "outputs": [],
   "source": [
    "#sess = tf.InteractiveSession()"
   ]
  },
  {
   "cell_type": "code",
   "execution_count": 3,
   "metadata": {
    "collapsed": true
   },
   "outputs": [],
   "source": [
    "def frobenius_norm_tf(x):\n",
    "    return tf.reduce_sum(x ** 2) ** 0.5"
   ]
  },
  {
   "cell_type": "code",
   "execution_count": 4,
   "metadata": {
    "collapsed": true
   },
   "outputs": [],
   "source": [
    "def relative_error1(x_hat,x_true):\n",
    "    percent_error = frobenius_norm_tf(x_hat - x_true) / frobenius_norm_tf(x_true)\n",
    "    return percent_error"
   ]
  },
  {
   "cell_type": "code",
   "execution_count": 5,
   "metadata": {},
   "outputs": [
    {
     "name": "stdout",
     "output_type": "stream",
     "text": [
      "Subject Path: /work/pl/sch/analysis/data/COBRE001/swaAMAYER+cobre01_63001+M87100944+20110309at135133+RSTpre_V01_R01+CM.nii\n"
     ]
    }
   ],
   "source": [
    "subject_scan_path = du.get_full_path_subject1()\n",
    "print \"Subject Path: \" + str(subject_scan_path)\n",
    "x_true_org = mt.read_image_abs_path(subject_scan_path)\n"
   ]
  },
  {
   "cell_type": "code",
   "execution_count": 6,
   "metadata": {
    "collapsed": true
   },
   "outputs": [],
   "source": [
    "observed_ratio = 0.9\n",
    "x_true_img = np.array(x_true_org.get_data())\n",
    "mask_indices = (np.random.rand(x_true_img.shape[0],x_true_img.shape[1],x_true_img.shape[2], x_true_img.shape[3]) < observed_ratio).astype('int') \n",
    "ten_ones = np.ones_like(mask_indices)\n",
    "x_train = copy.deepcopy(x_true_img)\n",
    "x_train[mask_indices==0] = 0.0\n",
    "#x_train[mask_indices == 0] = np.mean(x_train[mask_indices == 1])\n",
    "x_init = copy.deepcopy(x_train)\n",
    "\n",
    "ground_truth = copy.deepcopy(x_true_img)"
   ]
  },
  {
   "cell_type": "code",
   "execution_count": 7,
   "metadata": {
    "collapsed": true
   },
   "outputs": [],
   "source": [
    "x_miss_img = mt.reconstruct_image_affine(x_true_org, x_train)"
   ]
  },
  {
   "cell_type": "code",
   "execution_count": 8,
   "metadata": {
    "collapsed": true
   },
   "outputs": [],
   "source": [
    "x_miss = image.index_img(x_miss_img,1)"
   ]
  },
  {
   "cell_type": "code",
   "execution_count": 9,
   "metadata": {},
   "outputs": [
    {
     "data": {
      "image/png": "[encoded data removed]",
      "text/plain": [
       "<matplotlib.figure.Figure at 0x11163aad0>"
      ]
     },
     "metadata": {},
     "output_type": "display_data"
    }
   ],
   "source": [
    "x_miss_image = plotting.plot_epi(x_miss, bg_img=None,black_bg=True, cmap='jet', cut_coords=None) "
   ]
  },
  {
   "cell_type": "code",
   "execution_count": 10,
   "metadata": {},
   "outputs": [
    {
     "name": "stdout",
     "output_type": "stream",
     "text": [
      "[1, 53, 1, 1, 1] 0 (1, 53, 53)\n",
      "[1, 53, 63, 1, 1] 1 (53, 63, 63)\n",
      "[1, 53, 63, 63, 1] 2 (63, 46, 63)\n",
      "ranks: [1, 53, 63, 63, 1]\n"
     ]
    }
   ],
   "source": [
    "ground_truth_tf = t3f.to_tt_tensor(ground_truth, max_tt_rank=63)"
   ]
  },
  {
   "cell_type": "code",
   "execution_count": 11,
   "metadata": {
    "collapsed": true
   },
   "outputs": [],
   "source": [
    "A = t3f.get_variable('A', initializer=ground_truth_tf, trainable=False)"
   ]
  },
  {
   "cell_type": "code",
   "execution_count": 12,
   "metadata": {},
   "outputs": [
    {
     "name": "stdout",
     "output_type": "stream",
     "text": [
      "A Tensor Train variable of shape (53, 63, 46, 144), TT-ranks: (1, 53, 63, 63, 1)\n"
     ]
    }
   ],
   "source": [
    "print A"
   ]
  },
  {
   "cell_type": "code",
   "execution_count": 13,
   "metadata": {},
   "outputs": [
    {
     "name": "stdout",
     "output_type": "stream",
     "text": [
      "[1, 53, 1, 1, 1] 0 (1, 53, 53)\n",
      "[1, 53, 63, 1, 1] 1 (53, 63, 63)\n",
      "[1, 53, 63, 63, 1] 2 (63, 46, 63)\n",
      "ranks: [1, 53, 63, 63, 1]\n"
     ]
    }
   ],
   "source": [
    "x_train_tf = t3f.to_tt_tensor(x_init, max_tt_rank=63)"
   ]
  },
  {
   "cell_type": "code",
   "execution_count": 14,
   "metadata": {
    "collapsed": true
   },
   "outputs": [],
   "source": [
    "X = t3f.get_variable('X', initializer=x_train_tf)"
   ]
  },
  {
   "cell_type": "code",
   "execution_count": 15,
   "metadata": {},
   "outputs": [],
   "source": [
    "normAOmega = t3f.frobenius_norm(A, epsilon=1e-05)\n",
    "normAOmegavar = tf.get_variable('normAOmega', initializer=normAOmega, trainable=False)"
   ]
  },
  {
   "cell_type": "code",
   "execution_count": 16,
   "metadata": {
    "collapsed": true
   },
   "outputs": [],
   "source": [
    "# Algorithm\n",
    "gradF = X - A\n",
    "riemannian_grad = t3f.riemannian.project(gradF, X)\n",
    "F = 0.5 * t3f.frobenius_norm_squared(X - A)\n",
    "alpha = 0.01\n",
    "#gradnorm = t3f.frobenius_norm_squared(X - A)/(t3f.frobenius_norm_squared(A))\n",
    "#gradnorm = t3f.frobenius_norm(X - A,epsilon=1e-05)/(t3f.frobenius_norm(A, epsilon=1e-05))\n",
    "gradnorm = tf.sqrt((2*F))/(normAOmegavar)\n",
    "\n",
    "train_step = t3f.assign(X, t3f.round(X - alpha * riemannian_grad, max_tt_rank=63))\n",
    "rel_error1 = relative_error1(t3f.full(X), t3f.full(A))\n"
   ]
  },
  {
   "cell_type": "code",
   "execution_count": 17,
   "metadata": {
    "collapsed": true
   },
   "outputs": [],
   "source": [
    "eps = 4.0e-4"
   ]
  },
  {
   "cell_type": "code",
   "execution_count": 18,
   "metadata": {},
   "outputs": [
    {
     "data": {
      "text/plain": [
       "0.0004"
      ]
     },
     "execution_count": 18,
     "metadata": {},
     "output_type": "execute_result"
    }
   ],
   "source": [
    "eps"
   ]
  },
  {
   "cell_type": "code",
   "execution_count": 19,
   "metadata": {},
   "outputs": [
    {
     "name": "stdout",
     "output_type": "stream",
     "text": [
      "(38653405000000.0, 1, 0.117343694, 0.11733481)\n",
      "(37902260000000.0, 2, 0.11619794, 0.11617663)\n",
      "(37159250000000.0, 3, 0.11505338, 0.11503027)\n",
      "(36429900000000.0, 4, 0.11391866, 0.11389537)\n",
      "(35714863000000.0, 5, 0.112795144, 0.11277209)\n",
      "(35014130000000.0, 6, 0.11168313, 0.11166021)\n",
      "(34326557000000.0, 7, 0.11058113, 0.110559486)\n",
      "(33653428000000.0, 8, 0.109491535, 0.10946989)\n",
      "(32993136000000.0, 9, 0.10841209, 0.10839074)\n",
      "(32346750000000.0, 10, 0.10734485, 0.107322656)\n",
      "(31712027000000.0, 11, 0.10628645, 0.10626501)\n",
      "(31091071000000.0, 12, 0.1052407, 0.10521799)\n",
      "(30482033000000.0, 13, 0.10420483, 0.104181744)\n",
      "(29883843000000.0, 14, 0.103177294, 0.10315529)\n",
      "(29297216000000.0, 15, 0.102159575, 0.10213941)\n",
      "(28724560000000.0, 16, 0.10115622, 0.101134054)\n",
      "(28162990000000.0, 17, 0.10016253, 0.10013909)\n",
      "(27611883000000.0, 18, 0.09917767, 0.099154)\n",
      "(27070745000000.0, 19, 0.09820102, 0.098179035)\n",
      "(26540550000000.0, 20, 0.0972346, 0.09721321)\n",
      "(26021920000000.0, 21, 0.09627988, 0.09625735)\n",
      "(25513056000000.0, 22, 0.09533385, 0.09531182)\n",
      "(25013430000000.0, 23, 0.09439577, 0.09437518)\n",
      "(24525840000000.0, 24, 0.09347121, 0.09344807)\n",
      "(24046106000000.0, 25, 0.09255253, 0.09253076)\n",
      "(23576160000000.0, 26, 0.09164366, 0.09162261)\n",
      "(23115965000000.0, 27, 0.09074483, 0.09072372)\n",
      "(22663940000000.0, 28, 0.08985321, 0.08983342)\n",
      "(22221605000000.0, 29, 0.088972054, 0.08895222)\n",
      "(21788260000000.0, 30, 0.088100255, 0.08807979)\n",
      "(21361966000000.0, 31, 0.08723414, 0.08721652)\n",
      "(20945184000000.0, 32, 0.08637896, 0.0863615)\n",
      "(20537888000000.0, 33, 0.08553498, 0.08551531)\n",
      "(20136937000000.0, 34, 0.08469594, 0.084677674)\n",
      "(19744240000000.0, 35, 0.08386604, 0.08384819)\n",
      "(19359470000000.0, 36, 0.083044834, 0.08302744)\n",
      "(18982755000000.0, 37, 0.082232885, 0.082214475)\n",
      "(18613382000000.0, 38, 0.08142889, 0.08140999)\n",
      "(18250555000000.0, 39, 0.08063135, 0.080613315)\n",
      "(17895338000000.0, 40, 0.07984282, 0.07982506)\n",
      "(17549583000000.0, 41, 0.07906774, 0.07904464)\n",
      "(17209261000000.0, 42, 0.07829734, 0.07827254)\n",
      "(16874698000000.0, 43, 0.07753252, 0.077507675)\n",
      "(16546209000000.0, 44, 0.07677417, 0.0767508)\n",
      "(16225122000000.0, 45, 0.076025605, 0.076001756)\n",
      "(15910336000000.0, 46, 0.0752845, 0.07526012)\n",
      "(15600559000000.0, 47, 0.074548, 0.074525416)\n",
      "(15297714000000.0, 48, 0.073820874, 0.07379889)\n",
      "(15001372000000.0, 49, 0.073102355, 0.07307925)\n",
      "(14710723000000.0, 50, 0.07239072, 0.07236674)\n",
      "(14424945000000.0, 51, 0.07168412, 0.07166171)\n",
      "(14145138000000.0, 52, 0.07098547, 0.07096352)\n",
      "(13870992000000.0, 53, 0.070294224, 0.07027294)\n",
      "(13602788000000.0, 54, 0.06961132, 0.06958944)\n",
      "(13338639000000.0, 55, 0.06893212, 0.0689126)\n",
      "(13081014000000.0, 56, 0.068263195, 0.06824208)\n",
      "(12828249000000.0, 57, 0.06760045, 0.06757896)\n",
      "(12580056000000.0, 58, 0.06694331, 0.066921934)\n",
      "(12336945000000.0, 59, 0.066293314, 0.066272005)\n",
      "(12099294000000.0, 60, 0.06565169, 0.06562879)\n",
      "(11864812000000.0, 61, 0.06501242, 0.064991996)\n",
      "(11635356000000.0, 62, 0.064380705, 0.06436177)\n",
      "(11410775000000.0, 63, 0.063756354, 0.06373773)\n",
      "(11191208000000.0, 64, 0.063139975, 0.06312029)\n",
      "(10975535000000.0, 65, 0.06252861, 0.062508956)\n",
      "(10763851000000.0, 66, 0.06192268, 0.061903603)\n",
      "(10556567000000.0, 67, 0.061323546, 0.061304875)\n",
      "(10353811000000.0, 68, 0.060731784, 0.06071219)\n",
      "(10154115000000.0, 69, 0.06014326, 0.06012514)\n",
      "(9959191000000.0, 70, 0.059563186, 0.05954424)\n",
      "(9768017000000.0, 71, 0.058988735, 0.058969375)\n",
      "(9580400000000.0, 72, 0.05841948, 0.05840012)\n",
      "(9396191000000.0, 73, 0.05785512, 0.057836138)\n",
      "(9215622000000.0, 74, 0.05729652, 0.057277925)\n",
      "(9038762000000.0, 75, 0.056744054, 0.056724887)\n",
      "(8865412000000.0, 76, 0.05619729, 0.056178123)\n",
      "(8695000300000.0, 77, 0.05565455, 0.055636942)\n",
      "(8527928600000.0, 78, 0.055117268, 0.05510135)\n",
      "(8364498000000.0, 79, 0.054586574, 0.05457112)\n",
      "(8204475000000.0, 80, 0.0540619, 0.054046612)\n",
      "(8047844400000.0, 81, 0.053543366, 0.053527173)\n",
      "(7893388600000.0, 82, 0.05302707, 0.053012382)\n",
      "(7742331000000.0, 83, 0.052517224, 0.05250336)\n",
      "(7595165000000.0, 84, 0.052015707, 0.05199929)\n",
      "(7449958400000.0, 85, 0.051516082, 0.05150055)\n",
      "(7307905000000.0, 86, 0.051022574, 0.051006563)\n",
      "(7168544000000.0, 87, 0.05053373, 0.050517805)\n",
      "(7031724400000.0, 88, 0.050049163, 0.050034124)\n",
      "(6897592700000.0, 89, 0.049569514, 0.049555596)\n",
      "(6765990000000.0, 90, 0.049094357, 0.04908128)\n",
      "(6637674300000.0, 91, 0.048626598, 0.048612043)\n",
      "(6511487600000.0, 92, 0.048162166, 0.048147533)\n",
      "(6387607000000.0, 93, 0.047701824, 0.04768783)\n",
      "(6266187000000.0, 94, 0.047246274, 0.047232654)\n",
      "(6147283600000.0, 95, 0.04679587, 0.04678234)\n",
      "(6030702000000.0, 96, 0.04635001, 0.046336666)\n",
      "(5915963000000.0, 97, 0.04590697, 0.045895703)\n",
      "(5804374600000.0, 98, 0.045471955, 0.04545912)\n",
      "(5694345400000.0, 99, 0.045038905, 0.045026794)\n",
      "(5586275000000.0, 100, 0.04460947, 0.044598658)\n",
      "(5481020500000.0, 101, 0.04418721, 0.044175155)\n",
      "(5377298000000.0, 102, 0.043767117, 0.04375576)\n",
      "(5275406300000.0, 103, 0.043350477, 0.043340486)\n",
      "(5175646400000.0, 104, 0.04293863, 0.042929176)\n",
      "(5078288700000.0, 105, 0.04253286, 0.04252239)\n",
      "(4982441500000.0, 106, 0.042129565, 0.042119298)\n",
      "(4888488600000.0, 107, 0.04173046, 0.04172057)\n",
      "(4796229600000.0, 108, 0.041334804, 0.04132553)\n",
      "(4706072500000.0, 109, 0.040944465, 0.040934652)\n",
      "(4617026000000.0, 110, 0.040555246, 0.040547375)\n",
      "(4530399300000.0, 111, 0.040172987, 0.040164277)\n",
      "(4445407500000.0, 112, 0.039794374, 0.03978508)\n",
      "(4361979200000.0, 113, 0.03941919, 0.039409786)\n",
      "(4280424000000.0, 114, 0.039048944, 0.0390383)\n",
      "(4200070600000.0, 115, 0.038680688, 0.038670532)\n",
      "(4121451800000.0, 116, 0.038316958, 0.03830647)\n",
      "(4044084700000.0, 117, 0.037955616, 0.03794616)\n",
      "(3968359500000.0, 118, 0.037598576, 0.03758906)\n",
      "(3894230600000.0, 119, 0.03724575, 0.037235912)\n",
      "(3821555000000.0, 120, 0.036896568, 0.03688601)\n",
      "(3749971800000.0, 121, 0.03654937, 0.03653969)\n",
      "(3680027000000.0, 122, 0.036206905, 0.036197007)\n",
      "(3611111700000.0, 123, 0.035866283, 0.035857618)\n",
      "(3543927400000.0, 124, 0.03553107, 0.03552209)\n",
      "(3477743600000.0, 125, 0.03519773, 0.035189968)\n",
      "(3413250100000.0, 126, 0.034869842, 0.034861207)\n",
      "(3349654300000.0, 127, 0.034543466, 0.034535352)\n",
      "(3287370000000.0, 128, 0.0342208, 0.03421318)\n",
      "(3226450300000.0, 129, 0.03390224, 0.03389441)\n",
      "(3166540100000.0, 130, 0.03358601, 0.033578847)\n",
      "(3108034300000.0, 131, 0.03327429, 0.033266217)\n",
      "(3050446300000.0, 132, 0.032964583, 0.032956928)\n",
      "(2994171800000.0, 133, 0.032659102, 0.03265099)\n",
      "(2938876500000.0, 134, 0.032356128, 0.032347936)\n",
      "(2884731100000.0, 135, 0.03205668, 0.0320479)\n",
      "(2831330800000.0, 136, 0.031758588, 0.03175079)\n",
      "(2779017400000.0, 137, 0.031463828, 0.031456426)\n",
      "(2727855800000.0, 138, 0.031172857, 0.03116525)\n",
      "(2677647300000.0, 139, 0.030884644, 0.030876918)\n",
      "(2628418300000.0, 140, 0.030599415, 0.030591458)\n",
      "(2579943000000.0, 141, 0.030315934, 0.03030895)\n",
      "(2532598600000.0, 142, 0.030036483, 0.030029295)\n",
      "(2486112600000.0, 143, 0.029759547, 0.029752402)\n",
      "(2440596000000.0, 144, 0.029485863, 0.029478492)\n",
      "(2395924000000.0, 145, 0.029214766, 0.029207125)\n",
      "(2352041000000.0, 146, 0.028945984, 0.028938154)\n",
      "(2309033800000.0, 147, 0.028680125, 0.028672298)\n",
      "(2266738500000.0, 148, 0.028416239, 0.028409565)\n",
      "(2225325700000.0, 149, 0.028155465, 0.02814908)\n",
      "(2184769300000.0, 150, 0.02789772, 0.027890928)\n",
      "(2145032100000.0, 151, 0.027642848, 0.027635973)\n",
      "(2105897900000.0, 152, 0.027389528, 0.027383313)\n",
      "(2067663300000.0, 153, 0.027139748, 0.027133299)\n",
      "(2030046300000.0, 154, 0.026891738, 0.026885545)\n",
      "(1993244700000.0, 155, 0.026646871, 0.026640061)\n",
      "(1956859000000.0, 156, 0.026402537, 0.026397012)\n",
      "(1921420600000.0, 157, 0.026162373, 0.026156297)\n",
      "(1886722300000.0, 158, 0.025925066, 0.025918342)\n",
      "(1852692000000.0, 159, 0.025690202, 0.025682842)\n",
      "(1819228500000.0, 160, 0.025457134, 0.025449703)\n",
      "(1786289300000.0, 161, 0.025225617, 0.025219087)\n",
      "(1754201200000.0, 162, 0.02499802, 0.024990357)\n",
      "(1722536000000.0, 163, 0.024771372, 0.024763811)\n",
      "(1691506300000.0, 164, 0.024547242, 0.024539756)\n",
      "(1660972600000.0, 165, 0.02432468, 0.024318071)\n",
      "(1631157100000.0, 166, 0.02410537, 0.024098286)\n",
      "(1601956900000.0, 167, 0.023888635, 0.023881067)\n",
      "(1573050300000.0, 168, 0.023672123, 0.023666112)\n",
      "(1544883400000.0, 169, 0.02345923, 0.023452843)\n",
      "(1517453800000.0, 170, 0.023250036, 0.02324211)\n",
      "(1490203200000.0, 171, 0.023040328, 0.023033539)\n",
      "(1463542300000.0, 172, 0.022833293, 0.022826657)\n"
     ]
    },
    {
     "name": "stdout",
     "output_type": "stream",
     "text": [
      "(1437486300000.0, 173, 0.022629123, 0.022622103)\n",
      "(1411850700000.0, 174, 0.022426438, 0.022419836)\n",
      "(1386569000000.0, 175, 0.022224737, 0.022219438)\n",
      "(1362071800000.0, 176, 0.022027535, 0.022020914)\n",
      "(1337833200000.0, 177, 0.02183066, 0.021824371)\n",
      "(1314168900000.0, 178, 0.021636723, 0.021629985)\n",
      "(1291022000000.0, 179, 0.02144533, 0.021437997)\n",
      "(1268103500000.0, 180, 0.021254126, 0.02124728)\n",
      "(1245752200000.0, 181, 0.021065982, 0.021058163)\n",
      "(1223743500000.0, 182, 0.020879067, 0.020871611)\n",
      "(1202300100000.0, 183, 0.02069533, 0.020686854)\n",
      "(1180931700000.0, 184, 0.020510595, 0.020503767)\n",
      "(1160210800000.0, 185, 0.020329857, 0.020322671)\n",
      "(1139882600000.0, 186, 0.02015097, 0.02014343)\n",
      "(1119922300000.0, 187, 0.01997376, 0.019966148)\n",
      "(1100220600000.0, 188, 0.019797292, 0.01979028)\n",
      "(1080872500000.0, 189, 0.019622445, 0.019616064)\n",
      "(1061904250000.0, 190, 0.019449506, 0.019443551)\n",
      "(1043474700000.0, 191, 0.019279992, 0.019273087)\n",
      "(1025170600000.0, 192, 0.019110145, 0.019104308)\n",
      "(1007334000000.0, 193, 0.01894317, 0.018937578)\n",
      "(989971000000.0, 194, 0.018779201, 0.018772416)\n",
      "(972794560000.0, 195, 0.018615576, 0.018608807)\n",
      "(955863100000.0, 196, 0.018452862, 0.018446896)\n",
      "(939385750000.0, 197, 0.018293124, 0.018286748)\n",
      "(923199800000.0, 198, 0.018134842, 0.018127898)\n",
      "(907114600000.0, 199, 0.017976161, 0.0179705)\n",
      "(891480640000.0, 200, 0.017820582, 0.017814875)\n",
      "(876095800000.0, 201, 0.01766614, 0.017660983)\n",
      "(861107650000.0, 202, 0.017514374, 0.017508058)\n",
      "(846273840000.0, 203, 0.017362863, 0.017357234)\n",
      "(831831900000.0, 204, 0.017214075, 0.017208053)\n",
      "(817572800000.0, 205, 0.017065898, 0.017059961)\n",
      "(803585850000.0, 206, 0.016919287, 0.016913526)\n",
      "(789931360000.0, 207, 0.016774924, 0.016768608)\n",
      "(776388350000.0, 208, 0.016630504, 0.016625075)\n",
      "(763210700000.0, 209, 0.016488764, 0.016482787)\n",
      "(750241900000.0, 210, 0.016348073, 0.01634238)\n",
      "(737600800000.0, 211, 0.016209759, 0.016203415)\n",
      "(724994160000.0, 212, 0.01607064, 0.016065562)\n",
      "(712706500000.0, 213, 0.01593387, 0.015929278)\n",
      "(700736800000.0, 214, 0.0157995, 0.015794225)\n",
      "(689003000000.0, 215, 0.015666662, 0.01566087)\n",
      "(677382650000.0, 216, 0.015533987, 0.015528435)\n",
      "(666003830000.0, 217, 0.015402962, 0.015397492)\n",
      "(654871900000.0, 218, 0.015273693, 0.015267908)\n",
      "(643964400000.0, 219, 0.01514596, 0.015139734)\n",
      "(633206870000.0, 220, 0.01501892, 0.015012615)\n",
      "(622622000000.0, 221, 0.01489286, 0.014886947)\n",
      "(612281350000.0, 222, 0.014768671, 0.014762748)\n",
      "(602149550000.0, 223, 0.014645968, 0.014639511)\n",
      "(592131500000.0, 224, 0.0145236235, 0.014517687)\n",
      "(582290300000.0, 225, 0.014402427, 0.014396903)\n",
      "(572582130000.0, 226, 0.014281861, 0.014277589)\n",
      "(563243200000.0, 227, 0.014164912, 0.01415952)\n",
      "(553985100000.0, 228, 0.014048014, 0.014042838)\n",
      "(544883100000.0, 229, 0.013932131, 0.0139263645)\n",
      "(535888430000.0, 230, 0.01381666, 0.013811752)\n",
      "(527164700000.0, 231, 0.013703738, 0.013697912)\n",
      "(518576600000.0, 232, 0.0135916555, 0.013585517)\n",
      "(510131860000.0, 233, 0.013480535, 0.013474373)\n",
      "(501818230000.0, 234, 0.013370237, 0.01336414)\n",
      "(493722400000.0, 235, 0.013261948, 0.013255094)\n",
      "(485671630000.0, 236, 0.013153377, 0.013147063)\n",
      "(477911800000.0, 237, 0.013047875, 0.013040408)\n",
      "(470116430000.0, 238, 0.012941023, 0.012934514)\n",
      "(462513800000.0, 239, 0.012835957, 0.01282963)\n",
      "(455165870000.0, 240, 0.012733586, 0.012725972)\n",
      "(447751420000.0, 241, 0.012629448, 0.01262338)\n",
      "(440613040000.0, 242, 0.01252837, 0.012521666)\n",
      "(433561240000.0, 243, 0.01242771, 0.012421039)\n",
      "(426602140000.0, 244, 0.012327568, 0.012321196)\n",
      "(419752440000.0, 245, 0.012228199, 0.0122225145)\n",
      "(413149920000.0, 246, 0.012131646, 0.012124935)\n",
      "(406609400000.0, 247, 0.012035236, 0.012028474)\n",
      "(400189460000.0, 248, 0.011939846, 0.011932723)\n",
      "(393817300000.0, 249, 0.011844406, 0.011838053)\n",
      "(387603300000.0, 250, 0.011750589, 0.011744386)\n",
      "(381472240000.0, 251, 0.011657284, 0.011651592)\n",
      "(375474000000.0, 252, 0.011565272, 0.011559333)\n",
      "(369610820000.0, 253, 0.011474618, 0.0114684645)\n",
      "(363835200000.0, 254, 0.011384613, 0.011378384)\n",
      "(358146000000.0, 255, 0.0112952525, 0.011288994)\n",
      "(352581840000.0, 256, 0.011207168, 0.011200612)\n",
      "(347005260000.0, 257, 0.011118186, 0.011112925)\n",
      "(341652730000.0, 258, 0.0110321045, 0.011026307)\n",
      "(336414830000.0, 259, 0.01094721, 0.0109406775)\n",
      "(331140960000.0, 260, 0.010861063, 0.010855499)\n",
      "(326029700000.0, 261, 0.010776916, 0.0107716145)\n",
      "(321000140000.0, 262, 0.010693466, 0.010688076)\n",
      "(316026750000.0, 263, 0.010610304, 0.010605591)\n",
      "(311243370000.0, 264, 0.010529699, 0.010523693)\n",
      "(306448500000.0, 265, 0.010448276, 0.010442641)\n",
      "(301773950000.0, 266, 0.010368281, 0.0103620915)\n",
      "(297077640000.0, 267, 0.010287288, 0.010282451)\n",
      "(292574950000.0, 268, 0.01020903, 0.010203646)\n",
      "(288124900000.0, 269, 0.010131093, 0.010125578)\n",
      "(283764260000.0, 270, 0.010054136, 0.010048108)\n",
      "(279449440000.0, 271, 0.009977403, 0.009971485)\n",
      "(275175700000.0, 272, 0.009900815, 0.0098953955)\n",
      "(271023240000.0, 273, 0.0098258285, 0.009820363)\n",
      "(266946770000.0, 274, 0.009751652, 0.009745818)\n",
      "(262924300000.0, 275, 0.009677903, 0.009672145)\n",
      "(258962770000.0, 276, 0.009604717, 0.009598931)\n",
      "(255063050000.0, 277, 0.009532124, 0.009526662)\n",
      "(251176120000.0, 278, 0.009459214, 0.00945483)\n",
      "(247427060000.0, 279, 0.009388355, 0.009383717)\n",
      "(243731370000.0, 280, 0.009317976, 0.009313232)\n",
      "(240140700000.0, 281, 0.009249086, 0.009243474)\n",
      "(236555350000.0, 282, 0.00917978, 0.009174429)\n",
      "(233046720000.0, 283, 0.009111448, 0.009106146)\n",
      "(229584390000.0, 284, 0.009043511, 0.009038318)\n",
      "(226154350000.0, 285, 0.0089757005, 0.008971206)\n",
      "(222841540000.0, 286, 0.008909718, 0.008904553)\n",
      "(219491010000.0, 287, 0.008842484, 0.008838257)\n",
      "(216246500000.0, 288, 0.008776885, 0.008772453)\n",
      "(213039120000.0, 289, 0.008711553, 0.008707678)\n",
      "(209900160000.0, 290, 0.008647135, 0.008643383)\n",
      "(206860680000.0, 291, 0.0085843, 0.008579635)\n",
      "(203821420000.0, 292, 0.008521005, 0.00851619)\n",
      "(200831570000.0, 293, 0.008458276, 0.008453467)\n",
      "(197901760000.0, 294, 0.008396354, 0.0083912825)\n",
      "(195011050000.0, 295, 0.008334806, 0.008329539)\n",
      "(192138940000.0, 296, 0.008273201, 0.008268302)\n",
      "(189325200000.0, 297, 0.008212401, 0.008207482)\n",
      "(186578900000.0, 298, 0.008152619, 0.00814742)\n",
      "(183833310000.0, 299, 0.008092412, 0.008087551)\n",
      "(181180100000.0, 300, 0.008033803, 0.0080283005)\n",
      "(178525980000.0, 301, 0.007974741, 0.00796972)\n",
      "(175925280000.0, 302, 0.007916442, 0.007911709)\n",
      "(173407350000.0, 303, 0.007859586, 0.007854025)\n",
      "(170857100000.0, 304, 0.007801577, 0.007796923)\n",
      "(168367770000.0, 305, 0.0077445353, 0.0077402)\n",
      "(165929290000.0, 306, 0.007688249, 0.007683845)\n",
      "(163534980000.0, 307, 0.007632578, 0.00762801)\n",
      "(161176170000.0, 308, 0.0075773317, 0.00757262)\n",
      "(158845520000.0, 309, 0.0075223474, 0.007517628)\n",
      "(156573910000.0, 310, 0.007468366, 0.007463018)\n",
      "(154287930000.0, 311, 0.0074136467, 0.0074091083)\n",
      "(152104700000.0, 312, 0.007361007, 0.0073554786)\n",
      "(149896430000.0, 313, 0.0073073776, 0.0073022055)\n",
      "(147740110000.0, 314, 0.0072546275, 0.0072495253)\n",
      "(145608640000.0, 315, 0.007202105, 0.0071970783)\n",
      "(143539110000.0, 316, 0.007150741, 0.0071452055)\n",
      "(141461830000.0, 317, 0.00709881, 0.007093716)\n",
      "(139434120000.0, 318, 0.0070477487, 0.0070424546)\n",
      "(137449730000.0, 319, 0.0069974186, 0.0069913864)\n",
      "(135426700000.0, 320, 0.0069457325, 0.00694094)\n",
      "(133513600000.0, 321, 0.0068964986, 0.006891028)\n",
      "(131605100000.0, 322, 0.0068470305, 0.0068412675)\n",
      "(129705230000.0, 323, 0.0067974282, 0.006792188)\n",
      "(127834200000.0, 324, 0.0067482227, 0.0067432756)\n",
      "(126025530000.0, 325, 0.006700314, 0.0066947937)\n",
      "(124216750000.0, 326, 0.006652057, 0.006646389)\n",
      "(122421750000.0, 327, 0.0066038193, 0.0065986076)\n",
      "(120653730000.0, 328, 0.0065559596, 0.0065511265)\n",
      "(118932820000.0, 329, 0.006509037, 0.006504038)\n",
      "(117220330000.0, 330, 0.006462006, 0.006457375)\n",
      "(115567480000.0, 331, 0.006416286, 0.0064109964)\n",
      "(113882055000.0, 332, 0.0063693267, 0.0063648177)\n",
      "(112244875000.0, 333, 0.006323378, 0.0063188323)\n",
      "(110652604000.0, 334, 0.0062783672, 0.0062733903)\n",
      "(109066800000.0, 335, 0.0062332163, 0.0062282966)\n",
      "(107500310000.0, 336, 0.0061882916, 0.0061833533)\n",
      "(105963995000.0, 337, 0.006143913, 0.00613884)\n",
      "(104456050000.0, 338, 0.0061000404, 0.0060948012)\n",
      "(102949310000.0, 339, 0.006055885, 0.0060509117)\n",
      "(101491750000.0, 340, 0.0060128625, 0.006007369)\n",
      "(100023450000.0, 341, 0.0059692096, 0.0059641404)\n",
      "(98578150000.0, 342, 0.0059259264, 0.00592105)\n"
     ]
    },
    {
     "name": "stdout",
     "output_type": "stream",
     "text": [
      "(97169195000.0, 343, 0.0058834245, 0.0058783484)\n",
      "(95782640000.0, 344, 0.005841297, 0.005836031)\n",
      "(94403480000.0, 345, 0.0057990905, 0.005793534)\n",
      "(93054600000.0, 346, 0.0057575116, 0.005751801)\n",
      "(91707220000.0, 347, 0.0057156766, 0.0057102093)\n",
      "(90372860000.0, 348, 0.005673942, 0.0056689205)\n",
      "(89067610000.0, 349, 0.005632819, 0.00562799)\n",
      "(87778950000.0, 350, 0.005591922, 0.0055873333)\n",
      "(86515835000.0, 351, 0.0055515426, 0.0055469857)\n",
      "(85259340000.0, 352, 0.005511082, 0.005506523)\n",
      "(84028120000.0, 353, 0.005471145, 0.005466747)\n",
      "(82824310000.0, 354, 0.005431813, 0.0054271203)\n",
      "(81630550000.0, 355, 0.0053925263, 0.0053878315)\n",
      "(80436716000.0, 356, 0.005352949, 0.005348599)\n",
      "(79268290000.0, 357, 0.005313928, 0.005309694)\n",
      "(78128050000.0, 358, 0.00527557, 0.0052712453)\n",
      "(77003070000.0, 359, 0.0052374504, 0.005233018)\n",
      "(75892376000.0, 360, 0.0051995404, 0.005194887)\n",
      "(74796520000.0, 361, 0.005161864, 0.0051571694)\n",
      "(73721000000.0, 362, 0.0051246183, 0.005119496)\n",
      "(72624490000.0, 363, 0.005086364, 0.005082136)\n",
      "(71564894000.0, 364, 0.0050491225, 0.0050452524)\n",
      "(70532450000.0, 365, 0.005012569, 0.005008293)\n",
      "(69508890000.0, 366, 0.0049760654, 0.004971624)\n",
      "(68498362000.0, 367, 0.0049397615, 0.0049350965)\n",
      "(67491987000.0, 368, 0.00490334, 0.0048991307)\n",
      "(66516530000.0, 369, 0.004867777, 0.004863194)\n",
      "(65527600000.0, 370, 0.004831456, 0.0048273816)\n",
      "(64575095000.0, 371, 0.0047962125, 0.004791972)\n",
      "(63621590000.0, 372, 0.004760671, 0.004756798)\n",
      "(62685790000.0, 373, 0.0047255293, 0.004721616)\n",
      "(61765394000.0, 374, 0.004690709, 0.0046867644)\n",
      "(60854268000.0, 375, 0.0046559833, 0.0046521123)\n",
      "(59960308000.0, 376, 0.004621658, 0.0046176785)\n",
      "(59060440000.0, 377, 0.004586847, 0.004583349)\n",
      "(58185785000.0, 378, 0.004552756, 0.0045494214)\n",
      "(57323320000.0, 379, 0.004518888, 0.0045158076)\n",
      "(56483254000.0, 380, 0.0044856537, 0.0044824155)\n",
      "(55647840000.0, 381, 0.0044523575, 0.0044489703)\n",
      "(54833140000.0, 382, 0.0044196458, 0.004415836)\n",
      "(54020645000.0, 383, 0.0043867794, 0.004382931)\n",
      "(53227872000.0, 384, 0.0043544713, 0.0043502627)\n",
      "(52444623000.0, 385, 0.0043223146, 0.004317836)\n",
      "(51663663000.0, 386, 0.004290012, 0.0042856713)\n",
      "(50889880000.0, 387, 0.004257764, 0.0042536636)\n",
      "(50122510000.0, 388, 0.004225541, 0.0042215944)\n",
      "(49382363000.0, 389, 0.004194226, 0.0041898116)\n",
      "(48635863000.0, 390, 0.0041624038, 0.0041583274)\n",
      "(47908164000.0, 391, 0.004131147, 0.00412705)\n",
      "(47181955000.0, 392, 0.004099717, 0.004096098)\n",
      "(46473430000.0, 393, 0.004068818, 0.0040651616)\n",
      "(45770596000.0, 394, 0.004037934, 0.004034178)\n",
      "(45085737000.0, 395, 0.0040076105, 0.004003577)\n",
      "(44406387000.0, 396, 0.0039773025, 0.003973118)\n",
      "(43726176000.0, 397, 0.003946723, 0.0039428533)\n",
      "(43060834000.0, 398, 0.003916581, 0.0039127893)\n",
      "(42410960000.0, 399, 0.003886914, 0.003883026)\n",
      "(41772143000.0, 400, 0.0038575297, 0.0038534757)\n",
      "(41135796000.0, 401, 0.0038280345, 0.0038238282)\n",
      "(40509920000.0, 402, 0.0037988015, 0.0037945388)\n",
      "(39894606000.0, 403, 0.0037698406, 0.0037654194)\n",
      "(39271772000.0, 404, 0.0037402976, 0.0037362326)\n",
      "(38673342000.0, 405, 0.0037116904, 0.0037074315)\n",
      "(38075167000.0, 406, 0.0036828734, 0.0036789426)\n",
      "(37484340000.0, 407, 0.0036541875, 0.0036502879)\n",
      "(36911346000.0, 408, 0.0036261505, 0.0036218541)\n",
      "(36336857000.0, 409, 0.003597821, 0.0035937151)\n",
      "(35771750000.0, 410, 0.003569735, 0.0035657478)\n",
      "(35213545000.0, 411, 0.0035417734, 0.0035378258)\n",
      "(34659066000.0, 412, 0.003513778, 0.0035100603)\n",
      "(34125177000.0, 413, 0.0034866098, 0.003482543)\n",
      "(33585338000.0, 414, 0.003458922, 0.0034550542)\n",
      "(33054005000.0, 415, 0.0034314522, 0.0034277206)\n",
      "(32538348000.0, 416, 0.0034045808, 0.0034005966)\n",
      "(32024422000.0, 417, 0.003377587, 0.0033737242)\n",
      "(31513154000.0, 418, 0.003350517, 0.0033469638)\n",
      "(31017060000.0, 419, 0.0033240397, 0.003320366)\n",
      "(30524742000.0, 420, 0.0032975539, 0.003293765)\n",
      "(30041980000.0, 421, 0.003271374, 0.0032674277)\n",
      "(29564103000.0, 422, 0.0032452508, 0.003241301)\n",
      "(29091750000.0, 423, 0.0032192213, 0.0032153819)\n",
      "(28630147000.0, 424, 0.0031935791, 0.003189511)\n",
      "(28164530000.0, 425, 0.0031675037, 0.0031638353)\n",
      "(27716670000.0, 426, 0.0031422188, 0.003138064)\n",
      "(27261004000.0, 427, 0.0031162826, 0.0031125688)\n",
      "(26817833000.0, 428, 0.0030908487, 0.0030871185)\n",
      "(26389125000.0, 429, 0.003066044, 0.0030618818)\n",
      "(25958228000.0, 430, 0.0030409088, 0.003036909)\n",
      "(25535465000.0, 431, 0.0030160446, 0.0030119615)\n",
      "(25113514000.0, 432, 0.0029910223, 0.0029872642)\n",
      "(24708026000.0, 433, 0.0029667772, 0.0029626896)\n",
      "(24291699000.0, 434, 0.002941676, 0.0029382259)\n",
      "(23890016000.0, 435, 0.0029172532, 0.0029138182)\n",
      "(23496888000.0, 436, 0.0028931508, 0.0028896914)\n",
      "(23106554000.0, 437, 0.0028690195, 0.0028654172)\n",
      "(22717635000.0, 438, 0.0028447718, 0.0028415339)\n",
      "(22347065000.0, 439, 0.0028214746, 0.0028177486)\n",
      "(21979339000.0, 440, 0.0027981643, 0.0027941947)\n",
      "(21606791000.0, 441, 0.0027743485, 0.002770473)\n",
      "(21244428000.0, 442, 0.0027509863, 0.0027470512)\n",
      "(20885125000.0, 443, 0.0027276236, 0.0027238354)\n",
      "(20539785000.0, 444, 0.0027049787, 0.0027009)\n",
      "(20193425000.0, 445, 0.002682075, 0.0026781086)\n",
      "(19852382000.0, 446, 0.00265933, 0.0026553422)\n",
      "(19508820000.0, 447, 0.0026362184, 0.0026326089)\n",
      "(19176655000.0, 448, 0.0026136795, 0.0026101123)\n",
      "(18853048000.0, 449, 0.0025915327, 0.0025878944)\n",
      "(18528225000.0, 450, 0.0025691106, 0.0025654954)\n",
      "(18205070000.0, 451, 0.0025466077, 0.0025434487)\n",
      "(17893206000.0, 452, 0.0025247012, 0.0025216702)\n",
      "(17591497000.0, 453, 0.0025033252, 0.002499801)\n",
      "(17291946000.0, 454, 0.0024819204, 0.002478242)\n",
      "(16996915000.0, 455, 0.0024606562, 0.002456759)\n",
      "(16700826000.0, 456, 0.0024391296, 0.0024354637)\n",
      "(16413866000.0, 457, 0.0024180838, 0.0024144994)\n",
      "(16131335000.0, 458, 0.0023971822, 0.0023935777)\n",
      "(15850982000.0, 459, 0.0023762602, 0.0023727282)\n",
      "(15575538000.0, 460, 0.0023555234, 0.0023518908)\n",
      "(15303051000.0, 461, 0.002334828, 0.0023312136)\n",
      "(15042690000.0, 462, 0.002314881, 0.0023109403)\n",
      "(14782582000.0, 463, 0.00229478, 0.0022907062)\n",
      "(14522540000.0, 464, 0.0022745065, 0.0022705074)\n",
      "(14265954000.0, 465, 0.0022543238, 0.0022504798)\n",
      "(14020547000.0, 466, 0.0022348498, 0.0022305981)\n",
      "(13768429000.0, 467, 0.0022146653, 0.0022108296)\n",
      "(13528817000.0, 468, 0.0021953098, 0.0021912076)\n",
      "(13291016000.0, 469, 0.0021759304, 0.002171877)\n",
      "(13054682000.0, 470, 0.002156498, 0.0021525528)\n",
      "(12824742000.0, 471, 0.0021374216, 0.0021333867)\n",
      "(12596905000.0, 472, 0.0021183505, 0.0021143872)\n",
      "(12372230000.0, 473, 0.0020993743, 0.0020953754)\n",
      "(12152958000.0, 474, 0.0020806876, 0.0020766575)\n",
      "(11937512000.0, 475, 0.0020621622, 0.0020581598)\n",
      "(11726117000.0, 476, 0.0020438216, 0.0020396104)\n",
      "(11514676000.0, 477, 0.002025311, 0.0020212)\n",
      "(11310668000.0, 478, 0.0020072896, 0.002003058)\n",
      "(11105022000.0, 479, 0.0019889579, 0.0019848777)\n",
      "(10902386000.0, 480, 0.001970728, 0.0019668252)\n",
      "(10712480000.0, 481, 0.0019534887, 0.0019489843)\n",
      "(10514850000.0, 482, 0.0019353853, 0.0019312176)\n",
      "(10323577000.0, 483, 0.0019177014, 0.0019136951)\n",
      "(10138228000.0, 484, 0.0019004083, 0.0018962652)\n",
      "(9956274000.0, 485, 0.0018832774, 0.0018788826)\n",
      "(9771341000.0, 486, 0.001865705, 0.0018617018)\n",
      "(9597913000.0, 487, 0.001849074, 0.0018445995)\n",
      "(9418729000.0, 488, 0.0018317326, 0.0018275313)\n",
      "(9244560000.0, 489, 0.0018147174, 0.0018106027)\n",
      "(9078368000.0, 490, 0.0017983317, 0.0017937991)\n",
      "(8908710000.0, 491, 0.0017814486, 0.0017771812)\n",
      "(8747062000.0, 492, 0.0017652126, 0.0017607332)\n",
      "(8583260700.0, 493, 0.0017486063, 0.001744267)\n",
      "(8422705700.0, 494, 0.0017321748, 0.0017280503)\n",
      "(8268190000.0, 495, 0.0017162127, 0.0017118888)\n",
      "(8112301600.0, 496, 0.0016999571, 0.0016958476)\n",
      "(7961308000.0, 497, 0.0016840622, 0.0016798705)\n",
      "(7812059600.0, 498, 0.0016682021, 0.0016639995)\n",
      "(7668512300.0, 499, 0.0016528044, 0.0016483534)\n",
      "(7520756000.0, 500, 0.0016368038, 0.0016326144)\n",
      "(7377747000.0, 501, 0.0016211671, 0.0016171638)\n",
      "(7239588000.0, 502, 0.001605916, 0.0016015907)\n",
      "(7099615000.0, 503, 0.0015903155, 0.0015862009)\n",
      "(6966233000.0, 504, 0.0015753058, 0.0015710945)\n",
      "(6832330000.0, 505, 0.0015600924, 0.0015558919)\n",
      "(6701570600.0, 506, 0.0015450915, 0.0015409901)\n",
      "(6572916700.0, 507, 0.0015301886, 0.0015262128)\n",
      "(6447564300.0, 508, 0.0015155271, 0.0015116252)\n",
      "(6324681000.0, 509, 0.0015010156, 0.0014969953)\n",
      "(6205910500.0, 510, 0.0014868551, 0.0014826428)\n",
      "(6088038000.0, 511, 0.0014726671, 0.0014684525)\n",
      "(5973110300.0, 512, 0.0014587006, 0.0014543582)\n"
     ]
    },
    {
     "name": "stdout",
     "output_type": "stream",
     "text": [
      "(5855646000.0, 513, 0.0014442864, 0.0014404247)\n",
      "(5743806500.0, 514, 0.0014304273, 0.0014265645)\n",
      "(5635661300.0, 515, 0.0014168972, 0.001412868)\n",
      "(5527168500.0, 516, 0.0014031925, 0.0013992598)\n",
      "(5425452500.0, 517, 0.0013902212, 0.0013858668)\n",
      "(5317894700.0, 518, 0.0013763717, 0.0013725531)\n",
      "(5218283500.0, 519, 0.0013634202, 0.0013596232)\n",
      "(5119727600.0, 520, 0.0013504836, 0.0013464987)\n",
      "(5021656000.0, 521, 0.0013374864, 0.001333557)\n",
      "(4927879000.0, 522, 0.0013249391, 0.0013206505)\n",
      "(4832850000.0, 523, 0.0013121018, 0.0013078947)\n",
      "(4739171300.0, 524, 0.0012993229, 0.0012952981)\n",
      "(4648438000.0, 525, 0.0012868247, 0.001282888)\n",
      "(4559027700.0, 526, 0.001274389, 0.0012704646)\n",
      "(4472596000.0, 527, 0.001262251, 0.0012581829)\n",
      "(4386849000.0, 528, 0.0012500926, 0.0012459602)\n",
      "(4305911000.0, 529, 0.0012385068, 0.0012340206)\n",
      "(4223016200.0, 530, 0.0012265274, 0.0012220908)\n",
      "(4142256000.0, 531, 0.0012147429, 0.0012102224)\n",
      "(4062286600.0, 532, 0.0012029599, 0.0011983531)\n",
      "(3986283800.0, 533, 0.0011916535, 0.0011868504)\n",
      "(3905147000.0, 534, 0.0011794637, 0.0011752595)\n",
      "(3834511600.0, 535, 0.0011687481, 0.0011639496)\n",
      "(3757768400.0, 536, 0.0011569934, 0.0011523397)\n",
      "(3685447200.0, 537, 0.0011458057, 0.0011411681)\n",
      "(3613132300.0, 538, 0.0011345086, 0.0011299383)\n",
      "(3543327500.0, 539, 0.0011234961, 0.0011187991)\n",
      "(3475101200.0, 540, 0.0011126271, 0.0011078928)\n",
      "(3406841900.0, 541, 0.0011016455, 0.0010970086)\n",
      "(3339597000.0, 542, 0.0010907191, 0.001086263)\n",
      "(3274128100.0, 543, 0.001079975, 0.0010755325)\n",
      "(3211725000.0, 544, 0.0010696338, 0.0010650853)\n",
      "(3148588300.0, 545, 0.0010590679, 0.0010545567)\n",
      "(3086140700.0, 546, 0.0010485129, 0.0010443009)\n",
      "(3027808500.0, 547, 0.0010385565, 0.0010340845)\n",
      "(2971520800.0, 548, 0.0010288577, 0.0010241262)\n",
      "(2912474400.0, 549, 0.0010185842, 0.0010140166)\n",
      "(2855446800.0, 550, 0.0010085627, 0.0010039273)\n",
      "(2800499500.0, 551, 0.0009988117, 0.0009941872)\n",
      "(2743030300.0, 552, 0.0009885103, 0.0009841479)\n",
      "(2690100500.0, 553, 0.0009789267, 0.000974598)\n",
      "(2639079000.0, 554, 0.0009695988, 0.00096497324)\n",
      "(2586184700.0, 555, 0.000959833, 0.00095523585)\n",
      "(2536108000.0, 556, 0.00095049484, 0.0009458554)\n",
      "(2486126800.0, 557, 0.0009410822, 0.0009365677)\n",
      "(2437622300.0, 558, 0.00093185663, 0.00092738646)\n",
      "(2390922200.0, 559, 0.00092288724, 0.0009182541)\n",
      "(2343427000.0, 560, 0.0009136747, 0.0009090345)\n",
      "(2296726800.0, 561, 0.000904525, 0.0009001079)\n",
      "(2251911200.0, 562, 0.0008956566, 0.0008911874)\n",
      "(2209305300.0, 563, 0.0008871433, 0.0008824534)\n",
      "(2164636000.0, 564, 0.00087812904, 0.00087369373)\n",
      "(2120834000.0, 565, 0.00086919905, 0.00086473377)\n",
      "(2079984400.0, 566, 0.00086078746, 0.0008562664)\n",
      "(2039802000.0, 567, 0.0008524323, 0.00084782444)\n",
      "(1999060200.0, 568, 0.0008438764, 0.00083944434)\n",
      "(1959898600.0, 569, 0.00083556975, 0.00083106884)\n",
      "(1921004300.0, 570, 0.0008272372, 0.00082275784)\n",
      "(1884206600.0, 571, 0.00081927585, 0.0008147326)\n",
      "(1846295700.0, 572, 0.0008109919, 0.0008066314)\n",
      "(1810701700.0, 573, 0.0008031365, 0.00079855596)\n",
      "(1774958200.0, 574, 0.00079516997, 0.0007907046)\n",
      "(1740941200.0, 575, 0.0007875134, 0.0007829474)\n",
      "(1705078800.0, 576, 0.00077936, 0.0007751419)\n",
      "(1671752800.0, 577, 0.0007717061, 0.0007674115)\n",
      "(1638822100.0, 578, 0.00076406763, 0.0007597831)\n",
      "(1606576600.0, 579, 0.0007565134, 0.000752158)\n",
      "(1574442500.0, 580, 0.0007489094, 0.0007445245)\n",
      "(1544713900.0, 581, 0.0007418053, 0.00073732785)\n",
      "(1514170000.0, 582, 0.00073443475, 0.000729957)\n",
      "(1485847700.0, 583, 0.00072753354, 0.0007228501)\n",
      "(1456525400.0, 584, 0.0007203191, 0.0007158284)\n",
      "(1428632000.0, 585, 0.0007133885, 0.00070872746)\n",
      "(1401994800.0, 586, 0.00070670655, 0.0007017953)\n",
      "(1372879200.0, 587, 0.00069932983, 0.0006948515)\n",
      "(1347011300.0, 588, 0.0006927101, 0.0006879578)\n",
      "(1320212500.0, 589, 0.00068578473, 0.0006811951)\n",
      "(1295196400.0, 590, 0.00067925634, 0.0006745306)\n",
      "(1270896400.0, 591, 0.0006728542, 0.0006679081)\n",
      "(1247394600.0, 592, 0.00066660385, 0.00066144357)\n",
      "(1223479800.0, 593, 0.00066018297, 0.000654919)\n",
      "(1197793900.0, 594, 0.0006532162, 0.0006483979)\n",
      "(1175272600.0, 595, 0.0006470461, 0.00064210966)\n",
      "(1152777100.0, 596, 0.00064082374, 0.0006358163)\n",
      "(1129200600.0, 597, 0.00063423684, 0.00062944996)\n",
      "(1106980000.0, 598, 0.0006279655, 0.000623216)\n",
      "(1086171900.0, 599, 0.0006220355, 0.00061720435)\n",
      "(1064217500.0, 600, 0.0006157169, 0.00061108934)\n",
      "(1044767940.0, 601, 0.0006100646, 0.00060508517)\n",
      "(1025115840.0, 602, 0.0006042997, 0.0005992347)\n",
      "(1005427700.0, 603, 0.0005984685, 0.0005933719)\n",
      "(984182100.0, 604, 0.00059211167, 0.0005875781)\n",
      "(965609340.0, 605, 0.0005864981, 0.0005816748)\n",
      "(947588200.0, 606, 0.0005809995, 0.0005762002)\n",
      "(929329540.0, 607, 0.0005753747, 0.00057050143)\n",
      "(911027800.0, 608, 0.00056968094, 0.0005649009)\n",
      "(892647400.0, 609, 0.00056390493, 0.0005592461)\n",
      "(876452400.0, 610, 0.0005587661, 0.00055399444)\n",
      "(858660400.0, 611, 0.00055306556, 0.00054849527)\n",
      "(842570300.0, 612, 0.00054785924, 0.0005430201)\n",
      "(826131200.0, 613, 0.00054248836, 0.0005376454)\n",
      "(811063500.0, 614, 0.00053751835, 0.0005324969)\n",
      "(794994750.0, 615, 0.0005321671, 0.00052724004)\n",
      "(779883840.0, 616, 0.00052708527, 0.0005221399)\n",
      "(764661200.0, 617, 0.00052191573, 0.00051697314)\n",
      "(749559000.0, 618, 0.0005167361, 0.00051193155)\n",
      "(735935000.0, 619, 0.00051201845, 0.000506966)\n",
      "(720884500.0, 620, 0.0005067558, 0.00050206966)\n",
      "(707657900.0, 621, 0.0005020854, 0.0004971357)\n",
      "(693555460.0, 622, 0.00049705734, 0.00049237837)\n",
      "(679812350.0, 623, 0.000492108, 0.00048764245)\n",
      "(667358140.0, 624, 0.00048757944, 0.0004827921)\n",
      "(653764160.0, 625, 0.00048258793, 0.0004780721)\n",
      "(641918800.0, 626, 0.00047819602, 0.0004734422)\n",
      "(629535500.0, 627, 0.0004735611, 0.0004688808)\n",
      "(617978900.0, 628, 0.0004691943, 0.00046435)\n",
      "(606112700.0, 629, 0.0004646678, 0.0004598782)\n",
      "(594031360.0, 630, 0.00046001349, 0.00045527474)\n",
      "(583383300.0, 631, 0.00045587195, 0.00045096973)\n",
      "(571940030.0, 632, 0.0004513788, 0.00044669234)\n",
      "(562072200.0, 633, 0.00044746796, 0.00044254801)\n",
      "(551485400.0, 634, 0.00044323382, 0.00043833922)\n",
      "(541009660.0, 635, 0.00043900392, 0.00043419597)\n",
      "(530871700.0, 636, 0.00043487124, 0.00043018017)\n",
      "(521243300.0, 637, 0.00043090957, 0.0004263123)\n",
      "(511973250.0, 638, 0.00042706062, 0.0004222622)\n",
      "(502186660.0, 639, 0.00042295922, 0.0004182887)\n",
      "(491878370.0, 640, 0.0004185957, 0.0004141314)\n",
      "(483402620.0, 641, 0.00041497353, 0.00041028796)\n",
      "(474736930.0, 642, 0.0004112372, 0.0004065107)\n",
      "(466575000.0, 643, 0.00040768678, 0.0004026644)\n",
      "(457624400.0, 644, 0.00040375738, 0.00039888354)\n",
      "(449338780.0, 645, 0.00040008553, 0.00039507373)\n",
      "(441268400.0, 646, 0.0003964764, 0.00039148718)\n"
     ]
    }
   ],
   "source": [
    "sess = tf.Session()\n",
    "sess.run(tf.global_variables_initializer())\n",
    "log = []\n",
    "#for i in range(1000):\n",
    "gradnorm_val = sess.run([gradnorm])\n",
    "i = 0\n",
    "while gradnorm_val > eps:    \n",
    "    i = i + 1\n",
    "    F_v, rel_error1_v, gradnorm_val,_ = sess.run([F, rel_error1, gradnorm, train_step.op])\n",
    "    print (F_v, i, gradnorm_val, rel_error1_v)\n",
    "    log.append(F_v)"
   ]
  },
  {
   "cell_type": "code",
   "execution_count": null,
   "metadata": {
    "collapsed": true
   },
   "outputs": [],
   "source": []
  },
  {
   "cell_type": "code",
   "execution_count": 20,
   "metadata": {
    "collapsed": true
   },
   "outputs": [],
   "source": [
    "estimated_val = sess.run(t3f.full(X))"
   ]
  },
  {
   "cell_type": "code",
   "execution_count": 21,
   "metadata": {
    "collapsed": true
   },
   "outputs": [],
   "source": [
    "def relative_error(x_hat,x_true):\n",
    "    percent_error = np.linalg.norm(x_hat - x_true) / np.linalg.norm(x_true)\n",
    "    return percent_error"
   ]
  },
  {
   "cell_type": "code",
   "execution_count": 22,
   "metadata": {
    "collapsed": true
   },
   "outputs": [],
   "source": [
    "rel_error = relative_error(estimated_val,ground_truth)"
   ]
  },
  {
   "cell_type": "code",
   "execution_count": 23,
   "metadata": {},
   "outputs": [
    {
     "data": {
      "text/plain": [
       "0.003023469"
      ]
     },
     "execution_count": 23,
     "metadata": {},
     "output_type": "execute_result"
    }
   ],
   "source": [
    "rel_error"
   ]
  },
  {
   "cell_type": "code",
   "execution_count": 24,
   "metadata": {
    "collapsed": true
   },
   "outputs": [],
   "source": [
    "x_miss_img = mt.reconstruct_image_affine(x_true_org, x_train)"
   ]
  },
  {
   "cell_type": "code",
   "execution_count": 25,
   "metadata": {
    "collapsed": true
   },
   "outputs": [],
   "source": [
    "x_miss = image.index_img(x_miss_img,1)"
   ]
  },
  {
   "cell_type": "code",
   "execution_count": 26,
   "metadata": {},
   "outputs": [
    {
     "data": {
      "image/png": "[encoded data removed]",
      "text/plain": [
       "<matplotlib.figure.Figure at 0x151482ad0>"
      ]
     },
     "metadata": {},
     "output_type": "display_data"
    }
   ],
   "source": [
    "x_miss_image = plotting.plot_epi(x_miss, bg_img=None,black_bg=True, cmap='jet', cut_coords=None) "
   ]
  },
  {
   "cell_type": "code",
   "execution_count": 27,
   "metadata": {},
   "outputs": [
    {
     "data": {
      "image/png": "[encoded data removed]",
      "text/plain": [
       "<matplotlib.figure.Figure at 0x1587955d0>"
      ]
     },
     "metadata": {},
     "output_type": "display_data"
    }
   ],
   "source": [
    "x_hat_img = mt.reconstruct_image_affine(x_true_org, estimated_val)\n",
    "x_hat = image.index_img(x_hat_img,1)\n",
    "recovered_image = plotting.plot_epi(x_hat, bg_img=None,black_bg=True, cmap='jet', cut_coords=None)"
   ]
  },
  {
   "cell_type": "code",
   "execution_count": 28,
   "metadata": {},
   "outputs": [
    {
     "data": {
      "image/png": "[encoded data removed]",
      "text/plain": [
       "<matplotlib.figure.Figure at 0x15b125890>"
      ]
     },
     "metadata": {},
     "output_type": "display_data"
    }
   ],
   "source": [
    "x_true_org_img = image.index_img(x_true_org,1)\n",
    "org_image = plotting.plot_epi(x_true_org_img, bg_img=None,black_bg=True, cmap='jet', cut_coords=None)"
   ]
  },
  {
   "cell_type": "code",
   "execution_count": 32,
   "metadata": {
    "collapsed": true
   },
   "outputs": [],
   "source": [
    "import mri_draw_utils as mrd"
   ]
  },
  {
   "cell_type": "code",
   "execution_count": 29,
   "metadata": {
    "collapsed": true
   },
   "outputs": [],
   "source": [
    "images_folder = \"/work/scratch/tt\""
   ]
  },
  {
   "cell_type": "code",
   "execution_count": 33,
   "metadata": {},
   "outputs": [
    {
     "name": "stdout",
     "output_type": "stream",
     "text": [
      "('Saving figure', '/work/scratch/tt/missing_ratio_10.00.png')\n",
      "Called from mrd\n"
     ]
    }
   ],
   "source": [
    "mrd.draw_original_vs_reconstructed_rim(x_true_org_img, x_hat, x_miss, \"Rim\", rel_error, observed_ratio, coord=None, folder=images_folder)"
   ]
  },
  {
   "cell_type": "code",
   "execution_count": null,
   "metadata": {
    "collapsed": true
   },
   "outputs": [],
   "source": []
  },
  {
   "cell_type": "code",
   "execution_count": null,
   "metadata": {
    "collapsed": true
   },
   "outputs": [],
   "source": []
  }
 ],
 "metadata": {
  "kernelspec": {
   "display_name": "Python 2",
   "language": "python",
   "name": "python2"
  },
  "language_info": {
   "codemirror_mode": {
    "name": "ipython",
    "version": 2
   },
   "file_extension": ".py",
   "mimetype": "text/x-python",
   "name": "python",
   "nbconvert_exporter": "python",
   "pygments_lexer": "ipython2",
   "version": "2.7.13"
  }
 },
 "nbformat": 4,
 "nbformat_minor": 2
}
