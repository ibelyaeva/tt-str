{
 "cells": [
  {
   "cell_type": "code",
   "execution_count": 1,
   "metadata": {},
   "outputs": [
    {
     "name": "stderr",
     "output_type": "stream",
     "text": [
      "/usr/local/lib/python2.7/site-packages/matplotlib/__init__.py:1405: UserWarning: \n",
      "This call to matplotlib.use() has no effect because the backend has already\n",
      "been chosen; matplotlib.use() must be called *before* pylab, matplotlib.pyplot,\n",
      "or matplotlib.backends is imported for the first time.\n",
      "\n",
      "  warnings.warn(_use_error_msg)\n"
     ]
    }
   ],
   "source": [
    "import tensorflow as tf\n",
    "import numpy as np\n",
    "import t3f\n",
    "tf.set_random_seed(0)\n",
    "np.random.seed(0)\n",
    "%matplotlib inline\n",
    "import matplotlib.pyplot as plt\n",
    "import metric_util as mt\n",
    "import data_util as du\n",
    "from t3f import shapes\n",
    "from nilearn import image\n",
    "from skimage.measure import compare_ssim as ssim\n",
    "from tensorflow.python.util import nest\n",
    "import copy\n",
    "from nilearn import plotting\n",
    "from t3f import ops\n",
    "import mri_draw_utils as mrd\n",
    "from t3f import initializers\n",
    "from t3f import approximate\n",
    "from scipy import optimize \n",
    "from nilearn.masking import compute_background_mask\n",
    "from nilearn.masking import compute_epi_mask\n",
    "from collections import OrderedDict\n",
    "import pandas as pd"
   ]
  },
  {
   "cell_type": "code",
   "execution_count": 2,
   "metadata": {
    "collapsed": true
   },
   "outputs": [],
   "source": [
    "#sess = tf.InteractiveSession()"
   ]
  },
  {
   "cell_type": "code",
   "execution_count": 3,
   "metadata": {
    "collapsed": true
   },
   "outputs": [],
   "source": [
    "def frobenius_norm_tf_squared(x):\n",
    "    return tf.reduce_sum(x ** 2)"
   ]
  },
  {
   "cell_type": "code",
   "execution_count": 4,
   "metadata": {
    "collapsed": true
   },
   "outputs": [],
   "source": [
    "def frobenius_norm_tf(x):\n",
    "    return tf.reduce_sum(x ** 2) ** 0.5"
   ]
  },
  {
   "cell_type": "code",
   "execution_count": 5,
   "metadata": {
    "collapsed": true
   },
   "outputs": [],
   "source": [
    "def relative_error1(x_hat,x_true):\n",
    "    percent_error = frobenius_norm_tf(x_hat - x_true) / frobenius_norm_tf(x_true)\n",
    "    return percent_error"
   ]
  },
  {
   "cell_type": "code",
   "execution_count": 6,
   "metadata": {
    "collapsed": true
   },
   "outputs": [],
   "source": [
    "def innerProduct(x, y):\n",
    "    result = tf.reduce_sum(tf.multiply(x, y))\n",
    "    return result"
   ]
  },
  {
   "cell_type": "code",
   "execution_count": 7,
   "metadata": {
    "collapsed": true
   },
   "outputs": [],
   "source": [
    "def compute_step_size(n_omega, grad):\n",
    "    result = -innerProduct(n_omega,grad)/(innerProduct(n_omega, n_omega))\n",
    "    return result"
   ]
  },
  {
   "cell_type": "code",
   "execution_count": 8,
   "metadata": {
    "collapsed": true
   },
   "outputs": [],
   "source": [
    "def draw(omega, x_true, x_hat, rel_error):\n",
    "    images_folder = \"/work/scratch/tt3\"\n",
    "    ten_ones = np.ones_like(omega)\n",
    "    x_reconstr1 = mt.reconstruct2(x_hat,ground_truth, omega)\n",
    "    x_hat_img = mt.reconstruct_image_affine(x_true_org, x_reconstr1)\n",
    "    x_hat_est = image.index_img(x_hat_img,1)\n",
    "    \n",
    "    x_true_org_img = image.index_img(x_true,1)\n",
    "    x_miss_img = mt.reconstruct_image_affine(x_true_org, x_train)\n",
    "    x_miss = image.index_img(x_miss_img,1)\n",
    "    mrd.draw_original_vs_reconstructed_rim(x_true_org_img,x_hat_est, x_miss, \"Rim Completion\",\n",
    "                                             rel_error, observed_ratio, coord=None, folder=images_folder)"
   ]
  },
  {
   "cell_type": "code",
   "execution_count": 9,
   "metadata": {},
   "outputs": [
    {
     "name": "stdout",
     "output_type": "stream",
     "text": [
      "Subject Path: /work/pl/sch/analysis/data/COBRE001/swaAMAYER+cobre01_63001+M87100944+20110309at135133+RSTpre_V01_R01+CM.nii\n"
     ]
    }
   ],
   "source": [
    "subject_scan_path = du.get_full_path_subject1()\n",
    "print \"Subject Path: \" + str(subject_scan_path)\n",
    "x_true_org = mt.read_image_abs_path(subject_scan_path)\n"
   ]
  },
  {
   "cell_type": "code",
   "execution_count": 10,
   "metadata": {
    "collapsed": true
   },
   "outputs": [],
   "source": [
    "def get_mask(data, observed_ratio):\n",
    "    \n",
    "    if len(data.shape) == 3:\n",
    "        mask_indices = (np.random.rand(data.shape[0],data.shape[1],data.shape[2]) < observed_ratio).astype('int') \n",
    "    elif len(data.shape) == 4:\n",
    "        mask_indices = (np.random.rand(data.shape[0],data.shape[1],data.shape[2], data.shape[3]) < observed_ratio).astype('int') \n",
    "    elif len(data.shape) == 2:\n",
    "        mask_indices = (np.random.rand(data.shape[0],data.shape[1]) < observed_ratio).astype('int') \n",
    "    \n",
    "    return mask_indices"
   ]
  },
  {
   "cell_type": "code",
   "execution_count": 130,
   "metadata": {
    "collapsed": true
   },
   "outputs": [],
   "source": [
    "x_true_img = np.array(x_true_org.get_data())\n",
    "\n",
    "mask_img = compute_epi_mask(x_true_org)\n",
    "mask_img_data = np.array(mask_img.get_data())\n",
    "\n",
    "observed_ratio = 0.2\n",
    "missing_ratio = 1 - observed_ratio\n",
    "\n",
    "mask_indices = get_mask(x_true_img, observed_ratio)\n",
    "epi_mask = copy.deepcopy(mask_img_data)\n",
    "    \n",
    "mask_indices[epi_mask==0] = 1\n",
    "\n",
    "\n",
    "\n",
    "#x_true_img = np.array(x_true_org.get_data())\n",
    "\n",
    "norm_ground_truth = np.linalg.norm(x_true_img)\n",
    "x_true_img = x_true_img * (1./norm_ground_truth)\n",
    "\n",
    "#mask_indices = (np.random.rand(x_true_img.shape[0],x_true_img.shape[1],x_true_img.shape[2], x_true_img.shape[3]) < observed_ratio).astype('int') \n",
    "ten_ones = np.ones_like(mask_indices)\n",
    "x_train = copy.deepcopy(x_true_img)\n",
    "x_train[mask_indices==0] = 0.0\n",
    "#x_train[mask_indices == 0] = np.mean(x_train[mask_indices == 1])\n",
    "#x_train[mask_indices == 0] = np.mean(x_train[mask_indices == 1])\n",
    "\n",
    "x_init = copy.deepcopy(x_train)\n",
    "#shape = (1, 53, 63, 63, 1)\n",
    "#x_init_tf = t3f.random_tensor(shape, tt_rank=63)\n",
    "\n",
    "\n",
    "ground_truth = copy.deepcopy(x_true_img)\n",
    "a_omega = copy.deepcopy(ground_truth)\n",
    "a_omega[mask_indices==0] = 0.0\n",
    "\n",
    "sparse_observation = copy.deepcopy(ground_truth)\n",
    "sparse_observation[mask_indices==0] = 0.0"
   ]
  },
  {
   "cell_type": "code",
   "execution_count": 12,
   "metadata": {},
   "outputs": [
    {
     "data": {
      "text/plain": [
       "74916430.0"
      ]
     },
     "execution_count": 12,
     "metadata": {},
     "output_type": "execute_result"
    }
   ],
   "source": [
    "norm_ground_truth"
   ]
  },
  {
   "cell_type": "code",
   "execution_count": 13,
   "metadata": {
    "collapsed": true
   },
   "outputs": [],
   "source": [
    "folder = '/work/rs1/'"
   ]
  },
  {
   "cell_type": "code",
   "execution_count": 14,
   "metadata": {},
   "outputs": [
    {
     "data": {
      "image/png": "[encoded data removed]",
      "text/plain": [
       "<matplotlib.figure.Figure at 0x129a66e50>"
      ]
     },
     "metadata": {},
     "output_type": "display_data"
    }
   ],
   "source": [
    "x_org = mt.reconstruct_image_affine(x_true_org, x_true_img)\n",
    "x_org_img = image.index_img(x_org,1)\n",
    "#x_true_org_img = image.index_img(x_true_org,1)\n",
    "org_image = plotting.plot_epi(x_org_img, bg_img=None,black_bg=True, cmap='jet', cut_coords=None)"
   ]
  },
  {
   "cell_type": "code",
   "execution_count": 15,
   "metadata": {
    "collapsed": true
   },
   "outputs": [],
   "source": [
    "ten_ones = np.ones_like(mask_indices)\n"
   ]
  },
  {
   "cell_type": "code",
   "execution_count": 16,
   "metadata": {},
   "outputs": [
    {
     "name": "stdout",
     "output_type": "stream",
     "text": [
      "0.5210458\n"
     ]
    }
   ],
   "source": [
    "norm_sparse_observation = np.linalg.norm(sparse_observation)\n",
    "print norm_sparse_observation"
   ]
  },
  {
   "cell_type": "code",
   "execution_count": 17,
   "metadata": {},
   "outputs": [
    {
     "name": "stdout",
     "output_type": "stream",
     "text": [
      "[1, 53, 1, 1, 1] 0 (1, 53, 53)\n",
      "[1, 53, 63, 1, 1] 1 (53, 63, 63)\n",
      "[1, 53, 63, 63, 1] 2 (63, 46, 63)\n",
      "ranks: [1, 53, 63, 63, 1]\n"
     ]
    }
   ],
   "source": [
    "mask_indices_tf = t3f.to_tt_tensor(mask_indices.astype('float32'), max_tt_rank=63)"
   ]
  },
  {
   "cell_type": "code",
   "execution_count": 136,
   "metadata": {
    "collapsed": true
   },
   "outputs": [],
   "source": [
    "#x_miss_img = mt.reconstruct_image_affine(x_true_org, x_train*norm_ground_truth)\n",
    "x_miss_img = mt.reconstruct_image_affine(x_true_org, x_train)"
   ]
  },
  {
   "cell_type": "code",
   "execution_count": 19,
   "metadata": {
    "collapsed": true
   },
   "outputs": [],
   "source": [
    "x_miss = norm_ground_truth*x_train"
   ]
  },
  {
   "cell_type": "code",
   "execution_count": 138,
   "metadata": {
    "collapsed": true
   },
   "outputs": [],
   "source": [
    "x_miss = image.index_img(x_miss_img,1)"
   ]
  },
  {
   "cell_type": "code",
   "execution_count": 140,
   "metadata": {},
   "outputs": [
    {
     "data": {
      "image/png": "[encoded data removed]",
      "text/plain": [
       "<matplotlib.figure.Figure at 0x14b0cda10>"
      ]
     },
     "metadata": {},
     "output_type": "display_data"
    }
   ],
   "source": [
    "x_miss_image = plotting.plot_epi(x_miss, bg_img=None,black_bg=True, cmap='jet', cut_coords=[1, -13, 32]) "
   ]
  },
  {
   "cell_type": "code",
   "execution_count": 22,
   "metadata": {},
   "outputs": [
    {
     "name": "stdout",
     "output_type": "stream",
     "text": [
      "('Saving figure', '/work/scratch/tt3/missing_ratio_80.00.png')\n",
      "Called from mrd\n"
     ]
    }
   ],
   "source": [
    "images_folder = \"/work/scratch/tt3\"\n",
    "mrd.draw_original_vs_reconstructed_rim(image.index_img(x_true_org,1),image.index_img(x_miss_img,1), image.index_img(x_miss_img,1), \"Rim Completion\",\n",
    "                                             observed_ratio, observed_ratio, coord=None, folder=images_folder)"
   ]
  },
  {
   "cell_type": "code",
   "execution_count": 23,
   "metadata": {},
   "outputs": [
    {
     "name": "stdout",
     "output_type": "stream",
     "text": [
      "Missing Ratio: 0.8\n",
      "x_true_path:/work/rs1/x_true_img_80\n"
     ]
    }
   ],
   "source": [
    "import nibabel as nib\n",
    "import os\n",
    "\n",
    "suffix = int(round((missing_ratio)*100.0, 0))\n",
    "print \"Missing Ratio: \" + str(missing_ratio)\n",
    "x_true_path = os.path.join(folder,\"x_true_img_\" + str(suffix))\n",
    "x_miss_path = os.path.join(folder,\"x_miss_img_\" + str(suffix))\n",
    "        \n",
    "print(\"x_true_path:\" + str(x_true_path))\n",
    "nib.save(x_true_org, x_true_path)\n",
    "nib.save(x_miss_img, x_miss_path)"
   ]
  },
  {
   "cell_type": "code",
   "execution_count": null,
   "metadata": {
    "collapsed": true
   },
   "outputs": [],
   "source": []
  },
  {
   "cell_type": "code",
   "execution_count": 24,
   "metadata": {},
   "outputs": [
    {
     "name": "stdout",
     "output_type": "stream",
     "text": [
      "[1, 53, 1, 1, 1] 0 (1, 53, 53)\n",
      "[1, 53, 63, 1, 1] 1 (53, 63, 63)\n",
      "[1, 53, 63, 63, 1] 2 (63, 46, 63)\n",
      "ranks: [1, 53, 63, 63, 1]\n"
     ]
    }
   ],
   "source": [
    "ground_truth_tf = t3f.to_tt_tensor(ground_truth, max_tt_rank=63)"
   ]
  },
  {
   "cell_type": "code",
   "execution_count": 25,
   "metadata": {
    "collapsed": true
   },
   "outputs": [],
   "source": [
    "A = t3f.get_variable('A', initializer=ground_truth_tf, trainable=False)"
   ]
  },
  {
   "cell_type": "code",
   "execution_count": 26,
   "metadata": {
    "collapsed": true
   },
   "outputs": [],
   "source": [
    "ground_truth = tf.get_variable('ground_truth', initializer=ground_truth, trainable=False)\n",
    "sparsity_mask = tf.get_variable('sparsity_mask', initializer=mask_indices, trainable=False)\n",
    "sparsity_mask = tf.cast(sparsity_mask,tf.float32)\n",
    "sparse_observation = ground_truth * sparsity_mask"
   ]
  },
  {
   "cell_type": "code",
   "execution_count": 27,
   "metadata": {
    "collapsed": true
   },
   "outputs": [],
   "source": [
    "#sparsity_mask = t3f.get_variable('sparsity_mask', initializer=mask_indices_tf, trainable=False)\n",
    "#sparsity_mask = t3f.cast(sparsity_mask, tf.float32)\n",
    "#sparse_observation_tf = t3f.to_tt_tensor(sparse_observation, max_tt_rank=63)\n",
    "#sparse_observation_tf3 = t3f.get_variable('sparse_observation_tf', initializer=sparse_observation_tf, trainable=False)"
   ]
  },
  {
   "cell_type": "code",
   "execution_count": 28,
   "metadata": {},
   "outputs": [],
   "source": [
    "shape  =  (53, 63, 46, 144)"
   ]
  },
  {
   "cell_type": "code",
   "execution_count": 29,
   "metadata": {
    "collapsed": true
   },
   "outputs": [],
   "source": [
    "\n",
    "\n",
    "x_init1 = np.random.rand(53, 63, 46, 144).astype('float32')\n",
    "norm_ground_x_init1 = np.linalg.norm(x_init1)\n",
    "x_init1 = x_true_img * (1./norm_ground_x_init1)"
   ]
  },
  {
   "cell_type": "code",
   "execution_count": 30,
   "metadata": {},
   "outputs": [
    {
     "name": "stdout",
     "output_type": "stream",
     "text": [
      "[1, 53, 1, 1, 1] 0 (1, 53, 53)\n",
      "[1, 53, 63, 1, 1] 1 (53, 63, 63)\n",
      "[1, 53, 63, 63, 1] 2 (63, 46, 63)\n",
      "ranks: [1, 53, 63, 63, 1]\n"
     ]
    }
   ],
   "source": [
    "x_train_tf = t3f.to_tt_tensor(x_init1, max_tt_rank=63)"
   ]
  },
  {
   "cell_type": "code",
   "execution_count": 31,
   "metadata": {
    "collapsed": true
   },
   "outputs": [],
   "source": [
    "#x_train_tf = t3f.random_tensor(shape, tt_rank=63)"
   ]
  },
  {
   "cell_type": "code",
   "execution_count": 32,
   "metadata": {
    "collapsed": true
   },
   "outputs": [],
   "source": [
    "normAOmegavar = tf.get_variable('normAOmega', initializer=norm_sparse_observation, trainable=False)"
   ]
  },
  {
   "cell_type": "code",
   "execution_count": 33,
   "metadata": {
    "collapsed": true
   },
   "outputs": [],
   "source": [
    "X = t3f.get_variable('X', initializer=x_train_tf)"
   ]
  },
  {
   "cell_type": "code",
   "execution_count": 34,
   "metadata": {
    "collapsed": true
   },
   "outputs": [],
   "source": [
    "X_new = t3f.get_variable('X_new', initializer=x_train_tf)"
   ]
  },
  {
   "cell_type": "code",
   "execution_count": null,
   "metadata": {
    "collapsed": true
   },
   "outputs": [],
   "source": []
  },
  {
   "cell_type": "code",
   "execution_count": 35,
   "metadata": {},
   "outputs": [
    {
     "name": "stdout",
     "output_type": "stream",
     "text": [
      "A Tensor Train variable of shape (53, 63, 46, 144), TT-ranks: (1, 53, 63, 63, 1)\n"
     ]
    }
   ],
   "source": [
    "print X"
   ]
  },
  {
   "cell_type": "code",
   "execution_count": 36,
   "metadata": {
    "collapsed": true
   },
   "outputs": [],
   "source": [
    "def train_it_rel_cost(cost_hist, k):\n",
    "    res = np.abs(cost_hist[k] - cost_hist[k-1])/np.abs(cost_hist[k])\n",
    "    return res"
   ]
  },
  {
   "cell_type": "code",
   "execution_count": 37,
   "metadata": {
    "collapsed": true
   },
   "outputs": [],
   "source": [
    "counter = tf.get_variable('counter', initializer=0)"
   ]
  },
  {
   "cell_type": "code",
   "execution_count": 38,
   "metadata": {
    "collapsed": true
   },
   "outputs": [],
   "source": [
    "one = tf.constant(1)\n",
    "zero_point1 = tf.constant(0.1)"
   ]
  },
  {
   "cell_type": "code",
   "execution_count": 39,
   "metadata": {
    "collapsed": true
   },
   "outputs": [],
   "source": [
    "tt_zeros = initializers.tensor_zeros([53, 63, 46, 144])"
   ]
  },
  {
   "cell_type": "code",
   "execution_count": 40,
   "metadata": {
    "collapsed": true
   },
   "outputs": [],
   "source": [
    "#eta_t3f_old = t3f.get_variable('eta_t3f_old', initializer=tt_zeros)\n",
    "#grad_t3f_old = t3f.get_variable('grad_t3f_old', initializer=tt_zeros)"
   ]
  },
  {
   "cell_type": "code",
   "execution_count": 41,
   "metadata": {
    "collapsed": true
   },
   "outputs": [],
   "source": [
    "eta_old = tf.get_variable('eta_old', shape = (53, 63, 46, 144), validate_shape=False)\n",
    "grad_old = tf.get_variable('grad_old', shape = (53, 63, 46, 144), validate_shape=False)"
   ]
  },
  {
   "cell_type": "code",
   "execution_count": 42,
   "metadata": {
    "collapsed": true
   },
   "outputs": [],
   "source": [
    "one = tf.constant(1)\n",
    "zero_point1 = tf.constant(0.1)"
   ]
  },
  {
   "cell_type": "code",
   "execution_count": 43,
   "metadata": {
    "collapsed": true
   },
   "outputs": [],
   "source": [
    "\n",
    "\n",
    "def gradient(x):\n",
    "    return np.multiply(x,mask_indices) - a_omega\n",
    "    \n",
    "def cost_func(x):\n",
    "    return 0.5*(np.linalg.norm(np.multiply(x,mask_indices)-a_omega)** 2)\n",
    "\n",
    "def find_step_size(x,g,d, old_cost):\n",
    "    step_size = optimize.line_search(cost_func,gradient,x,d,gfk=None, old_fval=old_cost)"
   ]
  },
  {
   "cell_type": "code",
   "execution_count": 44,
   "metadata": {
    "collapsed": true
   },
   "outputs": [],
   "source": [
    "# Algorithm\n",
    "#grad_full = (t3f.full(X)*t3f.full(sparse_observation_tf3) - t3f.full(sparse_observation_tf3))\n",
    "#counter_step = tf.assign(counter, counter + 1)\n",
    "\n",
    "#grad_trans = t3f.riemannian.project(grad_t3f_old, X)\n",
    "#eta_trans = t3f.riemannian.project(eta_t3f_old, X)\n",
    "    \n",
    "#grad_full = sparsity_mask * t3f.full(X) - sparse_observation\n",
    "#grad_t3f = t3f.to_tt_tensor(grad_full, max_tt_rank=63)\n",
    "\n",
    "#loss = 0.5 * t3f.frobenius_norm_squared(grad_t3f)\n",
    "#gradnorm_omega = t3f.frobenius_norm(grad_t3f)/(normAOmegavar)\n",
    "\n",
    "#riemannian_grad = t3f.riemannian.project(grad_t3f, X)\n",
    "\n",
    "\n",
    "#eta_omega = sparsity_mask * t3f.full(-riemannian_grad)\n",
    "#alpha = compute_step_size(eta_omega, grad_full)\n",
    "\n",
    "\n",
    "\n",
    "#riemannian_grad_norm = t3f.flat_inner(riemannian_grad, riemannian_grad)\n",
    "\n",
    "\n",
    "\n",
    "#rel_error1 = relative_error1(t3f.full(X), t3f.full(sparse_observation))\n",
    "\n",
    "\n"
   ]
  },
  {
   "cell_type": "code",
   "execution_count": 45,
   "metadata": {
    "collapsed": true
   },
   "outputs": [],
   "source": [
    "eps = 1e-5\n",
    "epsilon_train=1e-4"
   ]
  },
  {
   "cell_type": "code",
   "execution_count": 46,
   "metadata": {
    "collapsed": true
   },
   "outputs": [],
   "source": [
    "#print grad_full"
   ]
  },
  {
   "cell_type": "code",
   "execution_count": 47,
   "metadata": {
    "collapsed": true
   },
   "outputs": [],
   "source": [
    "#print grad_t3f"
   ]
  },
  {
   "cell_type": "code",
   "execution_count": 48,
   "metadata": {},
   "outputs": [
    {
     "name": "stdout",
     "output_type": "stream",
     "text": [
      "1e-05\n"
     ]
    }
   ],
   "source": [
    "print eps"
   ]
  },
  {
   "cell_type": "code",
   "execution_count": 49,
   "metadata": {
    "collapsed": true
   },
   "outputs": [],
   "source": [
    "#alpha = 0.3\n"
   ]
  },
  {
   "cell_type": "code",
   "execution_count": 50,
   "metadata": {
    "collapsed": true
   },
   "outputs": [],
   "source": [
    "#sess = tf.Session()\n",
    "#sess.run(tf.global_variables_initializer())"
   ]
  },
  {
   "cell_type": "code",
   "execution_count": 51,
   "metadata": {
    "collapsed": true
   },
   "outputs": [],
   "source": [
    "def compute_loss(x):\n",
    "    return 0.5*frobenius_norm_tf_squared(sparsity_mask * t3f.full(x) - sparse_observation)"
   ]
  },
  {
   "cell_type": "code",
   "execution_count": 52,
   "metadata": {
    "collapsed": true
   },
   "outputs": [],
   "source": [
    "def tsc(x_hat,x_true, ten_ones, mask):\n",
    "    nomin = np.linalg.norm(np.multiply((ten_ones - mask), (x_true - x_hat)))\n",
    "    denom = np.linalg.norm(np.multiply((ten_ones - mask), x_true))\n",
    "    score = nomin/denom\n",
    "    return score  "
   ]
  },
  {
   "cell_type": "code",
   "execution_count": 53,
   "metadata": {
    "collapsed": true
   },
   "outputs": [],
   "source": [
    "def tsc_tf(x_hat,x_true_omega, mask):\n",
    "    score = frobenius_norm_tf(sparsity_mask * x_hat - sparse_observation)/normAOmegavar\n",
    "    return score  \n"
   ]
  },
  {
   "cell_type": "code",
   "execution_count": null,
   "metadata": {
    "collapsed": true
   },
   "outputs": [],
   "source": []
  },
  {
   "cell_type": "code",
   "execution_count": null,
   "metadata": {
    "collapsed": true
   },
   "outputs": [],
   "source": []
  },
  {
   "cell_type": "code",
   "execution_count": 54,
   "metadata": {
    "collapsed": true
   },
   "outputs": [],
   "source": [
    "#first step"
   ]
  },
  {
   "cell_type": "code",
   "execution_count": 55,
   "metadata": {},
   "outputs": [
    {
     "name": "stdout",
     "output_type": "stream",
     "text": [
      "[1, 53, 1, 1, 1] 0 (1, 53, 53)\n",
      "[1, 53, 63, 1, 1] 1 (53, 63, 63)\n",
      "[1, 53, 63, 63, 1] 2 (63, 46, 63)\n",
      "ranks: [1, 53, 63, 63, 1]\n",
      "Max_TT rank63\n",
      "[1, 53, 63, 63, 1]\n",
      "Max_TT rank63\n",
      "[1, 53, 63, 63, 1]\n"
     ]
    }
   ],
   "source": [
    "zero_point1 = tf.constant(0.1)\n",
    "backtack_const = tf.constant(1e-4)\n",
    "\n",
    "initial_cost = compute_loss(X)\n",
    "cost = tf.get_variable('cost', initializer=initial_cost)\n",
    "cost_new = tf.get_variable('cost_new', initializer=0.0)\n",
    "\n",
    "tsc_score_curr = tsc_tf(t3f.full(X),ground_truth, sparse_observation)\n",
    "completion_score = tf.get_variable('completion_score', initializer=tsc_score_curr)\n",
    "\n",
    "grad_full_0 = sparsity_mask * t3f.full(X) - sparse_observation\n",
    "grad_t3f_0 = t3f.to_tt_tensor(grad_full_0, max_tt_rank=63)\n",
    "\n",
    "gradnorm_omega_0 = t3f.frobenius_norm(grad_t3f_0)/(normAOmegavar)\n",
    "riemannian_grad_0 = t3f.riemannian.project(grad_t3f_0, X)\n",
    "riemannian_grad_0 = t3f.round(riemannian_grad_0, max_tt_rank =63, epsilon = 1e-15)\n",
    "\n",
    "grad_t3f_old = t3f.get_variable('grad_t3f_old', initializer=riemannian_grad_0)\n",
    "\n",
    "#grad_t3f_old_op = t3f.assign(grad_t3f_old, riemannian_grad_0, validate_shape=False)\n",
    "riemannian_grad_full_0 = t3f.full(riemannian_grad_0)\n",
    "riemannian_grad_init_op = tf.assign(grad_old,riemannian_grad_full_0)\n",
    "\n",
    "eta_t3f_0 = -riemannian_grad_0\n",
    "eta_t3f_old = t3f.get_variable('eta_t3f_old', initializer=eta_t3f_0)\n",
    "\n",
    "eta_0 = -riemannian_grad_init_op\n",
    "eta_omega_0 = sparsity_mask * t3f.full(-riemannian_grad_0)\n",
    "\n",
    "alpha_0 = compute_step_size(eta_omega_0, riemannian_grad_init_op)\n",
    "eta_op_0 = tf.assign(eta_old,eta_0, validate_shape=False)\n",
    "\n",
    "eta_norm = tf.get_variable('eta_norm', initializer=0.0)\n",
    "eta_norm_init_op = tf.assign(eta_norm, frobenius_norm_tf(eta_op_0))\n",
    "\n",
    "alpha_old = tf.get_variable('alpha_old', initializer=0.0)\n",
    "\n",
    "train_step_0 = t3f.assign(X, t3f.round(X - alpha_0 * eta_t3f_0, max_tt_rank=63))\n",
    "\n"
   ]
  },
  {
   "cell_type": "code",
   "execution_count": 56,
   "metadata": {},
   "outputs": [
    {
     "name": "stdout",
     "output_type": "stream",
     "text": [
      "Rim 0:A Tensor Train of shape (53, 63, 46, 144), TT-ranks: (1, 53, 63, 63, 1)\n"
     ]
    }
   ],
   "source": [
    "print \"Rim 0:\" + str(riemannian_grad_0)"
   ]
  },
  {
   "cell_type": "code",
   "execution_count": 57,
   "metadata": {},
   "outputs": [
    {
     "name": "stdout",
     "output_type": "stream",
     "text": [
      "Eta 0: A Tensor Train of shape (53, 63, 46, 144), TT-ranks: (1, 53, 63, 63, 1)\n"
     ]
    }
   ],
   "source": [
    "print \"Eta 0: \" + str(eta_t3f_0)"
   ]
  },
  {
   "cell_type": "code",
   "execution_count": 58,
   "metadata": {
    "collapsed": true
   },
   "outputs": [],
   "source": [
    "#tt = t3f.round(eta_t3f_old, max_tt_rank =63, epsilon = 1e-15"
   ]
  },
  {
   "cell_type": "code",
   "execution_count": null,
   "metadata": {
    "collapsed": true
   },
   "outputs": [],
   "source": []
  },
  {
   "cell_type": "code",
   "execution_count": null,
   "metadata": {
    "collapsed": true
   },
   "outputs": [],
   "source": []
  },
  {
   "cell_type": "code",
   "execution_count": 59,
   "metadata": {
    "collapsed": true
   },
   "outputs": [],
   "source": [
    "# new\n",
    "#t3f.assign(eta_t3f_old, t3f.round(eta_t3f_old, max_tt_rank =63, epsilon = 1e-15))\n"
   ]
  },
  {
   "cell_type": "code",
   "execution_count": 60,
   "metadata": {},
   "outputs": [
    {
     "name": "stdout",
     "output_type": "stream",
     "text": [
      "[1, 53, 1, 1, 1] 0 (1, 53, 53)\n",
      "[1, 53, 63, 1, 1] 1 (53, 63, 63)\n",
      "[1, 53, 63, 63, 1] 2 (63, 46, 63)\n",
      "ranks: [1, 53, 63, 63, 1]\n",
      "Max_TT rank63\n",
      "[1, 53, 63, 63, 1]\n",
      "Rim Grad shape: A Tensor Train of shape (53, 63, 46, 144), TT-ranks: (1, 53, 63, 63, 1)\n",
      "eta_trans: A Tensor Train of shape (53, 63, 46, 144), TT-ranks: (1, 106, 126, 126, 1)\n",
      "steepest descent\n",
      "conjugate gradient\n",
      "Max_TT rank63\n",
      "[1, 53, 63, 63, 1]\n",
      "[1, 53, 1, 1, 1] 0 (1, 53, 53)\n",
      "[1, 53, 63, 1, 1] 1 (53, 63, 63)\n",
      "[1, 53, 63, 63, 1] 2 (63, 46, 63)\n",
      "ranks: [1, 53, 63, 63, 1]\n",
      "eta: A Tensor Train of shape (53, 63, 46, 144), TT-ranks: (1, 53, 63, 63, 1)\n"
     ]
    }
   ],
   "source": [
    "counter_step = tf.assign(counter, counter + 1)\n",
    "\n",
    "grad_trans = t3f.riemannian.project(grad_t3f_old, X)\n",
    "eta_trans = t3f.riemannian.project(eta_t3f_old, X)\n",
    "    \n",
    "grad_full = sparsity_mask * t3f.full(X) - sparse_observation\n",
    "grad_t3f = t3f.to_tt_tensor(grad_full, max_tt_rank=63)\n",
    "\n",
    "\n",
    "loss = 0.5 * t3f.frobenius_norm_squared(grad_t3f)\n",
    "gradnorm_omega = t3f.frobenius_norm(grad_t3f)/(normAOmegavar)\n",
    "\n",
    "riemannian_grad =  t3f.round(t3f.riemannian.project(grad_t3f, X),max_tt_rank =63)\n",
    "#riemannian_grad = t3f.round(riemannian_grad, max_tt_rank =63, epsilon = 1e-15)\n",
    "riemannian_grad_norm = t3f.frobenius_norm(riemannian_grad)\n",
    "\n",
    "inner_product_rim_grad = t3f.flat_inner(riemannian_grad, riemannian_grad)\n",
    "ip_xitrans_xi = t3f.flat_inner(grad_trans,riemannian_grad)\n",
    "theta = ip_xitrans_xi / inner_product_rim_grad\n",
    "\n",
    "def get_theta():\n",
    "    return t3f.full(ip_xitrans_xi / inner_product_rim_grad)\n",
    "\n",
    "def get_value_zero_point1():\n",
    "    return zero_point1\n",
    "    \n",
    "def get_conj_dir():\n",
    "    print \"conjugate gradient\"\n",
    "    tf.Print(zero_point1,[zero_point1],message=\"conjugate gradient\")\n",
    "    return t3f.full(approximate.add_n([-riemannian_grad, beta*eta_trans], max_tt_rank=63))\n",
    "\n",
    "def get_rim_grad():\n",
    "    print \"steepest descent\"\n",
    "    tf.Print(zero_point1,[zero_point1],message=\"steepest descent\")\n",
    "    return t3f.full(-riemannian_grad)\n",
    "\n",
    "# compute beta\n",
    "inner_product_rim_grad_old = t3f.flat_inner(grad_t3f_old, grad_t3f_old)\n",
    "beta = tf.maximum(0.0, (inner_product_rim_grad - ip_xitrans_xi)/inner_product_rim_grad_old)\n",
    "#eta = -riemannian_grad + beta*eta_trans\n",
    "\n",
    "print \"Rim Grad shape: \" + str(riemannian_grad)\n",
    "print \"eta_trans: \" + str(eta_trans)\n",
    "\n",
    "eta_cond = tf.cond((tf.abs(theta) >= zero_point1), get_rim_grad, get_conj_dir)\n",
    "eta_norm_update_op = tf.assign(eta_norm, frobenius_norm_tf(eta_cond))\n",
    "\n",
    "#eta = tf.case([(tf.greater_equal(theta_full,zero_point1), get_rim_grad)], default=get_conj_dir, exclusive=True)\n",
    "#eta = approximate.add_n([-riemannian_grad, beta*eta_trans], max_tt_rank=63)\n",
    "eta = t3f.to_tt_tensor(eta_cond, max_tt_rank=63)\n",
    "\n",
    "inprod_grad_eta = t3f.flat_inner(riemannian_grad,eta)\n",
    "#\n",
    "#eta_full = t3f.full(eta)\n",
    "\n",
    "print \"eta: \" + str(eta)\n",
    "#print \"eta1: \" + str(eta1)\n",
    "                                            \n",
    "#(1, 106, 126, 126, 1)\n",
    "\n",
    "eta_omega = sparsity_mask * t3f.full(eta)\n",
    "alpha = compute_step_size(eta_omega, grad_full)\n",
    "\n",
    "#two = tf.constant(2.0)\n",
    "#alpha1 =tf.maximum(0.0,two*(cost_new - cost)/inprod_grad_eta)"
   ]
  },
  {
   "cell_type": "code",
   "execution_count": null,
   "metadata": {
    "collapsed": true
   },
   "outputs": [],
   "source": []
  },
  {
   "cell_type": "code",
   "execution_count": 61,
   "metadata": {
    "collapsed": true
   },
   "outputs": [],
   "source": [
    "#eta1 = tf.cond((theta > zero_point1), get_rim_grad, get_conj_dir)"
   ]
  },
  {
   "cell_type": "code",
   "execution_count": 62,
   "metadata": {},
   "outputs": [
    {
     "name": "stdout",
     "output_type": "stream",
     "text": [
      "A Tensor Train of shape (53, 63, 46, 144), TT-ranks: (1, 53, 63, 63, 1)\n"
     ]
    }
   ],
   "source": [
    "print eta"
   ]
  },
  {
   "cell_type": "code",
   "execution_count": null,
   "metadata": {
    "collapsed": true
   },
   "outputs": [],
   "source": []
  },
  {
   "cell_type": "code",
   "execution_count": null,
   "metadata": {
    "collapsed": true
   },
   "outputs": [],
   "source": []
  },
  {
   "cell_type": "code",
   "execution_count": null,
   "metadata": {
    "collapsed": true
   },
   "outputs": [],
   "source": []
  },
  {
   "cell_type": "code",
   "execution_count": null,
   "metadata": {
    "collapsed": true
   },
   "outputs": [],
   "source": []
  },
  {
   "cell_type": "code",
   "execution_count": null,
   "metadata": {
    "collapsed": true
   },
   "outputs": [],
   "source": [
    "    "
   ]
  },
  {
   "cell_type": "code",
   "execution_count": null,
   "metadata": {
    "collapsed": true
   },
   "outputs": [],
   "source": []
  },
  {
   "cell_type": "code",
   "execution_count": null,
   "metadata": {
    "collapsed": true
   },
   "outputs": [],
   "source": [
    " "
   ]
  },
  {
   "cell_type": "code",
   "execution_count": null,
   "metadata": {
    "collapsed": true
   },
   "outputs": [],
   "source": []
  },
  {
   "cell_type": "code",
   "execution_count": null,
   "metadata": {
    "collapsed": true
   },
   "outputs": [],
   "source": []
  },
  {
   "cell_type": "code",
   "execution_count": null,
   "metadata": {
    "collapsed": true
   },
   "outputs": [],
   "source": []
  },
  {
   "cell_type": "code",
   "execution_count": null,
   "metadata": {
    "collapsed": true
   },
   "outputs": [],
   "source": []
  },
  {
   "cell_type": "code",
   "execution_count": null,
   "metadata": {
    "collapsed": true
   },
   "outputs": [],
   "source": []
  },
  {
   "cell_type": "code",
   "execution_count": null,
   "metadata": {
    "collapsed": true
   },
   "outputs": [],
   "source": []
  },
  {
   "cell_type": "code",
   "execution_count": null,
   "metadata": {
    "collapsed": true
   },
   "outputs": [],
   "source": []
  },
  {
   "cell_type": "code",
   "execution_count": null,
   "metadata": {
    "collapsed": true
   },
   "outputs": [],
   "source": []
  },
  {
   "cell_type": "code",
   "execution_count": null,
   "metadata": {
    "collapsed": true
   },
   "outputs": [],
   "source": []
  },
  {
   "cell_type": "code",
   "execution_count": 63,
   "metadata": {
    "collapsed": true
   },
   "outputs": [],
   "source": [
    "#cost_old_update = compute_loss(X)\n",
    "#cost_old_op = tf.assign(cost_old,cost_old_update)"
   ]
  },
  {
   "cell_type": "code",
   "execution_count": null,
   "metadata": {
    "collapsed": true
   },
   "outputs": [],
   "source": []
  },
  {
   "cell_type": "code",
   "execution_count": 64,
   "metadata": {},
   "outputs": [
    {
     "name": "stdout",
     "output_type": "stream",
     "text": [
      "Max_TT rank63\n",
      "[1, 53, 63, 63, 1]\n"
     ]
    }
   ],
   "source": [
    "train_new_step = t3f.assign(X_new, t3f.round(X + alpha * eta, max_tt_rank=63))"
   ]
  },
  {
   "cell_type": "code",
   "execution_count": 65,
   "metadata": {
    "collapsed": true
   },
   "outputs": [],
   "source": [
    "updated_cost_new = compute_loss(train_new_step)\n",
    "cost_new_op = tf.assign(cost_new,updated_cost_new)"
   ]
  },
  {
   "cell_type": "code",
   "execution_count": null,
   "metadata": {
    "collapsed": true
   },
   "outputs": [],
   "source": []
  },
  {
   "cell_type": "code",
   "execution_count": 66,
   "metadata": {
    "collapsed": true
   },
   "outputs": [],
   "source": [
    "tsc_score_new = tsc_tf(t3f.full(train_new_step),ground_truth, sparse_observation)\n",
    "tsc_score_op = tf.assign(completion_score,tsc_score_new)"
   ]
  },
  {
   "cell_type": "code",
   "execution_count": 67,
   "metadata": {},
   "outputs": [
    {
     "name": "stdout",
     "output_type": "stream",
     "text": [
      "Max_TT rank63\n",
      "[1, 53, 63, 63, 1]\n"
     ]
    }
   ],
   "source": [
    "train_step = t3f.assign(X, t3f.round(X + alpha * eta, max_tt_rank=63))"
   ]
  },
  {
   "cell_type": "code",
   "execution_count": 68,
   "metadata": {
    "collapsed": true
   },
   "outputs": [],
   "source": [
    "tsc_score_update = tsc_tf(t3f.full(X_new),ground_truth, sparse_observation)\n",
    "tsc_score_update_op = tf.assign(completion_score,tsc_score_update)"
   ]
  },
  {
   "cell_type": "code",
   "execution_count": 69,
   "metadata": {
    "collapsed": true
   },
   "outputs": [],
   "source": [
    "updated_cost = compute_loss(train_step)\n",
    "cost_op = tf.assign(cost,updated_cost)"
   ]
  },
  {
   "cell_type": "code",
   "execution_count": 70,
   "metadata": {
    "collapsed": true
   },
   "outputs": [],
   "source": [
    "eta_update_op = t3f.assign(eta_t3f_old, eta,use_locking = True)"
   ]
  },
  {
   "cell_type": "code",
   "execution_count": 71,
   "metadata": {
    "collapsed": true
   },
   "outputs": [],
   "source": [
    "grad_update_op = t3f.assign(grad_t3f_old, riemannian_grad)"
   ]
  },
  {
   "cell_type": "code",
   "execution_count": 72,
   "metadata": {},
   "outputs": [
    {
     "name": "stdout",
     "output_type": "stream",
     "text": [
      "Tensor(\"div_2:0\", shape=(), dtype=float32)\n"
     ]
    }
   ],
   "source": [
    "print alpha_0"
   ]
  },
  {
   "cell_type": "code",
   "execution_count": 73,
   "metadata": {},
   "outputs": [
    {
     "name": "stdout",
     "output_type": "stream",
     "text": [
      "Tensor(\"div_4:0\", shape=(), dtype=float32)\n"
     ]
    }
   ],
   "source": [
    "print theta"
   ]
  },
  {
   "cell_type": "code",
   "execution_count": 74,
   "metadata": {},
   "outputs": [
    {
     "name": "stdout",
     "output_type": "stream",
     "text": [
      "Tensor(\"Const_7:0\", shape=(), dtype=float32)\n"
     ]
    }
   ],
   "source": [
    "print zero_point1"
   ]
  },
  {
   "cell_type": "code",
   "execution_count": null,
   "metadata": {
    "collapsed": true
   },
   "outputs": [],
   "source": []
  },
  {
   "cell_type": "code",
   "execution_count": null,
   "metadata": {
    "collapsed": true
   },
   "outputs": [],
   "source": []
  },
  {
   "cell_type": "code",
   "execution_count": null,
   "metadata": {
    "collapsed": true
   },
   "outputs": [],
   "source": []
  },
  {
   "cell_type": "code",
   "execution_count": null,
   "metadata": {
    "collapsed": true
   },
   "outputs": [],
   "source": []
  },
  {
   "cell_type": "code",
   "execution_count": null,
   "metadata": {
    "collapsed": true
   },
   "outputs": [],
   "source": []
  },
  {
   "cell_type": "code",
   "execution_count": null,
   "metadata": {
    "collapsed": true
   },
   "outputs": [],
   "source": []
  },
  {
   "cell_type": "code",
   "execution_count": null,
   "metadata": {
    "collapsed": true
   },
   "outputs": [],
   "source": []
  },
  {
   "cell_type": "code",
   "execution_count": null,
   "metadata": {
    "collapsed": true
   },
   "outputs": [],
   "source": []
  },
  {
   "cell_type": "code",
   "execution_count": null,
   "metadata": {
    "collapsed": true
   },
   "outputs": [],
   "source": []
  },
  {
   "cell_type": "code",
   "execution_count": null,
   "metadata": {
    "collapsed": true
   },
   "outputs": [],
   "source": []
  },
  {
   "cell_type": "code",
   "execution_count": null,
   "metadata": {
    "collapsed": true
   },
   "outputs": [],
   "source": []
  },
  {
   "cell_type": "code",
   "execution_count": null,
   "metadata": {
    "collapsed": true
   },
   "outputs": [],
   "source": []
  },
  {
   "cell_type": "code",
   "execution_count": null,
   "metadata": {
    "collapsed": true
   },
   "outputs": [],
   "source": []
  },
  {
   "cell_type": "code",
   "execution_count": null,
   "metadata": {
    "collapsed": true
   },
   "outputs": [],
   "source": []
  },
  {
   "cell_type": "code",
   "execution_count": null,
   "metadata": {
    "collapsed": true
   },
   "outputs": [],
   "source": []
  },
  {
   "cell_type": "code",
   "execution_count": null,
   "metadata": {
    "collapsed": true
   },
   "outputs": [],
   "source": []
  },
  {
   "cell_type": "code",
   "execution_count": null,
   "metadata": {
    "collapsed": true
   },
   "outputs": [],
   "source": []
  },
  {
   "cell_type": "code",
   "execution_count": null,
   "metadata": {
    "collapsed": true
   },
   "outputs": [],
   "source": []
  },
  {
   "cell_type": "code",
   "execution_count": null,
   "metadata": {
    "collapsed": true
   },
   "outputs": [],
   "source": []
  },
  {
   "cell_type": "code",
   "execution_count": 75,
   "metadata": {
    "collapsed": true
   },
   "outputs": [],
   "source": [
    "#t3f.round(-riemannian_grad + beta*eta_trans, max_tt_rank=[eta_trans])"
   ]
  },
  {
   "cell_type": "code",
   "execution_count": null,
   "metadata": {
    "collapsed": true
   },
   "outputs": [],
   "source": []
  },
  {
   "cell_type": "code",
   "execution_count": null,
   "metadata": {
    "collapsed": true
   },
   "outputs": [],
   "source": []
  },
  {
   "cell_type": "code",
   "execution_count": null,
   "metadata": {
    "collapsed": true
   },
   "outputs": [],
   "source": []
  },
  {
   "cell_type": "code",
   "execution_count": null,
   "metadata": {
    "collapsed": true
   },
   "outputs": [],
   "source": []
  },
  {
   "cell_type": "code",
   "execution_count": null,
   "metadata": {
    "collapsed": true
   },
   "outputs": [],
   "source": []
  },
  {
   "cell_type": "code",
   "execution_count": 76,
   "metadata": {
    "collapsed": true
   },
   "outputs": [],
   "source": [
    "#eta_update_op = t3f.assign(eta_t3f_old, eta,validate_shape=False, use_locking = True)"
   ]
  },
  {
   "cell_type": "code",
   "execution_count": 77,
   "metadata": {
    "collapsed": true
   },
   "outputs": [],
   "source": [
    "#grad_update_op = t3f.assign(grad_t3f_old, riemannian_grad)"
   ]
  },
  {
   "cell_type": "code",
   "execution_count": null,
   "metadata": {
    "collapsed": true
   },
   "outputs": [],
   "source": []
  },
  {
   "cell_type": "code",
   "execution_count": null,
   "metadata": {
    "collapsed": true
   },
   "outputs": [],
   "source": []
  },
  {
   "cell_type": "code",
   "execution_count": null,
   "metadata": {
    "collapsed": true
   },
   "outputs": [],
   "source": []
  },
  {
   "cell_type": "code",
   "execution_count": 78,
   "metadata": {
    "collapsed": true
   },
   "outputs": [],
   "source": [
    "tsc_score_history = []"
   ]
  },
  {
   "cell_type": "code",
   "execution_count": 79,
   "metadata": {
    "collapsed": true
   },
   "outputs": [],
   "source": [
    "sess = tf.Session()\n",
    "sess.run(tf.global_variables_initializer())"
   ]
  },
  {
   "cell_type": "code",
   "execution_count": 80,
   "metadata": {},
   "outputs": [
    {
     "name": "stdout",
     "output_type": "stream",
     "text": [
      "0.69150764 1.0 0.13565847 0.0 0.35087937\n"
     ]
    }
   ],
   "source": [
    "log = []\n",
    "train_loss_hist = []\n",
    "#for i in range(1000):\n",
    "gradnorm_val, alpha_val, eta_op_0_val,cost_val, cost_new_val, eta_norm_val, tsc_score_val,_,_ = sess.run([gradnorm_omega_0, alpha_0, eta_op_0, cost, cost_new, eta_norm,completion_score, train_step_0.op, eta_norm_init_op.op])\n",
    "print gradnorm_val, alpha_val,cost_val, cost_new_val, eta_norm_val"
   ]
  },
  {
   "cell_type": "code",
   "execution_count": 81,
   "metadata": {},
   "outputs": [
    {
     "name": "stdout",
     "output_type": "stream",
     "text": [
      "A Tensor Train of shape (53, 63, 46, 144), TT-ranks: (1, 106, 126, 126, 1)\n"
     ]
    }
   ],
   "source": [
    "print grad_trans"
   ]
  },
  {
   "cell_type": "code",
   "execution_count": 82,
   "metadata": {
    "collapsed": true
   },
   "outputs": [],
   "source": [
    "tsc_score_0 = tsc_score_val"
   ]
  },
  {
   "cell_type": "code",
   "execution_count": 83,
   "metadata": {},
   "outputs": [
    {
     "name": "stdout",
     "output_type": "stream",
     "text": [
      "tsc_score_0:0.99968356\n"
     ]
    }
   ],
   "source": [
    "print \"tsc_score_0:\" + str(tsc_score_0)"
   ]
  },
  {
   "cell_type": "code",
   "execution_count": 84,
   "metadata": {
    "collapsed": true
   },
   "outputs": [],
   "source": [
    "tsc_score_history.append(tsc_score_0)"
   ]
  },
  {
   "cell_type": "code",
   "execution_count": null,
   "metadata": {
    "collapsed": true
   },
   "outputs": [],
   "source": []
  },
  {
   "cell_type": "code",
   "execution_count": 85,
   "metadata": {
    "collapsed": true
   },
   "outputs": [],
   "source": [
    "#x_k, grad_k, eta_k = sess.run([t3f.full(X),t3f.full(grad_t3f_old), t3f.full(eta_t3f_old)])"
   ]
  },
  {
   "cell_type": "code",
   "execution_count": 86,
   "metadata": {
    "collapsed": true
   },
   "outputs": [],
   "source": [
    "#scipy_step_size = find_step_size(x_k,grad_k,eta_k, cost_old_val)"
   ]
  },
  {
   "cell_type": "code",
   "execution_count": 87,
   "metadata": {
    "collapsed": true
   },
   "outputs": [],
   "source": [
    "#print \"scipy_step_size: \" + str(scipy_step_size)"
   ]
  },
  {
   "cell_type": "code",
   "execution_count": null,
   "metadata": {
    "collapsed": true
   },
   "outputs": [],
   "source": []
  },
  {
   "cell_type": "code",
   "execution_count": 88,
   "metadata": {
    "collapsed": true
   },
   "outputs": [],
   "source": [
    "#sess.run([loss])"
   ]
  },
  {
   "cell_type": "code",
   "execution_count": 89,
   "metadata": {
    "collapsed": true
   },
   "outputs": [],
   "source": [
    "#sess.run([theta])"
   ]
  },
  {
   "cell_type": "code",
   "execution_count": 90,
   "metadata": {
    "collapsed": true
   },
   "outputs": [],
   "source": [
    "#print theta"
   ]
  },
  {
   "cell_type": "code",
   "execution_count": 91,
   "metadata": {
    "collapsed": true
   },
   "outputs": [],
   "source": [
    "#sess.run([eta_trans])"
   ]
  },
  {
   "cell_type": "code",
   "execution_count": 92,
   "metadata": {
    "collapsed": true
   },
   "outputs": [],
   "source": [
    "#sess.run([eta])"
   ]
  },
  {
   "cell_type": "code",
   "execution_count": 93,
   "metadata": {
    "collapsed": true
   },
   "outputs": [],
   "source": [
    "#sess.run([train_step.op])"
   ]
  },
  {
   "cell_type": "code",
   "execution_count": null,
   "metadata": {
    "collapsed": true
   },
   "outputs": [],
   "source": []
  },
  {
   "cell_type": "code",
   "execution_count": null,
   "metadata": {
    "collapsed": true
   },
   "outputs": [],
   "source": []
  },
  {
   "cell_type": "code",
   "execution_count": 94,
   "metadata": {
    "collapsed": true
   },
   "outputs": [],
   "source": [
    "#def backtrack(t, sess):\n",
    "#    t = t * 0.5\n",
    "#    return t3f.assign(X, t3f.round(X - t * eta, max_tt_rank=63))"
   ]
  },
  {
   "cell_type": "code",
   "execution_count": null,
   "metadata": {
    "collapsed": true
   },
   "outputs": [],
   "source": [
    "\n",
    "    "
   ]
  },
  {
   "cell_type": "code",
   "execution_count": null,
   "metadata": {
    "collapsed": true
   },
   "outputs": [],
   "source": []
  },
  {
   "cell_type": "code",
   "execution_count": 95,
   "metadata": {
    "collapsed": true
   },
   "outputs": [],
   "source": [
    "def loss_func(x, y):\n",
    "    return 0.5*(np.linalg.norm(x - y)** 2)\n",
    "    "
   ]
  },
  {
   "cell_type": "code",
   "execution_count": 96,
   "metadata": {
    "collapsed": true
   },
   "outputs": [],
   "source": [
    "def is_nan(x):\n",
    "    return (x is np.nan or x != x)"
   ]
  },
  {
   "cell_type": "code",
   "execution_count": 97,
   "metadata": {
    "collapsed": true
   },
   "outputs": [],
   "source": [
    "backtrack_const = 1e-4 "
   ]
  },
  {
   "cell_type": "code",
   "execution_count": null,
   "metadata": {
    "collapsed": true
   },
   "outputs": [],
   "source": []
  },
  {
   "cell_type": "code",
   "execution_count": 98,
   "metadata": {
    "collapsed": true
   },
   "outputs": [],
   "source": [
    "cost_history = []\n"
   ]
  },
  {
   "cell_type": "code",
   "execution_count": 99,
   "metadata": {
    "collapsed": true
   },
   "outputs": [],
   "source": [
    "#sess.run([loss, gradnorm_omega, alpha, theta, eta_update_op, grad_update_op, train_step.op])"
   ]
  },
  {
   "cell_type": "code",
   "execution_count": 100,
   "metadata": {},
   "outputs": [
    {
     "name": "stdout",
     "output_type": "stream",
     "text": [
      "alpha_val: 1.131648\n",
      "theta_val: 0.5407598\n",
      "inprod_grad_eta_val: -0.3966678\n",
      "rim_grad_norm: 0.6298199\n",
      "eta_norm_val: 0.6297775\n",
      "Cost New: 0.079965845\n",
      "Cost Old: 0.13565847\n",
      "TSC Score New: 0.76752293\n",
      "TSC Score Old: 0.99968356\n",
      "armijo: True\n",
      "proposed_initial_alpha: 0.28080235835366335\n",
      "updating X: initial cost: 0.13565847; New Cost: 0.079965845\n",
      "(0.20117962, 1, 1.2174089, 1.131648, 0.5407598, 1.4794635, 0.13565847, 0.079965845)\n",
      "alpha_val: 3.9645019\n",
      "theta_val: 0.024755184\n",
      "inprod_grad_eta_val: -0.036880314\n",
      "rim_grad_norm: 0.19185908\n",
      "eta_norm_val: 0.20044865\n",
      "Cost New: 0.0068345\n",
      "Cost Old: 0.079965845\n",
      "TSC Score New: 0.2243843\n",
      "TSC Score Old: 0.76752293\n",
      "armijo: True\n",
      "proposed_initial_alpha: 3.965874288281678\n",
      "updating X: initial cost: 0.079965845; New Cost: 0.0068345\n",
      "(0.020341165, 2, 0.38715097, 2.1445327, 3.9645019, 0.024755184, 0.09047726, 0.079965845, 0.0068345)\n",
      "alpha_val: 1.2487429\n",
      "theta_val: 0.044633098\n",
      "inprod_grad_eta_val: -0.007892047\n",
      "rim_grad_norm: 0.08858072\n",
      "eta_norm_val: 0.09800187\n",
      "Cost New: 0.0018530457\n",
      "Cost Old: 0.0068345\n",
      "TSC Score New: 0.11683747\n",
      "TSC Score Old: 0.2243843\n",
      "armijo: True\n",
      "proposed_initial_alpha: 1.2623985708791612\n",
      "updating X: initial cost: 0.0068345; New Cost: 0.0018530457\n",
      "(0.004052082, 3, 0.17288049, 1.239414, 1.2487429, 0.044633098, 0.20344354, 0.0068345, 0.0018530457)\n",
      "alpha_val: 2.6392317\n",
      "theta_val: 0.38431442\n",
      "inprod_grad_eta_val: -0.00088435697\n",
      "rim_grad_norm: 0.029905694\n",
      "eta_norm_val: 0.029734686\n",
      "Cost New: 0.0006500889\n",
      "Cost Old: 0.0018530457\n",
      "TSC Score New: 0.069203086\n",
      "TSC Score Old: 0.11683747\n",
      "armijo: True\n",
      "proposed_initial_alpha: 2.720523088813061\n",
      "updating X: initial cost: 0.0018530457; New Cost: 0.0006500889\n",
      "(0.00048232047, 4, 0.0599165, 1.8853569, 2.6392317, 0.38431442, 0.069479816, 0.0018530457, 0.0006500889)\n",
      "alpha_val: 1.4051503\n",
      "theta_val: 0.1007765\n",
      "inprod_grad_eta_val: -0.0004586212\n",
      "rim_grad_norm: 0.021647576\n",
      "eta_norm_val: 0.02141326\n",
      "Cost New: 0.0003259281\n",
      "Cost Old: 0.0006500889\n",
      "TSC Score New: 0.049000442\n",
      "TSC Score Old: 0.069203086\n",
      "armijo: True\n",
      "proposed_initial_alpha: 1.4136319953212646\n",
      "updating X: initial cost: 0.0006500889; New Cost: 0.0003259281\n",
      "(0.00025135025, 5, 0.043456625, 0.3787656, 1.4051503, 0.1007765, 0.46633127, 0.0006500889, 0.0003259281)\n",
      "alpha_val: 3.3596268\n",
      "theta_val: 0.0019385401\n",
      "inprod_grad_eta_val: -0.00012781714\n",
      "rim_grad_norm: 0.011759956\n",
      "eta_norm_val: 0.012678266\n",
      "Cost New: 0.00010200131\n",
      "Cost Old: 0.0003259281\n",
      "TSC Score New: 0.027412077\n",
      "TSC Score Old: 0.049000442\n",
      "armijo: True\n",
      "proposed_initial_alpha: 3.50386171750824\n",
      "updating X: initial cost: 0.0003259281; New Cost: 0.00010200131\n",
      "(7.660398e-05, 6, 0.02451855, 0.7723979, 3.3596268, 0.0019385401, 0.27920407, 0.0003259281, 0.00010200131)\n",
      "alpha_val: 1.6235338\n",
      "theta_val: 0.052839838\n",
      "inprod_grad_eta_val: -6.533337e-05\n",
      "rim_grad_norm: 0.008670952\n",
      "eta_norm_val: 0.009930944\n",
      "Cost New: 4.6280096e-05\n",
      "Cost Old: 0.00010200131\n",
      "TSC Score New: 0.018464444\n",
      "TSC Score Old: 0.027412077\n",
      "armijo: True\n",
      "proposed_initial_alpha: 1.7057504162328008\n",
      "updating X: initial cost: 0.00010200131; New Cost: 4.6280096e-05\n",
      "(4.1370982e-05, 7, 0.018482564, 0.32657728, 1.6235338, 0.052839838, 0.48123655, 0.00010200131, 4.6280096e-05)\n",
      "alpha_val: 2.1404474\n",
      "theta_val: -0.090045914\n",
      "inprod_grad_eta_val: -1.5708358e-05\n",
      "rim_grad_norm: 0.005085384\n",
      "eta_norm_val: 0.004639444\n",
      "Cost New: 2.8091328e-05\n",
      "Cost Old: 4.6280096e-05\n",
      "TSC Score New: 0.014385508\n",
      "TSC Score Old: 0.018464444\n",
      "armijo: True\n",
      "proposed_initial_alpha: 2.3158077209408643\n",
      "updating X: initial cost: 4.6280096e-05; New Cost: 2.8091328e-05\n",
      "(1.537393e-05, 8, 0.01225114, 0.5086404, 2.1404474, -0.090045914, 0.26523352, 4.6280096e-05, 2.8091328e-05)\n",
      "alpha_val: 1.6783106\n",
      "theta_val: -0.037655137\n",
      "inprod_grad_eta_val: -7.963124e-06\n",
      "rim_grad_norm: 0.004348992\n",
      "eta_norm_val: 0.0036757528\n",
      "Cost New: 1.9979832e-05\n",
      "Cost Old: 2.8091328e-05\n",
      "TSC Score New: 0.012132074\n",
      "TSC Score Old: 0.014385508\n",
      "armijo: True\n",
      "proposed_initial_alpha: 2.037264833367921\n",
      "updating X: initial cost: 2.8091328e-05; New Cost: 1.9979832e-05\n",
      "(1.0708665e-05, 9, 0.010757435, 0.13885322, 1.6783106, -0.037655137, 0.58314645, 2.8091328e-05, 1.9979832e-05)\n",
      "alpha_val: 1.6355782\n",
      "theta_val: 0.022613714\n",
      "inprod_grad_eta_val: -3.9193596e-06\n",
      "rim_grad_norm: 0.003815518\n",
      "eta_norm_val: 0.002491714\n",
      "Cost New: 1.586182e-05\n",
      "Cost Old: 1.9979832e-05\n",
      "TSC Score New: 0.010809749\n",
      "TSC Score Old: 0.012132074\n",
      "armijo: True\n",
      "proposed_initial_alpha: 2.1013697673320406\n",
      "updating X: initial cost: 1.9979832e-05; New Cost: 1.586182e-05\n",
      "(7.739957e-06, 10, 0.009687753, 0.11041587, 1.6355782, 0.022613714, 0.49980307, 1.9979832e-05, 1.586182e-05)\n",
      "alpha_val: 1.5740488\n",
      "theta_val: 0.10105746\n",
      "inprod_grad_eta_val: -3.2617827e-06\n",
      "rim_grad_norm: 0.0036416696\n",
      "eta_norm_val: 0.0018059041\n",
      "Cost New: 1.3277683e-05\n",
      "Cost Old: 1.586182e-05\n",
      "TSC Score New: 0.00989009\n",
      "TSC Score Old: 0.010809749\n",
      "armijo: True\n",
      "proposed_initial_alpha: 1.5844938388921606\n",
      "updating X: initial cost: 1.586182e-05; New Cost: 1.3277683e-05\n",
      "(6.0034904e-06, 11, 0.009003354, 0.076016024, 1.5740488, 0.10105746, 0.643268, 1.586182e-05, 1.3277683e-05)\n",
      "alpha_val: 1.5856677\n",
      "theta_val: -0.15887916\n",
      "inprod_grad_eta_val: -2.0259458e-06\n",
      "rim_grad_norm: 0.003467842\n",
      "eta_norm_val: 0.0014232559\n",
      "Cost New: 1.17527e-05\n",
      "Cost Old: 1.3277683e-05\n",
      "TSC Score New: 0.009304819\n",
      "TSC Score Old: 0.00989009\n",
      "armijo: True\n",
      "proposed_initial_alpha: 1.5054532982634292\n",
      "updating X: initial cost: 1.3277683e-05; New Cost: 1.17527e-05\n",
      "(4.614604e-06, 12, 0.008415982, 0.069792464, 1.5856677, -0.15887916, 0.71979904, 1.3277683e-05, 1.17527e-05)\n",
      "alpha_val: 1.5147438\n",
      "theta_val: -0.24446546\n",
      "inprod_grad_eta_val: -1.4958621e-06\n",
      "rim_grad_norm: 0.0033905525\n",
      "eta_norm_val: 0.0012229602\n",
      "Cost New: 1.0758377e-05\n",
      "Cost Old: 1.17527e-05\n",
      "TSC Score New: 0.00890251\n",
      "TSC Score Old: 0.009304819\n",
      "armijo: True\n",
      "proposed_initial_alpha: 1.3294305360296623\n",
      "updating X: initial cost: 1.17527e-05; New Cost: 1.0758377e-05\n",
      "(3.8398093e-06, 13, 0.008069758, 0.042903867, 1.5147438, -0.24446546, 0.91885173, 1.17527e-05, 1.0758377e-05)\n",
      "alpha_val: 1.4699253\n",
      "theta_val: -0.323834\n",
      "inprod_grad_eta_val: -1.160704e-06\n",
      "rim_grad_norm: 0.0033407628\n",
      "eta_norm_val: 0.001077285\n",
      "Cost New: 1.0044714e-05\n",
      "Cost Old: 1.0758377e-05\n",
      "TSC Score New: 0.0086021675\n",
      "TSC Score Old: 0.00890251\n",
      "armijo: True\n",
      "proposed_initial_alpha: 1.2297075514757592\n",
      "updating X: initial cost: 1.0758377e-05; New Cost: 1.0044714e-05\n",
      "(3.3347728e-06, 14, 0.007835848, 0.029851273, 1.4699253, -0.323834, 1.0272231, 1.0758377e-05, 1.0044714e-05)\n",
      "alpha_val: 1.4391752\n",
      "theta_val: -0.35667112\n",
      "inprod_grad_eta_val: -9.4925446e-07\n",
      "rim_grad_norm: 0.0033089647\n",
      "eta_norm_val: 0.0009742223\n",
      "Cost New: 9.488374e-06\n",
      "Cost Old: 1.0044714e-05\n",
      "TSC Score New: 0.008360553\n",
      "TSC Score Old: 0.0086021675\n",
      "armijo: True\n",
      "proposed_initial_alpha: 1.1721614248507781\n",
      "updating X: initial cost: 1.0044714e-05; New Cost: 9.488374e-06\n",
      "(2.9817627e-06, 15, 0.007668113, 0.021874402, 1.4391752, -0.35667112, 1.1095209, 1.0044714e-05, 9.488374e-06)\n",
      "alpha_val: 1.4029503\n",
      "theta_val: -0.37368762\n",
      "inprod_grad_eta_val: -7.977124e-07\n",
      "rim_grad_norm: 0.003285986\n",
      "eta_norm_val: 0.0008930786\n",
      "Cost New: 9.046734e-06\n",
      "Cost Old: 9.488374e-06\n",
      "TSC Score New: 0.008163662\n",
      "TSC Score Old: 0.008360553\n",
      "armijo: True\n",
      "proposed_initial_alpha: 1.1072677852040527\n",
      "updating X: initial cost: 9.488374e-06; New Cost: 9.046734e-06\n",
      "(2.717578e-06, 16, 0.0075401436, 0.016971733, 1.4029503, -0.37368762, 1.1543853, 9.488374e-06, 9.046734e-06)\n",
      "alpha_val: 1.3682504\n",
      "theta_val: -0.3849666\n",
      "inprod_grad_eta_val: -6.974148e-07\n",
      "rim_grad_norm: 0.0032706892\n",
      "eta_norm_val: 0.0008350523\n",
      "Cost New: 8.680829e-06\n",
      "Cost Old: 9.046734e-06\n",
      "TSC Score New: 0.007996864\n",
      "TSC Score Old: 0.008163662\n",
      "armijo: True\n",
      "proposed_initial_alpha: 1.049318647383567\n",
      "updating X: initial cost: 9.046734e-06; New Cost: 8.680829e-06\n",
      "(2.5042877e-06, 17, 0.0074352203, 0.014111656, 1.3682504, -0.3849666, 1.2108325, 9.046734e-06, 8.680829e-06)\n",
      "alpha_val: 1.3341787\n",
      "theta_val: -0.39827913\n",
      "inprod_grad_eta_val: -6.250802e-07\n",
      "rim_grad_norm: 0.0032596127\n",
      "eta_norm_val: 0.0007905657\n",
      "Cost New: 8.367535e-06\n",
      "Cost Old: 8.680829e-06\n",
      "TSC Score New: 0.007851233\n",
      "TSC Score Old: 0.007996864\n",
      "armijo: True\n",
      "proposed_initial_alpha: 1.0024110339564483\n",
      "updating X: initial cost: 8.680829e-06; New Cost: 8.367535e-06\n",
      "(2.3350317e-06, 18, 0.0073508928, 0.011471741, 1.3341787, -0.39827913, 1.2532538, 8.680829e-06, 8.367535e-06)\n"
     ]
    },
    {
     "name": "stdout",
     "output_type": "stream",
     "text": [
      "alpha_val: 1.3177668\n",
      "theta_val: -0.41482523\n",
      "inprod_grad_eta_val: -5.526351e-07\n",
      "rim_grad_norm: 0.0032484813\n",
      "eta_norm_val: 0.0007433407\n",
      "Cost New: 8.101108e-06\n",
      "Cost Old: 8.367535e-06\n",
      "TSC Score New: 0.007725228\n",
      "TSC Score Old: 0.007851233\n",
      "armijo: True\n",
      "proposed_initial_alpha: 0.9642072733769668\n",
      "updating X: initial cost: 8.367535e-06; New Cost: 8.101108e-06\n",
      "(2.1908886e-06, 19, 0.007278307, 0.009972908, 1.3177668, -0.41482523, 1.2508501, 8.367535e-06, 8.101108e-06)\n",
      "alpha_val: 1.2770119\n",
      "theta_val: -0.41318965\n",
      "inprod_grad_eta_val: -5.123718e-07\n",
      "rim_grad_norm: 0.003242278\n",
      "eta_norm_val: 0.0007157488\n",
      "Cost New: 7.866619e-06\n",
      "Cost Old: 8.101108e-06\n",
      "TSC Score New: 0.0076126023\n",
      "TSC Score Old: 0.007725228\n",
      "armijo: True\n",
      "proposed_initial_alpha: 0.915306631875337\n",
      "updating X: initial cost: 8.101108e-06; New Cost: 7.866619e-06\n",
      "(2.0722434e-06, 20, 0.0072180135, 0.008353178, 1.2770119, -0.41318965, 1.3102295, 8.101108e-06, 7.866619e-06)\n",
      "alpha_val: 1.2274178\n",
      "theta_val: -0.4480388\n",
      "inprod_grad_eta_val: -4.5455548e-07\n",
      "rim_grad_norm: 0.0032333496\n",
      "eta_norm_val: 0.000674154\n",
      "Cost New: 7.674368e-06\n",
      "Cost Old: 7.866619e-06\n",
      "TSC Score New: 0.0075190053\n",
      "TSC Score Old: 0.0076126023\n",
      "armijo: True\n",
      "proposed_initial_alpha: 0.8458849105644513\n",
      "updating X: initial cost: 7.866619e-06; New Cost: 7.674368e-06\n",
      "(1.9680454e-06, 21, 0.007164643, 0.007449132, 1.2274178, -0.4480388, 1.2846411, 7.866619e-06, 7.674368e-06)\n",
      "alpha_val: 1.2274052\n",
      "theta_val: -0.4374664\n",
      "inprod_grad_eta_val: -4.190455e-07\n",
      "rim_grad_norm: 0.003227854\n",
      "eta_norm_val: 0.00064728654\n",
      "Cost New: 7.497714e-06\n",
      "Cost Old: 7.674368e-06\n",
      "TSC Score New: 0.0074319625\n",
      "TSC Score Old: 0.0075190053\n",
      "armijo: True\n",
      "proposed_initial_alpha: 0.8431272341090216\n",
      "updating X: initial cost: 7.674368e-06; New Cost: 7.497714e-06\n",
      "(1.8765913e-06, 22, 0.0071174707, 0.0066276942, 1.2274052, -0.4374664, 1.3251705, 7.674368e-06, 7.497714e-06)\n",
      "alpha_val: 1.1851455\n",
      "theta_val: -0.45545733\n",
      "inprod_grad_eta_val: -3.8828767e-07\n",
      "rim_grad_norm: 0.003223086\n",
      "eta_norm_val: 0.00062307913\n",
      "Cost New: 7.344072e-06\n",
      "Cost Old: 7.497714e-06\n",
      "TSC Score New: 0.0073554213\n",
      "TSC Score Old: 0.0074319625\n",
      "armijo: True\n",
      "proposed_initial_alpha: 0.7913815438799595\n",
      "updating X: initial cost: 7.497714e-06; New Cost: 7.344072e-06\n",
      "(1.8028121e-06, 23, 0.0070791864, 0.0054080146, 1.1851455, -0.45545733, 1.3486286, 7.497714e-06, 7.344072e-06)\n",
      "alpha_val: 1.1967129\n",
      "theta_val: -0.4535527\n",
      "inprod_grad_eta_val: -3.6134875e-07\n",
      "rim_grad_norm: 0.0032189044\n",
      "eta_norm_val: 0.0006010787\n",
      "Cost New: 7.1990016e-06\n",
      "Cost Old: 7.344072e-06\n",
      "TSC Score New: 0.0072824117\n",
      "TSC Score Old: 0.0073554213\n",
      "armijo: True\n",
      "proposed_initial_alpha: 0.8029379662098649\n",
      "updating X: initial cost: 7.344072e-06; New Cost: 7.1990016e-06\n",
      "(1.7319969e-06, 24, 0.0070422436, 0.005245881, 1.1967129, -0.4535527, 1.3527075, 7.344072e-06, 7.1990016e-06)\n",
      "alpha_val: 1.169916\n",
      "theta_val: -0.4529251\n",
      "inprod_grad_eta_val: -3.464275e-07\n",
      "rim_grad_norm: 0.003216586\n",
      "eta_norm_val: 0.00058853766\n",
      "Cost New: 7.067137e-06\n",
      "Cost Old: 7.1990016e-06\n",
      "TSC Score New: 0.0072154077\n",
      "TSC Score Old: 0.0072824117\n",
      "armijo: True\n",
      "proposed_initial_alpha: 0.7612816779685407\n",
      "updating X: initial cost: 7.1990016e-06; New Cost: 7.067137e-06\n",
      "(1.6758393e-06, 25, 0.0070128096, 0.004197174, 1.169916, -0.4529251, 1.3929306, 7.1990016e-06, 7.067137e-06)\n",
      "alpha_val: 1.1569419\n",
      "theta_val: -0.4607868\n",
      "inprod_grad_eta_val: -3.334569e-07\n",
      "rim_grad_norm: 0.0032145688\n",
      "eta_norm_val: 0.0005774162\n",
      "Cost New: 6.942016e-06\n",
      "Cost Old: 7.067137e-06\n",
      "TSC Score New: 0.007151249\n",
      "TSC Score Old: 0.0072154077\n",
      "armijo: True\n",
      "proposed_initial_alpha: 0.7504478169647454\n",
      "updating X: initial cost: 7.067137e-06; New Cost: 6.942016e-06\n",
      "(1.6195297e-06, 26, 0.0069831708, 0.004244329, 1.1569419, -0.4607868, 1.40609, 7.067137e-06, 6.942016e-06)\n",
      "alpha_val: 1.1296333\n",
      "theta_val: -0.47110444\n",
      "inprod_grad_eta_val: -3.1511783e-07\n",
      "rim_grad_norm: 0.0032117153\n",
      "eta_norm_val: 0.0005613142\n",
      "Cost New: 6.828162e-06\n",
      "Cost Old: 6.942016e-06\n",
      "TSC Score New: 0.0070923637\n",
      "TSC Score Old: 0.007151249\n",
      "armijo: True\n",
      "proposed_initial_alpha: 0.7226134082447877\n",
      "updating X: initial cost: 6.942016e-06; New Cost: 6.828162e-06\n",
      "(1.5707928e-06, 27, 0.006957416, 0.0037017758, 1.1296333, -0.47110444, 1.3901998, 6.942016e-06, 6.828162e-06)\n",
      "alpha_val: 1.1322685\n",
      "theta_val: -0.46690974\n",
      "inprod_grad_eta_val: -2.9805648e-07\n",
      "rim_grad_norm: 0.0032090582\n",
      "eta_norm_val: 0.0005459074\n",
      "Cost New: 6.7205397e-06\n",
      "Cost Old: 6.828162e-06\n",
      "TSC Score New: 0.007036248\n",
      "TSC Score Old: 0.0070923637\n",
      "armijo: True\n",
      "proposed_initial_alpha: 0.7221606323299574\n",
      "updating X: initial cost: 6.828162e-06; New Cost: 6.7205397e-06\n",
      "(1.5247282e-06, 28, 0.0069329855, 0.0035237998, 1.1322685, -0.46690974, 1.3874865, 6.828162e-06, 6.7205397e-06)\n",
      "alpha_val: 1.1149372\n",
      "theta_val: -0.46582127\n",
      "inprod_grad_eta_val: -2.925515e-07\n",
      "rim_grad_norm: 0.0032082002\n",
      "eta_norm_val: 0.0005408421\n",
      "Cost New: 6.6178886e-06\n",
      "Cost Old: 6.7205397e-06\n",
      "TSC Score New: 0.006982305\n",
      "TSC Score Old: 0.007036248\n",
      "armijo: True\n",
      "proposed_initial_alpha: 0.7017638079201682\n",
      "updating X: initial cost: 6.7205397e-06; New Cost: 6.6178886e-06\n",
      "(1.4885005e-06, 29, 0.0069137113, 0.0027878205, 1.1149372, -0.46582127, 1.4387497, 6.7205397e-06, 6.6178886e-06)\n",
      "alpha_val: 1.0885766\n",
      "theta_val: -0.48954934\n",
      "inprod_grad_eta_val: -2.752791e-07\n",
      "rim_grad_norm: 0.0032055073\n",
      "eta_norm_val: 0.00052463193\n",
      "Cost New: 6.5258523e-06\n",
      "Cost Old: 6.6178886e-06\n",
      "TSC Score New: 0.006933583\n",
      "TSC Score Old: 0.006982305\n",
      "armijo: True\n",
      "proposed_initial_alpha: 0.6686764017468547\n",
      "updating X: initial cost: 6.6178886e-06; New Cost: 6.5258523e-06\n",
      "(1.4481552e-06, 30, 0.0068921833, 0.0031235367, 1.0885766, -0.48954934, 1.401607, 6.6178886e-06, 6.5258523e-06)\n",
      "alpha_val: 1.119445\n",
      "theta_val: -0.4658119\n",
      "inprod_grad_eta_val: -2.7217573e-07\n",
      "rim_grad_norm: 0.0032050232\n",
      "eta_norm_val: 0.00052166654\n",
      "Cost New: 6.4306264e-06\n",
      "Cost Old: 6.5258523e-06\n",
      "TSC Score New: 0.0068828096\n",
      "TSC Score Old: 0.006933583\n",
      "armijo: True\n",
      "proposed_initial_alpha: 0.699738480244837\n",
      "updating X: initial cost: 6.5258523e-06; New Cost: 6.4306264e-06\n",
      "(1.4151328e-06, 31, 0.006874513, 0.0025704291, 1.119445, -0.4658119, 1.4492843, 6.5258523e-06, 6.4306264e-06)\n",
      "alpha_val: 1.0776991\n",
      "theta_val: -0.48274365\n",
      "inprod_grad_eta_val: -2.6863847e-07\n",
      "rim_grad_norm: 0.0032044712\n",
      "eta_norm_val: 0.00051826506\n",
      "Cost New: 6.342165e-06\n",
      "Cost Old: 6.4306264e-06\n",
      "TSC Score New: 0.0068353047\n",
      "TSC Score Old: 0.0068828096\n",
      "armijo: True\n",
      "proposed_initial_alpha: 0.6585917970146878\n",
      "updating X: initial cost: 6.4306264e-06; New Cost: 6.342165e-06\n",
      "(1.3887151e-06, 32, 0.0068603433, 0.0020654371, 1.0776991, -0.48274365, 1.4634746, 6.4306264e-06, 6.342165e-06)\n",
      "alpha_val: 1.0601442\n",
      "theta_val: -0.49375957\n",
      "inprod_grad_eta_val: -2.559323e-07\n",
      "rim_grad_norm: 0.003202488\n",
      "eta_norm_val: 0.00050586025\n",
      "Cost New: 6.260201e-06\n",
      "Cost Old: 6.342165e-06\n",
      "TSC Score New: 0.0067909923\n",
      "TSC Score Old: 0.0068353047\n",
      "armijo: True\n",
      "proposed_initial_alpha: 0.6405105178706019\n",
      "updating X: initial cost: 6.342165e-06; New Cost: 6.260201e-06\n",
      "(1.3556838e-06, 33, 0.0068425857, 0.0025951487, 1.0601442, -0.49375957, 1.4231052, 6.342165e-06, 6.260201e-06)\n",
      "alpha_val: 1.0521626\n",
      "theta_val: -0.49329564\n",
      "inprod_grad_eta_val: -2.458291e-07\n",
      "rim_grad_norm: 0.0032009103\n",
      "eta_norm_val: 0.0004957739\n",
      "Cost New: 6.1836e-06\n",
      "Cost Old: 6.260201e-06\n",
      "TSC Score New: 0.006749316\n",
      "TSC Score Old: 0.0067909923\n",
      "armijo: True\n",
      "proposed_initial_alpha: 0.6232075661700548\n",
      "updating X: initial cost: 6.260201e-06; New Cost: 6.1836e-06\n",
      "(1.3290924e-06, 34, 0.0068282564, 0.002098534, 1.0521626, -0.49329564, 1.4343482, 6.260201e-06, 6.1836e-06)\n",
      "alpha_val: 1.0385206\n",
      "theta_val: -0.5049167\n",
      "inprod_grad_eta_val: -2.352691e-07\n",
      "rim_grad_norm: 0.0031992604\n",
      "eta_norm_val: 0.0004850076\n",
      "Cost New: 6.112121e-06\n",
      "Cost Old: 6.1836e-06\n",
      "TSC Score New: 0.006710194\n",
      "TSC Score Old: 0.006749316\n",
      "armijo: True\n",
      "proposed_initial_alpha: 0.607636175597718\n",
      "updating X: initial cost: 6.1836e-06; New Cost: 6.112121e-06\n",
      "(1.3031993e-06, 35, 0.0068142745, 0.0020518613, 1.0385206, -0.5049167, 1.4402695, 6.1836e-06, 6.112121e-06)\n",
      "alpha_val: 1.0221945\n",
      "theta_val: -0.4957303\n",
      "inprod_grad_eta_val: -2.2665002e-07\n",
      "rim_grad_norm: 0.003197913\n",
      "eta_norm_val: 0.00047603966\n",
      "Cost New: 6.0453767e-06\n",
      "Cost Old: 6.112121e-06\n",
      "TSC Score New: 0.0066734557\n",
      "TSC Score Old: 0.006710194\n",
      "armijo: True\n",
      "proposed_initial_alpha: 0.5889624835343136\n",
      "updating X: initial cost: 6.112121e-06; New Cost: 6.0453767e-06\n"
     ]
    },
    {
     "name": "stdout",
     "output_type": "stream",
     "text": [
      "(1.2792265e-06, 36, 0.0068013035, 0.0019071337, 1.0221945, -0.4957303, 1.4409347, 6.112121e-06, 6.0453767e-06)\n",
      "alpha_val: 1.0192466\n",
      "theta_val: -0.4953297\n",
      "inprod_grad_eta_val: -2.2066543e-07\n",
      "rim_grad_norm: 0.003196977\n",
      "eta_norm_val: 0.00046971298\n",
      "Cost New: 5.9805966e-06\n",
      "Cost Old: 6.0453767e-06\n",
      "TSC Score New: 0.006637604\n",
      "TSC Score Old: 0.0066734557\n",
      "armijo: True\n",
      "proposed_initial_alpha: 0.5871343343541379\n",
      "updating X: initial cost: 6.0453767e-06; New Cost: 5.9805966e-06\n",
      "(1.2545113e-06, 37, 0.0067879055, 0.0019738057, 1.0192466, -0.4953297, 1.4558452, 6.0453767e-06, 5.9805966e-06)\n",
      "alpha_val: 1.0118214\n",
      "theta_val: -0.4891689\n",
      "inprod_grad_eta_val: -2.163128e-07\n",
      "rim_grad_norm: 0.0031962965\n",
      "eta_norm_val: 0.0004650573\n",
      "Cost New: 5.9172385e-06\n",
      "Cost Old: 5.9805966e-06\n",
      "TSC Score New: 0.0066023516\n",
      "TSC Score Old: 0.006637604\n",
      "armijo: True\n",
      "proposed_initial_alpha: 0.5858010230158865\n",
      "updating X: initial cost: 5.9805966e-06; New Cost: 5.9172385e-06\n",
      "(1.2364666e-06, 38, 0.0067781066, 0.0014456707, 1.0118214, -0.4891689, 1.4597974, 5.9805966e-06, 5.9172385e-06)\n",
      "alpha_val: 0.99452627\n",
      "theta_val: -0.5119961\n",
      "inprod_grad_eta_val: -2.0769747e-07\n",
      "rim_grad_norm: 0.0031949484\n",
      "eta_norm_val: 0.00045570143\n",
      "Cost New: 5.858142e-06\n",
      "Cost Old: 5.9172385e-06\n",
      "TSC Score New: 0.006569299\n",
      "TSC Score Old: 0.0066023516\n",
      "armijo: True\n",
      "proposed_initial_alpha: 0.5690651168869022\n",
      "updating X: initial cost: 5.9172385e-06; New Cost: 5.858142e-06\n",
      "(1.2169785e-06, 39, 0.006767508, 0.0015660787, 0.99452627, -0.5119961, 1.4517744, 5.9172385e-06, 5.858142e-06)\n",
      "alpha_val: 0.98495495\n",
      "theta_val: -0.5044376\n",
      "inprod_grad_eta_val: -2.0003938e-07\n",
      "rim_grad_norm: 0.0031937498\n",
      "eta_norm_val: 0.0004472214\n",
      "Cost New: 5.8030187e-06\n",
      "Cost Old: 5.858142e-06\n",
      "TSC Score New: 0.006538319\n",
      "TSC Score Old: 0.006569299\n",
      "armijo: True\n",
      "proposed_initial_alpha: 0.5511225785918679\n",
      "updating X: initial cost: 5.858142e-06; New Cost: 5.8030187e-06\n",
      "(1.1967506e-06, 40, 0.006756489, 0.0016308682, 0.98495495, -0.5044376, 1.4489661, 5.858142e-06, 5.8030187e-06)\n",
      "alpha_val: 0.9573472\n",
      "theta_val: -0.52735484\n",
      "inprod_grad_eta_val: -1.874038e-07\n",
      "rim_grad_norm: 0.003191771\n",
      "eta_norm_val: 0.0004328681\n",
      "Cost New: 5.754195e-06\n",
      "Cost Old: 5.8030187e-06\n",
      "TSC Score New: 0.0065107555\n",
      "TSC Score Old: 0.006538319\n",
      "armijo: True\n",
      "proposed_initial_alpha: 0.5210512786097607\n",
      "updating X: initial cost: 5.8030187e-06; New Cost: 5.754195e-06\n",
      "(1.1793346e-06, 41, 0.0067469883, 0.0014081672, 0.9573472, -0.52735484, 1.4308823, 5.8030187e-06, 5.754195e-06)\n",
      "alpha_val: 0.95676076\n",
      "theta_val: -0.499753\n",
      "inprod_grad_eta_val: -1.8116593e-07\n",
      "rim_grad_norm: 0.0031907936\n",
      "eta_norm_val: 0.0004256037\n",
      "Cost New: 5.7071884e-06\n",
      "Cost Old: 5.754195e-06\n",
      "TSC Score New: 0.0064841076\n",
      "TSC Score Old: 0.0065107555\n",
      "armijo: True\n",
      "proposed_initial_alpha: 0.5189361912249668\n",
      "updating X: initial cost: 5.754195e-06; New Cost: 5.7071884e-06\n",
      "(1.1587673e-06, 42, 0.0067357505, 0.0016683819, 0.95676076, -0.499753, 1.4498304, 5.754195e-06, 5.7071884e-06)\n",
      "alpha_val: 0.9373187\n",
      "theta_val: -0.5064288\n",
      "inprod_grad_eta_val: -1.7744408e-07\n",
      "rim_grad_norm: 0.0031902103\n",
      "eta_norm_val: 0.00042120795\n",
      "Cost New: 5.662544e-06\n",
      "Cost Old: 5.7071884e-06\n",
      "TSC Score New: 0.006458697\n",
      "TSC Score Old: 0.0064841076\n",
      "armijo: True\n",
      "proposed_initial_alpha: 0.5031936447930195\n",
      "updating X: initial cost: 5.7071884e-06; New Cost: 5.662544e-06\n",
      "(1.147733e-06, 43, 0.0067297136, 0.0008970416, 0.9373187, -0.5064288, 1.4754806, 5.7071884e-06, 5.662544e-06)\n",
      "Breaking after 43 iterations\n"
     ]
    }
   ],
   "source": [
    "\n",
    "\n",
    "i = 0\n",
    "cost_nan = False\n",
    "while gradnorm_val > eps:   \n",
    "#for k in range(20):\n",
    "    i = i + 1\n",
    "    F_v, gradnorm_val, alpha_val,theta_val, beta_val, cost_new_val, cost_val,tsc_score_val, eta_norm_val, inprod_grad_eta_val, riemannian_grad_norm_val,_, _,_,_,_,_ = sess.run([loss, gradnorm_omega, alpha, theta, beta, cost_new, cost, completion_score, eta_norm, inprod_grad_eta, riemannian_grad_norm,eta_norm_update_op.op, cost_new_op.op, train_new_step.op, tsc_score_op.op, eta_update_op.op, grad_update_op.op])\n",
    "    #eta_old_val, grad_update_val,_ = sess.run([eta_update_op, grad_update_op])\n",
    "    \n",
    "    print \"alpha_val: \" + str(alpha_val)\n",
    "    print \"theta_val: \" + str(theta_val)\n",
    "    print \"inprod_grad_eta_val: \" + str(inprod_grad_eta_val)\n",
    "    print \"rim_grad_norm: \" + str(riemannian_grad_norm_val)\n",
    "    print \"eta_norm_val: \" + str(eta_norm_val)\n",
    "    \n",
    "    lr = alpha_val\n",
    "    cost_prev_value = cost_val\n",
    "    cost_new_value = cost_new_val\n",
    "    cost_0 = cost_val\n",
    "    \n",
    "    print \"Cost New: \" +str(cost_new_value)\n",
    "    print \"Cost Old: \" +str(cost_prev_value)\n",
    "        \n",
    "    tsc_score_old = tsc_score_history[i-1]\n",
    "    \n",
    "    tsc_score_new = tsc_score_val\n",
    "    print \"TSC Score New: \" +str(tsc_score_val)\n",
    "    print \"TSC Score Old: \" +str(tsc_score_old)\n",
    "       \n",
    "    backtrackiter = 0\n",
    "\n",
    "    max_iter_count = 10\n",
    "    #armijo = (cost_new_val <= cost_prev_value + backtrack_const*(lr)*inprod_grad_eta_val)\n",
    "    armijo = ((tsc_score_new < tsc_score_old) or (cost_new_val <= cost_prev_value + backtrack_const*(lr)*inprod_grad_eta_val))\n",
    "    print \"armijo: \" + str(armijo)\n",
    "    \n",
    "    proposed_initial_alpha = 2*(cost_new_value - cost_prev_value)/inprod_grad_eta_val\n",
    "    print \"proposed_initial_alpha: \" + str(proposed_initial_alpha)\n",
    "    \n",
    "    #diff_train = np.abs(train_loss_hist[i - 1] - train_loss_hist[i-2])\n",
    "    \n",
    "    #while (cost_prev - cost_new) <= -backtrack_const*(-lr)*inprod_grad_eta_val:\n",
    "    #while (not (cost_new <= cost_prev + backtrack_const*(lr)*inprod_grad_eta_val)):\n",
    "    while ((tsc_score_new > tsc_score_old) or (cost_new_value > cost_prev_value + backtrack_const*(lr)*inprod_grad_eta_val)):\n",
    "        \n",
    "        print \"Backtracking\"\n",
    "        lr = 0.5*lr\n",
    "        print \"Learning Rate: \" + str(lr)\n",
    "        sess.run(t3f.assign(X_new, t3f.round(X + lr * eta_t3f_old, max_tt_rank=63)).op)\n",
    "        x_new_val = sess.run(t3f.full(X_new))\n",
    "        x_new_val[mask_indices==0] = 0.0\n",
    "        \n",
    "               \n",
    "        print \"proposed_initial_alpha: \" + str(proposed_initial_alpha)\n",
    "        proposed_step_size = proposed_initial_alpha /inprod_grad_eta_val\n",
    "        print \"proposed_step_size: \" + str(proposed_step_size)\n",
    "        proposed_initial_alpha = 0.5* proposed_step_size\n",
    "        \n",
    "        cost_new_value = loss_func(x_new_val, a_omega)\n",
    "        sess.run(tf.assign(cost_new,cost_new_value).op)\n",
    "        \n",
    "        tsc_score_new,_ = sess.run([completion_score, tsc_score_update_op.op])\n",
    "        print \"TSC Score New: \" +str(tsc_score_new)\n",
    "        print \"TSC Score Old: \" +str(tsc_score_old)\n",
    "        \n",
    "        if is_nan(cost_new):\n",
    "            cost_nan = True\n",
    "            break\n",
    "        \n",
    "        print \"Cost New: \" +str(cost_new_value)\n",
    "        print \"Cost Old: \" +str(cost_prev_value)\n",
    "        backtrackiter = backtrackiter + 1\n",
    "        print \"backtrackiter_count: \" + str(backtrackiter)\n",
    "    \n",
    "        if cost_nan:\n",
    "            print \"Cost is Nan. Breaking after \" + str(i) + \"; iterations\"\n",
    "            break\n",
    "        \n",
    "        if backtrackiter>= max_iter_count:\n",
    "           print \"Breaking after \" + str(i) + \"; iterations\"\n",
    "           break\n",
    "    \n",
    "    \n",
    "    \n",
    "    if (cost_new_value < cost_prev_value or (tsc_score_new <= tsc_score_old)):\n",
    "        # update x\n",
    "        print \"updating X: initial cost: \" + str(cost_prev_value) + \"; New Cost: \" +  str(cost_new_value)\n",
    "        sess.run([t3f.assign(X, X_new).op, tf.assign(cost,cost_new_value).op])\n",
    "        tsc_score_history.append(tsc_score_new)\n",
    "    else:\n",
    "        print \"Reject Step: not updating X: initial cost: \" + str(cost_prev_value) + \"; New Cost: \" +  str(cost_new_value)\n",
    "        tsc_score_history.append(tsc_score_old)\n",
    "        \n",
    "    train_loss_hist.append(gradnorm_val)\n",
    "    cost_history.append(cost_new_value)\n",
    "    \n",
    "    if i > 1:\n",
    "        diff_train = np.abs(train_loss_hist[i - 1] - train_loss_hist[i-2])/np.abs(train_loss_hist[i-1])\n",
    "        print (F_v, i, gradnorm_val, diff_train, alpha_val, theta_val, beta_val, cost_val, cost_new_val)\n",
    "        if diff_train <= epsilon_train:\n",
    "            print \"Breaking after \" + str(i) + \" iterations\"\n",
    "            break\n",
    "    else:\n",
    "        print (F_v, i, gradnorm_val, alpha_val, theta_val, beta_val, cost_val, cost_new_val)\n",
    "    log.append(F_v)"
   ]
  },
  {
   "cell_type": "code",
   "execution_count": 101,
   "metadata": {},
   "outputs": [
    {
     "name": "stdout",
     "output_type": "stream",
     "text": [
      "TSC Score Old: 0.0064841076\n"
     ]
    }
   ],
   "source": [
    "print \"TSC Score Old: \" +str(tsc_score_old)"
   ]
  },
  {
   "cell_type": "code",
   "execution_count": null,
   "metadata": {
    "collapsed": true
   },
   "outputs": [],
   "source": []
  },
  {
   "cell_type": "code",
   "execution_count": 102,
   "metadata": {},
   "outputs": [
    {
     "name": "stdout",
     "output_type": "stream",
     "text": [
      "Tensor(\"Maximum:0\", shape=(), dtype=float32)\n"
     ]
    }
   ],
   "source": [
    "print beta"
   ]
  },
  {
   "cell_type": "code",
   "execution_count": 103,
   "metadata": {
    "collapsed": true
   },
   "outputs": [],
   "source": [
    "#sess.run([eta_update_op.op, grad_update_op.op])"
   ]
  },
  {
   "cell_type": "code",
   "execution_count": 104,
   "metadata": {},
   "outputs": [
    {
     "name": "stdout",
     "output_type": "stream",
     "text": [
      "A Tensor Train variable of shape (53, 63, 46, 144), TT-ranks: (1, 53, 63, 63, 1)\n"
     ]
    }
   ],
   "source": [
    "print X"
   ]
  },
  {
   "cell_type": "code",
   "execution_count": 105,
   "metadata": {
    "collapsed": true
   },
   "outputs": [],
   "source": [
    "estimated_val = sess.run(t3f.full(X))"
   ]
  },
  {
   "cell_type": "code",
   "execution_count": 106,
   "metadata": {
    "collapsed": true
   },
   "outputs": [],
   "source": [
    "ground_truth_val = sess.run(ground_truth)\n"
   ]
  },
  {
   "cell_type": "code",
   "execution_count": 107,
   "metadata": {
    "collapsed": true
   },
   "outputs": [],
   "source": [
    "x_reconstr = mt.reconstruct(estimated_val,ground_truth_val, ten_ones, mask_indices)\n"
   ]
  },
  {
   "cell_type": "code",
   "execution_count": 108,
   "metadata": {
    "collapsed": true
   },
   "outputs": [],
   "source": [
    "def relative_error(x_hat,x_true):\n",
    "    percent_error = np.linalg.norm(x_hat - x_true) / np.linalg.norm(x_true)\n",
    "    return percent_error"
   ]
  },
  {
   "cell_type": "code",
   "execution_count": 109,
   "metadata": {
    "collapsed": true
   },
   "outputs": [],
   "source": [
    "rel_error = relative_error(estimated_val,ground_truth_val)"
   ]
  },
  {
   "cell_type": "code",
   "execution_count": 110,
   "metadata": {},
   "outputs": [
    {
     "name": "stdout",
     "output_type": "stream",
     "text": [
      "0.0061875368\n"
     ]
    }
   ],
   "source": [
    "print rel_error"
   ]
  },
  {
   "cell_type": "code",
   "execution_count": 111,
   "metadata": {
    "collapsed": true
   },
   "outputs": [],
   "source": [
    "rel_error_rec = relative_error(x_reconstr,ground_truth_val)"
   ]
  },
  {
   "cell_type": "code",
   "execution_count": 112,
   "metadata": {},
   "outputs": [
    {
     "data": {
      "text/plain": [
       "0.005193313922015152"
      ]
     },
     "execution_count": 112,
     "metadata": {},
     "output_type": "execute_result"
    }
   ],
   "source": [
    "rel_error_rec"
   ]
  },
  {
   "cell_type": "code",
   "execution_count": 141,
   "metadata": {
    "collapsed": true
   },
   "outputs": [],
   "source": [
    "x_miss_img = mt.reconstruct_image_affine(x_true_org, x_train)"
   ]
  },
  {
   "cell_type": "code",
   "execution_count": 142,
   "metadata": {
    "collapsed": true
   },
   "outputs": [],
   "source": [
    "x_miss = image.index_img(x_miss_img,1)"
   ]
  },
  {
   "cell_type": "code",
   "execution_count": 144,
   "metadata": {},
   "outputs": [
    {
     "data": {
      "image/png": "[encoded data removed]",
      "text/plain": [
       "<matplotlib.figure.Figure at 0x1f40486d0>"
      ]
     },
     "metadata": {},
     "output_type": "display_data"
    }
   ],
   "source": [
    "x_miss_image = plotting.plot_epi(x_miss, bg_img=None,black_bg=True, cmap='jet', cut_coords=[1, -13, 32]) "
   ]
  },
  {
   "cell_type": "code",
   "execution_count": 116,
   "metadata": {},
   "outputs": [
    {
     "data": {
      "image/png": "[encoded data removed]",
      "text/plain": [
       "<matplotlib.figure.Figure at 0x13f1296d0>"
      ]
     },
     "metadata": {},
     "output_type": "display_data"
    }
   ],
   "source": [
    "x_hat_img = mt.reconstruct_image_affine(x_true_org, x_reconstr)\n",
    "x_hat = image.index_img(x_hat_img,1)\n",
    "recovered_image = plotting.plot_epi(x_hat, bg_img=None,black_bg=True, cmap='jet', cut_coords=None)"
   ]
  },
  {
   "cell_type": "code",
   "execution_count": 117,
   "metadata": {},
   "outputs": [
    {
     "data": {
      "image/png": "[encoded data removed]",
      "text/plain": [
       "<matplotlib.figure.Figure at 0x14b008ed0>"
      ]
     },
     "metadata": {},
     "output_type": "display_data"
    }
   ],
   "source": [
    "x_org = mt.reconstruct_image_affine(x_true_org, x_true_img)\n",
    "x_org_img = image.index_img(x_org,1)\n",
    "#x_true_org_img = image.index_img(x_true_org,1)\n",
    "org_image = plotting.plot_epi(x_org_img, bg_img=None,black_bg=True, cmap='jet', cut_coords=None)"
   ]
  },
  {
   "cell_type": "code",
   "execution_count": 118,
   "metadata": {
    "collapsed": true
   },
   "outputs": [],
   "source": [
    "#x_true_org_img = image.index_img(x_true_org,1)\n",
    "#org_image = plotting.plot_epi(x_true_org_img, bg_img=None,black_bg=True, cmap='jet', cut_coords=None)"
   ]
  },
  {
   "cell_type": "code",
   "execution_count": 145,
   "metadata": {},
   "outputs": [
    {
     "name": "stdout",
     "output_type": "stream",
     "text": [
      "('Saving figure', '/work/scratch/tt3/1/missing_ratio_80.00.png')\n",
      "Called from mrd\n"
     ]
    }
   ],
   "source": [
    "images_folder = \"/work/scratch/tt3/1\"\n",
    "mrd.draw_original_vs_reconstructed_rim(image.index_img(x_true_org,1),x_hat, image.index_img(x_miss_img,1), \"4D fMRI Tensor Completion\",\n",
    "                                             rel_error_rec, observed_ratio, coord=None, folder=images_folder)"
   ]
  },
  {
   "cell_type": "code",
   "execution_count": 120,
   "metadata": {
    "collapsed": true
   },
   "outputs": [],
   "source": [
    "estimated_val_img = mt.reconstruct_image_affine(x_true_org, estimated_val)"
   ]
  },
  {
   "cell_type": "code",
   "execution_count": 121,
   "metadata": {
    "collapsed": true
   },
   "outputs": [],
   "source": [
    "estimated_val_hat = image.index_img(estimated_val_img,1)"
   ]
  },
  {
   "cell_type": "code",
   "execution_count": 122,
   "metadata": {},
   "outputs": [
    {
     "name": "stdout",
     "output_type": "stream",
     "text": [
      "('Saving figure', '/work/scratch/tt3/2/missing_ratio_80.00.png')\n",
      "Called from mrd\n"
     ]
    }
   ],
   "source": [
    "images_folder = \"/work/scratch/tt3/2\"\n",
    "mrd.draw_original_vs_reconstructed_rim(image.index_img(x_true_org,1),estimated_val_hat,image.index_img(x_miss_img,1), \"4D fMRI Tensor Completion\",\n",
    "                                             rel_error_rec, observed_ratio, coord=None, folder=images_folder)"
   ]
  },
  {
   "cell_type": "code",
   "execution_count": null,
   "metadata": {
    "collapsed": true
   },
   "outputs": [],
   "source": []
  },
  {
   "cell_type": "code",
   "execution_count": 123,
   "metadata": {
    "collapsed": true
   },
   "outputs": [],
   "source": [
    "tsc_score = tsc(estimated_val,ground_truth_val, ten_ones, mask_indices)"
   ]
  },
  {
   "cell_type": "code",
   "execution_count": 124,
   "metadata": {},
   "outputs": [
    {
     "data": {
      "text/plain": [
       "0.006083625785882879"
      ]
     },
     "execution_count": 124,
     "metadata": {},
     "output_type": "execute_result"
    }
   ],
   "source": [
    "tsc_score"
   ]
  },
  {
   "cell_type": "code",
   "execution_count": 125,
   "metadata": {},
   "outputs": [
    {
     "data": {
      "text/plain": [
       "<nibabel.nifti1.Nifti1Image at 0x1b0632790>"
      ]
     },
     "execution_count": 125,
     "metadata": {},
     "output_type": "execute_result"
    }
   ],
   "source": [
    "x_miss"
   ]
  },
  {
   "cell_type": "code",
   "execution_count": 126,
   "metadata": {},
   "outputs": [
    {
     "name": "stdout",
     "output_type": "stream",
     "text": [
      "<class 'nibabel.nifti1.Nifti1Image'>\n",
      "data shape (53, 63, 46)\n",
      "affine: \n",
      "[[  -3.    0.    0.   78.]\n",
      " [   0.    3.    0. -111.]\n",
      " [   0.    0.    3.  -51.]\n",
      " [   0.    0.    0.    1.]]\n",
      "metadata:\n",
      "<class 'nibabel.nifti1.Nifti1Header'> object, endian='<'\n",
      "sizeof_hdr      : 348\n",
      "data_type       : \n",
      "db_name         : \n",
      "extents         : 0\n",
      "session_error   : 0\n",
      "regular         : \n",
      "dim_info        : 0\n",
      "dim             : [ 3 53 63 46  1  1  1  1]\n",
      "intent_p1       : 0.0\n",
      "intent_p2       : 0.0\n",
      "intent_p3       : 0.0\n",
      "intent_code     : none\n",
      "datatype        : float32\n",
      "bitpix          : 32\n",
      "slice_start     : 0\n",
      "pixdim          : [-1.  3.  3.  3.  1.  1.  1.  1.]\n",
      "vox_offset      : 0.0\n",
      "scl_slope       : nan\n",
      "scl_inter       : nan\n",
      "slice_end       : 0\n",
      "slice_code      : unknown\n",
      "xyzt_units      : 0\n",
      "cal_max         : 0.00044231507\n",
      "cal_min         : 1.3600151e-06\n",
      "slice_duration  : 0.0\n",
      "toffset         : 0.0\n",
      "glmax           : 0\n",
      "glmin           : 0\n",
      "descrip         : \n",
      "aux_file        : \n",
      "qform_code      : unknown\n",
      "sform_code      : aligned\n",
      "quatern_b       : 0.0\n",
      "quatern_c       : 1.0\n",
      "quatern_d       : 0.0\n",
      "qoffset_x       : 78.0\n",
      "qoffset_y       : -111.0\n",
      "qoffset_z       : -51.0\n",
      "srow_x          : [-3.  0.  0. 78.]\n",
      "srow_y          : [   0.    3.    0. -111.]\n",
      "srow_z          : [  0.   0.   3. -51.]\n",
      "intent_name     : \n",
      "magic           : n+1\n"
     ]
    }
   ],
   "source": [
    "print x_miss"
   ]
  },
  {
   "cell_type": "code",
   "execution_count": 127,
   "metadata": {},
   "outputs": [
    {
     "name": "stdout",
     "output_type": "stream",
     "text": [
      "0.079965845\n",
      "0.0068345\n",
      "0.0018530457\n",
      "0.0006500889\n",
      "0.0003259281\n",
      "0.00010200131\n",
      "4.6280096e-05\n",
      "2.8091328e-05\n",
      "1.9979832e-05\n",
      "1.586182e-05\n",
      "1.3277683e-05\n",
      "1.17527e-05\n",
      "1.0758377e-05\n",
      "1.0044714e-05\n",
      "9.488374e-06\n",
      "9.046734e-06\n",
      "8.680829e-06\n",
      "8.367535e-06\n",
      "8.101108e-06\n",
      "7.866619e-06\n",
      "7.674368e-06\n",
      "7.497714e-06\n",
      "7.344072e-06\n",
      "7.1990016e-06\n",
      "7.067137e-06\n",
      "6.942016e-06\n",
      "6.828162e-06\n",
      "6.7205397e-06\n",
      "6.6178886e-06\n",
      "6.5258523e-06\n",
      "6.4306264e-06\n",
      "6.342165e-06\n",
      "6.260201e-06\n",
      "6.1836e-06\n",
      "6.112121e-06\n",
      "6.0453767e-06\n",
      "5.9805966e-06\n",
      "5.9172385e-06\n",
      "5.858142e-06\n",
      "5.8030187e-06\n",
      "5.754195e-06\n",
      "5.7071884e-06\n",
      "5.662544e-06\n",
      "('Saving dataset', '/work/rs1/solution_cost.csv')\n",
      "('Saving dataset', '/work/rs1/tsc_cost.csv')\n"
     ]
    }
   ],
   "source": [
    "output_cost = OrderedDict()\n",
    "indices = []\n",
    "\n",
    "cost_arr = []\n",
    "tsc_arr = []\n",
    "\n",
    "counter = 0\n",
    "for item in cost_history:\n",
    "    print item\n",
    "    cost_arr.append(item)\n",
    "    indices.append(counter)\n",
    "    counter = counter + 1\n",
    "    \n",
    "output_cost['k'] = indices\n",
    "output_cost['cost'] = cost_arr\n",
    "    \n",
    "output_df = pd.DataFrame(output_cost, index=indices)\n",
    "\n",
    "folder = '/work/rs1/'\n",
    "fig_id = 'solution_cost'    \n",
    "mrd.save_csv_by_path(output_df,folder,fig_id)  \n",
    "\n",
    "tsc_score_output = OrderedDict()\n",
    "tsc_score_indices = []\n",
    "\n",
    "counter = 0\n",
    "for item in tsc_score_history:\n",
    "    tsc_arr.append(item)\n",
    "    tsc_score_indices.append(counter)\n",
    "    counter = counter + 1\n",
    "\n",
    "tsc_score_output['k'] = tsc_score_indices\n",
    "tsc_score_output['tsc_cost'] = tsc_arr\n",
    "    \n",
    "output_tsc_df = pd.DataFrame(tsc_score_output, index=tsc_score_indices)\n",
    "fig_id = 'tsc_cost' \n",
    "mrd.save_csv_by_path(output_tsc_df,folder,fig_id)  "
   ]
  },
  {
   "cell_type": "code",
   "execution_count": 128,
   "metadata": {},
   "outputs": [
    {
     "data": {
      "text/plain": [
       "0.0068345"
      ]
     },
     "execution_count": 128,
     "metadata": {},
     "output_type": "execute_result"
    }
   ],
   "source": [
    "cost_history[1]"
   ]
  },
  {
   "cell_type": "code",
   "execution_count": 129,
   "metadata": {},
   "outputs": [
    {
     "name": "stdout",
     "output_type": "stream",
     "text": [
      "Missing Ratio: 0.8\n",
      "x_true_path:/work/rs1/x_true_img_80\n"
     ]
    }
   ],
   "source": [
    "import nibabel as nib\n",
    "import os\n",
    "\n",
    "suffix = int(round((missing_ratio)*100.0, 0))\n",
    "print \"Missing Ratio: \" + str(missing_ratio)\n",
    "x_true_path = os.path.join(folder,\"x_true_img_\" + str(suffix))\n",
    "x_hat_path = os.path.join(folder,\"x_hat_img_\" + str(suffix))\n",
    "x_miss_path = os.path.join(folder,\"x_miss_img_\" + str(suffix))\n",
    "        \n",
    "print(\"x_true_path:\" + str(x_true_path))\n",
    "nib.save(x_hat_img, x_hat_path)"
   ]
  },
  {
   "cell_type": "code",
   "execution_count": null,
   "metadata": {
    "collapsed": true
   },
   "outputs": [],
   "source": []
  }
 ],
 "metadata": {
  "kernelspec": {
   "display_name": "Python 2",
   "language": "python",
   "name": "python2"
  },
  "language_info": {
   "codemirror_mode": {
    "name": "ipython",
    "version": 2
   },
   "file_extension": ".py",
   "mimetype": "text/x-python",
   "name": "python",
   "nbconvert_exporter": "python",
   "pygments_lexer": "ipython2",
   "version": "2.7.13"
  }
 },
 "nbformat": 4,
 "nbformat_minor": 2
}
