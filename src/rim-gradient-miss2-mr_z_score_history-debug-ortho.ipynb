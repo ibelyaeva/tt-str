{
 "cells": [
  {
   "cell_type": "code",
   "execution_count": 1,
   "metadata": {},
   "outputs": [
    {
     "ename": "ModuleNotFoundError",
     "evalue": "No module named 'tensorflow'",
     "output_type": "error",
     "traceback": [
      "\u001b[0;31m---------------------------------------------------------------------------\u001b[0m",
      "\u001b[0;31mModuleNotFoundError\u001b[0m                       Traceback (most recent call last)",
      "\u001b[0;32m<ipython-input-1-43afd21188f0>\u001b[0m in \u001b[0;36m<module>\u001b[0;34m()\u001b[0m\n\u001b[0;32m----> 1\u001b[0;31m \u001b[0;32mimport\u001b[0m \u001b[0mtensorflow\u001b[0m \u001b[0;32mas\u001b[0m \u001b[0mtf\u001b[0m\u001b[0;34m\u001b[0m\u001b[0m\n\u001b[0m\u001b[1;32m      2\u001b[0m \u001b[0;32mimport\u001b[0m \u001b[0mnumpy\u001b[0m \u001b[0;32mas\u001b[0m \u001b[0mnp\u001b[0m\u001b[0;34m\u001b[0m\u001b[0m\n\u001b[1;32m      3\u001b[0m \u001b[0;32mimport\u001b[0m \u001b[0mt3f\u001b[0m\u001b[0;34m\u001b[0m\u001b[0m\n\u001b[1;32m      4\u001b[0m \u001b[0mtf\u001b[0m\u001b[0;34m.\u001b[0m\u001b[0mset_random_seed\u001b[0m\u001b[0;34m(\u001b[0m\u001b[0;36m0\u001b[0m\u001b[0;34m)\u001b[0m\u001b[0;34m\u001b[0m\u001b[0m\n\u001b[1;32m      5\u001b[0m \u001b[0mnp\u001b[0m\u001b[0;34m.\u001b[0m\u001b[0mrandom\u001b[0m\u001b[0;34m.\u001b[0m\u001b[0mseed\u001b[0m\u001b[0;34m(\u001b[0m\u001b[0;36m0\u001b[0m\u001b[0;34m)\u001b[0m\u001b[0;34m\u001b[0m\u001b[0m\n",
      "\u001b[0;31mModuleNotFoundError\u001b[0m: No module named 'tensorflow'"
     ]
    }
   ],
   "source": [
    "import tensorflow as tf\n",
    "import numpy as np\n",
    "import t3f\n",
    "tf.set_random_seed(0)\n",
    "np.random.seed(0)\n",
    "%matplotlib inline\n",
    "import matplotlib.pyplot as plt\n",
    "import metric_util as mt\n",
    "import data_util as du\n",
    "from t3f import shapes\n",
    "from nilearn import image\n",
    "from skimage.measure import compare_ssim as ssim\n",
    "from tensorflow.python.util import nest\n",
    "import copy\n",
    "from nilearn import plotting\n",
    "from t3f import ops\n",
    "import mri_draw_utils as mrd\n",
    "from t3f import initializers\n",
    "from t3f import approximate\n",
    "from scipy import optimize \n",
    "from nilearn.masking import compute_background_mask\n",
    "from nilearn.masking import compute_epi_mask\n",
    "from collections import OrderedDict\n",
    "import pandas as pd\n",
    "from scipy import stats\n",
    "from nilearn.image import math_img"
   ]
  },
  {
   "cell_type": "code",
   "execution_count": 2,
   "metadata": {
    "collapsed": true
   },
   "outputs": [],
   "source": [
    "#sess = tf.InteractiveSession()"
   ]
  },
  {
   "cell_type": "code",
   "execution_count": 3,
   "metadata": {
    "collapsed": true
   },
   "outputs": [],
   "source": [
    "def frobenius_norm_tf_squared(x):\n",
    "    return tf.reduce_sum(x ** 2)"
   ]
  },
  {
   "cell_type": "code",
   "execution_count": 4,
   "metadata": {
    "collapsed": true
   },
   "outputs": [],
   "source": [
    "def frobenius_norm_tf(x):\n",
    "    return tf.reduce_sum(x ** 2) ** 0.5"
   ]
  },
  {
   "cell_type": "code",
   "execution_count": 5,
   "metadata": {
    "collapsed": true
   },
   "outputs": [],
   "source": [
    "def relative_error1(x_hat,x_true):\n",
    "    percent_error = frobenius_norm_tf(x_hat - x_true) / frobenius_norm_tf(x_true)\n",
    "    return percent_error"
   ]
  },
  {
   "cell_type": "code",
   "execution_count": 6,
   "metadata": {
    "collapsed": true
   },
   "outputs": [],
   "source": [
    "def innerProduct(x, y):\n",
    "    result = tf.reduce_sum(tf.multiply(x, y))\n",
    "    return result"
   ]
  },
  {
   "cell_type": "code",
   "execution_count": 7,
   "metadata": {
    "collapsed": true
   },
   "outputs": [],
   "source": [
    "def compute_step_size(n_omega, grad):\n",
    "    result = -innerProduct(n_omega,grad)/(innerProduct(n_omega, n_omega))\n",
    "    return result"
   ]
  },
  {
   "cell_type": "code",
   "execution_count": 8,
   "metadata": {
    "collapsed": true
   },
   "outputs": [],
   "source": [
    "def draw(omega, x_true, x_hat, rel_error):\n",
    "    images_folder = \"/work/scratch/tt3\"\n",
    "    ten_ones = np.ones_like(omega)\n",
    "    x_reconstr1 = mt.reconstruct2(x_hat,ground_truth, omega)\n",
    "    x_hat_img = mt.reconstruct_image_affine(x_true_org, x_reconstr1)\n",
    "    x_hat_est = image.index_img(x_hat_img,1)\n",
    "    \n",
    "    x_true_org_img = image.index_img(x_true,1)\n",
    "    x_miss_img = mt.reconstruct_image_affine(x_true_org, x_train)\n",
    "    x_miss = image.index_img(x_miss_img,1)\n",
    "    mrd.draw_original_vs_reconstructed_rim(x_true_org_img,x_hat_est, x_miss, \"Rim Completion\",\n",
    "                                             rel_error, observed_ratio, coord=None, folder=images_folder)"
   ]
  },
  {
   "cell_type": "code",
   "execution_count": 9,
   "metadata": {},
   "outputs": [
    {
     "name": "stdout",
     "output_type": "stream",
     "text": [
      "Subject Path: /work/pl/sch/analysis/data/COBRE001/swaAMAYER+cobre01_63001+M87100944+20110309at135133+RSTpre_V01_R01+CM.nii\n"
     ]
    }
   ],
   "source": [
    "subject_scan_path = du.get_full_path_subject1()\n",
    "print \"Subject Path: \" + str(subject_scan_path)\n",
    "x_true_org = mt.read_image_abs_path(subject_scan_path)\n"
   ]
  },
  {
   "cell_type": "code",
   "execution_count": 10,
   "metadata": {
    "collapsed": true
   },
   "outputs": [],
   "source": [
    "def get_mask(data, observed_ratio):\n",
    "    \n",
    "    if len(data.shape) == 3:\n",
    "        mask_indices = (np.random.rand(data.shape[0],data.shape[1],data.shape[2]) < observed_ratio).astype('int') \n",
    "    elif len(data.shape) == 4:\n",
    "        mask_indices = (np.random.rand(data.shape[0],data.shape[1],data.shape[2], data.shape[3]) < observed_ratio).astype('int') \n",
    "    elif len(data.shape) == 2:\n",
    "        mask_indices = (np.random.rand(data.shape[0],data.shape[1]) < observed_ratio).astype('int') \n",
    "    \n",
    "    return mask_indices"
   ]
  },
  {
   "cell_type": "code",
   "execution_count": 11,
   "metadata": {
    "collapsed": true
   },
   "outputs": [],
   "source": [
    "def tsc(x_hat,x_true, ten_ones, mask):\n",
    "    nomin = np.linalg.norm(np.multiply((ten_ones - mask), (x_true - x_hat)))\n",
    "    denom = np.linalg.norm(np.multiply((ten_ones - mask), x_true))\n",
    "    score = nomin/denom\n",
    "    return score "
   ]
  },
  {
   "cell_type": "code",
   "execution_count": 12,
   "metadata": {
    "collapsed": true
   },
   "outputs": [],
   "source": [
    "x_true_img = np.array(x_true_org.get_data())\n",
    "\n",
    "mask_img = compute_epi_mask(x_true_org)\n",
    "mask_img_data = np.array(mask_img.get_data())\n",
    "\n",
    "observed_ratio = 0.05\n",
    "missing_ratio = 1 - observed_ratio\n",
    "\n",
    "mask_indices = get_mask(x_true_img, observed_ratio)\n",
    "epi_mask = copy.deepcopy(mask_img_data)\n",
    "    \n",
    "mask_indices[epi_mask==0] = 1\n",
    "\n",
    "\n",
    "\n",
    "#x_true_img = np.array(x_true_org.get_data())\n",
    "\n",
    "norm_ground_truth = np.linalg.norm(x_true_img)\n",
    "x_true_img = x_true_img * (1./norm_ground_truth)\n",
    "\n",
    "#mask_indices = (np.random.rand(x_true_img.shape[0],x_true_img.shape[1],x_true_img.shape[2], x_true_img.shape[3]) < observed_ratio).astype('int') \n",
    "ten_ones = np.ones_like(mask_indices)\n",
    "x_train = copy.deepcopy(x_true_img)\n",
    "x_train[mask_indices==0] = 0.0\n",
    "#x_train[mask_indices == 0] = np.mean(x_train[mask_indices == 1])\n",
    "#x_train[mask_indices == 0] = np.mean(x_train[mask_indices == 1])\n",
    "\n",
    "x_init = copy.deepcopy(x_train)\n",
    "#shape = (1, 53, 63, 63, 1)\n",
    "#x_init_tf = t3f.random_tensor(shape, tt_rank=63)\n",
    "\n",
    "\n",
    "ground_truth = copy.deepcopy(x_true_img)\n",
    "ground_truth_x = copy.deepcopy(x_true_img)\n",
    "a_omega = copy.deepcopy(ground_truth)\n",
    "a_omega[mask_indices==0] = 0.0\n",
    "\n",
    "sparse_observation = copy.deepcopy(ground_truth)\n",
    "sparse_observation[mask_indices==0] = 0.0\n",
    "\n",
    "\n",
    "#x_init1 = np.random.rand(53, 63, 46, 144).astype('float32')\n",
    "x_init1 = (2*np.random.random_sample(ground_truth.shape) - 1).astype('float32')\n",
    "#x_init1_img = mt.read_image_abs_path(\"/work/rs1/init/x_hat_img_95.nii\")\n",
    "#x_init1 = np.array(x_init1_img.get_data()).astype('float32')\n",
    "\n",
    "norm_ground_x_init1 = np.linalg.norm(x_init1)\n",
    "x_init_tcs = x_true_img * (1./norm_ground_x_init1)\n",
    "\n",
    "\n",
    "x_init1 = x_init1 * (1./norm_ground_x_init1)"
   ]
  },
  {
   "cell_type": "code",
   "execution_count": 13,
   "metadata": {},
   "outputs": [],
   "source": [
    "shape1 = x_init1.shape"
   ]
  },
  {
   "cell_type": "code",
   "execution_count": 14,
   "metadata": {},
   "outputs": [
    {
     "name": "stdout",
     "output_type": "stream",
     "text": [
      "(53, 63, 46, 144)\n"
     ]
    }
   ],
   "source": [
    "print shape1"
   ]
  },
  {
   "cell_type": "code",
   "execution_count": 15,
   "metadata": {},
   "outputs": [
    {
     "data": {
      "text/plain": [
       "74916430.0"
      ]
     },
     "execution_count": 15,
     "metadata": {},
     "output_type": "execute_result"
    }
   ],
   "source": [
    "norm_ground_truth"
   ]
  },
  {
   "cell_type": "code",
   "execution_count": 16,
   "metadata": {},
   "outputs": [],
   "source": [
    "xx = list(shape1)"
   ]
  },
  {
   "cell_type": "code",
   "execution_count": 17,
   "metadata": {
    "collapsed": true
   },
   "outputs": [],
   "source": [
    "xx1 = xx[0:3]"
   ]
  },
  {
   "cell_type": "code",
   "execution_count": 18,
   "metadata": {},
   "outputs": [
    {
     "data": {
      "text/plain": [
       "[53, 63, 46]"
      ]
     },
     "execution_count": 18,
     "metadata": {},
     "output_type": "execute_result"
    }
   ],
   "source": [
    "xx1"
   ]
  },
  {
   "cell_type": "code",
   "execution_count": 19,
   "metadata": {},
   "outputs": [
    {
     "data": {
      "text/plain": [
       "63"
      ]
     },
     "execution_count": 19,
     "metadata": {},
     "output_type": "execute_result"
    }
   ],
   "source": [
    "np.max(xx1)"
   ]
  },
  {
   "cell_type": "code",
   "execution_count": 20,
   "metadata": {},
   "outputs": [
    {
     "name": "stdout",
     "output_type": "stream",
     "text": [
      "mask_z_indices_count: 687217\n"
     ]
    }
   ],
   "source": [
    "std_img = math_img(\"np.std(img)\", img=x_true_org)\n",
    "mean_img = image.mean_img(x_true_org)\n",
    "z_scored_image = math_img(\"(yt - np.mean(yt))/np.std(yt)\", yt=x_true_org)\n",
    "ground_truth_z_score = stats.zscore(z_scored_image.get_data())\n",
    "mask_z_score_indices = (abs(ground_truth_z_score) > 2).astype('int') \n",
    "mask_z_indices_count = np.count_nonzero(mask_z_score_indices==1)\n",
    "print \"mask_z_indices_count: \" + str(mask_z_indices_count)"
   ]
  },
  {
   "cell_type": "code",
   "execution_count": 21,
   "metadata": {
    "collapsed": true
   },
   "outputs": [],
   "source": [
    "folder = '/work/rs1/'"
   ]
  },
  {
   "cell_type": "code",
   "execution_count": 22,
   "metadata": {},
   "outputs": [
    {
     "data": {
      "image/png": "[encoded data removed]",
      "text/plain": [
       "<matplotlib.figure.Figure at 0x12d3c3210>"
      ]
     },
     "metadata": {},
     "output_type": "display_data"
    }
   ],
   "source": [
    "x_org = mt.reconstruct_image_affine(x_true_org, x_true_img)\n",
    "x_org_img = image.index_img(x_org,1)\n",
    "#x_true_org_img = image.index_img(x_true_org,1)\n",
    "org_image = plotting.plot_epi(x_org_img, bg_img=None,black_bg=True, cmap='jet', cut_coords=None)"
   ]
  },
  {
   "cell_type": "code",
   "execution_count": 23,
   "metadata": {
    "collapsed": true
   },
   "outputs": [],
   "source": [
    "ten_ones = np.ones_like(mask_indices)\n"
   ]
  },
  {
   "cell_type": "code",
   "execution_count": 24,
   "metadata": {
    "collapsed": true
   },
   "outputs": [],
   "source": [
    "x_reconstr_init = mt.reconstruct2(x_init_tcs,ground_truth, mask_indices)"
   ]
  },
  {
   "cell_type": "code",
   "execution_count": 25,
   "metadata": {
    "collapsed": true
   },
   "outputs": [],
   "source": [
    "tsc_score_init = tsc(x_reconstr_init,ground_truth, ten_ones, mask_indices).astype('float32')"
   ]
  },
  {
   "cell_type": "code",
   "execution_count": 26,
   "metadata": {},
   "outputs": [
    {
     "name": "stdout",
     "output_type": "stream",
     "text": [
      "0.055971414\n"
     ]
    }
   ],
   "source": [
    "print tsc_score_init"
   ]
  },
  {
   "cell_type": "code",
   "execution_count": 27,
   "metadata": {},
   "outputs": [
    {
     "name": "stdout",
     "output_type": "stream",
     "text": [
      "0.3669616\n"
     ]
    }
   ],
   "source": [
    "norm_sparse_observation = np.linalg.norm(sparse_observation)\n",
    "print norm_sparse_observation"
   ]
  },
  {
   "cell_type": "code",
   "execution_count": 28,
   "metadata": {
    "collapsed": true
   },
   "outputs": [],
   "source": [
    "denom_tsc = np.linalg.norm((1.0 - mask_indices) * x_true_img)"
   ]
  },
  {
   "cell_type": "code",
   "execution_count": 29,
   "metadata": {},
   "outputs": [
    {
     "name": "stdout",
     "output_type": "stream",
     "text": [
      "0.9304088279465125\n"
     ]
    }
   ],
   "source": [
    "print denom_tsc"
   ]
  },
  {
   "cell_type": "code",
   "execution_count": 30,
   "metadata": {},
   "outputs": [
    {
     "name": "stdout",
     "output_type": "stream",
     "text": [
      "[1, 53, 1, 1, 1] 0 (1, 53, 53)\n",
      "[1, 53, 63, 1, 1] 1 (53, 63, 63)\n",
      "[1, 53, 63, 63, 1] 2 (63, 46, 63)\n",
      "ranks: [1, 53, 63, 63, 1]\n"
     ]
    }
   ],
   "source": [
    "mask_indices_tf = t3f.to_tt_tensor(mask_indices.astype('float32'), max_tt_rank=63)"
   ]
  },
  {
   "cell_type": "code",
   "execution_count": 31,
   "metadata": {
    "collapsed": true
   },
   "outputs": [],
   "source": [
    "#x_miss_img = mt.reconstruct_image_affine(x_true_org, x_train*norm_ground_truth)\n",
    "x_miss_img = mt.reconstruct_image_affine(x_true_org, x_train)"
   ]
  },
  {
   "cell_type": "code",
   "execution_count": 32,
   "metadata": {
    "collapsed": true
   },
   "outputs": [],
   "source": [
    "x_miss = norm_ground_truth*x_train"
   ]
  },
  {
   "cell_type": "code",
   "execution_count": 33,
   "metadata": {
    "collapsed": true
   },
   "outputs": [],
   "source": [
    "x_miss = image.index_img(x_miss_img,1)"
   ]
  },
  {
   "cell_type": "code",
   "execution_count": 34,
   "metadata": {},
   "outputs": [
    {
     "data": {
      "image/png": "[encoded data removed]",
      "text/plain": [
       "<matplotlib.figure.Figure at 0x10f2b8f10>"
      ]
     },
     "metadata": {},
     "output_type": "display_data"
    }
   ],
   "source": [
    "x_miss_image = plotting.plot_epi(x_miss, bg_img=None,black_bg=True, cmap='jet', cut_coords=[1, -13, 32]) "
   ]
  },
  {
   "cell_type": "code",
   "execution_count": 35,
   "metadata": {},
   "outputs": [
    {
     "name": "stdout",
     "output_type": "stream",
     "text": [
      "('Saving figure', '/work/scratch/tt3/missing_ratio_95.00.png')\n",
      "Called from mrd\n"
     ]
    }
   ],
   "source": [
    "images_folder = \"/work/scratch/tt3\"\n",
    "mrd.draw_original_vs_reconstructed_rim(image.index_img(x_true_org,1),image.index_img(x_miss_img,1), image.index_img(x_miss_img,1), \"Rim Completion\",\n",
    "                                             observed_ratio, observed_ratio, coord=None, folder=images_folder)"
   ]
  },
  {
   "cell_type": "code",
   "execution_count": 36,
   "metadata": {},
   "outputs": [
    {
     "name": "stdout",
     "output_type": "stream",
     "text": [
      "Missing Ratio: 0.95\n",
      "x_true_path:/work/rs1/x_true_img_95\n"
     ]
    }
   ],
   "source": [
    "import nibabel as nib\n",
    "import os\n",
    "\n",
    "suffix = int(round((missing_ratio)*100.0, 0))\n",
    "print \"Missing Ratio: \" + str(missing_ratio)\n",
    "x_true_path = os.path.join(folder,\"x_true_img_\" + str(suffix))\n",
    "x_miss_path = os.path.join(folder,\"x_miss_img_\" + str(suffix))\n",
    "        \n",
    "print(\"x_true_path:\" + str(x_true_path))\n",
    "nib.save(x_true_org, x_true_path)\n",
    "nib.save(x_miss_img, x_miss_path)"
   ]
  },
  {
   "cell_type": "code",
   "execution_count": null,
   "metadata": {
    "collapsed": true
   },
   "outputs": [],
   "source": []
  },
  {
   "cell_type": "code",
   "execution_count": 37,
   "metadata": {},
   "outputs": [
    {
     "name": "stdout",
     "output_type": "stream",
     "text": [
      "[1, 53, 1, 1, 1] 0 (1, 53, 53)\n",
      "[1, 53, 63, 1, 1] 1 (53, 63, 63)\n",
      "[1, 53, 63, 63, 1] 2 (63, 46, 63)\n",
      "ranks: [1, 53, 63, 63, 1]\n"
     ]
    }
   ],
   "source": [
    "ground_truth_tf = t3f.to_tt_tensor(ground_truth, max_tt_rank=63)"
   ]
  },
  {
   "cell_type": "code",
   "execution_count": 38,
   "metadata": {
    "collapsed": true
   },
   "outputs": [],
   "source": [
    "A = t3f.get_variable('A', initializer=ground_truth_tf, trainable=False)"
   ]
  },
  {
   "cell_type": "code",
   "execution_count": 39,
   "metadata": {
    "collapsed": true
   },
   "outputs": [],
   "source": [
    "ground_truth = tf.get_variable('ground_truth', initializer=ground_truth, trainable=False)\n",
    "sparsity_mask = tf.get_variable('sparsity_mask', initializer=mask_indices, trainable=False)\n",
    "sparsity_mask = tf.cast(sparsity_mask,tf.float32)\n",
    "sparse_observation = ground_truth * sparsity_mask"
   ]
  },
  {
   "cell_type": "code",
   "execution_count": 40,
   "metadata": {
    "collapsed": true
   },
   "outputs": [],
   "source": [
    "#sparsity_mask = t3f.get_variable('sparsity_mask', initializer=mask_indices_tf, trainable=False)\n",
    "#sparsity_mask = t3f.cast(sparsity_mask, tf.float32)\n",
    "#sparse_observation_tf = t3f.to_tt_tensor(sparse_observation, max_tt_rank=63)\n",
    "#sparse_observation_tf3 = t3f.get_variable('sparse_observation_tf', initializer=sparse_observation_tf, trainable=False)"
   ]
  },
  {
   "cell_type": "code",
   "execution_count": 41,
   "metadata": {
    "collapsed": true
   },
   "outputs": [],
   "source": [
    "shape  =  (53, 63, 46, 144)"
   ]
  },
  {
   "cell_type": "code",
   "execution_count": null,
   "metadata": {
    "collapsed": true
   },
   "outputs": [],
   "source": [
    "\n"
   ]
  },
  {
   "cell_type": "code",
   "execution_count": 42,
   "metadata": {},
   "outputs": [
    {
     "name": "stdout",
     "output_type": "stream",
     "text": [
      "[1, 53, 1, 1, 1] 0 (1, 53, 53)\n",
      "[1, 53, 63, 1, 1] 1 (53, 63, 63)\n",
      "[1, 53, 63, 63, 1] 2 (63, 46, 63)\n",
      "ranks: [1, 53, 63, 63, 1]\n"
     ]
    }
   ],
   "source": [
    "x_train_tf = t3f.to_tt_tensor(x_init1, max_tt_rank=63)"
   ]
  },
  {
   "cell_type": "code",
   "execution_count": 43,
   "metadata": {
    "collapsed": true
   },
   "outputs": [],
   "source": [
    "#x_train_tf = t3f.random_tensor(shape, tt_rank=63)"
   ]
  },
  {
   "cell_type": "code",
   "execution_count": 44,
   "metadata": {
    "collapsed": true
   },
   "outputs": [],
   "source": [
    "normAOmegavar = tf.get_variable('normAOmega', initializer=norm_sparse_observation, trainable=False)"
   ]
  },
  {
   "cell_type": "code",
   "execution_count": 45,
   "metadata": {
    "collapsed": true
   },
   "outputs": [],
   "source": [
    "X = t3f.get_variable('X', initializer=x_train_tf)"
   ]
  },
  {
   "cell_type": "code",
   "execution_count": 46,
   "metadata": {
    "collapsed": true
   },
   "outputs": [],
   "source": [
    "X_new = t3f.get_variable('X_new', initializer=x_train_tf)"
   ]
  },
  {
   "cell_type": "code",
   "execution_count": null,
   "metadata": {
    "collapsed": true
   },
   "outputs": [],
   "source": []
  },
  {
   "cell_type": "code",
   "execution_count": null,
   "metadata": {
    "collapsed": true
   },
   "outputs": [],
   "source": []
  },
  {
   "cell_type": "code",
   "execution_count": 47,
   "metadata": {},
   "outputs": [
    {
     "name": "stdout",
     "output_type": "stream",
     "text": [
      "A Tensor Train variable of shape (53, 63, 46, 144), TT-ranks: (1, 53, 63, 63, 1)\n"
     ]
    }
   ],
   "source": [
    "print X"
   ]
  },
  {
   "cell_type": "code",
   "execution_count": 48,
   "metadata": {
    "collapsed": true
   },
   "outputs": [],
   "source": [
    "def train_it_rel_cost(cost_hist, k):\n",
    "    res = np.abs(cost_hist[k] - cost_hist[k-1])/np.abs(cost_hist[k])\n",
    "    return res"
   ]
  },
  {
   "cell_type": "code",
   "execution_count": 49,
   "metadata": {
    "collapsed": true
   },
   "outputs": [],
   "source": [
    "counter = tf.get_variable('counter', initializer=0)"
   ]
  },
  {
   "cell_type": "code",
   "execution_count": 50,
   "metadata": {
    "collapsed": true
   },
   "outputs": [],
   "source": [
    "one = tf.constant(1)\n",
    "zero_point1 = tf.constant(0.1)"
   ]
  },
  {
   "cell_type": "code",
   "execution_count": 51,
   "metadata": {
    "collapsed": true
   },
   "outputs": [],
   "source": [
    "tf_ones = tf.get_variable('tf_ones', initializer=ten_ones, trainable=False)\n",
    "tf_ones = tf.cast(tf_ones,tf.float32)\n"
   ]
  },
  {
   "cell_type": "code",
   "execution_count": 52,
   "metadata": {},
   "outputs": [
    {
     "name": "stdout",
     "output_type": "stream",
     "text": [
      "Tensor(\"Cast_1:0\", shape=(53, 63, 46, 144), dtype=float32)\n"
     ]
    }
   ],
   "source": [
    "print tf_ones"
   ]
  },
  {
   "cell_type": "code",
   "execution_count": 53,
   "metadata": {
    "collapsed": true
   },
   "outputs": [],
   "source": [
    "tt_zeros = initializers.tensor_zeros([53, 63, 46, 144])"
   ]
  },
  {
   "cell_type": "code",
   "execution_count": 54,
   "metadata": {
    "collapsed": true
   },
   "outputs": [],
   "source": [
    "denom_tsc_tf = tf.get_variable('denom_tsc_tf', initializer=denom_tsc, trainable=False)\n",
    "denom_tsc_tf = tf.cast(denom_tsc_tf,tf.float32)"
   ]
  },
  {
   "cell_type": "code",
   "execution_count": null,
   "metadata": {
    "collapsed": true
   },
   "outputs": [],
   "source": []
  },
  {
   "cell_type": "code",
   "execution_count": 55,
   "metadata": {
    "collapsed": true
   },
   "outputs": [],
   "source": [
    "#eta_t3f_old = t3f.get_variable('eta_t3f_old', initializer=tt_zeros)\n",
    "#grad_t3f_old = t3f.get_variable('grad_t3f_old', initializer=tt_zeros)"
   ]
  },
  {
   "cell_type": "code",
   "execution_count": 56,
   "metadata": {
    "collapsed": true
   },
   "outputs": [],
   "source": [
    "eta_old = tf.get_variable('eta_old', shape = (53, 63, 46, 144), validate_shape=False)\n",
    "grad_old = tf.get_variable('grad_old', shape = (53, 63, 46, 144), validate_shape=False)"
   ]
  },
  {
   "cell_type": "code",
   "execution_count": 57,
   "metadata": {
    "collapsed": true
   },
   "outputs": [],
   "source": [
    "one = tf.constant(1)\n",
    "zero_point1 = tf.constant(0.1)"
   ]
  },
  {
   "cell_type": "code",
   "execution_count": 58,
   "metadata": {
    "collapsed": true
   },
   "outputs": [],
   "source": [
    "\n",
    "\n",
    "def gradient(x):\n",
    "    return np.multiply(x,mask_indices) - a_omega\n",
    "    \n",
    "def cost_func(x):\n",
    "    return 0.5*(np.linalg.norm(np.multiply(x,mask_indices)-a_omega)** 2)\n",
    "\n",
    "def find_step_size(x,g,d, old_cost):\n",
    "    step_size = optimize.line_search(cost_func,gradient,x,d,gfk=None, old_fval=old_cost)"
   ]
  },
  {
   "cell_type": "code",
   "execution_count": 59,
   "metadata": {
    "collapsed": true
   },
   "outputs": [],
   "source": [
    "# Algorithm\n",
    "#grad_full = (t3f.full(X)*t3f.full(sparse_observation_tf3) - t3f.full(sparse_observation_tf3))\n",
    "#counter_step = tf.assign(counter, counter + 1)\n",
    "\n",
    "#grad_trans = t3f.riemannian.project(grad_t3f_old, X)\n",
    "#eta_trans = t3f.riemannian.project(eta_t3f_old, X)\n",
    "    \n",
    "#grad_full = sparsity_mask * t3f.full(X) - sparse_observation\n",
    "#grad_t3f = t3f.to_tt_tensor(grad_full, max_tt_rank=63)\n",
    "\n",
    "#loss = 0.5 * t3f.frobenius_norm_squared(grad_t3f)\n",
    "#gradnorm_omega = t3f.frobenius_norm(grad_t3f)/(normAOmegavar)\n",
    "\n",
    "#riemannian_grad = t3f.riemannian.project(grad_t3f, X)\n",
    "\n",
    "\n",
    "#eta_omega = sparsity_mask * t3f.full(-riemannian_grad)\n",
    "#alpha = compute_step_size(eta_omega, grad_full)\n",
    "\n",
    "\n",
    "\n",
    "#riemannian_grad_norm = t3f.flat_inner(riemannian_grad, riemannian_grad)\n",
    "\n",
    "\n",
    "\n",
    "#rel_error1 = relative_error1(t3f.full(X), t3f.full(sparse_observation))\n",
    "\n",
    "\n"
   ]
  },
  {
   "cell_type": "code",
   "execution_count": 60,
   "metadata": {
    "collapsed": true
   },
   "outputs": [],
   "source": [
    "eps = 1e-6\n",
    "epsilon_train=1e-4"
   ]
  },
  {
   "cell_type": "code",
   "execution_count": 61,
   "metadata": {
    "collapsed": true
   },
   "outputs": [],
   "source": [
    "#print grad_full"
   ]
  },
  {
   "cell_type": "code",
   "execution_count": 62,
   "metadata": {
    "collapsed": true
   },
   "outputs": [],
   "source": [
    "#print grad_t3f"
   ]
  },
  {
   "cell_type": "code",
   "execution_count": 63,
   "metadata": {},
   "outputs": [
    {
     "name": "stdout",
     "output_type": "stream",
     "text": [
      "1e-06\n"
     ]
    }
   ],
   "source": [
    "print eps"
   ]
  },
  {
   "cell_type": "code",
   "execution_count": 64,
   "metadata": {
    "collapsed": true
   },
   "outputs": [],
   "source": [
    "#alpha = 0.3\n"
   ]
  },
  {
   "cell_type": "code",
   "execution_count": 65,
   "metadata": {
    "collapsed": true
   },
   "outputs": [],
   "source": [
    "#sess = tf.Session()\n",
    "#sess.run(tf.global_variables_initializer())"
   ]
  },
  {
   "cell_type": "code",
   "execution_count": 66,
   "metadata": {
    "collapsed": true
   },
   "outputs": [],
   "source": [
    "def compute_loss(x):\n",
    "    return 0.5*frobenius_norm_tf_squared(sparsity_mask * t3f.full(x) - sparse_observation)"
   ]
  },
  {
   "cell_type": "code",
   "execution_count": 67,
   "metadata": {
    "collapsed": true
   },
   "outputs": [],
   "source": [
    "def reconstruct_tf(x_hat):\n",
    "    x_reconstruct = sparse_observation + (tf_ones - sparsity_mask)*x_hat\n",
    "    return x_reconstruct"
   ]
  },
  {
   "cell_type": "code",
   "execution_count": null,
   "metadata": {
    "collapsed": true
   },
   "outputs": [],
   "source": [
    " "
   ]
  },
  {
   "cell_type": "code",
   "execution_count": 68,
   "metadata": {
    "collapsed": true
   },
   "outputs": [],
   "source": [
    "def tsc_tf(x_hat,x_true_omega, mask):\n",
    "    x_rec = reconstruct_tf(x_hat)\n",
    "    nomin = frobenius_norm_tf((tf_ones - sparsity_mask)*(x_rec - sparse_observation))\n",
    "    #denom = frobenius_norm_tf(tf.multiply(tf_ones - sparsity_mask),(sparse_observation))\n",
    "    score = nomin/denom_tsc_tf\n",
    "    return score  \n"
   ]
  },
  {
   "cell_type": "code",
   "execution_count": null,
   "metadata": {
    "collapsed": true
   },
   "outputs": [],
   "source": []
  },
  {
   "cell_type": "code",
   "execution_count": null,
   "metadata": {
    "collapsed": true
   },
   "outputs": [],
   "source": []
  },
  {
   "cell_type": "code",
   "execution_count": 69,
   "metadata": {
    "collapsed": true
   },
   "outputs": [],
   "source": [
    "#first step"
   ]
  },
  {
   "cell_type": "code",
   "execution_count": 70,
   "metadata": {},
   "outputs": [
    {
     "name": "stdout",
     "output_type": "stream",
     "text": [
      "[1, 53, 1, 1, 1] 0 (1, 53, 53)\n",
      "[1, 53, 63, 1, 1] 1 (53, 63, 63)\n",
      "[1, 53, 63, 63, 1] 2 (63, 46, 63)\n",
      "ranks: [1, 53, 63, 63, 1]\n",
      "Max_TT rank63\n",
      "[1, 53, 63, 63, 1]\n",
      "Max_TT rank63\n",
      "[1, 53, 63, 63, 1]\n"
     ]
    }
   ],
   "source": [
    "zero_point1 = tf.constant(0.1)\n",
    "backtack_const = tf.constant(1e-4)\n",
    "\n",
    "initial_cost = compute_loss(X)\n",
    "cost = tf.get_variable('cost', initializer=initial_cost)\n",
    "cost_new = tf.get_variable('cost_new', initializer=0.0)\n",
    "\n",
    "#tsc_score_curr = tsc_tf(t3f.full(X),ground_truth, sparse_observation)\n",
    "completion_score = tf.get_variable('completion_score', initializer=tsc_score_init, dtype = tf.float32)\n",
    "\n",
    "grad_full_0 = sparsity_mask * t3f.full(X) - sparse_observation\n",
    "grad_t3f_0 = t3f.to_tt_tensor(grad_full_0, max_tt_rank=63)\n",
    "\n",
    "gradnorm_omega_0 = t3f.frobenius_norm(grad_t3f_0)/(normAOmegavar)\n",
    "riemannian_grad_0 = t3f.riemannian.project(grad_t3f_0, X)\n",
    "riemannian_grad_0 = t3f.round(riemannian_grad_0, max_tt_rank =63, epsilon = 1e-15)\n",
    "\n",
    "grad_t3f_old = t3f.get_variable('grad_t3f_old', initializer=riemannian_grad_0)\n",
    "\n",
    "#grad_t3f_old_op = t3f.assign(grad_t3f_old, riemannian_grad_0, validate_shape=False)\n",
    "riemannian_grad_full_0 = t3f.full(riemannian_grad_0)\n",
    "riemannian_grad_init_op = tf.assign(grad_old,riemannian_grad_full_0)\n",
    "\n",
    "eta_t3f_0 = -riemannian_grad_0\n",
    "eta_t3f_old = t3f.get_variable('eta_t3f_old', initializer=eta_t3f_0)\n",
    "\n",
    "eta_0 = -riemannian_grad_init_op\n",
    "eta_omega_0 = sparsity_mask * t3f.full(-riemannian_grad_0)\n",
    "\n",
    "alpha_0 = compute_step_size(eta_omega_0, riemannian_grad_init_op)\n",
    "eta_op_0 = tf.assign(eta_old,eta_0, validate_shape=False)\n",
    "\n",
    "eta_norm = tf.get_variable('eta_norm', initializer=0.0)\n",
    "eta_norm_init_op = tf.assign(eta_norm, frobenius_norm_tf(eta_op_0))\n",
    "\n",
    "alpha_old = tf.get_variable('alpha_old', initializer=0.0)\n",
    "\n",
    "train_step_0 = t3f.assign(X, t3f.round(X - alpha_0 * eta_t3f_0, max_tt_rank=63))\n",
    "\n"
   ]
  },
  {
   "cell_type": "code",
   "execution_count": 71,
   "metadata": {},
   "outputs": [
    {
     "name": "stdout",
     "output_type": "stream",
     "text": [
      "Rim 0:A Tensor Train of shape (53, 63, 46, 144), TT-ranks: (1, 53, 63, 63, 1)\n"
     ]
    }
   ],
   "source": [
    "print \"Rim 0:\" + str(riemannian_grad_0)"
   ]
  },
  {
   "cell_type": "code",
   "execution_count": 72,
   "metadata": {},
   "outputs": [
    {
     "name": "stdout",
     "output_type": "stream",
     "text": [
      "Eta 0: A Tensor Train of shape (53, 63, 46, 144), TT-ranks: (1, 53, 63, 63, 1)\n"
     ]
    }
   ],
   "source": [
    "print \"Eta 0: \" + str(eta_t3f_0)"
   ]
  },
  {
   "cell_type": "code",
   "execution_count": 73,
   "metadata": {
    "collapsed": true
   },
   "outputs": [],
   "source": [
    "#tt = t3f.round(eta_t3f_old, max_tt_rank =63, epsilon = 1e-15"
   ]
  },
  {
   "cell_type": "code",
   "execution_count": null,
   "metadata": {
    "collapsed": true
   },
   "outputs": [],
   "source": []
  },
  {
   "cell_type": "code",
   "execution_count": null,
   "metadata": {
    "collapsed": true
   },
   "outputs": [],
   "source": []
  },
  {
   "cell_type": "code",
   "execution_count": 74,
   "metadata": {
    "collapsed": true
   },
   "outputs": [],
   "source": [
    "# new\n",
    "#t3f.assign(eta_t3f_old, t3f.round(eta_t3f_old, max_tt_rank =63, epsilon = 1e-15))\n"
   ]
  },
  {
   "cell_type": "code",
   "execution_count": 75,
   "metadata": {},
   "outputs": [
    {
     "name": "stdout",
     "output_type": "stream",
     "text": [
      "[1, 53, 1, 1, 1] 0 (1, 53, 53)\n",
      "[1, 53, 63, 1, 1] 1 (53, 63, 63)\n",
      "[1, 53, 63, 63, 1] 2 (63, 46, 63)\n",
      "ranks: [1, 53, 63, 63, 1]\n",
      "Max_TT rank63\n",
      "[1, 53, 63, 63, 1]\n",
      "Rim Grad shape: A Tensor Train of shape (53, 63, 46, 144), TT-ranks: (1, 53, 63, 63, 1)\n",
      "eta_trans: A Tensor Train of shape (53, 63, 46, 144), TT-ranks: (1, 106, 126, 126, 1)\n",
      "steepest descent\n",
      "conjugate gradient\n",
      "Max_TT rank63\n",
      "[1, 53, 63, 63, 1]\n",
      "[1, 53, 1, 1, 1] 0 (1, 53, 53)\n",
      "[1, 53, 63, 1, 1] 1 (53, 63, 63)\n",
      "[1, 53, 63, 63, 1] 2 (63, 46, 63)\n",
      "ranks: [1, 53, 63, 63, 1]\n",
      "eta: A Tensor Train of shape (53, 63, 46, 144), TT-ranks: (1, 53, 63, 63, 1)\n"
     ]
    }
   ],
   "source": [
    "counter_step = tf.assign(counter, counter + 1)\n",
    "\n",
    "grad_trans = t3f.riemannian.project(grad_t3f_old, X)\n",
    "eta_trans = t3f.riemannian.project(eta_t3f_old, X)\n",
    "    \n",
    "grad_full = sparsity_mask * t3f.full(X) - sparse_observation\n",
    "grad_t3f = t3f.to_tt_tensor(grad_full, max_tt_rank=63)\n",
    "\n",
    "\n",
    "loss = 0.5 * t3f.frobenius_norm_squared(grad_t3f)\n",
    "gradnorm_omega = t3f.frobenius_norm(grad_t3f)/(normAOmegavar)\n",
    "\n",
    "riemannian_grad =  t3f.round(t3f.riemannian.project(grad_t3f, X),max_tt_rank =63)\n",
    "#riemannian_grad = t3f.round(riemannian_grad, max_tt_rank =63, epsilon = 1e-15)\n",
    "riemannian_grad_norm = t3f.frobenius_norm(riemannian_grad)\n",
    "\n",
    "inner_product_rim_grad = t3f.flat_inner(riemannian_grad, riemannian_grad)\n",
    "ip_xitrans_xi = t3f.flat_inner(grad_trans,riemannian_grad)\n",
    "theta = ip_xitrans_xi / inner_product_rim_grad\n",
    "\n",
    "def get_theta():\n",
    "    return t3f.full(ip_xitrans_xi / inner_product_rim_grad)\n",
    "\n",
    "def get_value_zero_point1():\n",
    "    return zero_point1\n",
    "    \n",
    "def get_conj_dir():\n",
    "    print \"conjugate gradient\"\n",
    "    tf.Print(zero_point1,[zero_point1],message=\"conjugate gradient\")\n",
    "    return t3f.full(approximate.add_n([-riemannian_grad, beta*eta_trans], max_tt_rank=63))\n",
    "\n",
    "def get_rim_grad():\n",
    "    print \"steepest descent\"\n",
    "    tf.Print(zero_point1,[zero_point1],message=\"steepest descent\")\n",
    "    return t3f.full(-riemannian_grad)\n",
    "\n",
    "# compute beta\n",
    "inner_product_rim_grad_old = t3f.flat_inner(grad_t3f_old, grad_t3f_old)\n",
    "beta = tf.maximum(0.0, (inner_product_rim_grad - ip_xitrans_xi)/inner_product_rim_grad_old)\n",
    "#eta = -riemannian_grad + beta*eta_trans\n",
    "\n",
    "print \"Rim Grad shape: \" + str(riemannian_grad)\n",
    "print \"eta_trans: \" + str(eta_trans)\n",
    "\n",
    "eta_cond = tf.cond((tf.abs(theta) >= zero_point1), get_rim_grad, get_conj_dir)\n",
    "eta_norm_update_op = tf.assign(eta_norm, frobenius_norm_tf(eta_cond))\n",
    "\n",
    "#eta = tf.case([(tf.greater_equal(theta_full,zero_point1), get_rim_grad)], default=get_conj_dir, exclusive=True)\n",
    "#eta = approximate.add_n([-riemannian_grad, beta*eta_trans], max_tt_rank=63)\n",
    "eta = t3f.to_tt_tensor(eta_cond, max_tt_rank=63)\n",
    "\n",
    "inprod_grad_eta = t3f.flat_inner(riemannian_grad,eta)\n",
    "#\n",
    "#eta_full = t3f.full(eta)\n",
    "\n",
    "print \"eta: \" + str(eta)\n",
    "#print \"eta1: \" + str(eta1)\n",
    "                                            \n",
    "#(1, 106, 126, 126, 1)\n",
    "\n",
    "eta_omega = sparsity_mask * t3f.full(eta)\n",
    "alpha = compute_step_size(eta_omega, grad_full)\n",
    "\n",
    "#two = tf.constant(2.0)\n",
    "#alpha1 =tf.maximum(0.0,two*(cost_new - cost)/inprod_grad_eta)"
   ]
  },
  {
   "cell_type": "code",
   "execution_count": null,
   "metadata": {
    "collapsed": true
   },
   "outputs": [],
   "source": []
  },
  {
   "cell_type": "code",
   "execution_count": 76,
   "metadata": {
    "collapsed": true
   },
   "outputs": [],
   "source": [
    "#eta1 = tf.cond((theta > zero_point1), get_rim_grad, get_conj_dir)"
   ]
  },
  {
   "cell_type": "code",
   "execution_count": 77,
   "metadata": {},
   "outputs": [
    {
     "name": "stdout",
     "output_type": "stream",
     "text": [
      "A Tensor Train of shape (53, 63, 46, 144), TT-ranks: (1, 53, 63, 63, 1)\n"
     ]
    }
   ],
   "source": [
    "print eta"
   ]
  },
  {
   "cell_type": "code",
   "execution_count": null,
   "metadata": {
    "collapsed": true
   },
   "outputs": [],
   "source": []
  },
  {
   "cell_type": "code",
   "execution_count": null,
   "metadata": {
    "collapsed": true
   },
   "outputs": [],
   "source": []
  },
  {
   "cell_type": "code",
   "execution_count": null,
   "metadata": {
    "collapsed": true
   },
   "outputs": [],
   "source": []
  },
  {
   "cell_type": "code",
   "execution_count": null,
   "metadata": {
    "collapsed": true
   },
   "outputs": [],
   "source": []
  },
  {
   "cell_type": "code",
   "execution_count": null,
   "metadata": {
    "collapsed": true
   },
   "outputs": [],
   "source": [
    "    "
   ]
  },
  {
   "cell_type": "code",
   "execution_count": null,
   "metadata": {
    "collapsed": true
   },
   "outputs": [],
   "source": []
  },
  {
   "cell_type": "code",
   "execution_count": null,
   "metadata": {
    "collapsed": true
   },
   "outputs": [],
   "source": [
    " "
   ]
  },
  {
   "cell_type": "code",
   "execution_count": null,
   "metadata": {
    "collapsed": true
   },
   "outputs": [],
   "source": []
  },
  {
   "cell_type": "code",
   "execution_count": null,
   "metadata": {
    "collapsed": true
   },
   "outputs": [],
   "source": []
  },
  {
   "cell_type": "code",
   "execution_count": null,
   "metadata": {
    "collapsed": true
   },
   "outputs": [],
   "source": []
  },
  {
   "cell_type": "code",
   "execution_count": null,
   "metadata": {
    "collapsed": true
   },
   "outputs": [],
   "source": []
  },
  {
   "cell_type": "code",
   "execution_count": null,
   "metadata": {
    "collapsed": true
   },
   "outputs": [],
   "source": []
  },
  {
   "cell_type": "code",
   "execution_count": null,
   "metadata": {
    "collapsed": true
   },
   "outputs": [],
   "source": []
  },
  {
   "cell_type": "code",
   "execution_count": null,
   "metadata": {
    "collapsed": true
   },
   "outputs": [],
   "source": []
  },
  {
   "cell_type": "code",
   "execution_count": null,
   "metadata": {
    "collapsed": true
   },
   "outputs": [],
   "source": []
  },
  {
   "cell_type": "code",
   "execution_count": null,
   "metadata": {
    "collapsed": true
   },
   "outputs": [],
   "source": []
  },
  {
   "cell_type": "code",
   "execution_count": 78,
   "metadata": {
    "collapsed": true
   },
   "outputs": [],
   "source": [
    "#cost_old_update = compute_loss(X)\n",
    "#cost_old_op = tf.assign(cost_old,cost_old_update)"
   ]
  },
  {
   "cell_type": "code",
   "execution_count": null,
   "metadata": {
    "collapsed": true
   },
   "outputs": [],
   "source": []
  },
  {
   "cell_type": "code",
   "execution_count": 79,
   "metadata": {},
   "outputs": [
    {
     "name": "stdout",
     "output_type": "stream",
     "text": [
      "Max_TT rank63\n",
      "[1, 53, 63, 63, 1]\n"
     ]
    }
   ],
   "source": [
    "train_new_step = t3f.assign(X_new, t3f.round(X + alpha * eta, max_tt_rank=63))"
   ]
  },
  {
   "cell_type": "code",
   "execution_count": 80,
   "metadata": {
    "collapsed": true
   },
   "outputs": [],
   "source": [
    "updated_cost_new = compute_loss(train_new_step)\n",
    "cost_new_op = tf.assign(cost_new,updated_cost_new)"
   ]
  },
  {
   "cell_type": "code",
   "execution_count": null,
   "metadata": {
    "collapsed": true
   },
   "outputs": [],
   "source": []
  },
  {
   "cell_type": "code",
   "execution_count": 81,
   "metadata": {
    "collapsed": true
   },
   "outputs": [],
   "source": [
    "tsc_score_new = tsc_tf(t3f.full(train_new_step),ground_truth, sparse_observation)\n",
    "tsc_score_op = tf.assign(completion_score,tsc_score_new)"
   ]
  },
  {
   "cell_type": "code",
   "execution_count": 82,
   "metadata": {},
   "outputs": [
    {
     "name": "stdout",
     "output_type": "stream",
     "text": [
      "Max_TT rank63\n",
      "[1, 53, 63, 63, 1]\n"
     ]
    }
   ],
   "source": [
    "train_step = t3f.assign(X, t3f.round(X + alpha * eta, max_tt_rank=63))"
   ]
  },
  {
   "cell_type": "code",
   "execution_count": 83,
   "metadata": {
    "collapsed": true
   },
   "outputs": [],
   "source": [
    "tsc_score_update = tsc_tf(t3f.full(X_new),ground_truth, sparse_observation)\n",
    "tsc_score_update_op = tf.assign(completion_score,tsc_score_update)"
   ]
  },
  {
   "cell_type": "code",
   "execution_count": 84,
   "metadata": {
    "collapsed": true
   },
   "outputs": [],
   "source": [
    "updated_cost = compute_loss(train_step)\n",
    "cost_op = tf.assign(cost,updated_cost)"
   ]
  },
  {
   "cell_type": "code",
   "execution_count": 85,
   "metadata": {
    "collapsed": true
   },
   "outputs": [],
   "source": [
    "eta_update_op = t3f.assign(eta_t3f_old, eta,use_locking = True)"
   ]
  },
  {
   "cell_type": "code",
   "execution_count": 86,
   "metadata": {
    "collapsed": true
   },
   "outputs": [],
   "source": [
    "grad_update_op = t3f.assign(grad_t3f_old, riemannian_grad)"
   ]
  },
  {
   "cell_type": "code",
   "execution_count": 87,
   "metadata": {},
   "outputs": [
    {
     "name": "stdout",
     "output_type": "stream",
     "text": [
      "Tensor(\"div_1:0\", shape=(), dtype=float32)\n"
     ]
    }
   ],
   "source": [
    "print alpha_0"
   ]
  },
  {
   "cell_type": "code",
   "execution_count": 88,
   "metadata": {},
   "outputs": [
    {
     "name": "stdout",
     "output_type": "stream",
     "text": [
      "Tensor(\"div_3:0\", shape=(), dtype=float32)\n"
     ]
    }
   ],
   "source": [
    "print theta"
   ]
  },
  {
   "cell_type": "code",
   "execution_count": 89,
   "metadata": {},
   "outputs": [
    {
     "name": "stdout",
     "output_type": "stream",
     "text": [
      "Tensor(\"Const_7:0\", shape=(), dtype=float32)\n"
     ]
    }
   ],
   "source": [
    "print zero_point1"
   ]
  },
  {
   "cell_type": "code",
   "execution_count": null,
   "metadata": {
    "collapsed": true
   },
   "outputs": [],
   "source": []
  },
  {
   "cell_type": "code",
   "execution_count": null,
   "metadata": {
    "collapsed": true
   },
   "outputs": [],
   "source": []
  },
  {
   "cell_type": "code",
   "execution_count": null,
   "metadata": {
    "collapsed": true
   },
   "outputs": [],
   "source": []
  },
  {
   "cell_type": "code",
   "execution_count": null,
   "metadata": {
    "collapsed": true
   },
   "outputs": [],
   "source": []
  },
  {
   "cell_type": "code",
   "execution_count": null,
   "metadata": {
    "collapsed": true
   },
   "outputs": [],
   "source": []
  },
  {
   "cell_type": "code",
   "execution_count": null,
   "metadata": {
    "collapsed": true
   },
   "outputs": [],
   "source": []
  },
  {
   "cell_type": "code",
   "execution_count": null,
   "metadata": {
    "collapsed": true
   },
   "outputs": [],
   "source": []
  },
  {
   "cell_type": "code",
   "execution_count": null,
   "metadata": {
    "collapsed": true
   },
   "outputs": [],
   "source": []
  },
  {
   "cell_type": "code",
   "execution_count": null,
   "metadata": {
    "collapsed": true
   },
   "outputs": [],
   "source": []
  },
  {
   "cell_type": "code",
   "execution_count": null,
   "metadata": {
    "collapsed": true
   },
   "outputs": [],
   "source": []
  },
  {
   "cell_type": "code",
   "execution_count": null,
   "metadata": {
    "collapsed": true
   },
   "outputs": [],
   "source": []
  },
  {
   "cell_type": "code",
   "execution_count": null,
   "metadata": {
    "collapsed": true
   },
   "outputs": [],
   "source": []
  },
  {
   "cell_type": "code",
   "execution_count": null,
   "metadata": {
    "collapsed": true
   },
   "outputs": [],
   "source": []
  },
  {
   "cell_type": "code",
   "execution_count": null,
   "metadata": {
    "collapsed": true
   },
   "outputs": [],
   "source": []
  },
  {
   "cell_type": "code",
   "execution_count": null,
   "metadata": {
    "collapsed": true
   },
   "outputs": [],
   "source": []
  },
  {
   "cell_type": "code",
   "execution_count": null,
   "metadata": {
    "collapsed": true
   },
   "outputs": [],
   "source": []
  },
  {
   "cell_type": "code",
   "execution_count": null,
   "metadata": {
    "collapsed": true
   },
   "outputs": [],
   "source": []
  },
  {
   "cell_type": "code",
   "execution_count": null,
   "metadata": {
    "collapsed": true
   },
   "outputs": [],
   "source": []
  },
  {
   "cell_type": "code",
   "execution_count": null,
   "metadata": {
    "collapsed": true
   },
   "outputs": [],
   "source": []
  },
  {
   "cell_type": "code",
   "execution_count": 90,
   "metadata": {
    "collapsed": true
   },
   "outputs": [],
   "source": [
    "#t3f.round(-riemannian_grad + beta*eta_trans, max_tt_rank=[eta_trans])"
   ]
  },
  {
   "cell_type": "code",
   "execution_count": null,
   "metadata": {
    "collapsed": true
   },
   "outputs": [],
   "source": []
  },
  {
   "cell_type": "code",
   "execution_count": null,
   "metadata": {
    "collapsed": true
   },
   "outputs": [],
   "source": []
  },
  {
   "cell_type": "code",
   "execution_count": null,
   "metadata": {
    "collapsed": true
   },
   "outputs": [],
   "source": []
  },
  {
   "cell_type": "code",
   "execution_count": null,
   "metadata": {
    "collapsed": true
   },
   "outputs": [],
   "source": []
  },
  {
   "cell_type": "code",
   "execution_count": null,
   "metadata": {
    "collapsed": true
   },
   "outputs": [],
   "source": []
  },
  {
   "cell_type": "code",
   "execution_count": 91,
   "metadata": {
    "collapsed": true
   },
   "outputs": [],
   "source": [
    "#eta_update_op = t3f.assign(eta_t3f_old, eta,validate_shape=False, use_locking = True)"
   ]
  },
  {
   "cell_type": "code",
   "execution_count": 92,
   "metadata": {
    "collapsed": true
   },
   "outputs": [],
   "source": [
    "#grad_update_op = t3f.assign(grad_t3f_old, riemannian_grad)"
   ]
  },
  {
   "cell_type": "code",
   "execution_count": null,
   "metadata": {
    "collapsed": true
   },
   "outputs": [],
   "source": []
  },
  {
   "cell_type": "code",
   "execution_count": null,
   "metadata": {
    "collapsed": true
   },
   "outputs": [],
   "source": []
  },
  {
   "cell_type": "code",
   "execution_count": null,
   "metadata": {
    "collapsed": true
   },
   "outputs": [],
   "source": []
  },
  {
   "cell_type": "code",
   "execution_count": 93,
   "metadata": {
    "collapsed": true
   },
   "outputs": [],
   "source": [
    "tsc_score_history = []"
   ]
  },
  {
   "cell_type": "code",
   "execution_count": 94,
   "metadata": {
    "collapsed": true
   },
   "outputs": [],
   "source": [
    "sess = tf.Session()\n",
    "sess.run(tf.global_variables_initializer())"
   ]
  },
  {
   "cell_type": "code",
   "execution_count": 95,
   "metadata": {},
   "outputs": [
    {
     "name": "stdout",
     "output_type": "stream",
     "text": [
      "0.018040022 1.0 5.305268e-05 0.0 0.0050236275 0.055971414\n"
     ]
    }
   ],
   "source": [
    "log = []\n",
    "train_loss_hist = []\n",
    "#for i in range(1000):\n",
    "gradnorm_val, alpha_val, eta_op_0_val,cost_val, cost_new_val, eta_norm_val, tsc_score_val,_,_ = sess.run([gradnorm_omega_0, alpha_0, eta_op_0, cost, cost_new, eta_norm,completion_score, train_step_0.op, eta_norm_init_op.op])\n",
    "print gradnorm_val, alpha_val,cost_val, cost_new_val, eta_norm_val, tsc_score_val"
   ]
  },
  {
   "cell_type": "code",
   "execution_count": 96,
   "metadata": {},
   "outputs": [
    {
     "name": "stdout",
     "output_type": "stream",
     "text": [
      "A Tensor Train of shape (53, 63, 46, 144), TT-ranks: (1, 106, 126, 126, 1)\n"
     ]
    }
   ],
   "source": [
    "print grad_trans"
   ]
  },
  {
   "cell_type": "code",
   "execution_count": 97,
   "metadata": {
    "collapsed": true
   },
   "outputs": [],
   "source": [
    "tsc_score_0 = tsc_score_val"
   ]
  },
  {
   "cell_type": "code",
   "execution_count": 98,
   "metadata": {},
   "outputs": [
    {
     "name": "stdout",
     "output_type": "stream",
     "text": [
      "tsc_score_0:0.055971414\n"
     ]
    }
   ],
   "source": [
    "print \"tsc_score_0:\" + str(tsc_score_0)"
   ]
  },
  {
   "cell_type": "code",
   "execution_count": 99,
   "metadata": {
    "collapsed": true
   },
   "outputs": [],
   "source": [
    "tsc_score_history.append(tsc_score_0)"
   ]
  },
  {
   "cell_type": "code",
   "execution_count": null,
   "metadata": {
    "collapsed": true
   },
   "outputs": [],
   "source": []
  },
  {
   "cell_type": "code",
   "execution_count": 100,
   "metadata": {
    "collapsed": true
   },
   "outputs": [],
   "source": [
    "#x_k, grad_k, eta_k = sess.run([t3f.full(X),t3f.full(grad_t3f_old), t3f.full(eta_t3f_old)])"
   ]
  },
  {
   "cell_type": "code",
   "execution_count": 101,
   "metadata": {
    "collapsed": true
   },
   "outputs": [],
   "source": [
    "#scipy_step_size = find_step_size(x_k,grad_k,eta_k, cost_old_val)"
   ]
  },
  {
   "cell_type": "code",
   "execution_count": 102,
   "metadata": {
    "collapsed": true
   },
   "outputs": [],
   "source": [
    "#print \"scipy_step_size: \" + str(scipy_step_size)"
   ]
  },
  {
   "cell_type": "code",
   "execution_count": null,
   "metadata": {
    "collapsed": true
   },
   "outputs": [],
   "source": []
  },
  {
   "cell_type": "code",
   "execution_count": 103,
   "metadata": {
    "collapsed": true
   },
   "outputs": [],
   "source": [
    "#sess.run([loss])"
   ]
  },
  {
   "cell_type": "code",
   "execution_count": 104,
   "metadata": {
    "collapsed": true
   },
   "outputs": [],
   "source": [
    "#sess.run([theta])"
   ]
  },
  {
   "cell_type": "code",
   "execution_count": 105,
   "metadata": {
    "collapsed": true
   },
   "outputs": [],
   "source": [
    "#print theta"
   ]
  },
  {
   "cell_type": "code",
   "execution_count": 106,
   "metadata": {
    "collapsed": true
   },
   "outputs": [],
   "source": [
    "#sess.run([eta_trans])"
   ]
  },
  {
   "cell_type": "code",
   "execution_count": 107,
   "metadata": {
    "collapsed": true
   },
   "outputs": [],
   "source": [
    "#sess.run([eta])"
   ]
  },
  {
   "cell_type": "code",
   "execution_count": 108,
   "metadata": {
    "collapsed": true
   },
   "outputs": [],
   "source": [
    "#sess.run([train_step.op])"
   ]
  },
  {
   "cell_type": "code",
   "execution_count": null,
   "metadata": {
    "collapsed": true
   },
   "outputs": [],
   "source": []
  },
  {
   "cell_type": "code",
   "execution_count": null,
   "metadata": {
    "collapsed": true
   },
   "outputs": [],
   "source": []
  },
  {
   "cell_type": "code",
   "execution_count": 109,
   "metadata": {
    "collapsed": true
   },
   "outputs": [],
   "source": [
    "#def backtrack(t, sess):\n",
    "#    t = t * 0.5\n",
    "#    return t3f.assign(X, t3f.round(X - t * eta, max_tt_rank=63))"
   ]
  },
  {
   "cell_type": "code",
   "execution_count": null,
   "metadata": {
    "collapsed": true
   },
   "outputs": [],
   "source": [
    "\n",
    "    "
   ]
  },
  {
   "cell_type": "code",
   "execution_count": null,
   "metadata": {
    "collapsed": true
   },
   "outputs": [],
   "source": []
  },
  {
   "cell_type": "code",
   "execution_count": 110,
   "metadata": {
    "collapsed": true
   },
   "outputs": [],
   "source": [
    "def loss_func(x, y):\n",
    "    return 0.5*(np.linalg.norm(x - y)** 2)\n",
    "    "
   ]
  },
  {
   "cell_type": "code",
   "execution_count": 111,
   "metadata": {
    "collapsed": true
   },
   "outputs": [],
   "source": [
    "def is_nan(x):\n",
    "    return (x is np.nan or x != x)"
   ]
  },
  {
   "cell_type": "code",
   "execution_count": 112,
   "metadata": {
    "collapsed": true
   },
   "outputs": [],
   "source": [
    "backtrack_const = 1e-4 "
   ]
  },
  {
   "cell_type": "code",
   "execution_count": null,
   "metadata": {
    "collapsed": true
   },
   "outputs": [],
   "source": []
  },
  {
   "cell_type": "code",
   "execution_count": 113,
   "metadata": {
    "collapsed": true
   },
   "outputs": [],
   "source": [
    "cost_history = []\n"
   ]
  },
  {
   "cell_type": "code",
   "execution_count": 114,
   "metadata": {
    "collapsed": true
   },
   "outputs": [],
   "source": [
    "#sess.run([loss, gradnorm_omega, alpha, theta, eta_update_op, grad_update_op, train_step.op])"
   ]
  },
  {
   "cell_type": "code",
   "execution_count": 115,
   "metadata": {},
   "outputs": [
    {
     "name": "stdout",
     "output_type": "stream",
     "text": [
      "alpha_val: 1.0420759\n",
      "theta_val: 0.51437956\n",
      "inprod_grad_eta_val: -9.3357245e-05\n",
      "rim_grad_norm: 0.010166429\n",
      "eta_norm_val: 0.009660903\n",
      "Cost New: 4.104731e-05\n",
      "Cost Old: 5.305268e-05\n",
      "TSC Score New: 0.05466478\n",
      "TSC Score Old: 0.055971414\n",
      "armijo: True\n",
      "proposed_initial_alpha: 0.257192039667921\n",
      "updating X: initial cost: 5.305268e-05; New Cost: 4.104731e-05\n",
      "(5.169922e-05, 1, 0.029019032, 1.0420759, 0.51437956, 1.7960571, 5.305268e-05, 4.104731e-05)\n",
      "alpha_val: 3.7527485\n",
      "theta_val: -0.27181298\n",
      "inprod_grad_eta_val: -1.9245933e-06\n",
      "rim_grad_norm: 0.0034531972\n",
      "eta_norm_val: 0.0013871823\n",
      "Cost New: 3.7805614e-05\n",
      "Cost Old: 4.104731e-05\n",
      "TSC Score New: 0.05329831\n",
      "TSC Score Old: 0.05466478\n",
      "armijo: True\n",
      "proposed_initial_alpha: 3.368708968839208\n",
      "updating X: initial cost: 4.104731e-05; New Cost: 3.7805614e-05\n",
      "(5.2204928e-06, 2, 0.012320555, 1.3553348, 3.7527485, -0.27181298, 0.026218837, 4.104731e-05, 3.7805614e-05)\n",
      "alpha_val: 1.4220339\n",
      "theta_val: -0.115950465\n",
      "inprod_grad_eta_val: -3.827667e-06\n",
      "rim_grad_norm: 0.0037185524\n",
      "eta_norm_val: 0.0019562999\n",
      "Cost New: 3.5174442e-05\n",
      "Cost Old: 3.7805614e-05\n",
      "TSC Score New: 0.05286324\n",
      "TSC Score Old: 0.05329831\n",
      "armijo: True\n",
      "proposed_initial_alpha: 1.3748174704225158\n",
      "updating X: initial cost: 3.7805614e-05; New Cost: 3.5174442e-05\n",
      "(6.1372366e-06, 3, 0.012861247, 0.04204043, 1.4220339, -0.115950465, 2.2194238, 3.7805614e-05, 3.5174442e-05)\n",
      "alpha_val: 1.6695927\n",
      "theta_val: -0.5960313\n",
      "inprod_grad_eta_val: -1.378227e-06\n",
      "rim_grad_norm: 0.003373161\n",
      "eta_norm_val: 0.0011739034\n",
      "Cost New: 3.418658e-05\n",
      "Cost Old: 3.5174442e-05\n",
      "TSC Score New: 0.052601393\n",
      "TSC Score Old: 0.05286324\n",
      "armijo: True\n",
      "proposed_initial_alpha: 1.4335234978301186\n",
      "updating X: initial cost: 3.5174442e-05; New Cost: 3.418658e-05\n",
      "(4.975178e-06, 4, 0.012171797, 0.056643214, 1.6695927, -0.5960313, 0.5746829, 3.5174442e-05, 3.418658e-05)\n",
      "alpha_val: 1.5968145\n",
      "theta_val: -0.3545383\n",
      "inprod_grad_eta_val: -1.100706e-06\n",
      "rim_grad_norm: 0.003331771\n",
      "eta_norm_val: 0.0010490762\n",
      "Cost New: 3.343268e-05\n",
      "Cost Old: 3.418658e-05\n",
      "TSC Score New: 0.052456625\n",
      "TSC Score Old: 0.052601393\n",
      "armijo: True\n",
      "proposed_initial_alpha: 1.3698517400282093\n",
      "updating X: initial cost: 3.418658e-05; New Cost: 3.343268e-05\n",
      "(4.8088987e-06, 5, 0.012069923, 0.008440367, 1.5968145, -0.3545383, 1.0817866, 3.418658e-05, 3.343268e-05)\n",
      "alpha_val: 1.4823269\n",
      "theta_val: -0.41372904\n",
      "inprod_grad_eta_val: -9.3944107e-07\n",
      "rim_grad_norm: 0.0033074815\n",
      "eta_norm_val: 0.0009691773\n",
      "Cost New: 3.288233e-05\n",
      "Cost Old: 3.343268e-05\n",
      "TSC Score New: 0.052338205\n",
      "TSC Score Old: 0.052456625\n",
      "armijo: True\n",
      "proposed_initial_alpha: 1.1716536911936246\n",
      "updating X: initial cost: 3.343268e-05; New Cost: 3.288233e-05\n",
      "(4.710013e-06, 6, 0.01200893, 0.005078991, 1.4823269, -0.41372904, 1.2066033, 3.343268e-05, 3.288233e-05)\n",
      "alpha_val: 1.4967228\n",
      "theta_val: -0.4486213\n",
      "inprod_grad_eta_val: -7.00759e-07\n",
      "rim_grad_norm: 0.0032712007\n",
      "eta_norm_val: 0.00083705573\n",
      "Cost New: 3.2472595e-05\n",
      "Cost Old: 3.288233e-05\n",
      "TSC Score New: 0.0522868\n",
      "TSC Score Old: 0.052338205\n",
      "armijo: True\n",
      "proposed_initial_alpha: 1.1694024026671894\n",
      "updating X: initial cost: 3.288233e-05; New Cost: 3.2472595e-05\n",
      "(4.5835786e-06, 7, 0.011930488, 0.006574884, 1.4967228, -0.4486213, 1.0805742, 3.288233e-05, 3.2472595e-05)\n",
      "alpha_val: 1.2964301\n",
      "theta_val: -0.44761932\n",
      "inprod_grad_eta_val: -6.2466444e-07\n",
      "rim_grad_norm: 0.0032595487\n",
      "eta_norm_val: 0.0007903019\n",
      "Cost New: 3.2191176e-05\n",
      "Cost Old: 3.2472595e-05\n",
      "TSC Score New: 0.052260492\n",
      "TSC Score Old: 0.0522868\n",
      "armijo: True\n",
      "proposed_initial_alpha: 0.9010261244367544\n",
      "updating X: initial cost: 3.2472595e-05; New Cost: 3.2191176e-05\n",
      "(4.527993e-06, 8, 0.011895839, 0.0029126927, 1.2964301, -0.44761932, 1.290421, 3.2472595e-05, 3.2191176e-05)\n",
      "alpha_val: 1.3960795\n",
      "theta_val: -0.4572263\n",
      "inprod_grad_eta_val: -4.2021472e-07\n",
      "rim_grad_norm: 0.003228035\n",
      "eta_norm_val: 0.00064819073\n",
      "Cost New: 3.1995267e-05\n",
      "Cost Old: 3.2191176e-05\n",
      "TSC Score New: 0.0522714\n",
      "TSC Score Old: 0.052260492\n",
      "armijo: True\n",
      "proposed_initial_alpha: 0.9324223464187432\n",
      "updating X: initial cost: 3.2191176e-05; New Cost: 3.1995267e-05\n",
      "(4.42309e-06, 9, 0.011830172, 0.005550854, 1.3960795, -0.4572263, 0.98028314, 3.2191176e-05, 3.1995267e-05)\n",
      "alpha_val: 1.1490629\n",
      "theta_val: -0.3961832\n",
      "inprod_grad_eta_val: -4.2929886e-07\n",
      "rim_grad_norm: 0.0032294418\n",
      "eta_norm_val: 0.0006551582\n",
      "Cost New: 3.184856e-05\n",
      "Cost Old: 3.1995267e-05\n",
      "TSC Score New: 0.052283052\n",
      "TSC Score Old: 0.0522714\n",
      "armijo: True\n",
      "proposed_initial_alpha: 0.6834638773550673\n",
      "updating X: initial cost: 3.1995267e-05; New Cost: 3.184856e-05\n",
      "(4.3976756e-06, 10, 0.011814208, 0.0013512375, 1.1490629, -0.3961832, 1.4263672, 3.1995267e-05, 3.184856e-05)\n",
      "alpha_val: 1.2374041\n",
      "theta_val: -0.4318651\n",
      "inprod_grad_eta_val: -2.9754113e-07\n",
      "rim_grad_norm: 0.0032089776\n",
      "eta_norm_val: 0.0005454351\n",
      "Cost New: 3.1746036e-05\n",
      "Cost Old: 3.184856e-05\n",
      "TSC Score New: 0.052310012\n",
      "TSC Score Old: 0.052283052\n",
      "armijo: True\n",
      "proposed_initial_alpha: 0.6891518969035414\n",
      "updating X: initial cost: 3.184856e-05; New Cost: 3.1746036e-05\n",
      "(4.3297464e-06, 11, 0.011771431, 0.0036339317, 1.2374041, -0.4318651, 0.992402, 3.184856e-05, 3.1746036e-05)\n",
      "alpha_val: 1.0641559\n",
      "theta_val: -0.3785459\n",
      "inprod_grad_eta_val: -3.0797807e-07\n",
      "rim_grad_norm: 0.0032106035\n",
      "eta_norm_val: 0.0005549176\n",
      "Cost New: 3.1661206e-05\n",
      "Cost Old: 3.1746036e-05\n",
      "TSC Score New: 0.05233229\n",
      "TSC Score Old: 0.052310012\n",
      "armijo: True\n",
      "proposed_initial_alpha: 0.5508859114720679\n",
      "updating X: initial cost: 3.1746036e-05; New Cost: 3.1661206e-05\n",
      "(4.3109203e-06, 12, 0.011759549, 0.001010397, 1.0641559, -0.3785459, 1.4269053, 3.1746036e-05, 3.1661206e-05)\n",
      "alpha_val: 1.1405269\n",
      "theta_val: -0.421681\n",
      "inprod_grad_eta_val: -2.3861205e-07\n",
      "rim_grad_norm: 0.0031997827\n",
      "eta_norm_val: 0.00048844126\n",
      "Cost New: 3.1592634e-05\n",
      "Cost Old: 3.1661206e-05\n",
      "TSC Score New: 0.052359093\n",
      "TSC Score Old: 0.05233229\n",
      "armijo: True\n",
      "proposed_initial_alpha: 0.574759437145156\n",
      "updating X: initial cost: 3.1661206e-05; New Cost: 3.1592634e-05\n",
      "(4.2712204e-06, 13, 0.011734452, 0.0021387688, 1.1405269, -0.421681, 1.1014756, 3.1661206e-05, 3.1592634e-05)\n",
      "alpha_val: 0.9767498\n",
      "theta_val: -0.39300576\n",
      "inprod_grad_eta_val: -2.507478e-07\n",
      "rim_grad_norm: 0.0032016786\n",
      "eta_norm_val: 0.0005007086\n",
      "Cost New: 3.1536463e-05\n",
      "Cost Old: 3.1592634e-05\n",
      "TSC Score New: 0.052380137\n",
      "TSC Score Old: 0.052359093\n",
      "armijo: True\n",
      "proposed_initial_alpha: 0.44802301050824694\n",
      "updating X: initial cost: 3.1592634e-05; New Cost: 3.1536463e-05\n",
      "(4.2560673e-06, 14, 0.011724859, 0.0008182234, 0.9767498, -0.39300576, 1.4638537, 3.1592634e-05, 3.1536463e-05)\n",
      "alpha_val: 1.0516504\n",
      "theta_val: -0.41358107\n",
      "inprod_grad_eta_val: -1.9719526e-07\n",
      "rim_grad_norm: 0.0031933044\n",
      "eta_norm_val: 0.00044403085\n",
      "Cost New: 3.1490803e-05\n",
      "Cost Old: 3.1536463e-05\n",
      "TSC Score New: 0.05240437\n",
      "TSC Score Old: 0.052380137\n",
      "armijo: True\n",
      "proposed_initial_alpha: 0.4630970476960747\n",
      "updating X: initial cost: 3.1536463e-05; New Cost: 3.1490803e-05\n",
      "(4.2257034e-06, 15, 0.011705613, 0.0016441498, 1.0516504, -0.41358107, 1.1116786, 3.1536463e-05, 3.1490803e-05)\n",
      "alpha_val: 0.8732912\n",
      "theta_val: -0.40078813\n",
      "inprod_grad_eta_val: -2.0135148e-07\n",
      "rim_grad_norm: 0.0031939552\n",
      "eta_norm_val: 0.00044868584\n",
      "Cost New: 3.1457144e-05\n",
      "Cost Old: 3.1490803e-05\n",
      "TSC Score New: 0.052423414\n",
      "TSC Score Old: 0.05240437\n",
      "armijo: True\n",
      "proposed_initial_alpha: 0.3343266154750304\n",
      "updating X: initial cost: 3.1490803e-05; New Cost: 3.1457144e-05\n",
      "(4.212879e-06, 16, 0.011697473, 0.00069585623, 0.8732912, -0.40078813, 1.4303145, 3.1490803e-05, 3.1457144e-05)\n",
      "alpha_val: 0.91299766\n",
      "theta_val: -0.39264125\n",
      "inprod_grad_eta_val: -1.5967626e-07\n",
      "rim_grad_norm: 0.0031874245\n",
      "eta_norm_val: 0.00039956483\n",
      "Cost New: 3.143121e-05\n",
      "Cost Old: 3.1457144e-05\n",
      "TSC Score New: 0.052444734\n",
      "TSC Score Old: 0.052423414\n",
      "armijo: True\n",
      "proposed_initial_alpha: 0.3248466699382301\n",
      "updating X: initial cost: 3.1457144e-05; New Cost: 3.143121e-05\n",
      "(4.185283e-06, 17, 0.011679941, 0.0015010476, 0.91299766, -0.39264125, 1.1043938, 3.1457144e-05, 3.143121e-05)\n",
      "alpha_val: 0.8408731\n",
      "theta_val: -0.37529093\n",
      "inprod_grad_eta_val: -1.6981207e-07\n",
      "rim_grad_norm: 0.003189014\n",
      "eta_norm_val: 0.00041205046\n",
      "Cost New: 3.140728e-05\n",
      "Cost Old: 3.143121e-05\n",
      "TSC Score New: 0.052462418\n",
      "TSC Score Old: 0.052444734\n",
      "armijo: True\n",
      "proposed_initial_alpha: 0.28184833760716593\n",
      "updating X: initial cost: 3.143121e-05; New Cost: 3.140728e-05\n"
     ]
    },
    {
     "name": "stdout",
     "output_type": "stream",
     "text": [
      "(4.1767717e-06, 18, 0.011674528, 0.00046364588, 0.8408731, -0.37529093, 1.4625942, 3.143121e-05, 3.140728e-05)\n",
      "alpha_val: 0.8792037\n",
      "theta_val: -0.41899982\n",
      "inprod_grad_eta_val: -1.5900477e-07\n",
      "rim_grad_norm: 0.003187319\n",
      "eta_norm_val: 0.00039872347\n",
      "Cost New: 3.1382555e-05\n",
      "Cost Old: 3.140728e-05\n",
      "TSC Score New: 0.0524789\n",
      "TSC Score Old: 0.052462418\n",
      "armijo: True\n",
      "proposed_initial_alpha: 0.3109806571938819\n",
      "updating X: initial cost: 3.140728e-05; New Cost: 3.1382555e-05\n",
      "(4.1636786e-06, 19, 0.011666197, 0.00071408704, 0.8792037, -0.41899982, 1.3286899, 3.140728e-05, 3.1382555e-05)\n",
      "alpha_val: 0.78037095\n",
      "theta_val: -0.44782823\n",
      "inprod_grad_eta_val: -1.6203522e-07\n",
      "rim_grad_norm: 0.0031877945\n",
      "eta_norm_val: 0.00040250435\n",
      "Cost New: 3.136241e-05\n",
      "Cost Old: 3.1382555e-05\n",
      "TSC Score New: 0.0524945\n",
      "TSC Score Old: 0.0524789\n",
      "armijo: True\n",
      "proposed_initial_alpha: 0.24863098968051384\n",
      "updating X: initial cost: 3.1382555e-05; New Cost: 3.136241e-05\n",
      "(4.1545427e-06, 20, 0.01166038, 0.0004988723, 0.78037095, -0.44782823, 1.4754223, 3.1382555e-05, 3.136241e-05)\n",
      "alpha_val: 0.7682196\n",
      "theta_val: -0.42608368\n",
      "inprod_grad_eta_val: -1.4487294e-07\n",
      "rim_grad_norm: 0.0031851016\n",
      "eta_norm_val: 0.00038059338\n",
      "Cost New: 3.1346517e-05\n",
      "Cost Old: 3.136241e-05\n",
      "TSC Score New: 0.052507415\n",
      "TSC Score Old: 0.0524945\n",
      "armijo: True\n",
      "proposed_initial_alpha: 0.21942440291736928\n",
      "updating X: initial cost: 3.136241e-05; New Cost: 3.1346517e-05\n",
      "(4.1391445e-06, 21, 0.01165057, 0.0008420663, 0.7682196, -0.42608368, 1.2750353, 3.136241e-05, 3.1346517e-05)\n",
      "alpha_val: 0.72107327\n",
      "theta_val: -0.42901352\n",
      "inprod_grad_eta_val: -1.4201551e-07\n",
      "rim_grad_norm: 0.003184653\n",
      "eta_norm_val: 0.00037682167\n",
      "Cost New: 3.1333075e-05\n",
      "Cost Old: 3.1346517e-05\n",
      "TSC Score New: 0.05252038\n",
      "TSC Score Old: 0.052507415\n",
      "armijo: True\n",
      "proposed_initial_alpha: 0.18930793990825795\n",
      "updating X: initial cost: 3.1346517e-05; New Cost: 3.1333075e-05\n",
      "(4.128042e-06, 22, 0.01164349, 0.0006080578, 0.72107327, -0.42901352, 1.4008299, 3.1346517e-05, 3.1333075e-05)\n",
      "alpha_val: 0.701764\n",
      "theta_val: -0.4348235\n",
      "inprod_grad_eta_val: -1.3356161e-07\n",
      "rim_grad_norm: 0.0031833253\n",
      "eta_norm_val: 0.0003654327\n",
      "Cost New: 3.1321626e-05\n",
      "Cost Old: 3.1333075e-05\n",
      "TSC Score New: 0.05253087\n",
      "TSC Score Old: 0.05252038\n",
      "armijo: True\n",
      "proposed_initial_alpha: 0.17143727184677063\n",
      "updating X: initial cost: 3.1333075e-05; New Cost: 3.1321626e-05\n",
      "(4.1183503e-06, 23, 0.011637308, 0.0005312328, 0.701764, -0.4348235, 1.3494103, 3.1333075e-05, 3.1321626e-05)\n",
      "alpha_val: 0.74751025\n",
      "theta_val: -0.44720206\n",
      "inprod_grad_eta_val: -1.317332e-07\n",
      "rim_grad_norm: 0.0031830382\n",
      "eta_norm_val: 0.00036292276\n",
      "Cost New: 3.1308376e-05\n",
      "Cost Old: 3.1321626e-05\n",
      "TSC Score New: 0.052541606\n",
      "TSC Score Old: 0.05253087\n",
      "armijo: True\n",
      "proposed_initial_alpha: 0.20115686253357642\n",
      "updating X: initial cost: 3.1321626e-05; New Cost: 3.1308376e-05\n",
      "(4.110848e-06, 24, 0.011632519, 0.00041167875, 0.74751025, -0.44720206, 1.4273914, 3.1321626e-05, 3.1308376e-05)\n",
      "alpha_val: 0.67790735\n",
      "theta_val: -0.48377475\n",
      "inprod_grad_eta_val: -1.3539993e-07\n",
      "rim_grad_norm: 0.003183614\n",
      "eta_norm_val: 0.00036793863\n",
      "Cost New: 3.1296986e-05\n",
      "Cost Old: 3.1308376e-05\n",
      "TSC Score New: 0.0525512\n",
      "TSC Score Old: 0.052541606\n",
      "armijo: True\n",
      "proposed_initial_alpha: 0.16824989034861007\n",
      "updating X: initial cost: 3.1308376e-05; New Cost: 3.1296986e-05\n",
      "(4.1031626e-06, 25, 0.011627612, 0.00042202463, 0.67790735, -0.48377475, 1.5250763, 3.1308376e-05, 3.1296986e-05)\n",
      "alpha_val: 0.65189534\n",
      "theta_val: -0.47832996\n",
      "inprod_grad_eta_val: -1.229088e-07\n",
      "rim_grad_norm: 0.0031816517\n",
      "eta_norm_val: 0.0003505544\n",
      "Cost New: 3.12886e-05\n",
      "Cost Old: 3.1296986e-05\n",
      "TSC Score New: 0.05255987\n",
      "TSC Score Old: 0.0525512\n",
      "armijo: True\n",
      "proposed_initial_alpha: 0.1364514348466829\n",
      "updating X: initial cost: 3.1296986e-05; New Cost: 3.12886e-05\n",
      "(4.0979035e-06, 26, 0.011624252, 0.00028898896, 0.65189534, -0.47832996, 1.3419473, 3.1296986e-05, 3.12886e-05)\n",
      "alpha_val: 0.6056874\n",
      "theta_val: -0.44881022\n",
      "inprod_grad_eta_val: -1.224194e-07\n",
      "rim_grad_norm: 0.0031815746\n",
      "eta_norm_val: 0.0003498557\n",
      "Cost New: 3.1281317e-05\n",
      "Cost Old: 3.12886e-05\n",
      "TSC Score New: 0.05256757\n",
      "TSC Score Old: 0.05255987\n",
      "armijo: True\n",
      "proposed_initial_alpha: 0.11898823135274611\n",
      "updating X: initial cost: 3.12886e-05; New Cost: 3.1281317e-05\n",
      "(4.0846894e-06, 27, 0.011615808, 0.00072696636, 0.6056874, -0.44881022, 1.4430412, 3.12886e-05, 3.1281317e-05)\n",
      "alpha_val: 0.62375075\n",
      "theta_val: -0.45999533\n",
      "inprod_grad_eta_val: -1.12887754e-07\n",
      "rim_grad_norm: 0.0031800764\n",
      "eta_norm_val: 0.00033595908\n",
      "Cost New: 3.1274514e-05\n",
      "Cost Old: 3.1281317e-05\n",
      "TSC Score New: 0.052575298\n",
      "TSC Score Old: 0.05256757\n",
      "armijo: True\n",
      "proposed_initial_alpha: 0.12052716282867976\n",
      "updating X: initial cost: 3.1281317e-05; New Cost: 3.1274514e-05\n",
      "(4.081434e-06, 28, 0.011613727, 0.00017922808, 0.62375075, -0.45999533, 1.3463215, 3.1281317e-05, 3.1274514e-05)\n",
      "alpha_val: 0.5674115\n",
      "theta_val: -0.45833218\n",
      "inprod_grad_eta_val: -1.1776509e-07\n",
      "rim_grad_norm: 0.0031808433\n",
      "eta_norm_val: 0.00034314097\n",
      "Cost New: 3.126859e-05\n",
      "Cost Old: 3.1274514e-05\n",
      "TSC Score New: 0.052582033\n",
      "TSC Score Old: 0.052575298\n",
      "armijo: True\n",
      "proposed_initial_alpha: 0.10058378916376247\n",
      "updating X: initial cost: 3.1274514e-05; New Cost: 3.126859e-05\n",
      "(4.070868e-06, 29, 0.011606968, 0.00058228883, 0.5674115, -0.45833218, 1.5213386, 3.1274514e-05, 3.126859e-05)\n",
      "alpha_val: 0.6247625\n",
      "theta_val: -0.45076576\n",
      "inprod_grad_eta_val: -1.0693421e-07\n",
      "rim_grad_norm: 0.0031791402\n",
      "eta_norm_val: 0.0003269802\n",
      "Cost New: 3.1262396e-05\n",
      "Cost Old: 3.126859e-05\n",
      "TSC Score New: 0.052587874\n",
      "TSC Score Old: 0.052582033\n",
      "armijo: True\n",
      "proposed_initial_alpha: 0.11587457304660599\n",
      "updating X: initial cost: 3.126859e-05; New Cost: 3.1262396e-05\n",
      "(4.070104e-06, 30, 0.01160648, 4.2046602e-05, 0.6247625, -0.45076576, 1.31734, 3.126859e-05, 3.1262396e-05)\n",
      "Breaking after 30 iterations. Training Error Diffrence less than train_epsilon\n"
     ]
    }
   ],
   "source": [
    "\n",
    "\n",
    "i = 0\n",
    "cost_nan = False\n",
    "while gradnorm_val > eps:   \n",
    "#for k in range(10):\n",
    "    i = i + 1\n",
    "    #F_v, gradnorm_val, alpha_val,theta_val, beta_val, cost_new_val, cost_val,tsc_score_val, eta_norm_val, inprod_grad_eta_val, riemannian_grad_norm_val,_, _,_,_,_,_ = sess.run([loss, gradnorm_omega, alpha, theta, beta, cost_new, cost, completion_score, eta_norm, inprod_grad_eta, riemannian_grad_norm,eta_norm_update_op.op, cost_new_op.op, train_new_step.op, tsc_score_op.op, eta_update_op.op, grad_update_op.op])\n",
    "    #tsc_score_update_op\n",
    "    #eta_old_val, grad_update_val,_ = sess.run([eta_update_op, grad_update_op])\n",
    "    F_v, gradnorm_val, alpha_val,theta_val, beta_val, cost_new_val, cost_val,tsc_score_val, eta_norm_val, inprod_grad_eta_val, riemannian_grad_norm_val,_, _,_,_,_,_ = sess.run([loss, gradnorm_omega, alpha, theta, beta, cost_new, cost, completion_score, eta_norm, inprod_grad_eta, riemannian_grad_norm,eta_norm_update_op.op, cost_new_op.op, train_new_step.op, tsc_score_update_op.op, eta_update_op.op, grad_update_op.op])\n",
    "    \n",
    "    print \"alpha_val: \" + str(alpha_val)\n",
    "    print \"theta_val: \" + str(theta_val)\n",
    "    print \"inprod_grad_eta_val: \" + str(inprod_grad_eta_val)\n",
    "    print \"rim_grad_norm: \" + str(riemannian_grad_norm_val)\n",
    "    print \"eta_norm_val: \" + str(eta_norm_val)\n",
    "    \n",
    "    lr = alpha_val\n",
    "    cost_prev_value = cost_val\n",
    "    cost_new_value = cost_new_val\n",
    "    cost_0 = cost_val\n",
    "    \n",
    "    print \"Cost New: \" +str(cost_new_value)\n",
    "    print \"Cost Old: \" +str(cost_prev_value)\n",
    "        \n",
    "    tsc_score_old = tsc_score_history[i-1]\n",
    "    \n",
    "    x_reconstr = mt.reconstruct2(sess.run(t3f.full(X_new)),ground_truth_x, mask_indices)\n",
    "    tsc_score_new = tsc(x_reconstr,ground_truth_x, ten_ones, mask_indices).astype('float32')\n",
    "\n",
    "    #tsc_score_new = tsc_score_val\n",
    "    print \"TSC Score New: \" +str(tsc_score_new)\n",
    "    print \"TSC Score Old: \" +str(tsc_score_old)\n",
    "       \n",
    "    backtrackiter = 0\n",
    "\n",
    "    max_iter_count = 10\n",
    "    #armijo = (cost_new_val <= cost_prev_value + backtrack_const*(lr)*inprod_grad_eta_val)\n",
    "    armijo = ((tsc_score_new < tsc_score_old) or (cost_new_val <= cost_prev_value + backtrack_const*(lr)*inprod_grad_eta_val))\n",
    "    print \"armijo: \" + str(armijo)\n",
    "    \n",
    "    proposed_initial_alpha = 2*(cost_new_value - cost_prev_value)/inprod_grad_eta_val\n",
    "    print \"proposed_initial_alpha: \" + str(proposed_initial_alpha)\n",
    "    \n",
    "    #diff_train = np.abs(train_loss_hist[i - 1] - train_loss_hist[i-2])\n",
    "    \n",
    "    #while (cost_prev - cost_new) <= -backtrack_const*(-lr)*inprod_grad_eta_val:\n",
    "    #while (not (cost_new <= cost_prev + backtrack_const*(lr)*inprod_grad_eta_val)):\n",
    "    while ((cost_new_value > cost_prev_value + backtrack_const*(lr)*inprod_grad_eta_val)):\n",
    "    #while ((tsc_score_new > tsc_score_old) or (cost_new_value > cost_prev_value + backtrack_const*(lr)*inprod_grad_eta_val)):\n",
    "        \n",
    "        print \"Backtracking\"\n",
    "        lr = 0.5*lr\n",
    "        print \"Learning Rate: \" + str(lr)\n",
    "        sess.run(t3f.assign(X_new, t3f.round(X + lr * eta_t3f_old, max_tt_rank=63)).op)\n",
    "        x_new_val = sess.run(t3f.full(X_new))\n",
    "        x_new_val[mask_indices==0] = 0.0\n",
    "        \n",
    "               \n",
    "        print \"proposed_initial_alpha: \" + str(proposed_initial_alpha)\n",
    "        proposed_step_size = proposed_initial_alpha /inprod_grad_eta_val\n",
    "        print \"proposed_step_size: \" + str(proposed_step_size)\n",
    "        proposed_initial_alpha = 0.5* proposed_step_size\n",
    "        \n",
    "        cost_new_value = loss_func(x_new_val, a_omega)\n",
    "        sess.run(tf.assign(cost_new,cost_new_value).op)\n",
    "        \n",
    "        tsc_score_new,_ = sess.run([completion_score, tsc_score_update_op.op])\n",
    "        print \"TSC Score New: \" +str(tsc_score_new)\n",
    "        print \"TSC Score Old: \" +str(tsc_score_old)\n",
    "        \n",
    "        if is_nan(cost_new):\n",
    "            cost_nan = True\n",
    "            break\n",
    "        \n",
    "        print \"Cost New: \" +str(cost_new_value)\n",
    "        print \"Cost Old: \" +str(cost_prev_value)\n",
    "        backtrackiter = backtrackiter + 1\n",
    "        print \"backtrackiter_count: \" + str(backtrackiter)\n",
    "    \n",
    "        if cost_nan:\n",
    "            print \"Cost is Nan. Breaking after \" + str(i) + \"; iterations\"\n",
    "            break\n",
    "        \n",
    "        if backtrackiter>= max_iter_count:\n",
    "           print \"Breaking after \" + str(i) + \"; iterations\"\n",
    "           break\n",
    "    \n",
    "    \n",
    "    if (cost_new_value < cost_prev_value):\n",
    "    #if (cost_new_value < cost_prev_value or (tsc_score_new <= tsc_score_old)):\n",
    "        # update x\n",
    "        print \"updating X: initial cost: \" + str(cost_prev_value) + \"; New Cost: \" +  str(cost_new_value)\n",
    "        sess.run([t3f.assign(X, X_new).op, tf.assign(cost,cost_new_value).op])\n",
    "        tsc_score_history.append(tsc_score_new)\n",
    "    else:\n",
    "        print \"Reject Step: not updating X: initial cost: \" + str(cost_prev_value) + \"; New Cost: \" +  str(cost_new_value)\n",
    "        tsc_score_history.append(tsc_score_old)\n",
    "        \n",
    "    train_loss_hist.append(gradnorm_val)\n",
    "    cost_history.append(cost_new_value)\n",
    "    \n",
    "    if i > 1:\n",
    "        diff_train = np.abs(train_loss_hist[i - 1] - train_loss_hist[i-2])/np.abs(train_loss_hist[i-1])\n",
    "        print (F_v, i, gradnorm_val, diff_train, alpha_val, theta_val, beta_val, cost_val, cost_new_val)\n",
    "        if diff_train <= epsilon_train:\n",
    "            print \"Breaking after \" + str(i) + \" iterations. Training Error Diffrence less than train_epsilon\"\n",
    "            break\n",
    "    else:\n",
    "        print (F_v, i, gradnorm_val, alpha_val, theta_val, beta_val, cost_val, cost_new_val)\n",
    "    log.append(F_v)"
   ]
  },
  {
   "cell_type": "code",
   "execution_count": 116,
   "metadata": {},
   "outputs": [
    {
     "name": "stdout",
     "output_type": "stream",
     "text": [
      "TSC Score Old: 0.052582033\n"
     ]
    }
   ],
   "source": [
    "print \"TSC Score Old: \" +str(tsc_score_old)"
   ]
  },
  {
   "cell_type": "code",
   "execution_count": null,
   "metadata": {
    "collapsed": true
   },
   "outputs": [],
   "source": []
  },
  {
   "cell_type": "code",
   "execution_count": 117,
   "metadata": {},
   "outputs": [
    {
     "name": "stdout",
     "output_type": "stream",
     "text": [
      "Tensor(\"Maximum:0\", shape=(), dtype=float32)\n"
     ]
    }
   ],
   "source": [
    "print beta"
   ]
  },
  {
   "cell_type": "code",
   "execution_count": 118,
   "metadata": {
    "collapsed": true
   },
   "outputs": [],
   "source": [
    "#sess.run([eta_update_op.op, grad_update_op.op])"
   ]
  },
  {
   "cell_type": "code",
   "execution_count": 119,
   "metadata": {},
   "outputs": [
    {
     "name": "stdout",
     "output_type": "stream",
     "text": [
      "A Tensor Train variable of shape (53, 63, 46, 144), TT-ranks: (1, 53, 63, 63, 1)\n"
     ]
    }
   ],
   "source": [
    "print X"
   ]
  },
  {
   "cell_type": "code",
   "execution_count": 120,
   "metadata": {
    "collapsed": true
   },
   "outputs": [],
   "source": [
    "estimated_val = sess.run(t3f.full(X))"
   ]
  },
  {
   "cell_type": "code",
   "execution_count": 121,
   "metadata": {
    "collapsed": true
   },
   "outputs": [],
   "source": [
    "ground_truth_val = sess.run(ground_truth)\n"
   ]
  },
  {
   "cell_type": "code",
   "execution_count": 122,
   "metadata": {
    "collapsed": true
   },
   "outputs": [],
   "source": [
    "x_reconstr = mt.reconstruct(estimated_val,ground_truth_val, ten_ones, mask_indices)\n"
   ]
  },
  {
   "cell_type": "code",
   "execution_count": 123,
   "metadata": {
    "collapsed": true
   },
   "outputs": [],
   "source": [
    "def relative_error(x_hat,x_true):\n",
    "    percent_error = np.linalg.norm(x_hat - x_true) / np.linalg.norm(x_true)\n",
    "    return percent_error"
   ]
  },
  {
   "cell_type": "code",
   "execution_count": 124,
   "metadata": {
    "collapsed": true
   },
   "outputs": [],
   "source": [
    "rel_error = relative_error(estimated_val,ground_truth_val)"
   ]
  },
  {
   "cell_type": "code",
   "execution_count": 125,
   "metadata": {},
   "outputs": [
    {
     "name": "stdout",
     "output_type": "stream",
     "text": [
      "0.049546804\n"
     ]
    }
   ],
   "source": [
    "print rel_error"
   ]
  },
  {
   "cell_type": "code",
   "execution_count": 126,
   "metadata": {
    "collapsed": true
   },
   "outputs": [],
   "source": [
    "rel_error_rec = relative_error(x_reconstr,ground_truth_val)"
   ]
  },
  {
   "cell_type": "code",
   "execution_count": 127,
   "metadata": {},
   "outputs": [
    {
     "data": {
      "text/plain": [
       "0.048925790549504515"
      ]
     },
     "execution_count": 127,
     "metadata": {},
     "output_type": "execute_result"
    }
   ],
   "source": [
    "rel_error_rec"
   ]
  },
  {
   "cell_type": "code",
   "execution_count": 128,
   "metadata": {
    "collapsed": true
   },
   "outputs": [],
   "source": [
    "x_miss_img = mt.reconstruct_image_affine(x_true_org, x_train)"
   ]
  },
  {
   "cell_type": "code",
   "execution_count": 129,
   "metadata": {
    "collapsed": true
   },
   "outputs": [],
   "source": [
    "x_miss = image.index_img(x_miss_img,1)"
   ]
  },
  {
   "cell_type": "code",
   "execution_count": 130,
   "metadata": {},
   "outputs": [
    {
     "data": {
      "image/png": "[encoded data removed]",
      "text/plain": [
       "<matplotlib.figure.Figure at 0x1e41ab590>"
      ]
     },
     "metadata": {},
     "output_type": "display_data"
    }
   ],
   "source": [
    "x_miss_image = plotting.plot_epi(x_miss, bg_img=None,black_bg=True, cmap='jet', cut_coords=[1, -13, 32]) "
   ]
  },
  {
   "cell_type": "code",
   "execution_count": 131,
   "metadata": {},
   "outputs": [
    {
     "data": {
      "image/png": "[encoded data removed]",
      "text/plain": [
       "<matplotlib.figure.Figure at 0x1df2fe690>"
      ]
     },
     "metadata": {},
     "output_type": "display_data"
    }
   ],
   "source": [
    "x_hat_img = mt.reconstruct_image_affine(x_true_org, x_reconstr)\n",
    "x_hat = image.index_img(x_hat_img,1)\n",
    "recovered_image = plotting.plot_epi(x_hat, bg_img=None,black_bg=True, cmap='jet', cut_coords=None)"
   ]
  },
  {
   "cell_type": "code",
   "execution_count": 132,
   "metadata": {},
   "outputs": [
    {
     "data": {
      "image/png": "[encoded data removed]",
      "text/plain": [
       "<matplotlib.figure.Figure at 0x183eaf790>"
      ]
     },
     "metadata": {},
     "output_type": "display_data"
    }
   ],
   "source": [
    "x_org = mt.reconstruct_image_affine(x_true_org, x_true_img)\n",
    "x_org_img = image.index_img(x_org,1)\n",
    "#x_true_org_img = image.index_img(x_true_org,1)\n",
    "org_image = plotting.plot_epi(x_org_img, bg_img=None,black_bg=True, cmap='jet', cut_coords=None)"
   ]
  },
  {
   "cell_type": "code",
   "execution_count": 133,
   "metadata": {
    "collapsed": true
   },
   "outputs": [],
   "source": [
    "#x_true_org_img = image.index_img(x_true_org,1)\n",
    "#org_image = plotting.plot_epi(x_true_org_img, bg_img=None,black_bg=True, cmap='jet', cut_coords=None)"
   ]
  },
  {
   "cell_type": "code",
   "execution_count": 134,
   "metadata": {},
   "outputs": [
    {
     "name": "stdout",
     "output_type": "stream",
     "text": [
      "('Saving figure', '/work/scratch/tt3/1/missing_ratio_95.00.png')\n",
      "Called from mrd\n"
     ]
    }
   ],
   "source": [
    "images_folder = \"/work/scratch/tt3/1\"\n",
    "mrd.draw_original_vs_reconstructed_rim(image.index_img(x_true_org,1),x_hat, image.index_img(x_miss_img,1), \"4D fMRI Tensor Completion\",\n",
    "                                             rel_error_rec, observed_ratio, coord=None, folder=images_folder)"
   ]
  },
  {
   "cell_type": "code",
   "execution_count": 135,
   "metadata": {
    "collapsed": true
   },
   "outputs": [],
   "source": [
    "estimated_val_img = mt.reconstruct_image_affine(x_true_org, estimated_val)"
   ]
  },
  {
   "cell_type": "code",
   "execution_count": 136,
   "metadata": {
    "collapsed": true
   },
   "outputs": [],
   "source": [
    "estimated_val_hat = image.index_img(estimated_val_img,1)"
   ]
  },
  {
   "cell_type": "code",
   "execution_count": 137,
   "metadata": {},
   "outputs": [
    {
     "name": "stdout",
     "output_type": "stream",
     "text": [
      "('Saving figure', '/work/scratch/tt3/2/missing_ratio_95.00.png')\n",
      "Called from mrd\n"
     ]
    }
   ],
   "source": [
    "images_folder = \"/work/scratch/tt3/2\"\n",
    "mrd.draw_original_vs_reconstructed_rim(image.index_img(x_true_org,1),estimated_val_hat,image.index_img(x_miss_img,1), \"4D fMRI Tensor Completion\",\n",
    "                                             rel_error_rec, observed_ratio, coord=None, folder=images_folder)"
   ]
  },
  {
   "cell_type": "code",
   "execution_count": null,
   "metadata": {
    "collapsed": true
   },
   "outputs": [],
   "source": []
  },
  {
   "cell_type": "code",
   "execution_count": 138,
   "metadata": {
    "collapsed": true
   },
   "outputs": [],
   "source": [
    "tsc_score1 = tsc(x_reconstr,ground_truth_val, ten_ones, mask_indices)"
   ]
  },
  {
   "cell_type": "code",
   "execution_count": 139,
   "metadata": {},
   "outputs": [
    {
     "data": {
      "text/plain": [
       "0.052587874485170515"
      ]
     },
     "execution_count": 139,
     "metadata": {},
     "output_type": "execute_result"
    }
   ],
   "source": [
    "tsc_score1"
   ]
  },
  {
   "cell_type": "code",
   "execution_count": 140,
   "metadata": {
    "collapsed": true
   },
   "outputs": [],
   "source": [
    "tsc_score = tsc(estimated_val,ground_truth_val, ten_ones, mask_indices)"
   ]
  },
  {
   "cell_type": "code",
   "execution_count": 141,
   "metadata": {},
   "outputs": [
    {
     "data": {
      "text/plain": [
       "0.052587874485294304"
      ]
     },
     "execution_count": 141,
     "metadata": {},
     "output_type": "execute_result"
    }
   ],
   "source": [
    "tsc_score"
   ]
  },
  {
   "cell_type": "code",
   "execution_count": 142,
   "metadata": {},
   "outputs": [
    {
     "data": {
      "text/plain": [
       "<nibabel.nifti1.Nifti1Image at 0x1e41ab690>"
      ]
     },
     "execution_count": 142,
     "metadata": {},
     "output_type": "execute_result"
    }
   ],
   "source": [
    "x_miss"
   ]
  },
  {
   "cell_type": "code",
   "execution_count": 143,
   "metadata": {},
   "outputs": [
    {
     "name": "stdout",
     "output_type": "stream",
     "text": [
      "<class 'nibabel.nifti1.Nifti1Image'>\n",
      "data shape (53, 63, 46)\n",
      "affine: \n",
      "[[  -3.    0.    0.   78.]\n",
      " [   0.    3.    0. -111.]\n",
      " [   0.    0.    3.  -51.]\n",
      " [   0.    0.    0.    1.]]\n",
      "metadata:\n",
      "<class 'nibabel.nifti1.Nifti1Header'> object, endian='<'\n",
      "sizeof_hdr      : 348\n",
      "data_type       : \n",
      "db_name         : \n",
      "extents         : 0\n",
      "session_error   : 0\n",
      "regular         : \n",
      "dim_info        : 0\n",
      "dim             : [ 3 53 63 46  1  1  1  1]\n",
      "intent_p1       : 0.0\n",
      "intent_p2       : 0.0\n",
      "intent_p3       : 0.0\n",
      "intent_code     : none\n",
      "datatype        : float32\n",
      "bitpix          : 32\n",
      "slice_start     : 0\n",
      "pixdim          : [-1.  3.  3.  3.  1.  1.  1.  1.]\n",
      "vox_offset      : 0.0\n",
      "scl_slope       : nan\n",
      "scl_inter       : nan\n",
      "slice_end       : 0\n",
      "slice_code      : unknown\n",
      "xyzt_units      : 0\n",
      "cal_max         : 0.00044231507\n",
      "cal_min         : 0.0\n",
      "slice_duration  : 0.0\n",
      "toffset         : 0.0\n",
      "glmax           : 0\n",
      "glmin           : 0\n",
      "descrip         : \n",
      "aux_file        : \n",
      "qform_code      : unknown\n",
      "sform_code      : aligned\n",
      "quatern_b       : 0.0\n",
      "quatern_c       : 1.0\n",
      "quatern_d       : 0.0\n",
      "qoffset_x       : 78.0\n",
      "qoffset_y       : -111.0\n",
      "qoffset_z       : -51.0\n",
      "srow_x          : [-3.  0.  0. 78.]\n",
      "srow_y          : [   0.    3.    0. -111.]\n",
      "srow_z          : [  0.   0.   3. -51.]\n",
      "intent_name     : \n",
      "magic           : n+1\n"
     ]
    }
   ],
   "source": [
    "print x_miss"
   ]
  },
  {
   "cell_type": "code",
   "execution_count": 144,
   "metadata": {},
   "outputs": [
    {
     "name": "stdout",
     "output_type": "stream",
     "text": [
      "4.104731e-05\n",
      "3.7805614e-05\n",
      "3.5174442e-05\n",
      "3.418658e-05\n",
      "3.343268e-05\n",
      "3.288233e-05\n",
      "3.2472595e-05\n",
      "3.2191176e-05\n",
      "3.1995267e-05\n",
      "3.184856e-05\n",
      "3.1746036e-05\n",
      "3.1661206e-05\n",
      "3.1592634e-05\n",
      "3.1536463e-05\n",
      "3.1490803e-05\n",
      "3.1457144e-05\n",
      "3.143121e-05\n",
      "3.140728e-05\n",
      "3.1382555e-05\n",
      "3.136241e-05\n",
      "3.1346517e-05\n",
      "3.1333075e-05\n",
      "3.1321626e-05\n",
      "3.1308376e-05\n",
      "3.1296986e-05\n",
      "3.12886e-05\n",
      "3.1281317e-05\n",
      "3.1274514e-05\n",
      "3.126859e-05\n",
      "3.1262396e-05\n",
      "('Saving dataset', '/work/rs1/solution_cost.csv')\n",
      "('Saving dataset', '/work/rs1/tsc_cost.csv')\n"
     ]
    }
   ],
   "source": [
    "output_cost = OrderedDict()\n",
    "indices = []\n",
    "\n",
    "cost_arr = []\n",
    "tsc_arr = []\n",
    "\n",
    "counter = 0\n",
    "for item in cost_history:\n",
    "    print item\n",
    "    cost_arr.append(item)\n",
    "    indices.append(counter)\n",
    "    counter = counter + 1\n",
    "    \n",
    "output_cost['k'] = indices\n",
    "output_cost['cost'] = cost_arr\n",
    "    \n",
    "output_df = pd.DataFrame(output_cost, index=indices)\n",
    "\n",
    "folder = '/work/rs1/'\n",
    "fig_id = 'solution_cost'    \n",
    "mrd.save_csv_by_path(output_df,folder,fig_id)  \n",
    "\n",
    "tsc_score_output = OrderedDict()\n",
    "tsc_score_indices = []\n",
    "\n",
    "counter = 0\n",
    "for item in tsc_score_history:\n",
    "    tsc_arr.append(item)\n",
    "    tsc_score_indices.append(counter)\n",
    "    counter = counter + 1\n",
    "\n",
    "tsc_score_output['k'] = tsc_score_indices\n",
    "tsc_score_output['tsc_cost'] = tsc_arr\n",
    "    \n",
    "output_tsc_df = pd.DataFrame(tsc_score_output, index=tsc_score_indices)\n",
    "fig_id = 'tsc_cost' \n",
    "mrd.save_csv_by_path(output_tsc_df,folder,fig_id)  "
   ]
  },
  {
   "cell_type": "code",
   "execution_count": 145,
   "metadata": {},
   "outputs": [
    {
     "data": {
      "text/plain": [
       "3.7805614e-05"
      ]
     },
     "execution_count": 145,
     "metadata": {},
     "output_type": "execute_result"
    }
   ],
   "source": [
    "cost_history[1]"
   ]
  },
  {
   "cell_type": "code",
   "execution_count": 146,
   "metadata": {},
   "outputs": [
    {
     "name": "stdout",
     "output_type": "stream",
     "text": [
      "Missing Ratio: 0.95\n",
      "x_true_path:/work/rs1/x_true_img_95\n"
     ]
    }
   ],
   "source": [
    "import nibabel as nib\n",
    "import os\n",
    "\n",
    "suffix = int(round((missing_ratio)*100.0, 0))\n",
    "print \"Missing Ratio: \" + str(missing_ratio)\n",
    "x_true_path = os.path.join(folder,\"x_true_img_\" + str(suffix))\n",
    "x_hat_path = os.path.join(folder,\"x_hat_img_\" + str(suffix))\n",
    "x_miss_path = os.path.join(folder,\"x_miss_img_\" + str(suffix))\n",
    "        \n",
    "print(\"x_true_path:\" + str(x_true_path))\n",
    "nib.save(x_hat_img, x_hat_path)"
   ]
  },
  {
   "cell_type": "code",
   "execution_count": null,
   "metadata": {
    "collapsed": true
   },
   "outputs": [],
   "source": []
  },
  {
   "cell_type": "code",
   "execution_count": 147,
   "metadata": {
    "collapsed": true
   },
   "outputs": [],
   "source": [
    "std_img = math_img(\"np.std(img)\", img=x_true_org)\n",
    "mean_img = image.mean_img(x_true_org)\n",
    "z_scored_image = math_img(\"(yt - np.mean(yt))/np.std(yt)\", yt=x_true_org)"
   ]
  },
  {
   "cell_type": "code",
   "execution_count": 148,
   "metadata": {
    "collapsed": true
   },
   "outputs": [],
   "source": [
    "ground_truth_z_score = stats.zscore(z_scored_image.get_data())\n",
    "mask_z_score_indices = (abs(ground_truth_z_score) > 2).astype('int') "
   ]
  },
  {
   "cell_type": "code",
   "execution_count": 149,
   "metadata": {
    "collapsed": true
   },
   "outputs": [],
   "source": [
    "mask_z_indices_count = np.count_nonzero(mask_z_score_indices==1)\n",
    "#x_train[mask_indices==0] = 0.0"
   ]
  },
  {
   "cell_type": "code",
   "execution_count": 150,
   "metadata": {},
   "outputs": [
    {
     "data": {
      "text/plain": [
       "687217"
      ]
     },
     "execution_count": 150,
     "metadata": {},
     "output_type": "execute_result"
    }
   ],
   "source": [
    "mask_z_indices_count"
   ]
  },
  {
   "cell_type": "code",
   "execution_count": 151,
   "metadata": {
    "collapsed": true
   },
   "outputs": [],
   "source": [
    "def tsc_z_score(x_hat,x_true, ten_ones, mask, z_score_mask):\n",
    "    x_true_ind = np.multiply(x_true, z_score_mask)\n",
    "    x_hat_ind = np.multiply(x_hat, z_score_mask)\n",
    "    nomin = np.linalg.norm(np.multiply((ten_ones - mask), (x_true_ind -  x_hat_ind)))\n",
    "    denom = np.linalg.norm(np.multiply((ten_ones - mask), x_true_ind))\n",
    "    score = nomin/denom\n",
    "    return score "
   ]
  },
  {
   "cell_type": "code",
   "execution_count": 152,
   "metadata": {},
   "outputs": [
    {
     "data": {
      "text/plain": [
       "687217"
      ]
     },
     "execution_count": 152,
     "metadata": {},
     "output_type": "execute_result"
    }
   ],
   "source": [
    "mask_z_indices_count"
   ]
  },
  {
   "cell_type": "code",
   "execution_count": 153,
   "metadata": {},
   "outputs": [
    {
     "data": {
      "text/plain": [
       "(53, 63, 46, 144)"
      ]
     },
     "execution_count": 153,
     "metadata": {},
     "output_type": "execute_result"
    }
   ],
   "source": [
    "mask_z_score_indices.shape"
   ]
  },
  {
   "cell_type": "code",
   "execution_count": 154,
   "metadata": {
    "collapsed": true
   },
   "outputs": [],
   "source": [
    "z_scored_tsc = tsc_z_score(x_reconstr,ground_truth_val, ten_ones, mask_indices, mask_z_score_indices)"
   ]
  },
  {
   "cell_type": "code",
   "execution_count": 155,
   "metadata": {},
   "outputs": [
    {
     "data": {
      "text/plain": [
       "0.016971242026449607"
      ]
     },
     "execution_count": 155,
     "metadata": {},
     "output_type": "execute_result"
    }
   ],
   "source": [
    "z_scored_tsc"
   ]
  },
  {
   "cell_type": "code",
   "execution_count": 156,
   "metadata": {},
   "outputs": [
    {
     "data": {
      "text/plain": [
       "31"
      ]
     },
     "execution_count": 156,
     "metadata": {},
     "output_type": "execute_result"
    }
   ],
   "source": [
    "len(tsc_score_history)"
   ]
  },
  {
   "cell_type": "code",
   "execution_count": 157,
   "metadata": {},
   "outputs": [
    {
     "data": {
      "text/plain": [
       "0.052587874"
      ]
     },
     "execution_count": 157,
     "metadata": {},
     "output_type": "execute_result"
    }
   ],
   "source": [
    "tsc_score_history[len(tsc_score_history) -1]"
   ]
  },
  {
   "cell_type": "code",
   "execution_count": null,
   "metadata": {
    "collapsed": true
   },
   "outputs": [],
   "source": []
  }
 ],
 "metadata": {
  "kernelspec": {
   "display_name": "Python 2",
   "language": "python",
   "name": "python2"
  },
  "language_info": {
   "codemirror_mode": {
    "name": "ipython",
    "version": 3
   },
   "file_extension": ".py",
   "mimetype": "text/x-python",
   "name": "python",
   "nbconvert_exporter": "python",
   "pygments_lexer": "ipython3",
   "version": "3.7.0"
  }
 },
 "nbformat": 4,
 "nbformat_minor": 2
}
