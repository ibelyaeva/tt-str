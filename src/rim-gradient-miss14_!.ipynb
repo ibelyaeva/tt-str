{
 "cells": [
  {
   "cell_type": "code",
   "execution_count": 1,
   "metadata": {},
   "outputs": [
    {
     "name": "stderr",
     "output_type": "stream",
     "text": [
      "/usr/local/lib/python2.7/site-packages/matplotlib/__init__.py:1405: UserWarning: \n",
      "This call to matplotlib.use() has no effect because the backend has already\n",
      "been chosen; matplotlib.use() must be called *before* pylab, matplotlib.pyplot,\n",
      "or matplotlib.backends is imported for the first time.\n",
      "\n",
      "  warnings.warn(_use_error_msg)\n"
     ]
    }
   ],
   "source": [
    "import tensorflow as tf\n",
    "import numpy as np\n",
    "import t3f\n",
    "tf.set_random_seed(0)\n",
    "np.random.seed(0)\n",
    "%matplotlib inline\n",
    "import matplotlib.pyplot as plt\n",
    "import metric_util as mt\n",
    "import data_util as du\n",
    "from t3f import shapes\n",
    "from nilearn import image\n",
    "from skimage.measure import compare_ssim as ssim\n",
    "from tensorflow.python.util import nest\n",
    "import copy\n",
    "from nilearn import plotting\n",
    "from t3f import ops\n",
    "import mri_draw_utils as mrd\n",
    "from t3f import initializers\n",
    "from t3f import approximate\n",
    "from scipy import optimize "
   ]
  },
  {
   "cell_type": "code",
   "execution_count": 2,
   "metadata": {
    "collapsed": true
   },
   "outputs": [],
   "source": [
    "#sess = tf.InteractiveSession()"
   ]
  },
  {
   "cell_type": "code",
   "execution_count": 3,
   "metadata": {
    "collapsed": true
   },
   "outputs": [],
   "source": [
    "def frobenius_norm_tf_squared(x):\n",
    "    return tf.reduce_sum(x ** 2)"
   ]
  },
  {
   "cell_type": "code",
   "execution_count": 4,
   "metadata": {
    "collapsed": true
   },
   "outputs": [],
   "source": [
    "def frobenius_norm_tf(x):\n",
    "    return tf.reduce_sum(x ** 2) ** 0.5"
   ]
  },
  {
   "cell_type": "code",
   "execution_count": 5,
   "metadata": {
    "collapsed": true
   },
   "outputs": [],
   "source": [
    "def relative_error1(x_hat,x_true):\n",
    "    percent_error = frobenius_norm_tf(x_hat - x_true) / frobenius_norm_tf(x_true)\n",
    "    return percent_error"
   ]
  },
  {
   "cell_type": "code",
   "execution_count": 6,
   "metadata": {
    "collapsed": true
   },
   "outputs": [],
   "source": [
    "def innerProduct(x, y):\n",
    "    result = tf.reduce_sum(tf.multiply(x, y))\n",
    "    return result"
   ]
  },
  {
   "cell_type": "code",
   "execution_count": 7,
   "metadata": {
    "collapsed": true
   },
   "outputs": [],
   "source": [
    "def compute_step_size(n_omega, grad):\n",
    "    result = -innerProduct(n_omega,grad)/(innerProduct(n_omega, n_omega))\n",
    "    return result"
   ]
  },
  {
   "cell_type": "code",
   "execution_count": 8,
   "metadata": {
    "collapsed": true
   },
   "outputs": [],
   "source": [
    "def draw(omega, x_true, x_hat, rel_error):\n",
    "    images_folder = \"/work/scratch/tt1\"\n",
    "    ten_ones = np.ones_like(omega)\n",
    "    x_reconstr1 = mt.reconstruct2(x_hat,ground_truth, omega)\n",
    "    x_hat_img = mt.reconstruct_image_affine(x_true_org, x_reconstr1)\n",
    "    x_hat_est = image.index_img(x_hat_img,1)\n",
    "    \n",
    "    x_true_org_img = image.index_img(x_true,1)\n",
    "    x_miss_img = mt.reconstruct_image_affine(x_true_org, x_train)\n",
    "    x_miss = image.index_img(x_miss_img,1)\n",
    "    mrd.draw_original_vs_reconstructed_rim(x_true_org_img,x_hat_est, x_miss, \"Rim Completion\",\n",
    "                                             rel_error, observed_ratio, coord=None, folder=images_folder)"
   ]
  },
  {
   "cell_type": "code",
   "execution_count": 9,
   "metadata": {},
   "outputs": [
    {
     "name": "stdout",
     "output_type": "stream",
     "text": [
      "Subject Path: /work/pl/sch/analysis/data/COBRE001/swaAMAYER+cobre01_63001+M87100944+20110309at135133+RSTpre_V01_R01+CM.nii\n"
     ]
    }
   ],
   "source": [
    "subject_scan_path = du.get_full_path_subject1()\n",
    "print \"Subject Path: \" + str(subject_scan_path)\n",
    "x_true_org = mt.read_image_abs_path(subject_scan_path)\n"
   ]
  },
  {
   "cell_type": "code",
   "execution_count": null,
   "metadata": {
    "collapsed": true
   },
   "outputs": [],
   "source": []
  },
  {
   "cell_type": "code",
   "execution_count": 10,
   "metadata": {
    "collapsed": true
   },
   "outputs": [],
   "source": [
    "observed_ratio = 0.9\n",
    "x_true_img = np.array(x_true_org.get_data())\n",
    "mask_indices = (np.random.rand(x_true_img.shape[0],x_true_img.shape[1],x_true_img.shape[2], x_true_img.shape[3]) < observed_ratio).astype('int') \n",
    "ten_ones = np.ones_like(mask_indices)\n",
    "x_train = copy.deepcopy(x_true_img)\n",
    "x_train[mask_indices==0] = 0.0\n",
    "x_train[mask_indices == 0] = np.mean(x_train[mask_indices == 1])\n",
    "#x_train[mask_indices == 0] = np.mean(x_train[mask_indices == 1])\n",
    "\n",
    "x_init = copy.deepcopy(x_train)\n",
    "#shape = (1, 53, 63, 63, 1)\n",
    "#x_init_tf = t3f.random_tensor(shape, tt_rank=63)\n",
    "\n",
    "ground_truth = copy.deepcopy(x_true_img)\n",
    "a_omega = copy.deepcopy(ground_truth)\n",
    "a_omega[mask_indices==0] = 0.0\n",
    "\n",
    "sparse_observation = copy.deepcopy(ground_truth)\n",
    "sparse_observation[mask_indices==0] = 0.0"
   ]
  },
  {
   "cell_type": "code",
   "execution_count": null,
   "metadata": {
    "collapsed": true
   },
   "outputs": [],
   "source": []
  },
  {
   "cell_type": "code",
   "execution_count": 11,
   "metadata": {
    "collapsed": true
   },
   "outputs": [],
   "source": [
    "ten_ones = np.ones_like(mask_indices)\n"
   ]
  },
  {
   "cell_type": "code",
   "execution_count": 12,
   "metadata": {},
   "outputs": [
    {
     "name": "stdout",
     "output_type": "stream",
     "text": [
      "71075336.0\n"
     ]
    }
   ],
   "source": [
    "norm_sparse_observation = np.linalg.norm(sparse_observation)\n",
    "print norm_sparse_observation"
   ]
  },
  {
   "cell_type": "code",
   "execution_count": 13,
   "metadata": {},
   "outputs": [
    {
     "name": "stdout",
     "output_type": "stream",
     "text": [
      "[1, 53, 1, 1, 1] 0 (1, 53, 53)\n",
      "[1, 53, 63, 1, 1] 1 (53, 63, 63)\n",
      "[1, 53, 63, 63, 1] 2 (63, 46, 63)\n",
      "ranks: [1, 53, 63, 63, 1]\n"
     ]
    }
   ],
   "source": [
    "mask_indices_tf = t3f.to_tt_tensor(mask_indices.astype('float32'), max_tt_rank=63)"
   ]
  },
  {
   "cell_type": "code",
   "execution_count": 14,
   "metadata": {
    "collapsed": true
   },
   "outputs": [],
   "source": [
    "x_miss_img = mt.reconstruct_image_affine(x_true_org, x_train)"
   ]
  },
  {
   "cell_type": "code",
   "execution_count": 15,
   "metadata": {
    "collapsed": true
   },
   "outputs": [],
   "source": [
    "x_miss = image.index_img(x_miss_img,1)"
   ]
  },
  {
   "cell_type": "code",
   "execution_count": 16,
   "metadata": {},
   "outputs": [
    {
     "data": {
      "image/png": "[encoded data removed]",
      "text/plain": [
       "<matplotlib.figure.Figure at 0x10d2aa510>"
      ]
     },
     "metadata": {},
     "output_type": "display_data"
    }
   ],
   "source": [
    "x_miss_image = plotting.plot_epi(x_miss, bg_img=None,black_bg=True, cmap='jet', cut_coords=None) "
   ]
  },
  {
   "cell_type": "code",
   "execution_count": 17,
   "metadata": {},
   "outputs": [
    {
     "name": "stdout",
     "output_type": "stream",
     "text": [
      "('Saving figure', '/work/scratch/tt1/missing_ratio_10.00.png')\n",
      "Called from mrd\n"
     ]
    }
   ],
   "source": [
    "images_folder = \"/work/scratch/tt1\"\n",
    "mrd.draw_original_vs_reconstructed_rim(image.index_img(x_true_org,1),image.index_img(x_miss_img,1), image.index_img(x_miss_img,1), \"Rim Completion\",\n",
    "                                             observed_ratio, observed_ratio, coord=None, folder=images_folder)"
   ]
  },
  {
   "cell_type": "code",
   "execution_count": 18,
   "metadata": {},
   "outputs": [
    {
     "name": "stdout",
     "output_type": "stream",
     "text": [
      "[1, 53, 1, 1, 1] 0 (1, 53, 53)\n",
      "[1, 53, 63, 1, 1] 1 (53, 63, 63)\n",
      "[1, 53, 63, 63, 1] 2 (63, 46, 63)\n",
      "ranks: [1, 53, 63, 63, 1]\n"
     ]
    }
   ],
   "source": [
    "ground_truth_tf = t3f.to_tt_tensor(ground_truth, max_tt_rank=63)"
   ]
  },
  {
   "cell_type": "code",
   "execution_count": 19,
   "metadata": {
    "collapsed": true
   },
   "outputs": [],
   "source": [
    "A = t3f.get_variable('A', initializer=ground_truth_tf, trainable=False)"
   ]
  },
  {
   "cell_type": "code",
   "execution_count": 20,
   "metadata": {
    "collapsed": true
   },
   "outputs": [],
   "source": [
    "ground_truth = tf.get_variable('ground_truth', initializer=ground_truth, trainable=False)\n",
    "sparsity_mask = tf.get_variable('sparsity_mask', initializer=mask_indices, trainable=False)\n",
    "sparsity_mask = tf.cast(sparsity_mask,tf.float32)\n",
    "sparse_observation = ground_truth * sparsity_mask"
   ]
  },
  {
   "cell_type": "code",
   "execution_count": 21,
   "metadata": {
    "collapsed": true
   },
   "outputs": [],
   "source": [
    "#sparsity_mask = t3f.get_variable('sparsity_mask', initializer=mask_indices_tf, trainable=False)\n",
    "#sparsity_mask = t3f.cast(sparsity_mask, tf.float32)\n",
    "#sparse_observation_tf = t3f.to_tt_tensor(sparse_observation, max_tt_rank=63)\n",
    "#sparse_observation_tf3 = t3f.get_variable('sparse_observation_tf', initializer=sparse_observation_tf, trainable=False)"
   ]
  },
  {
   "cell_type": "code",
   "execution_count": 22,
   "metadata": {},
   "outputs": [
    {
     "name": "stdout",
     "output_type": "stream",
     "text": [
      "[1, 53, 1, 1, 1] 0 (1, 53, 53)\n",
      "[1, 53, 63, 1, 1] 1 (53, 63, 63)\n",
      "[1, 53, 63, 63, 1] 2 (63, 46, 63)\n",
      "ranks: [1, 53, 63, 63, 1]\n"
     ]
    }
   ],
   "source": [
    "x_train_tf = t3f.to_tt_tensor(x_init, max_tt_rank=63)"
   ]
  },
  {
   "cell_type": "code",
   "execution_count": null,
   "metadata": {
    "collapsed": true
   },
   "outputs": [],
   "source": []
  },
  {
   "cell_type": "code",
   "execution_count": 23,
   "metadata": {
    "collapsed": true
   },
   "outputs": [],
   "source": [
    "normAOmegavar = tf.get_variable('normAOmega', initializer=norm_sparse_observation, trainable=False)"
   ]
  },
  {
   "cell_type": "code",
   "execution_count": 24,
   "metadata": {
    "collapsed": true
   },
   "outputs": [],
   "source": [
    "X = t3f.get_variable('X', initializer=x_train_tf)"
   ]
  },
  {
   "cell_type": "code",
   "execution_count": 25,
   "metadata": {
    "collapsed": true
   },
   "outputs": [],
   "source": [
    "X_new = t3f.get_variable('X_new', initializer=x_train_tf)"
   ]
  },
  {
   "cell_type": "code",
   "execution_count": null,
   "metadata": {
    "collapsed": true
   },
   "outputs": [],
   "source": []
  },
  {
   "cell_type": "code",
   "execution_count": 26,
   "metadata": {},
   "outputs": [
    {
     "name": "stdout",
     "output_type": "stream",
     "text": [
      "A Tensor Train variable of shape (53, 63, 46, 144), TT-ranks: (1, 53, 63, 63, 1)\n"
     ]
    }
   ],
   "source": [
    "print X"
   ]
  },
  {
   "cell_type": "code",
   "execution_count": 27,
   "metadata": {
    "collapsed": true
   },
   "outputs": [],
   "source": [
    "def train_it_rel_cost(cost_hist, k):\n",
    "    res = np.abs(cost_hist[k] - cost_hist[k-1])/np.abs(cost_hist[k])\n",
    "    return res"
   ]
  },
  {
   "cell_type": "code",
   "execution_count": 28,
   "metadata": {
    "collapsed": true
   },
   "outputs": [],
   "source": [
    "counter = tf.get_variable('counter', initializer=0)"
   ]
  },
  {
   "cell_type": "code",
   "execution_count": 29,
   "metadata": {
    "collapsed": true
   },
   "outputs": [],
   "source": [
    "one = tf.constant(1)\n",
    "zero_point1 = tf.constant(0.1)"
   ]
  },
  {
   "cell_type": "code",
   "execution_count": 30,
   "metadata": {
    "collapsed": true
   },
   "outputs": [],
   "source": [
    "tt_zeros = initializers.tensor_zeros([53, 63, 46, 144])"
   ]
  },
  {
   "cell_type": "code",
   "execution_count": 31,
   "metadata": {
    "collapsed": true
   },
   "outputs": [],
   "source": [
    "#eta_t3f_old = t3f.get_variable('eta_t3f_old', initializer=tt_zeros)\n",
    "#grad_t3f_old = t3f.get_variable('grad_t3f_old', initializer=tt_zeros)"
   ]
  },
  {
   "cell_type": "code",
   "execution_count": 32,
   "metadata": {
    "collapsed": true
   },
   "outputs": [],
   "source": [
    "eta_old = tf.get_variable('eta_old', shape = (53, 63, 46, 144), validate_shape=False)\n",
    "grad_old = tf.get_variable('grad_old', shape = (53, 63, 46, 144), validate_shape=False)"
   ]
  },
  {
   "cell_type": "code",
   "execution_count": 33,
   "metadata": {
    "collapsed": true
   },
   "outputs": [],
   "source": [
    "one = tf.constant(1)\n",
    "zero_point1 = tf.constant(0.1)"
   ]
  },
  {
   "cell_type": "code",
   "execution_count": 34,
   "metadata": {
    "collapsed": true
   },
   "outputs": [],
   "source": [
    "\n",
    "\n",
    "def gradient(x):\n",
    "    return np.multiply(x,mask_indices) - a_omega\n",
    "    \n",
    "def cost_func(x):\n",
    "    return 0.5*(np.linalg.norm(np.multiply(x,mask_indices)-a_omega)** 2)\n",
    "\n",
    "def find_step_size(x,g,d, old_cost):\n",
    "    step_size = optimize.line_search(cost_func,gradient,x,d,gfk=None, old_fval=old_cost)"
   ]
  },
  {
   "cell_type": "code",
   "execution_count": 35,
   "metadata": {
    "collapsed": true
   },
   "outputs": [],
   "source": [
    "# Algorithm\n",
    "#grad_full = (t3f.full(X)*t3f.full(sparse_observation_tf3) - t3f.full(sparse_observation_tf3))\n",
    "#counter_step = tf.assign(counter, counter + 1)\n",
    "\n",
    "#grad_trans = t3f.riemannian.project(grad_t3f_old, X)\n",
    "#eta_trans = t3f.riemannian.project(eta_t3f_old, X)\n",
    "    \n",
    "#grad_full = sparsity_mask * t3f.full(X) - sparse_observation\n",
    "#grad_t3f = t3f.to_tt_tensor(grad_full, max_tt_rank=63)\n",
    "\n",
    "#loss = 0.5 * t3f.frobenius_norm_squared(grad_t3f)\n",
    "#gradnorm_omega = t3f.frobenius_norm(grad_t3f)/(normAOmegavar)\n",
    "\n",
    "#riemannian_grad = t3f.riemannian.project(grad_t3f, X)\n",
    "\n",
    "\n",
    "#eta_omega = sparsity_mask * t3f.full(-riemannian_grad)\n",
    "#alpha = compute_step_size(eta_omega, grad_full)\n",
    "\n",
    "\n",
    "\n",
    "#riemannian_grad_norm = t3f.flat_inner(riemannian_grad, riemannian_grad)\n",
    "\n",
    "\n",
    "\n",
    "#rel_error1 = relative_error1(t3f.full(X), t3f.full(sparse_observation))\n",
    "\n",
    "\n"
   ]
  },
  {
   "cell_type": "code",
   "execution_count": 36,
   "metadata": {
    "collapsed": true
   },
   "outputs": [],
   "source": [
    "eps = 1e-5\n",
    "epsilon_train=1e-5"
   ]
  },
  {
   "cell_type": "code",
   "execution_count": 37,
   "metadata": {
    "collapsed": true
   },
   "outputs": [],
   "source": [
    "#print grad_full"
   ]
  },
  {
   "cell_type": "code",
   "execution_count": 38,
   "metadata": {
    "collapsed": true
   },
   "outputs": [],
   "source": [
    "#print grad_t3f"
   ]
  },
  {
   "cell_type": "code",
   "execution_count": 39,
   "metadata": {},
   "outputs": [
    {
     "name": "stdout",
     "output_type": "stream",
     "text": [
      "1e-05\n"
     ]
    }
   ],
   "source": [
    "print eps"
   ]
  },
  {
   "cell_type": "code",
   "execution_count": 40,
   "metadata": {
    "collapsed": true
   },
   "outputs": [],
   "source": [
    "#alpha = 0.3\n"
   ]
  },
  {
   "cell_type": "code",
   "execution_count": 41,
   "metadata": {
    "collapsed": true
   },
   "outputs": [],
   "source": [
    "#sess = tf.Session()\n",
    "#sess.run(tf.global_variables_initializer())"
   ]
  },
  {
   "cell_type": "code",
   "execution_count": 42,
   "metadata": {
    "collapsed": true
   },
   "outputs": [],
   "source": [
    "def compute_loss(x):\n",
    "    return 0.5*frobenius_norm_tf_squared(sparsity_mask * t3f.full(x) - sparse_observation)"
   ]
  },
  {
   "cell_type": "code",
   "execution_count": null,
   "metadata": {
    "collapsed": true
   },
   "outputs": [],
   "source": []
  },
  {
   "cell_type": "code",
   "execution_count": null,
   "metadata": {
    "collapsed": true
   },
   "outputs": [],
   "source": [
    "\n"
   ]
  },
  {
   "cell_type": "code",
   "execution_count": null,
   "metadata": {
    "collapsed": true
   },
   "outputs": [],
   "source": []
  },
  {
   "cell_type": "code",
   "execution_count": null,
   "metadata": {
    "collapsed": true
   },
   "outputs": [],
   "source": []
  },
  {
   "cell_type": "code",
   "execution_count": 43,
   "metadata": {
    "collapsed": true
   },
   "outputs": [],
   "source": [
    "#first step"
   ]
  },
  {
   "cell_type": "code",
   "execution_count": 44,
   "metadata": {},
   "outputs": [
    {
     "name": "stdout",
     "output_type": "stream",
     "text": [
      "[1, 53, 1, 1, 1] 0 (1, 53, 53)\n",
      "[1, 53, 63, 1, 1] 1 (53, 63, 63)\n",
      "[1, 53, 63, 63, 1] 2 (63, 46, 63)\n",
      "ranks: [1, 53, 63, 63, 1]\n",
      "Max_TT rank63\n",
      "[1, 53, 63, 63, 1]\n",
      "Max_TT rank63\n",
      "[1, 53, 63, 63, 1]\n"
     ]
    }
   ],
   "source": [
    "zero_point1 = tf.constant(0.1)\n",
    "backtack_const = tf.constant(1e-4)\n",
    "\n",
    "initial_cost = compute_loss(X)\n",
    "cost = tf.get_variable('cost', initializer=0.0)\n",
    "cost_old = tf.get_variable('cost_old', initializer=initial_cost)\n",
    "\n",
    "grad_full_0 = sparsity_mask * t3f.full(X) - sparse_observation\n",
    "grad_t3f_0 = t3f.to_tt_tensor(grad_full_0, max_tt_rank=63)\n",
    "\n",
    "gradnorm_omega_0 = t3f.frobenius_norm(grad_t3f_0)/(normAOmegavar)\n",
    "riemannian_grad_0 = t3f.riemannian.project(grad_t3f_0, X)\n",
    "riemannian_grad_0 = t3f.round(riemannian_grad_0, max_tt_rank =63, epsilon = 1e-15)\n",
    "\n",
    "grad_t3f_old = t3f.get_variable('grad_t3f_old', initializer=riemannian_grad_0)\n",
    "\n",
    "#grad_t3f_old_op = t3f.assign(grad_t3f_old, riemannian_grad_0, validate_shape=False)\n",
    "riemannian_grad_full_0 = t3f.full(riemannian_grad_0)\n",
    "riemannian_grad_init_op = tf.assign(grad_old,riemannian_grad_full_0)\n",
    "\n",
    "eta_t3f_0 = -riemannian_grad_0\n",
    "eta_t3f_old = t3f.get_variable('eta_t3f_old', initializer=eta_t3f_0)\n",
    "\n",
    "eta_0 = -riemannian_grad_init_op\n",
    "eta_omega_0 = sparsity_mask * t3f.full(-riemannian_grad_0)\n",
    "\n",
    "alpha_0 = compute_step_size(eta_omega_0, riemannian_grad_init_op)\n",
    "eta_op_0 = tf.assign(eta_old,eta_0, validate_shape=False)\n",
    "\n",
    "train_step_0 = t3f.assign(X, t3f.round(X - alpha_0 * eta_t3f_0, max_tt_rank=63))\n",
    "\n"
   ]
  },
  {
   "cell_type": "code",
   "execution_count": 45,
   "metadata": {},
   "outputs": [
    {
     "name": "stdout",
     "output_type": "stream",
     "text": [
      "Rim 0:A Tensor Train of shape (53, 63, 46, 144), TT-ranks: (1, 53, 63, 63, 1)\n"
     ]
    }
   ],
   "source": [
    "print \"Rim 0:\" + str(riemannian_grad_0)"
   ]
  },
  {
   "cell_type": "code",
   "execution_count": 46,
   "metadata": {},
   "outputs": [
    {
     "name": "stdout",
     "output_type": "stream",
     "text": [
      "Eta 0: A Tensor Train of shape (53, 63, 46, 144), TT-ranks: (1, 53, 63, 63, 1)\n"
     ]
    }
   ],
   "source": [
    "print \"Eta 0: \" + str(eta_t3f_0)"
   ]
  },
  {
   "cell_type": "code",
   "execution_count": 47,
   "metadata": {
    "collapsed": true
   },
   "outputs": [],
   "source": [
    "#tt = t3f.round(eta_t3f_old, max_tt_rank =63, epsilon = 1e-15"
   ]
  },
  {
   "cell_type": "code",
   "execution_count": null,
   "metadata": {
    "collapsed": true
   },
   "outputs": [],
   "source": []
  },
  {
   "cell_type": "code",
   "execution_count": null,
   "metadata": {
    "collapsed": true
   },
   "outputs": [],
   "source": []
  },
  {
   "cell_type": "code",
   "execution_count": 48,
   "metadata": {
    "collapsed": true
   },
   "outputs": [],
   "source": [
    "# new\n",
    "#t3f.assign(eta_t3f_old, t3f.round(eta_t3f_old, max_tt_rank =63, epsilon = 1e-15))\n"
   ]
  },
  {
   "cell_type": "code",
   "execution_count": 49,
   "metadata": {},
   "outputs": [
    {
     "name": "stdout",
     "output_type": "stream",
     "text": [
      "[1, 53, 1, 1, 1] 0 (1, 53, 53)\n",
      "[1, 53, 63, 1, 1] 1 (53, 63, 63)\n",
      "[1, 53, 63, 63, 1] 2 (63, 46, 63)\n",
      "ranks: [1, 53, 63, 63, 1]\n",
      "Max_TT rank63\n",
      "[1, 53, 63, 63, 1]\n",
      "Rim Grad shape: A Tensor Train of shape (53, 63, 46, 144), TT-ranks: (1, 53, 63, 63, 1)\n",
      "eta_trans: A Tensor Train of shape (53, 63, 46, 144), TT-ranks: (1, 106, 126, 126, 1)\n",
      "steepest descent\n",
      "conjugate gradient\n",
      "Max_TT rank63\n",
      "[1, 53, 63, 63, 1]\n",
      "[1, 53, 1, 1, 1] 0 (1, 53, 53)\n",
      "[1, 53, 63, 1, 1] 1 (53, 63, 63)\n",
      "[1, 53, 63, 63, 1] 2 (63, 46, 63)\n",
      "ranks: [1, 53, 63, 63, 1]\n",
      "eta: A Tensor Train of shape (53, 63, 46, 144), TT-ranks: (1, 53, 63, 63, 1)\n"
     ]
    }
   ],
   "source": [
    "counter_step = tf.assign(counter, counter + 1)\n",
    "\n",
    "grad_trans = t3f.riemannian.project(grad_t3f_old, X)\n",
    "eta_trans = t3f.riemannian.project(eta_t3f_old, X)\n",
    "    \n",
    "grad_full = sparsity_mask * t3f.full(X) - sparse_observation\n",
    "grad_t3f = t3f.to_tt_tensor(grad_full, max_tt_rank=63)\n",
    "\n",
    "loss = 0.5 * t3f.frobenius_norm_squared(grad_t3f)\n",
    "gradnorm_omega = t3f.frobenius_norm(grad_t3f)/(normAOmegavar)\n",
    "\n",
    "riemannian_grad =  t3f.round(t3f.riemannian.project(grad_t3f, X),max_tt_rank =63)\n",
    "#riemannian_grad = t3f.round(riemannian_grad, max_tt_rank =63, epsilon = 1e-15)\n",
    "riemannian_grad_norm = t3f.frobenius_norm(riemannian_grad)\n",
    "\n",
    "inner_product_rim_grad = t3f.flat_inner(riemannian_grad, riemannian_grad)\n",
    "ip_xitrans_xi = t3f.flat_inner(grad_trans,riemannian_grad)\n",
    "theta = ip_xitrans_xi / inner_product_rim_grad\n",
    "\n",
    "def get_theta():\n",
    "    return t3f.full(ip_xitrans_xi / inner_product_rim_grad)\n",
    "\n",
    "def get_value_zero_point1():\n",
    "    return zero_point1\n",
    "    \n",
    "def get_conj_dir():\n",
    "    print \"conjugate gradient\"\n",
    "    tf.Print(zero_point1,[zero_point1],message=\"conjugate gradient\")\n",
    "    return t3f.full(approximate.add_n([-riemannian_grad, beta*eta_trans], max_tt_rank=63))\n",
    "\n",
    "def get_rim_grad():\n",
    "    print \"steepest descent\"\n",
    "    tf.Print(zero_point1,[zero_point1],message=\"steepest descent\")\n",
    "    return t3f.full(-riemannian_grad)\n",
    "\n",
    "# compute beta\n",
    "inner_product_rim_grad_old = t3f.flat_inner(grad_t3f_old, grad_t3f_old)\n",
    "beta = tf.maximum(0.0, (inner_product_rim_grad - ip_xitrans_xi)/inner_product_rim_grad_old)\n",
    "#eta = -riemannian_grad + beta*eta_trans\n",
    "\n",
    "print \"Rim Grad shape: \" + str(riemannian_grad)\n",
    "print \"eta_trans: \" + str(eta_trans)\n",
    "\n",
    "eta_cond = tf.cond((theta >= zero_point1), get_rim_grad, get_conj_dir)\n",
    "\n",
    "#eta = tf.case([(tf.greater_equal(theta_full,zero_point1), get_rim_grad)], default=get_conj_dir, exclusive=True)\n",
    "#eta = approximate.add_n([-riemannian_grad, beta*eta_trans], max_tt_rank=63)\n",
    "eta = t3f.to_tt_tensor(eta_cond, max_tt_rank=63)\n",
    "\n",
    "inprod_grad_eta = t3f.flat_inner(riemannian_grad,eta)\n",
    "#\n",
    "#eta_full = t3f.full(eta)\n",
    "\n",
    "print \"eta: \" + str(eta)\n",
    "#print \"eta1: \" + str(eta1)\n",
    "                                            \n",
    "#(1, 106, 126, 126, 1)\n",
    "\n",
    "eta_omega = sparsity_mask * t3f.full(eta)\n",
    "alpha = compute_step_size(eta_omega, grad_full)"
   ]
  },
  {
   "cell_type": "code",
   "execution_count": null,
   "metadata": {
    "collapsed": true
   },
   "outputs": [],
   "source": []
  },
  {
   "cell_type": "code",
   "execution_count": 50,
   "metadata": {
    "collapsed": true
   },
   "outputs": [],
   "source": [
    "#eta1 = tf.cond((theta > zero_point1), get_rim_grad, get_conj_dir)"
   ]
  },
  {
   "cell_type": "code",
   "execution_count": 51,
   "metadata": {},
   "outputs": [
    {
     "name": "stdout",
     "output_type": "stream",
     "text": [
      "A Tensor Train of shape (53, 63, 46, 144), TT-ranks: (1, 53, 63, 63, 1)\n"
     ]
    }
   ],
   "source": [
    "print eta"
   ]
  },
  {
   "cell_type": "code",
   "execution_count": null,
   "metadata": {
    "collapsed": true
   },
   "outputs": [],
   "source": []
  },
  {
   "cell_type": "code",
   "execution_count": null,
   "metadata": {
    "collapsed": true
   },
   "outputs": [],
   "source": []
  },
  {
   "cell_type": "code",
   "execution_count": null,
   "metadata": {
    "collapsed": true
   },
   "outputs": [],
   "source": []
  },
  {
   "cell_type": "code",
   "execution_count": null,
   "metadata": {
    "collapsed": true
   },
   "outputs": [],
   "source": []
  },
  {
   "cell_type": "code",
   "execution_count": null,
   "metadata": {
    "collapsed": true
   },
   "outputs": [],
   "source": [
    "    "
   ]
  },
  {
   "cell_type": "code",
   "execution_count": null,
   "metadata": {
    "collapsed": true
   },
   "outputs": [],
   "source": []
  },
  {
   "cell_type": "code",
   "execution_count": null,
   "metadata": {
    "collapsed": true
   },
   "outputs": [],
   "source": [
    " "
   ]
  },
  {
   "cell_type": "code",
   "execution_count": null,
   "metadata": {
    "collapsed": true
   },
   "outputs": [],
   "source": []
  },
  {
   "cell_type": "code",
   "execution_count": null,
   "metadata": {
    "collapsed": true
   },
   "outputs": [],
   "source": []
  },
  {
   "cell_type": "code",
   "execution_count": null,
   "metadata": {
    "collapsed": true
   },
   "outputs": [],
   "source": []
  },
  {
   "cell_type": "code",
   "execution_count": null,
   "metadata": {
    "collapsed": true
   },
   "outputs": [],
   "source": []
  },
  {
   "cell_type": "code",
   "execution_count": null,
   "metadata": {
    "collapsed": true
   },
   "outputs": [],
   "source": []
  },
  {
   "cell_type": "code",
   "execution_count": null,
   "metadata": {
    "collapsed": true
   },
   "outputs": [],
   "source": []
  },
  {
   "cell_type": "code",
   "execution_count": null,
   "metadata": {
    "collapsed": true
   },
   "outputs": [],
   "source": []
  },
  {
   "cell_type": "code",
   "execution_count": null,
   "metadata": {
    "collapsed": true
   },
   "outputs": [],
   "source": []
  },
  {
   "cell_type": "code",
   "execution_count": null,
   "metadata": {
    "collapsed": true
   },
   "outputs": [],
   "source": []
  },
  {
   "cell_type": "code",
   "execution_count": 52,
   "metadata": {
    "collapsed": true
   },
   "outputs": [],
   "source": [
    "cost_old_update = compute_loss(X)\n",
    "cost_old_op = tf.assign(cost_old,cost_old_update)"
   ]
  },
  {
   "cell_type": "code",
   "execution_count": null,
   "metadata": {
    "collapsed": true
   },
   "outputs": [],
   "source": []
  },
  {
   "cell_type": "code",
   "execution_count": null,
   "metadata": {
    "collapsed": true
   },
   "outputs": [],
   "source": []
  },
  {
   "cell_type": "code",
   "execution_count": 53,
   "metadata": {},
   "outputs": [
    {
     "name": "stdout",
     "output_type": "stream",
     "text": [
      "Max_TT rank63\n",
      "[1, 53, 63, 63, 1]\n"
     ]
    }
   ],
   "source": [
    "train_step = t3f.assign(X, t3f.round(X + alpha * eta, max_tt_rank=63))"
   ]
  },
  {
   "cell_type": "code",
   "execution_count": 54,
   "metadata": {
    "collapsed": true
   },
   "outputs": [],
   "source": [
    "updated_cost = compute_loss(train_step)\n",
    "cost_op = tf.assign(cost,updated_cost)"
   ]
  },
  {
   "cell_type": "code",
   "execution_count": 55,
   "metadata": {
    "collapsed": true
   },
   "outputs": [],
   "source": [
    "eta_update_op = t3f.assign(eta_t3f_old, eta,use_locking = True)"
   ]
  },
  {
   "cell_type": "code",
   "execution_count": 56,
   "metadata": {
    "collapsed": true
   },
   "outputs": [],
   "source": [
    "grad_update_op = t3f.assign(grad_t3f_old, riemannian_grad)"
   ]
  },
  {
   "cell_type": "code",
   "execution_count": 57,
   "metadata": {},
   "outputs": [
    {
     "name": "stdout",
     "output_type": "stream",
     "text": [
      "Tensor(\"div_1:0\", shape=(), dtype=float32)\n"
     ]
    }
   ],
   "source": [
    "print alpha_0"
   ]
  },
  {
   "cell_type": "code",
   "execution_count": 58,
   "metadata": {},
   "outputs": [
    {
     "name": "stdout",
     "output_type": "stream",
     "text": [
      "Tensor(\"div_3:0\", shape=(), dtype=float32)\n"
     ]
    }
   ],
   "source": [
    "print theta"
   ]
  },
  {
   "cell_type": "code",
   "execution_count": 59,
   "metadata": {},
   "outputs": [
    {
     "name": "stdout",
     "output_type": "stream",
     "text": [
      "Tensor(\"Const_7:0\", shape=(), dtype=float32)\n"
     ]
    }
   ],
   "source": [
    "print zero_point1"
   ]
  },
  {
   "cell_type": "code",
   "execution_count": null,
   "metadata": {
    "collapsed": true
   },
   "outputs": [],
   "source": []
  },
  {
   "cell_type": "code",
   "execution_count": null,
   "metadata": {
    "collapsed": true
   },
   "outputs": [],
   "source": []
  },
  {
   "cell_type": "code",
   "execution_count": null,
   "metadata": {
    "collapsed": true
   },
   "outputs": [],
   "source": []
  },
  {
   "cell_type": "code",
   "execution_count": null,
   "metadata": {
    "collapsed": true
   },
   "outputs": [],
   "source": []
  },
  {
   "cell_type": "code",
   "execution_count": null,
   "metadata": {
    "collapsed": true
   },
   "outputs": [],
   "source": []
  },
  {
   "cell_type": "code",
   "execution_count": null,
   "metadata": {
    "collapsed": true
   },
   "outputs": [],
   "source": []
  },
  {
   "cell_type": "code",
   "execution_count": null,
   "metadata": {
    "collapsed": true
   },
   "outputs": [],
   "source": []
  },
  {
   "cell_type": "code",
   "execution_count": null,
   "metadata": {
    "collapsed": true
   },
   "outputs": [],
   "source": []
  },
  {
   "cell_type": "code",
   "execution_count": null,
   "metadata": {
    "collapsed": true
   },
   "outputs": [],
   "source": []
  },
  {
   "cell_type": "code",
   "execution_count": null,
   "metadata": {
    "collapsed": true
   },
   "outputs": [],
   "source": []
  },
  {
   "cell_type": "code",
   "execution_count": null,
   "metadata": {
    "collapsed": true
   },
   "outputs": [],
   "source": []
  },
  {
   "cell_type": "code",
   "execution_count": null,
   "metadata": {
    "collapsed": true
   },
   "outputs": [],
   "source": []
  },
  {
   "cell_type": "code",
   "execution_count": null,
   "metadata": {
    "collapsed": true
   },
   "outputs": [],
   "source": []
  },
  {
   "cell_type": "code",
   "execution_count": null,
   "metadata": {
    "collapsed": true
   },
   "outputs": [],
   "source": []
  },
  {
   "cell_type": "code",
   "execution_count": null,
   "metadata": {
    "collapsed": true
   },
   "outputs": [],
   "source": []
  },
  {
   "cell_type": "code",
   "execution_count": null,
   "metadata": {
    "collapsed": true
   },
   "outputs": [],
   "source": []
  },
  {
   "cell_type": "code",
   "execution_count": null,
   "metadata": {
    "collapsed": true
   },
   "outputs": [],
   "source": []
  },
  {
   "cell_type": "code",
   "execution_count": null,
   "metadata": {
    "collapsed": true
   },
   "outputs": [],
   "source": []
  },
  {
   "cell_type": "code",
   "execution_count": null,
   "metadata": {
    "collapsed": true
   },
   "outputs": [],
   "source": []
  },
  {
   "cell_type": "code",
   "execution_count": 60,
   "metadata": {
    "collapsed": true
   },
   "outputs": [],
   "source": [
    "#t3f.round(-riemannian_grad + beta*eta_trans, max_tt_rank=[eta_trans])"
   ]
  },
  {
   "cell_type": "code",
   "execution_count": null,
   "metadata": {
    "collapsed": true
   },
   "outputs": [],
   "source": []
  },
  {
   "cell_type": "code",
   "execution_count": null,
   "metadata": {
    "collapsed": true
   },
   "outputs": [],
   "source": []
  },
  {
   "cell_type": "code",
   "execution_count": null,
   "metadata": {
    "collapsed": true
   },
   "outputs": [],
   "source": []
  },
  {
   "cell_type": "code",
   "execution_count": null,
   "metadata": {
    "collapsed": true
   },
   "outputs": [],
   "source": []
  },
  {
   "cell_type": "code",
   "execution_count": null,
   "metadata": {
    "collapsed": true
   },
   "outputs": [],
   "source": []
  },
  {
   "cell_type": "code",
   "execution_count": 61,
   "metadata": {
    "collapsed": true
   },
   "outputs": [],
   "source": [
    "#eta_update_op = t3f.assign(eta_t3f_old, eta,validate_shape=False, use_locking = True)"
   ]
  },
  {
   "cell_type": "code",
   "execution_count": 62,
   "metadata": {
    "collapsed": true
   },
   "outputs": [],
   "source": [
    "#grad_update_op = t3f.assign(grad_t3f_old, riemannian_grad)"
   ]
  },
  {
   "cell_type": "code",
   "execution_count": null,
   "metadata": {
    "collapsed": true
   },
   "outputs": [],
   "source": []
  },
  {
   "cell_type": "code",
   "execution_count": null,
   "metadata": {
    "collapsed": true
   },
   "outputs": [],
   "source": []
  },
  {
   "cell_type": "code",
   "execution_count": null,
   "metadata": {
    "collapsed": true
   },
   "outputs": [],
   "source": []
  },
  {
   "cell_type": "code",
   "execution_count": null,
   "metadata": {
    "collapsed": true
   },
   "outputs": [],
   "source": []
  },
  {
   "cell_type": "code",
   "execution_count": 63,
   "metadata": {
    "collapsed": true
   },
   "outputs": [],
   "source": [
    "sess = tf.Session()\n",
    "sess.run(tf.global_variables_initializer())"
   ]
  },
  {
   "cell_type": "code",
   "execution_count": 64,
   "metadata": {},
   "outputs": [
    {
     "name": "stdout",
     "output_type": "stream",
     "text": [
      "0.06598106 1.0 13124799000000.0 0.0\n"
     ]
    }
   ],
   "source": [
    "log = []\n",
    "train_loss_hist = []\n",
    "#for i in range(1000):\n",
    "gradnorm_val, alpha_val, eta_op_0_val,cost_old_val, cost_val, _ = sess.run([gradnorm_omega_0, alpha_0, eta_op_0, cost_old, cost, train_step_0.op])\n",
    "print gradnorm_val, alpha_val,cost_old_val, cost_val"
   ]
  },
  {
   "cell_type": "code",
   "execution_count": 65,
   "metadata": {},
   "outputs": [
    {
     "name": "stdout",
     "output_type": "stream",
     "text": [
      "A Tensor Train of shape (53, 63, 46, 144), TT-ranks: (1, 106, 126, 126, 1)\n"
     ]
    }
   ],
   "source": [
    "print grad_trans"
   ]
  },
  {
   "cell_type": "code",
   "execution_count": null,
   "metadata": {
    "collapsed": true
   },
   "outputs": [],
   "source": []
  },
  {
   "cell_type": "code",
   "execution_count": null,
   "metadata": {
    "collapsed": true
   },
   "outputs": [],
   "source": []
  },
  {
   "cell_type": "code",
   "execution_count": null,
   "metadata": {
    "collapsed": true
   },
   "outputs": [],
   "source": []
  },
  {
   "cell_type": "code",
   "execution_count": 66,
   "metadata": {
    "collapsed": true
   },
   "outputs": [],
   "source": [
    "#x_k, grad_k, eta_k = sess.run([t3f.full(X),t3f.full(grad_t3f_old), t3f.full(eta_t3f_old)])"
   ]
  },
  {
   "cell_type": "code",
   "execution_count": 67,
   "metadata": {
    "collapsed": true
   },
   "outputs": [],
   "source": [
    "#scipy_step_size = find_step_size(x_k,grad_k,eta_k, cost_old_val)"
   ]
  },
  {
   "cell_type": "code",
   "execution_count": 68,
   "metadata": {
    "collapsed": true
   },
   "outputs": [],
   "source": [
    "#print \"scipy_step_size: \" + str(scipy_step_size)"
   ]
  },
  {
   "cell_type": "code",
   "execution_count": null,
   "metadata": {
    "collapsed": true
   },
   "outputs": [],
   "source": []
  },
  {
   "cell_type": "code",
   "execution_count": 69,
   "metadata": {
    "collapsed": true
   },
   "outputs": [],
   "source": [
    "#sess.run([loss])"
   ]
  },
  {
   "cell_type": "code",
   "execution_count": 70,
   "metadata": {
    "collapsed": true
   },
   "outputs": [],
   "source": [
    "#sess.run([theta])"
   ]
  },
  {
   "cell_type": "code",
   "execution_count": 71,
   "metadata": {
    "collapsed": true
   },
   "outputs": [],
   "source": [
    "#print theta"
   ]
  },
  {
   "cell_type": "code",
   "execution_count": 72,
   "metadata": {
    "collapsed": true
   },
   "outputs": [],
   "source": [
    "#sess.run([eta_trans])"
   ]
  },
  {
   "cell_type": "code",
   "execution_count": 73,
   "metadata": {
    "collapsed": true
   },
   "outputs": [],
   "source": [
    "#sess.run([eta])"
   ]
  },
  {
   "cell_type": "code",
   "execution_count": 74,
   "metadata": {
    "collapsed": true
   },
   "outputs": [],
   "source": [
    "#sess.run([train_step.op])"
   ]
  },
  {
   "cell_type": "code",
   "execution_count": null,
   "metadata": {
    "collapsed": true
   },
   "outputs": [],
   "source": []
  },
  {
   "cell_type": "code",
   "execution_count": null,
   "metadata": {
    "collapsed": true
   },
   "outputs": [],
   "source": []
  },
  {
   "cell_type": "code",
   "execution_count": 75,
   "metadata": {
    "collapsed": true
   },
   "outputs": [],
   "source": [
    "#def backtrack(t, sess):\n",
    "#    t = t * 0.5\n",
    "#    return t3f.assign(X, t3f.round(X - t * eta, max_tt_rank=63))"
   ]
  },
  {
   "cell_type": "code",
   "execution_count": null,
   "metadata": {
    "collapsed": true
   },
   "outputs": [],
   "source": [
    "\n",
    "    "
   ]
  },
  {
   "cell_type": "code",
   "execution_count": null,
   "metadata": {
    "collapsed": true
   },
   "outputs": [],
   "source": []
  },
  {
   "cell_type": "code",
   "execution_count": 76,
   "metadata": {
    "collapsed": true
   },
   "outputs": [],
   "source": [
    "def loss_func(x, y):\n",
    "    return 0.5*(np.linalg.norm(x - y)** 2)\n",
    "    "
   ]
  },
  {
   "cell_type": "code",
   "execution_count": 77,
   "metadata": {
    "collapsed": true
   },
   "outputs": [],
   "source": [
    "def is_nan(x):\n",
    "    return (x is np.nan or x != x)"
   ]
  },
  {
   "cell_type": "code",
   "execution_count": 78,
   "metadata": {
    "collapsed": true
   },
   "outputs": [],
   "source": [
    "backtrack_const = 1e-4 "
   ]
  },
  {
   "cell_type": "code",
   "execution_count": 79,
   "metadata": {
    "collapsed": true
   },
   "outputs": [],
   "source": [
    "#sess.run([loss, gradnorm_omega, alpha, theta, eta_update_op, grad_update_op, train_step.op])"
   ]
  },
  {
   "cell_type": "code",
   "execution_count": 80,
   "metadata": {},
   "outputs": [
    {
     "name": "stdout",
     "output_type": "stream",
     "text": [
      "alpha_val: 1.1562605\n",
      "theta_val: 0.5366504\n",
      "inprod_grad_eta_val: -75682840000000.0\n",
      "rim_grad_norm: 8699565.0\n",
      "Cost New: 585233860000.0\n",
      "Cost Old: 44388772000000.0\n",
      "armijo: True\n",
      "proposed_initial_alpha: 1.1575552604283394\n",
      "(37962193000000.0, 1, 0.12259471, 1.1562605, 0.5366504, 1.604726, 44388772000000.0, 585233860000.0)\n",
      "alpha_val: 1.1381757\n",
      "theta_val: -0.9029986\n",
      "inprod_grad_eta_val: -608206060000.0\n",
      "rim_grad_norm: 785360.94\n",
      "Cost New: 230836080000.0\n",
      "Cost Old: 585233860000.0\n",
      "armijo: True\n",
      "proposed_initial_alpha: 1.1653872080864713\n",
      "(388554300000.0, 2, 0.012402862, 8.884388, 1.1381757, -0.9029986, 0.015508901, 585233860000.0, 230836080000.0)\n",
      "alpha_val: 0.9213204\n",
      "theta_val: 0.081342645\n",
      "inprod_grad_eta_val: -213101850000.0\n",
      "rim_grad_norm: 462324.4\n",
      "Cost New: 129046460000.0\n",
      "Cost Old: 230836080000.0\n",
      "armijo: True\n",
      "proposed_initial_alpha: 0.9553142014061209\n",
      "(154540160000.0, 3, 0.007821981, 0.5856421, 0.9213204, 0.081342645, 0.31835192, 230836080000.0, 129046460000.0)\n",
      "alpha_val: 1.1566632\n",
      "theta_val: 0.31962836\n",
      "inprod_grad_eta_val: -73329260000.0\n",
      "rim_grad_norm: 270792.84\n",
      "Cost New: 83740650000.0\n",
      "Cost Old: 129046460000.0\n",
      "armijo: True\n",
      "proposed_initial_alpha: 1.235681730282195\n",
      "(76518870000.0, 4, 0.005504024, 0.42113853, 1.1566632, 0.31962836, 0.23341419, 129046460000.0, 83740650000.0)\n",
      "alpha_val: 0.8570676\n",
      "theta_val: 0.042970102\n",
      "inprod_grad_eta_val: -32946043000.0\n",
      "rim_grad_norm: 182478.66\n",
      "Cost New: 68527500000.0\n",
      "Cost Old: 83740650000.0\n",
      "armijo: True\n",
      "proposed_initial_alpha: 0.923518867950918\n",
      "(43791405000.0, 5, 0.0041638063, 0.32187325, 0.8570676, 0.042970102, 0.43458578, 83740650000.0, 68527500000.0)\n",
      "alpha_val: 1.1844567\n",
      "theta_val: 0.2507586\n",
      "inprod_grad_eta_val: -21494833000.0\n",
      "rim_grad_norm: 146610.75\n",
      "Cost New: 54859600000.0\n",
      "Cost Old: 68527500000.0\n",
      "armijo: True\n",
      "proposed_initial_alpha: 1.2717383143519085\n",
      "(32365738000.0, 6, 0.0035796356, 0.16319278, 1.1844567, 0.2507586, 0.48364708, 68527500000.0, 54859600000.0)\n",
      "alpha_val: 0.73301\n",
      "theta_val: -0.04821068\n",
      "inprod_grad_eta_val: -14027678000.0\n",
      "rim_grad_norm: 123795.65\n",
      "Cost New: 49221546000.0\n",
      "Cost Old: 54859600000.0\n",
      "armijo: True\n",
      "proposed_initial_alpha: 0.8038470814891469\n",
      "(24042200000.0, 7, 0.0030851988, 0.16026093, 0.73301, -0.04821068, 0.74735653, 54859600000.0, 49221546000.0)\n",
      "alpha_val: 1.1675969\n",
      "theta_val: 0.3142389\n",
      "inprod_grad_eta_val: -11245835000.0\n",
      "rim_grad_norm: 106046.05\n",
      "Cost New: 42658783000.0\n",
      "Cost Old: 49221546000.0\n",
      "armijo: True\n",
      "proposed_initial_alpha: 1.1671454539279298\n",
      "(19905262000.0, 8, 0.0028072433, 0.0990137, 1.1675969, 0.3142389, 0.50321275, 49221546000.0, 42658783000.0)\n",
      "alpha_val: 0.67560416\n",
      "theta_val: -0.15574633\n",
      "inprod_grad_eta_val: -6687101000.0\n",
      "rim_grad_norm: 90705.33\n",
      "Cost New: 40174424000.0\n",
      "Cost Old: 42658783000.0\n",
      "armijo: True\n",
      "proposed_initial_alpha: 0.7430302592256612\n",
      "(16603909000.0, 9, 0.002563901, 0.094910935, 0.67560416, -0.15574633, 0.84554935, 42658783000.0, 40174424000.0)\n",
      "alpha_val: 1.1310074\n",
      "theta_val: 0.35445192\n",
      "inprod_grad_eta_val: -6895793000.0\n",
      "rim_grad_norm: 83040.67\n",
      "Cost New: 36589490000.0\n",
      "Cost Old: 40174424000.0\n",
      "armijo: True\n",
      "proposed_initial_alpha: 1.0397451921713328\n",
      "(14947238000.0, 10, 0.0024326327, 0.053961407, 1.1310074, 0.35445192, 0.5410595, 40174424000.0, 36589490000.0)\n",
      "alpha_val: 0.60975385\n",
      "theta_val: -0.23996213\n",
      "inprod_grad_eta_val: -3730199300.0\n",
      "rim_grad_norm: 71868.13\n",
      "Cost New: 35328690000.0\n",
      "Cost Old: 36589490000.0\n",
      "armijo: True\n",
      "proposed_initial_alpha: 0.6759971507967386\n",
      "(13328906000.0, 11, 0.002297171, 0.05896897, 0.60975385, -0.23996213, 0.928751, 36589490000.0, 35328690000.0)\n",
      "alpha_val: 1.0827034\n",
      "theta_val: 0.40521938\n",
      "inprod_grad_eta_val: -4913407500.0\n",
      "rim_grad_norm: 70095.45\n",
      "Cost New: 33067737000.0\n",
      "Cost Old: 35328690000.0\n",
      "armijo: True\n",
      "proposed_initial_alpha: 0.9203189621548442\n",
      "(12517613000.0, 12, 0.0022261622, 0.031897355, 1.0827034, 0.40521938, 0.565801, 35328690000.0, 33067737000.0)\n",
      "alpha_val: 0.56148857\n",
      "theta_val: -0.30506343\n",
      "inprod_grad_eta_val: -2396906500.0\n",
      "rim_grad_norm: 60474.88\n",
      "Cost New: 32357417000.0\n",
      "Cost Old: 33067737000.0\n",
      "armijo: True\n",
      "proposed_initial_alpha: 0.5926974032448865\n",
      "(11579407000.0, 13, 0.0021411113, 0.0397228, 0.56148857, -0.30506343, 0.971408, 33067737000.0, 32357417000.0)\n",
      "alpha_val: 1.0136505\n",
      "theta_val: 0.4254068\n",
      "inprod_grad_eta_val: -3372149800.0\n",
      "rim_grad_norm: 58070.035\n",
      "Cost New: 31098094000.0\n",
      "Cost Old: 32357417000.0\n",
      "armijo: True\n",
      "proposed_initial_alpha: 0.7468964794730825\n",
      "(11217652000.0, 14, 0.0021074004, 0.015996413, 1.0136505, 0.4254068, 0.52980345, 32357417000.0, 31098094000.0)\n",
      "alpha_val: 0.48616716\n",
      "theta_val: -0.42368147\n",
      "inprod_grad_eta_val: -1244600200.0\n",
      "rim_grad_norm: 49279.855\n",
      "Cost New: 30809725000.0\n",
      "Cost Old: 31098094000.0\n",
      "armijo: True\n",
      "proposed_initial_alpha: 0.46339160455472594\n",
      "(10768763000.0, 15, 0.0020648048, 0.020629393, 0.48616716, -0.42368147, 1.0252929, 31098094000.0, 30809725000.0)\n",
      "alpha_val: 0.92036664\n",
      "theta_val: 0.4826425\n",
      "inprod_grad_eta_val: -2460036400.0\n",
      "rim_grad_norm: 49598.55\n",
      "Cost New: 30075360000.0\n",
      "Cost Old: 30809725000.0\n",
      "armijo: True\n",
      "proposed_initial_alpha: 0.5970364587522974\n",
      "(10662002000.0, 16, 0.002054544, 0.004994221, 0.92036664, 0.4826425, 0.5240707, 30809725000.0, 30075360000.0)\n",
      "alpha_val: 0.41830757\n",
      "theta_val: -0.49737415\n",
      "inprod_grad_eta_val: -734137340.0\n",
      "rim_grad_norm: 41165.613\n",
      "Cost New: 29949389000.0\n",
      "Cost Old: 30075360000.0\n",
      "armijo: True\n",
      "proposed_initial_alpha: 0.3431794691539353\n",
      "(10381459000.0, 17, 0.002027334, 0.013421561, 0.41830757, -0.49737415, 1.0314811, 30075360000.0, 29949389000.0)\n",
      "alpha_val: 0.81778437\n",
      "theta_val: 0.50184757\n",
      "inprod_grad_eta_val: -1871224600.0\n",
      "rim_grad_norm: 43257.504\n",
      "Cost New: 29516270000.0\n",
      "Cost Old: 29949389000.0\n",
      "armijo: True\n",
      "proposed_initial_alpha: 0.46292597644891126\n",
      "(10380845000.0, 18, 0.0020272739, 2.9631075e-05, 0.81778437, 0.50184757, 0.550068, 29949389000.0, 29516270000.0)\n",
      "alpha_val: 0.34937707\n",
      "theta_val: -0.5176456\n",
      "inprod_grad_eta_val: -513200000.0\n",
      "rim_grad_norm: 36684.227\n",
      "Cost New: 29456480000.0\n",
      "Cost Old: 29516270000.0\n",
      "armijo: True\n",
      "proposed_initial_alpha: 0.2330058924395947\n",
      "(10163033000.0, 19, 0.002005893, 0.010659012, 0.34937707, -0.5176456, 1.0914552, 29516270000.0, 29456480000.0)\n",
      "alpha_val: 0.73230493\n",
      "theta_val: 0.5378049\n",
      "inprod_grad_eta_val: -1497379700.0\n",
      "rim_grad_norm: 38695.863\n",
      "Cost New: 29177117000.0\n",
      "Cost Old: 29456480000.0\n",
      "armijo: True\n",
      "proposed_initial_alpha: 0.37313659556247547\n",
      "(10168378000.0, 20, 0.0020064204, 0.00026283695, 0.73230493, 0.5378049, 0.5142754, 29456480000.0, 29177117000.0)\n",
      "alpha_val: 0.30691388\n",
      "theta_val: -0.5335222\n",
      "inprod_grad_eta_val: -386340480.0\n",
      "rim_grad_norm: 33039.508\n",
      "Cost New: 29139898000.0\n",
      "Cost Old: 29177117000.0\n",
      "armijo: True\n",
      "proposed_initial_alpha: 0.19267100356659494\n",
      "(10031314000.0, 21, 0.0019928517, 0.0068086707, 0.30691388, -0.5335222, 1.1179649, 29177117000.0, 29139898000.0)\n",
      "alpha_val: 0.64820707\n",
      "theta_val: 0.50850844\n",
      "inprod_grad_eta_val: -1257861000.0\n",
      "rim_grad_norm: 35466.203\n",
      "Cost New: 28956115000.0\n",
      "Cost Old: 29139898000.0\n",
      "armijo: True\n",
      "proposed_initial_alpha: 0.2922157935874682\n",
      "(10056330000.0, 22, 0.001995335, 0.0012445888, 0.64820707, 0.50850844, 0.5663414, 29139898000.0, 28956115000.0)\n",
      "alpha_val: 0.2699779\n",
      "theta_val: -0.5386204\n",
      "inprod_grad_eta_val: -324361950.0\n",
      "rim_grad_norm: 30075.172\n",
      "Cost New: 28935432000.0\n",
      "Cost Old: 28956115000.0\n",
      "armijo: True\n",
      "proposed_initial_alpha: 0.1275288416071685\n",
      "(9930597000.0, 23, 0.001982822, 0.006310711, 0.2699779, -0.5386204, 1.1064143, 28956115000.0, 28935432000.0)\n",
      "alpha_val: 0.5839535\n",
      "theta_val: 0.5130507\n",
      "inprod_grad_eta_val: -1032865200.0\n",
      "rim_grad_norm: 32138.111\n",
      "Cost New: 28809597000.0\n",
      "Cost Old: 28935432000.0\n",
      "armijo: True\n",
      "proposed_initial_alpha: 0.2436625070739143\n",
      "(9935550000.0, 24, 0.0019833166, 0.0002493461, 0.5839535, 0.5130507, 0.5560436, 28935432000.0, 28809597000.0)\n",
      "alpha_val: 0.23384826\n",
      "theta_val: -0.547801\n",
      "inprod_grad_eta_val: -255347170.0\n",
      "rim_grad_norm: 27524.193\n",
      "Cost New: 28797166000.0\n",
      "Cost Old: 28809597000.0\n",
      "armijo: True\n",
      "proposed_initial_alpha: 0.09736830133945328\n",
      "(9866905000.0, 25, 0.0019764532, 0.0034725748, 0.23384826, -0.547801, 1.1352822, 28809597000.0, 28797166000.0)\n",
      "alpha_val: 0.5061882\n",
      "theta_val: 0.49113366\n",
      "inprod_grad_eta_val: -914537860.0\n",
      "rim_grad_norm: 30241.209\n",
      "Cost New: 28714818000.0\n",
      "Cost Old: 28797166000.0\n",
      "armijo: True\n",
      "proposed_initial_alpha: 0.18008665570209048\n",
      "(9898010000.0, 26, 0.0019795662, 0.0015725393, 0.5061882, 0.49113366, 0.61428875, 28797166000.0, 28714818000.0)\n"
     ]
    },
    {
     "name": "stdout",
     "output_type": "stream",
     "text": [
      "alpha_val: 0.21149655\n",
      "theta_val: -0.5113177\n",
      "inprod_grad_eta_val: -270701200.0\n",
      "rim_grad_norm: 25521.535\n",
      "Cost New: 28706314000.0\n",
      "Cost Old: 28714818000.0\n",
      "armijo: True\n",
      "proposed_initial_alpha: 0.06282422466242335\n",
      "(9799814000.0, 27, 0.0019697223, 0.004997581, 0.21149655, -0.5113177, 1.0763937, 28714818000.0, 28706314000.0)\n",
      "alpha_val: 0.46012276\n",
      "theta_val: 0.42560512\n",
      "inprod_grad_eta_val: -789077100.0\n",
      "rim_grad_norm: 28090.43\n",
      "Cost New: 28645845000.0\n",
      "Cost Old: 28706314000.0\n",
      "armijo: True\n",
      "proposed_initial_alpha: 0.15326574923373776\n",
      "(9831191000.0, 28, 0.001972873, 0.001596993, 0.46012276, 0.42560512, 0.69584626, 28706314000.0, 28645845000.0)\n",
      "alpha_val: 0.197576\n",
      "theta_val: -0.5366001\n",
      "inprod_grad_eta_val: -210025860.0\n",
      "rim_grad_norm: 23885.83\n",
      "Cost New: 28639564000.0\n",
      "Cost Old: 28645845000.0\n",
      "armijo: True\n",
      "proposed_initial_alpha: 0.0598137402663413\n",
      "(9777599000.0, 29, 0.0019674886, 0.002736708, 0.197576, -0.5366001, 1.1110289, 28645845000.0, 28639564000.0)\n",
      "alpha_val: 0.42544925\n",
      "theta_val: 0.4139474\n",
      "inprod_grad_eta_val: -731153800.0\n",
      "rim_grad_norm: 27039.744\n",
      "Cost New: 28593166000.0\n",
      "Cost Old: 28639564000.0\n",
      "armijo: True\n",
      "proposed_initial_alpha: 0.12691567904772624\n",
      "(9804997000.0, 30, 0.0019702432, 0.0013981113, 0.42544925, 0.4139474, 0.7510362, 28639564000.0, 28593166000.0)\n",
      "alpha_val: 0.17464904\n",
      "theta_val: -0.53851837\n",
      "inprod_grad_eta_val: -188579600.0\n",
      "rim_grad_norm: 23502.379\n",
      "Cost New: 28588628000.0\n",
      "Cost Old: 28593166000.0\n",
      "armijo: True\n",
      "proposed_initial_alpha: 0.04813212033539153\n",
      "(9755454000.0, 31, 0.0019652592, 0.0025360384, 0.17464904, -0.53851837, 1.1623074, 28593166000.0, 28588628000.0)\n",
      "alpha_val: 0.40872598\n",
      "theta_val: 0.46878767\n",
      "inprod_grad_eta_val: -667551740.0\n",
      "rim_grad_norm: 25836.916\n",
      "Cost New: 28549630000.0\n",
      "Cost Old: 28588628000.0\n",
      "armijo: True\n",
      "proposed_initial_alpha: 0.11683893076609204\n",
      "(9783172000.0, 32, 0.001968049, 0.0014175342, 0.40872598, 0.46878767, 0.6419865, 28588628000.0, 28549630000.0)\n",
      "alpha_val: 0.16394663\n",
      "theta_val: -0.5383397\n",
      "inprod_grad_eta_val: -167907400.0\n",
      "rim_grad_norm: 22764.227\n",
      "Cost New: 28545288000.0\n",
      "Cost Old: 28549630000.0\n",
      "armijo: True\n",
      "proposed_initial_alpha: 0.05171612694693036\n",
      "(9744835000.0, 33, 0.001964189, 0.0019651195, 0.16394663, -0.5383397, 1.1941985, 28549630000.0, 28545288000.0)\n",
      "alpha_val: 0.3696843\n",
      "theta_val: 0.43049136\n",
      "inprod_grad_eta_val: -633149600.0\n",
      "rim_grad_norm: 25162.375\n",
      "Cost New: 28516209000.0\n",
      "Cost Old: 28545288000.0\n",
      "armijo: True\n",
      "proposed_initial_alpha: 0.09185681699778085\n",
      "(9773317000.0, 34, 0.0019670576, 0.001458256, 0.3696843, 0.43049136, 0.6958217, 28545288000.0, 28516209000.0)\n",
      "alpha_val: 0.14617406\n",
      "theta_val: -0.51453495\n",
      "inprod_grad_eta_val: -184163650.0\n",
      "rim_grad_norm: 21539.568\n",
      "Cost New: 28514312000.0\n",
      "Cost Old: 28516209000.0\n",
      "armijo: True\n",
      "proposed_initial_alpha: 0.020595247982924406\n",
      "(9730090000.0, 35, 0.0019627027, 0.00221881, 0.14617406, -0.51453495, 1.1098149, 28516209000.0, 28514312000.0)\n",
      "alpha_val: 0.35964\n",
      "theta_val: 0.38962436\n",
      "inprod_grad_eta_val: -561169860.0\n",
      "rim_grad_norm: 23688.924\n",
      "Cost New: 28488755000.0\n",
      "Cost Old: 28514312000.0\n",
      "armijo: True\n",
      "proposed_initial_alpha: 0.09108469290267794\n",
      "(9751941000.0, 36, 0.0019649053, 0.0011209588, 0.35964, 0.38962436, 0.7382671, 28514312000.0, 28488755000.0)\n",
      "alpha_val: 0.13641971\n",
      "theta_val: -0.5217132\n",
      "inprod_grad_eta_val: -153964850.0\n",
      "rim_grad_norm: 20835.527\n",
      "Cost New: 28487045000.0\n",
      "Cost Old: 28488755000.0\n",
      "armijo: True\n",
      "proposed_initial_alpha: 0.022213901708265253\n",
      "(9720354000.0, 37, 0.0019617204, 0.001623519, 0.13641971, -0.5217132, 1.1772009, 28488755000.0, 28487045000.0)\n",
      "alpha_val: 0.32624754\n",
      "theta_val: 0.39024648\n",
      "inprod_grad_eta_val: -526544600.0\n",
      "rim_grad_norm: 22946.484\n",
      "Cost New: 28469156000.0\n",
      "Cost Old: 28487045000.0\n",
      "armijo: True\n",
      "proposed_initial_alpha: 0.06794972250480248\n",
      "(9746641000.0, 38, 0.0019643712, 0.0013494277, 0.32624754, 0.39024648, 0.73956764, 28487045000.0, 28469156000.0)\n",
      "alpha_val: 0.10394086\n",
      "theta_val: -0.44367012\n",
      "inprod_grad_eta_val: -193482690.0\n",
      "rim_grad_norm: 20125.81\n",
      "Cost New: 28469117000.0\n",
      "Cost Old: 28469156000.0\n",
      "armijo: True\n",
      "proposed_initial_alpha: 0.00040222720081292234\n",
      "(9705928000.0, 39, 0.0019602643, 0.0020950744, 0.10394086, -0.44367012, 1.1105605, 28469156000.0, 28469117000.0)\n",
      "alpha_val: 0.29353553\n",
      "theta_val: 0.42672062\n",
      "inprod_grad_eta_val: -453847840.0\n",
      "rim_grad_norm: 21303.623\n",
      "Cost New: 28456497000.0\n",
      "Cost Old: 28469117000.0\n",
      "armijo: True\n",
      "proposed_initial_alpha: 0.05561236558931293\n",
      "(9723580000.0, 40, 0.001962046, 0.000908042, 0.29353553, 0.42672062, 0.6423423, 28469117000.0, 28456497000.0)\n",
      "alpha_val: 0.113410994\n",
      "theta_val: -0.45449802\n",
      "inprod_grad_eta_val: -155055410.0\n",
      "rim_grad_norm: 19829.723\n",
      "Cost New: 28455420000.0\n",
      "Cost Old: 28456497000.0\n",
      "armijo: True\n",
      "proposed_initial_alpha: 0.013895007131902165\n",
      "(9702843000.0, 41, 0.0019599528, 0.0010679581, 0.113410994, -0.45449802, 1.2601998, 28456497000.0, 28455420000.0)\n",
      "alpha_val: 0.29829118\n",
      "theta_val: 0.41034213\n",
      "inprod_grad_eta_val: -449985820.0\n",
      "rim_grad_norm: 21212.799\n",
      "Cost New: 28441946000.0\n",
      "Cost Old: 28455420000.0\n",
      "armijo: True\n",
      "proposed_initial_alpha: 0.059885406523384165\n",
      "(9715764000.0, 42, 0.0019612573, 0.00066516007, 0.29829118, 0.41034213, 0.67478096, 28455420000.0, 28441946000.0)\n",
      "alpha_val: 0.10429687\n",
      "theta_val: -0.49480894\n",
      "inprod_grad_eta_val: -125144570.0\n",
      "rim_grad_norm: 19901.95\n",
      "Cost New: 28441250000.0\n",
      "Cost Old: 28441946000.0\n",
      "armijo: True\n",
      "proposed_initial_alpha: 0.011128249689591002\n",
      "(9718367000.0, 43, 0.00196152, 0.00013389258, 0.10429687, -0.49480894, 1.3157741, 28441946000.0, 28441250000.0)\n",
      "alpha_val: 0.30167463\n",
      "theta_val: 0.44431338\n",
      "inprod_grad_eta_val: -466137760.0\n",
      "rim_grad_norm: 21590.139\n",
      "Cost New: 28426926000.0\n",
      "Cost Old: 28441250000.0\n",
      "armijo: True\n",
      "proposed_initial_alpha: 0.061456990740248116\n",
      "(9727978000.0, 44, 0.0019624897, 0.00049413746, 0.30167463, 0.44431338, 0.6539578, 28441250000.0, 28426926000.0)\n",
      "alpha_val: 0.1158961\n",
      "theta_val: -0.56029624\n",
      "inprod_grad_eta_val: -92928790.0\n",
      "rim_grad_norm: 19652.482\n",
      "Cost New: 28425679000.0\n",
      "Cost Old: 28426926000.0\n",
      "armijo: True\n",
      "proposed_initial_alpha: 0.02684274643320447\n",
      "(9703146000.0, 45, 0.0019599833, 0.0012787976, 0.1158961, -0.56029624, 1.2927977, 28426926000.0, 28425679000.0)\n",
      "alpha_val: 0.2611002\n",
      "theta_val: 0.48996213\n",
      "inprod_grad_eta_val: -462796030.0\n",
      "rim_grad_norm: 21512.607\n",
      "Cost New: 28415484000.0\n",
      "Cost Old: 28425679000.0\n",
      "armijo: True\n",
      "proposed_initial_alpha: 0.04405804412774222\n",
      "(9722338000.0, 46, 0.0019619206, 0.0009874934, 0.2611002, 0.48996213, 0.6111589, 28425679000.0, 28415484000.0)\n",
      "alpha_val: 0.11583309\n",
      "theta_val: -0.44890714\n",
      "inprod_grad_eta_val: -166186780.0\n",
      "rim_grad_norm: 19280.752\n",
      "Cost New: 28414552000.0\n",
      "Cost Old: 28415484000.0\n",
      "armijo: True\n",
      "proposed_initial_alpha: 0.011214369489212813\n",
      "(9695803000.0, 47, 0.0019592415, 0.001367459, 0.11583309, -0.44890714, 1.1638635, 28415484000.0, 28414552000.0)\n",
      "alpha_val: 0.27674392\n",
      "theta_val: 0.33910355\n",
      "inprod_grad_eta_val: -447913300.0\n",
      "rim_grad_norm: 21163.867\n",
      "Cost New: 28403077000.0\n",
      "Cost Old: 28414552000.0\n",
      "armijo: True\n",
      "proposed_initial_alpha: 0.05123734299729855\n",
      "(9712937000.0, 48, 0.0019609719, 0.00088241824, 0.27674392, 0.33910355, 0.79629886, 28414552000.0, 28403077000.0)\n",
      "alpha_val: 0.10184144\n",
      "theta_val: -0.56802565\n",
      "inprod_grad_eta_val: -82750550.0\n",
      "rim_grad_norm: 19383.766\n",
      "Cost New: 28402166000.0\n",
      "Cost Old: 28403077000.0\n",
      "armijo: True\n",
      "proposed_initial_alpha: 0.02202668086129504\n",
      "(9695989000.0, 49, 0.0019592603, 0.0008735634, 0.10184144, -0.56802565, 1.315341, 28403077000.0, 28402166000.0)\n",
      "alpha_val: 0.26684213\n",
      "theta_val: 0.4642236\n",
      "inprod_grad_eta_val: -453677820.0\n",
      "rim_grad_norm: 21299.639\n",
      "Cost New: 28391797000.0\n",
      "Cost Old: 28402166000.0\n",
      "armijo: True\n",
      "proposed_initial_alpha: 0.04571095809170518\n",
      "(9719718000.0, 50, 0.0019616561, 0.0012213289, 0.26684213, 0.4642236, 0.6469221, 28402166000.0, 28391797000.0)\n",
      "alpha_val: 0.09932664\n",
      "theta_val: -0.5142574\n",
      "inprod_grad_eta_val: -128314270.0\n",
      "rim_grad_norm: 18885.738\n",
      "Cost New: 28391318000.0\n",
      "Cost Old: 28391797000.0\n",
      "armijo: True\n",
      "proposed_initial_alpha: 0.007469660116997742\n",
      "(9684823000.0, 51, 0.0019581318, 0.0017998571, 0.09932664, -0.5142574, 1.1904839, 28391797000.0, 28391318000.0)\n",
      "alpha_val: 0.24328189\n",
      "theta_val: 0.3799859\n",
      "inprod_grad_eta_val: -418185020.0\n",
      "rim_grad_norm: 20449.479\n",
      "Cost New: 28383533000.0\n",
      "Cost Old: 28391318000.0\n",
      "armijo: True\n",
      "proposed_initial_alpha: 0.03722968328966271\n",
      "(9699588000.0, 52, 0.0019596238, 0.0007613598, 0.24328189, 0.3799859, 0.7269396, 28391318000.0, 28383533000.0)\n"
     ]
    },
    {
     "name": "stdout",
     "output_type": "stream",
     "text": [
      "alpha_val: 0.07180918\n",
      "theta_val: -0.48718655\n",
      "inprod_grad_eta_val: -132706380.0\n",
      "rim_grad_norm: 17981.137\n",
      "Cost New: 28383592000.0\n",
      "Cost Old: 28383533000.0\n",
      "armijo: False\n",
      "proposed_initial_alpha: -0.0008950888150188765\n",
      "Backtracking\n",
      "Learning Rate: 0.03590459004044533\n",
      "Max_TT rank63\n",
      "[1, 53, 63, 63, 1]\n",
      "proposed_initial_alpha: -0.0008950888150188765\n",
      "proposed_step_size: 118784.0\n",
      "Cost New: 28384129723.535645\n",
      "Cost Old: 28383533000.0\n",
      "backtrackiter_count: 1\n",
      "Backtracking\n",
      "Learning Rate: 0.017952295020222664\n",
      "Max_TT rank63\n",
      "[1, 53, 63, 63, 1]\n",
      "proposed_initial_alpha: 59392.0\n",
      "proposed_step_size: -7881697558528.0\n",
      "Cost New: 28383653203.723145\n",
      "Cost Old: 28383533000.0\n",
      "backtrackiter_count: 2\n",
      "Backtracking\n",
      "Learning Rate: 0.008976147510111332\n",
      "Max_TT rank63\n",
      "[1, 53, 63, 63, 1]\n",
      "proposed_initial_alpha: -3940848779264.0\n",
      "proposed_step_size: 5.229757913869396e+20\n",
      "Cost New: 28383519183.246582\n",
      "Cost Old: 28383533000.0\n",
      "backtrackiter_count: 3\n",
      "(9690835000.0, 53, 0.0019587395, 0.0004514591, 0.07180918, -0.48718655, 1.1498337, 28383533000.0, 28383592000.0)\n",
      "alpha_val: 0.20687467\n",
      "theta_val: 0.41839916\n",
      "inprod_grad_eta_val: -373749120.0\n",
      "rim_grad_norm: 19332.52\n",
      "Cost New: 28379126000.0\n",
      "Cost Old: 28383592000.0\n",
      "armijo: True\n",
      "proposed_initial_alpha: 0.02390206564232178\n",
      "(9694600000.0, 54, 0.00195912, 0.00019419193, 0.20687467, 0.41839916, 0.67230684, 28383592000.0, 28379126000.0)\n",
      "alpha_val: 0.09067475\n",
      "theta_val: -0.4496359\n",
      "inprod_grad_eta_val: -135112200.0\n",
      "rim_grad_norm: 17475.611\n",
      "Cost New: 28378767000.0\n",
      "Cost Old: 28379126000.0\n",
      "armijo: True\n",
      "proposed_initial_alpha: 0.005305220716129008\n",
      "(9676050000.0, 55, 0.0019572447, 0.0009580907, 0.09067475, -0.4496359, 1.1845322, 28379126000.0, 28378767000.0)\n",
      "alpha_val: 0.21275452\n",
      "theta_val: 0.32525373\n",
      "inprod_grad_eta_val: -364405860.0\n",
      "rim_grad_norm: 19089.352\n",
      "Cost New: 28373790000.0\n",
      "Cost Old: 28378767000.0\n",
      "armijo: True\n",
      "proposed_initial_alpha: 0.027313721325049178\n",
      "(9690648000.0, 56, 0.0019587206, 0.00075350894, 0.21275452, 0.32525373, 0.80511534, 28378767000.0, 28373790000.0)\n",
      "alpha_val: 0.08227161\n",
      "theta_val: -0.48701733\n",
      "inprod_grad_eta_val: -109914760.0\n",
      "rim_grad_norm: 17594.025\n",
      "Cost New: 28373588000.0\n",
      "Cost Old: 28373790000.0\n",
      "armijo: True\n",
      "proposed_initial_alpha: 0.0036892588402139986\n",
      "(9685251000.0, 57, 0.001958175, 0.00027858705, 0.08227161, -0.48701733, 1.2631768, 28373790000.0, 28373588000.0)\n",
      "alpha_val: 0.2205887\n",
      "theta_val: 0.395547\n",
      "inprod_grad_eta_val: -361836220.0\n",
      "rim_grad_norm: 19021.91\n",
      "Cost New: 28368226000.0\n",
      "Cost Old: 28373588000.0\n",
      "armijo: True\n",
      "proposed_initial_alpha: 0.02963586089158392\n",
      "(9689394000.0, 58, 0.001958594, 0.00021385869, 0.2205887, 0.395547, 0.7065459, 28373588000.0, 28368226000.0)\n",
      "alpha_val: 0.09918773\n",
      "theta_val: -0.52396065\n",
      "inprod_grad_eta_val: -80282710.0\n",
      "rim_grad_norm: 18151.293\n",
      "Cost New: 28367612000.0\n",
      "Cost Old: 28368226000.0\n",
      "armijo: True\n",
      "proposed_initial_alpha: 0.015305910443085182\n",
      "(9688601000.0, 59, 0.0019585136, 4.101405e-05, 0.09918773, -0.52396065, 1.3876518, 28368226000.0, 28367612000.0)\n",
      "alpha_val: 0.23053747\n",
      "theta_val: 0.37782452\n",
      "inprod_grad_eta_val: -387115940.0\n",
      "rim_grad_norm: 19675.184\n",
      "Cost New: 28361058000.0\n",
      "Cost Old: 28367612000.0\n",
      "armijo: True\n",
      "proposed_initial_alpha: 0.03385859062128613\n",
      "(9711327000.0, 60, 0.0019608093, 0.0011707973, 0.23053747, 0.37782452, 0.7310306, 28367612000.0, 28361058000.0)\n",
      "alpha_val: 0.100512244\n",
      "theta_val: -0.529143\n",
      "inprod_grad_eta_val: -99318216.0\n",
      "rim_grad_norm: 17694.66\n",
      "Cost New: 28360510000.0\n",
      "Cost Old: 28361058000.0\n",
      "armijo: True\n",
      "proposed_initial_alpha: 0.011052635097674329\n",
      "(9671684000.0, 61, 0.001956803, 0.0020473788, 0.100512244, -0.529143, 1.2367866, 28361058000.0, 28360510000.0)\n",
      "alpha_val: 0.22889988\n",
      "theta_val: 0.3790681\n",
      "inprod_grad_eta_val: -384173150.0\n",
      "rim_grad_norm: 19600.254\n",
      "Cost New: 28354191000.0\n",
      "Cost Old: 28360510000.0\n",
      "armijo: True\n",
      "proposed_initial_alpha: 0.03289183518998225\n",
      "(9697995000.0, 62, 0.0019594629, 0.001357442, 0.22889988, 0.3790681, 0.76187444, 28360510000.0, 28354191000.0)\n",
      "alpha_val: 0.10312921\n",
      "theta_val: -0.54438007\n",
      "inprod_grad_eta_val: -77802090.0\n",
      "rim_grad_norm: 18381.982\n",
      "Cost New: 28353552000.0\n",
      "Cost Old: 28354191000.0\n",
      "armijo: True\n",
      "proposed_initial_alpha: 0.0164256774188374\n",
      "(9683083000.0, 63, 0.001957956, 0.0007696189, 0.10312921, -0.54438007, 1.358362, 28354191000.0, 28353552000.0)\n",
      "alpha_val: 0.25139847\n",
      "theta_val: 0.38692933\n",
      "inprod_grad_eta_val: -409997220.0\n",
      "rim_grad_norm: 20248.318\n",
      "Cost New: 28345299000.0\n",
      "Cost Old: 28353552000.0\n",
      "armijo: True\n",
      "proposed_initial_alpha: 0.04026095630854235\n",
      "(9712280000.0, 64, 0.0019609055, 0.0015041513, 0.25139847, 0.38692933, 0.74388015, 28353552000.0, 28345299000.0)\n",
      "alpha_val: 0.086588524\n",
      "theta_val: -0.6093479\n",
      "inprod_grad_eta_val: -52927060.0\n",
      "rim_grad_norm: 18484.342\n",
      "Cost New: 28345078000.0\n",
      "Cost Old: 28345299000.0\n",
      "armijo: True\n",
      "proposed_initial_alpha: 0.00835806863256716\n",
      "(9681635000.0, 65, 0.0019578096, 0.0015813331, 0.086588524, -0.6093479, 1.3411621, 28345299000.0, 28345078000.0)\n",
      "alpha_val: 0.22312286\n",
      "theta_val: 0.50744194\n",
      "inprod_grad_eta_val: -400052200.0\n",
      "rim_grad_norm: 20001.209\n",
      "Cost New: 28338970000.0\n",
      "Cost Old: 28345078000.0\n",
      "armijo: True\n",
      "proposed_initial_alpha: 0.030531696224276657\n",
      "(9698275000.0, 66, 0.0019594913, 0.0008582512, 0.22312286, 0.50744194, 0.57671607, 28345078000.0, 28338970000.0)\n",
      "alpha_val: 0.08894303\n",
      "theta_val: -0.4989403\n",
      "inprod_grad_eta_val: -122800296.0\n",
      "rim_grad_norm: 17585.062\n",
      "Cost New: 28338893000.0\n",
      "Cost Old: 28338970000.0\n",
      "armijo: True\n",
      "proposed_initial_alpha: 0.0012674888014927912\n",
      "(9674290000.0, 67, 0.0019570666, 0.0012389453, 0.08894303, -0.4989403, 1.1586666, 28338970000.0, 28338893000.0)\n",
      "alpha_val: 0.20276229\n",
      "theta_val: 0.36034456\n",
      "inprod_grad_eta_val: -352399970.0\n",
      "rim_grad_norm: 18772.244\n",
      "Cost New: 28334408000.0\n",
      "Cost Old: 28338893000.0\n",
      "armijo: True\n",
      "proposed_initial_alpha: 0.025454712867624324\n",
      "(9697126000.0, 68, 0.001959375, 0.0011781899, 0.20276229, 0.36034456, 0.7289392, 28338893000.0, 28334408000.0)\n",
      "alpha_val: 0.056883235\n",
      "theta_val: -0.44782624\n",
      "inprod_grad_eta_val: -126654690.0\n",
      "rim_grad_norm: 17267.438\n",
      "Cost New: 28334612000.0\n",
      "Cost Old: 28334408000.0\n",
      "armijo: False\n",
      "proposed_initial_alpha: -0.0032339900438584633\n",
      "Backtracking\n",
      "Learning Rate: 0.028441617265343666\n",
      "Max_TT rank63\n",
      "[1, 53, 63, 63, 1]\n",
      "proposed_initial_alpha: -0.0032339900438584633\n",
      "proposed_step_size: 409600.0\n",
      "Cost New: 28334953887.12024\n",
      "Cost Old: 28334408000.0\n",
      "backtrackiter_count: 1\n",
      "Backtracking\n",
      "Learning Rate: 0.014220808632671833\n",
      "Max_TT rank63\n",
      "[1, 53, 63, 63, 1]\n",
      "proposed_initial_alpha: 204800.0\n",
      "proposed_step_size: -25938880102400.0\n",
      "Cost New: 28334607965.34424\n",
      "Cost Old: 28334408000.0\n",
      "backtrackiter_count: 2\n",
      "Backtracking\n",
      "Learning Rate: 0.0071104043163359165\n",
      "Max_TT rank63\n",
      "[1, 53, 63, 63, 1]\n",
      "proposed_initial_alpha: -12969440051200.0\n",
      "proposed_step_size: 1.64264038321944e+21\n",
      "Cost New: 28334555891.28125\n",
      "Cost Old: 28334408000.0\n",
      "backtrackiter_count: 3\n",
      "Backtracking\n",
      "Learning Rate: 0.0035552021581679583\n",
      "Max_TT rank63\n",
      "[1, 53, 63, 63, 1]\n",
      "proposed_initial_alpha: 8.2132019160972e+20\n",
      "proposed_step_size: -1.040240526164293e+29\n",
      "Cost New: 28334488938.984863\n",
      "Cost Old: 28334408000.0\n",
      "backtrackiter_count: 4\n",
      "Backtracking\n",
      "Learning Rate: 0.0017776010790839791\n",
      "Max_TT rank63\n",
      "[1, 53, 63, 63, 1]\n",
      "proposed_initial_alpha: -5.201202630821465e+28\n",
      "proposed_step_size: 6.587566964314719e+36\n",
      "Cost New: 28334418267.20227\n",
      "Cost Old: 28334408000.0\n",
      "backtrackiter_count: 5\n",
      "backtracing stopped after: 5\n",
      "not updating X: initial cost: 28334408000.0; New Cost: 28334418267.20227\n",
      "(9670588000.0, 69, 0.0019566922, 0.0013711444, 0.056883235, -0.44782624, 1.2250087, 28334408000.0, 28334612000.0)\n",
      "alpha_val: 0.20173667\n",
      "theta_val: 0.47212762\n",
      "inprod_grad_eta_val: -337720640.0\n",
      "rim_grad_norm: 18377.1\n",
      "Cost New: 28330936000.0\n",
      "Cost Old: 28334612000.0\n",
      "armijo: True\n",
      "proposed_initial_alpha: 0.02177041948043211\n",
      "(9681005000.0, 70, 0.0019577458, 0.00053814886, 0.20173667, 0.47212762, 0.59789866, 28334612000.0, 28330936000.0)\n",
      "alpha_val: 0.07903912\n",
      "theta_val: -0.55878884\n",
      "inprod_grad_eta_val: -52770010.0\n",
      "rim_grad_norm: 17593.361\n",
      "Cost New: 28330730000.0\n",
      "Cost Old: 28330936000.0\n",
      "armijo: True\n",
      "proposed_initial_alpha: 0.007839604648155444\n",
      "(9679970000.0, 71, 0.0019576412, 5.340149e-05, 0.07903912, -0.55878884, 1.4286671, 28330936000.0, 28330730000.0)\n",
      "alpha_val: 0.1989209\n",
      "theta_val: 0.46035686\n",
      "inprod_grad_eta_val: -356887970.0\n",
      "rim_grad_norm: 18891.416\n",
      "Cost New: 28326363000.0\n",
      "Cost Old: 28330730000.0\n",
      "armijo: True\n",
      "proposed_initial_alpha: 0.02446894483144918\n",
      "(9697625000.0, 72, 0.0019594256, 0.0009106822, 0.1989209, 0.46035686, 0.6222111, 28330730000.0, 28326363000.0)\n"
     ]
    },
    {
     "name": "stdout",
     "output_type": "stream",
     "text": [
      "alpha_val: 0.06654673\n",
      "theta_val: -0.51389086\n",
      "inprod_grad_eta_val: -94313420.0\n",
      "rim_grad_norm: 17442.31\n",
      "Cost New: 28326564000.0\n",
      "Cost Old: 28326363000.0\n",
      "armijo: False\n",
      "proposed_initial_alpha: -0.004256106744677195\n",
      "Backtracking\n",
      "Learning Rate: 0.0332733653485775\n",
      "Max_TT rank63\n",
      "[1, 53, 63, 63, 1]\n",
      "proposed_initial_alpha: -0.004256106744677195\n",
      "proposed_step_size: 401408.0\n",
      "Cost New: 28327091197.52942\n",
      "Cost Old: 28326363000.0\n",
      "backtrackiter_count: 1\n",
      "Backtracking\n",
      "Learning Rate: 0.01663668267428875\n",
      "Max_TT rank63\n",
      "[1, 53, 63, 63, 1]\n",
      "proposed_initial_alpha: 200704.0\n",
      "proposed_step_size: -18929081450496.0\n",
      "Cost New: 28326641190.125\n",
      "Cost Old: 28326363000.0\n",
      "backtrackiter_count: 2\n",
      "Backtracking\n",
      "Learning Rate: 0.008318341337144375\n",
      "Max_TT rank63\n",
      "[1, 53, 63, 63, 1]\n",
      "proposed_initial_alpha: -9464540725248.0\n",
      "proposed_step_size: 8.926332423855821e+20\n",
      "Cost New: 28326451518.653442\n",
      "Cost Old: 28326363000.0\n",
      "backtrackiter_count: 3\n",
      "Backtracking\n",
      "Learning Rate: 0.004159170668572187\n",
      "Max_TT rank63\n",
      "[1, 53, 63, 63, 1]\n",
      "proposed_initial_alpha: 4.4631662119279106e+20\n",
      "proposed_step_size: -4.209364873280309e+28\n",
      "Cost New: 28326399452.08606\n",
      "Cost Old: 28326363000.0\n",
      "backtrackiter_count: 4\n",
      "Backtracking\n",
      "Learning Rate: 0.0020795853342860937\n",
      "Max_TT rank63\n",
      "[1, 53, 63, 63, 1]\n",
      "proposed_initial_alpha: -2.1046824366401544e+28\n",
      "proposed_step_size: 1.9849980703219604e+36\n",
      "Cost New: 28326358542.67383\n",
      "Cost Old: 28326363000.0\n",
      "backtrackiter_count: 5\n",
      "backtracing stopped after: 5\n",
      "updating X: initial cost: 28326363000.0; New Cost: 28326358542.67383\n",
      "(9671156000.0, 73, 0.0019567497, 0.0013675344, 0.06654673, -0.51389086, 1.2905471, 28326363000.0, 28326564000.0)\n",
      "alpha_val: 0.22960763\n",
      "theta_val: 0.38511398\n",
      "inprod_grad_eta_val: -365038620.0\n",
      "rim_grad_norm: 19105.904\n",
      "Cost New: 28320379000.0\n",
      "Cost Old: 28326652000.0\n",
      "armijo: True\n",
      "proposed_initial_alpha: 0.03436909733694372\n",
      "(9683337000.0, 74, 0.0019579816, 0.00062917185, 0.22960763, 0.38511398, 0.7377716, 28326652000.0, 28320379000.0)\n",
      "alpha_val: 0.07850319\n",
      "theta_val: -0.6065866\n",
      "inprod_grad_eta_val: -10977758.0\n",
      "rim_grad_norm: 18741.016\n",
      "Cost New: 28319881000.0\n",
      "Cost Old: 28320379000.0\n",
      "armijo: True\n",
      "proposed_initial_alpha: 0.09066769371305143\n",
      "(9690412000.0, 75, 0.0019586969, 0.0003651692, 0.07850319, -0.6065866, 1.545806, 28320379000.0, 28319881000.0)\n",
      "alpha_val: 0.23701662\n",
      "theta_val: 0.5672474\n",
      "inprod_grad_eta_val: -376909400.0\n",
      "rim_grad_norm: 19414.074\n",
      "Cost New: 28313057000.0\n",
      "Cost Old: 28319881000.0\n",
      "armijo: True\n",
      "proposed_initial_alpha: 0.036209953135475995\n",
      "(9704500000.0, 76, 0.00196012, 0.00072600704, 0.23701662, 0.5672474, 0.4643944, 28319881000.0, 28313057000.0)\n",
      "alpha_val: 0.07252957\n",
      "theta_val: -0.5388349\n",
      "inprod_grad_eta_val: -80266420.0\n",
      "rim_grad_norm: 18160.967\n",
      "Cost New: 28312832000.0\n",
      "Cost Old: 28313057000.0\n",
      "armijo: True\n",
      "proposed_initial_alpha: 0.005613306566472334\n",
      "(9679409000.0, 77, 0.0019575844, 0.0012952319, 0.07252957, -0.5388349, 1.3465915, 28313057000.0, 28312832000.0)\n",
      "alpha_val: 0.22695\n",
      "theta_val: 0.43740848\n",
      "inprod_grad_eta_val: -378336130.0\n",
      "rim_grad_norm: 19450.79\n",
      "Cost New: 28307040000.0\n",
      "Cost Old: 28312832000.0\n",
      "armijo: True\n",
      "proposed_initial_alpha: 0.03061692273807909\n",
      "(9688633000.0, 78, 0.001958517, 0.00047611882, 0.22695, 0.43740848, 0.64534223, 28312832000.0, 28307040000.0)\n",
      "alpha_val: 0.0800895\n",
      "theta_val: -0.5764026\n",
      "inprod_grad_eta_val: -57932864.0\n",
      "rim_grad_norm: 18192.08\n",
      "Cost New: 28306708000.0\n",
      "Cost Old: 28307040000.0\n",
      "armijo: True\n",
      "proposed_initial_alpha: 0.011453809706352512\n",
      "(9678941000.0, 79, 0.0019575371, 0.00050050206, 0.0800895, -0.5764026, 1.3789798, 28307040000.0, 28306708000.0)\n",
      "alpha_val: 0.22679286\n",
      "theta_val: 0.4665251\n",
      "inprod_grad_eta_val: -374366700.0\n",
      "rim_grad_norm: 19348.479\n",
      "Cost New: 28300435000.0\n",
      "Cost Old: 28306708000.0\n",
      "armijo: True\n",
      "proposed_initial_alpha: 0.03351272536300025\n",
      "(9698647000.0, 80, 0.0019595288, 0.0010163838, 0.22679286, 0.4665251, 0.6034516, 28306708000.0, 28300435000.0)\n",
      "alpha_val: 0.08192619\n",
      "theta_val: -0.5546065\n",
      "inprod_grad_eta_val: -75699144.0\n",
      "rim_grad_norm: 17809.803\n",
      "Cost New: 28300288000.0\n",
      "Cost Old: 28300435000.0\n",
      "armijo: True\n",
      "proposed_initial_alpha: 0.003895843260790373\n",
      "(9668555000.0, 81, 0.0019564866, 0.0015549123, 0.08192619, -0.5546065, 1.31718, 28300435000.0, 28300288000.0)\n",
      "alpha_val: 0.22260436\n",
      "theta_val: 0.46770066\n",
      "inprod_grad_eta_val: -361976400.0\n",
      "rim_grad_norm: 19025.586\n",
      "Cost New: 28294840000.0\n",
      "Cost Old: 28300288000.0\n",
      "armijo: True\n",
      "proposed_initial_alpha: 0.03009964318556207\n",
      "(9692733000.0, 82, 0.0019589313, 0.0012479875, 0.22260436, 0.46770066, 0.6074544, 28300288000.0, 28294840000.0)\n",
      "alpha_val: 0.040266618\n",
      "theta_val: -0.59676945\n",
      "inprod_grad_eta_val: -51695252.0\n",
      "rim_grad_norm: 17424.893\n",
      "Cost New: 28295076000.0\n",
      "Cost Old: 28294840000.0\n",
      "armijo: False\n",
      "proposed_initial_alpha: -0.009111861955910381\n",
      "Backtracking\n",
      "Learning Rate: 0.020133309066295624\n",
      "Max_TT rank63\n",
      "[1, 53, 63, 63, 1]\n",
      "proposed_initial_alpha: -0.009111861955910381\n",
      "proposed_step_size: 471040.00000000006\n",
      "Cost New: 28295097516.564453\n",
      "Cost Old: 28294840000.0\n",
      "backtrackiter_count: 1\n",
      "Backtracking\n",
      "Learning Rate: 0.010066654533147812\n",
      "Max_TT rank63\n",
      "[1, 53, 63, 63, 1]\n",
      "proposed_initial_alpha: 235520.00000000003\n",
      "proposed_step_size: -12175265751040.002\n",
      "Cost New: 28294844762.257812\n",
      "Cost Old: 28294840000.0\n",
      "backtrackiter_count: 2\n",
      "Backtracking\n",
      "Learning Rate: 0.005033327266573906\n",
      "Max_TT rank63\n",
      "[1, 53, 63, 63, 1]\n",
      "proposed_initial_alpha: -6087632875520.001\n",
      "proposed_step_size: 3.147017155834911e+20\n",
      "Cost New: 28294826177.42688\n",
      "Cost Old: 28294840000.0\n",
      "backtrackiter_count: 3\n",
      "(9681150000.0, 83, 0.0019577604, 0.00059808407, 0.040266618, -0.59676945, 1.3393883, 28294840000.0, 28295076000.0)\n",
      "alpha_val: 0.17728372\n",
      "theta_val: 0.6826473\n",
      "inprod_grad_eta_val: -322063170.0\n",
      "rim_grad_norm: 17946.04\n",
      "Cost New: 28292176000.0\n",
      "Cost Old: 28295076000.0\n",
      "armijo: True\n",
      "proposed_initial_alpha: 0.01800869076714789\n",
      "(9676000000.0, 84, 0.0019572396, 0.00026611058, 0.17728372, 0.6826473, 0.33661938, 28295076000.0, 28292176000.0)\n",
      "alpha_val: 0.051578615\n",
      "theta_val: -0.45338476\n",
      "inprod_grad_eta_val: -112205416.0\n",
      "rim_grad_norm: 16727.992\n",
      "Cost New: 28292360000.0\n",
      "Cost Old: 28292176000.0\n",
      "armijo: False\n",
      "proposed_initial_alpha: -0.003285402907823986\n",
      "Backtracking\n",
      "Learning Rate: 0.025789307430386543\n",
      "Max_TT rank63\n",
      "[1, 53, 63, 63, 1]\n",
      "proposed_initial_alpha: -0.003285402907823986\n",
      "proposed_step_size: 368640.0\n",
      "Cost New: 28292644360.695312\n",
      "Cost Old: 28292176000.0\n",
      "backtrackiter_count: 1\n",
      "Backtracking\n",
      "Learning Rate: 0.012894653715193272\n",
      "Max_TT rank63\n",
      "[1, 53, 63, 63, 1]\n",
      "proposed_initial_alpha: 184320.0\n",
      "proposed_step_size: -20681702277120.0\n",
      "Cost New: 28292376750.125\n",
      "Cost Old: 28292176000.0\n",
      "backtrackiter_count: 2\n",
      "Backtracking\n",
      "Learning Rate: 0.006447326857596636\n",
      "Max_TT rank63\n",
      "[1, 53, 63, 63, 1]\n",
      "proposed_initial_alpha: -10340851138560.0\n",
      "proposed_step_size: 1.1602995037961984e+21\n",
      "Cost New: 28292242945.314453\n",
      "Cost Old: 28292176000.0\n",
      "backtrackiter_count: 3\n",
      "Backtracking\n",
      "Learning Rate: 0.003223663428798318\n",
      "Max_TT rank63\n",
      "[1, 53, 63, 63, 1]\n",
      "proposed_initial_alpha: 5.801497518980992e+20\n",
      "proposed_step_size: -6.5095944254023015e+28\n",
      "Cost New: 28292202060.57434\n",
      "Cost Old: 28292176000.0\n",
      "backtrackiter_count: 4\n",
      "Backtracking\n",
      "Learning Rate: 0.001611831714399159\n",
      "Max_TT rank63\n",
      "[1, 53, 63, 63, 1]\n",
      "proposed_initial_alpha: -3.2547972127011508e+28\n",
      "proposed_step_size: 3.652058752467731e+36\n",
      "Cost New: 28292131441.547363\n",
      "Cost Old: 28292176000.0\n",
      "backtrackiter_count: 5\n",
      "backtracing stopped after: 5\n",
      "updating X: initial cost: 28292176000.0; New Cost: 28292131441.547363\n",
      "(9673210000.0, 85, 0.0019569574, 0.00014419871, 0.051578615, -0.45338476, 1.2627898, 28292176000.0, 28292360000.0)\n",
      "alpha_val: 0.21842878\n",
      "theta_val: 0.4467064\n",
      "inprod_grad_eta_val: -330897280.0\n",
      "rim_grad_norm: 18190.533\n",
      "Cost New: 28287620000.0\n",
      "Cost Old: 28292415000.0\n",
      "armijo: True\n",
      "proposed_initial_alpha: 0.028990362205455422\n",
      "(9666877000.0, 86, 0.0019563169, 0.00032740968, 0.21842878, 0.4467064, 0.65427256, 28292415000.0, 28287620000.0)\n",
      "alpha_val: 0.10315409\n",
      "theta_val: -0.6350921\n",
      "inprod_grad_eta_val: 17172488.0\n",
      "rim_grad_norm: 18058.254\n",
      "Cost New: 28286650000.0\n",
      "Cost Old: 28287620000.0\n",
      "armijo: True\n",
      "proposed_initial_alpha: -0.11282046026178617\n",
      "(9685680000.0, 87, 0.0019582184, 0.00097104994, 0.10315409, -0.6350921, 1.611398, 28287620000.0, 28286650000.0)\n",
      "alpha_val: 0.24118423\n",
      "theta_val: 0.5662995\n",
      "inprod_grad_eta_val: -384672700.0\n",
      "rim_grad_norm: 19612.996\n",
      "Cost New: 28279366000.0\n",
      "Cost Old: 28286650000.0\n",
      "armijo: True\n",
      "proposed_initial_alpha: 0.03787498267618178\n",
      "(9696915000.0, 88, 0.001959354, 0.00057953544, 0.24118423, 0.5662995, 0.51159555, 28286650000.0, 28279366000.0)\n"
     ]
    },
    {
     "name": "stdout",
     "output_type": "stream",
     "text": [
      "alpha_val: 0.10594517\n",
      "theta_val: -0.5739749\n",
      "inprod_grad_eta_val: -51617372.0\n",
      "rim_grad_norm: 18742.117\n",
      "Cost New: 28278297000.0\n",
      "Cost Old: 28279366000.0\n",
      "armijo: True\n",
      "proposed_initial_alpha: 0.04142233355080534\n",
      "(9690673000.0, 89, 0.0019587232, 0.000322015, 0.10594517, -0.5739749, 1.4372971, 28279366000.0, 28278297000.0)\n",
      "alpha_val: 0.2603932\n",
      "theta_val: 0.47741055\n",
      "inprod_grad_eta_val: -409032320.0\n",
      "rim_grad_norm: 20224.455\n",
      "Cost New: 28268913000.0\n",
      "Cost Old: 28278297000.0\n",
      "armijo: True\n",
      "proposed_initial_alpha: 0.04588359179049714\n",
      "(9703568000.0, 90, 0.0019600259, 0.0006646277, 0.2603932, 0.47741055, 0.608524, 28278297000.0, 28268913000.0)\n",
      "alpha_val: 0.07596908\n",
      "theta_val: -0.6885198\n",
      "inprod_grad_eta_val: -2025095.2\n",
      "rim_grad_norm: 18428.998\n",
      "Cost New: 28268775000.0\n",
      "Cost Old: 28268913000.0\n",
      "armijo: True\n",
      "proposed_initial_alpha: 0.13551560105629598\n",
      "(9687091000.0, 91, 0.0019583611, 0.0008500675, 0.07596908, -0.6885198, 1.402023, 28268913000.0, 28268775000.0)\n",
      "alpha_val: 0.20344403\n",
      "theta_val: 0.61966103\n",
      "inprod_grad_eta_val: -383291970.0\n",
      "rim_grad_norm: 19577.76\n",
      "Cost New: 28263900000.0\n",
      "Cost Old: 28268775000.0\n",
      "armijo: True\n",
      "proposed_initial_alpha: 0.025444248286465528\n",
      "(9690545000.0, 92, 0.0019587101, 0.00017818519, 0.20344403, 0.61966103, 0.42923382, 28268775000.0, 28263900000.0)\n",
      "alpha_val: 0.07135927\n",
      "theta_val: -0.47357\n",
      "inprod_grad_eta_val: -130145050.0\n",
      "rim_grad_norm: 16986.701\n",
      "Cost New: 28263840000.0\n",
      "Cost Old: 28263900000.0\n",
      "armijo: True\n",
      "proposed_initial_alpha: 0.0009127047231178554\n",
      "(9676666000.0, 93, 0.0019573069, 0.00071693934, 0.07135927, -0.47357, 1.1093355, 28263900000.0, 28263840000.0)\n"
     ]
    },
    {
     "ename": "KeyboardInterrupt",
     "evalue": "",
     "output_type": "error",
     "traceback": [
      "\u001b[0;31m---------------------------------------------------------------------------\u001b[0m",
      "\u001b[0;31mKeyboardInterrupt\u001b[0m                         Traceback (most recent call last)",
      "\u001b[0;32m<ipython-input-80-9b7c0e3b3acd>\u001b[0m in \u001b[0;36m<module>\u001b[0;34m()\u001b[0m\n\u001b[1;32m      6\u001b[0m \u001b[0;31m#for k in range(20):\u001b[0m\u001b[0;34m\u001b[0m\u001b[0;34m\u001b[0m\u001b[0m\n\u001b[1;32m      7\u001b[0m     \u001b[0mi\u001b[0m \u001b[0;34m=\u001b[0m \u001b[0mi\u001b[0m \u001b[0;34m+\u001b[0m \u001b[0;36m1\u001b[0m\u001b[0;34m\u001b[0m\u001b[0m\n\u001b[0;32m----> 8\u001b[0;31m     \u001b[0mF_v\u001b[0m\u001b[0;34m,\u001b[0m \u001b[0mgradnorm_val\u001b[0m\u001b[0;34m,\u001b[0m \u001b[0malpha_val\u001b[0m\u001b[0;34m,\u001b[0m\u001b[0mtheta_val\u001b[0m\u001b[0;34m,\u001b[0m \u001b[0mbeta_val\u001b[0m\u001b[0;34m,\u001b[0m \u001b[0mcost_old_val\u001b[0m\u001b[0;34m,\u001b[0m \u001b[0mcost_val\u001b[0m\u001b[0;34m,\u001b[0m\u001b[0minprod_grad_eta_val\u001b[0m\u001b[0;34m,\u001b[0m \u001b[0mriemannian_grad_norm_val\u001b[0m\u001b[0;34m,\u001b[0m\u001b[0m_\u001b[0m\u001b[0;34m,\u001b[0m \u001b[0m_\u001b[0m\u001b[0;34m,\u001b[0m\u001b[0m_\u001b[0m\u001b[0;34m,\u001b[0m\u001b[0m_\u001b[0m\u001b[0;34m,\u001b[0m\u001b[0m_\u001b[0m \u001b[0;34m=\u001b[0m \u001b[0msess\u001b[0m\u001b[0;34m.\u001b[0m\u001b[0mrun\u001b[0m\u001b[0;34m(\u001b[0m\u001b[0;34m[\u001b[0m\u001b[0mloss\u001b[0m\u001b[0;34m,\u001b[0m \u001b[0mgradnorm_omega\u001b[0m\u001b[0;34m,\u001b[0m \u001b[0malpha\u001b[0m\u001b[0;34m,\u001b[0m \u001b[0mtheta\u001b[0m\u001b[0;34m,\u001b[0m \u001b[0mbeta\u001b[0m\u001b[0;34m,\u001b[0m \u001b[0mcost_old\u001b[0m\u001b[0;34m,\u001b[0m \u001b[0mcost\u001b[0m\u001b[0;34m,\u001b[0m \u001b[0minprod_grad_eta\u001b[0m\u001b[0;34m,\u001b[0m \u001b[0mriemannian_grad_norm\u001b[0m\u001b[0;34m,\u001b[0m\u001b[0mcost_op\u001b[0m\u001b[0;34m.\u001b[0m\u001b[0mop\u001b[0m\u001b[0;34m,\u001b[0m \u001b[0mcost_old_op\u001b[0m\u001b[0;34m.\u001b[0m\u001b[0mop\u001b[0m\u001b[0;34m,\u001b[0m \u001b[0mtrain_step\u001b[0m\u001b[0;34m.\u001b[0m\u001b[0mop\u001b[0m\u001b[0;34m,\u001b[0m \u001b[0meta_update_op\u001b[0m\u001b[0;34m.\u001b[0m\u001b[0mop\u001b[0m\u001b[0;34m,\u001b[0m \u001b[0mgrad_update_op\u001b[0m\u001b[0;34m.\u001b[0m\u001b[0mop\u001b[0m\u001b[0;34m]\u001b[0m\u001b[0;34m)\u001b[0m\u001b[0;34m\u001b[0m\u001b[0m\n\u001b[0m\u001b[1;32m      9\u001b[0m     \u001b[0;31m#eta_old_val, grad_update_val,_ = sess.run([eta_update_op, grad_update_op])\u001b[0m\u001b[0;34m\u001b[0m\u001b[0;34m\u001b[0m\u001b[0m\n\u001b[1;32m     10\u001b[0m \u001b[0;34m\u001b[0m\u001b[0m\n",
      "\u001b[0;32m/usr/local/lib/python2.7/site-packages/tensorflow/python/client/session.pyc\u001b[0m in \u001b[0;36mrun\u001b[0;34m(self, fetches, feed_dict, options, run_metadata)\u001b[0m\n\u001b[1;32m    906\u001b[0m     \u001b[0;32mtry\u001b[0m\u001b[0;34m:\u001b[0m\u001b[0;34m\u001b[0m\u001b[0m\n\u001b[1;32m    907\u001b[0m       result = self._run(None, fetches, feed_dict, options_ptr,\n\u001b[0;32m--> 908\u001b[0;31m                          run_metadata_ptr)\n\u001b[0m\u001b[1;32m    909\u001b[0m       \u001b[0;32mif\u001b[0m \u001b[0mrun_metadata\u001b[0m\u001b[0;34m:\u001b[0m\u001b[0;34m\u001b[0m\u001b[0m\n\u001b[1;32m    910\u001b[0m         \u001b[0mproto_data\u001b[0m \u001b[0;34m=\u001b[0m \u001b[0mtf_session\u001b[0m\u001b[0;34m.\u001b[0m\u001b[0mTF_GetBuffer\u001b[0m\u001b[0;34m(\u001b[0m\u001b[0mrun_metadata_ptr\u001b[0m\u001b[0;34m)\u001b[0m\u001b[0;34m\u001b[0m\u001b[0m\n",
      "\u001b[0;32m/usr/local/lib/python2.7/site-packages/tensorflow/python/client/session.pyc\u001b[0m in \u001b[0;36m_run\u001b[0;34m(self, handle, fetches, feed_dict, options, run_metadata)\u001b[0m\n\u001b[1;32m   1141\u001b[0m     \u001b[0;32mif\u001b[0m \u001b[0mfinal_fetches\u001b[0m \u001b[0;32mor\u001b[0m \u001b[0mfinal_targets\u001b[0m \u001b[0;32mor\u001b[0m \u001b[0;34m(\u001b[0m\u001b[0mhandle\u001b[0m \u001b[0;32mand\u001b[0m \u001b[0mfeed_dict_tensor\u001b[0m\u001b[0;34m)\u001b[0m\u001b[0;34m:\u001b[0m\u001b[0;34m\u001b[0m\u001b[0m\n\u001b[1;32m   1142\u001b[0m       results = self._do_run(handle, final_targets, final_fetches,\n\u001b[0;32m-> 1143\u001b[0;31m                              feed_dict_tensor, options, run_metadata)\n\u001b[0m\u001b[1;32m   1144\u001b[0m     \u001b[0;32melse\u001b[0m\u001b[0;34m:\u001b[0m\u001b[0;34m\u001b[0m\u001b[0m\n\u001b[1;32m   1145\u001b[0m       \u001b[0mresults\u001b[0m \u001b[0;34m=\u001b[0m \u001b[0;34m[\u001b[0m\u001b[0;34m]\u001b[0m\u001b[0;34m\u001b[0m\u001b[0m\n",
      "\u001b[0;32m/usr/local/lib/python2.7/site-packages/tensorflow/python/client/session.pyc\u001b[0m in \u001b[0;36m_do_run\u001b[0;34m(self, handle, target_list, fetch_list, feed_dict, options, run_metadata)\u001b[0m\n\u001b[1;32m   1322\u001b[0m     \u001b[0;32mif\u001b[0m \u001b[0mhandle\u001b[0m \u001b[0;32mis\u001b[0m \u001b[0mNone\u001b[0m\u001b[0;34m:\u001b[0m\u001b[0;34m\u001b[0m\u001b[0m\n\u001b[1;32m   1323\u001b[0m       return self._do_call(_run_fn, feeds, fetches, targets, options,\n\u001b[0;32m-> 1324\u001b[0;31m                            run_metadata)\n\u001b[0m\u001b[1;32m   1325\u001b[0m     \u001b[0;32melse\u001b[0m\u001b[0;34m:\u001b[0m\u001b[0;34m\u001b[0m\u001b[0m\n\u001b[1;32m   1326\u001b[0m       \u001b[0;32mreturn\u001b[0m \u001b[0mself\u001b[0m\u001b[0;34m.\u001b[0m\u001b[0m_do_call\u001b[0m\u001b[0;34m(\u001b[0m\u001b[0m_prun_fn\u001b[0m\u001b[0;34m,\u001b[0m \u001b[0mhandle\u001b[0m\u001b[0;34m,\u001b[0m \u001b[0mfeeds\u001b[0m\u001b[0;34m,\u001b[0m \u001b[0mfetches\u001b[0m\u001b[0;34m)\u001b[0m\u001b[0;34m\u001b[0m\u001b[0m\n",
      "\u001b[0;32m/usr/local/lib/python2.7/site-packages/tensorflow/python/client/session.pyc\u001b[0m in \u001b[0;36m_do_call\u001b[0;34m(self, fn, *args)\u001b[0m\n\u001b[1;32m   1328\u001b[0m   \u001b[0;32mdef\u001b[0m \u001b[0m_do_call\u001b[0m\u001b[0;34m(\u001b[0m\u001b[0mself\u001b[0m\u001b[0;34m,\u001b[0m \u001b[0mfn\u001b[0m\u001b[0;34m,\u001b[0m \u001b[0;34m*\u001b[0m\u001b[0margs\u001b[0m\u001b[0;34m)\u001b[0m\u001b[0;34m:\u001b[0m\u001b[0;34m\u001b[0m\u001b[0m\n\u001b[1;32m   1329\u001b[0m     \u001b[0;32mtry\u001b[0m\u001b[0;34m:\u001b[0m\u001b[0;34m\u001b[0m\u001b[0m\n\u001b[0;32m-> 1330\u001b[0;31m       \u001b[0;32mreturn\u001b[0m \u001b[0mfn\u001b[0m\u001b[0;34m(\u001b[0m\u001b[0;34m*\u001b[0m\u001b[0margs\u001b[0m\u001b[0;34m)\u001b[0m\u001b[0;34m\u001b[0m\u001b[0m\n\u001b[0m\u001b[1;32m   1331\u001b[0m     \u001b[0;32mexcept\u001b[0m \u001b[0merrors\u001b[0m\u001b[0;34m.\u001b[0m\u001b[0mOpError\u001b[0m \u001b[0;32mas\u001b[0m \u001b[0me\u001b[0m\u001b[0;34m:\u001b[0m\u001b[0;34m\u001b[0m\u001b[0m\n\u001b[1;32m   1332\u001b[0m       \u001b[0mmessage\u001b[0m \u001b[0;34m=\u001b[0m \u001b[0mcompat\u001b[0m\u001b[0;34m.\u001b[0m\u001b[0mas_text\u001b[0m\u001b[0;34m(\u001b[0m\u001b[0me\u001b[0m\u001b[0;34m.\u001b[0m\u001b[0mmessage\u001b[0m\u001b[0;34m)\u001b[0m\u001b[0;34m\u001b[0m\u001b[0m\n",
      "\u001b[0;32m/usr/local/lib/python2.7/site-packages/tensorflow/python/client/session.pyc\u001b[0m in \u001b[0;36m_run_fn\u001b[0;34m(feed_dict, fetch_list, target_list, options, run_metadata)\u001b[0m\n\u001b[1;32m   1313\u001b[0m       \u001b[0mself\u001b[0m\u001b[0;34m.\u001b[0m\u001b[0m_extend_graph\u001b[0m\u001b[0;34m(\u001b[0m\u001b[0;34m)\u001b[0m\u001b[0;34m\u001b[0m\u001b[0m\n\u001b[1;32m   1314\u001b[0m       return self._call_tf_sessionrun(\n\u001b[0;32m-> 1315\u001b[0;31m           options, feed_dict, fetch_list, target_list, run_metadata)\n\u001b[0m\u001b[1;32m   1316\u001b[0m \u001b[0;34m\u001b[0m\u001b[0m\n\u001b[1;32m   1317\u001b[0m     \u001b[0;32mdef\u001b[0m \u001b[0m_prun_fn\u001b[0m\u001b[0;34m(\u001b[0m\u001b[0mhandle\u001b[0m\u001b[0;34m,\u001b[0m \u001b[0mfeed_dict\u001b[0m\u001b[0;34m,\u001b[0m \u001b[0mfetch_list\u001b[0m\u001b[0;34m)\u001b[0m\u001b[0;34m:\u001b[0m\u001b[0;34m\u001b[0m\u001b[0m\n",
      "\u001b[0;32m/usr/local/lib/python2.7/site-packages/tensorflow/python/client/session.pyc\u001b[0m in \u001b[0;36m_call_tf_sessionrun\u001b[0;34m(self, options, feed_dict, fetch_list, target_list, run_metadata)\u001b[0m\n\u001b[1;32m   1421\u001b[0m         return tf_session.TF_Run(\n\u001b[1;32m   1422\u001b[0m             \u001b[0mself\u001b[0m\u001b[0;34m.\u001b[0m\u001b[0m_session\u001b[0m\u001b[0;34m,\u001b[0m \u001b[0moptions\u001b[0m\u001b[0;34m,\u001b[0m \u001b[0mfeed_dict\u001b[0m\u001b[0;34m,\u001b[0m \u001b[0mfetch_list\u001b[0m\u001b[0;34m,\u001b[0m \u001b[0mtarget_list\u001b[0m\u001b[0;34m,\u001b[0m\u001b[0;34m\u001b[0m\u001b[0m\n\u001b[0;32m-> 1423\u001b[0;31m             status, run_metadata)\n\u001b[0m\u001b[1;32m   1424\u001b[0m \u001b[0;34m\u001b[0m\u001b[0m\n\u001b[1;32m   1425\u001b[0m   \u001b[0;32mdef\u001b[0m \u001b[0m_call_tf_sessionprun\u001b[0m\u001b[0;34m(\u001b[0m\u001b[0mself\u001b[0m\u001b[0;34m,\u001b[0m \u001b[0mhandle\u001b[0m\u001b[0;34m,\u001b[0m \u001b[0mfeed_dict\u001b[0m\u001b[0;34m,\u001b[0m \u001b[0mfetch_list\u001b[0m\u001b[0;34m)\u001b[0m\u001b[0;34m:\u001b[0m\u001b[0;34m\u001b[0m\u001b[0m\n",
      "\u001b[0;31mKeyboardInterrupt\u001b[0m: "
     ]
    }
   ],
   "source": [
    "\n",
    "\n",
    "i = 0\n",
    "cost_nan = False\n",
    "while gradnorm_val > eps:   \n",
    "#for k in range(20):\n",
    "    i = i + 1\n",
    "    F_v, gradnorm_val, alpha_val,theta_val, beta_val, cost_old_val, cost_val,inprod_grad_eta_val, riemannian_grad_norm_val,_, _,_,_,_ = sess.run([loss, gradnorm_omega, alpha, theta, beta, cost_old, cost, inprod_grad_eta, riemannian_grad_norm,cost_op.op, cost_old_op.op, train_step.op, eta_update_op.op, grad_update_op.op])\n",
    "    #eta_old_val, grad_update_val,_ = sess.run([eta_update_op, grad_update_op])\n",
    "    \n",
    "    print \"alpha_val: \" + str(alpha_val)\n",
    "    print \"theta_val: \" + str(theta_val)\n",
    "    print \"inprod_grad_eta_val: \" + str(inprod_grad_eta_val)\n",
    "    print \"rim_grad_norm: \" + str(riemannian_grad_norm_val)\n",
    "    \n",
    "    lr = alpha_val\n",
    "    cost_prev = cost_old_val\n",
    "    cost_new = cost_val\n",
    "    cost_0 = cost_val\n",
    "    \n",
    "    print \"Cost New: \" +str(cost_new)\n",
    "    print \"Cost Old: \" +str(cost_prev)\n",
    "        \n",
    "    backtrackiter = 0\n",
    "\n",
    "    \n",
    "    armijo = (cost_new <= cost_prev + backtrack_const*(lr)*inprod_grad_eta_val)\n",
    "    print \"armijo: \" + str(armijo)\n",
    "    \n",
    "    proposed_initial_alpha = 2*(cost_0 - cost_prev)/inprod_grad_eta_val\n",
    "    print \"proposed_initial_alpha: \" + str(proposed_initial_alpha)\n",
    "    \n",
    "    #while (cost_prev - cost_new) <= -backtrack_const*(-lr)*inprod_grad_eta_val:\n",
    "    while (not (cost_new <= cost_prev + backtrack_const*(lr)*inprod_grad_eta_val)):\n",
    "        \n",
    "        print \"Backtracking\"\n",
    "        lr = 0.5*lr\n",
    "        print \"Learning Rate: \" + str(lr)\n",
    "        sess.run(t3f.assign(X_new, t3f.round(X + lr * eta_t3f_old, max_tt_rank=63)).op)\n",
    "        x_new_val = sess.run(t3f.full(X_new))\n",
    "        x_new_val[mask_indices==0] = 0.0\n",
    "        \n",
    "        print \"proposed_initial_alpha: \" + str(proposed_initial_alpha)\n",
    "        proposed_step_size = proposed_initial_alpha * inprod_grad_eta_val\n",
    "        print \"proposed_step_size: \" + str(proposed_step_size)\n",
    "        proposed_initial_alpha = 0.5* proposed_step_size\n",
    "        \n",
    "        cost_new = loss_func(x_new_val, a_omega)\n",
    "        \n",
    "        if is_nan(cost_new):\n",
    "            cost_nan = True\n",
    "            break\n",
    "        \n",
    "        print \"Cost New: \" +str(cost_new)\n",
    "        print \"Cost Old: \" +str(cost_prev)\n",
    "        backtrackiter = backtrackiter + 1\n",
    "        print \"backtrackiter_count: \" + str(backtrackiter)\n",
    "    \n",
    "        if backtrackiter > 4:\n",
    "            print \"backtracing stopped after: \" + str(backtrackiter)\n",
    "            \n",
    "            if (cost_new < cost_prev):\n",
    "                # update x\n",
    "                print \"updating X: initial cost: \" + str(cost_prev) + \"; New Cost: \" +  str(cost_new)\n",
    "                sess.run(t3f.assign(X, X_new).op)\n",
    "            else:\n",
    "                print \"not updating X: initial cost: \" + str(cost_prev) + \"; New Cost: \" +  str(cost_new)\n",
    "                #pass\n",
    "            #sess.run(t3f.assign(X, X_new).op)\n",
    "            break\n",
    "    \n",
    "        if cost_nan:\n",
    "            print \"Cost is Nan. Breaking after \" + str(i) + \"; iterations\"\n",
    "            sess.run(t3f.assign(X, X_new).op)\n",
    "            break\n",
    "        \n",
    "    train_loss_hist.append(gradnorm_val)\n",
    "    \n",
    "    if i > 1:\n",
    "        diff_train = np.abs(train_loss_hist[i - 1] - train_loss_hist[i-2])/np.abs(train_loss_hist[i-1])\n",
    "        print (F_v, i, gradnorm_val, diff_train, alpha_val, theta_val, beta_val, cost_old_val, cost_val)\n",
    "        if diff_train <= epsilon_train:\n",
    "            print \"Breaking after \" + str(i) + \" iterations\"\n",
    "            break\n",
    "    else:\n",
    "        print (F_v, i, gradnorm_val, alpha_val, theta_val, beta_val, cost_old_val, cost_val)\n",
    "    log.append(F_v)"
   ]
  },
  {
   "cell_type": "code",
   "execution_count": null,
   "metadata": {
    "collapsed": true
   },
   "outputs": [],
   "source": []
  },
  {
   "cell_type": "code",
   "execution_count": null,
   "metadata": {
    "collapsed": true
   },
   "outputs": [],
   "source": []
  },
  {
   "cell_type": "code",
   "execution_count": null,
   "metadata": {},
   "outputs": [],
   "source": [
    "print beta"
   ]
  },
  {
   "cell_type": "code",
   "execution_count": null,
   "metadata": {
    "collapsed": true
   },
   "outputs": [],
   "source": [
    "#sess.run([eta_update_op.op, grad_update_op.op])"
   ]
  },
  {
   "cell_type": "code",
   "execution_count": null,
   "metadata": {},
   "outputs": [],
   "source": [
    "print X"
   ]
  },
  {
   "cell_type": "code",
   "execution_count": null,
   "metadata": {
    "collapsed": true
   },
   "outputs": [],
   "source": [
    "estimated_val = sess.run(t3f.full(X))"
   ]
  },
  {
   "cell_type": "code",
   "execution_count": null,
   "metadata": {
    "collapsed": true
   },
   "outputs": [],
   "source": [
    "ground_truth_val = sess.run(ground_truth)\n"
   ]
  },
  {
   "cell_type": "code",
   "execution_count": null,
   "metadata": {
    "collapsed": true
   },
   "outputs": [],
   "source": [
    "x_reconstr = mt.reconstruct(estimated_val,ground_truth_val, ten_ones, mask_indices)\n"
   ]
  },
  {
   "cell_type": "code",
   "execution_count": null,
   "metadata": {
    "collapsed": true
   },
   "outputs": [],
   "source": [
    "def relative_error(x_hat,x_true):\n",
    "    percent_error = np.linalg.norm(x_hat - x_true) / np.linalg.norm(x_true)\n",
    "    return percent_error"
   ]
  },
  {
   "cell_type": "code",
   "execution_count": null,
   "metadata": {
    "collapsed": true
   },
   "outputs": [],
   "source": [
    "rel_error = relative_error(estimated_val,ground_truth_val)"
   ]
  },
  {
   "cell_type": "code",
   "execution_count": null,
   "metadata": {},
   "outputs": [],
   "source": [
    "print rel_error"
   ]
  },
  {
   "cell_type": "code",
   "execution_count": null,
   "metadata": {
    "collapsed": true
   },
   "outputs": [],
   "source": [
    "rel_error_rec = relative_error(x_reconstr,ground_truth_val)"
   ]
  },
  {
   "cell_type": "code",
   "execution_count": null,
   "metadata": {},
   "outputs": [],
   "source": [
    "rel_error_rec"
   ]
  },
  {
   "cell_type": "code",
   "execution_count": null,
   "metadata": {
    "collapsed": true
   },
   "outputs": [],
   "source": [
    "x_miss_img = mt.reconstruct_image_affine(x_true_org, x_train)"
   ]
  },
  {
   "cell_type": "code",
   "execution_count": null,
   "metadata": {
    "collapsed": true
   },
   "outputs": [],
   "source": [
    "x_miss = image.index_img(x_miss_img,1)"
   ]
  },
  {
   "cell_type": "code",
   "execution_count": null,
   "metadata": {},
   "outputs": [],
   "source": [
    "x_miss_image = plotting.plot_epi(x_miss, bg_img=None,black_bg=True, cmap='jet', cut_coords=None) "
   ]
  },
  {
   "cell_type": "code",
   "execution_count": null,
   "metadata": {},
   "outputs": [],
   "source": [
    "x_hat_img = mt.reconstruct_image_affine(x_true_org, x_reconstr)\n",
    "x_hat = image.index_img(x_hat_img,1)\n",
    "recovered_image = plotting.plot_epi(x_hat, bg_img=None,black_bg=True, cmap='jet', cut_coords=None)"
   ]
  },
  {
   "cell_type": "code",
   "execution_count": null,
   "metadata": {},
   "outputs": [],
   "source": [
    "x_true_org_img = image.index_img(x_true_org,1)\n",
    "org_image = plotting.plot_epi(x_true_org_img, bg_img=None,black_bg=True, cmap='jet', cut_coords=None)"
   ]
  },
  {
   "cell_type": "code",
   "execution_count": null,
   "metadata": {},
   "outputs": [],
   "source": [
    "images_folder = \"/work/scratch/tt1/1\"\n",
    "mrd.draw_original_vs_reconstructed_rim(image.index_img(x_true_org,1),x_hat, image.index_img(x_miss_img,1), \"Rim Completion\",\n",
    "                                             rel_error_rec, observed_ratio, coord=None, folder=images_folder)"
   ]
  },
  {
   "cell_type": "code",
   "execution_count": null,
   "metadata": {
    "collapsed": true
   },
   "outputs": [],
   "source": [
    "estimated_val_img = mt.reconstruct_image_affine(x_true_org, estimated_val)"
   ]
  },
  {
   "cell_type": "code",
   "execution_count": null,
   "metadata": {
    "collapsed": true
   },
   "outputs": [],
   "source": [
    "estimated_val_hat = image.index_img(estimated_val_img,1)"
   ]
  },
  {
   "cell_type": "code",
   "execution_count": null,
   "metadata": {},
   "outputs": [],
   "source": [
    "images_folder = \"/work/scratch/tt1/2\"\n",
    "mrd.draw_original_vs_reconstructed_rim(image.index_img(x_true_org,1),estimated_val_hat,image.index_img(x_miss_img,1), \"Rim Completion2\",\n",
    "                                             rel_error_rec, observed_ratio, coord=None, folder=images_folder)"
   ]
  },
  {
   "cell_type": "code",
   "execution_count": null,
   "metadata": {
    "collapsed": true
   },
   "outputs": [],
   "source": [
    "def tsc(x_hat,x_true, ten_ones, mask):\n",
    "    nomin = np.linalg.norm(np.multiply((ten_ones - mask), (x_true - x_hat)))\n",
    "    denom = np.linalg.norm(np.multiply((ten_ones - mask), x_true))\n",
    "    score = nomin/denom\n",
    "    return score  "
   ]
  },
  {
   "cell_type": "code",
   "execution_count": null,
   "metadata": {
    "collapsed": true
   },
   "outputs": [],
   "source": [
    "tsc_score = tsc(estimated_val,ground_truth_val, ten_ones, mask_indices)"
   ]
  },
  {
   "cell_type": "code",
   "execution_count": null,
   "metadata": {},
   "outputs": [],
   "source": [
    "tsc_score"
   ]
  },
  {
   "cell_type": "code",
   "execution_count": null,
   "metadata": {
    "collapsed": true
   },
   "outputs": [],
   "source": []
  }
 ],
 "metadata": {
  "kernelspec": {
   "display_name": "Python 2",
   "language": "python",
   "name": "python2"
  },
  "language_info": {
   "codemirror_mode": {
    "name": "ipython",
    "version": 2
   },
   "file_extension": ".py",
   "mimetype": "text/x-python",
   "name": "python",
   "nbconvert_exporter": "python",
   "pygments_lexer": "ipython2",
   "version": "2.7.13"
  }
 },
 "nbformat": 4,
 "nbformat_minor": 2
}
