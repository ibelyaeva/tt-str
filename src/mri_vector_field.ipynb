{
 "cells": [
  {
   "cell_type": "code",
   "execution_count": 156,
   "metadata": {},
   "outputs": [],
   "source": [
    "from mayavi import mlab\n"
   ]
  },
  {
   "cell_type": "code",
   "execution_count": 157,
   "metadata": {},
   "outputs": [],
   "source": [
    "import tensorflow as tf\n",
    "import numpy as np\n",
    "import t3f\n",
    "tf.set_random_seed(0)\n",
    "np.random.seed(0)\n",
    "import matplotlib.pyplot as plt\n",
    "import metric_util as mt\n",
    "import data_util as du\n",
    "from t3f import shapes\n",
    "from nilearn import image\n",
    "from skimage.measure import compare_ssim as ssim\n",
    "from tensorflow.python.util import nest\n",
    "import copy\n",
    "from nilearn import plotting\n",
    "from t3f import ops\n",
    "import mri_draw_utils as mrd\n",
    "from t3f import initializers\n",
    "from t3f import approximate\n",
    "from scipy import optimize \n",
    "from scipy import special\n",
    "from nilearn.image.resampling import coord_transform\n",
    "from scipy import stats\n",
    "from mayavi.mlab import *"
   ]
  },
  {
   "cell_type": "code",
   "execution_count": 158,
   "metadata": {},
   "outputs": [
    {
     "name": "stdout",
     "output_type": "stream",
     "text": [
      "Subject Path: /work/pl/sch/analysis/data/COBRE001/swaAMAYER+cobre01_63001+M87100944+20110309at135133+RSTpre_V01_R01+CM.nii\n"
     ]
    }
   ],
   "source": [
    "subject_scan_path = du.get_full_path_subject1()\n",
    "print \"Subject Path: \" + str(subject_scan_path)\n",
    "x_true_org = mt.read_image_abs_path(subject_scan_path)"
   ]
  },
  {
   "cell_type": "code",
   "execution_count": 159,
   "metadata": {
    "collapsed": true
   },
   "outputs": [],
   "source": [
    "data = np.array(image.index_img(x_true_org, 0).get_data())"
   ]
  },
  {
   "cell_type": "code",
   "execution_count": 160,
   "metadata": {
    "collapsed": true
   },
   "outputs": [],
   "source": [
    "x, y, z = np.mgrid[-78:78+1:3, -111:75+1:3, -51:84+1:3]"
   ]
  },
  {
   "cell_type": "code",
   "execution_count": 161,
   "metadata": {},
   "outputs": [],
   "source": [
    "def get_i_j_k(x1, y1, z1):\n",
    "    result = np.round(coord_transform(x1, y1, z1, np.linalg.inv(x_true_org.affine)))\n",
    "    result = result.astype(int)\n",
    "    result = (result[0], result[1], result[2])\n",
    "    result = np.asarray(result).T\n",
    "    return result[0], result[1],result [2]"
   ]
  },
  {
   "cell_type": "code",
   "execution_count": 162,
   "metadata": {},
   "outputs": [],
   "source": [
    "def spatial_array(a, data, target):\n",
    "    for i in range(a.shape[0]):\n",
    "        for j in range(a.shape[1]):\n",
    "            for k in range(a.shape[2]):\n",
    "                #print i,j,k\n",
    "                c1, c2, c3 = get_i_j_k(i,j,k)\n",
    "                target[i,j,k] = data[c1,c2,c3]\n",
    "    return target\n",
    "    \n",
    "    "
   ]
  },
  {
   "cell_type": "code",
   "execution_count": 163,
   "metadata": {
    "collapsed": true
   },
   "outputs": [],
   "source": [
    "target_array = np.zeros_like(data)\n"
   ]
  },
  {
   "cell_type": "code",
   "execution_count": 164,
   "metadata": {},
   "outputs": [],
   "source": [
    "Fx = np.zeros_like(data)\n",
    "Fy = np.zeros_like(data)\n",
    "Fz = np.zeros_like(data)"
   ]
  },
  {
   "cell_type": "code",
   "execution_count": 165,
   "metadata": {
    "collapsed": true
   },
   "outputs": [],
   "source": [
    "Fx = spatial_array(x, data, Fx)"
   ]
  },
  {
   "cell_type": "code",
   "execution_count": 166,
   "metadata": {
    "collapsed": true
   },
   "outputs": [],
   "source": [
    "Fy = spatial_array(y, data, Fy)"
   ]
  },
  {
   "cell_type": "code",
   "execution_count": 167,
   "metadata": {
    "collapsed": true
   },
   "outputs": [],
   "source": [
    "Fz = spatial_array(z, data, Fz)"
   ]
  },
  {
   "cell_type": "code",
   "execution_count": 168,
   "metadata": {
    "collapsed": true
   },
   "outputs": [],
   "source": [
    "xx = data[0:53,:,:]"
   ]
  },
  {
   "cell_type": "code",
   "execution_count": 169,
   "metadata": {},
   "outputs": [
    {
     "data": {
      "text/plain": [
       "(53, 63, 46)"
      ]
     },
     "execution_count": 169,
     "metadata": {},
     "output_type": "execute_result"
    }
   ],
   "source": [
    "xx.shape"
   ]
  },
  {
   "cell_type": "code",
   "execution_count": 170,
   "metadata": {},
   "outputs": [
    {
     "data": {
      "text/plain": [
       "<mayavi.core.scene.Scene at 0x151052ef0>"
      ]
     },
     "execution_count": 170,
     "metadata": {},
     "output_type": "execute_result"
    }
   ],
   "source": [
    "# Create a mayavi figure black on white\n",
    "mlab.figure(bgcolor=(0., 0., 0.), fgcolor=(1., 1., 1.), size=(640, 480))"
   ]
  },
  {
   "cell_type": "code",
   "execution_count": null,
   "metadata": {
    "collapsed": true
   },
   "outputs": [],
   "source": []
  },
  {
   "cell_type": "code",
   "execution_count": null,
   "metadata": {
    "collapsed": true
   },
   "outputs": [],
   "source": []
  },
  {
   "cell_type": "code",
   "execution_count": null,
   "metadata": {},
   "outputs": [],
   "source": []
  },
  {
   "cell_type": "code",
   "execution_count": null,
   "metadata": {
    "collapsed": true
   },
   "outputs": [],
   "source": [
    "\n",
    "   "
   ]
  },
  {
   "cell_type": "code",
   "execution_count": null,
   "metadata": {
    "collapsed": true
   },
   "outputs": [],
   "source": []
  },
  {
   "cell_type": "code",
   "execution_count": null,
   "metadata": {
    "collapsed": true
   },
   "outputs": [],
   "source": []
  },
  {
   "cell_type": "code",
   "execution_count": null,
   "metadata": {
    "collapsed": true
   },
   "outputs": [],
   "source": [
    "\n",
    "    "
   ]
  },
  {
   "cell_type": "code",
   "execution_count": null,
   "metadata": {},
   "outputs": [],
   "source": []
  },
  {
   "cell_type": "code",
   "execution_count": null,
   "metadata": {
    "collapsed": true
   },
   "outputs": [],
   "source": []
  },
  {
   "cell_type": "code",
   "execution_count": null,
   "metadata": {},
   "outputs": [],
   "source": []
  },
  {
   "cell_type": "code",
   "execution_count": null,
   "metadata": {},
   "outputs": [],
   "source": []
  },
  {
   "cell_type": "code",
   "execution_count": null,
   "metadata": {},
   "outputs": [],
   "source": []
  },
  {
   "cell_type": "code",
   "execution_count": null,
   "metadata": {},
   "outputs": [],
   "source": []
  },
  {
   "cell_type": "code",
   "execution_count": null,
   "metadata": {},
   "outputs": [],
   "source": []
  },
  {
   "cell_type": "code",
   "execution_count": null,
   "metadata": {},
   "outputs": [],
   "source": []
  },
  {
   "cell_type": "code",
   "execution_count": null,
   "metadata": {},
   "outputs": [],
   "source": []
  },
  {
   "cell_type": "code",
   "execution_count": null,
   "metadata": {
    "collapsed": true
   },
   "outputs": [],
   "source": []
  },
  {
   "cell_type": "code",
   "execution_count": null,
   "metadata": {},
   "outputs": [],
   "source": []
  },
  {
   "cell_type": "code",
   "execution_count": null,
   "metadata": {},
   "outputs": [],
   "source": [
    "\n",
    "    "
   ]
  },
  {
   "cell_type": "code",
   "execution_count": null,
   "metadata": {},
   "outputs": [],
   "source": []
  },
  {
   "cell_type": "code",
   "execution_count": null,
   "metadata": {},
   "outputs": [],
   "source": [
    "\n",
    "    "
   ]
  },
  {
   "cell_type": "code",
   "execution_count": null,
   "metadata": {},
   "outputs": [],
   "source": [
    "\n",
    "    "
   ]
  },
  {
   "cell_type": "code",
   "execution_count": null,
   "metadata": {},
   "outputs": [],
   "source": []
  },
  {
   "cell_type": "code",
   "execution_count": null,
   "metadata": {},
   "outputs": [],
   "source": []
  },
  {
   "cell_type": "code",
   "execution_count": null,
   "metadata": {
    "collapsed": true
   },
   "outputs": [],
   "source": []
  },
  {
   "cell_type": "code",
   "execution_count": null,
   "metadata": {
    "collapsed": true
   },
   "outputs": [],
   "source": []
  },
  {
   "cell_type": "code",
   "execution_count": null,
   "metadata": {},
   "outputs": [],
   "source": []
  },
  {
   "cell_type": "code",
   "execution_count": null,
   "metadata": {},
   "outputs": [],
   "source": []
  },
  {
   "cell_type": "code",
   "execution_count": null,
   "metadata": {
    "collapsed": true
   },
   "outputs": [],
   "source": []
  },
  {
   "cell_type": "code",
   "execution_count": null,
   "metadata": {},
   "outputs": [],
   "source": []
  },
  {
   "cell_type": "code",
   "execution_count": null,
   "metadata": {
    "collapsed": true
   },
   "outputs": [],
   "source": []
  },
  {
   "cell_type": "code",
   "execution_count": null,
   "metadata": {
    "collapsed": true
   },
   "outputs": [],
   "source": []
  },
  {
   "cell_type": "code",
   "execution_count": null,
   "metadata": {},
   "outputs": [],
   "source": []
  },
  {
   "cell_type": "code",
   "execution_count": null,
   "metadata": {},
   "outputs": [],
   "source": []
  },
  {
   "cell_type": "code",
   "execution_count": null,
   "metadata": {},
   "outputs": [],
   "source": []
  },
  {
   "cell_type": "code",
   "execution_count": null,
   "metadata": {},
   "outputs": [],
   "source": []
  },
  {
   "cell_type": "code",
   "execution_count": null,
   "metadata": {},
   "outputs": [],
   "source": []
  },
  {
   "cell_type": "code",
   "execution_count": null,
   "metadata": {},
   "outputs": [],
   "source": []
  },
  {
   "cell_type": "code",
   "execution_count": null,
   "metadata": {},
   "outputs": [],
   "source": []
  },
  {
   "cell_type": "code",
   "execution_count": null,
   "metadata": {},
   "outputs": [],
   "source": []
  },
  {
   "cell_type": "code",
   "execution_count": null,
   "metadata": {},
   "outputs": [],
   "source": []
  },
  {
   "cell_type": "code",
   "execution_count": null,
   "metadata": {
    "collapsed": true
   },
   "outputs": [],
   "source": []
  },
  {
   "cell_type": "code",
   "execution_count": null,
   "metadata": {},
   "outputs": [],
   "source": []
  },
  {
   "cell_type": "code",
   "execution_count": 171,
   "metadata": {
    "collapsed": true
   },
   "outputs": [],
   "source": [
    "norm_data = np.linalg.norm(data)"
   ]
  },
  {
   "cell_type": "code",
   "execution_count": null,
   "metadata": {},
   "outputs": [],
   "source": []
  },
  {
   "cell_type": "code",
   "execution_count": null,
   "metadata": {},
   "outputs": [],
   "source": []
  },
  {
   "cell_type": "code",
   "execution_count": 172,
   "metadata": {},
   "outputs": [],
   "source": [
    "mlab.clf()"
   ]
  },
  {
   "cell_type": "code",
   "execution_count": 173,
   "metadata": {
    "collapsed": true
   },
   "outputs": [],
   "source": [
    "Fnorm = np.sqrt(Fx**2 + Fy**2 + Fz**2)"
   ]
  },
  {
   "cell_type": "code",
   "execution_count": 174,
   "metadata": {},
   "outputs": [],
   "source": [
    "Fmax = stats.scoreatpercentile(Fnorm.ravel(), 99)"
   ]
  },
  {
   "cell_type": "code",
   "execution_count": 175,
   "metadata": {
    "collapsed": true
   },
   "outputs": [],
   "source": [
    "Fx[Fnorm > Fmax] = Fmax * (Fx / Fnorm)[Fnorm > Fmax]\n",
    "Fy[Fnorm > Fmax] = Fmax * (Fy / Fnorm)[Fnorm > Fmax]\n",
    "Fz[Fnorm > Fmax] = Fmax * (Fz / Fnorm)[Fnorm > Fmax]\n",
    "Fnorm[Fnorm > Fmax] = Fmax"
   ]
  },
  {
   "cell_type": "code",
   "execution_count": 176,
   "metadata": {},
   "outputs": [],
   "source": [
    "field = mlab.pipeline.vector_field(x, y, z, Fx, Fy, Fz,\n",
    "                                   #scalars = Fnorm,\n",
    "                                   name='My field')"
   ]
  },
  {
   "cell_type": "code",
   "execution_count": 177,
   "metadata": {},
   "outputs": [],
   "source": [
    "#src = mlab.pipeline.scalar_field(x, y, z,scalars = data)"
   ]
  },
  {
   "cell_type": "code",
   "execution_count": 178,
   "metadata": {},
   "outputs": [],
   "source": [
    "vectors = mlab.pipeline.vectors(field,scale_factor=abs(x[0, 0, 0] - x[1, 1, 1]),\n",
    "                                colormap='hsv')"
   ]
  },
  {
   "cell_type": "code",
   "execution_count": 179,
   "metadata": {},
   "outputs": [],
   "source": [
    "\n",
    "mlab.axes()\n",
    "\n",
    "# Mask 7 data points out of 8\n",
    "vectors.glyph.mask_input_points = True\n",
    "vectors.glyph.mask_points.on_ratio = 8\n",
    "\n",
    "mlab.pipeline.vector_cut_plane(field, scale_factor=.1, colormap='jet')\n",
    "\n",
    "# Add an iso_surface of the norm of the field\n",
    "mlab.pipeline.iso_surface(mlab.pipeline.extract_vector_norm(field),\n",
    "                          contours=[0.1*Fmax, 0.4*Fmax],\n",
    "                          opacity=0.7, transparent=True)\n",
    "\n",
    "#mlab.quiver3d(x, y, z, Fx, Fy, Fx, line_width=3, scale_factor=1)\n",
    "\n",
    "\n",
    "#mlab.view(28, 84, 0.71)\n",
    "mlab.show()\n"
   ]
  },
  {
   "cell_type": "code",
   "execution_count": null,
   "metadata": {},
   "outputs": [],
   "source": []
  },
  {
   "cell_type": "code",
   "execution_count": 180,
   "metadata": {},
   "outputs": [
    {
     "data": {
      "text/plain": [
       "(53, 63, 46)"
      ]
     },
     "execution_count": 180,
     "metadata": {},
     "output_type": "execute_result"
    }
   ],
   "source": [
    "x.shape"
   ]
  },
  {
   "cell_type": "code",
   "execution_count": null,
   "metadata": {
    "collapsed": true
   },
   "outputs": [],
   "source": []
  },
  {
   "cell_type": "code",
   "execution_count": null,
   "metadata": {},
   "outputs": [],
   "source": []
  },
  {
   "cell_type": "code",
   "execution_count": null,
   "metadata": {},
   "outputs": [],
   "source": []
  },
  {
   "cell_type": "code",
   "execution_count": null,
   "metadata": {},
   "outputs": [],
   "source": []
  },
  {
   "cell_type": "code",
   "execution_count": null,
   "metadata": {},
   "outputs": [],
   "source": []
  },
  {
   "cell_type": "code",
   "execution_count": null,
   "metadata": {},
   "outputs": [],
   "source": []
  },
  {
   "cell_type": "code",
   "execution_count": null,
   "metadata": {},
   "outputs": [],
   "source": []
  },
  {
   "cell_type": "code",
   "execution_count": null,
   "metadata": {},
   "outputs": [],
   "source": []
  },
  {
   "cell_type": "code",
   "execution_count": null,
   "metadata": {},
   "outputs": [],
   "source": []
  },
  {
   "cell_type": "code",
   "execution_count": null,
   "metadata": {
    "collapsed": true
   },
   "outputs": [],
   "source": []
  },
  {
   "cell_type": "code",
   "execution_count": null,
   "metadata": {},
   "outputs": [],
   "source": []
  },
  {
   "cell_type": "code",
   "execution_count": null,
   "metadata": {},
   "outputs": [],
   "source": []
  },
  {
   "cell_type": "code",
   "execution_count": null,
   "metadata": {
    "collapsed": true
   },
   "outputs": [],
   "source": []
  },
  {
   "cell_type": "code",
   "execution_count": null,
   "metadata": {},
   "outputs": [],
   "source": []
  },
  {
   "cell_type": "code",
   "execution_count": null,
   "metadata": {},
   "outputs": [],
   "source": []
  },
  {
   "cell_type": "code",
   "execution_count": null,
   "metadata": {},
   "outputs": [],
   "source": []
  },
  {
   "cell_type": "code",
   "execution_count": 181,
   "metadata": {
    "collapsed": true
   },
   "outputs": [],
   "source": [
    "#mlab.show()"
   ]
  },
  {
   "cell_type": "code",
   "execution_count": null,
   "metadata": {},
   "outputs": [],
   "source": []
  },
  {
   "cell_type": "code",
   "execution_count": 182,
   "metadata": {},
   "outputs": [
    {
     "data": {
      "text/plain": [
       "[array([[[    0.       ,     0.       ,     0.       , ...,\n",
       "              0.       ,     0.       ,     0.       ],\n",
       "         [    0.       ,     0.       ,     0.       , ...,\n",
       "              0.       ,     0.       ,     0.       ],\n",
       "         [    0.       ,     0.       ,     0.       , ...,\n",
       "              0.       ,     0.       ,     0.       ],\n",
       "         ...,\n",
       "         [    0.       ,     0.       ,     0.       , ...,\n",
       "              0.       ,     0.       ,     0.       ],\n",
       "         [    0.       ,     0.       ,     0.       , ...,\n",
       "              0.       ,     0.       ,     0.       ],\n",
       "         [    0.       ,     0.       ,     0.       , ...,\n",
       "              0.       ,     0.       ,     0.       ]],\n",
       " \n",
       "        [[ -270.53418  ,  -270.53418  ,  -170.99023  , ...,\n",
       "             -7.8779297,    28.876953 ,    28.876953 ],\n",
       "         [ -270.53418  ,  -270.53418  ,  -170.99023  , ...,\n",
       "             -7.8779297,    28.876953 ,    28.876953 ],\n",
       "         [ -249.07129  ,  -249.07129  ,  -154.2334   , ...,\n",
       "              6.0029297,    20.282227 ,    20.282227 ],\n",
       "         ...,\n",
       "         [  423.74707  ,   423.74707  ,   412.4453   , ...,\n",
       "            452.72217  ,   382.45166  ,   382.45166  ],\n",
       "         [  423.74707  ,   423.74707  ,   412.4453   , ...,\n",
       "            452.72217  ,   382.45166  ,   382.45166  ],\n",
       "         [  615.5762   ,   615.5762   ,   646.84766  , ...,\n",
       "            431.4624   ,   294.04272  ,   294.04272  ]],\n",
       " \n",
       "        [[ -270.53418  ,  -270.53418  ,  -170.99023  , ...,\n",
       "             -7.8779297,    28.876953 ,    28.876953 ],\n",
       "         [ -270.53418  ,  -270.53418  ,  -170.99023  , ...,\n",
       "             -7.8779297,    28.876953 ,    28.876953 ],\n",
       "         [ -249.07129  ,  -249.07129  ,  -154.2334   , ...,\n",
       "              6.0029297,    20.282227 ,    20.282227 ],\n",
       "         ...,\n",
       "         [  423.74707  ,   423.74707  ,   412.4453   , ...,\n",
       "            452.72217  ,   382.45166  ,   382.45166  ],\n",
       "         [  423.74707  ,   423.74707  ,   412.4453   , ...,\n",
       "            452.72217  ,   382.45166  ,   382.45166  ],\n",
       "         [  615.5762   ,   615.5762   ,   646.84766  , ...,\n",
       "            431.4624   ,   294.04272  ,   294.04272  ]],\n",
       " \n",
       "        ...,\n",
       " \n",
       "        [[ -265.54004  ,  -265.54004  ,  -192.34961  , ...,\n",
       "           -125.35547  ,  -481.59473  ,  -481.59473  ],\n",
       "         [ -265.54004  ,  -265.54004  ,  -192.34961  , ...,\n",
       "           -125.35547  ,  -481.59473  ,  -481.59473  ],\n",
       "         [ -240.11523  ,  -240.11523  ,  -159.3623   , ...,\n",
       "           -352.87305  ,  -759.9199   ,  -759.9199   ],\n",
       "         ...,\n",
       "         [-1397.1655   , -1397.1655   , -1327.2279   , ...,\n",
       "           -150.61017  ,  -156.93903  ,  -156.93903  ],\n",
       "         [-1397.1655   , -1397.1655   , -1327.2279   , ...,\n",
       "           -150.61017  ,  -156.93903  ,  -156.93903  ],\n",
       "         [ -865.8003   ,  -865.8003   ,  -815.9342   , ...,\n",
       "           -157.91614  ,  -159.11963  ,  -159.11963  ]],\n",
       " \n",
       "        [[    0.       ,     0.       ,     0.       , ...,\n",
       "              0.       ,     0.       ,     0.       ],\n",
       "         [    0.       ,     0.       ,     0.       , ...,\n",
       "              0.       ,     0.       ,     0.       ],\n",
       "         [    0.       ,     0.       ,     0.       , ...,\n",
       "              0.       ,     0.       ,     0.       ],\n",
       "         ...,\n",
       "         [    0.       ,     0.       ,     0.       , ...,\n",
       "              0.       ,     0.       ,     0.       ],\n",
       "         [    0.       ,     0.       ,     0.       , ...,\n",
       "              0.       ,     0.       ,     0.       ],\n",
       "         [    0.       ,     0.       ,     0.       , ...,\n",
       "              0.       ,     0.       ,     0.       ]],\n",
       " \n",
       "        [[    0.       ,     0.       ,     0.       , ...,\n",
       "              0.       ,     0.       ,     0.       ],\n",
       "         [    0.       ,     0.       ,     0.       , ...,\n",
       "              0.       ,     0.       ,     0.       ],\n",
       "         [    0.       ,     0.       ,     0.       , ...,\n",
       "              0.       ,     0.       ,     0.       ],\n",
       "         ...,\n",
       "         [    0.       ,     0.       ,     0.       , ...,\n",
       "              0.       ,     0.       ,     0.       ],\n",
       "         [    0.       ,     0.       ,     0.       , ...,\n",
       "              0.       ,     0.       ,     0.       ],\n",
       "         [    0.       ,     0.       ,     0.       , ...,\n",
       "              0.       ,     0.       ,     0.       ]]], dtype=float32),\n",
       " array([[[ 0.0000000e+00,  0.0000000e+00,  0.0000000e+00, ...,\n",
       "           0.0000000e+00,  0.0000000e+00,  0.0000000e+00],\n",
       "         [ 6.3722363e+02,  6.3722363e+02,  9.6293945e+02, ...,\n",
       "           8.8521484e+01, -1.1464844e+00, -1.1464844e+00],\n",
       "         [ 6.3722363e+02,  6.3722363e+02,  9.6293945e+02, ...,\n",
       "           8.8521484e+01, -1.1464844e+00, -1.1464844e+00],\n",
       "         ...,\n",
       "         [ 0.0000000e+00,  0.0000000e+00,  0.0000000e+00, ...,\n",
       "           0.0000000e+00,  0.0000000e+00,  0.0000000e+00],\n",
       "         [-2.9556924e+03, -2.9556924e+03, -2.6378232e+03, ...,\n",
       "          -2.2023247e+03, -1.8742122e+03, -1.8742122e+03],\n",
       "         [-5.9113848e+03, -5.9113848e+03, -5.2756465e+03, ...,\n",
       "          -4.4046494e+03, -3.7484243e+03, -3.7484243e+03]],\n",
       " \n",
       "        [[ 0.0000000e+00,  0.0000000e+00,  0.0000000e+00, ...,\n",
       "           0.0000000e+00,  0.0000000e+00,  0.0000000e+00],\n",
       "         [ 6.3722363e+02,  6.3722363e+02,  9.6293945e+02, ...,\n",
       "           8.8521484e+01, -1.1464844e+00, -1.1464844e+00],\n",
       "         [ 6.3722363e+02,  6.3722363e+02,  9.6293945e+02, ...,\n",
       "           8.8521484e+01, -1.1464844e+00, -1.1464844e+00],\n",
       "         ...,\n",
       "         [ 0.0000000e+00,  0.0000000e+00,  0.0000000e+00, ...,\n",
       "           0.0000000e+00,  0.0000000e+00,  0.0000000e+00],\n",
       "         [-2.9556924e+03, -2.9556924e+03, -2.6378232e+03, ...,\n",
       "          -2.2023247e+03, -1.8742122e+03, -1.8742122e+03],\n",
       "         [-5.9113848e+03, -5.9113848e+03, -5.2756465e+03, ...,\n",
       "          -4.4046494e+03, -3.7484243e+03, -3.7484243e+03]],\n",
       " \n",
       "        [[ 0.0000000e+00,  0.0000000e+00,  0.0000000e+00, ...,\n",
       "           0.0000000e+00,  0.0000000e+00,  0.0000000e+00],\n",
       "         [ 6.5868652e+02,  6.5868652e+02,  9.7969629e+02, ...,\n",
       "           1.0240234e+02, -9.7412109e+00, -9.7412109e+00],\n",
       "         [ 6.5868652e+02,  6.5868652e+02,  9.7969629e+02, ...,\n",
       "           1.0240234e+02, -9.7412109e+00, -9.7412109e+00],\n",
       "         ...,\n",
       "         [ 0.0000000e+00,  0.0000000e+00,  0.0000000e+00, ...,\n",
       "           0.0000000e+00,  0.0000000e+00,  0.0000000e+00],\n",
       "         [-2.7638633e+03, -2.7638633e+03, -2.4034209e+03, ...,\n",
       "          -2.2235845e+03, -1.9626211e+03, -1.9626211e+03],\n",
       "         [-5.5277266e+03, -5.5277266e+03, -4.8068418e+03, ...,\n",
       "          -4.4471689e+03, -3.9252422e+03, -3.9252422e+03]],\n",
       " \n",
       "        ...,\n",
       " \n",
       "        [[ 0.0000000e+00,  0.0000000e+00,  0.0000000e+00, ...,\n",
       "           0.0000000e+00,  0.0000000e+00,  0.0000000e+00],\n",
       "         [ 2.8758789e+01,  2.8758789e+01, -6.0342773e+01, ...,\n",
       "          -5.6762695e+01, -3.1105469e+02, -3.1105469e+02],\n",
       "         [ 2.8758789e+01,  2.8758789e+01, -6.0342773e+01, ...,\n",
       "          -5.6762695e+01, -3.1105469e+02, -3.1105469e+02],\n",
       "         ...,\n",
       "         [ 0.0000000e+00,  0.0000000e+00,  0.0000000e+00, ...,\n",
       "           0.0000000e+00,  0.0000000e+00,  0.0000000e+00],\n",
       "         [-6.4560156e+02, -6.4560156e+02, -6.1844751e+02, ...,\n",
       "          -9.4152039e+01, -8.1235901e+01, -8.1235901e+01],\n",
       "         [-1.2912031e+03, -1.2912031e+03, -1.2368950e+03, ...,\n",
       "          -1.8830408e+02, -1.6247180e+02, -1.6247180e+02]],\n",
       " \n",
       "        [[ 0.0000000e+00,  0.0000000e+00,  0.0000000e+00, ...,\n",
       "           0.0000000e+00,  0.0000000e+00,  0.0000000e+00],\n",
       "         [ 2.8758789e+01,  2.8758789e+01, -6.0342773e+01, ...,\n",
       "          -5.6762695e+01, -3.1105469e+02, -3.1105469e+02],\n",
       "         [ 2.8758789e+01,  2.8758789e+01, -6.0342773e+01, ...,\n",
       "          -5.6762695e+01, -3.1105469e+02, -3.1105469e+02],\n",
       "         ...,\n",
       "         [ 0.0000000e+00,  0.0000000e+00,  0.0000000e+00, ...,\n",
       "           0.0000000e+00,  0.0000000e+00,  0.0000000e+00],\n",
       "         [-6.4560156e+02, -6.4560156e+02, -6.1844751e+02, ...,\n",
       "          -9.4152039e+01, -8.1235901e+01, -8.1235901e+01],\n",
       "         [-1.2912031e+03, -1.2912031e+03, -1.2368950e+03, ...,\n",
       "          -1.8830408e+02, -1.6247180e+02, -1.6247180e+02]],\n",
       " \n",
       "        [[ 0.0000000e+00,  0.0000000e+00,  0.0000000e+00, ...,\n",
       "           0.0000000e+00,  0.0000000e+00,  0.0000000e+00],\n",
       "         [ 2.8758789e+01,  2.8758789e+01, -6.0342773e+01, ...,\n",
       "          -5.6762695e+01, -3.1105469e+02, -3.1105469e+02],\n",
       "         [ 2.8758789e+01,  2.8758789e+01, -6.0342773e+01, ...,\n",
       "          -5.6762695e+01, -3.1105469e+02, -3.1105469e+02],\n",
       "         ...,\n",
       "         [ 0.0000000e+00,  0.0000000e+00,  0.0000000e+00, ...,\n",
       "           0.0000000e+00,  0.0000000e+00,  0.0000000e+00],\n",
       "         [-6.4560156e+02, -6.4560156e+02, -6.1844751e+02, ...,\n",
       "          -9.4152039e+01, -8.1235901e+01, -8.1235901e+01],\n",
       "         [-1.2912031e+03, -1.2912031e+03, -1.2368950e+03, ...,\n",
       "          -1.8830408e+02, -1.6247180e+02, -1.6247180e+02]]], dtype=float32),\n",
       " array([[[    0.      ,  -589.0615  ,  -589.0615  , ...,   -18.63086 ,\n",
       "            -18.63086 ,     0.      ],\n",
       "         [    0.      ,  -589.0615  ,  -589.0615  , ...,   -18.63086 ,\n",
       "            -18.63086 ,     0.      ],\n",
       "         [    0.      ,  -263.3457  ,  -263.3457  , ...,  -108.29883 ,\n",
       "           -108.29883 ,     0.      ],\n",
       "         ...,\n",
       "         [    0.      ,  1292.6953  ,  1292.6953  , ..., -1741.2881  ,\n",
       "          -1741.2881  ,     0.      ],\n",
       "         [    0.      ,  1292.6953  ,  1292.6953  , ..., -1741.2881  ,\n",
       "          -1741.2881  ,     0.      ],\n",
       "         [    0.      ,  1610.5645  ,  1610.5645  , ..., -1413.1755  ,\n",
       "          -1413.1755  ,     0.      ]],\n",
       " \n",
       "        [[    0.      ,  -589.0615  ,  -589.0615  , ...,   -18.63086 ,\n",
       "            -18.63086 ,     0.      ],\n",
       "         [    0.      ,  -589.0615  ,  -589.0615  , ...,   -18.63086 ,\n",
       "            -18.63086 ,     0.      ],\n",
       "         [    0.      ,  -263.3457  ,  -263.3457  , ...,  -108.29883 ,\n",
       "           -108.29883 ,     0.      ],\n",
       "         ...,\n",
       "         [    0.      ,  1292.6953  ,  1292.6953  , ..., -1741.2881  ,\n",
       "          -1741.2881  ,     0.      ],\n",
       "         [    0.      ,  1292.6953  ,  1292.6953  , ..., -1741.2881  ,\n",
       "          -1741.2881  ,     0.      ],\n",
       "         [    0.      ,  1610.5645  ,  1610.5645  , ..., -1413.1755  ,\n",
       "          -1413.1755  ,     0.      ]],\n",
       " \n",
       "        [[    0.      ,  -489.51758 ,  -489.51758 , ...,    18.124023,\n",
       "             18.124023,     0.      ],\n",
       "         [    0.      ,  -489.51758 ,  -489.51758 , ...,    18.124023,\n",
       "             18.124023,     0.      ],\n",
       "         [    0.      ,  -168.50781 ,  -168.50781 , ...,   -94.01953 ,\n",
       "            -94.01953 ,     0.      ],\n",
       "         ...,\n",
       "         [    0.      ,  1281.3936  ,  1281.3936  , ..., -1811.5586  ,\n",
       "          -1811.5586  ,     0.      ],\n",
       "         [    0.      ,  1281.3936  ,  1281.3936  , ..., -1811.5586  ,\n",
       "          -1811.5586  ,     0.      ],\n",
       "         [    0.      ,  1641.8359  ,  1641.8359  , ..., -1550.5952  ,\n",
       "          -1550.5952  ,     0.      ]],\n",
       " \n",
       "        ...,\n",
       " \n",
       "        [[    0.      ,   148.0039  ,   148.0039  , ...,  -442.15723 ,\n",
       "           -442.15723 ,     0.      ],\n",
       "         [    0.      ,   148.0039  ,   148.0039  , ...,  -442.15723 ,\n",
       "           -442.15723 ,     0.      ],\n",
       "         [    0.      ,    58.902344,    58.902344, ...,  -696.4492  ,\n",
       "           -696.4492  ,     0.      ],\n",
       "         ...,\n",
       "         [    0.      ,  -163.8324  ,  -163.8324  , ...,   -80.888245,\n",
       "            -80.888245,     0.      ],\n",
       "         [    0.      ,  -163.8324  ,  -163.8324  , ...,   -80.888245,\n",
       "            -80.888245,     0.      ],\n",
       "         [    0.      ,  -136.67834 ,  -136.67834 , ...,   -67.97211 ,\n",
       "            -67.97211 ,     0.      ]],\n",
       " \n",
       "        [[    0.      ,   148.0039  ,   148.0039  , ...,  -442.15723 ,\n",
       "           -442.15723 ,     0.      ],\n",
       "         [    0.      ,   148.0039  ,   148.0039  , ...,  -442.15723 ,\n",
       "           -442.15723 ,     0.      ],\n",
       "         [    0.      ,    58.902344,    58.902344, ...,  -696.4492  ,\n",
       "           -696.4492  ,     0.      ],\n",
       "         ...,\n",
       "         [    0.      ,  -163.8324  ,  -163.8324  , ...,   -80.888245,\n",
       "            -80.888245,     0.      ],\n",
       "         [    0.      ,  -163.8324  ,  -163.8324  , ...,   -80.888245,\n",
       "            -80.888245,     0.      ],\n",
       "         [    0.      ,  -136.67834 ,  -136.67834 , ...,   -67.97211 ,\n",
       "            -67.97211 ,     0.      ]],\n",
       " \n",
       "        [[    0.      ,   148.0039  ,   148.0039  , ...,  -442.15723 ,\n",
       "           -442.15723 ,     0.      ],\n",
       "         [    0.      ,   148.0039  ,   148.0039  , ...,  -442.15723 ,\n",
       "           -442.15723 ,     0.      ],\n",
       "         [    0.      ,    58.902344,    58.902344, ...,  -696.4492  ,\n",
       "           -696.4492  ,     0.      ],\n",
       "         ...,\n",
       "         [    0.      ,  -163.8324  ,  -163.8324  , ...,   -80.888245,\n",
       "            -80.888245,     0.      ],\n",
       "         [    0.      ,  -163.8324  ,  -163.8324  , ...,   -80.888245,\n",
       "            -80.888245,     0.      ],\n",
       "         [    0.      ,  -136.67834 ,  -136.67834 , ...,   -67.97211 ,\n",
       "            -67.97211 ,     0.      ]]], dtype=float32)]"
      ]
     },
     "execution_count": 182,
     "metadata": {},
     "output_type": "execute_result"
    }
   ],
   "source": [
    "np.gradient(Fx)"
   ]
  },
  {
   "cell_type": "code",
   "execution_count": null,
   "metadata": {
    "collapsed": true
   },
   "outputs": [],
   "source": []
  }
 ],
 "metadata": {
  "kernelspec": {
   "display_name": "Python 2",
   "language": "python",
   "name": "python2"
  },
  "language_info": {
   "codemirror_mode": {
    "name": "ipython",
    "version": 2
   },
   "file_extension": ".py",
   "mimetype": "text/x-python",
   "name": "python",
   "nbconvert_exporter": "python",
   "pygments_lexer": "ipython2",
   "version": "2.7.13"
  }
 },
 "nbformat": 4,
 "nbformat_minor": 2
}
