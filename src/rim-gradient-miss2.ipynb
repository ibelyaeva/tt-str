{
 "cells": [
  {
   "cell_type": "code",
   "execution_count": 1,
   "metadata": {},
   "outputs": [
    {
     "name": "stderr",
     "output_type": "stream",
     "text": [
      "/usr/local/lib/python2.7/site-packages/matplotlib/__init__.py:1405: UserWarning: \n",
      "This call to matplotlib.use() has no effect because the backend has already\n",
      "been chosen; matplotlib.use() must be called *before* pylab, matplotlib.pyplot,\n",
      "or matplotlib.backends is imported for the first time.\n",
      "\n",
      "  warnings.warn(_use_error_msg)\n"
     ]
    }
   ],
   "source": [
    "import tensorflow as tf\n",
    "import numpy as np\n",
    "import t3f\n",
    "tf.set_random_seed(0)\n",
    "np.random.seed(0)\n",
    "%matplotlib inline\n",
    "import matplotlib.pyplot as plt\n",
    "import metric_util as mt\n",
    "import data_util as du\n",
    "from t3f import shapes\n",
    "from nilearn import image\n",
    "from skimage.measure import compare_ssim as ssim\n",
    "from tensorflow.python.util import nest\n",
    "import copy\n",
    "from nilearn import plotting\n",
    "from t3f import ops\n",
    "import mri_draw_utils as mrd"
   ]
  },
  {
   "cell_type": "code",
   "execution_count": 2,
   "metadata": {
    "collapsed": true
   },
   "outputs": [],
   "source": [
    "#sess = tf.InteractiveSession()"
   ]
  },
  {
   "cell_type": "code",
   "execution_count": 3,
   "metadata": {
    "collapsed": true
   },
   "outputs": [],
   "source": [
    "def frobenius_norm_tf_squared(x):\n",
    "    return tf.reduce_sum(x ** 2)"
   ]
  },
  {
   "cell_type": "code",
   "execution_count": 4,
   "metadata": {
    "collapsed": true
   },
   "outputs": [],
   "source": [
    "def frobenius_norm_tf(x):\n",
    "    return tf.reduce_sum(x ** 2) ** 0.5"
   ]
  },
  {
   "cell_type": "code",
   "execution_count": 5,
   "metadata": {
    "collapsed": true
   },
   "outputs": [],
   "source": [
    "def relative_error1(x_hat,x_true):\n",
    "    percent_error = frobenius_norm_tf(x_hat - x_true) / frobenius_norm_tf(x_true)\n",
    "    return percent_error"
   ]
  },
  {
   "cell_type": "code",
   "execution_count": 6,
   "metadata": {
    "collapsed": true
   },
   "outputs": [],
   "source": [
    "def draw(omega, x_true, x_hat, rel_error):\n",
    "    images_folder = \"/work/scratch/tt1\"\n",
    "    ten_ones = np.ones_like(omega)\n",
    "    x_reconstr1 = mt.reconstruct2(x_hat,ground_truth, omega)\n",
    "    x_hat_img = mt.reconstruct_image_affine(x_true_org, x_reconstr1)\n",
    "    x_hat_est = image.index_img(x_hat_img,1)\n",
    "    \n",
    "    x_true_org_img = image.index_img(x_true,1)\n",
    "    x_miss_img = mt.reconstruct_image_affine(x_true_org, x_train)\n",
    "    x_miss = image.index_img(x_miss_img,1)\n",
    "    mrd.draw_original_vs_reconstructed_rim(x_true_org_img,x_hat_est, x_miss, \"Rim Completion\",\n",
    "                                             rel_error, observed_ratio, coord=None, folder=images_folder)"
   ]
  },
  {
   "cell_type": "code",
   "execution_count": 7,
   "metadata": {},
   "outputs": [
    {
     "name": "stdout",
     "output_type": "stream",
     "text": [
      "Subject Path: /work/pl/sch/analysis/data/COBRE001/swaAMAYER+cobre01_63001+M87100944+20110309at135133+RSTpre_V01_R01+CM.nii\n"
     ]
    }
   ],
   "source": [
    "subject_scan_path = du.get_full_path_subject1()\n",
    "print \"Subject Path: \" + str(subject_scan_path)\n",
    "x_true_org = mt.read_image_abs_path(subject_scan_path)\n"
   ]
  },
  {
   "cell_type": "code",
   "execution_count": null,
   "metadata": {
    "collapsed": true
   },
   "outputs": [],
   "source": []
  },
  {
   "cell_type": "code",
   "execution_count": 8,
   "metadata": {
    "collapsed": true
   },
   "outputs": [],
   "source": [
    "observed_ratio = 0.4\n",
    "x_true_img = np.array(x_true_org.get_data())\n",
    "mask_indices = (np.random.rand(x_true_img.shape[0],x_true_img.shape[1],x_true_img.shape[2], x_true_img.shape[3]) < observed_ratio).astype('int') \n",
    "ten_ones = np.ones_like(mask_indices)\n",
    "x_train = copy.deepcopy(x_true_img)\n",
    "x_train[mask_indices==0] = 0.0\n",
    "x_train[mask_indices == 0] = np.mean(x_train[mask_indices == 1])\n",
    "#x_train[mask_indices == 0] = np.mean(x_train[mask_indices == 1])\n",
    "\n",
    "x_init = copy.deepcopy(x_train)\n",
    "#shape = (1, 53, 63, 63, 1)\n",
    "#x_init_tf = t3f.random_tensor(shape, tt_rank=63)\n",
    "\n",
    "ground_truth = copy.deepcopy(x_true_img)\n",
    "\n",
    "sparse_observation = copy.deepcopy(ground_truth)\n",
    "sparse_observation[mask_indices==0] = 0.0"
   ]
  },
  {
   "cell_type": "code",
   "execution_count": 9,
   "metadata": {
    "collapsed": true
   },
   "outputs": [],
   "source": [
    "ten_ones = np.ones_like(mask_indices)\n"
   ]
  },
  {
   "cell_type": "code",
   "execution_count": 10,
   "metadata": {},
   "outputs": [
    {
     "name": "stdout",
     "output_type": "stream",
     "text": [
      "47395410.0\n"
     ]
    }
   ],
   "source": [
    "norm_sparse_observation = np.linalg.norm(sparse_observation)\n",
    "print norm_sparse_observation"
   ]
  },
  {
   "cell_type": "code",
   "execution_count": 11,
   "metadata": {},
   "outputs": [
    {
     "name": "stdout",
     "output_type": "stream",
     "text": [
      "[1, 53, 1, 1, 1] 0 (1, 53, 53)\n",
      "[1, 53, 63, 1, 1] 1 (53, 63, 63)\n",
      "[1, 53, 63, 63, 1] 2 (63, 46, 63)\n",
      "ranks: [1, 53, 63, 63, 1]\n"
     ]
    }
   ],
   "source": [
    "mask_indices_tf = t3f.to_tt_tensor(mask_indices.astype('float32'), max_tt_rank=63)"
   ]
  },
  {
   "cell_type": "code",
   "execution_count": 12,
   "metadata": {
    "collapsed": true
   },
   "outputs": [],
   "source": [
    "x_miss_img = mt.reconstruct_image_affine(x_true_org, x_train)"
   ]
  },
  {
   "cell_type": "code",
   "execution_count": 13,
   "metadata": {
    "collapsed": true
   },
   "outputs": [],
   "source": [
    "x_miss = image.index_img(x_miss_img,1)"
   ]
  },
  {
   "cell_type": "code",
   "execution_count": 14,
   "metadata": {},
   "outputs": [
    {
     "data": {
      "image/png": "[encoded data removed]",
      "text/plain": [
       "<matplotlib.figure.Figure at 0x14a773e90>"
      ]
     },
     "metadata": {},
     "output_type": "display_data"
    }
   ],
   "source": [
    "x_miss_image = plotting.plot_epi(x_miss, bg_img=None,black_bg=True, cmap='jet', cut_coords=None) "
   ]
  },
  {
   "cell_type": "code",
   "execution_count": 15,
   "metadata": {},
   "outputs": [
    {
     "name": "stdout",
     "output_type": "stream",
     "text": [
      "('Saving figure', '/work/scratch/tt1/missing_ratio_60.00.png')\n",
      "Called from mrd\n"
     ]
    }
   ],
   "source": [
    "images_folder = \"/work/scratch/tt1\"\n",
    "mrd.draw_original_vs_reconstructed_rim(image.index_img(x_true_org,1),image.index_img(x_miss_img,1), image.index_img(x_miss_img,1), \"Rim Completion\",\n",
    "                                             observed_ratio, observed_ratio, coord=None, folder=images_folder)"
   ]
  },
  {
   "cell_type": "code",
   "execution_count": 16,
   "metadata": {},
   "outputs": [
    {
     "name": "stdout",
     "output_type": "stream",
     "text": [
      "[1, 53, 1, 1, 1] 0 (1, 53, 53)\n",
      "[1, 53, 63, 1, 1] 1 (53, 63, 63)\n",
      "[1, 53, 63, 63, 1] 2 (63, 46, 63)\n",
      "ranks: [1, 53, 63, 63, 1]\n"
     ]
    }
   ],
   "source": [
    "ground_truth_tf = t3f.to_tt_tensor(ground_truth, max_tt_rank=63)"
   ]
  },
  {
   "cell_type": "code",
   "execution_count": 17,
   "metadata": {
    "collapsed": true
   },
   "outputs": [],
   "source": [
    "A = t3f.get_variable('A', initializer=ground_truth_tf, trainable=False)"
   ]
  },
  {
   "cell_type": "code",
   "execution_count": 18,
   "metadata": {
    "collapsed": true
   },
   "outputs": [],
   "source": [
    "ground_truth = tf.get_variable('ground_truth', initializer=ground_truth, trainable=False)\n",
    "sparsity_mask = tf.get_variable('sparsity_mask', initializer=mask_indices, trainable=False)\n",
    "sparsity_mask = tf.cast(sparsity_mask,tf.float32)\n",
    "sparse_observation = ground_truth * sparsity_mask"
   ]
  },
  {
   "cell_type": "code",
   "execution_count": 19,
   "metadata": {
    "collapsed": true
   },
   "outputs": [],
   "source": [
    "#sparsity_mask = t3f.get_variable('sparsity_mask', initializer=mask_indices_tf, trainable=False)\n",
    "#sparsity_mask = t3f.cast(sparsity_mask, tf.float32)\n",
    "#sparse_observation_tf = t3f.to_tt_tensor(sparse_observation, max_tt_rank=63)\n",
    "#sparse_observation_tf3 = t3f.get_variable('sparse_observation_tf', initializer=sparse_observation_tf, trainable=False)"
   ]
  },
  {
   "cell_type": "code",
   "execution_count": 20,
   "metadata": {},
   "outputs": [
    {
     "name": "stdout",
     "output_type": "stream",
     "text": [
      "[1, 53, 1, 1, 1] 0 (1, 53, 53)\n",
      "[1, 53, 63, 1, 1] 1 (53, 63, 63)\n",
      "[1, 53, 63, 63, 1] 2 (63, 46, 63)\n",
      "ranks: [1, 53, 63, 63, 1]\n"
     ]
    }
   ],
   "source": [
    "x_train_tf = t3f.to_tt_tensor(x_init, max_tt_rank=63)"
   ]
  },
  {
   "cell_type": "code",
   "execution_count": null,
   "metadata": {
    "collapsed": true
   },
   "outputs": [],
   "source": []
  },
  {
   "cell_type": "code",
   "execution_count": 21,
   "metadata": {
    "collapsed": true
   },
   "outputs": [],
   "source": [
    "normAOmegavar = tf.get_variable('normAOmega', initializer=norm_sparse_observation, trainable=False)"
   ]
  },
  {
   "cell_type": "code",
   "execution_count": 22,
   "metadata": {
    "collapsed": true
   },
   "outputs": [],
   "source": [
    "X = t3f.get_variable('X', initializer=x_train_tf)"
   ]
  },
  {
   "cell_type": "code",
   "execution_count": 23,
   "metadata": {},
   "outputs": [
    {
     "name": "stdout",
     "output_type": "stream",
     "text": [
      "A Tensor Train variable of shape (53, 63, 46, 144), TT-ranks: (1, 53, 63, 63, 1)\n"
     ]
    }
   ],
   "source": [
    "print X"
   ]
  },
  {
   "cell_type": "code",
   "execution_count": 24,
   "metadata": {
    "collapsed": true
   },
   "outputs": [],
   "source": [
    "def train_it_rel_cost(cost_hist, k):\n",
    "    res = np.abs(cost_hist[k] - cost_hist[k-1])/np.abs(cost_hist[k])\n",
    "    return res"
   ]
  },
  {
   "cell_type": "code",
   "execution_count": null,
   "metadata": {
    "collapsed": true
   },
   "outputs": [],
   "source": []
  },
  {
   "cell_type": "code",
   "execution_count": null,
   "metadata": {
    "collapsed": true
   },
   "outputs": [],
   "source": []
  },
  {
   "cell_type": "code",
   "execution_count": 25,
   "metadata": {},
   "outputs": [
    {
     "name": "stdout",
     "output_type": "stream",
     "text": [
      "[1, 53, 1, 1, 1] 0 (1, 53, 53)\n",
      "[1, 53, 63, 1, 1] 1 (53, 63, 63)\n",
      "[1, 53, 63, 63, 1] 2 (63, 46, 63)\n",
      "ranks: [1, 53, 63, 63, 1]\n"
     ]
    }
   ],
   "source": [
    "# Algorithm\n",
    "#grad_full = (t3f.full(X)*t3f.full(sparse_observation_tf3) - t3f.full(sparse_observation_tf3))\n",
    "grad_full = sparsity_mask * t3f.full(X) - sparse_observation\n",
    "grad_t3f = t3f.to_tt_tensor(grad_full, max_tt_rank=63)\n",
    "\n",
    "loss = 0.5 * t3f.frobenius_norm_squared(grad_t3f)\n",
    "gradnorm_omega = t3f.frobenius_norm(grad_t3f)/(normAOmegavar)\n",
    "\n",
    "riemannian_grad = t3f.riemannian.project(grad_t3f, X)\n",
    "#riemannian_grad_norm = t3f.flat_inner(riemannian_grad, riemannian_grad)\n",
    "\n",
    "\n",
    "\n",
    "#rel_error1 = relative_error1(t3f.full(X), t3f.full(sparse_observation))\n",
    "\n",
    "\n"
   ]
  },
  {
   "cell_type": "code",
   "execution_count": 26,
   "metadata": {
    "collapsed": true
   },
   "outputs": [],
   "source": [
    "eps = 1e-3\n",
    "epsilon_train=1e-5"
   ]
  },
  {
   "cell_type": "code",
   "execution_count": 27,
   "metadata": {},
   "outputs": [
    {
     "name": "stdout",
     "output_type": "stream",
     "text": [
      "Tensor(\"sub:0\", shape=(53, 63, 46, 144), dtype=float32)\n"
     ]
    }
   ],
   "source": [
    "print grad_full"
   ]
  },
  {
   "cell_type": "code",
   "execution_count": 28,
   "metadata": {},
   "outputs": [
    {
     "name": "stdout",
     "output_type": "stream",
     "text": [
      "A Tensor Train of shape (53, 63, 46, 144), TT-ranks: (1, 53, 63, 63, 1)\n"
     ]
    }
   ],
   "source": [
    "print grad_t3f"
   ]
  },
  {
   "cell_type": "code",
   "execution_count": 29,
   "metadata": {},
   "outputs": [
    {
     "name": "stdout",
     "output_type": "stream",
     "text": [
      "0.001\n"
     ]
    }
   ],
   "source": [
    "print eps"
   ]
  },
  {
   "cell_type": "code",
   "execution_count": 30,
   "metadata": {
    "collapsed": true
   },
   "outputs": [],
   "source": [
    "alpha = 0.3\n",
    "train_step = t3f.assign(X, t3f.round(X - alpha * riemannian_grad, max_tt_rank=63))"
   ]
  },
  {
   "cell_type": "code",
   "execution_count": 31,
   "metadata": {
    "collapsed": true
   },
   "outputs": [],
   "source": [
    "sess = tf.Session()\n",
    "sess.run(tf.global_variables_initializer())"
   ]
  },
  {
   "cell_type": "code",
   "execution_count": null,
   "metadata": {
    "collapsed": true
   },
   "outputs": [],
   "source": []
  },
  {
   "cell_type": "code",
   "execution_count": null,
   "metadata": {
    "collapsed": true
   },
   "outputs": [],
   "source": [
    "\n"
   ]
  },
  {
   "cell_type": "code",
   "execution_count": null,
   "metadata": {
    "collapsed": true
   },
   "outputs": [],
   "source": []
  },
  {
   "cell_type": "code",
   "execution_count": null,
   "metadata": {
    "collapsed": true
   },
   "outputs": [],
   "source": []
  },
  {
   "cell_type": "code",
   "execution_count": null,
   "metadata": {
    "collapsed": true
   },
   "outputs": [],
   "source": []
  },
  {
   "cell_type": "code",
   "execution_count": null,
   "metadata": {
    "collapsed": true
   },
   "outputs": [],
   "source": []
  },
  {
   "cell_type": "code",
   "execution_count": 32,
   "metadata": {},
   "outputs": [
    {
     "name": "stdout",
     "output_type": "stream",
     "text": [
      "[0.24615465]\n"
     ]
    }
   ],
   "source": [
    "log = []\n",
    "train_loss_hist = []\n",
    "#for i in range(1000):\n",
    "gradnorm_val = sess.run([gradnorm_omega])\n",
    "print gradnorm_val"
   ]
  },
  {
   "cell_type": "code",
   "execution_count": 33,
   "metadata": {},
   "outputs": [
    {
     "name": "stdout",
     "output_type": "stream",
     "text": [
      "(52739808000000.0, 2, 0.21669456, 0.13595213)\n",
      "(40893613000000.0, 3, 0.19081235, 0.13564225)\n",
      "(31727777000000.0, 4, 0.16807324, 0.13529289)\n",
      "(24635022000000.0, 5, 0.14810005, 0.13486281)\n",
      "(19144360000000.0, 6, 0.1305567, 0.13437338)\n",
      "(14894175000000.0, 7, 0.11515611, 0.13373668)\n",
      "(11603681000000.0, 8, 0.1016428, 0.13294895)\n",
      "(9056476000000.0, 9, 0.08979628, 0.13192663)\n",
      "(7098816000000.0, 10, 0.07950083, 0.12950116)\n",
      "(5610302600000.0, 11, 0.070675984, 0.12486345)\n",
      "(4461232000000.0, 12, 0.06302403, 0.12141329)\n",
      "(3564746300000.0, 13, 0.056336913, 0.11869866)\n",
      "(2859975800000.0, 14, 0.05046147, 0.116434224)\n",
      "(2304933400000.0, 15, 0.045301013, 0.113914855)\n",
      "(1864894600000.0, 16, 0.040747963, 0.11173687)\n",
      "(1514491300000.0, 17, 0.036720797, 0.10966988)\n",
      "(1234820900000.0, 18, 0.03315742, 0.10746849)\n",
      "(1010793900000.0, 19, 0.029999224, 0.105275884)\n",
      "(830873140000.0, 20, 0.027198572, 0.102970585)\n",
      "(686114000000.0, 21, 0.024715925, 0.10044727)\n",
      "(568603840000.0, 22, 0.022500057, 0.098482765)\n",
      "(473688640000.0, 23, 0.020536443, 0.09561605)\n",
      "(395960400000.0, 24, 0.018776067, 0.09375641)\n",
      "(332745050000.0, 25, 0.017212126, 0.0908627)\n",
      "(280989760000.0, 26, 0.015816996, 0.08820452)\n",
      "(238229180000.0, 27, 0.01456385, 0.08604495)\n",
      "(203013110000.0, 28, 0.01344438, 0.08326678)\n",
      "(173671970000.0, 29, 0.012434938, 0.08117788)\n",
      "(149120700000.0, 30, 0.011522526, 0.079185076)\n",
      "(128616320000.0, 31, 0.010701059, 0.07676498)\n",
      "(111423775000.0, 32, 0.009960191, 0.074382916)\n",
      "(97035560000.0, 33, 0.009294888, 0.07157733)\n",
      "(84969820000.0, 34, 0.008697833, 0.06864412)\n",
      "(74758820000.0, 35, 0.008158494, 0.06610768)\n",
      "(66001880000.0, 36, 0.007665789, 0.06427317)\n",
      "(58581820000.0, 37, 0.0072220447, 0.061443053)\n",
      "(52341957000.0, 38, 0.0068265884, 0.057928838)\n",
      "(47028850000.0, 39, 0.0064708437, 0.05497656)\n",
      "(42363257000.0, 40, 0.006141485, 0.05362848)\n",
      "(38398380000.0, 41, 0.005847028, 0.050360147)\n",
      "(34994987000.0, 42, 0.005581895, 0.047498763)\n",
      "(32014080000.0, 43, 0.0053388686, 0.045520186)\n",
      "(29427247000.0, 44, 0.005118628, 0.043027263)\n",
      "(27138136000.0, 45, 0.0049155117, 0.0413215)\n",
      "(25158973000.0, 46, 0.0047328766, 0.038588613)\n",
      "(23439528000.0, 47, 0.004568285, 0.036029212)\n",
      "(21862552000.0, 48, 0.0044119353, 0.03543785)\n",
      "(20505846000.0, 49, 0.0042728493, 0.03255112)\n",
      "(19285142000.0, 50, 0.0041437177, 0.031163223)\n",
      "(18187702000.0, 51, 0.00402409, 0.029727945)\n",
      "(17200160000.0, 52, 0.0039133164, 0.028306775)\n",
      "(16257082000.0, 53, 0.0038045214, 0.028596241)\n",
      "(15387154000.0, 54, 0.0037013306, 0.027879372)\n",
      "(14593406000.0, 55, 0.0036046, 0.026835337)\n",
      "(13877231000.0, 56, 0.0035150389, 0.025479406)\n",
      "(13156029000.0, 57, 0.0034224817, 0.027043875)\n",
      "(12551922000.0, 58, 0.0033429805, 0.023781529)\n",
      "(11988572000.0, 59, 0.0032671003, 0.023225551)\n",
      "(11423051000.0, 60, 0.003189112, 0.024454536)\n",
      "(10934624000.0, 61, 0.0031201872, 0.022089975)\n",
      "(10431514000.0, 62, 0.0030475608, 0.023830991)\n",
      "(10007159000.0, 63, 0.0029849298, 0.020982396)\n",
      "(9559039000.0, 64, 0.002917332, 0.023171075)\n",
      "(9167645000.0, 65, 0.0028569826, 0.021123499)\n",
      "(8791042000.0, 66, 0.0027976856, 0.021195047)\n",
      "(8457756000.0, 67, 0.0027441403, 0.01951257)\n",
      "(8137173000.0, 68, 0.002691631, 0.019508382)\n",
      "(7807711700.0, 69, 0.002636578, 0.02088049)\n",
      "(7502267400.0, 70, 0.002584491, 0.020153683)\n",
      "(7229830000.0, 71, 0.0025371304, 0.018666973)\n",
      "(6956512000.0, 72, 0.0024887112, 0.019455543)\n",
      "(6701222000.0, 73, 0.002442619, 0.018869944)\n",
      "(6448187000.0, 74, 0.0023960592, 0.01943184)\n",
      "(6250006000.0, 75, 0.0023589511, 0.015730755)\n",
      "(6024244700.0, 76, 0.0023159545, 0.018565392)\n",
      "(5823186000.0, 77, 0.0022769792, 0.017117146)\n",
      "(5625203700.0, 78, 0.002237937, 0.017445624)\n",
      "(5441426000.0, 79, 0.0022010761, 0.016746724)\n",
      "(5245577700.0, 80, 0.0021611026, 0.01849682)\n",
      "(5089232000.0, 81, 0.002128653, 0.015244197)\n",
      "(4928234500.0, 82, 0.0020947123, 0.016203014)\n",
      "(4794121000.0, 83, 0.0020660139, 0.013890745)\n",
      "(4631063600.0, 84, 0.0020305754, 0.017452419)\n",
      "(4500998000.0, 85, 0.0020018574, 0.0143456925)\n",
      "(4378263000.0, 86, 0.001974375, 0.0139195435)\n",
      "(4245686000.0, 87, 0.0019442525, 0.015493083)\n",
      "(4111801000.0, 88, 0.0019133516, 0.01615016)\n",
      "(4006356500.0, 89, 0.0018886589, 0.013074218)\n",
      "(3895496400.0, 90, 0.001862345, 0.014129401)\n",
      "(3794942500.0, 91, 0.0018381516, 0.013161826)\n",
      "(3703927600.0, 92, 0.0018159755, 0.012211657)\n",
      "(3588868900.0, 93, 0.0017875473, 0.015903508)\n",
      "(3494113500.0, 94, 0.0017637915, 0.013468548)\n",
      "(3421725200.0, 95, 0.0017454254, 0.0105224475)\n",
      "(3332968400.0, 96, 0.0017226392, 0.013227496)\n",
      "(3237958100.0, 97, 0.0016979087, 0.014565244)\n",
      "(3179831300.0, 98, 0.0016825995, 0.009098538)\n",
      "(3088312600.0, 99, 0.0016582094, 0.0147087425)\n",
      "(3027646200.0, 100, 0.0016418417, 0.009969076)\n",
      "(2975889400.0, 101, 0.0016277479, 0.008658479)\n",
      "(2909228500.0, 102, 0.0016094135, 0.0113919545)\n",
      "(2857052700.0, 103, 0.0015949162, 0.009089704)\n",
      "(2792050700.0, 104, 0.0015766685, 0.011573615)\n",
      "(2762705000.0, 105, 0.0015683608, 0.0052970145)\n",
      "(2708073500.0, 106, 0.0015527765, 0.0100364)\n",
      "(2662908000.0, 107, 0.0015397734, 0.008444831)\n",
      "(2618619100.0, 108, 0.0015269151, 0.0084211)\n",
      "(2574662000.0, 109, 0.0015140452, 0.008500372)\n",
      "(2537271000.0, 110, 0.001503011, 0.0073413923)\n",
      "(2509012200.0, 111, 0.0014946177, 0.0056156917)\n",
      "(2459276500.0, 112, 0.0014797298, 0.010061222)\n",
      "(2435775200.0, 113, 0.0014726425, 0.004812606)\n",
      "(2401849300.0, 114, 0.001462351, 0.007037695)\n",
      "(2374216400.0, 115, 0.0014539146, 0.0058025317)\n",
      "(2340888300.0, 116, 0.0014436737, 0.0070935856)\n",
      "(2319322600.0, 117, 0.0014370085, 0.0046382765)\n",
      "(2298276900.0, 118, 0.0014304739, 0.004568154)\n",
      "(2266475000.0, 119, 0.0014205424, 0.006991349)\n",
      "(2248252000.0, 120, 0.0014148201, 0.0040445277)\n",
      "(2230485500.0, 121, 0.0014092188, 0.003974772)\n",
      "(2202630000.0, 122, 0.0014003917, 0.0063032904)\n",
      "(2180912000.0, 123, 0.0013934707, 0.0049667405)\n",
      "(2171302700.0, 124, 0.0013903973, 0.0022104217)\n",
      "(2153582800.0, 125, 0.0013847122, 0.004105649)\n",
      "(2131953700.0, 126, 0.0013777411, 0.005059779)\n",
      "(2127237800.0, 127, 0.0013762164, 0.0011078864)\n",
      "(2101482400.0, 128, 0.0013678599, 0.006109196)\n",
      "(2086225300.0, 129, 0.0013628853, 0.0036500085)\n",
      "(2073312500.0, 130, 0.001358661, 0.0031092104)\n",
      "(2067967700.0, 131, 0.0013569086, 0.0012914649)\n",
      "(2052558600.0, 132, 0.0013518438, 0.0037465608)\n",
      "(2044306700.0, 133, 0.0013491237, 0.0020162424)\n",
      "(2036230000.0, 134, 0.0013464559, 0.00198133)\n",
      "(2025098100.0, 135, 0.0013427704, 0.002744681)\n",
      "(2020695400.0, 136, 0.00134131, 0.0010888089)\n",
      "(2011151000.0, 137, 0.0013381385, 0.0023700856)\n",
      "(2008459900.0, 138, 0.001337243, 0.0006696365)\n",
      "(2006890100.0, 139, 0.0013367203, 0.00039103528)\n",
      "(1999833100.0, 140, 0.001334368, 0.001762848)\n",
      "(1997592600.0, 141, 0.0013336203, 0.00056068104)\n",
      "(1994908800.0, 142, 0.0013327241, 0.0006724311)\n",
      "(1991932800.0, 143, 0.0013317297, 0.00074671285)\n",
      "(1990422000.0, 144, 0.0013312246, 0.00037944468)\n",
      "(1981128000.0, 145, 0.0013281129, 0.0023429221)\n",
      "(1979204000.0, 146, 0.0013274678, 0.00048593065)\n",
      "(1979948900.0, 147, 0.0013277177, 0.00018816296)\n",
      "(1975193900.0, 148, 0.0013261223, 0.0012030229)\n",
      "(1973901400.0, 149, 0.0013256884, 0.00032728649)\n",
      "(1965159800.0, 150, 0.0013227497, 0.0022217268)\n",
      "(1969064600.0, 151, 0.0013240632, 0.0009920328)\n",
      "(1964359200.0, 152, 0.0013224802, 0.0011970052)\n",
      "(1956833500.0, 153, 0.0013199445, 0.0019210217)\n",
      "(1957385100.0, 154, 0.0013201305, 0.00014091916)\n",
      "(1953143300.0, 155, 0.0013186993, 0.0010853194)\n",
      "(1951245000.0, 156, 0.0013180583, 0.00048630833)\n",
      "(1947876900.0, 157, 0.0013169203, 0.00086419523)\n",
      "(1950105500.0, 158, 0.0013176734, 0.00057153066)\n",
      "(1949693400.0, 159, 0.0013175341, 0.00010567675)\n",
      "(1949510400.0, 160, 0.0013174724, 4.6832192e-05)\n",
      "(1945463600.0, 161, 0.0013161042, 0.0010396056)\n",
      "(1948368600.0, 162, 0.0013170865, 0.00074582227)\n",
      "(1945581000.0, 163, 0.0013161439, 0.0007161944)\n",
      "(1942829600.0, 164, 0.0013152129, 0.0007078499)\n",
      "(1944473200.0, 165, 0.0013157692, 0.00042274315)\n",
      "(1949383700.0, 166, 0.0013174295, 0.0012602689)\n",
      "(1946928000.0, 167, 0.0013165994, 0.0006304433)\n",
      "(1946254100.0, 168, 0.0013163716, 0.00017307026)\n",
      "(1946394500.0, 169, 0.0013164191, 3.6080797e-05)\n",
      "(1946611500.0, 170, 0.0013164924, 5.5709894e-05)\n",
      "(1943150700.0, 171, 0.0013153217, 0.00089011603)\n",
      "(1943498800.0, 172, 0.0013154395, 8.9561174e-05)\n",
      "(1943594400.0, 173, 0.0013154718, 2.4602168e-05)\n",
      "(1945686500.0, 174, 0.0013161796, 0.00053777243)\n",
      "(1941661400.0, 175, 0.0013148175, 0.0010360188)\n",
      "(1946253600.0, 176, 0.0013163714, 0.0011804509)\n"
     ]
    },
    {
     "name": "stdout",
     "output_type": "stream",
     "text": [
      "(1946558500.0, 177, 0.0013164745, 7.834863e-05)\n",
      "(1944567300.0, 178, 0.001315801, 0.0005118271)\n",
      "(1946311200.0, 179, 0.0013163909, 0.00044810126)\n",
      "(1943133400.0, 180, 0.0013153158, 0.0008173668)\n",
      "(1945078700.0, 181, 0.001315974, 0.00050017115)\n",
      "(1945883600.0, 182, 0.0013162463, 0.0002068727)\n",
      "(1942500400.0, 183, 0.0013151015, 0.0008705246)\n",
      "(1943076700.0, 184, 0.0013152966, 0.00014834074)\n",
      "(1943161900.0, 185, 0.0013153255, 2.19497e-05)\n",
      "(1946108200.0, 186, 0.0013163222, 0.0007572219)\n",
      "(1943593700.0, 187, 0.0013154716, 0.00064664776)\n",
      "(1941832600.0, 188, 0.0013148754, 0.00045339874)\n",
      "(1943650700.0, 189, 0.0013154909, 0.0004678769)\n",
      "(1945254800.0, 190, 0.0013160337, 0.0004123969)\n",
      "(1944255200.0, 191, 0.0013156955, 0.0002570401)\n",
      "(1943356500.0, 192, 0.0013153913, 0.00023125684)\n",
      "(1943293700.0, 193, 0.0013153701, 1.61077e-05)\n",
      "(1945924400.0, 194, 0.0013162601, 0.00067615445)\n",
      "(1941835400.0, 195, 0.0013148765, 0.0010522632)\n",
      "(1942918900.0, 196, 0.0013152432, 0.00027881403)\n",
      "(1942940000.0, 197, 0.0013152504, 5.4877382e-06)\n",
      "Breaking after 197 iterations\n"
     ]
    }
   ],
   "source": [
    "\n",
    "\n",
    "i = 0\n",
    "while gradnorm_val > eps:   \n",
    "#for k in range(50):\n",
    "    i = i + 1\n",
    "    F_v, gradnorm_val, _ = sess.run([loss, gradnorm_omega, train_step.op])\n",
    "    \n",
    "    train_loss_hist.append(gradnorm_val)\n",
    "    if i > 1:\n",
    "        diff_train = np.abs(train_loss_hist[i - 1] - train_loss_hist[i-2])/np.abs(train_loss_hist[i-1])\n",
    "        print (F_v, i, gradnorm_val, diff_train)\n",
    "        if diff_train <= epsilon_train:\n",
    "            print \"Breaking after \" + str(i) + \" iterations\"\n",
    "            break\n",
    "    log.append(F_v)"
   ]
  },
  {
   "cell_type": "code",
   "execution_count": 34,
   "metadata": {},
   "outputs": [
    {
     "name": "stdout",
     "output_type": "stream",
     "text": [
      "A Tensor Train variable of shape (53, 63, 46, 144), TT-ranks: (1, 53, 63, 63, 1)\n"
     ]
    }
   ],
   "source": [
    "print X"
   ]
  },
  {
   "cell_type": "code",
   "execution_count": 35,
   "metadata": {
    "collapsed": true
   },
   "outputs": [],
   "source": [
    "estimated_val = sess.run(t3f.full(X))"
   ]
  },
  {
   "cell_type": "code",
   "execution_count": 36,
   "metadata": {
    "collapsed": true
   },
   "outputs": [],
   "source": [
    "ground_truth_val = sess.run(ground_truth)\n"
   ]
  },
  {
   "cell_type": "code",
   "execution_count": 37,
   "metadata": {
    "collapsed": true
   },
   "outputs": [],
   "source": [
    "x_reconstr = mt.reconstruct(estimated_val,ground_truth_val, ten_ones, mask_indices)\n"
   ]
  },
  {
   "cell_type": "code",
   "execution_count": 38,
   "metadata": {
    "collapsed": true
   },
   "outputs": [],
   "source": [
    "def relative_error(x_hat,x_true):\n",
    "    percent_error = np.linalg.norm(x_hat - x_true) / np.linalg.norm(x_true)\n",
    "    return percent_error"
   ]
  },
  {
   "cell_type": "code",
   "execution_count": 39,
   "metadata": {
    "collapsed": true
   },
   "outputs": [],
   "source": [
    "rel_error = relative_error(estimated_val,ground_truth_val)"
   ]
  },
  {
   "cell_type": "code",
   "execution_count": 40,
   "metadata": {},
   "outputs": [
    {
     "name": "stdout",
     "output_type": "stream",
     "text": [
      "0.0038975324\n"
     ]
    }
   ],
   "source": [
    "print rel_error"
   ]
  },
  {
   "cell_type": "code",
   "execution_count": 41,
   "metadata": {
    "collapsed": true
   },
   "outputs": [],
   "source": [
    "rel_error_rec = relative_error(x_reconstr,ground_truth_val)"
   ]
  },
  {
   "cell_type": "code",
   "execution_count": 42,
   "metadata": {},
   "outputs": [
    {
     "data": {
      "text/plain": [
       "0.0030929133780565853"
      ]
     },
     "execution_count": 42,
     "metadata": {},
     "output_type": "execute_result"
    }
   ],
   "source": [
    "rel_error_rec"
   ]
  },
  {
   "cell_type": "code",
   "execution_count": 43,
   "metadata": {
    "collapsed": true
   },
   "outputs": [],
   "source": [
    "x_miss_img = mt.reconstruct_image_affine(x_true_org, x_train)"
   ]
  },
  {
   "cell_type": "code",
   "execution_count": 44,
   "metadata": {
    "collapsed": true
   },
   "outputs": [],
   "source": [
    "x_miss = image.index_img(x_miss_img,1)"
   ]
  },
  {
   "cell_type": "code",
   "execution_count": 45,
   "metadata": {},
   "outputs": [
    {
     "data": {
      "image/png": "[encoded data removed]",
      "text/plain": [
       "<matplotlib.figure.Figure at 0x12ea6a7d0>"
      ]
     },
     "metadata": {},
     "output_type": "display_data"
    }
   ],
   "source": [
    "x_miss_image = plotting.plot_epi(x_miss, bg_img=None,black_bg=True, cmap='jet', cut_coords=None) "
   ]
  },
  {
   "cell_type": "code",
   "execution_count": 46,
   "metadata": {},
   "outputs": [
    {
     "data": {
      "image/png": "[encoded data removed]",
      "text/plain": [
       "<matplotlib.figure.Figure at 0x1446574d0>"
      ]
     },
     "metadata": {},
     "output_type": "display_data"
    }
   ],
   "source": [
    "x_hat_img = mt.reconstruct_image_affine(x_true_org, x_reconstr)\n",
    "x_hat = image.index_img(x_hat_img,1)\n",
    "recovered_image = plotting.plot_epi(x_hat, bg_img=None,black_bg=True, cmap='jet', cut_coords=None)"
   ]
  },
  {
   "cell_type": "code",
   "execution_count": 47,
   "metadata": {},
   "outputs": [
    {
     "data": {
      "image/png": "[encoded data removed]",
      "text/plain": [
       "<matplotlib.figure.Figure at 0x1443379d0>"
      ]
     },
     "metadata": {},
     "output_type": "display_data"
    }
   ],
   "source": [
    "x_true_org_img = image.index_img(x_true_org,1)\n",
    "org_image = plotting.plot_epi(x_true_org_img, bg_img=None,black_bg=True, cmap='jet', cut_coords=None)"
   ]
  },
  {
   "cell_type": "code",
   "execution_count": 48,
   "metadata": {},
   "outputs": [
    {
     "name": "stdout",
     "output_type": "stream",
     "text": [
      "('Saving figure', '/work/scratch/tt1/1/missing_ratio_60.00.png')\n",
      "Called from mrd\n"
     ]
    }
   ],
   "source": [
    "images_folder = \"/work/scratch/tt1/1\"\n",
    "mrd.draw_original_vs_reconstructed_rim(image.index_img(x_true_org,1),x_hat, image.index_img(x_miss_img,1), \"Rim Completion\",\n",
    "                                             observed_ratio, observed_ratio, coord=None, folder=images_folder)"
   ]
  },
  {
   "cell_type": "code",
   "execution_count": 49,
   "metadata": {
    "collapsed": true
   },
   "outputs": [],
   "source": [
    "estimated_val_img = mt.reconstruct_image_affine(x_true_org, estimated_val)"
   ]
  },
  {
   "cell_type": "code",
   "execution_count": 50,
   "metadata": {
    "collapsed": true
   },
   "outputs": [],
   "source": [
    "estimated_val_hat = image.index_img(estimated_val_img,1)"
   ]
  },
  {
   "cell_type": "code",
   "execution_count": 51,
   "metadata": {},
   "outputs": [
    {
     "name": "stdout",
     "output_type": "stream",
     "text": [
      "('Saving figure', '/work/scratch/tt1/2/missing_ratio_60.00.png')\n",
      "Called from mrd\n"
     ]
    }
   ],
   "source": [
    "images_folder = \"/work/scratch/tt1/2\"\n",
    "mrd.draw_original_vs_reconstructed_rim(image.index_img(x_true_org,1),estimated_val_hat,image.index_img(x_miss_img,1), \"Rim Completion2\",\n",
    "                                             observed_ratio, observed_ratio, coord=None, folder=images_folder)"
   ]
  },
  {
   "cell_type": "code",
   "execution_count": null,
   "metadata": {
    "collapsed": true
   },
   "outputs": [],
   "source": []
  }
 ],
 "metadata": {
  "kernelspec": {
   "display_name": "Python 2",
   "language": "python",
   "name": "python2"
  },
  "language_info": {
   "codemirror_mode": {
    "name": "ipython",
    "version": 2
   },
   "file_extension": ".py",
   "mimetype": "text/x-python",
   "name": "python",
   "nbconvert_exporter": "python",
   "pygments_lexer": "ipython2",
   "version": "2.7.13"
  }
 },
 "nbformat": 4,
 "nbformat_minor": 2
}
