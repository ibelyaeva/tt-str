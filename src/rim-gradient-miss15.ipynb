{
 "cells": [
  {
   "cell_type": "code",
   "execution_count": 1,
   "metadata": {},
   "outputs": [
    {
     "name": "stderr",
     "output_type": "stream",
     "text": [
      "/usr/local/lib/python2.7/site-packages/matplotlib/__init__.py:1405: UserWarning: \n",
      "This call to matplotlib.use() has no effect because the backend has already\n",
      "been chosen; matplotlib.use() must be called *before* pylab, matplotlib.pyplot,\n",
      "or matplotlib.backends is imported for the first time.\n",
      "\n",
      "  warnings.warn(_use_error_msg)\n"
     ]
    }
   ],
   "source": [
    "import tensorflow as tf\n",
    "import numpy as np\n",
    "import t3f\n",
    "tf.set_random_seed(0)\n",
    "np.random.seed(0)\n",
    "%matplotlib inline\n",
    "import matplotlib.pyplot as plt\n",
    "import metric_util as mt\n",
    "import data_util as du\n",
    "from t3f import shapes\n",
    "from nilearn import image\n",
    "from skimage.measure import compare_ssim as ssim\n",
    "from tensorflow.python.util import nest\n",
    "import copy\n",
    "from nilearn import plotting\n",
    "from t3f import ops\n",
    "import mri_draw_utils as mrd\n",
    "from t3f import initializers\n",
    "from t3f import approximate\n",
    "from scipy import optimize "
   ]
  },
  {
   "cell_type": "code",
   "execution_count": 2,
   "metadata": {
    "collapsed": true
   },
   "outputs": [],
   "source": [
    "#sess = tf.InteractiveSession()"
   ]
  },
  {
   "cell_type": "code",
   "execution_count": 3,
   "metadata": {
    "collapsed": true
   },
   "outputs": [],
   "source": [
    "def frobenius_norm_tf_squared(x):\n",
    "    return tf.reduce_sum(x ** 2)"
   ]
  },
  {
   "cell_type": "code",
   "execution_count": 4,
   "metadata": {
    "collapsed": true
   },
   "outputs": [],
   "source": [
    "def frobenius_norm_tf(x):\n",
    "    return tf.reduce_sum(x ** 2) ** 0.5"
   ]
  },
  {
   "cell_type": "code",
   "execution_count": 5,
   "metadata": {
    "collapsed": true
   },
   "outputs": [],
   "source": [
    "def relative_error1(x_hat,x_true):\n",
    "    percent_error = frobenius_norm_tf(x_hat - x_true) / frobenius_norm_tf(x_true)\n",
    "    return percent_error"
   ]
  },
  {
   "cell_type": "code",
   "execution_count": 6,
   "metadata": {
    "collapsed": true
   },
   "outputs": [],
   "source": [
    "def innerProduct(x, y):\n",
    "    result = tf.reduce_sum(tf.multiply(x, y))\n",
    "    return result"
   ]
  },
  {
   "cell_type": "code",
   "execution_count": 7,
   "metadata": {
    "collapsed": true
   },
   "outputs": [],
   "source": [
    "def compute_step_size(n_omega, grad):\n",
    "    result = -innerProduct(n_omega,grad)/(innerProduct(n_omega, n_omega))\n",
    "    return result"
   ]
  },
  {
   "cell_type": "code",
   "execution_count": 8,
   "metadata": {
    "collapsed": true
   },
   "outputs": [],
   "source": [
    "def draw(omega, x_true, x_hat, rel_error):\n",
    "    images_folder = \"/work/scratch/tt1\"\n",
    "    ten_ones = np.ones_like(omega)\n",
    "    x_reconstr1 = mt.reconstruct2(x_hat,ground_truth, omega)\n",
    "    x_hat_img = mt.reconstruct_image_affine(x_true_org, x_reconstr1)\n",
    "    x_hat_est = image.index_img(x_hat_img,1)\n",
    "    \n",
    "    x_true_org_img = image.index_img(x_true,1)\n",
    "    x_miss_img = mt.reconstruct_image_affine(x_true_org, x_train)\n",
    "    x_miss = image.index_img(x_miss_img,1)\n",
    "    mrd.draw_original_vs_reconstructed_rim(x_true_org_img,x_hat_est, x_miss, \"Rim Completion\",\n",
    "                                             rel_error, observed_ratio, coord=None, folder=images_folder)"
   ]
  },
  {
   "cell_type": "code",
   "execution_count": 9,
   "metadata": {},
   "outputs": [
    {
     "name": "stdout",
     "output_type": "stream",
     "text": [
      "Subject Path: /work/pl/sch/analysis/data/COBRE001/swaAMAYER+cobre01_63001+M87100944+20110309at135133+RSTpre_V01_R01+CM.nii\n"
     ]
    }
   ],
   "source": [
    "subject_scan_path = du.get_full_path_subject1()\n",
    "print \"Subject Path: \" + str(subject_scan_path)\n",
    "x_true_org = mt.read_image_abs_path(subject_scan_path)\n"
   ]
  },
  {
   "cell_type": "code",
   "execution_count": null,
   "metadata": {
    "collapsed": true
   },
   "outputs": [],
   "source": []
  },
  {
   "cell_type": "code",
   "execution_count": 10,
   "metadata": {
    "collapsed": true
   },
   "outputs": [],
   "source": [
    "observed_ratio = 0.4\n",
    "x_true_img = np.array(x_true_org.get_data())\n",
    "\n",
    "norm_ground_truth = np.linalg.norm(x_true_img)\n",
    "x_true_img = x_true_img * (1./norm_ground_truth)\n",
    "\n",
    "mask_indices = (np.random.rand(x_true_img.shape[0],x_true_img.shape[1],x_true_img.shape[2], x_true_img.shape[3]) < observed_ratio).astype('int') \n",
    "ten_ones = np.ones_like(mask_indices)\n",
    "x_train = copy.deepcopy(x_true_img)\n",
    "x_train[mask_indices==0] = 0.0\n",
    "x_train[mask_indices == 0] = np.mean(x_train[mask_indices == 1])\n",
    "#x_train[mask_indices == 0] = np.mean(x_train[mask_indices == 1])\n",
    "\n",
    "x_init = copy.deepcopy(x_train)\n",
    "#shape = (1, 53, 63, 63, 1)\n",
    "#x_init_tf = t3f.random_tensor(shape, tt_rank=63)\n",
    "\n",
    "\n",
    "ground_truth = copy.deepcopy(x_true_img)\n",
    "a_omega = copy.deepcopy(ground_truth)\n",
    "a_omega[mask_indices==0] = 0.0\n",
    "\n",
    "sparse_observation = copy.deepcopy(ground_truth)\n",
    "sparse_observation[mask_indices==0] = 0.0"
   ]
  },
  {
   "cell_type": "code",
   "execution_count": 11,
   "metadata": {},
   "outputs": [
    {
     "data": {
      "text/plain": [
       "74916430.0"
      ]
     },
     "execution_count": 11,
     "metadata": {},
     "output_type": "execute_result"
    }
   ],
   "source": [
    "norm_ground_truth"
   ]
  },
  {
   "cell_type": "code",
   "execution_count": 12,
   "metadata": {},
   "outputs": [
    {
     "data": {
      "image/png": "[encoded data removed]",
      "text/plain": [
       "<matplotlib.figure.Figure at 0x106e02e10>"
      ]
     },
     "metadata": {},
     "output_type": "display_data"
    }
   ],
   "source": [
    "x_org = mt.reconstruct_image_affine(x_true_org, x_true_img)\n",
    "x_org_img = image.index_img(x_org,1)\n",
    "#x_true_org_img = image.index_img(x_true_org,1)\n",
    "org_image = plotting.plot_epi(x_org_img, bg_img=None,black_bg=True, cmap='jet', cut_coords=None)"
   ]
  },
  {
   "cell_type": "code",
   "execution_count": 13,
   "metadata": {
    "collapsed": true
   },
   "outputs": [],
   "source": [
    "ten_ones = np.ones_like(mask_indices)\n"
   ]
  },
  {
   "cell_type": "code",
   "execution_count": 14,
   "metadata": {},
   "outputs": [
    {
     "name": "stdout",
     "output_type": "stream",
     "text": [
      "0.6326422\n"
     ]
    }
   ],
   "source": [
    "norm_sparse_observation = np.linalg.norm(sparse_observation)\n",
    "print norm_sparse_observation"
   ]
  },
  {
   "cell_type": "code",
   "execution_count": 15,
   "metadata": {},
   "outputs": [
    {
     "name": "stdout",
     "output_type": "stream",
     "text": [
      "[1, 53, 1, 1, 1] 0 (1, 53, 53)\n",
      "[1, 53, 63, 1, 1] 1 (53, 63, 63)\n",
      "[1, 53, 63, 63, 1] 2 (63, 46, 63)\n",
      "ranks: [1, 53, 63, 63, 1]\n"
     ]
    }
   ],
   "source": [
    "mask_indices_tf = t3f.to_tt_tensor(mask_indices.astype('float32'), max_tt_rank=63)"
   ]
  },
  {
   "cell_type": "code",
   "execution_count": 16,
   "metadata": {
    "collapsed": true
   },
   "outputs": [],
   "source": [
    "x_miss_img = mt.reconstruct_image_affine(x_true_org, x_train*norm_ground_truth)"
   ]
  },
  {
   "cell_type": "code",
   "execution_count": 17,
   "metadata": {},
   "outputs": [],
   "source": [
    "x_miss = norm_ground_truth*x_train"
   ]
  },
  {
   "cell_type": "code",
   "execution_count": 18,
   "metadata": {
    "collapsed": true
   },
   "outputs": [],
   "source": [
    "x_miss = image.index_img(x_miss_img,1)"
   ]
  },
  {
   "cell_type": "code",
   "execution_count": 19,
   "metadata": {},
   "outputs": [
    {
     "data": {
      "image/png": "[encoded data removed]",
      "text/plain": [
       "<matplotlib.figure.Figure at 0x162f788d0>"
      ]
     },
     "metadata": {},
     "output_type": "display_data"
    }
   ],
   "source": [
    "x_miss_image = plotting.plot_epi(x_miss, bg_img=None,black_bg=True, cmap='jet', cut_coords=None) "
   ]
  },
  {
   "cell_type": "code",
   "execution_count": 20,
   "metadata": {},
   "outputs": [
    {
     "name": "stdout",
     "output_type": "stream",
     "text": [
      "('Saving figure', '/work/scratch/tt1/missing_ratio_60.00.png')\n",
      "Called from mrd\n"
     ]
    }
   ],
   "source": [
    "images_folder = \"/work/scratch/tt1\"\n",
    "mrd.draw_original_vs_reconstructed_rim(image.index_img(x_true_org,1),image.index_img(x_miss_img,1), image.index_img(x_miss_img,1), \"Rim Completion\",\n",
    "                                             observed_ratio, observed_ratio, coord=None, folder=images_folder)"
   ]
  },
  {
   "cell_type": "code",
   "execution_count": 21,
   "metadata": {},
   "outputs": [
    {
     "name": "stdout",
     "output_type": "stream",
     "text": [
      "[1, 53, 1, 1, 1] 0 (1, 53, 53)\n",
      "[1, 53, 63, 1, 1] 1 (53, 63, 63)\n",
      "[1, 53, 63, 63, 1] 2 (63, 46, 63)\n",
      "ranks: [1, 53, 63, 63, 1]\n"
     ]
    }
   ],
   "source": [
    "ground_truth_tf = t3f.to_tt_tensor(ground_truth, max_tt_rank=63)"
   ]
  },
  {
   "cell_type": "code",
   "execution_count": 22,
   "metadata": {
    "collapsed": true
   },
   "outputs": [],
   "source": [
    "A = t3f.get_variable('A', initializer=ground_truth_tf, trainable=False)"
   ]
  },
  {
   "cell_type": "code",
   "execution_count": 23,
   "metadata": {
    "collapsed": true
   },
   "outputs": [],
   "source": [
    "ground_truth = tf.get_variable('ground_truth', initializer=ground_truth, trainable=False)\n",
    "sparsity_mask = tf.get_variable('sparsity_mask', initializer=mask_indices, trainable=False)\n",
    "sparsity_mask = tf.cast(sparsity_mask,tf.float32)\n",
    "sparse_observation = ground_truth * sparsity_mask"
   ]
  },
  {
   "cell_type": "code",
   "execution_count": 24,
   "metadata": {
    "collapsed": true
   },
   "outputs": [],
   "source": [
    "#sparsity_mask = t3f.get_variable('sparsity_mask', initializer=mask_indices_tf, trainable=False)\n",
    "#sparsity_mask = t3f.cast(sparsity_mask, tf.float32)\n",
    "#sparse_observation_tf = t3f.to_tt_tensor(sparse_observation, max_tt_rank=63)\n",
    "#sparse_observation_tf3 = t3f.get_variable('sparse_observation_tf', initializer=sparse_observation_tf, trainable=False)"
   ]
  },
  {
   "cell_type": "code",
   "execution_count": 25,
   "metadata": {},
   "outputs": [
    {
     "name": "stdout",
     "output_type": "stream",
     "text": [
      "[1, 53, 1, 1, 1] 0 (1, 53, 53)\n",
      "[1, 53, 63, 1, 1] 1 (53, 63, 63)\n",
      "[1, 53, 63, 63, 1] 2 (63, 46, 63)\n",
      "ranks: [1, 53, 63, 63, 1]\n"
     ]
    }
   ],
   "source": [
    "x_train_tf = t3f.to_tt_tensor(x_init, max_tt_rank=63)"
   ]
  },
  {
   "cell_type": "code",
   "execution_count": null,
   "metadata": {
    "collapsed": true
   },
   "outputs": [],
   "source": []
  },
  {
   "cell_type": "code",
   "execution_count": 26,
   "metadata": {
    "collapsed": true
   },
   "outputs": [],
   "source": [
    "normAOmegavar = tf.get_variable('normAOmega', initializer=norm_sparse_observation, trainable=False)"
   ]
  },
  {
   "cell_type": "code",
   "execution_count": 27,
   "metadata": {
    "collapsed": true
   },
   "outputs": [],
   "source": [
    "X = t3f.get_variable('X', initializer=x_train_tf)"
   ]
  },
  {
   "cell_type": "code",
   "execution_count": 28,
   "metadata": {
    "collapsed": true
   },
   "outputs": [],
   "source": [
    "X_new = t3f.get_variable('X_new', initializer=x_train_tf)"
   ]
  },
  {
   "cell_type": "code",
   "execution_count": null,
   "metadata": {
    "collapsed": true
   },
   "outputs": [],
   "source": []
  },
  {
   "cell_type": "code",
   "execution_count": 29,
   "metadata": {},
   "outputs": [
    {
     "name": "stdout",
     "output_type": "stream",
     "text": [
      "A Tensor Train variable of shape (53, 63, 46, 144), TT-ranks: (1, 53, 63, 63, 1)\n"
     ]
    }
   ],
   "source": [
    "print X"
   ]
  },
  {
   "cell_type": "code",
   "execution_count": 30,
   "metadata": {
    "collapsed": true
   },
   "outputs": [],
   "source": [
    "def train_it_rel_cost(cost_hist, k):\n",
    "    res = np.abs(cost_hist[k] - cost_hist[k-1])/np.abs(cost_hist[k])\n",
    "    return res"
   ]
  },
  {
   "cell_type": "code",
   "execution_count": 31,
   "metadata": {
    "collapsed": true
   },
   "outputs": [],
   "source": [
    "counter = tf.get_variable('counter', initializer=0)"
   ]
  },
  {
   "cell_type": "code",
   "execution_count": 32,
   "metadata": {
    "collapsed": true
   },
   "outputs": [],
   "source": [
    "one = tf.constant(1)\n",
    "zero_point1 = tf.constant(0.1)"
   ]
  },
  {
   "cell_type": "code",
   "execution_count": 33,
   "metadata": {
    "collapsed": true
   },
   "outputs": [],
   "source": [
    "tt_zeros = initializers.tensor_zeros([53, 63, 46, 144])"
   ]
  },
  {
   "cell_type": "code",
   "execution_count": 34,
   "metadata": {
    "collapsed": true
   },
   "outputs": [],
   "source": [
    "#eta_t3f_old = t3f.get_variable('eta_t3f_old', initializer=tt_zeros)\n",
    "#grad_t3f_old = t3f.get_variable('grad_t3f_old', initializer=tt_zeros)"
   ]
  },
  {
   "cell_type": "code",
   "execution_count": 35,
   "metadata": {
    "collapsed": true
   },
   "outputs": [],
   "source": [
    "eta_old = tf.get_variable('eta_old', shape = (53, 63, 46, 144), validate_shape=False)\n",
    "grad_old = tf.get_variable('grad_old', shape = (53, 63, 46, 144), validate_shape=False)"
   ]
  },
  {
   "cell_type": "code",
   "execution_count": 36,
   "metadata": {
    "collapsed": true
   },
   "outputs": [],
   "source": [
    "one = tf.constant(1)\n",
    "zero_point1 = tf.constant(0.1)"
   ]
  },
  {
   "cell_type": "code",
   "execution_count": 37,
   "metadata": {
    "collapsed": true
   },
   "outputs": [],
   "source": [
    "\n",
    "\n",
    "def gradient(x):\n",
    "    return np.multiply(x,mask_indices) - a_omega\n",
    "    \n",
    "def cost_func(x):\n",
    "    return 0.5*(np.linalg.norm(np.multiply(x,mask_indices)-a_omega)** 2)\n",
    "\n",
    "def find_step_size(x,g,d, old_cost):\n",
    "    step_size = optimize.line_search(cost_func,gradient,x,d,gfk=None, old_fval=old_cost)"
   ]
  },
  {
   "cell_type": "code",
   "execution_count": 38,
   "metadata": {
    "collapsed": true
   },
   "outputs": [],
   "source": [
    "# Algorithm\n",
    "#grad_full = (t3f.full(X)*t3f.full(sparse_observation_tf3) - t3f.full(sparse_observation_tf3))\n",
    "#counter_step = tf.assign(counter, counter + 1)\n",
    "\n",
    "#grad_trans = t3f.riemannian.project(grad_t3f_old, X)\n",
    "#eta_trans = t3f.riemannian.project(eta_t3f_old, X)\n",
    "    \n",
    "#grad_full = sparsity_mask * t3f.full(X) - sparse_observation\n",
    "#grad_t3f = t3f.to_tt_tensor(grad_full, max_tt_rank=63)\n",
    "\n",
    "#loss = 0.5 * t3f.frobenius_norm_squared(grad_t3f)\n",
    "#gradnorm_omega = t3f.frobenius_norm(grad_t3f)/(normAOmegavar)\n",
    "\n",
    "#riemannian_grad = t3f.riemannian.project(grad_t3f, X)\n",
    "\n",
    "\n",
    "#eta_omega = sparsity_mask * t3f.full(-riemannian_grad)\n",
    "#alpha = compute_step_size(eta_omega, grad_full)\n",
    "\n",
    "\n",
    "\n",
    "#riemannian_grad_norm = t3f.flat_inner(riemannian_grad, riemannian_grad)\n",
    "\n",
    "\n",
    "\n",
    "#rel_error1 = relative_error1(t3f.full(X), t3f.full(sparse_observation))\n",
    "\n",
    "\n"
   ]
  },
  {
   "cell_type": "code",
   "execution_count": 39,
   "metadata": {
    "collapsed": true
   },
   "outputs": [],
   "source": [
    "eps = 1e-6\n",
    "epsilon_train=1e-6"
   ]
  },
  {
   "cell_type": "code",
   "execution_count": 40,
   "metadata": {
    "collapsed": true
   },
   "outputs": [],
   "source": [
    "#print grad_full"
   ]
  },
  {
   "cell_type": "code",
   "execution_count": 41,
   "metadata": {
    "collapsed": true
   },
   "outputs": [],
   "source": [
    "#print grad_t3f"
   ]
  },
  {
   "cell_type": "code",
   "execution_count": 42,
   "metadata": {},
   "outputs": [
    {
     "name": "stdout",
     "output_type": "stream",
     "text": [
      "1e-06\n"
     ]
    }
   ],
   "source": [
    "print eps"
   ]
  },
  {
   "cell_type": "code",
   "execution_count": 43,
   "metadata": {
    "collapsed": true
   },
   "outputs": [],
   "source": [
    "#alpha = 0.3\n"
   ]
  },
  {
   "cell_type": "code",
   "execution_count": 44,
   "metadata": {
    "collapsed": true
   },
   "outputs": [],
   "source": [
    "#sess = tf.Session()\n",
    "#sess.run(tf.global_variables_initializer())"
   ]
  },
  {
   "cell_type": "code",
   "execution_count": 45,
   "metadata": {
    "collapsed": true
   },
   "outputs": [],
   "source": [
    "def compute_loss(x):\n",
    "    return 0.5*frobenius_norm_tf_squared(sparsity_mask * t3f.full(x) - sparse_observation)"
   ]
  },
  {
   "cell_type": "code",
   "execution_count": 46,
   "metadata": {
    "collapsed": true
   },
   "outputs": [],
   "source": [
    "def tsc(x_hat,x_true, ten_ones, mask):\n",
    "    nomin = np.linalg.norm(np.multiply((ten_ones - mask), (x_true - x_hat)))\n",
    "    denom = np.linalg.norm(np.multiply((ten_ones - mask), x_true))\n",
    "    score = nomin/denom\n",
    "    return score  "
   ]
  },
  {
   "cell_type": "code",
   "execution_count": 47,
   "metadata": {
    "collapsed": true
   },
   "outputs": [],
   "source": [
    "def tsc_tf(x_hat,x_true_omega, mask):\n",
    "    score = frobenius_norm_tf(sparsity_mask * x_hat - sparse_observation)/normAOmegavar\n",
    "    return score  \n"
   ]
  },
  {
   "cell_type": "code",
   "execution_count": null,
   "metadata": {
    "collapsed": true
   },
   "outputs": [],
   "source": []
  },
  {
   "cell_type": "code",
   "execution_count": null,
   "metadata": {
    "collapsed": true
   },
   "outputs": [],
   "source": []
  },
  {
   "cell_type": "code",
   "execution_count": 48,
   "metadata": {
    "collapsed": true
   },
   "outputs": [],
   "source": [
    "#first step"
   ]
  },
  {
   "cell_type": "code",
   "execution_count": 49,
   "metadata": {},
   "outputs": [
    {
     "name": "stdout",
     "output_type": "stream",
     "text": [
      "[1, 53, 1, 1, 1] 0 (1, 53, 53)\n",
      "[1, 53, 63, 1, 1] 1 (53, 63, 63)\n",
      "[1, 53, 63, 63, 1] 2 (63, 46, 63)\n",
      "ranks: [1, 53, 63, 63, 1]\n",
      "Max_TT rank63\n",
      "[1, 53, 63, 63, 1]\n",
      "Max_TT rank63\n",
      "[1, 53, 63, 63, 1]\n"
     ]
    }
   ],
   "source": [
    "zero_point1 = tf.constant(0.1)\n",
    "backtack_const = tf.constant(1e-4)\n",
    "\n",
    "initial_cost = compute_loss(X)\n",
    "cost = tf.get_variable('cost', initializer=initial_cost)\n",
    "cost_new = tf.get_variable('cost_new', initializer=0.0)\n",
    "\n",
    "tsc_score_curr = tsc_tf(t3f.full(X),ground_truth, sparse_observation)\n",
    "completion_score = tf.get_variable('completion_score', initializer=tsc_score_curr)\n",
    "\n",
    "grad_full_0 = sparsity_mask * t3f.full(X) - sparse_observation\n",
    "grad_t3f_0 = t3f.to_tt_tensor(grad_full_0, max_tt_rank=63)\n",
    "\n",
    "gradnorm_omega_0 = t3f.frobenius_norm(grad_t3f_0)/(normAOmegavar)\n",
    "riemannian_grad_0 = t3f.riemannian.project(grad_t3f_0, X)\n",
    "riemannian_grad_0 = t3f.round(riemannian_grad_0, max_tt_rank =63, epsilon = 1e-15)\n",
    "\n",
    "grad_t3f_old = t3f.get_variable('grad_t3f_old', initializer=riemannian_grad_0)\n",
    "\n",
    "#grad_t3f_old_op = t3f.assign(grad_t3f_old, riemannian_grad_0, validate_shape=False)\n",
    "riemannian_grad_full_0 = t3f.full(riemannian_grad_0)\n",
    "riemannian_grad_init_op = tf.assign(grad_old,riemannian_grad_full_0)\n",
    "\n",
    "eta_t3f_0 = -riemannian_grad_0\n",
    "eta_t3f_old = t3f.get_variable('eta_t3f_old', initializer=eta_t3f_0)\n",
    "\n",
    "eta_0 = -riemannian_grad_init_op\n",
    "eta_omega_0 = sparsity_mask * t3f.full(-riemannian_grad_0)\n",
    "\n",
    "alpha_0 = compute_step_size(eta_omega_0, riemannian_grad_init_op)\n",
    "eta_op_0 = tf.assign(eta_old,eta_0, validate_shape=False)\n",
    "\n",
    "eta_norm = tf.get_variable('eta_norm', initializer=0.0)\n",
    "eta_norm_init_op = tf.assign(eta_norm, frobenius_norm_tf(eta_op_0))\n",
    "\n",
    "alpha_old = tf.get_variable('alpha_old', initializer=0.0)\n",
    "\n",
    "train_step_0 = t3f.assign(X, t3f.round(X - alpha_0 * eta_t3f_0, max_tt_rank=63))\n",
    "\n"
   ]
  },
  {
   "cell_type": "code",
   "execution_count": 50,
   "metadata": {},
   "outputs": [
    {
     "name": "stdout",
     "output_type": "stream",
     "text": [
      "Rim 0:A Tensor Train of shape (53, 63, 46, 144), TT-ranks: (1, 53, 63, 63, 1)\n"
     ]
    }
   ],
   "source": [
    "print \"Rim 0:\" + str(riemannian_grad_0)"
   ]
  },
  {
   "cell_type": "code",
   "execution_count": 51,
   "metadata": {},
   "outputs": [
    {
     "name": "stdout",
     "output_type": "stream",
     "text": [
      "Eta 0: A Tensor Train of shape (53, 63, 46, 144), TT-ranks: (1, 53, 63, 63, 1)\n"
     ]
    }
   ],
   "source": [
    "print \"Eta 0: \" + str(eta_t3f_0)"
   ]
  },
  {
   "cell_type": "code",
   "execution_count": 52,
   "metadata": {
    "collapsed": true
   },
   "outputs": [],
   "source": [
    "#tt = t3f.round(eta_t3f_old, max_tt_rank =63, epsilon = 1e-15"
   ]
  },
  {
   "cell_type": "code",
   "execution_count": null,
   "metadata": {
    "collapsed": true
   },
   "outputs": [],
   "source": []
  },
  {
   "cell_type": "code",
   "execution_count": null,
   "metadata": {
    "collapsed": true
   },
   "outputs": [],
   "source": []
  },
  {
   "cell_type": "code",
   "execution_count": 53,
   "metadata": {
    "collapsed": true
   },
   "outputs": [],
   "source": [
    "# new\n",
    "#t3f.assign(eta_t3f_old, t3f.round(eta_t3f_old, max_tt_rank =63, epsilon = 1e-15))\n"
   ]
  },
  {
   "cell_type": "code",
   "execution_count": 54,
   "metadata": {},
   "outputs": [
    {
     "name": "stdout",
     "output_type": "stream",
     "text": [
      "[1, 53, 1, 1, 1] 0 (1, 53, 53)\n",
      "[1, 53, 63, 1, 1] 1 (53, 63, 63)\n",
      "[1, 53, 63, 63, 1] 2 (63, 46, 63)\n",
      "ranks: [1, 53, 63, 63, 1]\n",
      "Max_TT rank63\n",
      "[1, 53, 63, 63, 1]\n",
      "Rim Grad shape: A Tensor Train of shape (53, 63, 46, 144), TT-ranks: (1, 53, 63, 63, 1)\n",
      "eta_trans: A Tensor Train of shape (53, 63, 46, 144), TT-ranks: (1, 106, 126, 126, 1)\n",
      "steepest descent\n",
      "conjugate gradient\n",
      "Max_TT rank63\n",
      "[1, 53, 63, 63, 1]\n",
      "[1, 53, 1, 1, 1] 0 (1, 53, 53)\n",
      "[1, 53, 63, 1, 1] 1 (53, 63, 63)\n",
      "[1, 53, 63, 63, 1] 2 (63, 46, 63)\n",
      "ranks: [1, 53, 63, 63, 1]\n",
      "eta: A Tensor Train of shape (53, 63, 46, 144), TT-ranks: (1, 53, 63, 63, 1)\n"
     ]
    }
   ],
   "source": [
    "counter_step = tf.assign(counter, counter + 1)\n",
    "\n",
    "grad_trans = t3f.riemannian.project(grad_t3f_old, X)\n",
    "eta_trans = t3f.riemannian.project(eta_t3f_old, X)\n",
    "    \n",
    "grad_full = sparsity_mask * t3f.full(X) - sparse_observation\n",
    "grad_t3f = t3f.to_tt_tensor(grad_full, max_tt_rank=63)\n",
    "\n",
    "\n",
    "loss = 0.5 * t3f.frobenius_norm_squared(grad_t3f)\n",
    "gradnorm_omega = t3f.frobenius_norm(grad_t3f)/(normAOmegavar)\n",
    "\n",
    "riemannian_grad =  t3f.round(t3f.riemannian.project(grad_t3f, X),max_tt_rank =63)\n",
    "#riemannian_grad = t3f.round(riemannian_grad, max_tt_rank =63, epsilon = 1e-15)\n",
    "riemannian_grad_norm = t3f.frobenius_norm(riemannian_grad)\n",
    "\n",
    "inner_product_rim_grad = t3f.flat_inner(riemannian_grad, riemannian_grad)\n",
    "ip_xitrans_xi = t3f.flat_inner(grad_trans,riemannian_grad)\n",
    "theta = ip_xitrans_xi / inner_product_rim_grad\n",
    "\n",
    "def get_theta():\n",
    "    return t3f.full(ip_xitrans_xi / inner_product_rim_grad)\n",
    "\n",
    "def get_value_zero_point1():\n",
    "    return zero_point1\n",
    "    \n",
    "def get_conj_dir():\n",
    "    print \"conjugate gradient\"\n",
    "    tf.Print(zero_point1,[zero_point1],message=\"conjugate gradient\")\n",
    "    return t3f.full(approximate.add_n([-riemannian_grad, beta*eta_trans], max_tt_rank=63))\n",
    "\n",
    "def get_rim_grad():\n",
    "    print \"steepest descent\"\n",
    "    tf.Print(zero_point1,[zero_point1],message=\"steepest descent\")\n",
    "    return t3f.full(-riemannian_grad)\n",
    "\n",
    "# compute beta\n",
    "inner_product_rim_grad_old = t3f.flat_inner(grad_t3f_old, grad_t3f_old)\n",
    "beta = tf.maximum(0.0, (inner_product_rim_grad - ip_xitrans_xi)/inner_product_rim_grad_old)\n",
    "#eta = -riemannian_grad + beta*eta_trans\n",
    "\n",
    "print \"Rim Grad shape: \" + str(riemannian_grad)\n",
    "print \"eta_trans: \" + str(eta_trans)\n",
    "\n",
    "eta_cond = tf.cond((tf.abs(theta) >= zero_point1), get_rim_grad, get_conj_dir)\n",
    "eta_norm_update_op = tf.assign(eta_norm, frobenius_norm_tf(eta_cond))\n",
    "\n",
    "#eta = tf.case([(tf.greater_equal(theta_full,zero_point1), get_rim_grad)], default=get_conj_dir, exclusive=True)\n",
    "#eta = approximate.add_n([-riemannian_grad, beta*eta_trans], max_tt_rank=63)\n",
    "eta = t3f.to_tt_tensor(eta_cond, max_tt_rank=63)\n",
    "\n",
    "inprod_grad_eta = t3f.flat_inner(riemannian_grad,eta)\n",
    "#\n",
    "#eta_full = t3f.full(eta)\n",
    "\n",
    "print \"eta: \" + str(eta)\n",
    "#print \"eta1: \" + str(eta1)\n",
    "                                            \n",
    "#(1, 106, 126, 126, 1)\n",
    "\n",
    "eta_omega = sparsity_mask * t3f.full(eta)\n",
    "alpha = compute_step_size(eta_omega, grad_full)\n",
    "\n",
    "#two = tf.constant(2.0)\n",
    "#alpha1 =tf.maximum(0.0,two*(cost_new - cost)/inprod_grad_eta)"
   ]
  },
  {
   "cell_type": "code",
   "execution_count": null,
   "metadata": {
    "collapsed": true
   },
   "outputs": [],
   "source": []
  },
  {
   "cell_type": "code",
   "execution_count": 55,
   "metadata": {
    "collapsed": true
   },
   "outputs": [],
   "source": [
    "#eta1 = tf.cond((theta > zero_point1), get_rim_grad, get_conj_dir)"
   ]
  },
  {
   "cell_type": "code",
   "execution_count": 56,
   "metadata": {},
   "outputs": [
    {
     "name": "stdout",
     "output_type": "stream",
     "text": [
      "A Tensor Train of shape (53, 63, 46, 144), TT-ranks: (1, 53, 63, 63, 1)\n"
     ]
    }
   ],
   "source": [
    "print eta"
   ]
  },
  {
   "cell_type": "code",
   "execution_count": null,
   "metadata": {
    "collapsed": true
   },
   "outputs": [],
   "source": []
  },
  {
   "cell_type": "code",
   "execution_count": null,
   "metadata": {
    "collapsed": true
   },
   "outputs": [],
   "source": []
  },
  {
   "cell_type": "code",
   "execution_count": null,
   "metadata": {
    "collapsed": true
   },
   "outputs": [],
   "source": []
  },
  {
   "cell_type": "code",
   "execution_count": null,
   "metadata": {
    "collapsed": true
   },
   "outputs": [],
   "source": []
  },
  {
   "cell_type": "code",
   "execution_count": null,
   "metadata": {
    "collapsed": true
   },
   "outputs": [],
   "source": [
    "    "
   ]
  },
  {
   "cell_type": "code",
   "execution_count": null,
   "metadata": {
    "collapsed": true
   },
   "outputs": [],
   "source": []
  },
  {
   "cell_type": "code",
   "execution_count": null,
   "metadata": {
    "collapsed": true
   },
   "outputs": [],
   "source": [
    " "
   ]
  },
  {
   "cell_type": "code",
   "execution_count": null,
   "metadata": {
    "collapsed": true
   },
   "outputs": [],
   "source": []
  },
  {
   "cell_type": "code",
   "execution_count": null,
   "metadata": {
    "collapsed": true
   },
   "outputs": [],
   "source": []
  },
  {
   "cell_type": "code",
   "execution_count": null,
   "metadata": {
    "collapsed": true
   },
   "outputs": [],
   "source": []
  },
  {
   "cell_type": "code",
   "execution_count": null,
   "metadata": {
    "collapsed": true
   },
   "outputs": [],
   "source": []
  },
  {
   "cell_type": "code",
   "execution_count": null,
   "metadata": {
    "collapsed": true
   },
   "outputs": [],
   "source": []
  },
  {
   "cell_type": "code",
   "execution_count": null,
   "metadata": {
    "collapsed": true
   },
   "outputs": [],
   "source": []
  },
  {
   "cell_type": "code",
   "execution_count": null,
   "metadata": {
    "collapsed": true
   },
   "outputs": [],
   "source": []
  },
  {
   "cell_type": "code",
   "execution_count": null,
   "metadata": {
    "collapsed": true
   },
   "outputs": [],
   "source": []
  },
  {
   "cell_type": "code",
   "execution_count": null,
   "metadata": {
    "collapsed": true
   },
   "outputs": [],
   "source": []
  },
  {
   "cell_type": "code",
   "execution_count": 57,
   "metadata": {
    "collapsed": true
   },
   "outputs": [],
   "source": [
    "#cost_old_update = compute_loss(X)\n",
    "#cost_old_op = tf.assign(cost_old,cost_old_update)"
   ]
  },
  {
   "cell_type": "code",
   "execution_count": null,
   "metadata": {
    "collapsed": true
   },
   "outputs": [],
   "source": []
  },
  {
   "cell_type": "code",
   "execution_count": 58,
   "metadata": {},
   "outputs": [
    {
     "name": "stdout",
     "output_type": "stream",
     "text": [
      "Max_TT rank63\n",
      "[1, 53, 63, 63, 1]\n"
     ]
    }
   ],
   "source": [
    "train_new_step = t3f.assign(X_new, t3f.round(X + alpha * eta, max_tt_rank=63))"
   ]
  },
  {
   "cell_type": "code",
   "execution_count": 59,
   "metadata": {
    "collapsed": true
   },
   "outputs": [],
   "source": [
    "updated_cost_new = compute_loss(train_new_step)\n",
    "cost_new_op = tf.assign(cost_new,updated_cost_new)"
   ]
  },
  {
   "cell_type": "code",
   "execution_count": null,
   "metadata": {
    "collapsed": true
   },
   "outputs": [],
   "source": []
  },
  {
   "cell_type": "code",
   "execution_count": 60,
   "metadata": {
    "collapsed": true
   },
   "outputs": [],
   "source": [
    "tsc_score_new = tsc_tf(t3f.full(train_new_step),ground_truth, sparse_observation)\n",
    "tsc_score_op = tf.assign(completion_score,tsc_score_new)"
   ]
  },
  {
   "cell_type": "code",
   "execution_count": 61,
   "metadata": {},
   "outputs": [
    {
     "name": "stdout",
     "output_type": "stream",
     "text": [
      "Max_TT rank63\n",
      "[1, 53, 63, 63, 1]\n"
     ]
    }
   ],
   "source": [
    "train_step = t3f.assign(X, t3f.round(X + alpha * eta, max_tt_rank=63))"
   ]
  },
  {
   "cell_type": "code",
   "execution_count": 62,
   "metadata": {
    "collapsed": true
   },
   "outputs": [],
   "source": [
    "tsc_score_update = tsc_tf(t3f.full(X_new),ground_truth, sparse_observation)\n",
    "tsc_score_update_op = tf.assign(completion_score,tsc_score_update)"
   ]
  },
  {
   "cell_type": "code",
   "execution_count": 63,
   "metadata": {
    "collapsed": true
   },
   "outputs": [],
   "source": [
    "updated_cost = compute_loss(train_step)\n",
    "cost_op = tf.assign(cost,updated_cost)"
   ]
  },
  {
   "cell_type": "code",
   "execution_count": 64,
   "metadata": {
    "collapsed": true
   },
   "outputs": [],
   "source": [
    "eta_update_op = t3f.assign(eta_t3f_old, eta,use_locking = True)"
   ]
  },
  {
   "cell_type": "code",
   "execution_count": 65,
   "metadata": {
    "collapsed": true
   },
   "outputs": [],
   "source": [
    "grad_update_op = t3f.assign(grad_t3f_old, riemannian_grad)"
   ]
  },
  {
   "cell_type": "code",
   "execution_count": 66,
   "metadata": {},
   "outputs": [
    {
     "name": "stdout",
     "output_type": "stream",
     "text": [
      "Tensor(\"div_2:0\", shape=(), dtype=float32)\n"
     ]
    }
   ],
   "source": [
    "print alpha_0"
   ]
  },
  {
   "cell_type": "code",
   "execution_count": 67,
   "metadata": {},
   "outputs": [
    {
     "name": "stdout",
     "output_type": "stream",
     "text": [
      "Tensor(\"div_4:0\", shape=(), dtype=float32)\n"
     ]
    }
   ],
   "source": [
    "print theta"
   ]
  },
  {
   "cell_type": "code",
   "execution_count": 68,
   "metadata": {},
   "outputs": [
    {
     "name": "stdout",
     "output_type": "stream",
     "text": [
      "Tensor(\"Const_7:0\", shape=(), dtype=float32)\n"
     ]
    }
   ],
   "source": [
    "print zero_point1"
   ]
  },
  {
   "cell_type": "code",
   "execution_count": null,
   "metadata": {
    "collapsed": true
   },
   "outputs": [],
   "source": []
  },
  {
   "cell_type": "code",
   "execution_count": null,
   "metadata": {
    "collapsed": true
   },
   "outputs": [],
   "source": []
  },
  {
   "cell_type": "code",
   "execution_count": null,
   "metadata": {
    "collapsed": true
   },
   "outputs": [],
   "source": []
  },
  {
   "cell_type": "code",
   "execution_count": null,
   "metadata": {
    "collapsed": true
   },
   "outputs": [],
   "source": []
  },
  {
   "cell_type": "code",
   "execution_count": null,
   "metadata": {
    "collapsed": true
   },
   "outputs": [],
   "source": []
  },
  {
   "cell_type": "code",
   "execution_count": null,
   "metadata": {
    "collapsed": true
   },
   "outputs": [],
   "source": []
  },
  {
   "cell_type": "code",
   "execution_count": null,
   "metadata": {
    "collapsed": true
   },
   "outputs": [],
   "source": []
  },
  {
   "cell_type": "code",
   "execution_count": null,
   "metadata": {
    "collapsed": true
   },
   "outputs": [],
   "source": []
  },
  {
   "cell_type": "code",
   "execution_count": null,
   "metadata": {
    "collapsed": true
   },
   "outputs": [],
   "source": []
  },
  {
   "cell_type": "code",
   "execution_count": null,
   "metadata": {
    "collapsed": true
   },
   "outputs": [],
   "source": []
  },
  {
   "cell_type": "code",
   "execution_count": null,
   "metadata": {
    "collapsed": true
   },
   "outputs": [],
   "source": []
  },
  {
   "cell_type": "code",
   "execution_count": null,
   "metadata": {
    "collapsed": true
   },
   "outputs": [],
   "source": []
  },
  {
   "cell_type": "code",
   "execution_count": null,
   "metadata": {
    "collapsed": true
   },
   "outputs": [],
   "source": []
  },
  {
   "cell_type": "code",
   "execution_count": null,
   "metadata": {
    "collapsed": true
   },
   "outputs": [],
   "source": []
  },
  {
   "cell_type": "code",
   "execution_count": null,
   "metadata": {
    "collapsed": true
   },
   "outputs": [],
   "source": []
  },
  {
   "cell_type": "code",
   "execution_count": null,
   "metadata": {
    "collapsed": true
   },
   "outputs": [],
   "source": []
  },
  {
   "cell_type": "code",
   "execution_count": null,
   "metadata": {
    "collapsed": true
   },
   "outputs": [],
   "source": []
  },
  {
   "cell_type": "code",
   "execution_count": null,
   "metadata": {
    "collapsed": true
   },
   "outputs": [],
   "source": []
  },
  {
   "cell_type": "code",
   "execution_count": null,
   "metadata": {
    "collapsed": true
   },
   "outputs": [],
   "source": []
  },
  {
   "cell_type": "code",
   "execution_count": 69,
   "metadata": {
    "collapsed": true
   },
   "outputs": [],
   "source": [
    "#t3f.round(-riemannian_grad + beta*eta_trans, max_tt_rank=[eta_trans])"
   ]
  },
  {
   "cell_type": "code",
   "execution_count": null,
   "metadata": {
    "collapsed": true
   },
   "outputs": [],
   "source": []
  },
  {
   "cell_type": "code",
   "execution_count": null,
   "metadata": {
    "collapsed": true
   },
   "outputs": [],
   "source": []
  },
  {
   "cell_type": "code",
   "execution_count": null,
   "metadata": {
    "collapsed": true
   },
   "outputs": [],
   "source": []
  },
  {
   "cell_type": "code",
   "execution_count": null,
   "metadata": {
    "collapsed": true
   },
   "outputs": [],
   "source": []
  },
  {
   "cell_type": "code",
   "execution_count": null,
   "metadata": {
    "collapsed": true
   },
   "outputs": [],
   "source": []
  },
  {
   "cell_type": "code",
   "execution_count": 70,
   "metadata": {
    "collapsed": true
   },
   "outputs": [],
   "source": [
    "#eta_update_op = t3f.assign(eta_t3f_old, eta,validate_shape=False, use_locking = True)"
   ]
  },
  {
   "cell_type": "code",
   "execution_count": 71,
   "metadata": {
    "collapsed": true
   },
   "outputs": [],
   "source": [
    "#grad_update_op = t3f.assign(grad_t3f_old, riemannian_grad)"
   ]
  },
  {
   "cell_type": "code",
   "execution_count": null,
   "metadata": {
    "collapsed": true
   },
   "outputs": [],
   "source": []
  },
  {
   "cell_type": "code",
   "execution_count": null,
   "metadata": {
    "collapsed": true
   },
   "outputs": [],
   "source": []
  },
  {
   "cell_type": "code",
   "execution_count": null,
   "metadata": {
    "collapsed": true
   },
   "outputs": [],
   "source": []
  },
  {
   "cell_type": "code",
   "execution_count": 72,
   "metadata": {
    "collapsed": true
   },
   "outputs": [],
   "source": [
    "tsc_score_history = []"
   ]
  },
  {
   "cell_type": "code",
   "execution_count": 73,
   "metadata": {
    "collapsed": true
   },
   "outputs": [],
   "source": [
    "sess = tf.Session()\n",
    "sess.run(tf.global_variables_initializer())"
   ]
  },
  {
   "cell_type": "code",
   "execution_count": 74,
   "metadata": {},
   "outputs": [
    {
     "name": "stdout",
     "output_type": "stream",
     "text": [
      "0.24620569 1.0 0.02976921 0.0 0.15261401\n"
     ]
    }
   ],
   "source": [
    "log = []\n",
    "train_loss_hist = []\n",
    "#for i in range(1000):\n",
    "gradnorm_val, alpha_val, eta_op_0_val,cost_val, cost_new_val, eta_norm_val, tsc_score_val,_,_ = sess.run([gradnorm_omega_0, alpha_0, eta_op_0, cost, cost_new, eta_norm,completion_score, train_step_0.op, eta_norm_init_op.op])\n",
    "print gradnorm_val, alpha_val,cost_val, cost_new_val, eta_norm_val"
   ]
  },
  {
   "cell_type": "code",
   "execution_count": 75,
   "metadata": {},
   "outputs": [
    {
     "name": "stdout",
     "output_type": "stream",
     "text": [
      "A Tensor Train of shape (53, 63, 46, 144), TT-ranks: (1, 106, 126, 126, 1)\n"
     ]
    }
   ],
   "source": [
    "print grad_trans"
   ]
  },
  {
   "cell_type": "code",
   "execution_count": 76,
   "metadata": {
    "collapsed": true
   },
   "outputs": [],
   "source": [
    "tsc_score_0 = tsc_score_val"
   ]
  },
  {
   "cell_type": "code",
   "execution_count": 77,
   "metadata": {},
   "outputs": [
    {
     "name": "stdout",
     "output_type": "stream",
     "text": [
      "tsc_score_0:0.38569188\n"
     ]
    }
   ],
   "source": [
    "print \"tsc_score_0:\" + str(tsc_score_0)"
   ]
  },
  {
   "cell_type": "code",
   "execution_count": 78,
   "metadata": {
    "collapsed": true
   },
   "outputs": [],
   "source": [
    "tsc_score_history.append(tsc_score_0)"
   ]
  },
  {
   "cell_type": "code",
   "execution_count": null,
   "metadata": {
    "collapsed": true
   },
   "outputs": [],
   "source": []
  },
  {
   "cell_type": "code",
   "execution_count": 79,
   "metadata": {
    "collapsed": true
   },
   "outputs": [],
   "source": [
    "#x_k, grad_k, eta_k = sess.run([t3f.full(X),t3f.full(grad_t3f_old), t3f.full(eta_t3f_old)])"
   ]
  },
  {
   "cell_type": "code",
   "execution_count": 80,
   "metadata": {
    "collapsed": true
   },
   "outputs": [],
   "source": [
    "#scipy_step_size = find_step_size(x_k,grad_k,eta_k, cost_old_val)"
   ]
  },
  {
   "cell_type": "code",
   "execution_count": 81,
   "metadata": {
    "collapsed": true
   },
   "outputs": [],
   "source": [
    "#print \"scipy_step_size: \" + str(scipy_step_size)"
   ]
  },
  {
   "cell_type": "code",
   "execution_count": null,
   "metadata": {
    "collapsed": true
   },
   "outputs": [],
   "source": []
  },
  {
   "cell_type": "code",
   "execution_count": 82,
   "metadata": {
    "collapsed": true
   },
   "outputs": [],
   "source": [
    "#sess.run([loss])"
   ]
  },
  {
   "cell_type": "code",
   "execution_count": 83,
   "metadata": {
    "collapsed": true
   },
   "outputs": [],
   "source": [
    "#sess.run([theta])"
   ]
  },
  {
   "cell_type": "code",
   "execution_count": 84,
   "metadata": {
    "collapsed": true
   },
   "outputs": [],
   "source": [
    "#print theta"
   ]
  },
  {
   "cell_type": "code",
   "execution_count": 85,
   "metadata": {
    "collapsed": true
   },
   "outputs": [],
   "source": [
    "#sess.run([eta_trans])"
   ]
  },
  {
   "cell_type": "code",
   "execution_count": 86,
   "metadata": {
    "collapsed": true
   },
   "outputs": [],
   "source": [
    "#sess.run([eta])"
   ]
  },
  {
   "cell_type": "code",
   "execution_count": 87,
   "metadata": {
    "collapsed": true
   },
   "outputs": [],
   "source": [
    "#sess.run([train_step.op])"
   ]
  },
  {
   "cell_type": "code",
   "execution_count": null,
   "metadata": {
    "collapsed": true
   },
   "outputs": [],
   "source": []
  },
  {
   "cell_type": "code",
   "execution_count": null,
   "metadata": {
    "collapsed": true
   },
   "outputs": [],
   "source": []
  },
  {
   "cell_type": "code",
   "execution_count": 88,
   "metadata": {
    "collapsed": true
   },
   "outputs": [],
   "source": [
    "#def backtrack(t, sess):\n",
    "#    t = t * 0.5\n",
    "#    return t3f.assign(X, t3f.round(X - t * eta, max_tt_rank=63))"
   ]
  },
  {
   "cell_type": "code",
   "execution_count": null,
   "metadata": {
    "collapsed": true
   },
   "outputs": [],
   "source": [
    "\n",
    "    "
   ]
  },
  {
   "cell_type": "code",
   "execution_count": null,
   "metadata": {
    "collapsed": true
   },
   "outputs": [],
   "source": []
  },
  {
   "cell_type": "code",
   "execution_count": 89,
   "metadata": {
    "collapsed": true
   },
   "outputs": [],
   "source": [
    "def loss_func(x, y):\n",
    "    return 0.5*(np.linalg.norm(x - y)** 2)\n",
    "    "
   ]
  },
  {
   "cell_type": "code",
   "execution_count": 90,
   "metadata": {
    "collapsed": true
   },
   "outputs": [],
   "source": [
    "def is_nan(x):\n",
    "    return (x is np.nan or x != x)"
   ]
  },
  {
   "cell_type": "code",
   "execution_count": 91,
   "metadata": {
    "collapsed": true
   },
   "outputs": [],
   "source": [
    "backtrack_const = 1e-4 "
   ]
  },
  {
   "cell_type": "code",
   "execution_count": null,
   "metadata": {
    "collapsed": true
   },
   "outputs": [],
   "source": []
  },
  {
   "cell_type": "code",
   "execution_count": null,
   "metadata": {
    "collapsed": true
   },
   "outputs": [],
   "source": []
  },
  {
   "cell_type": "code",
   "execution_count": 92,
   "metadata": {
    "collapsed": true
   },
   "outputs": [],
   "source": [
    "#sess.run([loss, gradnorm_omega, alpha, theta, eta_update_op, grad_update_op, train_step.op])"
   ]
  },
  {
   "cell_type": "code",
   "execution_count": 94,
   "metadata": {},
   "outputs": [
    {
     "name": "stdout",
     "output_type": "stream",
     "text": [
      "alpha_val: 2.48878\n",
      "theta_val: 0.7138207\n",
      "inprod_grad_eta_val: -0.04565218\n",
      "rim_grad_norm: 0.21368468\n",
      "eta_norm_val: 0.21365972\n",
      "Cost New: 0.000886971\n",
      "Cost Old: 0.02976921\n",
      "TSC Score New: 0.06657506\n",
      "TSC Score Old: 0.38569188\n",
      "armijo: True\n",
      "proposed_initial_alpha: 1.2653169438182883\n",
      "updating X: initial cost: 0.02976921; New Cost: 0.000886971\n",
      "(0.023744613, 1, 0.34449673, 2.48878, 0.7138207, 0.5609112, 0.02976921, 0.000886971)\n",
      "alpha_val: 2.3980987\n",
      "theta_val: 0.096867286\n",
      "inprod_grad_eta_val: -0.0005540603\n",
      "rim_grad_norm: 0.023738984\n",
      "eta_norm_val: 0.023661597\n",
      "Cost New: 0.00021528183\n",
      "Cost Old: 0.000886971\n",
      "TSC Score New: 0.032798994\n",
      "TSC Score Old: 0.06657506\n",
      "armijo: True\n",
      "proposed_initial_alpha: 2.424606849497982\n",
      "updating X: initial cost: 0.000886971; New Cost: 0.00021528183\n",
      "(0.00030240364, 2, 0.039193258, 7.7896934, 2.3980987, 0.096867286, 0.010950654, 0.000886971, 0.00021528183)\n",
      "alpha_val: 2.2949169\n",
      "theta_val: 0.0459515\n",
      "inprod_grad_eta_val: -0.00013547581\n",
      "rim_grad_norm: 0.012001813\n",
      "eta_norm_val: 0.012579117\n",
      "Cost New: 5.299979e-05\n",
      "Cost Old: 0.00021528183\n",
      "TSC Score New: 0.016273985\n",
      "TSC Score Old: 0.032798994\n",
      "armijo: True\n",
      "proposed_initial_alpha: 2.395734528686731\n",
      "updating X: initial cost: 0.00021528183; New Cost: 5.299979e-05\n",
      "(7.760172e-05, 3, 0.020316618, 0.92912316, 2.2949169, 0.0459515, 0.23103009, 0.00021528183, 5.299979e-05)\n",
      "alpha_val: 2.4014149\n",
      "theta_val: 0.3784644\n",
      "inprod_grad_eta_val: -2.7530352e-05\n",
      "rim_grad_norm: 0.0061261896\n",
      "eta_norm_val: 0.005246604\n",
      "Cost New: 1.9125091e-05\n",
      "Cost Old: 5.299979e-05\n",
      "TSC Score New: 0.009775941\n",
      "TSC Score Old: 0.016273985\n",
      "armijo: True\n",
      "proposed_initial_alpha: 2.4608982732771674\n",
      "updating X: initial cost: 5.299979e-05; New Cost: 1.9125091e-05\n",
      "(1.7666705e-05, 4, 0.010642681, 0.9089755, 2.4014149, 0.3784644, 0.12765253, 5.299979e-05, 1.9125091e-05)\n",
      "alpha_val: 2.2420433\n",
      "theta_val: 0.06259073\n",
      "inprod_grad_eta_val: -5.986825e-06\n",
      "rim_grad_norm: 0.0039986917\n",
      "eta_norm_val: 0.0026296538\n",
      "Cost New: 1.19552415e-05\n",
      "Cost Old: 1.9125091e-05\n",
      "TSC Score New: 0.0077292263\n",
      "TSC Score Old: 0.009775941\n",
      "armijo: True\n",
      "proposed_initial_alpha: 2.3952094189158406\n",
      "updating X: initial cost: 1.9125091e-05; New Cost: 1.19552415e-05\n",
      "(5.726762e-06, 5, 0.00732135, 0.45365015, 2.2420433, 0.06259073, 0.2039448, 1.9125091e-05, 1.19552415e-05)\n",
      "alpha_val: 2.5743256\n",
      "theta_val: 0.17099904\n",
      "inprod_grad_eta_val: -2.8722536e-06\n",
      "rim_grad_norm: 0.0035877898\n",
      "eta_norm_val: 0.0016946665\n",
      "Cost New: 7.996252e-06\n",
      "Cost Old: 1.19552415e-05\n",
      "TSC Score New: 0.0063212076\n",
      "TSC Score Old: 0.0077292263\n",
      "armijo: True\n",
      "proposed_initial_alpha: 2.756713046431352\n",
      "updating X: initial cost: 1.19552415e-05; New Cost: 7.996252e-06\n",
      "(3.328796e-06, 6, 0.0064513106, 0.1348624, 2.5743256, 0.17099904, 0.39754146, 1.19552415e-05, 7.996252e-06)\n",
      "alpha_val: 1.8695924\n",
      "theta_val: 0.018400572\n",
      "inprod_grad_eta_val: -1.3908576e-06\n",
      "rim_grad_norm: 0.0033786139\n",
      "eta_norm_val: 0.0014020628\n",
      "Cost New: 6.5951062e-06\n",
      "Cost Old: 7.996252e-06\n",
      "TSC Score New: 0.005740738\n",
      "TSC Score Old: 0.0063212076\n",
      "armijo: True\n",
      "proposed_initial_alpha: 2.014793880030371\n",
      "updating X: initial cost: 7.996252e-06; New Cost: 6.5951062e-06\n",
      "(1.9622505e-06, 7, 0.005898365, 0.093745604, 1.8695924, 0.018400572, 0.48359337, 7.996252e-06, 6.5951062e-06)\n",
      "alpha_val: 2.6474981\n",
      "theta_val: 0.25221127\n",
      "inprod_grad_eta_val: -9.29755e-07\n",
      "rim_grad_norm: 0.0033060173\n",
      "eta_norm_val: 0.0009641729\n",
      "Cost New: 5.261219e-06\n",
      "Cost Old: 6.5951062e-06\n",
      "TSC Score New: 0.005127433\n",
      "TSC Score Old: 0.005740738\n",
      "armijo: True\n",
      "proposed_initial_alpha: 2.869330537612044\n",
      "updating X: initial cost: 6.5951062e-06; New Cost: 5.261219e-06\n",
      "(1.460427e-06, 8, 0.0056818197, 0.03811192, 2.6474981, 0.25221127, 0.4913367, 6.5951062e-06, 5.261219e-06)\n",
      "alpha_val: 1.7113761\n",
      "theta_val: -0.03301653\n",
      "inprod_grad_eta_val: -6.056643e-07\n",
      "rim_grad_norm: 0.0032632456\n",
      "eta_norm_val: 0.0009849218\n",
      "Cost New: 4.6809696e-06\n",
      "Cost Old: 5.261219e-06\n",
      "TSC Score New: 0.004836428\n",
      "TSC Score Old: 0.005127433\n",
      "armijo: True\n",
      "proposed_initial_alpha: 1.9160760731223836\n",
      "updating X: initial cost: 5.261219e-06; New Cost: 4.6809696e-06\n",
      "(1.0789148e-06, 9, 0.0055115004, 0.030902537, 1.7113761, -0.03301653, 0.72083026, 5.261219e-06, 4.6809696e-06)\n",
      "alpha_val: 2.6362095\n",
      "theta_val: 0.3026511\n",
      "inprod_grad_eta_val: -4.9702743e-07\n",
      "rim_grad_norm: 0.003239911\n",
      "eta_norm_val: 0.0007049553\n",
      "Cost New: 4.0178898e-06\n",
      "Cost Old: 4.6809696e-06\n",
      "TSC Score New: 0.004480803\n",
      "TSC Score Old: 0.004836428\n",
      "armijo: True\n",
      "proposed_initial_alpha: 2.6681821025391823\n",
      "updating X: initial cost: 4.6809696e-06; New Cost: 4.0178898e-06\n",
      "(8.881967e-07, 10, 0.0054243538, 0.016065812, 2.6362095, 0.3026511, 0.5342388, 4.6809696e-06, 4.0178898e-06)\n",
      "alpha_val: 2.5461226\n",
      "theta_val: -0.13091283\n",
      "inprod_grad_eta_val: -3.7068656e-07\n",
      "rim_grad_norm: 0.0032203547\n",
      "eta_norm_val: 0.0006088018\n",
      "Cost New: 3.5839307e-06\n",
      "Cost Old: 4.0178898e-06\n",
      "TSC Score New: 0.004231912\n",
      "TSC Score Old: 0.004480803\n",
      "armijo: True\n",
      "proposed_initial_alpha: 2.341379874553513\n",
      "updating X: initial cost: 4.0178898e-06; New Cost: 3.5839307e-06\n",
      "(7.258357e-07, 11, 0.005349045, 0.014078888, 2.5461226, -0.13091283, 0.8434435, 4.0178898e-06, 3.5839307e-06)\n",
      "alpha_val: 2.5204785\n",
      "theta_val: -0.21256123\n",
      "inprod_grad_eta_val: -3.0084445e-07\n",
      "rim_grad_norm: 0.0032094927\n",
      "eta_norm_val: 0.0005484604\n",
      "Cost New: 3.2496682e-06\n",
      "Cost Old: 3.5839307e-06\n",
      "TSC Score New: 0.0040297336\n",
      "TSC Score Old: 0.004231912\n",
      "armijo: True\n",
      "proposed_initial_alpha: 2.2221616334702343\n",
      "updating X: initial cost: 3.5839307e-06; New Cost: 3.2496682e-06\n",
      "(6.222904e-07, 12, 0.005300459, 0.009166407, 2.5204785, -0.21256123, 0.98409855, 3.5839307e-06, 3.2496682e-06)\n",
      "alpha_val: 2.428415\n",
      "theta_val: -0.27112448\n",
      "inprod_grad_eta_val: -2.408457e-07\n",
      "rim_grad_norm: 0.003200132\n",
      "eta_norm_val: 0.0004907286\n",
      "Cost New: 3.0095696e-06\n",
      "Cost Old: 3.2496682e-06\n",
      "TSC Score New: 0.0038780107\n",
      "TSC Score Old: 0.0040297336\n",
      "armijo: True\n",
      "proposed_initial_alpha: 1.9937963218100532\n",
      "updating X: initial cost: 3.2496682e-06; New Cost: 3.0095696e-06\n",
      "(5.400974e-07, 13, 0.005261572, 0.0073907394, 2.428415, -0.27112448, 1.0176181, 3.2496682e-06, 3.0095696e-06)\n",
      "alpha_val: 2.3939795\n",
      "theta_val: -0.3135122\n",
      "inprod_grad_eta_val: -1.8530575e-07\n",
      "rim_grad_norm: 0.0031914425\n",
      "eta_norm_val: 0.00043044402\n",
      "Cost New: 2.8340753e-06\n",
      "Cost Old: 3.0095696e-06\n",
      "TSC Score New: 0.0037632454\n",
      "TSC Score Old: 0.0038780107\n",
      "armijo: True\n",
      "proposed_initial_alpha: 1.8941050403409334\n",
      "updating X: initial cost: 3.0095696e-06; New Cost: 2.8340753e-06\n",
      "(4.770268e-07, 14, 0.0052315365, 0.0057412614, 2.3939795, -0.3135122, 1.0106106, 3.0095696e-06, 2.8340753e-06)\n",
      "alpha_val: 2.2581758\n",
      "theta_val: -0.37259772\n",
      "inprod_grad_eta_val: -1.4746618e-07\n",
      "rim_grad_norm: 0.0031855085\n",
      "eta_norm_val: 0.00038398948\n",
      "Cost New: 2.7130766e-06\n",
      "Cost Old: 2.8340753e-06\n",
      "TSC Score New: 0.0036820346\n",
      "TSC Score Old: 0.0037632454\n",
      "armijo: True\n",
      "proposed_initial_alpha: 1.6410368690017645\n",
      "updating X: initial cost: 2.8340753e-06; New Cost: 2.7130766e-06\n",
      "(4.3667478e-07, 15, 0.005212229, 0.003704221, 2.2581758, -0.37259772, 1.092313, 2.8340753e-06, 2.7130766e-06)\n",
      "alpha_val: 2.171002\n",
      "theta_val: -0.43541765\n",
      "inprod_grad_eta_val: -1.1374048e-07\n",
      "rim_grad_norm: 0.0031802105\n",
      "eta_norm_val: 0.00033723158\n",
      "Cost New: 2.629383e-06\n",
      "Cost Old: 2.7130766e-06\n",
      "TSC Score New: 0.0036247976\n",
      "TSC Score Old: 0.0036820346\n",
      "armijo: True\n",
      "proposed_initial_alpha: 1.471657653523347\n",
      "updating X: initial cost: 2.7130766e-06; New Cost: 2.629383e-06\n",
      "(4.088677e-07, 16, 0.005198883, 0.002567151, 2.171002, -0.43541765, 1.1071357, 2.7130766e-06, 2.629383e-06)\n",
      "alpha_val: 2.015074\n",
      "theta_val: -0.46396795\n",
      "inprod_grad_eta_val: -9.2166616e-08\n",
      "rim_grad_norm: 0.003176817\n",
      "eta_norm_val: 0.00030356966\n",
      "Cost New: 2.5709724e-06\n",
      "Cost Old: 2.629383e-06\n",
      "TSC Score New: 0.0035843097\n",
      "TSC Score Old: 0.0036247976\n",
      "armijo: True\n",
      "proposed_initial_alpha: 1.2675024504101287\n",
      "updating X: initial cost: 2.629383e-06; New Cost: 2.5709724e-06\n",
      "(3.9322543e-07, 17, 0.0051913597, 0.0014491818, 2.015074, -0.46396795, 1.186289, 2.629383e-06, 2.5709724e-06)\n",
      "alpha_val: 1.8560551\n",
      "theta_val: -0.5149713\n",
      "inprod_grad_eta_val: -7.092395e-08\n",
      "rim_grad_norm: 0.0031734717\n",
      "eta_norm_val: 0.00026629784\n",
      "Cost New: 2.5328613e-06\n",
      "Cost Old: 2.5709724e-06\n",
      "TSC Score New: 0.0035576446\n",
      "TSC Score Old: 0.0035843097\n",
      "armijo: True\n",
      "proposed_initial_alpha: 1.0747007085695874\n",
      "updating X: initial cost: 2.5709724e-06; New Cost: 2.5328613e-06\n"
     ]
    },
    {
     "name": "stdout",
     "output_type": "stream",
     "text": [
      "(3.810977e-07, 18, 0.0051855193, 0.0011262756, 1.8560551, -0.5149713, 1.1657993, 2.5709724e-06, 2.5328613e-06)\n",
      "alpha_val: 1.7569096\n",
      "theta_val: -0.49889186\n",
      "inprod_grad_eta_val: -5.8767252e-08\n",
      "rim_grad_norm: 0.003171556\n",
      "eta_norm_val: 0.0002424025\n",
      "Cost New: 2.5035977e-06\n",
      "Cost Old: 2.5328613e-06\n",
      "TSC Score New: 0.003537033\n",
      "TSC Score Old: 0.0035576446\n",
      "armijo: True\n",
      "proposed_initial_alpha: 0.9959177248076068\n",
      "updating X: initial cost: 2.5328613e-06; New Cost: 2.5035977e-06\n",
      "(3.7303747e-07, 19, 0.0051816343, 0.0007497658, 1.7569096, -0.49889186, 1.2419729, 2.5328613e-06, 2.5035977e-06)\n",
      "alpha_val: 1.610393\n",
      "theta_val: -0.53004193\n",
      "inprod_grad_eta_val: -5.0207348e-08\n",
      "rim_grad_norm: 0.003170206\n",
      "eta_norm_val: 0.00022405398\n",
      "Cost New: 2.4828028e-06\n",
      "Cost Old: 2.5035977e-06\n",
      "TSC Score New: 0.003522313\n",
      "TSC Score Old: 0.003537033\n",
      "armijo: True\n",
      "proposed_initial_alpha: 0.8283613942487861\n",
      "updating X: initial cost: 2.5035977e-06; New Cost: 2.4828028e-06\n",
      "(3.6794233e-07, 20, 0.005179177, 0.00047445658, 1.610393, -0.53004193, 1.3071796, 2.5035977e-06, 2.4828028e-06)\n",
      "alpha_val: 1.4385765\n",
      "theta_val: -0.5423983\n",
      "inprod_grad_eta_val: -4.1864e-08\n",
      "rim_grad_norm: 0.00316889\n",
      "eta_norm_val: 0.00020459334\n",
      "Cost New: 2.4693811e-06\n",
      "Cost Old: 2.4828028e-06\n",
      "TSC Score New: 0.0035127795\n",
      "TSC Score Old: 0.003522313\n",
      "armijo: True\n",
      "proposed_initial_alpha: 0.6412020433705362\n",
      "updating X: initial cost: 2.4828028e-06; New Cost: 2.4693811e-06\n",
      "(3.6316834e-07, 21, 0.0051768734, 0.0004449841, 1.4385765, -0.5423983, 1.2860848, 2.4828028e-06, 2.4693811e-06)\n",
      "alpha_val: 1.3340058\n",
      "theta_val: -0.5477637\n",
      "inprod_grad_eta_val: -3.59886e-08\n",
      "rim_grad_norm: 0.003167963\n",
      "eta_norm_val: 0.0001896936\n",
      "Cost New: 2.459237e-06\n",
      "Cost Old: 2.4693811e-06\n",
      "TSC Score New: 0.003505557\n",
      "TSC Score Old: 0.0035127795\n",
      "armijo: True\n",
      "proposed_initial_alpha: 0.5637368224136688\n",
      "updating X: initial cost: 2.4693811e-06; New Cost: 2.459237e-06\n",
      "(3.601916e-07, 22, 0.0051754364, 0.0002776637, 1.3340058, -0.5477637, 1.3305442, 2.4693811e-06, 2.459237e-06)\n",
      "alpha_val: 1.2450509\n",
      "theta_val: -0.5427693\n",
      "inprod_grad_eta_val: -3.3213748e-08\n",
      "rim_grad_norm: 0.003167525\n",
      "eta_norm_val: 0.00018223337\n",
      "Cost New: 2.4511962e-06\n",
      "Cost Old: 2.459237e-06\n",
      "TSC Score New: 0.0034998213\n",
      "TSC Score Old: 0.003505557\n",
      "armijo: True\n",
      "proposed_initial_alpha: 0.48418760875013467\n",
      "updating X: initial cost: 2.459237e-06; New Cost: 2.4511962e-06\n",
      "(3.5758686e-07, 23, 0.005174179, 0.00024299226, 1.2450509, -0.5427693, 1.4238153, 2.459237e-06, 2.4511962e-06)\n",
      "alpha_val: 1.1516745\n",
      "theta_val: -0.5601352\n",
      "inprod_grad_eta_val: -2.9681255e-08\n",
      "rim_grad_norm: 0.003166967\n",
      "eta_norm_val: 0.00017227\n",
      "Cost New: 2.4451303e-06\n",
      "Cost Old: 2.4511962e-06\n",
      "TSC Score New: 0.003495488\n",
      "TSC Score Old: 0.0034998213\n",
      "armijo: True\n",
      "proposed_initial_alpha: 0.4087343986595058\n",
      "updating X: initial cost: 2.4511962e-06; New Cost: 2.4451303e-06\n",
      "(3.5658286e-07, 24, 0.0051736943, 9.3695795e-05, 1.1516745, -0.5601352, 1.3942059, 2.4511962e-06, 2.4451303e-06)\n",
      "alpha_val: 1.1805482\n",
      "theta_val: -0.5467646\n",
      "inprod_grad_eta_val: -2.7191835e-08\n",
      "rim_grad_norm: 0.003166574\n",
      "eta_norm_val: 0.00016488731\n",
      "Cost New: 2.4393273e-06\n",
      "Cost Old: 2.4451303e-06\n",
      "TSC Score New: 0.0034913379\n",
      "TSC Score Old: 0.003495488\n",
      "armijo: True\n",
      "proposed_initial_alpha: 0.42682158362470196\n",
      "updating X: initial cost: 2.4451303e-06; New Cost: 2.4393273e-06\n",
      "(3.5396147e-07, 25, 0.005172428, 0.00024478504, 1.1805482, -0.5467646, 1.417036, 2.4451303e-06, 2.4393273e-06)\n",
      "alpha_val: 1.0936042\n",
      "theta_val: -0.5675645\n",
      "inprod_grad_eta_val: -2.7262052e-08\n",
      "rim_grad_norm: 0.0031665852\n",
      "eta_norm_val: 0.00016510008\n",
      "Cost New: 2.4343155e-06\n",
      "Cost Old: 2.4393273e-06\n",
      "TSC Score New: 0.0034877493\n",
      "TSC Score Old: 0.0034913379\n",
      "armijo: True\n",
      "proposed_initial_alpha: 0.3676737556387428\n",
      "updating X: initial cost: 2.4393273e-06; New Cost: 2.4343155e-06\n",
      "(3.5461554e-07, 26, 0.005172744, 6.1034985e-05, 1.0936042, -0.5675645, 1.5716124, 2.4393273e-06, 2.4343155e-06)\n",
      "alpha_val: 1.0588363\n",
      "theta_val: -0.59730595\n",
      "inprod_grad_eta_val: -2.4949387e-08\n",
      "rim_grad_norm: 0.00316622\n",
      "eta_norm_val: 0.00015794199\n",
      "Cost New: 2.4302246e-06\n",
      "Cost Old: 2.4343155e-06\n",
      "TSC Score New: 0.0034848175\n",
      "TSC Score Old: 0.0034877493\n",
      "armijo: True\n",
      "proposed_initial_alpha: 0.32793649328997637\n",
      "updating X: initial cost: 2.4343155e-06; New Cost: 2.4302246e-06\n",
      "(3.528813e-07, 27, 0.0051719057, 0.00016206605, 1.0588363, -0.59730595, 1.4618036, 2.4343155e-06, 2.4302246e-06)\n",
      "alpha_val: 0.9893988\n",
      "theta_val: -0.56681067\n",
      "inprod_grad_eta_val: -2.4045855e-08\n",
      "rim_grad_norm: 0.0031660774\n",
      "eta_norm_val: 0.00015505576\n",
      "Cost New: 2.4268156e-06\n",
      "Cost Old: 2.4302246e-06\n",
      "TSC Score New: 0.0034823727\n",
      "TSC Score Old: 0.0034848175\n",
      "armijo: True\n",
      "proposed_initial_alpha: 0.28354271485784516\n",
      "updating X: initial cost: 2.4302246e-06; New Cost: 2.4268156e-06\n",
      "(3.526109e-07, 28, 0.005171776, 2.5120868e-05, 0.9893988, -0.56681067, 1.5100702, 2.4302246e-06, 2.4268156e-06)\n",
      "alpha_val: 0.9803144\n",
      "theta_val: -0.5684335\n",
      "inprod_grad_eta_val: -2.2245093e-08\n",
      "rim_grad_norm: 0.003165793\n",
      "eta_norm_val: 0.00014913721\n",
      "Cost New: 2.4235699e-06\n",
      "Cost Old: 2.4268156e-06\n",
      "TSC Score New: 0.003480043\n",
      "TSC Score Old: 0.0034823727\n",
      "armijo: True\n",
      "proposed_initial_alpha: 0.29181799641200573\n",
      "updating X: initial cost: 2.4268156e-06; New Cost: 2.4235699e-06\n",
      "(3.514595e-07, 29, 0.0051712194, 0.00010760813, 0.9803144, -0.5684335, 1.4509761, 2.4268156e-06, 2.4235699e-06)\n",
      "alpha_val: 0.89881843\n",
      "theta_val: -0.59168565\n",
      "inprod_grad_eta_val: -2.1358167e-08\n",
      "rim_grad_norm: 0.0031656527\n",
      "eta_norm_val: 0.0001461341\n",
      "Cost New: 2.4211151e-06\n",
      "Cost Old: 2.4235699e-06\n",
      "TSC Score New: 0.0034782803\n",
      "TSC Score Old: 0.003480043\n",
      "armijo: True\n",
      "proposed_initial_alpha: 0.22986300501705856\n",
      "updating X: initial cost: 2.4235699e-06; New Cost: 2.4211151e-06\n",
      "(3.5123927e-07, 30, 0.0051711127, 2.0621565e-05, 0.89881843, -0.59168565, 1.5282254, 2.4235699e-06, 2.4211151e-06)\n",
      "alpha_val: 0.9939035\n",
      "theta_val: -0.5379274\n",
      "inprod_grad_eta_val: -2.0224086e-08\n",
      "rim_grad_norm: 0.0031654737\n",
      "eta_norm_val: 0.00014220148\n",
      "Cost New: 2.4180904e-06\n",
      "Cost Old: 2.4211151e-06\n",
      "TSC Score New: 0.0034761066\n",
      "TSC Score Old: 0.0034782803\n",
      "armijo: True\n",
      "proposed_initial_alpha: 0.2991237355895593\n",
      "updating X: initial cost: 2.4211151e-06; New Cost: 2.4180904e-06\n",
      "(3.506389e-07, 31, 0.005170823, 5.601455e-05, 0.9939035, -0.5379274, 1.4562621, 2.4211151e-06, 2.4180904e-06)\n",
      "alpha_val: 0.9163542\n",
      "theta_val: -0.5722929\n",
      "inprod_grad_eta_val: -2.1489598e-08\n",
      "rim_grad_norm: 0.0031656737\n",
      "eta_norm_val: 0.00014658294\n",
      "Cost New: 2.4153835e-06\n",
      "Cost Old: 2.4180904e-06\n",
      "TSC Score New: 0.0034741606\n",
      "TSC Score Old: 0.0034761066\n",
      "armijo: True\n",
      "proposed_initial_alpha: 0.2519250150112816\n",
      "updating X: initial cost: 2.4180904e-06; New Cost: 2.4153835e-06\n",
      "(3.5110398e-07, 32, 0.0051710475, 4.340489e-05, 0.9163542, -0.5722929, 1.67068, 2.4180904e-06, 2.4153835e-06)\n",
      "alpha_val: 0.9185281\n",
      "theta_val: -0.56407773\n",
      "inprod_grad_eta_val: -2.0677973e-08\n",
      "rim_grad_norm: 0.0031655454\n",
      "eta_norm_val: 0.00014378829\n",
      "Cost New: 2.4127685e-06\n",
      "Cost Old: 2.4153835e-06\n",
      "TSC Score New: 0.0034722795\n",
      "TSC Score Old: 0.0034741606\n",
      "armijo: True\n",
      "proposed_initial_alpha: 0.25292852710120317\n",
      "updating X: initial cost: 2.4153835e-06; New Cost: 2.4127685e-06\n",
      "(3.5014867e-07, 33, 0.005170586, 8.924914e-05, 0.9185281, -0.56407773, 1.5050067, 2.4153835e-06, 2.4127685e-06)\n",
      "alpha_val: 0.8957519\n",
      "theta_val: -0.56675005\n",
      "inprod_grad_eta_val: -2.051523e-08\n",
      "rim_grad_norm: 0.0031655198\n",
      "eta_norm_val: 0.00014322145\n",
      "Cost New: 2.4102858e-06\n",
      "Cost Old: 2.4127685e-06\n",
      "TSC Score New: 0.0034704923\n",
      "TSC Score Old: 0.0034722795\n",
      "armijo: True\n",
      "proposed_initial_alpha: 0.24203414861553957\n",
      "updating X: initial cost: 2.4127685e-06; New Cost: 2.4102858e-06\n",
      "(3.505844e-07, 34, 0.0051707965, 4.0705316e-05, 0.8957519, -0.56675005, 1.5544184, 2.4127685e-06, 2.4102858e-06)\n",
      "alpha_val: 0.90739256\n",
      "theta_val: -0.5709539\n",
      "inprod_grad_eta_val: -1.9532624e-08\n",
      "rim_grad_norm: 0.0031653645\n",
      "eta_norm_val: 0.00013974955\n",
      "Cost New: 2.4078947e-06\n",
      "Cost Old: 2.4102858e-06\n",
      "TSC Score New: 0.0034687708\n",
      "TSC Score Old: 0.0034704923\n",
      "armijo: True\n",
      "proposed_initial_alpha: 0.2448274764480183\n",
      "updating X: initial cost: 2.4102858e-06; New Cost: 2.4078947e-06\n",
      "(3.497285e-07, 35, 0.0051703826, 8.00662e-05, 0.90739256, -0.5709539, 1.495711, 2.4102858e-06, 2.4078947e-06)\n",
      "alpha_val: 0.8917773\n",
      "theta_val: -0.59857327\n",
      "inprod_grad_eta_val: -1.9958085e-08\n",
      "rim_grad_norm: 0.0031654318\n",
      "eta_norm_val: 0.0001412636\n",
      "Cost New: 2.405507e-06\n",
      "Cost Old: 2.4078947e-06\n",
      "TSC Score New: 0.0034670506\n",
      "TSC Score Old: 0.0034687708\n",
      "armijo: True\n",
      "proposed_initial_alpha: 0.23926653988290406\n",
      "updating X: initial cost: 2.4078947e-06; New Cost: 2.405507e-06\n"
     ]
    },
    {
     "name": "stdout",
     "output_type": "stream",
     "text": [
      "(3.499334e-07, 36, 0.005170482, 1.9273157e-05, 0.8917773, -0.59857327, 1.6333928, 2.4078947e-06, 2.405507e-06)\n",
      "alpha_val: 0.834116\n",
      "theta_val: -0.59845364\n",
      "inprod_grad_eta_val: -1.965757e-08\n",
      "rim_grad_norm: 0.0031653843\n",
      "eta_norm_val: 0.00014019568\n",
      "Cost New: 2.4035592e-06\n",
      "Cost Old: 2.405507e-06\n",
      "TSC Score New: 0.0034656464\n",
      "TSC Score Old: 0.0034670506\n",
      "armijo: True\n",
      "proposed_initial_alpha: 0.19818424127896153\n",
      "updating X: initial cost: 2.405507e-06; New Cost: 2.4035592e-06\n",
      "(3.5007653e-07, 37, 0.0051705507, 1.3238862e-05, 0.834116, -0.59845364, 1.5743855, 2.405507e-06, 2.4035592e-06)\n",
      "alpha_val: 0.7723526\n",
      "theta_val: -0.60513955\n",
      "inprod_grad_eta_val: -1.8016376e-08\n",
      "rim_grad_norm: 0.003165125\n",
      "eta_norm_val: 0.00013421568\n",
      "Cost New: 2.4020082e-06\n",
      "Cost Old: 2.4035592e-06\n",
      "TSC Score New: 0.0034645281\n",
      "TSC Score Old: 0.0034656464\n",
      "armijo: True\n",
      "proposed_initial_alpha: 0.1721673487263957\n",
      "updating X: initial cost: 2.4035592e-06; New Cost: 2.4020082e-06\n",
      "(3.4966527e-07, 38, 0.0051703523, 3.8367154e-05, 0.7723526, -0.60513955, 1.4711286, 2.4035592e-06, 2.4020082e-06)\n",
      "alpha_val: 0.8276162\n",
      "theta_val: -0.56563157\n",
      "inprod_grad_eta_val: -1.709658e-08\n",
      "rim_grad_norm: 0.0031649796\n",
      "eta_norm_val: 0.0001307445\n",
      "Cost New: 2.4003566e-06\n",
      "Cost Old: 2.4020082e-06\n",
      "TSC Score New: 0.0034633367\n",
      "TSC Score Old: 0.0034645281\n",
      "armijo: True\n",
      "proposed_initial_alpha: 0.1932131881084135\n",
      "updating X: initial cost: 2.4020082e-06; New Cost: 2.4003566e-06\n",
      "(3.4920564e-07, 39, 0.00517013, 4.2962252e-05, 0.8276162, -0.56563157, 1.4856987, 2.4020082e-06, 2.4003566e-06)\n",
      "alpha_val: 0.8541038\n",
      "theta_val: -0.5729241\n",
      "inprod_grad_eta_val: -1.8385041e-08\n",
      "rim_grad_norm: 0.0031651831\n",
      "eta_norm_val: 0.00013558216\n",
      "Cost New: 2.3983434e-06\n",
      "Cost Old: 2.4003566e-06\n",
      "TSC Score New: 0.003461884\n",
      "TSC Score Old: 0.0034633367\n",
      "armijo: True\n",
      "proposed_initial_alpha: 0.2190004925671444\n",
      "updating X: initial cost: 2.4003566e-06; New Cost: 2.3983434e-06\n",
      "(3.4933845e-07, 40, 0.0051701944, 1.2429176e-05, 0.8541038, -0.5729241, 1.6914656, 2.4003566e-06, 2.3983434e-06)\n",
      "alpha_val: 0.77221715\n",
      "theta_val: -0.6038633\n",
      "inprod_grad_eta_val: -1.8883883e-08\n",
      "rim_grad_norm: 0.003165262\n",
      "eta_norm_val: 0.0001374092\n",
      "Cost New: 2.3966884e-06\n",
      "Cost Old: 2.3983434e-06\n",
      "TSC Score New: 0.0034606894\n",
      "TSC Score Old: 0.003461884\n",
      "armijo: True\n",
      "proposed_initial_alpha: 0.17528735929523237\n",
      "updating X: initial cost: 2.3983434e-06; New Cost: 2.3966884e-06\n",
      "(3.4935212e-07, 41, 0.005170201, 1.2609294e-06, 0.77221715, -0.6038633, 1.6473811, 2.3983434e-06, 2.3966884e-06)\n",
      "alpha_val: 0.7619071\n",
      "theta_val: -0.6038261\n",
      "inprod_grad_eta_val: -1.7340746e-08\n",
      "rim_grad_norm: 0.0031650183\n",
      "eta_norm_val: 0.00013167498\n",
      "Cost New: 2.395237e-06\n",
      "Cost Old: 2.3966884e-06\n",
      "TSC Score New: 0.0034596412\n",
      "TSC Score Old: 0.0034606894\n",
      "armijo: True\n",
      "proposed_initial_alpha: 0.16738912998316324\n",
      "updating X: initial cost: 2.3966884e-06; New Cost: 2.395237e-06\n",
      "(3.4906512e-07, 42, 0.005170062, 2.6840502e-05, 0.7619071, -0.6038261, 1.4727693, 2.3966884e-06, 2.395237e-06)\n",
      "alpha_val: 0.77075446\n",
      "theta_val: -0.5711135\n",
      "inprod_grad_eta_val: -1.7044336e-08\n",
      "rim_grad_norm: 0.0031649712\n",
      "eta_norm_val: 0.00013054433\n",
      "Cost New: 2.39373e-06\n",
      "Cost Old: 2.395237e-06\n",
      "TSC Score New: 0.0034585528\n",
      "TSC Score Old: 0.0034596412\n",
      "armijo: True\n",
      "proposed_initial_alpha: 0.1768367797423437\n",
      "updating X: initial cost: 2.395237e-06; New Cost: 2.39373e-06\n",
      "(3.4883217e-07, 43, 0.0051699495, 2.1797125e-05, 0.77075446, -0.5711135, 1.5442545, 2.395237e-06, 2.39373e-06)\n",
      "alpha_val: 0.6991788\n",
      "theta_val: -0.6044962\n",
      "inprod_grad_eta_val: -1.680863e-08\n",
      "rim_grad_norm: 0.0031649342\n",
      "eta_norm_val: 0.00012963888\n",
      "Cost New: 2.3926334e-06\n",
      "Cost Old: 2.39373e-06\n",
      "TSC Score New: 0.0034577604\n",
      "TSC Score Old: 0.0034585528\n",
      "armijo: True\n",
      "proposed_initial_alpha: 0.13048336381708817\n",
      "updating X: initial cost: 2.39373e-06; New Cost: 2.3926334e-06\n",
      "(3.489343e-07, 44, 0.0051699993, 9.637479e-06, 0.6991788, -0.6044962, 1.5823069, 2.39373e-06, 2.3926334e-06)\n",
      "alpha_val: 0.7129486\n",
      "theta_val: -0.58270323\n",
      "inprod_grad_eta_val: -1.5686895e-08\n",
      "rim_grad_norm: 0.003164757\n",
      "eta_norm_val: 0.00012523796\n",
      "Cost New: 2.3914818e-06\n",
      "Cost Old: 2.3926334e-06\n",
      "TSC Score New: 0.0034569283\n",
      "TSC Score Old: 0.0034577604\n",
      "armijo: True\n",
      "proposed_initial_alpha: 0.1468292662488703\n",
      "updating X: initial cost: 2.3926334e-06; New Cost: 2.3914818e-06\n",
      "(3.480951e-07, 45, 0.0051695933, 7.854711e-05, 0.7129486, -0.58270323, 1.4770831, 2.3926334e-06, 2.3914818e-06)\n",
      "alpha_val: 0.66787314\n",
      "theta_val: -0.59555525\n",
      "inprod_grad_eta_val: -1.5223499e-08\n",
      "rim_grad_norm: 0.0031646837\n",
      "eta_norm_val: 0.00012337444\n",
      "Cost New: 2.3905725e-06\n",
      "Cost Old: 2.3914818e-06\n",
      "TSC Score New: 0.003456271\n",
      "TSC Score Old: 0.0034569283\n",
      "armijo: True\n",
      "proposed_initial_alpha: 0.11945576161122642\n",
      "updating X: initial cost: 2.3914818e-06; New Cost: 2.3905725e-06\n",
      "(3.4823478e-07, 46, 0.005169661, 1.306099e-05, 0.66787314, -0.59555525, 1.5484207, 2.3914818e-06, 2.3905725e-06)\n",
      "alpha_val: 0.633081\n",
      "theta_val: -0.55995333\n",
      "inprod_grad_eta_val: -1.4850239e-08\n",
      "rim_grad_norm: 0.0031646248\n",
      "eta_norm_val: 0.00012185237\n",
      "Cost New: 2.3897821e-06\n",
      "Cost Old: 2.3905725e-06\n",
      "TSC Score New: 0.0034556997\n",
      "TSC Score Old: 0.003456271\n",
      "armijo: True\n",
      "proposed_initial_alpha: 0.10644285010846069\n",
      "updating X: initial cost: 2.3905725e-06; New Cost: 2.3897821e-06\n",
      "(3.483608e-07, 47, 0.0051697223, 1.1889863e-05, 0.633081, -0.55995333, 1.5217041, 2.3905725e-06, 2.3897821e-06)\n",
      "alpha_val: 0.69946575\n",
      "theta_val: -0.57251173\n",
      "inprod_grad_eta_val: -1.4975466e-08\n",
      "rim_grad_norm: 0.0031646446\n",
      "eta_norm_val: 0.00012236508\n",
      "Cost New: 2.3887342e-06\n",
      "Cost Old: 2.3897821e-06\n",
      "TSC Score New: 0.003454942\n",
      "TSC Score Old: 0.0034556997\n",
      "armijo: True\n",
      "proposed_initial_alpha: 0.13995761548806834\n",
      "updating X: initial cost: 2.3897821e-06; New Cost: 2.3887342e-06\n",
      "(3.483636e-07, 48, 0.005169723, 1.8014941e-07, 0.69946575, -0.57251173, 1.585777, 2.3897821e-06, 2.3887342e-06)\n",
      "Breaking after 48 iterations\n"
     ]
    }
   ],
   "source": [
    "\n",
    "\n",
    "i = 0\n",
    "cost_nan = False\n",
    "while gradnorm_val > eps:   \n",
    "#for k in range(20):\n",
    "    i = i + 1\n",
    "    F_v, gradnorm_val, alpha_val,theta_val, beta_val, cost_new_val, cost_val,tsc_score_val, eta_norm_val, inprod_grad_eta_val, riemannian_grad_norm_val,_, _,_,_,_,_ = sess.run([loss, gradnorm_omega, alpha, theta, beta, cost_new, cost, completion_score, eta_norm, inprod_grad_eta, riemannian_grad_norm,eta_norm_update_op.op, cost_new_op.op, train_new_step.op, tsc_score_op.op, eta_update_op.op, grad_update_op.op])\n",
    "    #eta_old_val, grad_update_val,_ = sess.run([eta_update_op, grad_update_op])\n",
    "    \n",
    "    print \"alpha_val: \" + str(alpha_val)\n",
    "    print \"theta_val: \" + str(theta_val)\n",
    "    print \"inprod_grad_eta_val: \" + str(inprod_grad_eta_val)\n",
    "    print \"rim_grad_norm: \" + str(riemannian_grad_norm_val)\n",
    "    print \"eta_norm_val: \" + str(eta_norm_val)\n",
    "    \n",
    "    lr = alpha_val\n",
    "    cost_prev_value = cost_val\n",
    "    cost_new_value = cost_new_val\n",
    "    cost_0 = cost_val\n",
    "    \n",
    "    print \"Cost New: \" +str(cost_new_value)\n",
    "    print \"Cost Old: \" +str(cost_prev_value)\n",
    "        \n",
    "    tsc_score_old = tsc_score_history[i-1]\n",
    "    \n",
    "    tsc_score_new = tsc_score_val\n",
    "    print \"TSC Score New: \" +str(tsc_score_val)\n",
    "    print \"TSC Score Old: \" +str(tsc_score_old)\n",
    "       \n",
    "    backtrackiter = 0\n",
    "\n",
    "    max_iter_count = 10\n",
    "    #armijo = (cost_new_val <= cost_prev_value + backtrack_const*(lr)*inprod_grad_eta_val)\n",
    "    armijo = ((tsc_score_new < tsc_score_old) or (cost_new_val <= cost_prev_value + backtrack_const*(lr)*inprod_grad_eta_val))\n",
    "    print \"armijo: \" + str(armijo)\n",
    "    \n",
    "    proposed_initial_alpha = 2*(cost_new_value - cost_prev_value)/inprod_grad_eta_val\n",
    "    print \"proposed_initial_alpha: \" + str(proposed_initial_alpha)\n",
    "    \n",
    "    #diff_train = np.abs(train_loss_hist[i - 1] - train_loss_hist[i-2])\n",
    "    \n",
    "    #while (cost_prev - cost_new) <= -backtrack_const*(-lr)*inprod_grad_eta_val:\n",
    "    #while (not (cost_new <= cost_prev + backtrack_const*(lr)*inprod_grad_eta_val)):\n",
    "    while ((tsc_score_new > tsc_score_old) or (cost_new_value > cost_prev_value + backtrack_const*(lr)*inprod_grad_eta_val)):\n",
    "        \n",
    "        print \"Backtracking\"\n",
    "        lr = 0.5*lr\n",
    "        print \"Learning Rate: \" + str(lr)\n",
    "        sess.run(t3f.assign(X_new, t3f.round(X + lr * eta_t3f_old, max_tt_rank=63)).op)\n",
    "        x_new_val = sess.run(t3f.full(X_new))\n",
    "        x_new_val[mask_indices==0] = 0.0\n",
    "        \n",
    "               \n",
    "        print \"proposed_initial_alpha: \" + str(proposed_initial_alpha)\n",
    "        proposed_step_size = proposed_initial_alpha /inprod_grad_eta_val\n",
    "        print \"proposed_step_size: \" + str(proposed_step_size)\n",
    "        proposed_initial_alpha = 0.5* proposed_step_size\n",
    "        \n",
    "        cost_new_value = loss_func(x_new_val, a_omega)\n",
    "        sess.run(tf.assign(cost_new,cost_new_value).op)\n",
    "        \n",
    "        tsc_score_new,_ = sess.run([completion_score, tsc_score_update_op.op])\n",
    "        print \"TSC Score New: \" +str(tsc_score_new)\n",
    "        print \"TSC Score Old: \" +str(tsc_score_old)\n",
    "        \n",
    "        if is_nan(cost_new):\n",
    "            cost_nan = True\n",
    "            break\n",
    "        \n",
    "        print \"Cost New: \" +str(cost_new_value)\n",
    "        print \"Cost Old: \" +str(cost_prev_value)\n",
    "        backtrackiter = backtrackiter + 1\n",
    "        print \"backtrackiter_count: \" + str(backtrackiter)\n",
    "    \n",
    "        if cost_nan:\n",
    "            print \"Cost is Nan. Breaking after \" + str(i) + \"; iterations\"\n",
    "            break\n",
    "        \n",
    "        if backtrackiter>= max_iter_count:\n",
    "           print \"Breaking after \" + str(i) + \"; iterations\"\n",
    "           break\n",
    "    \n",
    "    if (cost_new_value < cost_prev_value or (tsc_score_new <= tsc_score_old)):\n",
    "        # update x\n",
    "        print \"updating X: initial cost: \" + str(cost_prev_value) + \"; New Cost: \" +  str(cost_new_value)\n",
    "        sess.run([t3f.assign(X, X_new).op, tf.assign(cost,cost_new_value).op])\n",
    "        tsc_score_history.append(tsc_score_new)\n",
    "    else:\n",
    "        print \"Reject Step: not updating X: initial cost: \" + str(cost_prev_value) + \"; New Cost: \" +  str(cost_new_value)\n",
    "        tsc_score_history.append(tsc_score_old)\n",
    "        \n",
    "    train_loss_hist.append(gradnorm_val)\n",
    "    \n",
    "    if i > 1:\n",
    "        diff_train = np.abs(train_loss_hist[i - 1] - train_loss_hist[i-2])/np.abs(train_loss_hist[i-1])\n",
    "        print (F_v, i, gradnorm_val, diff_train, alpha_val, theta_val, beta_val, cost_val, cost_new_val)\n",
    "        if diff_train <= epsilon_train:\n",
    "            print \"Breaking after \" + str(i) + \" iterations\"\n",
    "            break\n",
    "    else:\n",
    "        print (F_v, i, gradnorm_val, alpha_val, theta_val, beta_val, cost_val, cost_new_val)\n",
    "    log.append(F_v)"
   ]
  },
  {
   "cell_type": "code",
   "execution_count": 95,
   "metadata": {},
   "outputs": [
    {
     "name": "stdout",
     "output_type": "stream",
     "text": [
      "TSC Score Old: 0.0034556997\n"
     ]
    }
   ],
   "source": [
    "print \"TSC Score Old: \" +str(tsc_score_old)"
   ]
  },
  {
   "cell_type": "code",
   "execution_count": null,
   "metadata": {
    "collapsed": true
   },
   "outputs": [],
   "source": []
  },
  {
   "cell_type": "code",
   "execution_count": 96,
   "metadata": {},
   "outputs": [
    {
     "name": "stdout",
     "output_type": "stream",
     "text": [
      "Tensor(\"Maximum:0\", shape=(), dtype=float32)\n"
     ]
    }
   ],
   "source": [
    "print beta"
   ]
  },
  {
   "cell_type": "code",
   "execution_count": 97,
   "metadata": {
    "collapsed": true
   },
   "outputs": [],
   "source": [
    "#sess.run([eta_update_op.op, grad_update_op.op])"
   ]
  },
  {
   "cell_type": "code",
   "execution_count": 98,
   "metadata": {},
   "outputs": [
    {
     "name": "stdout",
     "output_type": "stream",
     "text": [
      "A Tensor Train variable of shape (53, 63, 46, 144), TT-ranks: (1, 53, 63, 63, 1)\n"
     ]
    }
   ],
   "source": [
    "print X"
   ]
  },
  {
   "cell_type": "code",
   "execution_count": 99,
   "metadata": {
    "collapsed": true
   },
   "outputs": [],
   "source": [
    "estimated_val = sess.run(t3f.full(X))"
   ]
  },
  {
   "cell_type": "code",
   "execution_count": 100,
   "metadata": {
    "collapsed": true
   },
   "outputs": [],
   "source": [
    "ground_truth_val = sess.run(ground_truth)\n"
   ]
  },
  {
   "cell_type": "code",
   "execution_count": 101,
   "metadata": {
    "collapsed": true
   },
   "outputs": [],
   "source": [
    "x_reconstr = mt.reconstruct(estimated_val,ground_truth_val, ten_ones, mask_indices)\n"
   ]
  },
  {
   "cell_type": "code",
   "execution_count": 102,
   "metadata": {
    "collapsed": true
   },
   "outputs": [],
   "source": [
    "def relative_error(x_hat,x_true):\n",
    "    percent_error = np.linalg.norm(x_hat - x_true) / np.linalg.norm(x_true)\n",
    "    return percent_error"
   ]
  },
  {
   "cell_type": "code",
   "execution_count": 103,
   "metadata": {
    "collapsed": true
   },
   "outputs": [],
   "source": [
    "rel_error = relative_error(estimated_val,ground_truth_val)"
   ]
  },
  {
   "cell_type": "code",
   "execution_count": 104,
   "metadata": {},
   "outputs": [
    {
     "name": "stdout",
     "output_type": "stream",
     "text": [
      "0.0035736808\n"
     ]
    }
   ],
   "source": [
    "print rel_error"
   ]
  },
  {
   "cell_type": "code",
   "execution_count": 105,
   "metadata": {
    "collapsed": true
   },
   "outputs": [],
   "source": [
    "rel_error_rec = relative_error(x_reconstr,ground_truth_val)"
   ]
  },
  {
   "cell_type": "code",
   "execution_count": 106,
   "metadata": {},
   "outputs": [
    {
     "data": {
      "text/plain": [
       "0.0028276543219883953"
      ]
     },
     "execution_count": 106,
     "metadata": {},
     "output_type": "execute_result"
    }
   ],
   "source": [
    "rel_error_rec"
   ]
  },
  {
   "cell_type": "code",
   "execution_count": 107,
   "metadata": {
    "collapsed": true
   },
   "outputs": [],
   "source": [
    "x_miss_img = mt.reconstruct_image_affine(x_true_org, x_train)"
   ]
  },
  {
   "cell_type": "code",
   "execution_count": 108,
   "metadata": {
    "collapsed": true
   },
   "outputs": [],
   "source": [
    "x_miss = image.index_img(x_miss_img,1)"
   ]
  },
  {
   "cell_type": "code",
   "execution_count": 109,
   "metadata": {},
   "outputs": [
    {
     "data": {
      "image/png": "[encoded data removed]",
      "text/plain": [
       "<matplotlib.figure.Figure at 0x1a7061d90>"
      ]
     },
     "metadata": {},
     "output_type": "display_data"
    }
   ],
   "source": [
    "x_miss_image = plotting.plot_epi(x_miss, bg_img=None,black_bg=True, cmap='jet', cut_coords=None) "
   ]
  },
  {
   "cell_type": "code",
   "execution_count": 110,
   "metadata": {},
   "outputs": [
    {
     "data": {
      "image/png": "[encoded data removed]",
      "text/plain": [
       "<matplotlib.figure.Figure at 0x1a5417d10>"
      ]
     },
     "metadata": {},
     "output_type": "display_data"
    }
   ],
   "source": [
    "x_hat_img = mt.reconstruct_image_affine(x_true_org, x_reconstr)\n",
    "x_hat = image.index_img(x_hat_img,1)\n",
    "recovered_image = plotting.plot_epi(x_hat, bg_img=None,black_bg=True, cmap='jet', cut_coords=None)"
   ]
  },
  {
   "cell_type": "code",
   "execution_count": 111,
   "metadata": {},
   "outputs": [
    {
     "data": {
      "image/png": "[encoded data removed]",
      "text/plain": [
       "<matplotlib.figure.Figure at 0x10696d850>"
      ]
     },
     "metadata": {},
     "output_type": "display_data"
    }
   ],
   "source": [
    "x_org = mt.reconstruct_image_affine(x_true_org, x_true_img)\n",
    "x_org_img = image.index_img(x_org,1)\n",
    "#x_true_org_img = image.index_img(x_true_org,1)\n",
    "org_image = plotting.plot_epi(x_org_img, bg_img=None,black_bg=True, cmap='jet', cut_coords=None)"
   ]
  },
  {
   "cell_type": "code",
   "execution_count": 112,
   "metadata": {
    "collapsed": true
   },
   "outputs": [],
   "source": [
    "#x_true_org_img = image.index_img(x_true_org,1)\n",
    "#org_image = plotting.plot_epi(x_true_org_img, bg_img=None,black_bg=True, cmap='jet', cut_coords=None)"
   ]
  },
  {
   "cell_type": "code",
   "execution_count": 113,
   "metadata": {},
   "outputs": [
    {
     "name": "stdout",
     "output_type": "stream",
     "text": [
      "('Saving figure', '/work/scratch/tt1/1/missing_ratio_60.00.png')\n",
      "Called from mrd\n"
     ]
    }
   ],
   "source": [
    "images_folder = \"/work/scratch/tt1/1\"\n",
    "mrd.draw_original_vs_reconstructed_rim(image.index_img(x_true_org,1),x_hat, image.index_img(x_miss_img,1), \"Rim Completion\",\n",
    "                                             rel_error_rec, observed_ratio, coord=None, folder=images_folder)"
   ]
  },
  {
   "cell_type": "code",
   "execution_count": 114,
   "metadata": {
    "collapsed": true
   },
   "outputs": [],
   "source": [
    "estimated_val_img = mt.reconstruct_image_affine(x_true_org, estimated_val)"
   ]
  },
  {
   "cell_type": "code",
   "execution_count": 115,
   "metadata": {
    "collapsed": true
   },
   "outputs": [],
   "source": [
    "estimated_val_hat = image.index_img(estimated_val_img,1)"
   ]
  },
  {
   "cell_type": "code",
   "execution_count": 116,
   "metadata": {},
   "outputs": [
    {
     "name": "stdout",
     "output_type": "stream",
     "text": [
      "('Saving figure', '/work/scratch/tt1/2/missing_ratio_60.00.png')\n",
      "Called from mrd\n"
     ]
    }
   ],
   "source": [
    "images_folder = \"/work/scratch/tt1/2\"\n",
    "mrd.draw_original_vs_reconstructed_rim(image.index_img(x_true_org,1),estimated_val_hat,image.index_img(x_miss_img,1), \"Rim Completion2\",\n",
    "                                             rel_error_rec, observed_ratio, coord=None, folder=images_folder)"
   ]
  },
  {
   "cell_type": "code",
   "execution_count": null,
   "metadata": {
    "collapsed": true
   },
   "outputs": [],
   "source": []
  },
  {
   "cell_type": "code",
   "execution_count": 117,
   "metadata": {
    "collapsed": true
   },
   "outputs": [],
   "source": [
    "tsc_score = tsc(estimated_val,ground_truth_val, ten_ones, mask_indices)"
   ]
  },
  {
   "cell_type": "code",
   "execution_count": 118,
   "metadata": {},
   "outputs": [
    {
     "data": {
      "text/plain": [
       "0.0036504370826303018"
      ]
     },
     "execution_count": 118,
     "metadata": {},
     "output_type": "execute_result"
    }
   ],
   "source": [
    "tsc_score"
   ]
  },
  {
   "cell_type": "code",
   "execution_count": 119,
   "metadata": {},
   "outputs": [
    {
     "data": {
      "text/plain": [
       "<nibabel.nifti1.Nifti1Image at 0x106e22f50>"
      ]
     },
     "execution_count": 119,
     "metadata": {},
     "output_type": "execute_result"
    }
   ],
   "source": [
    "x_miss"
   ]
  },
  {
   "cell_type": "code",
   "execution_count": 120,
   "metadata": {},
   "outputs": [
    {
     "name": "stdout",
     "output_type": "stream",
     "text": [
      "<class 'nibabel.nifti1.Nifti1Image'>\n",
      "data shape (53, 63, 46)\n",
      "affine: \n",
      "[[  -3.    0.    0.   78.]\n",
      " [   0.    3.    0. -111.]\n",
      " [   0.    0.    3.  -51.]\n",
      " [   0.    0.    0.    1.]]\n",
      "metadata:\n",
      "<class 'nibabel.nifti1.Nifti1Header'> object, endian='<'\n",
      "sizeof_hdr      : 348\n",
      "data_type       : \n",
      "db_name         : \n",
      "extents         : 0\n",
      "session_error   : 0\n",
      "regular         : \n",
      "dim_info        : 0\n",
      "dim             : [ 3 53 63 46  1  1  1  1]\n",
      "intent_p1       : 0.0\n",
      "intent_p2       : 0.0\n",
      "intent_p3       : 0.0\n",
      "intent_code     : none\n",
      "datatype        : float32\n",
      "bitpix          : 32\n",
      "slice_start     : 0\n",
      "pixdim          : [-1.  3.  3.  3.  1.  1.  1.  1.]\n",
      "vox_offset      : 0.0\n",
      "scl_slope       : nan\n",
      "scl_inter       : nan\n",
      "slice_end       : 0\n",
      "slice_code      : unknown\n",
      "xyzt_units      : 0\n",
      "cal_max         : 0.00044677733\n",
      "cal_min         : 1.4258964e-06\n",
      "slice_duration  : 0.0\n",
      "toffset         : 0.0\n",
      "glmax           : 0\n",
      "glmin           : 0\n",
      "descrip         : \n",
      "aux_file        : \n",
      "qform_code      : unknown\n",
      "sform_code      : aligned\n",
      "quatern_b       : 0.0\n",
      "quatern_c       : 1.0\n",
      "quatern_d       : 0.0\n",
      "qoffset_x       : 78.0\n",
      "qoffset_y       : -111.0\n",
      "qoffset_z       : -51.0\n",
      "srow_x          : [-3.  0.  0. 78.]\n",
      "srow_y          : [   0.    3.    0. -111.]\n",
      "srow_z          : [  0.   0.   3. -51.]\n",
      "intent_name     : \n",
      "magic           : n+1\n"
     ]
    }
   ],
   "source": [
    "print x_miss"
   ]
  },
  {
   "cell_type": "code",
   "execution_count": null,
   "metadata": {
    "collapsed": true
   },
   "outputs": [],
   "source": []
  }
 ],
 "metadata": {
  "kernelspec": {
   "display_name": "Python 2",
   "language": "python",
   "name": "python2"
  },
  "language_info": {
   "codemirror_mode": {
    "name": "ipython",
    "version": 2
   },
   "file_extension": ".py",
   "mimetype": "text/x-python",
   "name": "python",
   "nbconvert_exporter": "python",
   "pygments_lexer": "ipython2",
   "version": "2.7.13"
  }
 },
 "nbformat": 4,
 "nbformat_minor": 2
}
