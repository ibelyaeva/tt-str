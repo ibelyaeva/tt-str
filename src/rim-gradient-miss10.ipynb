{
 "cells": [
  {
   "cell_type": "code",
   "execution_count": 1,
   "metadata": {},
   "outputs": [
    {
     "name": "stderr",
     "output_type": "stream",
     "text": [
      "/usr/local/lib/python2.7/site-packages/matplotlib/__init__.py:1405: UserWarning: \n",
      "This call to matplotlib.use() has no effect because the backend has already\n",
      "been chosen; matplotlib.use() must be called *before* pylab, matplotlib.pyplot,\n",
      "or matplotlib.backends is imported for the first time.\n",
      "\n",
      "  warnings.warn(_use_error_msg)\n"
     ]
    }
   ],
   "source": [
    "import tensorflow as tf\n",
    "import numpy as np\n",
    "import t3f\n",
    "tf.set_random_seed(0)\n",
    "np.random.seed(0)\n",
    "%matplotlib inline\n",
    "import matplotlib.pyplot as plt\n",
    "import metric_util as mt\n",
    "import data_util as du\n",
    "from t3f import shapes\n",
    "from nilearn import image\n",
    "from skimage.measure import compare_ssim as ssim\n",
    "from tensorflow.python.util import nest\n",
    "import copy\n",
    "from nilearn import plotting\n",
    "from t3f import ops\n",
    "import mri_draw_utils as mrd\n",
    "from t3f import initializers\n",
    "from t3f import approximate\n",
    "from scipy import optimize "
   ]
  },
  {
   "cell_type": "code",
   "execution_count": 2,
   "metadata": {
    "collapsed": true
   },
   "outputs": [],
   "source": [
    "#sess = tf.InteractiveSession()"
   ]
  },
  {
   "cell_type": "code",
   "execution_count": 3,
   "metadata": {
    "collapsed": true
   },
   "outputs": [],
   "source": [
    "def frobenius_norm_tf_squared(x):\n",
    "    return tf.reduce_sum(x ** 2)"
   ]
  },
  {
   "cell_type": "code",
   "execution_count": 4,
   "metadata": {
    "collapsed": true
   },
   "outputs": [],
   "source": [
    "def frobenius_norm_tf(x):\n",
    "    return tf.reduce_sum(x ** 2) ** 0.5"
   ]
  },
  {
   "cell_type": "code",
   "execution_count": 5,
   "metadata": {
    "collapsed": true
   },
   "outputs": [],
   "source": [
    "def relative_error1(x_hat,x_true):\n",
    "    percent_error = frobenius_norm_tf(x_hat - x_true) / frobenius_norm_tf(x_true)\n",
    "    return percent_error"
   ]
  },
  {
   "cell_type": "code",
   "execution_count": 6,
   "metadata": {
    "collapsed": true
   },
   "outputs": [],
   "source": [
    "def innerProduct(x, y):\n",
    "    result = tf.reduce_sum(tf.multiply(x, y))\n",
    "    return result"
   ]
  },
  {
   "cell_type": "code",
   "execution_count": 7,
   "metadata": {
    "collapsed": true
   },
   "outputs": [],
   "source": [
    "def compute_step_size(n_omega, grad):\n",
    "    result = -innerProduct(n_omega,grad)/(innerProduct(n_omega, n_omega))\n",
    "    return result"
   ]
  },
  {
   "cell_type": "code",
   "execution_count": 8,
   "metadata": {
    "collapsed": true
   },
   "outputs": [],
   "source": [
    "def draw(omega, x_true, x_hat, rel_error):\n",
    "    images_folder = \"/work/scratch/tt1\"\n",
    "    ten_ones = np.ones_like(omega)\n",
    "    x_reconstr1 = mt.reconstruct2(x_hat,ground_truth, omega)\n",
    "    x_hat_img = mt.reconstruct_image_affine(x_true_org, x_reconstr1)\n",
    "    x_hat_est = image.index_img(x_hat_img,1)\n",
    "    \n",
    "    x_true_org_img = image.index_img(x_true,1)\n",
    "    x_miss_img = mt.reconstruct_image_affine(x_true_org, x_train)\n",
    "    x_miss = image.index_img(x_miss_img,1)\n",
    "    mrd.draw_original_vs_reconstructed_rim(x_true_org_img,x_hat_est, x_miss, \"Rim Completion\",\n",
    "                                             rel_error, observed_ratio, coord=None, folder=images_folder)"
   ]
  },
  {
   "cell_type": "code",
   "execution_count": 9,
   "metadata": {},
   "outputs": [
    {
     "name": "stdout",
     "output_type": "stream",
     "text": [
      "Subject Path: /work/pl/sch/analysis/data/COBRE001/swaAMAYER+cobre01_63001+M87100944+20110309at135133+RSTpre_V01_R01+CM.nii\n"
     ]
    }
   ],
   "source": [
    "subject_scan_path = du.get_full_path_subject1()\n",
    "print \"Subject Path: \" + str(subject_scan_path)\n",
    "x_true_org = mt.read_image_abs_path(subject_scan_path)\n"
   ]
  },
  {
   "cell_type": "code",
   "execution_count": null,
   "metadata": {
    "collapsed": true
   },
   "outputs": [],
   "source": []
  },
  {
   "cell_type": "code",
   "execution_count": 10,
   "metadata": {
    "collapsed": true
   },
   "outputs": [],
   "source": [
    "observed_ratio = 0.4\n",
    "x_true_img = np.array(x_true_org.get_data())\n",
    "mask_indices = (np.random.rand(x_true_img.shape[0],x_true_img.shape[1],x_true_img.shape[2], x_true_img.shape[3]) < observed_ratio).astype('int') \n",
    "ten_ones = np.ones_like(mask_indices)\n",
    "x_train = copy.deepcopy(x_true_img)\n",
    "x_train[mask_indices==0] = 0.0\n",
    "x_train[mask_indices == 0] = np.mean(x_train[mask_indices == 1])\n",
    "#x_train[mask_indices == 0] = np.mean(x_train[mask_indices == 1])\n",
    "\n",
    "x_init = copy.deepcopy(x_train)\n",
    "#shape = (1, 53, 63, 63, 1)\n",
    "#x_init_tf = t3f.random_tensor(shape, tt_rank=63)\n",
    "\n",
    "ground_truth = copy.deepcopy(x_true_img)\n",
    "a_omega = copy.deepcopy(ground_truth)\n",
    "a_omega[mask_indices==0] = 0.0\n",
    "\n",
    "sparse_observation = copy.deepcopy(ground_truth)\n",
    "sparse_observation[mask_indices==0] = 0.0"
   ]
  },
  {
   "cell_type": "code",
   "execution_count": null,
   "metadata": {
    "collapsed": true
   },
   "outputs": [],
   "source": []
  },
  {
   "cell_type": "code",
   "execution_count": 11,
   "metadata": {
    "collapsed": true
   },
   "outputs": [],
   "source": [
    "ten_ones = np.ones_like(mask_indices)\n"
   ]
  },
  {
   "cell_type": "code",
   "execution_count": 12,
   "metadata": {},
   "outputs": [
    {
     "name": "stdout",
     "output_type": "stream",
     "text": [
      "47395410.0\n"
     ]
    }
   ],
   "source": [
    "norm_sparse_observation = np.linalg.norm(sparse_observation)\n",
    "print norm_sparse_observation"
   ]
  },
  {
   "cell_type": "code",
   "execution_count": 13,
   "metadata": {},
   "outputs": [
    {
     "name": "stdout",
     "output_type": "stream",
     "text": [
      "[1, 53, 1, 1, 1] 0 (1, 53, 53)\n",
      "[1, 53, 63, 1, 1] 1 (53, 63, 63)\n",
      "[1, 53, 63, 63, 1] 2 (63, 46, 63)\n",
      "ranks: [1, 53, 63, 63, 1]\n"
     ]
    }
   ],
   "source": [
    "mask_indices_tf = t3f.to_tt_tensor(mask_indices.astype('float32'), max_tt_rank=63)"
   ]
  },
  {
   "cell_type": "code",
   "execution_count": 14,
   "metadata": {
    "collapsed": true
   },
   "outputs": [],
   "source": [
    "x_miss_img = mt.reconstruct_image_affine(x_true_org, x_train)"
   ]
  },
  {
   "cell_type": "code",
   "execution_count": 15,
   "metadata": {
    "collapsed": true
   },
   "outputs": [],
   "source": [
    "x_miss = image.index_img(x_miss_img,1)"
   ]
  },
  {
   "cell_type": "code",
   "execution_count": 16,
   "metadata": {},
   "outputs": [
    {
     "data": {
      "image/png": "[encoded data removed]",
      "text/plain": [
       "<matplotlib.figure.Figure at 0x12b1c0f10>"
      ]
     },
     "metadata": {},
     "output_type": "display_data"
    }
   ],
   "source": [
    "x_miss_image = plotting.plot_epi(x_miss, bg_img=None,black_bg=True, cmap='jet', cut_coords=None) "
   ]
  },
  {
   "cell_type": "code",
   "execution_count": 17,
   "metadata": {},
   "outputs": [
    {
     "name": "stdout",
     "output_type": "stream",
     "text": [
      "('Saving figure', '/work/scratch/tt1/missing_ratio_60.00.png')\n",
      "Called from mrd\n"
     ]
    }
   ],
   "source": [
    "images_folder = \"/work/scratch/tt1\"\n",
    "mrd.draw_original_vs_reconstructed_rim(image.index_img(x_true_org,1),image.index_img(x_miss_img,1), image.index_img(x_miss_img,1), \"Rim Completion\",\n",
    "                                             observed_ratio, observed_ratio, coord=None, folder=images_folder)"
   ]
  },
  {
   "cell_type": "code",
   "execution_count": 18,
   "metadata": {},
   "outputs": [
    {
     "name": "stdout",
     "output_type": "stream",
     "text": [
      "[1, 53, 1, 1, 1] 0 (1, 53, 53)\n",
      "[1, 53, 63, 1, 1] 1 (53, 63, 63)\n",
      "[1, 53, 63, 63, 1] 2 (63, 46, 63)\n",
      "ranks: [1, 53, 63, 63, 1]\n"
     ]
    }
   ],
   "source": [
    "ground_truth_tf = t3f.to_tt_tensor(ground_truth, max_tt_rank=63)"
   ]
  },
  {
   "cell_type": "code",
   "execution_count": 19,
   "metadata": {
    "collapsed": true
   },
   "outputs": [],
   "source": [
    "A = t3f.get_variable('A', initializer=ground_truth_tf, trainable=False)"
   ]
  },
  {
   "cell_type": "code",
   "execution_count": 20,
   "metadata": {
    "collapsed": true
   },
   "outputs": [],
   "source": [
    "ground_truth = tf.get_variable('ground_truth', initializer=ground_truth, trainable=False)\n",
    "sparsity_mask = tf.get_variable('sparsity_mask', initializer=mask_indices, trainable=False)\n",
    "sparsity_mask = tf.cast(sparsity_mask,tf.float32)\n",
    "sparse_observation = ground_truth * sparsity_mask"
   ]
  },
  {
   "cell_type": "code",
   "execution_count": 21,
   "metadata": {
    "collapsed": true
   },
   "outputs": [],
   "source": [
    "#sparsity_mask = t3f.get_variable('sparsity_mask', initializer=mask_indices_tf, trainable=False)\n",
    "#sparsity_mask = t3f.cast(sparsity_mask, tf.float32)\n",
    "#sparse_observation_tf = t3f.to_tt_tensor(sparse_observation, max_tt_rank=63)\n",
    "#sparse_observation_tf3 = t3f.get_variable('sparse_observation_tf', initializer=sparse_observation_tf, trainable=False)"
   ]
  },
  {
   "cell_type": "code",
   "execution_count": 22,
   "metadata": {},
   "outputs": [
    {
     "name": "stdout",
     "output_type": "stream",
     "text": [
      "[1, 53, 1, 1, 1] 0 (1, 53, 53)\n",
      "[1, 53, 63, 1, 1] 1 (53, 63, 63)\n",
      "[1, 53, 63, 63, 1] 2 (63, 46, 63)\n",
      "ranks: [1, 53, 63, 63, 1]\n"
     ]
    }
   ],
   "source": [
    "x_train_tf = t3f.to_tt_tensor(x_init, max_tt_rank=63)"
   ]
  },
  {
   "cell_type": "code",
   "execution_count": null,
   "metadata": {
    "collapsed": true
   },
   "outputs": [],
   "source": []
  },
  {
   "cell_type": "code",
   "execution_count": 23,
   "metadata": {
    "collapsed": true
   },
   "outputs": [],
   "source": [
    "normAOmegavar = tf.get_variable('normAOmega', initializer=norm_sparse_observation, trainable=False)"
   ]
  },
  {
   "cell_type": "code",
   "execution_count": 24,
   "metadata": {
    "collapsed": true
   },
   "outputs": [],
   "source": [
    "X = t3f.get_variable('X', initializer=x_train_tf)"
   ]
  },
  {
   "cell_type": "code",
   "execution_count": 25,
   "metadata": {
    "collapsed": true
   },
   "outputs": [],
   "source": [
    "X_new = t3f.get_variable('X_new', initializer=x_train_tf)"
   ]
  },
  {
   "cell_type": "code",
   "execution_count": null,
   "metadata": {
    "collapsed": true
   },
   "outputs": [],
   "source": []
  },
  {
   "cell_type": "code",
   "execution_count": 26,
   "metadata": {},
   "outputs": [
    {
     "name": "stdout",
     "output_type": "stream",
     "text": [
      "A Tensor Train variable of shape (53, 63, 46, 144), TT-ranks: (1, 53, 63, 63, 1)\n"
     ]
    }
   ],
   "source": [
    "print X"
   ]
  },
  {
   "cell_type": "code",
   "execution_count": 27,
   "metadata": {
    "collapsed": true
   },
   "outputs": [],
   "source": [
    "def train_it_rel_cost(cost_hist, k):\n",
    "    res = np.abs(cost_hist[k] - cost_hist[k-1])/np.abs(cost_hist[k])\n",
    "    return res"
   ]
  },
  {
   "cell_type": "code",
   "execution_count": 28,
   "metadata": {
    "collapsed": true
   },
   "outputs": [],
   "source": [
    "counter = tf.get_variable('counter', initializer=0)"
   ]
  },
  {
   "cell_type": "code",
   "execution_count": 29,
   "metadata": {
    "collapsed": true
   },
   "outputs": [],
   "source": [
    "one = tf.constant(1)\n",
    "zero_point1 = tf.constant(0.1)"
   ]
  },
  {
   "cell_type": "code",
   "execution_count": 30,
   "metadata": {
    "collapsed": true
   },
   "outputs": [],
   "source": [
    "tt_zeros = initializers.tensor_zeros([53, 63, 46, 144])"
   ]
  },
  {
   "cell_type": "code",
   "execution_count": 31,
   "metadata": {
    "collapsed": true
   },
   "outputs": [],
   "source": [
    "#eta_t3f_old = t3f.get_variable('eta_t3f_old', initializer=tt_zeros)\n",
    "#grad_t3f_old = t3f.get_variable('grad_t3f_old', initializer=tt_zeros)"
   ]
  },
  {
   "cell_type": "code",
   "execution_count": 32,
   "metadata": {
    "collapsed": true
   },
   "outputs": [],
   "source": [
    "eta_old = tf.get_variable('eta_old', shape = (53, 63, 46, 144), validate_shape=False)\n",
    "grad_old = tf.get_variable('grad_old', shape = (53, 63, 46, 144), validate_shape=False)"
   ]
  },
  {
   "cell_type": "code",
   "execution_count": 33,
   "metadata": {
    "collapsed": true
   },
   "outputs": [],
   "source": [
    "one = tf.constant(1)\n",
    "zero_point1 = tf.constant(0.1)"
   ]
  },
  {
   "cell_type": "code",
   "execution_count": 69,
   "metadata": {},
   "outputs": [],
   "source": [
    "\n",
    "\n",
    "def gradient(x):\n",
    "    return np.multiply(x,mask_indices) - a_omega\n",
    "    \n",
    "def cost_func(x):\n",
    "    return 0.5*(np.linalg.norm(np.multiply(x,mask_indices)-a_omega)** 2)\n",
    "\n",
    "def find_step_size(x,g,d, old_cost):\n",
    "    step_size = optimize.line_search(cost_func,gradient,x,d,gfk=None, old_fval=old_cost)"
   ]
  },
  {
   "cell_type": "code",
   "execution_count": 35,
   "metadata": {
    "collapsed": true
   },
   "outputs": [],
   "source": [
    "# Algorithm\n",
    "#grad_full = (t3f.full(X)*t3f.full(sparse_observation_tf3) - t3f.full(sparse_observation_tf3))\n",
    "#counter_step = tf.assign(counter, counter + 1)\n",
    "\n",
    "#grad_trans = t3f.riemannian.project(grad_t3f_old, X)\n",
    "#eta_trans = t3f.riemannian.project(eta_t3f_old, X)\n",
    "    \n",
    "#grad_full = sparsity_mask * t3f.full(X) - sparse_observation\n",
    "#grad_t3f = t3f.to_tt_tensor(grad_full, max_tt_rank=63)\n",
    "\n",
    "#loss = 0.5 * t3f.frobenius_norm_squared(grad_t3f)\n",
    "#gradnorm_omega = t3f.frobenius_norm(grad_t3f)/(normAOmegavar)\n",
    "\n",
    "#riemannian_grad = t3f.riemannian.project(grad_t3f, X)\n",
    "\n",
    "\n",
    "#eta_omega = sparsity_mask * t3f.full(-riemannian_grad)\n",
    "#alpha = compute_step_size(eta_omega, grad_full)\n",
    "\n",
    "\n",
    "\n",
    "#riemannian_grad_norm = t3f.flat_inner(riemannian_grad, riemannian_grad)\n",
    "\n",
    "\n",
    "\n",
    "#rel_error1 = relative_error1(t3f.full(X), t3f.full(sparse_observation))\n",
    "\n",
    "\n"
   ]
  },
  {
   "cell_type": "code",
   "execution_count": 36,
   "metadata": {
    "collapsed": true
   },
   "outputs": [],
   "source": [
    "eps = 1e-5\n",
    "epsilon_train=1e-5"
   ]
  },
  {
   "cell_type": "code",
   "execution_count": 37,
   "metadata": {
    "collapsed": true
   },
   "outputs": [],
   "source": [
    "#print grad_full"
   ]
  },
  {
   "cell_type": "code",
   "execution_count": 38,
   "metadata": {
    "collapsed": true
   },
   "outputs": [],
   "source": [
    "#print grad_t3f"
   ]
  },
  {
   "cell_type": "code",
   "execution_count": 39,
   "metadata": {},
   "outputs": [
    {
     "name": "stdout",
     "output_type": "stream",
     "text": [
      "1e-05\n"
     ]
    }
   ],
   "source": [
    "print eps"
   ]
  },
  {
   "cell_type": "code",
   "execution_count": 40,
   "metadata": {
    "collapsed": true
   },
   "outputs": [],
   "source": [
    "#alpha = 0.3\n"
   ]
  },
  {
   "cell_type": "code",
   "execution_count": 41,
   "metadata": {
    "collapsed": true
   },
   "outputs": [],
   "source": [
    "#sess = tf.Session()\n",
    "#sess.run(tf.global_variables_initializer())"
   ]
  },
  {
   "cell_type": "code",
   "execution_count": 42,
   "metadata": {
    "collapsed": true
   },
   "outputs": [],
   "source": [
    "def compute_loss(x):\n",
    "    return 0.5*frobenius_norm_tf_squared(sparsity_mask * t3f.full(x) - sparse_observation)"
   ]
  },
  {
   "cell_type": "code",
   "execution_count": null,
   "metadata": {
    "collapsed": true
   },
   "outputs": [],
   "source": []
  },
  {
   "cell_type": "code",
   "execution_count": null,
   "metadata": {
    "collapsed": true
   },
   "outputs": [],
   "source": [
    "\n"
   ]
  },
  {
   "cell_type": "code",
   "execution_count": null,
   "metadata": {
    "collapsed": true
   },
   "outputs": [],
   "source": []
  },
  {
   "cell_type": "code",
   "execution_count": null,
   "metadata": {
    "collapsed": true
   },
   "outputs": [],
   "source": []
  },
  {
   "cell_type": "code",
   "execution_count": 43,
   "metadata": {
    "collapsed": true
   },
   "outputs": [],
   "source": [
    "#first step"
   ]
  },
  {
   "cell_type": "code",
   "execution_count": 44,
   "metadata": {},
   "outputs": [
    {
     "name": "stdout",
     "output_type": "stream",
     "text": [
      "[1, 53, 1, 1, 1] 0 (1, 53, 53)\n",
      "[1, 53, 63, 1, 1] 1 (53, 63, 63)\n",
      "[1, 53, 63, 63, 1] 2 (63, 46, 63)\n",
      "ranks: [1, 53, 63, 63, 1]\n",
      "Max_TT rank63\n",
      "[1, 53, 63, 63, 1]\n",
      "Max_TT rank63\n",
      "[1, 53, 63, 63, 1]\n"
     ]
    }
   ],
   "source": [
    "zero_point1 = tf.constant(0.1)\n",
    "backtack_const = tf.constant(1e-4)\n",
    "\n",
    "initial_cost = compute_loss(X)\n",
    "cost = tf.get_variable('cost', initializer=0.0)\n",
    "cost_old = tf.get_variable('cost_old', initializer=initial_cost)\n",
    "\n",
    "grad_full_0 = sparsity_mask * t3f.full(X) - sparse_observation\n",
    "grad_t3f_0 = t3f.to_tt_tensor(grad_full_0, max_tt_rank=63)\n",
    "\n",
    "gradnorm_omega_0 = t3f.frobenius_norm(grad_t3f_0)/(normAOmegavar)\n",
    "riemannian_grad_0 = t3f.riemannian.project(grad_t3f_0, X)\n",
    "riemannian_grad_0 = t3f.round(riemannian_grad_0, max_tt_rank =63, epsilon = 1e-15)\n",
    "\n",
    "grad_t3f_old = t3f.get_variable('grad_t3f_old', initializer=riemannian_grad_0)\n",
    "\n",
    "#grad_t3f_old_op = t3f.assign(grad_t3f_old, riemannian_grad_0, validate_shape=False)\n",
    "riemannian_grad_full_0 = t3f.full(riemannian_grad_0)\n",
    "riemannian_grad_init_op = tf.assign(grad_old,riemannian_grad_full_0)\n",
    "\n",
    "eta_t3f_0 = -riemannian_grad_0\n",
    "eta_t3f_old = t3f.get_variable('eta_t3f_old', initializer=eta_t3f_0)\n",
    "\n",
    "eta_0 = -riemannian_grad_init_op\n",
    "eta_omega_0 = sparsity_mask * t3f.full(-riemannian_grad_0)\n",
    "\n",
    "alpha_0 = compute_step_size(eta_omega_0, riemannian_grad_init_op)\n",
    "eta_op_0 = tf.assign(eta_old,eta_0, validate_shape=False)\n",
    "\n",
    "train_step_0 = t3f.assign(X, t3f.round(X - alpha_0 * eta_t3f_0, max_tt_rank=63))\n",
    "\n"
   ]
  },
  {
   "cell_type": "code",
   "execution_count": 45,
   "metadata": {},
   "outputs": [
    {
     "name": "stdout",
     "output_type": "stream",
     "text": [
      "Rim 0:A Tensor Train of shape (53, 63, 46, 144), TT-ranks: (1, 53, 63, 63, 1)\n"
     ]
    }
   ],
   "source": [
    "print \"Rim 0:\" + str(riemannian_grad_0)"
   ]
  },
  {
   "cell_type": "code",
   "execution_count": 46,
   "metadata": {},
   "outputs": [
    {
     "name": "stdout",
     "output_type": "stream",
     "text": [
      "Eta 0: A Tensor Train of shape (53, 63, 46, 144), TT-ranks: (1, 53, 63, 63, 1)\n"
     ]
    }
   ],
   "source": [
    "print \"Eta 0: \" + str(eta_t3f_0)"
   ]
  },
  {
   "cell_type": "code",
   "execution_count": 47,
   "metadata": {
    "collapsed": true
   },
   "outputs": [],
   "source": [
    "#tt = t3f.round(eta_t3f_old, max_tt_rank =63, epsilon = 1e-15"
   ]
  },
  {
   "cell_type": "code",
   "execution_count": null,
   "metadata": {
    "collapsed": true
   },
   "outputs": [],
   "source": []
  },
  {
   "cell_type": "code",
   "execution_count": null,
   "metadata": {
    "collapsed": true
   },
   "outputs": [],
   "source": []
  },
  {
   "cell_type": "code",
   "execution_count": 48,
   "metadata": {
    "collapsed": true
   },
   "outputs": [],
   "source": [
    "# new\n",
    "#t3f.assign(eta_t3f_old, t3f.round(eta_t3f_old, max_tt_rank =63, epsilon = 1e-15))\n"
   ]
  },
  {
   "cell_type": "code",
   "execution_count": 49,
   "metadata": {},
   "outputs": [
    {
     "name": "stdout",
     "output_type": "stream",
     "text": [
      "[1, 53, 1, 1, 1] 0 (1, 53, 53)\n",
      "[1, 53, 63, 1, 1] 1 (53, 63, 63)\n",
      "[1, 53, 63, 63, 1] 2 (63, 46, 63)\n",
      "ranks: [1, 53, 63, 63, 1]\n",
      "Max_TT rank63\n",
      "[1, 53, 63, 63, 1]\n",
      "Rim Grad shape: A Tensor Train of shape (53, 63, 46, 144), TT-ranks: (1, 53, 63, 63, 1)\n",
      "eta_trans: A Tensor Train of shape (53, 63, 46, 144), TT-ranks: (1, 106, 126, 126, 1)\n",
      "Max_TT rank63\n",
      "[1, 53, 63, 63, 1]\n",
      "eta: A Tensor Train of shape (53, 63, 46, 144), TT-ranks: (1, 53, 63, 63, 1)\n"
     ]
    }
   ],
   "source": [
    "counter_step = tf.assign(counter, counter + 1)\n",
    "\n",
    "grad_trans = t3f.riemannian.project(grad_t3f_old, X)\n",
    "eta_trans = t3f.riemannian.project(eta_t3f_old, X)\n",
    "    \n",
    "grad_full = sparsity_mask * t3f.full(X) - sparse_observation\n",
    "grad_t3f = t3f.to_tt_tensor(grad_full, max_tt_rank=63)\n",
    "\n",
    "loss = 0.5 * t3f.frobenius_norm_squared(grad_t3f)\n",
    "gradnorm_omega = t3f.frobenius_norm(grad_t3f)/(normAOmegavar)\n",
    "\n",
    "riemannian_grad =  t3f.round(t3f.riemannian.project(grad_t3f, X),max_tt_rank =63)\n",
    "#riemannian_grad = t3f.round(riemannian_grad, max_tt_rank =63, epsilon = 1e-15)\n",
    "\n",
    "inner_product_rim_grad = t3f.flat_inner(riemannian_grad, riemannian_grad)\n",
    "ip_xitrans_xi = t3f.flat_inner(grad_trans,riemannian_grad)\n",
    "theta = ip_xitrans_xi / inner_product_rim_grad\n",
    "\n",
    "def get_theta():\n",
    "    return t3f.full(ip_xitrans_xi / inner_product_rim_grad)\n",
    "\n",
    "def get_value_zero_point1():\n",
    "    return zero_point1\n",
    "    \n",
    "def get_conj_dir():\n",
    "    print \"conjugate gradient\"\n",
    "    return t3f.full(approximate.add_n([-riemannian_grad, beta*eta_trans], max_tt_rank=63))\n",
    "\n",
    "def get_rim_grad():\n",
    "    print \"steepest descent\"\n",
    "    return t3f.full(-riemannian_grad)\n",
    "\n",
    "# compute beta\n",
    "inner_product_rim_grad_old = t3f.flat_inner(grad_t3f_old, grad_t3f_old)\n",
    "beta = tf.maximum(0.0, (inner_product_rim_grad - ip_xitrans_xi)/inner_product_rim_grad_old)\n",
    "#eta = -riemannian_grad + beta*eta_trans\n",
    "\n",
    "print \"Rim Grad shape: \" + str(riemannian_grad)\n",
    "print \"eta_trans: \" + str(eta_trans)\n",
    "\n",
    "#eta1 = tf.cond((theta >= zero_point1), get_rim_grad, get_conj_dir)\n",
    "\n",
    "#eta = tf.case([(tf.greater_equal(theta_full,zero_point1), get_rim_grad)], default=get_conj_dir, exclusive=True)\n",
    "eta = approximate.add_n([-riemannian_grad, beta*eta_trans], max_tt_rank=63)\n",
    "\n",
    "inprod_grad_eta = t3f.flat_inner(riemannian_grad,eta)\n",
    "#\n",
    "#eta_full = t3f.full(eta)\n",
    "\n",
    "print \"eta: \" + str(eta)\n",
    "#print \"eta1: \" + str(eta1)\n",
    "                                            \n",
    "#(1, 106, 126, 126, 1)\n",
    "\n",
    "eta_omega = sparsity_mask * t3f.full(eta)\n",
    "alpha = compute_step_size(eta_omega, grad_full)"
   ]
  },
  {
   "cell_type": "code",
   "execution_count": null,
   "metadata": {
    "collapsed": true
   },
   "outputs": [],
   "source": []
  },
  {
   "cell_type": "code",
   "execution_count": 50,
   "metadata": {
    "collapsed": true
   },
   "outputs": [],
   "source": [
    "#eta1 = tf.cond((theta > zero_point1), get_rim_grad, get_conj_dir)"
   ]
  },
  {
   "cell_type": "code",
   "execution_count": 51,
   "metadata": {},
   "outputs": [
    {
     "name": "stdout",
     "output_type": "stream",
     "text": [
      "A Tensor Train of shape (53, 63, 46, 144), TT-ranks: (1, 53, 63, 63, 1)\n"
     ]
    }
   ],
   "source": [
    "print eta"
   ]
  },
  {
   "cell_type": "code",
   "execution_count": null,
   "metadata": {
    "collapsed": true
   },
   "outputs": [],
   "source": []
  },
  {
   "cell_type": "code",
   "execution_count": null,
   "metadata": {
    "collapsed": true
   },
   "outputs": [],
   "source": []
  },
  {
   "cell_type": "code",
   "execution_count": null,
   "metadata": {
    "collapsed": true
   },
   "outputs": [],
   "source": []
  },
  {
   "cell_type": "code",
   "execution_count": null,
   "metadata": {
    "collapsed": true
   },
   "outputs": [],
   "source": []
  },
  {
   "cell_type": "code",
   "execution_count": null,
   "metadata": {
    "collapsed": true
   },
   "outputs": [],
   "source": [
    "    "
   ]
  },
  {
   "cell_type": "code",
   "execution_count": null,
   "metadata": {
    "collapsed": true
   },
   "outputs": [],
   "source": []
  },
  {
   "cell_type": "code",
   "execution_count": null,
   "metadata": {
    "collapsed": true
   },
   "outputs": [],
   "source": [
    " "
   ]
  },
  {
   "cell_type": "code",
   "execution_count": null,
   "metadata": {
    "collapsed": true
   },
   "outputs": [],
   "source": []
  },
  {
   "cell_type": "code",
   "execution_count": null,
   "metadata": {
    "collapsed": true
   },
   "outputs": [],
   "source": []
  },
  {
   "cell_type": "code",
   "execution_count": null,
   "metadata": {
    "collapsed": true
   },
   "outputs": [],
   "source": []
  },
  {
   "cell_type": "code",
   "execution_count": null,
   "metadata": {
    "collapsed": true
   },
   "outputs": [],
   "source": []
  },
  {
   "cell_type": "code",
   "execution_count": null,
   "metadata": {
    "collapsed": true
   },
   "outputs": [],
   "source": []
  },
  {
   "cell_type": "code",
   "execution_count": null,
   "metadata": {
    "collapsed": true
   },
   "outputs": [],
   "source": []
  },
  {
   "cell_type": "code",
   "execution_count": null,
   "metadata": {
    "collapsed": true
   },
   "outputs": [],
   "source": []
  },
  {
   "cell_type": "code",
   "execution_count": null,
   "metadata": {
    "collapsed": true
   },
   "outputs": [],
   "source": []
  },
  {
   "cell_type": "code",
   "execution_count": null,
   "metadata": {
    "collapsed": true
   },
   "outputs": [],
   "source": []
  },
  {
   "cell_type": "code",
   "execution_count": 52,
   "metadata": {
    "collapsed": true
   },
   "outputs": [],
   "source": [
    "cost_old_update = compute_loss(X)\n",
    "cost_old_op = tf.assign(cost_old,cost_old_update)"
   ]
  },
  {
   "cell_type": "code",
   "execution_count": null,
   "metadata": {
    "collapsed": true
   },
   "outputs": [],
   "source": []
  },
  {
   "cell_type": "code",
   "execution_count": null,
   "metadata": {
    "collapsed": true
   },
   "outputs": [],
   "source": []
  },
  {
   "cell_type": "code",
   "execution_count": 53,
   "metadata": {},
   "outputs": [
    {
     "name": "stdout",
     "output_type": "stream",
     "text": [
      "Max_TT rank63\n",
      "[1, 53, 63, 63, 1]\n"
     ]
    }
   ],
   "source": [
    "train_step = t3f.assign(X, t3f.round(X + alpha * eta, max_tt_rank=63))"
   ]
  },
  {
   "cell_type": "code",
   "execution_count": 54,
   "metadata": {
    "collapsed": true
   },
   "outputs": [],
   "source": [
    "updated_cost = compute_loss(train_step)\n",
    "cost_op = tf.assign(cost,updated_cost)"
   ]
  },
  {
   "cell_type": "code",
   "execution_count": 55,
   "metadata": {
    "collapsed": true
   },
   "outputs": [],
   "source": [
    "eta_update_op = t3f.assign(eta_t3f_old, eta,use_locking = True)"
   ]
  },
  {
   "cell_type": "code",
   "execution_count": 56,
   "metadata": {
    "collapsed": true
   },
   "outputs": [],
   "source": [
    "grad_update_op = t3f.assign(grad_t3f_old, riemannian_grad)"
   ]
  },
  {
   "cell_type": "code",
   "execution_count": 57,
   "metadata": {},
   "outputs": [
    {
     "name": "stdout",
     "output_type": "stream",
     "text": [
      "Tensor(\"div_1:0\", shape=(), dtype=float32)\n"
     ]
    }
   ],
   "source": [
    "print alpha_0"
   ]
  },
  {
   "cell_type": "code",
   "execution_count": 58,
   "metadata": {},
   "outputs": [
    {
     "name": "stdout",
     "output_type": "stream",
     "text": [
      "Tensor(\"div_3:0\", shape=(), dtype=float32)\n"
     ]
    }
   ],
   "source": [
    "print theta"
   ]
  },
  {
   "cell_type": "code",
   "execution_count": 59,
   "metadata": {},
   "outputs": [
    {
     "name": "stdout",
     "output_type": "stream",
     "text": [
      "Tensor(\"Const_7:0\", shape=(), dtype=float32)\n"
     ]
    }
   ],
   "source": [
    "print zero_point1"
   ]
  },
  {
   "cell_type": "code",
   "execution_count": null,
   "metadata": {
    "collapsed": true
   },
   "outputs": [],
   "source": []
  },
  {
   "cell_type": "code",
   "execution_count": null,
   "metadata": {
    "collapsed": true
   },
   "outputs": [],
   "source": []
  },
  {
   "cell_type": "code",
   "execution_count": null,
   "metadata": {
    "collapsed": true
   },
   "outputs": [],
   "source": []
  },
  {
   "cell_type": "code",
   "execution_count": null,
   "metadata": {
    "collapsed": true
   },
   "outputs": [],
   "source": []
  },
  {
   "cell_type": "code",
   "execution_count": null,
   "metadata": {
    "collapsed": true
   },
   "outputs": [],
   "source": []
  },
  {
   "cell_type": "code",
   "execution_count": null,
   "metadata": {
    "collapsed": true
   },
   "outputs": [],
   "source": []
  },
  {
   "cell_type": "code",
   "execution_count": null,
   "metadata": {
    "collapsed": true
   },
   "outputs": [],
   "source": []
  },
  {
   "cell_type": "code",
   "execution_count": null,
   "metadata": {
    "collapsed": true
   },
   "outputs": [],
   "source": []
  },
  {
   "cell_type": "code",
   "execution_count": null,
   "metadata": {
    "collapsed": true
   },
   "outputs": [],
   "source": []
  },
  {
   "cell_type": "code",
   "execution_count": null,
   "metadata": {
    "collapsed": true
   },
   "outputs": [],
   "source": []
  },
  {
   "cell_type": "code",
   "execution_count": null,
   "metadata": {
    "collapsed": true
   },
   "outputs": [],
   "source": []
  },
  {
   "cell_type": "code",
   "execution_count": null,
   "metadata": {
    "collapsed": true
   },
   "outputs": [],
   "source": []
  },
  {
   "cell_type": "code",
   "execution_count": null,
   "metadata": {
    "collapsed": true
   },
   "outputs": [],
   "source": []
  },
  {
   "cell_type": "code",
   "execution_count": null,
   "metadata": {
    "collapsed": true
   },
   "outputs": [],
   "source": []
  },
  {
   "cell_type": "code",
   "execution_count": null,
   "metadata": {
    "collapsed": true
   },
   "outputs": [],
   "source": []
  },
  {
   "cell_type": "code",
   "execution_count": null,
   "metadata": {
    "collapsed": true
   },
   "outputs": [],
   "source": []
  },
  {
   "cell_type": "code",
   "execution_count": null,
   "metadata": {
    "collapsed": true
   },
   "outputs": [],
   "source": []
  },
  {
   "cell_type": "code",
   "execution_count": null,
   "metadata": {
    "collapsed": true
   },
   "outputs": [],
   "source": []
  },
  {
   "cell_type": "code",
   "execution_count": null,
   "metadata": {
    "collapsed": true
   },
   "outputs": [],
   "source": []
  },
  {
   "cell_type": "code",
   "execution_count": 60,
   "metadata": {
    "collapsed": true
   },
   "outputs": [],
   "source": [
    "#t3f.round(-riemannian_grad + beta*eta_trans, max_tt_rank=[eta_trans])"
   ]
  },
  {
   "cell_type": "code",
   "execution_count": null,
   "metadata": {
    "collapsed": true
   },
   "outputs": [],
   "source": []
  },
  {
   "cell_type": "code",
   "execution_count": null,
   "metadata": {
    "collapsed": true
   },
   "outputs": [],
   "source": []
  },
  {
   "cell_type": "code",
   "execution_count": null,
   "metadata": {
    "collapsed": true
   },
   "outputs": [],
   "source": []
  },
  {
   "cell_type": "code",
   "execution_count": null,
   "metadata": {
    "collapsed": true
   },
   "outputs": [],
   "source": []
  },
  {
   "cell_type": "code",
   "execution_count": null,
   "metadata": {
    "collapsed": true
   },
   "outputs": [],
   "source": []
  },
  {
   "cell_type": "code",
   "execution_count": 61,
   "metadata": {
    "collapsed": true
   },
   "outputs": [],
   "source": [
    "#eta_update_op = t3f.assign(eta_t3f_old, eta,validate_shape=False, use_locking = True)"
   ]
  },
  {
   "cell_type": "code",
   "execution_count": 62,
   "metadata": {
    "collapsed": true
   },
   "outputs": [],
   "source": [
    "#grad_update_op = t3f.assign(grad_t3f_old, riemannian_grad)"
   ]
  },
  {
   "cell_type": "code",
   "execution_count": null,
   "metadata": {
    "collapsed": true
   },
   "outputs": [],
   "source": []
  },
  {
   "cell_type": "code",
   "execution_count": null,
   "metadata": {
    "collapsed": true
   },
   "outputs": [],
   "source": []
  },
  {
   "cell_type": "code",
   "execution_count": null,
   "metadata": {
    "collapsed": true
   },
   "outputs": [],
   "source": []
  },
  {
   "cell_type": "code",
   "execution_count": null,
   "metadata": {
    "collapsed": true
   },
   "outputs": [],
   "source": []
  },
  {
   "cell_type": "code",
   "execution_count": 63,
   "metadata": {
    "collapsed": true
   },
   "outputs": [],
   "source": [
    "sess = tf.Session()\n",
    "sess.run(tf.global_variables_initializer())"
   ]
  },
  {
   "cell_type": "code",
   "execution_count": 64,
   "metadata": {},
   "outputs": [
    {
     "name": "stdout",
     "output_type": "stream",
     "text": [
      "0.24615465 1.0 167078700000000.0 0.0\n"
     ]
    }
   ],
   "source": [
    "log = []\n",
    "train_loss_hist = []\n",
    "#for i in range(1000):\n",
    "gradnorm_val, alpha_val, eta_op_0_val,cost_old_val, cost_val, _ = sess.run([gradnorm_omega_0, alpha_0, eta_op_0, cost_old, cost, train_step_0.op])\n",
    "print gradnorm_val, alpha_val,cost_old_val, cost_val"
   ]
  },
  {
   "cell_type": "code",
   "execution_count": 65,
   "metadata": {},
   "outputs": [
    {
     "name": "stdout",
     "output_type": "stream",
     "text": [
      "A Tensor Train of shape (53, 63, 46, 144), TT-ranks: (1, 106, 126, 126, 1)\n"
     ]
    }
   ],
   "source": [
    "print grad_trans"
   ]
  },
  {
   "cell_type": "code",
   "execution_count": 74,
   "metadata": {
    "collapsed": true
   },
   "outputs": [],
   "source": []
  },
  {
   "cell_type": "code",
   "execution_count": null,
   "metadata": {
    "collapsed": true
   },
   "outputs": [],
   "source": []
  },
  {
   "cell_type": "code",
   "execution_count": null,
   "metadata": {},
   "outputs": [],
   "source": []
  },
  {
   "cell_type": "code",
   "execution_count": 78,
   "metadata": {
    "collapsed": true
   },
   "outputs": [],
   "source": [
    "#x_k, grad_k, eta_k = sess.run([t3f.full(X),t3f.full(grad_t3f_old), t3f.full(eta_t3f_old)])"
   ]
  },
  {
   "cell_type": "code",
   "execution_count": 79,
   "metadata": {},
   "outputs": [],
   "source": [
    "#scipy_step_size = find_step_size(x_k,grad_k,eta_k, cost_old_val)"
   ]
  },
  {
   "cell_type": "code",
   "execution_count": 80,
   "metadata": {
    "collapsed": true
   },
   "outputs": [],
   "source": [
    "#print \"scipy_step_size: \" + str(scipy_step_size)"
   ]
  },
  {
   "cell_type": "code",
   "execution_count": null,
   "metadata": {
    "collapsed": true
   },
   "outputs": [],
   "source": []
  },
  {
   "cell_type": "code",
   "execution_count": 81,
   "metadata": {
    "collapsed": true
   },
   "outputs": [],
   "source": [
    "#sess.run([loss])"
   ]
  },
  {
   "cell_type": "code",
   "execution_count": 82,
   "metadata": {
    "collapsed": true
   },
   "outputs": [],
   "source": [
    "#sess.run([theta])"
   ]
  },
  {
   "cell_type": "code",
   "execution_count": 83,
   "metadata": {
    "collapsed": true
   },
   "outputs": [],
   "source": [
    "#print theta"
   ]
  },
  {
   "cell_type": "code",
   "execution_count": 84,
   "metadata": {
    "collapsed": true
   },
   "outputs": [],
   "source": [
    "#sess.run([eta_trans])"
   ]
  },
  {
   "cell_type": "code",
   "execution_count": 85,
   "metadata": {
    "collapsed": true
   },
   "outputs": [],
   "source": [
    "#sess.run([eta])"
   ]
  },
  {
   "cell_type": "code",
   "execution_count": 86,
   "metadata": {
    "collapsed": true
   },
   "outputs": [],
   "source": [
    "#sess.run([train_step.op])"
   ]
  },
  {
   "cell_type": "code",
   "execution_count": null,
   "metadata": {
    "collapsed": true
   },
   "outputs": [],
   "source": []
  },
  {
   "cell_type": "code",
   "execution_count": null,
   "metadata": {
    "collapsed": true
   },
   "outputs": [],
   "source": []
  },
  {
   "cell_type": "code",
   "execution_count": 87,
   "metadata": {
    "collapsed": true
   },
   "outputs": [],
   "source": [
    "#def backtrack(t, sess):\n",
    "#    t = t * 0.5\n",
    "#    return t3f.assign(X, t3f.round(X - t * eta, max_tt_rank=63))"
   ]
  },
  {
   "cell_type": "code",
   "execution_count": null,
   "metadata": {
    "collapsed": true
   },
   "outputs": [],
   "source": [
    "\n",
    "    "
   ]
  },
  {
   "cell_type": "code",
   "execution_count": null,
   "metadata": {
    "collapsed": true
   },
   "outputs": [],
   "source": []
  },
  {
   "cell_type": "code",
   "execution_count": 88,
   "metadata": {
    "collapsed": true
   },
   "outputs": [],
   "source": [
    "def loss_func(x, y):\n",
    "    return 0.5*(np.linalg.norm(x - y)** 2)\n",
    "    "
   ]
  },
  {
   "cell_type": "code",
   "execution_count": 89,
   "metadata": {
    "collapsed": true
   },
   "outputs": [],
   "source": [
    "def is_nan(x):\n",
    "    return (x is np.nan or x != x)"
   ]
  },
  {
   "cell_type": "code",
   "execution_count": 90,
   "metadata": {
    "collapsed": true
   },
   "outputs": [],
   "source": [
    "backtrack_const = 1e-4 "
   ]
  },
  {
   "cell_type": "code",
   "execution_count": 91,
   "metadata": {
    "collapsed": true
   },
   "outputs": [],
   "source": [
    "#sess.run([loss, gradnorm_omega, alpha, theta, eta_update_op, grad_update_op, train_step.op])"
   ]
  },
  {
   "cell_type": "code",
   "execution_count": 92,
   "metadata": {},
   "outputs": [
    {
     "name": "stdout",
     "output_type": "stream",
     "text": [
      "alpha_val: 1.7783686\n",
      "inprod_grad_eta_val: -358812000000000.0\n",
      "Cost New: 4757054000000.0\n",
      "Cost Old: 323811680000000.0\n",
      "armijo: True\n",
      "(133266030000000.0, 1, 0.34445974, 1.7783686, 0.7138214, 0.5609109, 323811680000000.0, 4757054000000.0)\n",
      "alpha_val: 2.401021\n",
      "inprod_grad_eta_val: -2974984700000.0\n",
      "Cost New: 1149979300000.0\n",
      "Cost Old: 4757054000000.0\n",
      "armijo: True\n",
      "(1619424300000.0, 2, 0.037971612, 8.0715065, 2.401021, 0.05302271, 0.010989868, 4757054000000.0, 1149979300000.0)\n",
      "alpha_val: 2.2867138\n",
      "inprod_grad_eta_val: -724506300000.0\n",
      "Cost New: 283395030000.0\n",
      "Cost Old: 1149979300000.0\n",
      "armijo: True\n",
      "(417377750000.0, 3, 0.019277174, 0.96977067, 2.2867138, 0.047138482, 0.23071691, 1149979300000.0, 283395030000.0)\n",
      "alpha_val: 2.3103588\n",
      "inprod_grad_eta_val: -145377690000.0\n",
      "Cost New: 109260430000.0\n",
      "Cost Old: 283395030000.0\n",
      "armijo: True\n",
      "(93988140000.0, 4, 0.009147771, 1.1073084, 2.3103588, 0.3939796, 0.122132406, 283395030000.0, 109260430000.0)\n",
      "alpha_val: 2.2582881\n",
      "inprod_grad_eta_val: -34182765000.0\n",
      "Cost New: 67247980000.0\n",
      "Cost Old: 109260430000.0\n",
      "armijo: True\n",
      "(32569076000.0, 5, 0.005384947, 0.698767, 2.2582881, 0.10127587, 0.21532296, 109260430000.0, 67247980000.0)\n",
      "alpha_val: 2.076762\n",
      "inprod_grad_eta_val: -16444195000.0\n",
      "Cost New: 47925860000.0\n",
      "Cost Old: 67247980000.0\n",
      "armijo: True\n",
      "(18855995000.0, 6, 0.0040973537, 0.31425002, 2.076762, 0.19544736, 0.38757825, 67247980000.0, 47925860000.0)\n",
      "alpha_val: 2.1138186\n",
      "inprod_grad_eta_val: -8990379000.0\n",
      "Cost New: 37402104000.0\n",
      "Cost Old: 47925860000.0\n",
      "armijo: True\n",
      "(11777142000.0, 7, 0.0032381627, 0.26533285, 2.1138186, 0.33411998, 0.35192075, 47925860000.0, 37402104000.0)\n",
      "alpha_val: 1.9142829\n",
      "inprod_grad_eta_val: -5247795000.0\n",
      "Cost New: 31562842000.0\n",
      "Cost Old: 37402104000.0\n",
      "armijo: True\n",
      "(8388524500.0, 8, 0.002732886, 0.1848876, 1.9142829, 0.15661521, 0.53569704, 37402104000.0, 31562842000.0)\n",
      "alpha_val: 1.9798803\n",
      "inprod_grad_eta_val: -3901523200.0\n",
      "Cost New: 27095230000.0\n",
      "Cost Old: 31562842000.0\n",
      "armijo: True\n",
      "(6638479000.0, 9, 0.002431157, 0.1241092, 1.9798803, 0.27786407, 0.5302234, 31562842000.0, 27095230000.0)\n",
      "alpha_val: 1.9134586\n",
      "inprod_grad_eta_val: -2828138800.0\n",
      "Cost New: 23953760000.0\n",
      "Cost Old: 27095230000.0\n",
      "armijo: True\n",
      "(5311626000.0, 10, 0.0021746657, 0.117945194, 1.9134586, 0.20704898, 0.5906221, 27095230000.0, 23953760000.0)\n",
      "alpha_val: 1.8953286\n",
      "inprod_grad_eta_val: -2092357900.0\n",
      "Cost New: 21656355000.0\n",
      "Cost Old: 23953760000.0\n",
      "armijo: True\n",
      "(4428875000.0, 11, 0.001985754, 0.09513354, 1.8953286, 0.19869001, 0.61376643, 23953760000.0, 21656355000.0)\n",
      "alpha_val: 1.8274317\n",
      "inprod_grad_eta_val: -1674201300.0\n",
      "Cost New: 19900094000.0\n",
      "Cost Old: 21656355000.0\n",
      "armijo: True\n",
      "(3840721700.0, 12, 0.0018492053, 0.073841736, 1.8274317, 0.1880158, 0.6650616, 21656355000.0, 19900094000.0)\n",
      "alpha_val: 1.7748203\n",
      "inprod_grad_eta_val: -1401428100.0\n",
      "Cost New: 18489661000.0\n",
      "Cost Old: 19900094000.0\n",
      "armijo: True\n",
      "(3407056400.0, 13, 0.0017416801, 0.06173652, 1.7748203, 0.18871674, 0.6798884, 19900094000.0, 18489661000.0)\n",
      "alpha_val: 1.7333908\n",
      "inprod_grad_eta_val: -1163584900.0\n",
      "Cost New: 17365380000.0\n",
      "Cost Old: 18489661000.0\n",
      "armijo: True\n",
      "(3047403800.0, 14, 0.0016471902, 0.05736429, 1.7333908, 0.18058471, 0.6890841, 18489661000.0, 17365380000.0)\n",
      "alpha_val: 1.6801213\n",
      "inprod_grad_eta_val: -936185150.0\n",
      "Cost New: 16495307000.0\n",
      "Cost Old: 17365380000.0\n",
      "armijo: True\n",
      "(2797365200.0, 15, 0.0015781682, 0.04373548, 1.6801213, 0.15027243, 0.7192078, 17365380000.0, 16495307000.0)\n",
      "alpha_val: 1.693254\n",
      "inprod_grad_eta_val: -761364300.0\n",
      "Cost New: 15783068000.0\n",
      "Cost Old: 16495307000.0\n",
      "armijo: True\n",
      "(2618569500.0, 16, 0.0015269007, 0.033576224, 1.693254, 0.14188868, 0.72209764, 16495307000.0, 15783068000.0)\n",
      "alpha_val: 1.6160823\n",
      "inprod_grad_eta_val: -682925250.0\n",
      "Cost New: 15190238000.0\n",
      "Cost Old: 15783068000.0\n",
      "armijo: True\n",
      "(2487915000.0, 17, 0.0014883206, 0.025921859, 1.6160823, 0.14546314, 0.75179416, 15783068000.0, 15190238000.0)\n",
      "alpha_val: 1.5374895\n",
      "inprod_grad_eta_val: -621138940.0\n",
      "Cost New: 14702657000.0\n",
      "Cost Old: 15190238000.0\n",
      "armijo: True\n",
      "(2354329000.0, 18, 0.0014478125, 0.027978836, 1.5374895, 0.15475665, 0.74907136, 15190238000.0, 14702657000.0)\n",
      "alpha_val: 1.4253056\n",
      "inprod_grad_eta_val: -552580700.0\n",
      "Cost New: 14297629000.0\n",
      "Cost Old: 14702657000.0\n",
      "armijo: True\n",
      "(2248058000.0, 19, 0.0014147591, 0.023363309, 1.4253056, 0.12704712, 0.8029752, 14702657000.0, 14297629000.0)\n",
      "alpha_val: 1.5083652\n",
      "inprod_grad_eta_val: -487665470.0\n",
      "Cost New: 13931122000.0\n",
      "Cost Old: 14297629000.0\n",
      "armijo: True\n",
      "(2169424400.0, 20, 0.0013897958, 0.017961837, 1.5083652, 0.18193099, 0.7271621, 14297629000.0, 13931122000.0)\n",
      "alpha_val: 1.4400954\n",
      "inprod_grad_eta_val: -400705020.0\n",
      "Cost New: 13646420000.0\n",
      "Cost Old: 13931122000.0\n",
      "armijo: True\n",
      "(2114107300.0, 21, 0.0013719625, 0.012998397, 1.4400954, 0.11243986, 0.7807002, 13931122000.0, 13646420000.0)\n",
      "alpha_val: 1.3974444\n",
      "inprod_grad_eta_val: -358438850.0\n",
      "Cost New: 13421535000.0\n",
      "Cost Old: 13646420000.0\n",
      "armijo: True\n",
      "(2072492500.0, 22, 0.0013583923, 0.009989887, 1.3974444, 0.1436639, 0.75262505, 13646420000.0, 13421535000.0)\n",
      "alpha_val: 1.2693634\n",
      "inprod_grad_eta_val: -298650180.0\n",
      "Cost New: 13259438000.0\n",
      "Cost Old: 13421535000.0\n",
      "armijo: True\n",
      "(2046097900.0, 23, 0.0013497146, 0.006429296, 1.2693634, 0.07486701, 0.80210215, 13421535000.0, 13259438000.0)\n",
      "alpha_val: 1.2412796\n",
      "inprod_grad_eta_val: -268290240.0\n",
      "Cost New: 13132233000.0\n",
      "Cost Old: 13259438000.0\n",
      "armijo: True\n",
      "(2027952500.0, 24, 0.0013437164, 0.0044638757, 1.2412796, 0.1282557, 0.7579023, 13259438000.0, 13132233000.0)\n",
      "alpha_val: 1.1270853\n",
      "inprod_grad_eta_val: -232468900.0\n",
      "Cost New: 13032308000.0\n",
      "Cost Old: 13132233000.0\n",
      "armijo: True\n",
      "(2007433000.0, 25, 0.001336901, 0.0050979233, 1.1270853, 0.06841578, 0.85590714, 13132233000.0, 13032308000.0)\n",
      "alpha_val: 1.1433653\n",
      "inprod_grad_eta_val: -220241440.0\n",
      "Cost New: 12942479000.0\n",
      "Cost Old: 13032308000.0\n",
      "armijo: True\n",
      "(1996137900.0, 26, 0.0013331346, 0.0028252099, 1.1433653, 0.15035883, 0.7816996, 13032308000.0, 12942479000.0)\n",
      "alpha_val: 1.035221\n",
      "inprod_grad_eta_val: -195714720.0\n",
      "Cost New: 12872272000.0\n",
      "Cost Old: 12942479000.0\n",
      "armijo: True\n",
      "(1991428200.0, 27, 0.001331561, 0.0011817602, 1.035221, 0.087069765, 0.85587233, 12942479000.0, 12872272000.0)\n",
      "alpha_val: 0.9997957\n",
      "inprod_grad_eta_val: -194216600.0\n",
      "Cost New: 12808884000.0\n",
      "Cost Old: 12872272000.0\n",
      "armijo: True\n",
      "(1982883500.0, 28, 0.0013287012, 0.0021523717, 0.9997957, 0.13229388, 0.84490645, 12872272000.0, 12808884000.0)\n",
      "alpha_val: 1.0343711\n",
      "inprod_grad_eta_val: -183319940.0\n",
      "Cost New: 12747232000.0\n",
      "Cost Old: 12808884000.0\n",
      "armijo: True\n",
      "(1978931100.0, 29, 0.0013273763, 0.0009980638, 1.0343711, 0.13415024, 0.8043254, 12808884000.0, 12747232000.0)\n",
      "alpha_val: 0.9879103\n",
      "inprod_grad_eta_val: -160556340.0\n",
      "Cost New: 12693317000.0\n",
      "Cost Old: 12747232000.0\n",
      "armijo: True\n",
      "(1975007500.0, 30, 0.0013260598, 0.0009928216, 0.9879103, 0.07887458, 0.8876302, 12747232000.0, 12693317000.0)\n",
      "alpha_val: 1.0012492\n",
      "inprod_grad_eta_val: -168541380.0\n",
      "Cost New: 12640724000.0\n",
      "Cost Old: 12693317000.0\n",
      "armijo: True\n",
      "(1970790500.0, 31, 0.0013246434, 0.001069288, 1.0012492, 0.15653402, 0.8278454, 12693317000.0, 12640724000.0)\n",
      "alpha_val: 0.9937621\n",
      "inprod_grad_eta_val: -148398320.0\n",
      "Cost New: 12597880000.0\n",
      "Cost Old: 12640724000.0\n",
      "armijo: True\n",
      "(1966923300.0, 32, 0.001323343, 0.0009826319, 0.9937621, 0.108081, 0.7798886, 12640724000.0, 12597880000.0)\n",
      "alpha_val: 0.9480462\n",
      "inprod_grad_eta_val: -137511950.0\n",
      "Cost New: 12556754000.0\n",
      "Cost Old: 12597880000.0\n",
      "armijo: True\n",
      "(1961113100.0, 33, 0.0013213871, 0.0014801823, 0.9480462, 0.075026914, 0.9204522, 12597880000.0, 12556754000.0)\n",
      "alpha_val: 0.93555224\n",
      "inprod_grad_eta_val: -145745460.0\n",
      "Cost New: 12516334000.0\n",
      "Cost Old: 12556754000.0\n",
      "armijo: True\n",
      "(1960917400.0, 34, 0.0013213211, 4.9955674e-05, 0.93555224, 0.13992843, 0.8720682, 12556754000.0, 12516334000.0)\n",
      "alpha_val: 0.92671967\n",
      "inprod_grad_eta_val: -130058024.0\n",
      "Cost New: 12480437000.0\n",
      "Cost Old: 12516334000.0\n",
      "armijo: True\n",
      "(1953002000.0, 35, 0.0013186516, 0.0020244315, 0.92671967, 0.079627246, 0.8553655, 12516334000.0, 12480437000.0)\n",
      "alpha_val: 0.8811883\n",
      "inprod_grad_eta_val: -134563890.0\n",
      "Cost New: 12446853000.0\n",
      "Cost Old: 12480437000.0\n",
      "armijo: True\n",
      "(1958391400.0, 36, 0.0013204699, 0.0013770029, 0.8811883, 0.124082275, 0.8998337, 12480437000.0, 12446853000.0)\n",
      "alpha_val: 0.92040646\n",
      "inprod_grad_eta_val: -132198010.0\n",
      "Cost New: 12412827000.0\n",
      "Cost Old: 12446853000.0\n",
      "armijo: True\n",
      "(1957743000.0, 37, 0.0013202511, 0.00016568393, 0.92040646, 0.12197562, 0.841414, 12446853000.0, 12412827000.0)\n"
     ]
    },
    {
     "name": "stdout",
     "output_type": "stream",
     "text": [
      "alpha_val: 0.8590202\n",
      "inprod_grad_eta_val: -129196640.0\n",
      "Cost New: 12381649000.0\n",
      "Cost Old: 12412827000.0\n",
      "armijo: True\n",
      "(1958612000.0, 38, 0.0013205442, 0.00022189137, 0.8590202, 0.10163133, 0.8971876, 12412827000.0, 12381649000.0)\n",
      "alpha_val: 0.8916153\n",
      "inprod_grad_eta_val: -126566024.0\n",
      "Cost New: 12351855000.0\n",
      "Cost Old: 12381649000.0\n",
      "armijo: True\n",
      "(1957164200.0, 39, 0.001320056, 0.00036977933, 0.8916153, 0.14085877, 0.81259465, 12381649000.0, 12351855000.0)\n",
      "alpha_val: 0.86242324\n",
      "inprod_grad_eta_val: -124102570.0\n",
      "Cost New: 12323881000.0\n",
      "Cost Old: 12351855000.0\n",
      "armijo: True\n",
      "(1954229100.0, 40, 0.0013190658, 0.00075070455, 0.86242324, 0.11778183, 0.86098397, 12351855000.0, 12323881000.0)\n",
      "alpha_val: 0.8025055\n",
      "inprod_grad_eta_val: -118134360.0\n",
      "Cost New: 12298322000.0\n",
      "Cost Old: 12323881000.0\n",
      "armijo: True\n",
      "(1953857500.0, 41, 0.0013189404, 9.5060626e-05, 0.8025055, 0.092456825, 0.92117745, 12323881000.0, 12298322000.0)\n",
      "alpha_val: 0.9042085\n",
      "inprod_grad_eta_val: -126270344.0\n",
      "Cost New: 12268475000.0\n",
      "Cost Old: 12298322000.0\n",
      "armijo: True\n",
      "(1955246000.0, 42, 0.001319409, 0.00035513754, 0.9042085, 0.18418616, 0.7816682, 12298322000.0, 12268475000.0)\n",
      "alpha_val: 0.8302889\n",
      "inprod_grad_eta_val: -105098350.0\n",
      "Cost New: 12244619000.0\n",
      "Cost Old: 12268475000.0\n",
      "armijo: True\n",
      "(1954210600.0, 43, 0.0013190596, 0.00026485717, 0.8302889, 0.04395765, 0.9007232, 12268475000.0, 12244619000.0)\n",
      "alpha_val: 0.82390493\n",
      "inprod_grad_eta_val: -113155460.0\n",
      "Cost New: 12221549000.0\n",
      "Cost Old: 12244619000.0\n",
      "armijo: True\n",
      "(1952755800.0, 44, 0.0013185685, 0.00037249204, 0.82390493, 0.16553396, 0.8421347, 12244619000.0, 12221549000.0)\n",
      "alpha_val: 0.8321475\n",
      "inprod_grad_eta_val: -113168504.0\n",
      "Cost New: 12199070000.0\n",
      "Cost Old: 12221549000.0\n",
      "armijo: True\n",
      "(1950692000.0, 45, 0.0013178715, 0.00052886683, 0.8321475, 0.13808103, 0.8051505, 12221549000.0, 12199070000.0)\n",
      "alpha_val: 0.7100576\n",
      "inprod_grad_eta_val: -95698410.0\n",
      "Cost New: 12181105000.0\n",
      "Cost Old: 12199070000.0\n",
      "armijo: True\n",
      "(1948651800.0, 46, 0.0013171822, 0.0005233104, 0.7100576, 0.04713858, 0.9556695, 12199070000.0, 12181105000.0)\n",
      "alpha_val: 0.8096551\n",
      "inprod_grad_eta_val: -115247070.0\n",
      "Cost New: 12160219000.0\n",
      "Cost Old: 12181105000.0\n",
      "armijo: True\n",
      "(1948744700.0, 47, 0.0013172135, 2.3774219e-05, 0.8096551, 0.22903508, 0.77189356, 12181105000.0, 12160219000.0)\n",
      "alpha_val: 0.72586375\n",
      "inprod_grad_eta_val: -89412980.0\n",
      "Cost New: 12144364000.0\n",
      "Cost Old: 12160219000.0\n",
      "armijo: True\n",
      "(1945221400.0, 48, 0.0013160224, 0.0009051226, 0.72586375, 0.009147626, 0.9025392, 12160219000.0, 12144364000.0)\n",
      "alpha_val: 0.78453255\n",
      "inprod_grad_eta_val: -102287530.0\n",
      "Cost New: 12124737000.0\n",
      "Cost Old: 12144364000.0\n",
      "armijo: True\n",
      "(1949485800.0, 49, 0.001317464, 0.0010942897, 0.78453255, 0.17705822, 0.85200685, 12144364000.0, 12124737000.0)\n",
      "alpha_val: 0.7235657\n",
      "inprod_grad_eta_val: -94592744.0\n",
      "Cost New: 12106271000.0\n",
      "Cost Old: 12124737000.0\n",
      "armijo: True\n",
      "(1948369500.0, 50, 0.0013170869, 0.00028637872, 0.7235657, 0.080575034, 0.9316331, 12124737000.0, 12106271000.0)\n",
      "alpha_val: 0.7432957\n",
      "inprod_grad_eta_val: -94384090.0\n",
      "Cost New: 12089251000.0\n",
      "Cost Old: 12106271000.0\n",
      "armijo: True\n",
      "(1950327900.0, 51, 0.0013177486, 0.0005021479, 0.7432957, 0.1280769, 0.86357784, 12106271000.0, 12089251000.0)\n",
      "alpha_val: 0.78007644\n",
      "inprod_grad_eta_val: -97405736.0\n",
      "Cost New: 12072471000.0\n",
      "Cost Old: 12089251000.0\n",
      "armijo: True\n",
      "(1946425700.0, 52, 0.0013164296, 0.0010019416, 0.78007644, 0.14284092, 0.8000633, 12089251000.0, 12072471000.0)\n",
      "alpha_val: 0.66116416\n",
      "inprod_grad_eta_val: -80478680.0\n",
      "Cost New: 12060585000.0\n",
      "Cost Old: 12072471000.0\n",
      "armijo: True\n",
      "(1950363500.0, 53, 0.0013177606, 0.001010029, 0.66116416, 0.026020177, 0.95749277, 12072471000.0, 12060585000.0)\n",
      "alpha_val: 0.6889312\n",
      "inprod_grad_eta_val: -101255180.0\n",
      "Cost New: 12048152000.0\n",
      "Cost Old: 12060585000.0\n",
      "armijo: True\n",
      "(1946324400.0, 54, 0.0013163954, 0.0010370763, 0.6889312, 0.24139076, 0.7519145, 12060585000.0, 12048152000.0)\n",
      "alpha_val: 0.65478534\n",
      "inprod_grad_eta_val: -85515430.0\n",
      "Cost New: 12036163000.0\n",
      "Cost Old: 12048152000.0\n",
      "armijo: True\n",
      "(1945368300.0, 55, 0.001316072, 0.00024573258, 0.65478534, 0.04587209, 0.9052425, 12048152000.0, 12036163000.0)\n",
      "alpha_val: 0.6900741\n",
      "inprod_grad_eta_val: -84005230.0\n",
      "Cost New: 12024061000.0\n",
      "Cost Old: 12036163000.0\n",
      "armijo: True\n",
      "(1946566800.0, 56, 0.0013164773, 0.00030791122, 0.6900741, 0.15119612, 0.8288071, 12036163000.0, 12024061000.0)\n",
      "alpha_val: 0.65270036\n",
      "inprod_grad_eta_val: -79543180.0\n",
      "Cost New: 12013279000.0\n",
      "Cost Old: 12024061000.0\n",
      "armijo: True\n",
      "(1945397100.0, 57, 0.0013160817, 0.00030057348, 0.65270036, 0.08707269, 0.8989611, 12024061000.0, 12013279000.0)\n",
      "alpha_val: 0.6688344\n",
      "inprod_grad_eta_val: -81043600.0\n",
      "Cost New: 12003643000.0\n",
      "Cost Old: 12013279000.0\n",
      "armijo: True\n",
      "(1943435100.0, 58, 0.0013154179, 0.0005046306, 0.6688344, 0.17786133, 0.75569403, 12013279000.0, 12003643000.0)\n",
      "alpha_val: 0.6039887\n",
      "inprod_grad_eta_val: -71969304.0\n",
      "Cost New: 11994646000.0\n",
      "Cost Old: 12003643000.0\n",
      "armijo: True\n",
      "(1943603500.0, 59, 0.0013154749, 4.3274937e-05, 0.6039887, 0.04776813, 0.95340776, 12003643000.0, 11994646000.0)\n",
      "alpha_val: 0.6475588\n",
      "inprod_grad_eta_val: -78473150.0\n",
      "Cost New: 11984666000.0\n",
      "Cost Old: 11994646000.0\n",
      "armijo: True\n",
      "(1944390900.0, 60, 0.0013157413, 0.00020252816, 0.6475588, 0.15775415, 0.8575889, 11994646000.0, 11984666000.0)\n",
      "alpha_val: 0.58987546\n",
      "inprod_grad_eta_val: -70252180.0\n",
      "Cost New: 11976278000.0\n",
      "Cost Old: 11984666000.0\n",
      "armijo: True\n",
      "(1942547600.0, 61, 0.0013151175, 0.00047438327, 0.58987546, 0.06288775, 0.924452, 11984666000.0, 11976278000.0)\n",
      "alpha_val: 0.59557724\n",
      "inprod_grad_eta_val: -76118050.0\n",
      "Cost New: 11968371000.0\n",
      "Cost Old: 11976278000.0\n",
      "armijo: True\n",
      "(1944539000.0, 62, 0.0013157914, 0.00051218475, 0.59557724, 0.15678982, 0.8352579, 11976278000.0, 11968371000.0)\n",
      "alpha_val: 0.58708084\n",
      "inprod_grad_eta_val: -72677464.0\n",
      "Cost New: 11961798000.0\n",
      "Cost Old: 11968371000.0\n",
      "armijo: True\n",
      "(1942604000.0, 63, 0.0013151367, 0.000497834, 0.58708084, 0.121549636, 0.81137735, 11968371000.0, 11961798000.0)\n",
      "alpha_val: 0.5610743\n",
      "inprod_grad_eta_val: -70078970.0\n",
      "Cost New: 11955039000.0\n",
      "Cost Old: 11961798000.0\n",
      "armijo: True\n",
      "(1940615800.0, 64, 0.0013144634, 0.00051217084, 0.5610743, 0.09613297, 0.90897113, 11961798000.0, 11955039000.0)\n",
      "alpha_val: 0.6125885\n",
      "inprod_grad_eta_val: -71446400.0\n",
      "Cost New: 11947431000.0\n",
      "Cost Old: 11955039000.0\n",
      "armijo: True\n",
      "(1941003500.0, 65, 0.0013145948, 9.989123e-05, 0.6125885, 0.16371635, 0.8011975, 11955039000.0, 11947431000.0)\n",
      "alpha_val: 0.48108447\n",
      "inprod_grad_eta_val: -59811250.0\n",
      "Cost New: 11942282000.0\n",
      "Cost Old: 11947431000.0\n",
      "armijo: True\n",
      "(1942039400.0, 66, 0.0013149455, 0.00026674822, 0.48108447, 0.014400776, 1.0296375, 11947431000.0, 11942282000.0)\n",
      "alpha_val: 0.60160136\n",
      "inprod_grad_eta_val: -71542180.0\n",
      "Cost New: 11935675000.0\n",
      "Cost Old: 11942282000.0\n",
      "armijo: True\n",
      "(1941530000.0, 67, 0.001314773, 0.00013122227, 0.60160136, 0.23394233, 0.74263984, 11942282000.0, 11935675000.0)\n",
      "alpha_val: 0.54956007\n",
      "inprod_grad_eta_val: -62917040.0\n",
      "Cost New: 11929586000.0\n",
      "Cost Old: 11935675000.0\n",
      "armijo: True\n",
      "(1940251500.0, 68, 0.00131434, 0.0003294038, 0.54956007, 0.021901892, 0.9624631, 11935675000.0, 11929586000.0)\n",
      "alpha_val: 0.52400833\n",
      "inprod_grad_eta_val: -68767600.0\n",
      "Cost New: 11923906000.0\n",
      "Cost Old: 11929586000.0\n",
      "armijo: True\n",
      "(1945557400.0, 69, 0.001316136, 0.0013645544, 0.52400833, 0.1560321, 0.87321, 11929586000.0, 11923906000.0)\n",
      "alpha_val: 0.51124674\n",
      "inprod_grad_eta_val: -67575290.0\n",
      "Cost New: 11918776000.0\n",
      "Cost Old: 11923906000.0\n",
      "armijo: True\n",
      "(1945682200.0, 70, 0.0013161781, 3.2018725e-05, 0.51124674, 0.12063656, 0.8310802, 11923906000.0, 11918776000.0)\n",
      "alpha_val: 0.51708686\n",
      "inprod_grad_eta_val: -62003580.0\n",
      "Cost New: 11914177000.0\n",
      "Cost Old: 11918776000.0\n",
      "armijo: True\n",
      "(1939013900.0, 71, 0.0013139208, 0.0017179826, 0.51708686, 0.10761225, 0.83713293, 11918776000.0, 11914177000.0)\n",
      "alpha_val: 0.4441279\n",
      "inprod_grad_eta_val: -61959940.0\n",
      "Cost New: 11910778000.0\n",
      "Cost Old: 11914177000.0\n",
      "armijo: True\n",
      "(1943179900.0, 72, 0.0013153316, 0.0010725211, 0.4441279, 0.11506708, 0.8991945, 11914177000.0, 11910778000.0)\n",
      "alpha_val: 0.48948753\n",
      "inprod_grad_eta_val: -66040860.0\n",
      "Cost New: 11906643000.0\n",
      "Cost Old: 11910778000.0\n",
      "armijo: True\n",
      "(1941146400.0, 73, 0.0013146431, 0.00052370125, 0.48948753, 0.18530451, 0.8008367, 11910778000.0, 11906643000.0)\n"
     ]
    },
    {
     "name": "stdout",
     "output_type": "stream",
     "text": [
      "alpha_val: 0.4560475\n",
      "inprod_grad_eta_val: -59127350.0\n",
      "Cost New: 11903451000.0\n",
      "Cost Old: 11906643000.0\n",
      "armijo: True\n",
      "(1937458800.0, 74, 0.0013133938, 0.00095116394, 0.4560475, 0.08205407, 0.8633045, 11906643000.0, 11903451000.0)\n",
      "alpha_val: 0.39687425\n",
      "inprod_grad_eta_val: -54152670.0\n",
      "Cost New: 11900885000.0\n",
      "Cost Old: 11903451000.0\n",
      "armijo: True\n",
      "(1940008000.0, 75, 0.0013142576, 0.0006572545, 0.39687425, 0.06705474, 0.959341, 11903451000.0, 11900885000.0)\n",
      "alpha_val: 0.51203555\n",
      "inprod_grad_eta_val: -69588136.0\n",
      "Cost New: 11896960000.0\n",
      "Cost Old: 11900885000.0\n",
      "armijo: True\n",
      "(1940419700.0, 76, 0.001314397, 0.00010601754, 0.51203555, 0.31245628, 0.66162354, 11900885000.0, 11896960000.0)\n",
      "alpha_val: 0.37741628\n",
      "inprod_grad_eta_val: -46785428.0\n",
      "Cost New: 11894456000.0\n",
      "Cost Old: 11896960000.0\n",
      "armijo: True\n",
      "(1939540400.0, 77, 0.0013140992, 0.00022661181, 0.37741628, -0.06245706, 1.0493813, 11896960000.0, 11894456000.0)\n",
      "alpha_val: 0.49559444\n",
      "inprod_grad_eta_val: -60496740.0\n",
      "Cost New: 11890788000.0\n",
      "Cost Old: 11894456000.0\n",
      "armijo: True\n",
      "(1940730900.0, 78, 0.0013145024, 0.0003067797, 0.49559444, 0.24333204, 0.79890144, 11894456000.0, 11890788000.0)\n",
      "alpha_val: 0.43487635\n",
      "inprod_grad_eta_val: -55496236.0\n",
      "Cost New: 11888057000.0\n",
      "Cost Old: 11890788000.0\n",
      "armijo: True\n",
      "(1940681000.0, 79, 0.0013144856, 1.2841694e-05, 0.43487635, 0.06607734, 0.88533455, 11890788000.0, 11888057000.0)\n",
      "alpha_val: 0.43993112\n",
      "inprod_grad_eta_val: -53792092.0\n",
      "Cost New: 11885171000.0\n",
      "Cost Old: 11888057000.0\n",
      "armijo: True\n",
      "(1941937000.0, 80, 0.0013149108, 0.0003234175, 0.43993112, 0.12278488, 0.8909662, 11888057000.0, 11885171000.0)\n",
      "alpha_val: 0.4770996\n",
      "inprod_grad_eta_val: -59317708.0\n",
      "Cost New: 11881817000.0\n",
      "Cost Old: 11885171000.0\n",
      "armijo: True\n",
      "(1941022200.0, 81, 0.001314601, 0.00023564653, 0.4770996, 0.17823938, 0.7877604, 11885171000.0, 11881817000.0)\n",
      "alpha_val: 0.40166745\n",
      "inprod_grad_eta_val: -50781000.0\n",
      "Cost New: 11879396000.0\n",
      "Cost Old: 11881817000.0\n",
      "armijo: True\n",
      "(1940372700.0, 82, 0.0013143811, 0.00016730957, 0.40166745, 0.029961988, 0.93338877, 11881817000.0, 11879396000.0)\n",
      "alpha_val: 0.41213125\n",
      "inprod_grad_eta_val: -52509970.0\n",
      "Cost New: 11877011000.0\n",
      "Cost Old: 11879396000.0\n",
      "armijo: True\n",
      "(1941955200.0, 83, 0.001314917, 0.00040752362, 0.41213125, 0.15954982, 0.84274244, 11879396000.0, 11877011000.0)\n",
      "alpha_val: 0.43075487\n",
      "inprod_grad_eta_val: -56802964.0\n",
      "Cost New: 11874674000.0\n",
      "Cost Old: 11877011000.0\n",
      "armijo: True\n",
      "(1944466200.0, 84, 0.0013157668, 0.0006458833, 0.43075487, 0.1764494, 0.7919169, 11877011000.0, 11874674000.0)\n",
      "alpha_val: 0.34230042\n",
      "inprod_grad_eta_val: -51760784.0\n",
      "Cost New: 11873126000.0\n",
      "Cost Old: 11874674000.0\n",
      "armijo: True\n",
      "(1940066300.0, 85, 0.0013142773, 0.0011333483, 0.34230042, 0.07936801, 0.9408678, 11874674000.0, 11873126000.0)\n",
      "alpha_val: 0.39975816\n",
      "inprod_grad_eta_val: -52248796.0\n",
      "Cost New: 11871174000.0\n",
      "Cost Old: 11873126000.0\n",
      "armijo: True\n",
      "(1941327900.0, 86, 0.0013147047, 0.00032506208, 0.39975816, 0.17201136, 0.83422285, 11873126000.0, 11871174000.0)\n",
      "alpha_val: 0.38083446\n",
      "inprod_grad_eta_val: -51979956.0\n",
      "Cost New: 11869312000.0\n",
      "Cost Old: 11871174000.0\n",
      "armijo: True\n",
      "(1940992500.0, 87, 0.001314591, 8.6430955e-05, 0.38083446, 0.1263125, 0.8347318, 11871174000.0, 11869312000.0)\n",
      "alpha_val: 0.33987898\n",
      "inprod_grad_eta_val: -49260436.0\n",
      "Cost New: 11868024000.0\n",
      "Cost Old: 11869312000.0\n",
      "armijo: True\n",
      "(1937398500.0, 88, 0.0013133733, 0.00092715776, 0.33987898, 0.12074194, 0.82889456, 11869312000.0, 11868024000.0)\n",
      "alpha_val: 0.34116852\n",
      "inprod_grad_eta_val: -53298884.0\n",
      "Cost New: 11866393000.0\n",
      "Cost Old: 11868024000.0\n",
      "armijo: True\n",
      "(1938357400.0, 89, 0.0013136984, 0.0002474172, 0.34116852, 0.13903001, 0.89206874, 11868024000.0, 11866393000.0)\n",
      "alpha_val: 0.31876582\n",
      "inprod_grad_eta_val: -39719260.0\n",
      "Cost New: 11865334000.0\n",
      "Cost Old: 11866393000.0\n",
      "armijo: True\n",
      "(1939962500.0, 90, 0.0013142421, 0.0004137563, 0.31876582, 0.027902769, 0.9413409, 11866393000.0, 11865334000.0)\n",
      "alpha_val: 0.40006\n",
      "inprod_grad_eta_val: -51696868.0\n",
      "Cost New: 11863760000.0\n",
      "Cost Old: 11865334000.0\n",
      "armijo: True\n",
      "(1940699800.0, 91, 0.0013144918, 0.0001899676, 0.40006, 0.24782677, 0.7424903, 11865334000.0, 11863760000.0)\n",
      "alpha_val: 0.3152036\n",
      "inprod_grad_eta_val: -39691532.0\n",
      "Cost New: 11862605000.0\n",
      "Cost Old: 11863760000.0\n",
      "armijo: True\n",
      "(1943416600.0, 92, 0.0013154116, 0.0006992469, 0.3152036, -0.02698227, 1.0255919, 11863760000.0, 11862605000.0)\n",
      "alpha_val: 0.39935032\n",
      "inprod_grad_eta_val: -48472460.0\n",
      "Cost New: 11860848000.0\n",
      "Cost Old: 11862605000.0\n",
      "armijo: True\n",
      "(1942560800.0, 93, 0.001315122, 0.00022023912, 0.39935032, 0.23607108, 0.74882007, 11862605000.0, 11860848000.0)\n",
      "alpha_val: 0.2979543\n",
      "inprod_grad_eta_val: -46564532.0\n",
      "Cost New: 11860114000.0\n",
      "Cost Old: 11860848000.0\n",
      "armijo: True\n",
      "(1939053600.0, 94, 0.0013139342, 0.00090399163, 0.2979543, 0.0876649, 0.9030638, 11860848000.0, 11860114000.0)\n",
      "alpha_val: 0.3391725\n",
      "inprod_grad_eta_val: -45743904.0\n",
      "Cost New: 11858622000.0\n",
      "Cost Old: 11860114000.0\n",
      "armijo: True\n",
      "(1938315500.0, 95, 0.0013136842, 0.00019035026, 0.3391725, 0.10147685, 0.9208972, 11860114000.0, 11858622000.0)\n",
      "alpha_val: 0.30711424\n",
      "inprod_grad_eta_val: -46317700.0\n",
      "Cost New: 11857692000.0\n",
      "Cost Old: 11858622000.0\n",
      "armijo: True\n",
      "(1941920100.0, 96, 0.0013149051, 0.00092855666, 0.30711424, 0.15848143, 0.8092326, 11858622000.0, 11857692000.0)\n",
      "alpha_val: 0.32680836\n",
      "inprod_grad_eta_val: -44587256.0\n",
      "Cost New: 11856604000.0\n",
      "Cost Old: 11857692000.0\n",
      "armijo: True\n",
      "(1940446800.0, 97, 0.0013144063, 0.0003795171, 0.32680836, 0.12300936, 0.8297049, 11857692000.0, 11856604000.0)\n",
      "alpha_val: 0.3159456\n",
      "inprod_grad_eta_val: -40572796.0\n",
      "Cost New: 11855495000.0\n",
      "Cost Old: 11856604000.0\n",
      "armijo: True\n",
      "(1939037200.0, 98, 0.0013139287, 0.00036344107, 0.3159456, 0.0813207, 0.9128686, 11856604000.0, 11855495000.0)\n",
      "alpha_val: 0.32136488\n",
      "inprod_grad_eta_val: -40137670.0\n",
      "Cost New: 11854301000.0\n",
      "Cost Old: 11855495000.0\n",
      "armijo: True\n",
      "(1943024100.0, 99, 0.0013152788, 0.0010264504, 0.32136488, 0.10132611, 0.9276065, 11855495000.0, 11854301000.0)\n",
      "alpha_val: 0.29783413\n",
      "inprod_grad_eta_val: -45622840.0\n",
      "Cost New: 11853256000.0\n",
      "Cost Old: 11854301000.0\n",
      "armijo: True\n",
      "(1943637800.0, 100, 0.0013154865, 0.0001578769, 0.29783413, 0.1441447, 0.9274089, 11854301000.0, 11853256000.0)\n",
      "alpha_val: 0.28053597\n",
      "inprod_grad_eta_val: -43059816.0\n",
      "Cost New: 11852586000.0\n",
      "Cost Old: 11853256000.0\n",
      "armijo: True\n",
      "(1938638600.0, 101, 0.0013137936, 0.0012885674, 0.28053597, 0.12025511, 0.7802829, 11853256000.0, 11852586000.0)\n",
      "alpha_val: 0.2510742\n",
      "inprod_grad_eta_val: -45059520.0\n",
      "Cost New: 11852212000.0\n",
      "Cost Old: 11852586000.0\n",
      "armijo: True\n",
      "(1939759000.0, 102, 0.0013141732, 0.0002888739, 0.2510742, 0.19692253, 0.72240955, 11852586000.0, 11852212000.0)\n",
      "alpha_val: 0.24176133\n",
      "inprod_grad_eta_val: -38545148.0\n",
      "Cost New: 11851796000.0\n",
      "Cost Old: 11852212000.0\n",
      "armijo: True\n",
      "(1939641100.0, 103, 0.0013141333, 3.0385392e-05, 0.24176133, 0.08279284, 0.84164685, 11852212000.0, 11851796000.0)\n",
      "alpha_val: 0.21222344\n",
      "inprod_grad_eta_val: -35869450.0\n",
      "Cost New: 11851391000.0\n",
      "Cost Old: 11851796000.0\n",
      "armijo: True\n",
      "(1942037000.0, 104, 0.0013149447, 0.0006170714, 0.21222344, 0.07506751, 0.99864763, 11851796000.0, 11851391000.0)\n",
      "alpha_val: 0.28207022\n",
      "inprod_grad_eta_val: -43481236.0\n",
      "Cost New: 11850728000.0\n",
      "Cost Old: 11851391000.0\n",
      "armijo: True\n",
      "(1939755100.0, 105, 0.0013141719, 0.0005880242, 0.28207022, 0.25789964, 0.75331473, 11851391000.0, 11850728000.0)\n",
      "alpha_val: 0.16492645\n",
      "inprod_grad_eta_val: -29616522.0\n",
      "Cost New: 11850693000.0\n",
      "Cost Old: 11850728000.0\n",
      "armijo: True\n",
      "(1939620900.0, 106, 0.0013141264, 3.4637756e-05, 0.16492645, -0.028523855, 0.960634, 11850728000.0, 11850693000.0)\n",
      "alpha_val: 0.23106638\n",
      "inprod_grad_eta_val: -45757920.0\n",
      "Cost New: 11850441000.0\n",
      "Cost Old: 11850693000.0\n",
      "armijo: True\n",
      "(1939932000.0, 107, 0.0013142319, 8.0253936e-05, 0.23106638, 0.39238274, 0.6060479, 11850693000.0, 11850441000.0)\n",
      "alpha_val: 0.20782262\n",
      "inprod_grad_eta_val: -33745624.0\n",
      "Cost New: 11850242000.0\n",
      "Cost Old: 11850441000.0\n",
      "armijo: True\n",
      "(1939118200.0, 108, 0.0013139561, 0.00020989125, 0.20782262, -0.03218155, 0.93771124, 11850441000.0, 11850242000.0)\n",
      "alpha_val: 0.2193955\n",
      "inprod_grad_eta_val: -29507386.0\n",
      "Cost New: 11849868000.0\n",
      "Cost Old: 11850242000.0\n",
      "armijo: True\n",
      "(1940498000.0, 109, 0.0013144235, 0.00035559887, 0.2193955, 0.0814211, 1.0222005, 11850242000.0, 11849868000.0)\n"
     ]
    },
    {
     "name": "stdout",
     "output_type": "stream",
     "text": [
      "alpha_val: 0.31077358\n",
      "inprod_grad_eta_val: -40581620.0\n",
      "Cost New: 11849229000.0\n",
      "Cost Old: 11849868000.0\n",
      "armijo: True\n",
      "(1941073200.0, 110, 0.0013146183, 0.00014815162, 0.31077358, 0.28653815, 0.71391577, 11849868000.0, 11849229000.0)\n",
      "alpha_val: 0.1727259\n",
      "inprod_grad_eta_val: -25864496.0\n",
      "Cost New: 11848973000.0\n",
      "Cost Old: 11849229000.0\n",
      "armijo: True\n",
      "(1942459400.0, 111, 0.0013150877, 0.00035692417, 0.1727259, -0.111904256, 1.2118112, 11849229000.0, 11848973000.0)\n",
      "alpha_val: 0.33712485\n",
      "inprod_grad_eta_val: -45009704.0\n",
      "Cost New: 11848195000.0\n",
      "Cost Old: 11848973000.0\n",
      "armijo: True\n",
      "(1940935000.0, 112, 0.0013145716, 0.0003925759, 0.33712485, 0.43935966, 0.52417254, 11848973000.0, 11848195000.0)\n",
      "alpha_val: 0.20256317\n",
      "inprod_grad_eta_val: -23645738.0\n",
      "Cost New: 11847973000.0\n",
      "Cost Old: 11848195000.0\n",
      "armijo: True\n",
      "(1941663600.0, 113, 0.0013148183, 0.00018761837, 0.20256317, -0.21405262, 1.1490681, 11848195000.0, 11847973000.0)\n",
      "alpha_val: 0.23948815\n",
      "inprod_grad_eta_val: -42539660.0\n",
      "Cost New: 11847602000.0\n",
      "Cost Old: 11847973000.0\n",
      "armijo: True\n",
      "(1942387600.0, 114, 0.0013150633, 0.00018634407, 0.23948815, 0.36416677, 0.66247743, 11847973000.0, 11847602000.0)\n",
      "alpha_val: 0.12814853\n",
      "inprod_grad_eta_val: -39955676.0\n",
      "Cost New: 11847619000.0\n",
      "Cost Old: 11847602000.0\n",
      "armijo: False\n",
      "Backtracking\n",
      "Learning Rate: 0.06407426297664642\n",
      "Max_TT rank63\n",
      "[1, 53, 63, 63, 1]\n",
      "Cost New: 11847758805.914185\n",
      "Cost Old: 11847602000.0\n",
      "backtrackiter_count: 1\n",
      "Backtracking\n",
      "Learning Rate: 0.03203713148832321\n",
      "Max_TT rank63\n",
      "[1, 53, 63, 63, 1]\n",
      "Cost New: 11847905524.220703\n",
      "Cost Old: 11847602000.0\n",
      "backtrackiter_count: 2\n",
      "Backtracking\n",
      "Learning Rate: 0.016018565744161606\n",
      "Max_TT rank63\n",
      "[1, 53, 63, 63, 1]\n",
      "Cost New: 11848011354.382812\n",
      "Cost Old: 11847602000.0\n",
      "backtrackiter_count: 3\n",
      "Backtracking\n",
      "Learning Rate: 0.008009282872080803\n",
      "Max_TT rank63\n",
      "[1, 53, 63, 63, 1]\n",
      "Cost New: 11848085916.826294\n",
      "Cost Old: 11847602000.0\n",
      "backtrackiter_count: 4\n",
      "Backtracking\n",
      "Learning Rate: 0.0040046414360404015\n",
      "Max_TT rank63\n",
      "[1, 53, 63, 63, 1]\n",
      "Cost New: 11848143642.750122\n",
      "Cost Old: 11847602000.0\n",
      "backtrackiter_count: 5\n",
      "backtracing stopped after: 5\n",
      "(1941797800.0, 115, 0.0013148637, 0.00015184257, 0.12814853, 0.15852529, 0.71044403, 11847602000.0, 11847619000.0)\n",
      "alpha_val: 0.0759895\n",
      "inprod_grad_eta_val: -21149844.0\n",
      "Cost New: 11848279000.0\n",
      "Cost Old: 11848211000.0\n",
      "armijo: False\n",
      "Backtracking\n",
      "Learning Rate: 0.03799474984407425\n",
      "Max_TT rank63\n",
      "[1, 53, 63, 63, 1]\n",
      "Cost New: 11848331252.973755\n",
      "Cost Old: 11848211000.0\n",
      "backtrackiter_count: 1\n",
      "Backtracking\n",
      "Learning Rate: 0.018997374922037125\n",
      "Max_TT rank63\n",
      "[1, 53, 63, 63, 1]\n",
      "Cost New: 11848434679.757812\n",
      "Cost Old: 11848211000.0\n",
      "backtrackiter_count: 2\n",
      "Backtracking\n",
      "Learning Rate: 0.009498687461018562\n",
      "Max_TT rank63\n",
      "[1, 53, 63, 63, 1]\n",
      "Cost New: 11848533296.414185\n",
      "Cost Old: 11848211000.0\n",
      "backtrackiter_count: 3\n",
      "Backtracking\n",
      "Learning Rate: 0.004749343730509281\n",
      "Max_TT rank63\n",
      "[1, 53, 63, 63, 1]\n",
      "Cost New: 11848617481.689453\n",
      "Cost Old: 11848211000.0\n",
      "backtrackiter_count: 4\n",
      "Backtracking\n",
      "Learning Rate: 0.0023746718652546406\n",
      "Max_TT rank63\n",
      "[1, 53, 63, 63, 1]\n",
      "Cost New: 11848677614.212036\n",
      "Cost Old: 11848211000.0\n",
      "backtrackiter_count: 5\n",
      "backtracing stopped after: 5\n",
      "(1939656600.0, 116, 0.0013141385, 0.00055180717, 0.0759895, -0.12391536, 1.2599916, 11848211000.0, 11848279000.0)\n",
      "alpha_val: 0.24907942\n",
      "inprod_grad_eta_val: -42837184.0\n",
      "Cost New: 11848412000.0\n",
      "Cost Old: 11848743000.0\n",
      "armijo: True\n",
      "(1942981000.0, 117, 0.0013152643, 0.0008559011, 0.24907942, 0.41232166, 0.64960235, 11848743000.0, 11848412000.0)\n",
      "alpha_val: 0.2528574\n",
      "inprod_grad_eta_val: -38449820.0\n",
      "Cost New: 11848004000.0\n",
      "Cost Old: 11848412000.0\n",
      "armijo: True\n",
      "(1942001000.0, 118, 0.0013149325, 0.00025231994, 0.2528574, 0.12488587, 0.7298248, 11848412000.0, 11848004000.0)\n",
      "alpha_val: 0.18995887\n",
      "inprod_grad_eta_val: -22006672.0\n",
      "Cost New: 11847668000.0\n",
      "Cost Old: 11848004000.0\n",
      "armijo: True\n",
      "(1941179000.0, 119, 0.0013146541, 0.00021172795, 0.18995887, -0.10192393, 1.2136317, 11848004000.0, 11847668000.0)\n",
      "alpha_val: 0.32136077\n",
      "inprod_grad_eta_val: -39147444.0\n",
      "Cost New: 11846928000.0\n",
      "Cost Old: 11847668000.0\n",
      "armijo: True\n",
      "(1941715500.0, 120, 0.0013148359, 0.00013821066, 0.32136077, 0.34395456, 0.69780356, 11847668000.0, 11846928000.0)\n",
      "alpha_val: 0.18531407\n",
      "inprod_grad_eta_val: -30606194.0\n",
      "Cost New: 11846738000.0\n",
      "Cost Old: 11846928000.0\n",
      "armijo: True\n",
      "(1945233300.0, 121, 0.0013160263, 0.00090458913, 0.18531407, -0.0359105, 0.97980446, 11846928000.0, 11846738000.0)\n",
      "alpha_val: 0.28184184\n",
      "inprod_grad_eta_val: -41577996.0\n",
      "Cost New: 11846172000.0\n",
      "Cost Old: 11846738000.0\n",
      "armijo: True\n",
      "(1942266100.0, 122, 0.0013150222, 0.00076354766, 0.28184184, 0.3185497, 0.6660557, 11846738000.0, 11846172000.0)\n",
      "alpha_val: 0.1833295\n",
      "inprod_grad_eta_val: -29416368.0\n",
      "Cost New: 11846004000.0\n",
      "Cost Old: 11846172000.0\n",
      "armijo: True\n",
      "(1941557200.0, 123, 0.0013147822, 0.00018257655, 0.1833295, -0.063714035, 1.0192063, 11846172000.0, 11846004000.0)\n",
      "alpha_val: 0.17127779\n",
      "inprod_grad_eta_val: -36750304.0\n",
      "Cost New: 11845856000.0\n",
      "Cost Old: 11846004000.0\n",
      "armijo: True\n",
      "(1942148500.0, 124, 0.0013149824, 0.0001522715, 0.17127779, 0.274354, 0.72472835, 11846004000.0, 11845856000.0)\n",
      "alpha_val: 0.16899326\n",
      "inprod_grad_eta_val: -39324056.0\n",
      "Cost New: 11845761000.0\n",
      "Cost Old: 11845856000.0\n",
      "armijo: True\n",
      "(1943458300.0, 125, 0.0013154257, 0.00033700842, 0.16899326, 0.1530202, 0.8363717, 11845856000.0, 11845761000.0)\n",
      "alpha_val: 0.14823852\n",
      "inprod_grad_eta_val: -28970686.0\n",
      "Cost New: 11845723000.0\n",
      "Cost Old: 11845761000.0\n",
      "armijo: True\n",
      "(1940358500.0, 126, 0.0013143764, 0.00079837686, 0.14823852, 0.034475673, 0.85803986, 11845761000.0, 11845723000.0)\n",
      "alpha_val: 0.16511032\n",
      "inprod_grad_eta_val: -31389914.0\n",
      "Cost New: 11845600000.0\n",
      "Cost Old: 11845723000.0\n",
      "armijo: True\n",
      "(1943501800.0, 127, 0.0013154405, 0.0008089704, 0.16511032, 0.18595017, 0.8050533, 11845723000.0, 11845600000.0)\n",
      "alpha_val: 0.15761131\n",
      "inprod_grad_eta_val: -28742394.0\n",
      "Cost New: 11845526000.0\n",
      "Cost Old: 11845600000.0\n",
      "armijo: True\n",
      "(1941753500.0, 128, 0.0013148487, 0.00045013204, 0.15761131, 0.0945041, 0.90363586, 11845600000.0, 11845526000.0)\n",
      "alpha_val: 0.1560178\n",
      "inprod_grad_eta_val: -30519866.0\n",
      "Cost New: 11845545000.0\n",
      "Cost Old: 11845526000.0\n",
      "armijo: False\n",
      "Backtracking\n",
      "Learning Rate: 0.07800889760255814\n",
      "Max_TT rank63\n",
      "[1, 53, 63, 63, 1]\n",
      "Cost New: 11845680795.000122\n",
      "Cost Old: 11845526000.0\n",
      "backtrackiter_count: 1\n",
      "Backtracking\n",
      "Learning Rate: 0.03900444880127907\n",
      "Max_TT rank63\n",
      "[1, 53, 63, 63, 1]\n",
      "Cost New: 11845870790.742676\n",
      "Cost Old: 11845526000.0\n",
      "backtrackiter_count: 2\n",
      "Backtracking\n",
      "Learning Rate: 0.019502224400639534\n",
      "Max_TT rank63\n",
      "[1, 53, 63, 63, 1]\n",
      "Cost New: 11846012687.291138\n",
      "Cost Old: 11845526000.0\n",
      "backtrackiter_count: 3\n",
      "Backtracking\n",
      "Learning Rate: 0.009751112200319767\n",
      "Max_TT rank63\n",
      "[1, 53, 63, 63, 1]\n",
      "Cost New: 11846104078.738403\n",
      "Cost Old: 11845526000.0\n",
      "backtrackiter_count: 4\n",
      "Backtracking\n",
      "Learning Rate: 0.0048755561001598835\n",
      "Max_TT rank63\n",
      "[1, 53, 63, 63, 1]\n",
      "Cost New: 11846200280.6427\n",
      "Cost Old: 11845526000.0\n",
      "backtrackiter_count: 5\n",
      "backtracing stopped after: 5\n",
      "(1942466300.0, 129, 0.00131509, 0.00018350757, 0.1560178, 0.2151502, 0.7554044, 11845526000.0, 11845545000.0)\n",
      "alpha_val: -0.0054337787\n",
      "inprod_grad_eta_val: -11697318.0\n",
      "Cost New: 11846311000.0\n",
      "Cost Old: 11846277000.0\n",
      "armijo: False\n",
      "Backtracking\n",
      "Learning Rate: -0.0027168893720954657\n",
      "Max_TT rank63\n",
      "[1, 53, 63, 63, 1]\n",
      "Cost New: 11846250786.798828\n",
      "Cost Old: 11846277000.0\n",
      "backtrackiter_count: 1\n",
      "(1943076700.0, 130, 0.0013152966, 0.00015710312, -0.0054337787, -0.17368032, 1.5345207, 11846277000.0, 11846311000.0)\n",
      "alpha_val: 0.437474\n",
      "inprod_grad_eta_val: -53348228.0\n",
      "Cost New: 11845021000.0\n",
      "Cost Old: 11846331000.0\n",
      "armijo: True\n",
      "(1943096400.0, 131, 0.0013153033, 5.0449758e-06, 0.437474, 0.9864448, 0.0136591345, 11846331000.0, 11845021000.0)\n",
      "Breaking after 131 iterations\n"
     ]
    }
   ],
   "source": [
    "\n",
    "\n",
    "i = 0\n",
    "cost_nan = False\n",
    "while gradnorm_val > eps:   \n",
    "#for k in range(20):\n",
    "    i = i + 1\n",
    "    F_v, gradnorm_val, alpha_val,theta_val, beta_val, cost_old_val, cost_val,inprod_grad_eta_val, _, _,_,_,_ = sess.run([loss, gradnorm_omega, alpha, theta, beta, cost_old, cost, inprod_grad_eta, cost_op.op, cost_old_op.op, train_step.op, eta_update_op.op, grad_update_op.op])\n",
    "    #eta_old_val, grad_update_val,_ = sess.run([eta_update_op, grad_update_op])\n",
    "    \n",
    "    print \"alpha_val: \" + str(alpha_val)\n",
    "    print \"inprod_grad_eta_val: \" + str(inprod_grad_eta_val)\n",
    "    \n",
    "    lr = alpha_val\n",
    "    cost_prev = cost_old_val\n",
    "    cost_new = cost_val\n",
    "    \n",
    "    print \"Cost New: \" +str(cost_new)\n",
    "    print \"Cost Old: \" +str(cost_prev)\n",
    "        \n",
    "    backtrackiter = 0\n",
    "\n",
    "    \n",
    "    armijo = (cost_new <= cost_prev + backtrack_const*(lr)*inprod_grad_eta_val)\n",
    "    print \"armijo: \" + str(armijo)\n",
    "    #while (cost_prev - cost_new) <= -backtrack_const*(-lr)*inprod_grad_eta_val:\n",
    "    while (not (cost_new <= cost_prev + backtrack_const*(lr)*inprod_grad_eta_val)):\n",
    "        \n",
    "        print \"Backtracking\"\n",
    "        lr = 0.5*lr\n",
    "        print \"Learning Rate: \" + str(lr)\n",
    "        sess.run(t3f.assign(X, t3f.round(X + lr * eta_t3f_old, max_tt_rank=63)).op)\n",
    "        x_new_val = sess.run(t3f.full(X))\n",
    "        x_new_val[mask_indices==0] = 0.0\n",
    "        \n",
    "        cost_new = loss_func(x_new_val, a_omega)\n",
    "        \n",
    "        if is_nan(cost_new):\n",
    "            cost_nan = True\n",
    "            break\n",
    "        \n",
    "        print \"Cost New: \" +str(cost_new)\n",
    "        print \"Cost Old: \" +str(cost_prev)\n",
    "        backtrackiter = backtrackiter + 1\n",
    "        print \"backtrackiter_count: \" + str(backtrackiter)\n",
    "    \n",
    "        if backtrackiter > 4:\n",
    "            print \"backtracing stopped after: \" + str(backtrackiter)\n",
    "            break\n",
    "    \n",
    "        if cost_nan:\n",
    "            print \"Cost is Nan. Breaking after \" + str(i) + \"; iterations\"\n",
    "            break\n",
    "        \n",
    "    train_loss_hist.append(gradnorm_val)\n",
    "    \n",
    "    if i > 1:\n",
    "        diff_train = np.abs(train_loss_hist[i - 1] - train_loss_hist[i-2])/np.abs(train_loss_hist[i-1])\n",
    "        print (F_v, i, gradnorm_val, diff_train, alpha_val, theta_val, beta_val, cost_old_val, cost_val)\n",
    "        if diff_train <= epsilon_train:\n",
    "            print \"Breaking after \" + str(i) + \" iterations\"\n",
    "            break\n",
    "    else:\n",
    "        print (F_v, i, gradnorm_val, alpha_val, theta_val, beta_val, cost_old_val, cost_val)\n",
    "    log.append(F_v)"
   ]
  },
  {
   "cell_type": "code",
   "execution_count": null,
   "metadata": {
    "collapsed": true
   },
   "outputs": [],
   "source": []
  },
  {
   "cell_type": "code",
   "execution_count": null,
   "metadata": {
    "collapsed": true
   },
   "outputs": [],
   "source": []
  },
  {
   "cell_type": "code",
   "execution_count": 93,
   "metadata": {},
   "outputs": [
    {
     "name": "stdout",
     "output_type": "stream",
     "text": [
      "Tensor(\"Maximum:0\", shape=(), dtype=float32)\n"
     ]
    }
   ],
   "source": [
    "print beta"
   ]
  },
  {
   "cell_type": "code",
   "execution_count": 94,
   "metadata": {
    "collapsed": true
   },
   "outputs": [],
   "source": [
    "#sess.run([eta_update_op.op, grad_update_op.op])"
   ]
  },
  {
   "cell_type": "code",
   "execution_count": 95,
   "metadata": {},
   "outputs": [
    {
     "name": "stdout",
     "output_type": "stream",
     "text": [
      "A Tensor Train variable of shape (53, 63, 46, 144), TT-ranks: (1, 53, 63, 63, 1)\n"
     ]
    }
   ],
   "source": [
    "print X"
   ]
  },
  {
   "cell_type": "code",
   "execution_count": 96,
   "metadata": {
    "collapsed": true
   },
   "outputs": [],
   "source": [
    "estimated_val = sess.run(t3f.full(X))"
   ]
  },
  {
   "cell_type": "code",
   "execution_count": 97,
   "metadata": {
    "collapsed": true
   },
   "outputs": [],
   "source": [
    "ground_truth_val = sess.run(ground_truth)\n"
   ]
  },
  {
   "cell_type": "code",
   "execution_count": 98,
   "metadata": {
    "collapsed": true
   },
   "outputs": [],
   "source": [
    "x_reconstr = mt.reconstruct(estimated_val,ground_truth_val, ten_ones, mask_indices)\n"
   ]
  },
  {
   "cell_type": "code",
   "execution_count": 99,
   "metadata": {
    "collapsed": true
   },
   "outputs": [],
   "source": [
    "def relative_error(x_hat,x_true):\n",
    "    percent_error = np.linalg.norm(x_hat - x_true) / np.linalg.norm(x_true)\n",
    "    return percent_error"
   ]
  },
  {
   "cell_type": "code",
   "execution_count": 100,
   "metadata": {
    "collapsed": true
   },
   "outputs": [],
   "source": [
    "rel_error = relative_error(estimated_val,ground_truth_val)"
   ]
  },
  {
   "cell_type": "code",
   "execution_count": 101,
   "metadata": {},
   "outputs": [
    {
     "name": "stdout",
     "output_type": "stream",
     "text": [
      "0.0033635478\n"
     ]
    }
   ],
   "source": [
    "print rel_error"
   ]
  },
  {
   "cell_type": "code",
   "execution_count": 102,
   "metadata": {
    "collapsed": true
   },
   "outputs": [],
   "source": [
    "rel_error_rec = relative_error(x_reconstr,ground_truth_val)"
   ]
  },
  {
   "cell_type": "code",
   "execution_count": 103,
   "metadata": {},
   "outputs": [
    {
     "data": {
      "text/plain": [
       "0.002663378162839579"
      ]
     },
     "execution_count": 103,
     "metadata": {},
     "output_type": "execute_result"
    }
   ],
   "source": [
    "rel_error_rec"
   ]
  },
  {
   "cell_type": "code",
   "execution_count": 104,
   "metadata": {
    "collapsed": true
   },
   "outputs": [],
   "source": [
    "x_miss_img = mt.reconstruct_image_affine(x_true_org, x_train)"
   ]
  },
  {
   "cell_type": "code",
   "execution_count": 105,
   "metadata": {
    "collapsed": true
   },
   "outputs": [],
   "source": [
    "x_miss = image.index_img(x_miss_img,1)"
   ]
  },
  {
   "cell_type": "code",
   "execution_count": 106,
   "metadata": {},
   "outputs": [
    {
     "data": {
      "image/png": "[encoded data removed]",
      "text/plain": [
       "<matplotlib.figure.Figure at 0x140a7fe10>"
      ]
     },
     "metadata": {},
     "output_type": "display_data"
    }
   ],
   "source": [
    "x_miss_image = plotting.plot_epi(x_miss, bg_img=None,black_bg=True, cmap='jet', cut_coords=None) "
   ]
  },
  {
   "cell_type": "code",
   "execution_count": 107,
   "metadata": {},
   "outputs": [
    {
     "data": {
      "image/png": "[encoded data removed]",
      "text/plain": [
       "<matplotlib.figure.Figure at 0x218dae0d0>"
      ]
     },
     "metadata": {},
     "output_type": "display_data"
    }
   ],
   "source": [
    "x_hat_img = mt.reconstruct_image_affine(x_true_org, x_reconstr)\n",
    "x_hat = image.index_img(x_hat_img,1)\n",
    "recovered_image = plotting.plot_epi(x_hat, bg_img=None,black_bg=True, cmap='jet', cut_coords=None)"
   ]
  },
  {
   "cell_type": "code",
   "execution_count": 108,
   "metadata": {},
   "outputs": [
    {
     "data": {
      "image/png": "[encoded data removed]",
      "text/plain": [
       "<matplotlib.figure.Figure at 0x14707a810>"
      ]
     },
     "metadata": {},
     "output_type": "display_data"
    }
   ],
   "source": [
    "x_true_org_img = image.index_img(x_true_org,1)\n",
    "org_image = plotting.plot_epi(x_true_org_img, bg_img=None,black_bg=True, cmap='jet', cut_coords=None)"
   ]
  },
  {
   "cell_type": "code",
   "execution_count": 109,
   "metadata": {},
   "outputs": [
    {
     "name": "stdout",
     "output_type": "stream",
     "text": [
      "('Saving figure', '/work/scratch/tt1/1/missing_ratio_60.00.png')\n",
      "Called from mrd\n"
     ]
    }
   ],
   "source": [
    "images_folder = \"/work/scratch/tt1/1\"\n",
    "mrd.draw_original_vs_reconstructed_rim(image.index_img(x_true_org,1),x_hat, image.index_img(x_miss_img,1), \"Rim Completion\",\n",
    "                                             rel_error_rec, observed_ratio, coord=None, folder=images_folder)"
   ]
  },
  {
   "cell_type": "code",
   "execution_count": 110,
   "metadata": {
    "collapsed": true
   },
   "outputs": [],
   "source": [
    "estimated_val_img = mt.reconstruct_image_affine(x_true_org, estimated_val)"
   ]
  },
  {
   "cell_type": "code",
   "execution_count": 111,
   "metadata": {
    "collapsed": true
   },
   "outputs": [],
   "source": [
    "estimated_val_hat = image.index_img(estimated_val_img,1)"
   ]
  },
  {
   "cell_type": "code",
   "execution_count": 112,
   "metadata": {},
   "outputs": [
    {
     "name": "stdout",
     "output_type": "stream",
     "text": [
      "('Saving figure', '/work/scratch/tt1/2/missing_ratio_60.00.png')\n",
      "Called from mrd\n"
     ]
    }
   ],
   "source": [
    "images_folder = \"/work/scratch/tt1/2\"\n",
    "mrd.draw_original_vs_reconstructed_rim(image.index_img(x_true_org,1),estimated_val_hat,image.index_img(x_miss_img,1), \"Rim Completion2\",\n",
    "                                             rel_error_rec, observed_ratio, coord=None, folder=images_folder)"
   ]
  },
  {
   "cell_type": "code",
   "execution_count": 113,
   "metadata": {
    "collapsed": true
   },
   "outputs": [],
   "source": [
    "def tsc(x_hat,x_true, ten_ones, mask):\n",
    "    nomin = np.linalg.norm(np.multiply((ten_ones - mask), (x_true - x_hat)))\n",
    "    denom = np.linalg.norm(np.multiply((ten_ones - mask), x_true))\n",
    "    score = nomin/denom\n",
    "    return score  "
   ]
  },
  {
   "cell_type": "code",
   "execution_count": 114,
   "metadata": {
    "collapsed": true
   },
   "outputs": [],
   "source": [
    "tsc_score = tsc(estimated_val,ground_truth_val, ten_ones, mask_indices)"
   ]
  },
  {
   "cell_type": "code",
   "execution_count": 115,
   "metadata": {},
   "outputs": [
    {
     "data": {
      "text/plain": [
       "0.0034381503974393163"
      ]
     },
     "execution_count": 115,
     "metadata": {},
     "output_type": "execute_result"
    }
   ],
   "source": [
    "tsc_score"
   ]
  },
  {
   "cell_type": "code",
   "execution_count": null,
   "metadata": {
    "collapsed": true
   },
   "outputs": [],
   "source": []
  }
 ],
 "metadata": {
  "kernelspec": {
   "display_name": "Python 2",
   "language": "python",
   "name": "python2"
  },
  "language_info": {
   "codemirror_mode": {
    "name": "ipython",
    "version": 2
   },
   "file_extension": ".py",
   "mimetype": "text/x-python",
   "name": "python",
   "nbconvert_exporter": "python",
   "pygments_lexer": "ipython2",
   "version": "2.7.13"
  }
 },
 "nbformat": 4,
 "nbformat_minor": 2
}
