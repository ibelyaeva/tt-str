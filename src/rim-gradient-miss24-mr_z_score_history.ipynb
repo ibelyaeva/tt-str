{
 "cells": [
  {
   "cell_type": "code",
   "execution_count": 1,
   "metadata": {},
   "outputs": [
    {
     "name": "stderr",
     "output_type": "stream",
     "text": [
      "/usr/local/lib/python2.7/site-packages/matplotlib/__init__.py:1405: UserWarning: \n",
      "This call to matplotlib.use() has no effect because the backend has already\n",
      "been chosen; matplotlib.use() must be called *before* pylab, matplotlib.pyplot,\n",
      "or matplotlib.backends is imported for the first time.\n",
      "\n",
      "  warnings.warn(_use_error_msg)\n"
     ]
    }
   ],
   "source": [
    "import tensorflow as tf\n",
    "import numpy as np\n",
    "import t3f\n",
    "tf.set_random_seed(0)\n",
    "np.random.seed(0)\n",
    "%matplotlib inline\n",
    "import matplotlib.pyplot as plt\n",
    "import metric_util as mt\n",
    "import data_util as du\n",
    "from t3f import shapes\n",
    "from nilearn import image\n",
    "from skimage.measure import compare_ssim as ssim\n",
    "from tensorflow.python.util import nest\n",
    "import copy\n",
    "from nilearn import plotting\n",
    "from t3f import ops\n",
    "import mri_draw_utils as mrd\n",
    "from t3f import initializers\n",
    "from t3f import approximate\n",
    "from scipy import optimize \n",
    "from nilearn.masking import compute_background_mask\n",
    "from nilearn.masking import compute_epi_mask\n",
    "from collections import OrderedDict\n",
    "import pandas as pd\n",
    "from scipy import stats\n",
    "from nilearn.image import math_img"
   ]
  },
  {
   "cell_type": "code",
   "execution_count": 2,
   "metadata": {
    "collapsed": true
   },
   "outputs": [],
   "source": [
    "#sess = tf.InteractiveSession()"
   ]
  },
  {
   "cell_type": "code",
   "execution_count": 3,
   "metadata": {
    "collapsed": true
   },
   "outputs": [],
   "source": [
    "def frobenius_norm_tf_squared(x):\n",
    "    return tf.reduce_sum(x ** 2)"
   ]
  },
  {
   "cell_type": "code",
   "execution_count": 4,
   "metadata": {
    "collapsed": true
   },
   "outputs": [],
   "source": [
    "def frobenius_norm_tf(x):\n",
    "    return tf.reduce_sum(x ** 2) ** 0.5"
   ]
  },
  {
   "cell_type": "code",
   "execution_count": 5,
   "metadata": {
    "collapsed": true
   },
   "outputs": [],
   "source": [
    "def relative_error1(x_hat,x_true):\n",
    "    percent_error = frobenius_norm_tf(x_hat - x_true) / frobenius_norm_tf(x_true)\n",
    "    return percent_error"
   ]
  },
  {
   "cell_type": "code",
   "execution_count": 6,
   "metadata": {
    "collapsed": true
   },
   "outputs": [],
   "source": [
    "def innerProduct(x, y):\n",
    "    result = tf.reduce_sum(tf.multiply(x, y))\n",
    "    return result"
   ]
  },
  {
   "cell_type": "code",
   "execution_count": 7,
   "metadata": {
    "collapsed": true
   },
   "outputs": [],
   "source": [
    "def compute_step_size(n_omega, grad):\n",
    "    result = -innerProduct(n_omega,grad)/(innerProduct(n_omega, n_omega))\n",
    "    return result"
   ]
  },
  {
   "cell_type": "code",
   "execution_count": 8,
   "metadata": {
    "collapsed": true
   },
   "outputs": [],
   "source": [
    "def draw(omega, x_true, x_hat, rel_error):\n",
    "    images_folder = \"/work/scratch/tt3\"\n",
    "    ten_ones = np.ones_like(omega)\n",
    "    x_reconstr1 = mt.reconstruct2(x_hat,ground_truth, omega)\n",
    "    x_hat_img = mt.reconstruct_image_affine(x_true_org, x_reconstr1)\n",
    "    x_hat_est = image.index_img(x_hat_img,1)\n",
    "    \n",
    "    x_true_org_img = image.index_img(x_true,1)\n",
    "    x_miss_img = mt.reconstruct_image_affine(x_true_org, x_train)\n",
    "    x_miss = image.index_img(x_miss_img,1)\n",
    "    mrd.draw_original_vs_reconstructed_rim(x_true_org_img,x_hat_est, x_miss, \"Rim Completion\",\n",
    "                                             rel_error, observed_ratio, coord=None, folder=images_folder)"
   ]
  },
  {
   "cell_type": "code",
   "execution_count": 9,
   "metadata": {},
   "outputs": [
    {
     "name": "stdout",
     "output_type": "stream",
     "text": [
      "Subject Path: /work/pl/sch/analysis/data/COBRE001/swaAMAYER+cobre01_63001+M87100944+20110309at135133+RSTpre_V01_R01+CM.nii\n"
     ]
    }
   ],
   "source": [
    "subject_scan_path = du.get_full_path_subject1()\n",
    "print \"Subject Path: \" + str(subject_scan_path)\n",
    "x_true_org = mt.read_image_abs_path(subject_scan_path)\n"
   ]
  },
  {
   "cell_type": "code",
   "execution_count": 10,
   "metadata": {
    "collapsed": true
   },
   "outputs": [],
   "source": [
    "def get_mask(data, observed_ratio):\n",
    "    \n",
    "    if len(data.shape) == 3:\n",
    "        mask_indices = (np.random.rand(data.shape[0],data.shape[1],data.shape[2]) < observed_ratio).astype('int') \n",
    "    elif len(data.shape) == 4:\n",
    "        mask_indices = (np.random.rand(data.shape[0],data.shape[1],data.shape[2], data.shape[3]) < observed_ratio).astype('int') \n",
    "    elif len(data.shape) == 2:\n",
    "        mask_indices = (np.random.rand(data.shape[0],data.shape[1]) < observed_ratio).astype('int') \n",
    "    \n",
    "    return mask_indices"
   ]
  },
  {
   "cell_type": "code",
   "execution_count": 11,
   "metadata": {
    "collapsed": true
   },
   "outputs": [],
   "source": [
    "def tsc(x_hat,x_true, ten_ones, mask):\n",
    "    nomin = np.linalg.norm(np.multiply((ten_ones - mask), (x_true - x_hat)))\n",
    "    denom = np.linalg.norm(np.multiply((ten_ones - mask), x_true))\n",
    "    score = nomin/denom\n",
    "    return score "
   ]
  },
  {
   "cell_type": "code",
   "execution_count": 12,
   "metadata": {
    "collapsed": true
   },
   "outputs": [],
   "source": [
    "x_true_img = np.array(x_true_org.get_data())\n",
    "\n",
    "mask_img = compute_epi_mask(x_true_org)\n",
    "mask_img_data = np.array(mask_img.get_data())\n",
    "\n",
    "observed_ratio = 0.4\n",
    "missing_ratio = 1 - observed_ratio\n",
    "\n",
    "mask_indices = get_mask(x_true_img, observed_ratio)\n",
    "epi_mask = copy.deepcopy(mask_img_data)\n",
    "    \n",
    "mask_indices[epi_mask==0] = 1\n",
    "\n",
    "\n",
    "\n",
    "#x_true_img = np.array(x_true_org.get_data())\n",
    "\n",
    "norm_ground_truth = np.linalg.norm(x_true_img)\n",
    "x_true_img = x_true_img * (1./norm_ground_truth)\n",
    "\n",
    "#mask_indices = (np.random.rand(x_true_img.shape[0],x_true_img.shape[1],x_true_img.shape[2], x_true_img.shape[3]) < observed_ratio).astype('int') \n",
    "ten_ones = np.ones_like(mask_indices)\n",
    "x_train = copy.deepcopy(x_true_img)\n",
    "x_train[mask_indices==0] = 0.0\n",
    "#x_train[mask_indices == 0] = np.mean(x_train[mask_indices == 1])\n",
    "#x_train[mask_indices == 0] = np.mean(x_train[mask_indices == 1])\n",
    "\n",
    "x_init = copy.deepcopy(x_train)\n",
    "#shape = (1, 53, 63, 63, 1)\n",
    "#x_init_tf = t3f.random_tensor(shape, tt_rank=63)\n",
    "\n",
    "\n",
    "ground_truth = copy.deepcopy(x_true_img)\n",
    "ground_truth_x = copy.deepcopy(x_true_img)\n",
    "a_omega = copy.deepcopy(ground_truth)\n",
    "a_omega[mask_indices==0] = 0.0\n",
    "\n",
    "sparse_observation = copy.deepcopy(ground_truth)\n",
    "sparse_observation[mask_indices==0] = 0.0\n",
    "\n",
    "\n",
    "x_init1 = np.random.rand(53, 63, 46, 144).astype('float32')\n",
    "norm_ground_x_init1 = np.linalg.norm(x_init1)\n",
    "x_init1 = x_true_img * (1./norm_ground_x_init1)"
   ]
  },
  {
   "cell_type": "code",
   "execution_count": 13,
   "metadata": {},
   "outputs": [
    {
     "data": {
      "text/plain": [
       "74916430.0"
      ]
     },
     "execution_count": 13,
     "metadata": {},
     "output_type": "execute_result"
    }
   ],
   "source": [
    "norm_ground_truth"
   ]
  },
  {
   "cell_type": "code",
   "execution_count": 157,
   "metadata": {},
   "outputs": [
    {
     "name": "stdout",
     "output_type": "stream",
     "text": [
      "mask_z_indices_count: 687217\n"
     ]
    }
   ],
   "source": [
    "std_img = math_img(\"np.std(img)\", img=x_true_org)\n",
    "mean_img = image.mean_img(x_true_org)\n",
    "z_scored_image = math_img(\"(yt - np.mean(yt))/np.std(yt)\", yt=x_true_org)\n",
    "ground_truth_z_score = stats.zscore(z_scored_image.get_data())\n",
    "mask_z_score_indices = (abs(ground_truth_z_score) > 2).astype('int') \n",
    "mask_z_indices_count = np.count_nonzero(mask_z_score_indices==1)\n",
    "print \"mask_z_indices_count: \" + str(mask_z_indices_count)"
   ]
  },
  {
   "cell_type": "code",
   "execution_count": 14,
   "metadata": {
    "collapsed": true
   },
   "outputs": [],
   "source": [
    "folder = '/work/rs1/'"
   ]
  },
  {
   "cell_type": "code",
   "execution_count": 15,
   "metadata": {},
   "outputs": [
    {
     "data": {
      "image/png": "[encoded data removed]",
      "text/plain": [
       "<matplotlib.figure.Figure at 0x1042c5490>"
      ]
     },
     "metadata": {},
     "output_type": "display_data"
    }
   ],
   "source": [
    "x_org = mt.reconstruct_image_affine(x_true_org, x_true_img)\n",
    "x_org_img = image.index_img(x_org,1)\n",
    "#x_true_org_img = image.index_img(x_true_org,1)\n",
    "org_image = plotting.plot_epi(x_org_img, bg_img=None,black_bg=True, cmap='jet', cut_coords=None)"
   ]
  },
  {
   "cell_type": "code",
   "execution_count": 16,
   "metadata": {
    "collapsed": true
   },
   "outputs": [],
   "source": [
    "ten_ones = np.ones_like(mask_indices)\n"
   ]
  },
  {
   "cell_type": "code",
   "execution_count": 17,
   "metadata": {
    "collapsed": true
   },
   "outputs": [],
   "source": [
    "x_reconstr_init = mt.reconstruct2(x_init1,ground_truth, mask_indices)"
   ]
  },
  {
   "cell_type": "code",
   "execution_count": 18,
   "metadata": {
    "collapsed": true
   },
   "outputs": [],
   "source": [
    "tsc_score_init = tsc(x_reconstr_init,ground_truth, ten_ones, mask_indices).astype('float32')"
   ]
  },
  {
   "cell_type": "code",
   "execution_count": 19,
   "metadata": {},
   "outputs": [
    {
     "name": "stdout",
     "output_type": "stream",
     "text": [
      "0.9996317\n"
     ]
    }
   ],
   "source": [
    "print tsc_score_init"
   ]
  },
  {
   "cell_type": "code",
   "execution_count": 20,
   "metadata": {},
   "outputs": [
    {
     "name": "stdout",
     "output_type": "stream",
     "text": [
      "0.6735154\n"
     ]
    }
   ],
   "source": [
    "norm_sparse_observation = np.linalg.norm(sparse_observation)\n",
    "print norm_sparse_observation"
   ]
  },
  {
   "cell_type": "code",
   "execution_count": 21,
   "metadata": {
    "collapsed": true
   },
   "outputs": [],
   "source": [
    "denom_tsc = np.linalg.norm((1.0 - mask_indices) * x_true_img)"
   ]
  },
  {
   "cell_type": "code",
   "execution_count": 22,
   "metadata": {},
   "outputs": [
    {
     "name": "stdout",
     "output_type": "stream",
     "text": [
      "0.7393395055523114\n"
     ]
    }
   ],
   "source": [
    "print denom_tsc"
   ]
  },
  {
   "cell_type": "code",
   "execution_count": 23,
   "metadata": {},
   "outputs": [
    {
     "name": "stdout",
     "output_type": "stream",
     "text": [
      "[1, 53, 1, 1, 1] 0 (1, 53, 53)\n",
      "[1, 53, 63, 1, 1] 1 (53, 63, 63)\n",
      "[1, 53, 63, 63, 1] 2 (63, 46, 63)\n",
      "ranks: [1, 53, 63, 63, 1]\n"
     ]
    }
   ],
   "source": [
    "mask_indices_tf = t3f.to_tt_tensor(mask_indices.astype('float32'), max_tt_rank=63)"
   ]
  },
  {
   "cell_type": "code",
   "execution_count": 24,
   "metadata": {
    "collapsed": true
   },
   "outputs": [],
   "source": [
    "#x_miss_img = mt.reconstruct_image_affine(x_true_org, x_train*norm_ground_truth)\n",
    "x_miss_img = mt.reconstruct_image_affine(x_true_org, x_train)"
   ]
  },
  {
   "cell_type": "code",
   "execution_count": 25,
   "metadata": {
    "collapsed": true
   },
   "outputs": [],
   "source": [
    "x_miss = norm_ground_truth*x_train"
   ]
  },
  {
   "cell_type": "code",
   "execution_count": 26,
   "metadata": {
    "collapsed": true
   },
   "outputs": [],
   "source": [
    "x_miss = image.index_img(x_miss_img,1)"
   ]
  },
  {
   "cell_type": "code",
   "execution_count": 27,
   "metadata": {},
   "outputs": [
    {
     "data": {
      "image/png": "[encoded data removed]",
      "text/plain": [
       "<matplotlib.figure.Figure at 0x1042c7e10>"
      ]
     },
     "metadata": {},
     "output_type": "display_data"
    }
   ],
   "source": [
    "x_miss_image = plotting.plot_epi(x_miss, bg_img=None,black_bg=True, cmap='jet', cut_coords=[1, -13, 32]) "
   ]
  },
  {
   "cell_type": "code",
   "execution_count": 28,
   "metadata": {},
   "outputs": [
    {
     "name": "stdout",
     "output_type": "stream",
     "text": [
      "('Saving figure', '/work/scratch/tt3/missing_ratio_60.00.png')\n",
      "Called from mrd\n"
     ]
    }
   ],
   "source": [
    "images_folder = \"/work/scratch/tt3\"\n",
    "mrd.draw_original_vs_reconstructed_rim(image.index_img(x_true_org,1),image.index_img(x_miss_img,1), image.index_img(x_miss_img,1), \"Rim Completion\",\n",
    "                                             observed_ratio, observed_ratio, coord=None, folder=images_folder)"
   ]
  },
  {
   "cell_type": "code",
   "execution_count": 29,
   "metadata": {},
   "outputs": [
    {
     "name": "stdout",
     "output_type": "stream",
     "text": [
      "Missing Ratio: 0.6\n",
      "x_true_path:/work/rs1/x_true_img_60\n"
     ]
    }
   ],
   "source": [
    "import nibabel as nib\n",
    "import os\n",
    "\n",
    "suffix = int(round((missing_ratio)*100.0, 0))\n",
    "print \"Missing Ratio: \" + str(missing_ratio)\n",
    "x_true_path = os.path.join(folder,\"x_true_img_\" + str(suffix))\n",
    "x_miss_path = os.path.join(folder,\"x_miss_img_\" + str(suffix))\n",
    "        \n",
    "print(\"x_true_path:\" + str(x_true_path))\n",
    "nib.save(x_true_org, x_true_path)\n",
    "nib.save(x_miss_img, x_miss_path)"
   ]
  },
  {
   "cell_type": "code",
   "execution_count": null,
   "metadata": {
    "collapsed": true
   },
   "outputs": [],
   "source": []
  },
  {
   "cell_type": "code",
   "execution_count": 30,
   "metadata": {},
   "outputs": [
    {
     "name": "stdout",
     "output_type": "stream",
     "text": [
      "[1, 53, 1, 1, 1] 0 (1, 53, 53)\n",
      "[1, 53, 63, 1, 1] 1 (53, 63, 63)\n",
      "[1, 53, 63, 63, 1] 2 (63, 46, 63)\n",
      "ranks: [1, 53, 63, 63, 1]\n"
     ]
    }
   ],
   "source": [
    "ground_truth_tf = t3f.to_tt_tensor(ground_truth, max_tt_rank=63)"
   ]
  },
  {
   "cell_type": "code",
   "execution_count": 31,
   "metadata": {
    "collapsed": true
   },
   "outputs": [],
   "source": [
    "A = t3f.get_variable('A', initializer=ground_truth_tf, trainable=False)"
   ]
  },
  {
   "cell_type": "code",
   "execution_count": 32,
   "metadata": {
    "collapsed": true
   },
   "outputs": [],
   "source": [
    "ground_truth = tf.get_variable('ground_truth', initializer=ground_truth, trainable=False)\n",
    "sparsity_mask = tf.get_variable('sparsity_mask', initializer=mask_indices, trainable=False)\n",
    "sparsity_mask = tf.cast(sparsity_mask,tf.float32)\n",
    "sparse_observation = ground_truth * sparsity_mask"
   ]
  },
  {
   "cell_type": "code",
   "execution_count": 33,
   "metadata": {
    "collapsed": true
   },
   "outputs": [],
   "source": [
    "#sparsity_mask = t3f.get_variable('sparsity_mask', initializer=mask_indices_tf, trainable=False)\n",
    "#sparsity_mask = t3f.cast(sparsity_mask, tf.float32)\n",
    "#sparse_observation_tf = t3f.to_tt_tensor(sparse_observation, max_tt_rank=63)\n",
    "#sparse_observation_tf3 = t3f.get_variable('sparse_observation_tf', initializer=sparse_observation_tf, trainable=False)"
   ]
  },
  {
   "cell_type": "code",
   "execution_count": 34,
   "metadata": {
    "collapsed": true
   },
   "outputs": [],
   "source": [
    "shape  =  (53, 63, 46, 144)"
   ]
  },
  {
   "cell_type": "code",
   "execution_count": null,
   "metadata": {
    "collapsed": true
   },
   "outputs": [],
   "source": [
    "\n"
   ]
  },
  {
   "cell_type": "code",
   "execution_count": 35,
   "metadata": {},
   "outputs": [
    {
     "name": "stdout",
     "output_type": "stream",
     "text": [
      "[1, 53, 1, 1, 1] 0 (1, 53, 53)\n",
      "[1, 53, 63, 1, 1] 1 (53, 63, 63)\n",
      "[1, 53, 63, 63, 1] 2 (63, 46, 63)\n",
      "ranks: [1, 53, 63, 63, 1]\n"
     ]
    }
   ],
   "source": [
    "x_train_tf = t3f.to_tt_tensor(x_init1, max_tt_rank=63)"
   ]
  },
  {
   "cell_type": "code",
   "execution_count": 36,
   "metadata": {
    "collapsed": true
   },
   "outputs": [],
   "source": [
    "#x_train_tf = t3f.random_tensor(shape, tt_rank=63)"
   ]
  },
  {
   "cell_type": "code",
   "execution_count": 37,
   "metadata": {
    "collapsed": true
   },
   "outputs": [],
   "source": [
    "normAOmegavar = tf.get_variable('normAOmega', initializer=norm_sparse_observation, trainable=False)"
   ]
  },
  {
   "cell_type": "code",
   "execution_count": 38,
   "metadata": {
    "collapsed": true
   },
   "outputs": [],
   "source": [
    "X = t3f.get_variable('X', initializer=x_train_tf)"
   ]
  },
  {
   "cell_type": "code",
   "execution_count": 39,
   "metadata": {
    "collapsed": true
   },
   "outputs": [],
   "source": [
    "X_new = t3f.get_variable('X_new', initializer=x_train_tf)"
   ]
  },
  {
   "cell_type": "code",
   "execution_count": null,
   "metadata": {
    "collapsed": true
   },
   "outputs": [],
   "source": []
  },
  {
   "cell_type": "code",
   "execution_count": null,
   "metadata": {
    "collapsed": true
   },
   "outputs": [],
   "source": []
  },
  {
   "cell_type": "code",
   "execution_count": 40,
   "metadata": {},
   "outputs": [
    {
     "name": "stdout",
     "output_type": "stream",
     "text": [
      "A Tensor Train variable of shape (53, 63, 46, 144), TT-ranks: (1, 53, 63, 63, 1)\n"
     ]
    }
   ],
   "source": [
    "print X"
   ]
  },
  {
   "cell_type": "code",
   "execution_count": 41,
   "metadata": {
    "collapsed": true
   },
   "outputs": [],
   "source": [
    "def train_it_rel_cost(cost_hist, k):\n",
    "    res = np.abs(cost_hist[k] - cost_hist[k-1])/np.abs(cost_hist[k])\n",
    "    return res"
   ]
  },
  {
   "cell_type": "code",
   "execution_count": 42,
   "metadata": {
    "collapsed": true
   },
   "outputs": [],
   "source": [
    "counter = tf.get_variable('counter', initializer=0)"
   ]
  },
  {
   "cell_type": "code",
   "execution_count": 43,
   "metadata": {
    "collapsed": true
   },
   "outputs": [],
   "source": [
    "one = tf.constant(1)\n",
    "zero_point1 = tf.constant(0.1)"
   ]
  },
  {
   "cell_type": "code",
   "execution_count": 44,
   "metadata": {
    "collapsed": true
   },
   "outputs": [],
   "source": [
    "tf_ones = tf.get_variable('tf_ones', initializer=ten_ones, trainable=False)\n",
    "tf_ones = tf.cast(tf_ones,tf.float32)\n"
   ]
  },
  {
   "cell_type": "code",
   "execution_count": 45,
   "metadata": {},
   "outputs": [
    {
     "name": "stdout",
     "output_type": "stream",
     "text": [
      "Tensor(\"Cast_1:0\", shape=(53, 63, 46, 144), dtype=float32)\n"
     ]
    }
   ],
   "source": [
    "print tf_ones"
   ]
  },
  {
   "cell_type": "code",
   "execution_count": 46,
   "metadata": {
    "collapsed": true
   },
   "outputs": [],
   "source": [
    "tt_zeros = initializers.tensor_zeros([53, 63, 46, 144])"
   ]
  },
  {
   "cell_type": "code",
   "execution_count": 47,
   "metadata": {
    "collapsed": true
   },
   "outputs": [],
   "source": [
    "denom_tsc_tf = tf.get_variable('denom_tsc_tf', initializer=denom_tsc, trainable=False)\n",
    "denom_tsc_tf = tf.cast(denom_tsc_tf,tf.float32)"
   ]
  },
  {
   "cell_type": "code",
   "execution_count": null,
   "metadata": {
    "collapsed": true
   },
   "outputs": [],
   "source": []
  },
  {
   "cell_type": "code",
   "execution_count": 48,
   "metadata": {
    "collapsed": true
   },
   "outputs": [],
   "source": [
    "#eta_t3f_old = t3f.get_variable('eta_t3f_old', initializer=tt_zeros)\n",
    "#grad_t3f_old = t3f.get_variable('grad_t3f_old', initializer=tt_zeros)"
   ]
  },
  {
   "cell_type": "code",
   "execution_count": 49,
   "metadata": {
    "collapsed": true
   },
   "outputs": [],
   "source": [
    "eta_old = tf.get_variable('eta_old', shape = (53, 63, 46, 144), validate_shape=False)\n",
    "grad_old = tf.get_variable('grad_old', shape = (53, 63, 46, 144), validate_shape=False)"
   ]
  },
  {
   "cell_type": "code",
   "execution_count": 50,
   "metadata": {
    "collapsed": true
   },
   "outputs": [],
   "source": [
    "one = tf.constant(1)\n",
    "zero_point1 = tf.constant(0.1)"
   ]
  },
  {
   "cell_type": "code",
   "execution_count": 51,
   "metadata": {
    "collapsed": true
   },
   "outputs": [],
   "source": [
    "\n",
    "\n",
    "def gradient(x):\n",
    "    return np.multiply(x,mask_indices) - a_omega\n",
    "    \n",
    "def cost_func(x):\n",
    "    return 0.5*(np.linalg.norm(np.multiply(x,mask_indices)-a_omega)** 2)\n",
    "\n",
    "def find_step_size(x,g,d, old_cost):\n",
    "    step_size = optimize.line_search(cost_func,gradient,x,d,gfk=None, old_fval=old_cost)"
   ]
  },
  {
   "cell_type": "code",
   "execution_count": 52,
   "metadata": {
    "collapsed": true
   },
   "outputs": [],
   "source": [
    "# Algorithm\n",
    "#grad_full = (t3f.full(X)*t3f.full(sparse_observation_tf3) - t3f.full(sparse_observation_tf3))\n",
    "#counter_step = tf.assign(counter, counter + 1)\n",
    "\n",
    "#grad_trans = t3f.riemannian.project(grad_t3f_old, X)\n",
    "#eta_trans = t3f.riemannian.project(eta_t3f_old, X)\n",
    "    \n",
    "#grad_full = sparsity_mask * t3f.full(X) - sparse_observation\n",
    "#grad_t3f = t3f.to_tt_tensor(grad_full, max_tt_rank=63)\n",
    "\n",
    "#loss = 0.5 * t3f.frobenius_norm_squared(grad_t3f)\n",
    "#gradnorm_omega = t3f.frobenius_norm(grad_t3f)/(normAOmegavar)\n",
    "\n",
    "#riemannian_grad = t3f.riemannian.project(grad_t3f, X)\n",
    "\n",
    "\n",
    "#eta_omega = sparsity_mask * t3f.full(-riemannian_grad)\n",
    "#alpha = compute_step_size(eta_omega, grad_full)\n",
    "\n",
    "\n",
    "\n",
    "#riemannian_grad_norm = t3f.flat_inner(riemannian_grad, riemannian_grad)\n",
    "\n",
    "\n",
    "\n",
    "#rel_error1 = relative_error1(t3f.full(X), t3f.full(sparse_observation))\n",
    "\n",
    "\n"
   ]
  },
  {
   "cell_type": "code",
   "execution_count": 53,
   "metadata": {
    "collapsed": true
   },
   "outputs": [],
   "source": [
    "eps = 1e-5\n",
    "epsilon_train=1e-4"
   ]
  },
  {
   "cell_type": "code",
   "execution_count": 54,
   "metadata": {
    "collapsed": true
   },
   "outputs": [],
   "source": [
    "#print grad_full"
   ]
  },
  {
   "cell_type": "code",
   "execution_count": 55,
   "metadata": {
    "collapsed": true
   },
   "outputs": [],
   "source": [
    "#print grad_t3f"
   ]
  },
  {
   "cell_type": "code",
   "execution_count": 56,
   "metadata": {},
   "outputs": [
    {
     "name": "stdout",
     "output_type": "stream",
     "text": [
      "1e-05\n"
     ]
    }
   ],
   "source": [
    "print eps"
   ]
  },
  {
   "cell_type": "code",
   "execution_count": 57,
   "metadata": {
    "collapsed": true
   },
   "outputs": [],
   "source": [
    "#alpha = 0.3\n"
   ]
  },
  {
   "cell_type": "code",
   "execution_count": 58,
   "metadata": {
    "collapsed": true
   },
   "outputs": [],
   "source": [
    "#sess = tf.Session()\n",
    "#sess.run(tf.global_variables_initializer())"
   ]
  },
  {
   "cell_type": "code",
   "execution_count": 59,
   "metadata": {
    "collapsed": true
   },
   "outputs": [],
   "source": [
    "def compute_loss(x):\n",
    "    return 0.5*frobenius_norm_tf_squared(sparsity_mask * t3f.full(x) - sparse_observation)"
   ]
  },
  {
   "cell_type": "code",
   "execution_count": 60,
   "metadata": {
    "collapsed": true
   },
   "outputs": [],
   "source": [
    "def reconstruct_tf(x_hat):\n",
    "    x_reconstruct = sparse_observation + (tf_ones - sparsity_mask)*x_hat\n",
    "    return x_reconstruct"
   ]
  },
  {
   "cell_type": "code",
   "execution_count": null,
   "metadata": {
    "collapsed": true
   },
   "outputs": [],
   "source": [
    " "
   ]
  },
  {
   "cell_type": "code",
   "execution_count": 61,
   "metadata": {
    "collapsed": true
   },
   "outputs": [],
   "source": [
    "def tsc_tf(x_hat,x_true_omega, mask):\n",
    "    x_rec = reconstruct_tf(x_hat)\n",
    "    nomin = frobenius_norm_tf((tf_ones - sparsity_mask)*(x_rec - sparse_observation))\n",
    "    #denom = frobenius_norm_tf(tf.multiply(tf_ones - sparsity_mask),(sparse_observation))\n",
    "    score = nomin/denom_tsc_tf\n",
    "    return score  \n"
   ]
  },
  {
   "cell_type": "code",
   "execution_count": null,
   "metadata": {
    "collapsed": true
   },
   "outputs": [],
   "source": []
  },
  {
   "cell_type": "code",
   "execution_count": null,
   "metadata": {
    "collapsed": true
   },
   "outputs": [],
   "source": []
  },
  {
   "cell_type": "code",
   "execution_count": 62,
   "metadata": {
    "collapsed": true
   },
   "outputs": [],
   "source": [
    "#first step"
   ]
  },
  {
   "cell_type": "code",
   "execution_count": 63,
   "metadata": {},
   "outputs": [
    {
     "name": "stdout",
     "output_type": "stream",
     "text": [
      "[1, 53, 1, 1, 1] 0 (1, 53, 53)\n",
      "[1, 53, 63, 1, 1] 1 (53, 63, 63)\n",
      "[1, 53, 63, 63, 1] 2 (63, 46, 63)\n",
      "ranks: [1, 53, 63, 63, 1]\n",
      "Max_TT rank63\n",
      "[1, 53, 63, 63, 1]\n",
      "Max_TT rank63\n",
      "[1, 53, 63, 63, 1]\n"
     ]
    }
   ],
   "source": [
    "zero_point1 = tf.constant(0.1)\n",
    "backtack_const = tf.constant(1e-4)\n",
    "\n",
    "initial_cost = compute_loss(X)\n",
    "cost = tf.get_variable('cost', initializer=initial_cost)\n",
    "cost_new = tf.get_variable('cost_new', initializer=0.0)\n",
    "\n",
    "#tsc_score_curr = tsc_tf(t3f.full(X),ground_truth, sparse_observation)\n",
    "completion_score = tf.get_variable('completion_score', initializer=tsc_score_init, dtype = tf.float32)\n",
    "\n",
    "grad_full_0 = sparsity_mask * t3f.full(X) - sparse_observation\n",
    "grad_t3f_0 = t3f.to_tt_tensor(grad_full_0, max_tt_rank=63)\n",
    "\n",
    "gradnorm_omega_0 = t3f.frobenius_norm(grad_t3f_0)/(normAOmegavar)\n",
    "riemannian_grad_0 = t3f.riemannian.project(grad_t3f_0, X)\n",
    "riemannian_grad_0 = t3f.round(riemannian_grad_0, max_tt_rank =63, epsilon = 1e-15)\n",
    "\n",
    "grad_t3f_old = t3f.get_variable('grad_t3f_old', initializer=riemannian_grad_0)\n",
    "\n",
    "#grad_t3f_old_op = t3f.assign(grad_t3f_old, riemannian_grad_0, validate_shape=False)\n",
    "riemannian_grad_full_0 = t3f.full(riemannian_grad_0)\n",
    "riemannian_grad_init_op = tf.assign(grad_old,riemannian_grad_full_0)\n",
    "\n",
    "eta_t3f_0 = -riemannian_grad_0\n",
    "eta_t3f_old = t3f.get_variable('eta_t3f_old', initializer=eta_t3f_0)\n",
    "\n",
    "eta_0 = -riemannian_grad_init_op\n",
    "eta_omega_0 = sparsity_mask * t3f.full(-riemannian_grad_0)\n",
    "\n",
    "alpha_0 = compute_step_size(eta_omega_0, riemannian_grad_init_op)\n",
    "eta_op_0 = tf.assign(eta_old,eta_0, validate_shape=False)\n",
    "\n",
    "eta_norm = tf.get_variable('eta_norm', initializer=0.0)\n",
    "eta_norm_init_op = tf.assign(eta_norm, frobenius_norm_tf(eta_op_0))\n",
    "\n",
    "alpha_old = tf.get_variable('alpha_old', initializer=0.0)\n",
    "\n",
    "train_step_0 = t3f.assign(X, t3f.round(X - alpha_0 * eta_t3f_0, max_tt_rank=63))\n",
    "\n"
   ]
  },
  {
   "cell_type": "code",
   "execution_count": 64,
   "metadata": {},
   "outputs": [
    {
     "name": "stdout",
     "output_type": "stream",
     "text": [
      "Rim 0:A Tensor Train of shape (53, 63, 46, 144), TT-ranks: (1, 53, 63, 63, 1)\n"
     ]
    }
   ],
   "source": [
    "print \"Rim 0:\" + str(riemannian_grad_0)"
   ]
  },
  {
   "cell_type": "code",
   "execution_count": 65,
   "metadata": {},
   "outputs": [
    {
     "name": "stdout",
     "output_type": "stream",
     "text": [
      "Eta 0: A Tensor Train of shape (53, 63, 46, 144), TT-ranks: (1, 53, 63, 63, 1)\n"
     ]
    }
   ],
   "source": [
    "print \"Eta 0: \" + str(eta_t3f_0)"
   ]
  },
  {
   "cell_type": "code",
   "execution_count": 66,
   "metadata": {
    "collapsed": true
   },
   "outputs": [],
   "source": [
    "#tt = t3f.round(eta_t3f_old, max_tt_rank =63, epsilon = 1e-15"
   ]
  },
  {
   "cell_type": "code",
   "execution_count": null,
   "metadata": {
    "collapsed": true
   },
   "outputs": [],
   "source": []
  },
  {
   "cell_type": "code",
   "execution_count": null,
   "metadata": {
    "collapsed": true
   },
   "outputs": [],
   "source": []
  },
  {
   "cell_type": "code",
   "execution_count": 67,
   "metadata": {
    "collapsed": true
   },
   "outputs": [],
   "source": [
    "# new\n",
    "#t3f.assign(eta_t3f_old, t3f.round(eta_t3f_old, max_tt_rank =63, epsilon = 1e-15))\n"
   ]
  },
  {
   "cell_type": "code",
   "execution_count": 68,
   "metadata": {},
   "outputs": [
    {
     "name": "stdout",
     "output_type": "stream",
     "text": [
      "[1, 53, 1, 1, 1] 0 (1, 53, 53)\n",
      "[1, 53, 63, 1, 1] 1 (53, 63, 63)\n",
      "[1, 53, 63, 63, 1] 2 (63, 46, 63)\n",
      "ranks: [1, 53, 63, 63, 1]\n",
      "Max_TT rank63\n",
      "[1, 53, 63, 63, 1]\n",
      "Rim Grad shape: A Tensor Train of shape (53, 63, 46, 144), TT-ranks: (1, 53, 63, 63, 1)\n",
      "eta_trans: A Tensor Train of shape (53, 63, 46, 144), TT-ranks: (1, 106, 126, 126, 1)\n",
      "steepest descent\n",
      "conjugate gradient\n",
      "Max_TT rank63\n",
      "[1, 53, 63, 63, 1]\n",
      "[1, 53, 1, 1, 1] 0 (1, 53, 53)\n",
      "[1, 53, 63, 1, 1] 1 (53, 63, 63)\n",
      "[1, 53, 63, 63, 1] 2 (63, 46, 63)\n",
      "ranks: [1, 53, 63, 63, 1]\n",
      "eta: A Tensor Train of shape (53, 63, 46, 144), TT-ranks: (1, 53, 63, 63, 1)\n"
     ]
    }
   ],
   "source": [
    "counter_step = tf.assign(counter, counter + 1)\n",
    "\n",
    "grad_trans = t3f.riemannian.project(grad_t3f_old, X)\n",
    "eta_trans = t3f.riemannian.project(eta_t3f_old, X)\n",
    "    \n",
    "grad_full = sparsity_mask * t3f.full(X) - sparse_observation\n",
    "grad_t3f = t3f.to_tt_tensor(grad_full, max_tt_rank=63)\n",
    "\n",
    "\n",
    "loss = 0.5 * t3f.frobenius_norm_squared(grad_t3f)\n",
    "gradnorm_omega = t3f.frobenius_norm(grad_t3f)/(normAOmegavar)\n",
    "\n",
    "riemannian_grad =  t3f.round(t3f.riemannian.project(grad_t3f, X),max_tt_rank =63)\n",
    "#riemannian_grad = t3f.round(riemannian_grad, max_tt_rank =63, epsilon = 1e-15)\n",
    "riemannian_grad_norm = t3f.frobenius_norm(riemannian_grad)\n",
    "\n",
    "inner_product_rim_grad = t3f.flat_inner(riemannian_grad, riemannian_grad)\n",
    "ip_xitrans_xi = t3f.flat_inner(grad_trans,riemannian_grad)\n",
    "theta = ip_xitrans_xi / inner_product_rim_grad\n",
    "\n",
    "def get_theta():\n",
    "    return t3f.full(ip_xitrans_xi / inner_product_rim_grad)\n",
    "\n",
    "def get_value_zero_point1():\n",
    "    return zero_point1\n",
    "    \n",
    "def get_conj_dir():\n",
    "    print \"conjugate gradient\"\n",
    "    tf.Print(zero_point1,[zero_point1],message=\"conjugate gradient\")\n",
    "    return t3f.full(approximate.add_n([-riemannian_grad, beta*eta_trans], max_tt_rank=63))\n",
    "\n",
    "def get_rim_grad():\n",
    "    print \"steepest descent\"\n",
    "    tf.Print(zero_point1,[zero_point1],message=\"steepest descent\")\n",
    "    return t3f.full(-riemannian_grad)\n",
    "\n",
    "# compute beta\n",
    "inner_product_rim_grad_old = t3f.flat_inner(grad_t3f_old, grad_t3f_old)\n",
    "beta = tf.maximum(0.0, (inner_product_rim_grad - ip_xitrans_xi)/inner_product_rim_grad_old)\n",
    "#eta = -riemannian_grad + beta*eta_trans\n",
    "\n",
    "print \"Rim Grad shape: \" + str(riemannian_grad)\n",
    "print \"eta_trans: \" + str(eta_trans)\n",
    "\n",
    "eta_cond = tf.cond((tf.abs(theta) >= zero_point1), get_rim_grad, get_conj_dir)\n",
    "eta_norm_update_op = tf.assign(eta_norm, frobenius_norm_tf(eta_cond))\n",
    "\n",
    "#eta = tf.case([(tf.greater_equal(theta_full,zero_point1), get_rim_grad)], default=get_conj_dir, exclusive=True)\n",
    "#eta = approximate.add_n([-riemannian_grad, beta*eta_trans], max_tt_rank=63)\n",
    "eta = t3f.to_tt_tensor(eta_cond, max_tt_rank=63)\n",
    "\n",
    "inprod_grad_eta = t3f.flat_inner(riemannian_grad,eta)\n",
    "#\n",
    "#eta_full = t3f.full(eta)\n",
    "\n",
    "print \"eta: \" + str(eta)\n",
    "#print \"eta1: \" + str(eta1)\n",
    "                                            \n",
    "#(1, 106, 126, 126, 1)\n",
    "\n",
    "eta_omega = sparsity_mask * t3f.full(eta)\n",
    "alpha = compute_step_size(eta_omega, grad_full)\n",
    "\n",
    "#two = tf.constant(2.0)\n",
    "#alpha1 =tf.maximum(0.0,two*(cost_new - cost)/inprod_grad_eta)"
   ]
  },
  {
   "cell_type": "code",
   "execution_count": null,
   "metadata": {
    "collapsed": true
   },
   "outputs": [],
   "source": []
  },
  {
   "cell_type": "code",
   "execution_count": 69,
   "metadata": {
    "collapsed": true
   },
   "outputs": [],
   "source": [
    "#eta1 = tf.cond((theta > zero_point1), get_rim_grad, get_conj_dir)"
   ]
  },
  {
   "cell_type": "code",
   "execution_count": 70,
   "metadata": {},
   "outputs": [
    {
     "name": "stdout",
     "output_type": "stream",
     "text": [
      "A Tensor Train of shape (53, 63, 46, 144), TT-ranks: (1, 53, 63, 63, 1)\n"
     ]
    }
   ],
   "source": [
    "print eta"
   ]
  },
  {
   "cell_type": "code",
   "execution_count": null,
   "metadata": {
    "collapsed": true
   },
   "outputs": [],
   "source": []
  },
  {
   "cell_type": "code",
   "execution_count": null,
   "metadata": {
    "collapsed": true
   },
   "outputs": [],
   "source": []
  },
  {
   "cell_type": "code",
   "execution_count": null,
   "metadata": {
    "collapsed": true
   },
   "outputs": [],
   "source": []
  },
  {
   "cell_type": "code",
   "execution_count": null,
   "metadata": {
    "collapsed": true
   },
   "outputs": [],
   "source": []
  },
  {
   "cell_type": "code",
   "execution_count": null,
   "metadata": {
    "collapsed": true
   },
   "outputs": [],
   "source": [
    "    "
   ]
  },
  {
   "cell_type": "code",
   "execution_count": null,
   "metadata": {
    "collapsed": true
   },
   "outputs": [],
   "source": []
  },
  {
   "cell_type": "code",
   "execution_count": null,
   "metadata": {
    "collapsed": true
   },
   "outputs": [],
   "source": [
    " "
   ]
  },
  {
   "cell_type": "code",
   "execution_count": null,
   "metadata": {
    "collapsed": true
   },
   "outputs": [],
   "source": []
  },
  {
   "cell_type": "code",
   "execution_count": null,
   "metadata": {
    "collapsed": true
   },
   "outputs": [],
   "source": []
  },
  {
   "cell_type": "code",
   "execution_count": null,
   "metadata": {
    "collapsed": true
   },
   "outputs": [],
   "source": []
  },
  {
   "cell_type": "code",
   "execution_count": null,
   "metadata": {
    "collapsed": true
   },
   "outputs": [],
   "source": []
  },
  {
   "cell_type": "code",
   "execution_count": null,
   "metadata": {
    "collapsed": true
   },
   "outputs": [],
   "source": []
  },
  {
   "cell_type": "code",
   "execution_count": null,
   "metadata": {
    "collapsed": true
   },
   "outputs": [],
   "source": []
  },
  {
   "cell_type": "code",
   "execution_count": null,
   "metadata": {
    "collapsed": true
   },
   "outputs": [],
   "source": []
  },
  {
   "cell_type": "code",
   "execution_count": null,
   "metadata": {
    "collapsed": true
   },
   "outputs": [],
   "source": []
  },
  {
   "cell_type": "code",
   "execution_count": null,
   "metadata": {
    "collapsed": true
   },
   "outputs": [],
   "source": []
  },
  {
   "cell_type": "code",
   "execution_count": 71,
   "metadata": {
    "collapsed": true
   },
   "outputs": [],
   "source": [
    "#cost_old_update = compute_loss(X)\n",
    "#cost_old_op = tf.assign(cost_old,cost_old_update)"
   ]
  },
  {
   "cell_type": "code",
   "execution_count": null,
   "metadata": {
    "collapsed": true
   },
   "outputs": [],
   "source": []
  },
  {
   "cell_type": "code",
   "execution_count": 72,
   "metadata": {},
   "outputs": [
    {
     "name": "stdout",
     "output_type": "stream",
     "text": [
      "Max_TT rank63\n",
      "[1, 53, 63, 63, 1]\n"
     ]
    }
   ],
   "source": [
    "train_new_step = t3f.assign(X_new, t3f.round(X + alpha * eta, max_tt_rank=63))"
   ]
  },
  {
   "cell_type": "code",
   "execution_count": 73,
   "metadata": {
    "collapsed": true
   },
   "outputs": [],
   "source": [
    "updated_cost_new = compute_loss(train_new_step)\n",
    "cost_new_op = tf.assign(cost_new,updated_cost_new)"
   ]
  },
  {
   "cell_type": "code",
   "execution_count": null,
   "metadata": {
    "collapsed": true
   },
   "outputs": [],
   "source": []
  },
  {
   "cell_type": "code",
   "execution_count": 74,
   "metadata": {
    "collapsed": true
   },
   "outputs": [],
   "source": [
    "tsc_score_new = tsc_tf(t3f.full(train_new_step),ground_truth, sparse_observation)\n",
    "tsc_score_op = tf.assign(completion_score,tsc_score_new)"
   ]
  },
  {
   "cell_type": "code",
   "execution_count": 75,
   "metadata": {},
   "outputs": [
    {
     "name": "stdout",
     "output_type": "stream",
     "text": [
      "Max_TT rank63\n",
      "[1, 53, 63, 63, 1]\n"
     ]
    }
   ],
   "source": [
    "train_step = t3f.assign(X, t3f.round(X + alpha * eta, max_tt_rank=63))"
   ]
  },
  {
   "cell_type": "code",
   "execution_count": 76,
   "metadata": {
    "collapsed": true
   },
   "outputs": [],
   "source": [
    "tsc_score_update = tsc_tf(t3f.full(X_new),ground_truth, sparse_observation)\n",
    "tsc_score_update_op = tf.assign(completion_score,tsc_score_update)"
   ]
  },
  {
   "cell_type": "code",
   "execution_count": 77,
   "metadata": {
    "collapsed": true
   },
   "outputs": [],
   "source": [
    "updated_cost = compute_loss(train_step)\n",
    "cost_op = tf.assign(cost,updated_cost)"
   ]
  },
  {
   "cell_type": "code",
   "execution_count": 78,
   "metadata": {
    "collapsed": true
   },
   "outputs": [],
   "source": [
    "eta_update_op = t3f.assign(eta_t3f_old, eta,use_locking = True)"
   ]
  },
  {
   "cell_type": "code",
   "execution_count": 79,
   "metadata": {
    "collapsed": true
   },
   "outputs": [],
   "source": [
    "grad_update_op = t3f.assign(grad_t3f_old, riemannian_grad)"
   ]
  },
  {
   "cell_type": "code",
   "execution_count": 80,
   "metadata": {},
   "outputs": [
    {
     "name": "stdout",
     "output_type": "stream",
     "text": [
      "Tensor(\"div_1:0\", shape=(), dtype=float32)\n"
     ]
    }
   ],
   "source": [
    "print alpha_0"
   ]
  },
  {
   "cell_type": "code",
   "execution_count": 81,
   "metadata": {},
   "outputs": [
    {
     "name": "stdout",
     "output_type": "stream",
     "text": [
      "Tensor(\"div_3:0\", shape=(), dtype=float32)\n"
     ]
    }
   ],
   "source": [
    "print theta"
   ]
  },
  {
   "cell_type": "code",
   "execution_count": 82,
   "metadata": {},
   "outputs": [
    {
     "name": "stdout",
     "output_type": "stream",
     "text": [
      "Tensor(\"Const_7:0\", shape=(), dtype=float32)\n"
     ]
    }
   ],
   "source": [
    "print zero_point1"
   ]
  },
  {
   "cell_type": "code",
   "execution_count": null,
   "metadata": {
    "collapsed": true
   },
   "outputs": [],
   "source": []
  },
  {
   "cell_type": "code",
   "execution_count": null,
   "metadata": {
    "collapsed": true
   },
   "outputs": [],
   "source": []
  },
  {
   "cell_type": "code",
   "execution_count": null,
   "metadata": {
    "collapsed": true
   },
   "outputs": [],
   "source": []
  },
  {
   "cell_type": "code",
   "execution_count": null,
   "metadata": {
    "collapsed": true
   },
   "outputs": [],
   "source": []
  },
  {
   "cell_type": "code",
   "execution_count": null,
   "metadata": {
    "collapsed": true
   },
   "outputs": [],
   "source": []
  },
  {
   "cell_type": "code",
   "execution_count": null,
   "metadata": {
    "collapsed": true
   },
   "outputs": [],
   "source": []
  },
  {
   "cell_type": "code",
   "execution_count": null,
   "metadata": {
    "collapsed": true
   },
   "outputs": [],
   "source": []
  },
  {
   "cell_type": "code",
   "execution_count": null,
   "metadata": {
    "collapsed": true
   },
   "outputs": [],
   "source": []
  },
  {
   "cell_type": "code",
   "execution_count": null,
   "metadata": {
    "collapsed": true
   },
   "outputs": [],
   "source": []
  },
  {
   "cell_type": "code",
   "execution_count": null,
   "metadata": {
    "collapsed": true
   },
   "outputs": [],
   "source": []
  },
  {
   "cell_type": "code",
   "execution_count": null,
   "metadata": {
    "collapsed": true
   },
   "outputs": [],
   "source": []
  },
  {
   "cell_type": "code",
   "execution_count": null,
   "metadata": {
    "collapsed": true
   },
   "outputs": [],
   "source": []
  },
  {
   "cell_type": "code",
   "execution_count": null,
   "metadata": {
    "collapsed": true
   },
   "outputs": [],
   "source": []
  },
  {
   "cell_type": "code",
   "execution_count": null,
   "metadata": {
    "collapsed": true
   },
   "outputs": [],
   "source": []
  },
  {
   "cell_type": "code",
   "execution_count": null,
   "metadata": {
    "collapsed": true
   },
   "outputs": [],
   "source": []
  },
  {
   "cell_type": "code",
   "execution_count": null,
   "metadata": {
    "collapsed": true
   },
   "outputs": [],
   "source": []
  },
  {
   "cell_type": "code",
   "execution_count": null,
   "metadata": {
    "collapsed": true
   },
   "outputs": [],
   "source": []
  },
  {
   "cell_type": "code",
   "execution_count": null,
   "metadata": {
    "collapsed": true
   },
   "outputs": [],
   "source": []
  },
  {
   "cell_type": "code",
   "execution_count": null,
   "metadata": {
    "collapsed": true
   },
   "outputs": [],
   "source": []
  },
  {
   "cell_type": "code",
   "execution_count": 83,
   "metadata": {
    "collapsed": true
   },
   "outputs": [],
   "source": [
    "#t3f.round(-riemannian_grad + beta*eta_trans, max_tt_rank=[eta_trans])"
   ]
  },
  {
   "cell_type": "code",
   "execution_count": null,
   "metadata": {
    "collapsed": true
   },
   "outputs": [],
   "source": []
  },
  {
   "cell_type": "code",
   "execution_count": null,
   "metadata": {
    "collapsed": true
   },
   "outputs": [],
   "source": []
  },
  {
   "cell_type": "code",
   "execution_count": null,
   "metadata": {
    "collapsed": true
   },
   "outputs": [],
   "source": []
  },
  {
   "cell_type": "code",
   "execution_count": null,
   "metadata": {
    "collapsed": true
   },
   "outputs": [],
   "source": []
  },
  {
   "cell_type": "code",
   "execution_count": null,
   "metadata": {
    "collapsed": true
   },
   "outputs": [],
   "source": []
  },
  {
   "cell_type": "code",
   "execution_count": 84,
   "metadata": {
    "collapsed": true
   },
   "outputs": [],
   "source": [
    "#eta_update_op = t3f.assign(eta_t3f_old, eta,validate_shape=False, use_locking = True)"
   ]
  },
  {
   "cell_type": "code",
   "execution_count": 85,
   "metadata": {
    "collapsed": true
   },
   "outputs": [],
   "source": [
    "#grad_update_op = t3f.assign(grad_t3f_old, riemannian_grad)"
   ]
  },
  {
   "cell_type": "code",
   "execution_count": null,
   "metadata": {
    "collapsed": true
   },
   "outputs": [],
   "source": []
  },
  {
   "cell_type": "code",
   "execution_count": null,
   "metadata": {
    "collapsed": true
   },
   "outputs": [],
   "source": []
  },
  {
   "cell_type": "code",
   "execution_count": null,
   "metadata": {
    "collapsed": true
   },
   "outputs": [],
   "source": []
  },
  {
   "cell_type": "code",
   "execution_count": 86,
   "metadata": {
    "collapsed": true
   },
   "outputs": [],
   "source": [
    "tsc_score_history = []"
   ]
  },
  {
   "cell_type": "code",
   "execution_count": 87,
   "metadata": {
    "collapsed": true
   },
   "outputs": [],
   "source": [
    "sess = tf.Session()\n",
    "sess.run(tf.global_variables_initializer())"
   ]
  },
  {
   "cell_type": "code",
   "execution_count": 88,
   "metadata": {},
   "outputs": [
    {
     "name": "stdout",
     "output_type": "stream",
     "text": [
      "0.73007333 1.0 0.22665621 0.0 0.4831668 0.9996317\n"
     ]
    }
   ],
   "source": [
    "log = []\n",
    "train_loss_hist = []\n",
    "#for i in range(1000):\n",
    "gradnorm_val, alpha_val, eta_op_0_val,cost_val, cost_new_val, eta_norm_val, tsc_score_val,_,_ = sess.run([gradnorm_omega_0, alpha_0, eta_op_0, cost, cost_new, eta_norm,completion_score, train_step_0.op, eta_norm_init_op.op])\n",
    "print gradnorm_val, alpha_val,cost_val, cost_new_val, eta_norm_val, tsc_score_val"
   ]
  },
  {
   "cell_type": "code",
   "execution_count": 89,
   "metadata": {},
   "outputs": [
    {
     "name": "stdout",
     "output_type": "stream",
     "text": [
      "A Tensor Train of shape (53, 63, 46, 144), TT-ranks: (1, 106, 126, 126, 1)\n"
     ]
    }
   ],
   "source": [
    "print grad_trans"
   ]
  },
  {
   "cell_type": "code",
   "execution_count": 90,
   "metadata": {
    "collapsed": true
   },
   "outputs": [],
   "source": [
    "tsc_score_0 = tsc_score_val"
   ]
  },
  {
   "cell_type": "code",
   "execution_count": 91,
   "metadata": {},
   "outputs": [
    {
     "name": "stdout",
     "output_type": "stream",
     "text": [
      "tsc_score_0:0.9996317\n"
     ]
    }
   ],
   "source": [
    "print \"tsc_score_0:\" + str(tsc_score_0)"
   ]
  },
  {
   "cell_type": "code",
   "execution_count": 92,
   "metadata": {
    "collapsed": true
   },
   "outputs": [],
   "source": [
    "tsc_score_history.append(tsc_score_0)"
   ]
  },
  {
   "cell_type": "code",
   "execution_count": null,
   "metadata": {
    "collapsed": true
   },
   "outputs": [],
   "source": []
  },
  {
   "cell_type": "code",
   "execution_count": 93,
   "metadata": {
    "collapsed": true
   },
   "outputs": [],
   "source": [
    "#x_k, grad_k, eta_k = sess.run([t3f.full(X),t3f.full(grad_t3f_old), t3f.full(eta_t3f_old)])"
   ]
  },
  {
   "cell_type": "code",
   "execution_count": 94,
   "metadata": {
    "collapsed": true
   },
   "outputs": [],
   "source": [
    "#scipy_step_size = find_step_size(x_k,grad_k,eta_k, cost_old_val)"
   ]
  },
  {
   "cell_type": "code",
   "execution_count": 95,
   "metadata": {
    "collapsed": true
   },
   "outputs": [],
   "source": [
    "#print \"scipy_step_size: \" + str(scipy_step_size)"
   ]
  },
  {
   "cell_type": "code",
   "execution_count": null,
   "metadata": {
    "collapsed": true
   },
   "outputs": [],
   "source": []
  },
  {
   "cell_type": "code",
   "execution_count": 96,
   "metadata": {
    "collapsed": true
   },
   "outputs": [],
   "source": [
    "#sess.run([loss])"
   ]
  },
  {
   "cell_type": "code",
   "execution_count": 97,
   "metadata": {
    "collapsed": true
   },
   "outputs": [],
   "source": [
    "#sess.run([theta])"
   ]
  },
  {
   "cell_type": "code",
   "execution_count": 98,
   "metadata": {
    "collapsed": true
   },
   "outputs": [],
   "source": [
    "#print theta"
   ]
  },
  {
   "cell_type": "code",
   "execution_count": 99,
   "metadata": {
    "collapsed": true
   },
   "outputs": [],
   "source": [
    "#sess.run([eta_trans])"
   ]
  },
  {
   "cell_type": "code",
   "execution_count": 100,
   "metadata": {
    "collapsed": true
   },
   "outputs": [],
   "source": [
    "#sess.run([eta])"
   ]
  },
  {
   "cell_type": "code",
   "execution_count": 101,
   "metadata": {
    "collapsed": true
   },
   "outputs": [],
   "source": [
    "#sess.run([train_step.op])"
   ]
  },
  {
   "cell_type": "code",
   "execution_count": null,
   "metadata": {
    "collapsed": true
   },
   "outputs": [],
   "source": []
  },
  {
   "cell_type": "code",
   "execution_count": null,
   "metadata": {
    "collapsed": true
   },
   "outputs": [],
   "source": []
  },
  {
   "cell_type": "code",
   "execution_count": 102,
   "metadata": {
    "collapsed": true
   },
   "outputs": [],
   "source": [
    "#def backtrack(t, sess):\n",
    "#    t = t * 0.5\n",
    "#    return t3f.assign(X, t3f.round(X - t * eta, max_tt_rank=63))"
   ]
  },
  {
   "cell_type": "code",
   "execution_count": null,
   "metadata": {
    "collapsed": true
   },
   "outputs": [],
   "source": [
    "\n",
    "    "
   ]
  },
  {
   "cell_type": "code",
   "execution_count": null,
   "metadata": {
    "collapsed": true
   },
   "outputs": [],
   "source": []
  },
  {
   "cell_type": "code",
   "execution_count": 103,
   "metadata": {
    "collapsed": true
   },
   "outputs": [],
   "source": [
    "def loss_func(x, y):\n",
    "    return 0.5*(np.linalg.norm(x - y)** 2)\n",
    "    "
   ]
  },
  {
   "cell_type": "code",
   "execution_count": 104,
   "metadata": {
    "collapsed": true
   },
   "outputs": [],
   "source": [
    "def is_nan(x):\n",
    "    return (x is np.nan or x != x)"
   ]
  },
  {
   "cell_type": "code",
   "execution_count": 105,
   "metadata": {
    "collapsed": true
   },
   "outputs": [],
   "source": [
    "backtrack_const = 1e-4 "
   ]
  },
  {
   "cell_type": "code",
   "execution_count": null,
   "metadata": {
    "collapsed": true
   },
   "outputs": [],
   "source": []
  },
  {
   "cell_type": "code",
   "execution_count": 106,
   "metadata": {
    "collapsed": true
   },
   "outputs": [],
   "source": [
    "cost_history = []\n"
   ]
  },
  {
   "cell_type": "code",
   "execution_count": 107,
   "metadata": {
    "collapsed": true
   },
   "outputs": [],
   "source": [
    "#sess.run([loss, gradnorm_omega, alpha, theta, eta_update_op, grad_update_op, train_step.op])"
   ]
  },
  {
   "cell_type": "code",
   "execution_count": 108,
   "metadata": {},
   "outputs": [
    {
     "name": "stdout",
     "output_type": "stream",
     "text": [
      "alpha_val: 1.3831959\n",
      "theta_val: 0.59416723\n",
      "inprod_grad_eta_val: -0.6353195\n",
      "rim_grad_norm: 0.79707026\n",
      "eta_norm_val: 0.7970211\n",
      "Cost New: 0.09246032\n",
      "Cost Old: 0.22665621\n",
      "TSC Score New: 0.6427404\n",
      "TSC Score Old: 0.9996317\n",
      "armijo: True\n",
      "proposed_initial_alpha: 0.422451695729725\n",
      "updating X: initial cost: 0.22665621; New Cost: 0.09246032\n",
      "(0.32292056, 1, 1.193215, 1.3831959, 0.59416723, 1.1042913, 0.22665621, 0.09246032)\n",
      "alpha_val: 1.7685947\n",
      "theta_val: 0.0029610028\n",
      "inprod_grad_eta_val: -0.100380585\n",
      "rim_grad_norm: 0.31677106\n",
      "eta_norm_val: 0.340772\n",
      "Cost New: 0.003530144\n",
      "Cost Old: 0.09246032\n",
      "TSC Score New: 0.13236803\n",
      "TSC Score Old: 0.6427404\n",
      "armijo: True\n",
      "proposed_initial_alpha: 1.7718600676590126\n",
      "updating X: initial cost: 0.09246032; New Cost: 0.003530144\n",
      "(0.05140022, 2, 0.47607028, 1.5063841, 1.7685947, 0.0029610028, 0.15746015, 0.09246032, 0.003530144)\n",
      "alpha_val: 1.6708033\n",
      "theta_val: 0.120272525\n",
      "inprod_grad_eta_val: -0.0034043116\n",
      "rim_grad_norm: 0.058431882\n",
      "eta_norm_val: 0.05834023\n",
      "Cost New: 0.0006312597\n",
      "Cost Old: 0.003530144\n",
      "TSC Score New: 0.05956527\n",
      "TSC Score Old: 0.13236803\n",
      "armijo: True\n",
      "proposed_initial_alpha: 1.7030663328091475\n",
      "updating X: initial cost: 0.003530144; New Cost: 0.0006312597\n",
      "(0.0017394959, 3, 0.087700576, 4.42836, 1.6708033, 0.120272525, 0.029848617, 0.003530144, 0.0006312597)\n",
      "alpha_val: 1.541745\n",
      "theta_val: 0.22847414\n",
      "inprod_grad_eta_val: -0.00056687277\n",
      "rim_grad_norm: 0.02401809\n",
      "eta_norm_val: 0.023806918\n",
      "Cost New: 0.00018791296\n",
      "Cost Old: 0.0006312597\n",
      "TSC Score New: 0.03352182\n",
      "TSC Score Old: 0.05956527\n",
      "armijo: True\n",
      "proposed_initial_alpha: 1.5641842937528239\n",
      "updating X: initial cost: 0.0006312597; New Cost: 0.00018791296\n",
      "(0.00030201778, 4, 0.03679165, 1.3837087, 1.541745, 0.22847414, 0.12847154, 0.0006312597, 0.00018791296)\n",
      "alpha_val: 1.8627197\n",
      "theta_val: 0.021130351\n",
      "inprod_grad_eta_val: -0.00014668211\n",
      "rim_grad_norm: 0.012501685\n",
      "eta_norm_val: 0.01339942\n",
      "Cost New: 4.7072335e-05\n",
      "Cost Old: 0.00018791296\n",
      "TSC Score New: 0.013452851\n",
      "TSC Score Old: 0.03352182\n",
      "armijo: True\n",
      "proposed_initial_alpha: 1.9203517330200504\n",
      "updating X: initial cost: 0.00018791296; New Cost: 4.7072335e-05\n",
      "(8.2077284e-05, 5, 0.019593857, 0.87771344, 1.8627197, 0.021130351, 0.2526176, 0.00018791296, 4.7072335e-05)\n",
      "alpha_val: 1.4717728\n",
      "theta_val: 0.014063534\n",
      "inprod_grad_eta_val: -3.110023e-05\n",
      "rim_grad_norm: 0.0064631337\n",
      "eta_norm_val: 0.0060902894\n",
      "Cost New: 2.2818673e-05\n",
      "Cost Old: 4.7072335e-05\n",
      "TSC Score New: 0.008539459\n",
      "TSC Score Old: 0.013452851\n",
      "armijo: True\n",
      "proposed_initial_alpha: 1.5597095534022103\n",
      "updating X: initial cost: 4.7072335e-05; New Cost: 2.2818673e-05\n",
      "(2.379131e-05, 6, 0.011266738, 0.7390887, 1.4717728, 0.014063534, 0.21412852, 4.7072335e-05, 2.2818673e-05)\n",
      "alpha_val: 1.4242995\n",
      "theta_val: 0.0011049624\n",
      "inprod_grad_eta_val: -8.613363e-06\n",
      "rim_grad_norm: 0.004354381\n",
      "eta_norm_val: 0.0032648426\n",
      "Cost New: 1.5973803e-05\n",
      "Cost Old: 2.2818673e-05\n",
      "TSC Score New: 0.006721711\n",
      "TSC Score Old: 0.008539459\n",
      "armijo: True\n",
      "proposed_initial_alpha: 1.5893605538803524\n",
      "updating X: initial cost: 2.2818673e-05; New Cost: 1.5973803e-05\n",
      "(1.0635859e-05, 7, 0.008302872, 0.3569688, 1.4242995, 0.0011049624, 0.2817162, 2.2818673e-05, 1.5973803e-05)\n",
      "alpha_val: 1.1752111\n",
      "theta_val: 0.06594876\n",
      "inprod_grad_eta_val: -4.787105e-06\n",
      "rim_grad_norm: 0.0039100694\n",
      "eta_norm_val: 0.0026542975\n",
      "Cost New: 1.2539418e-05\n",
      "Cost Old: 1.5973803e-05\n",
      "TSC Score New: 0.005886039\n",
      "TSC Score Old: 0.006721711\n",
      "armijo: True\n",
      "proposed_initial_alpha: 1.4348483488340171\n",
      "updating X: initial cost: 1.5973803e-05; New Cost: 1.2539418e-05\n",
      "(7.2428443e-06, 8, 0.0073469765, 0.13010733, 1.1752111, 0.06594876, 0.5512854, 1.5973803e-05, 1.2539418e-05)\n",
      "alpha_val: 1.4280783\n",
      "theta_val: 0.29033238\n",
      "inprod_grad_eta_val: -3.3091706e-06\n",
      "rim_grad_norm: 0.0036481696\n",
      "eta_norm_val: 0.0018189712\n",
      "Cost New: 1.0065585e-05\n",
      "Cost Old: 1.2539418e-05\n",
      "TSC Score New: 0.0053806566\n",
      "TSC Score Old: 0.005886039\n",
      "armijo: True\n",
      "proposed_initial_alpha: 1.4951377247286395\n",
      "updating X: initial cost: 1.2539418e-05; New Cost: 1.0065585e-05\n",
      "(5.179547e-06, 9, 0.006699335, 0.09667254, 1.4280783, 0.29033238, 0.44404408, 1.2539418e-05, 1.0065585e-05)\n",
      "alpha_val: 1.4556308\n",
      "theta_val: -0.10967073\n",
      "inprod_grad_eta_val: -1.9272916e-06\n",
      "rim_grad_norm: 0.0034535886\n",
      "eta_norm_val: 0.0013881674\n",
      "Cost New: 8.712967e-06\n",
      "Cost Old: 1.0065585e-05\n",
      "TSC Score New: 0.005023659\n",
      "TSC Score Old: 0.0053806566\n",
      "armijo: True\n",
      "proposed_initial_alpha: 1.403646253007497\n",
      "updating X: initial cost: 1.0065585e-05; New Cost: 8.712967e-06\n",
      "(3.7863836e-06, 10, 0.0062240427, 0.076363884, 1.4556308, -0.10967073, 0.6462824, 1.0065585e-05, 8.712967e-06)\n",
      "alpha_val: 1.4097176\n",
      "theta_val: -0.17763738\n",
      "inprod_grad_eta_val: -1.4831061e-06\n",
      "rim_grad_norm: 0.0033886714\n",
      "eta_norm_val: 0.0012177422\n",
      "Cost New: 7.771228e-06\n",
      "Cost Old: 8.712967e-06\n",
      "TSC Score New: 0.0047412678\n",
      "TSC Score Old: 0.005023659\n",
      "armijo: True\n",
      "proposed_initial_alpha: 1.2699550398032615\n",
      "updating X: initial cost: 8.712967e-06; New Cost: 7.771228e-06\n",
      "(3.0534031e-06, 11, 0.0059587774, 0.044516742, 1.4097176, -0.17763738, 0.9062265, 8.712967e-06, 7.771228e-06)\n",
      "alpha_val: 1.3842453\n",
      "theta_val: -0.24271594\n",
      "inprod_grad_eta_val: -1.2159492e-06\n",
      "rim_grad_norm: 0.003349021\n",
      "eta_norm_val: 0.0011026277\n",
      "Cost New: 7.048376e-06\n",
      "Cost Old: 7.771228e-06\n",
      "TSC Score New: 0.00450057\n",
      "TSC Score Old: 0.0047412678\n",
      "armijo: True\n",
      "proposed_initial_alpha: 1.1889514961383192\n",
      "updating X: initial cost: 7.771228e-06; New Cost: 7.048376e-06\n",
      "(2.5468946e-06, 12, 0.00576835, 0.03301248, 1.3842453, -0.24271594, 1.0188631, 7.771228e-06, 7.048376e-06)\n",
      "alpha_val: 1.3257757\n",
      "theta_val: -0.298472\n",
      "inprod_grad_eta_val: -9.763303e-07\n",
      "rim_grad_norm: 0.0033130534\n",
      "eta_norm_val: 0.0009880206\n",
      "Cost New: 6.523366e-06\n",
      "Cost Old: 7.048376e-06\n",
      "TSC Score New: 0.004302642\n",
      "TSC Score Old: 0.00450057\n",
      "armijo: True\n",
      "proposed_initial_alpha: 1.0754760306720206\n",
      "updating X: initial cost: 7.048376e-06; New Cost: 6.523366e-06\n",
      "(2.18457e-06, 13, 0.0056281784, 0.024905305, 1.3257757, -0.298472, 1.042589, 7.048376e-06, 6.523366e-06)\n",
      "alpha_val: 1.2768692\n",
      "theta_val: -0.3444405\n",
      "inprod_grad_eta_val: -8.0024734e-07\n",
      "rim_grad_norm: 0.003286372\n",
      "eta_norm_val: 0.0008944975\n",
      "Cost New: 6.119249e-06\n",
      "Cost Old: 6.523366e-06\n",
      "TSC Score New: 0.004152674\n",
      "TSC Score Old: 0.004302642\n",
      "armijo: True\n",
      "proposed_initial_alpha: 1.0099806081786604\n",
      "updating X: initial cost: 6.523366e-06; New Cost: 6.119249e-06\n",
      "(1.9239337e-06, 14, 0.0055251485, 0.018647442, 1.2768692, -0.3444405, 1.1019679, 6.523366e-06, 6.119249e-06)\n",
      "alpha_val: 1.230083\n",
      "theta_val: -0.38637686\n",
      "inprod_grad_eta_val: -6.343393e-07\n",
      "rim_grad_norm: 0.0032610325\n",
      "eta_norm_val: 0.00079639954\n",
      "Cost New: 5.824273e-06\n",
      "Cost Old: 6.119249e-06\n",
      "TSC Score New: 0.004039671\n",
      "TSC Score Old: 0.004152674\n",
      "armijo: True\n",
      "proposed_initial_alpha: 0.930025812284963\n",
      "updating X: initial cost: 6.119249e-06; New Cost: 5.824273e-06\n",
      "(1.7250107e-06, 15, 0.0054452014, 0.014682112, 1.230083, -0.38637686, 1.098951, 6.119249e-06, 5.824273e-06)\n",
      "alpha_val: 1.1830217\n",
      "theta_val: -0.40944138\n",
      "inprod_grad_eta_val: -5.2097886e-07\n",
      "rim_grad_norm: 0.003243605\n",
      "eta_norm_val: 0.00072173576\n",
      "Cost New: 5.598913e-06\n",
      "Cost Old: 5.824273e-06\n",
      "TSC Score New: 0.003948349\n",
      "TSC Score Old: 0.004039671\n",
      "armijo: True\n",
      "proposed_initial_alpha: 0.865140880838157\n",
      "updating X: initial cost: 5.824273e-06; New Cost: 5.598913e-06\n",
      "(1.5881214e-06, 16, 0.005389497, 0.010335707, 1.1830217, -0.40944138, 1.1575646, 5.824273e-06, 5.598913e-06)\n",
      "alpha_val: 1.1268318\n",
      "theta_val: -0.43160018\n",
      "inprod_grad_eta_val: -4.4080758e-07\n",
      "rim_grad_norm: 0.0032312232\n",
      "eta_norm_val: 0.0006638818\n",
      "Cost New: 5.426866e-06\n",
      "Cost Old: 5.598913e-06\n",
      "TSC Score New: 0.0038771445\n",
      "TSC Score Old: 0.003948349\n",
      "armijo: True\n",
      "proposed_initial_alpha: 0.7805983646966145\n",
      "updating X: initial cost: 5.598913e-06; New Cost: 5.426866e-06\n",
      "(1.4886812e-06, 17, 0.0053486684, 0.0076334355, 1.1268318, -0.43160018, 1.2113, 5.598913e-06, 5.426866e-06)\n",
      "alpha_val: 1.0782139\n",
      "theta_val: -0.46031427\n",
      "inprod_grad_eta_val: -3.675018e-07\n",
      "rim_grad_norm: 0.00321986\n",
      "eta_norm_val: 0.0006061741\n",
      "Cost New: 5.2965192e-06\n",
      "Cost Old: 5.426866e-06\n",
      "TSC Score New: 0.0038212228\n",
      "TSC Score Old: 0.0038771445\n",
      "armijo: True\n",
      "proposed_initial_alpha: 0.7093677495993912\n",
      "updating X: initial cost: 5.426866e-06; New Cost: 5.2965192e-06\n",
      "(1.4142825e-06, 18, 0.0053179166, 0.005782679, 1.0782139, -0.46031427, 1.2174639, 5.426866e-06, 5.2965192e-06)\n"
     ]
    },
    {
     "name": "stdout",
     "output_type": "stream",
     "text": [
      "alpha_val: 1.026977\n",
      "theta_val: -0.48400247\n",
      "inprod_grad_eta_val: -3.0582478e-07\n",
      "rim_grad_norm: 0.0032102682\n",
      "eta_norm_val: 0.00055297645\n",
      "Cost New: 5.196172e-06\n",
      "Cost Old: 5.2965192e-06\n",
      "TSC Score New: 0.0037786681\n",
      "TSC Score Old: 0.0038212228\n",
      "armijo: True\n",
      "proposed_initial_alpha: 0.6562403318955419\n",
      "updating X: initial cost: 5.2965192e-06; New Cost: 5.196172e-06\n",
      "(1.3582346e-06, 19, 0.0052946317, 0.004397837, 1.026977, -0.48400247, 1.2349476, 5.2965192e-06, 5.196172e-06)\n",
      "alpha_val: 0.964625\n",
      "theta_val: -0.49867564\n",
      "inprod_grad_eta_val: -2.619845e-07\n",
      "rim_grad_norm: 0.0032034328\n",
      "eta_norm_val: 0.000511806\n",
      "Cost New: 5.1210363e-06\n",
      "Cost Old: 5.196172e-06\n",
      "TSC Score New: 0.0037444013\n",
      "TSC Score Old: 0.0037786681\n",
      "armijo: True\n",
      "proposed_initial_alpha: 0.5735883772196282\n",
      "updating X: initial cost: 5.196172e-06; New Cost: 5.1210363e-06\n",
      "(1.3151897e-06, 20, 0.005276679, 0.003402261, 0.964625, -0.49867564, 1.2838358, 5.196172e-06, 5.1210363e-06)\n",
      "alpha_val: 0.9240973\n",
      "theta_val: -0.5247285\n",
      "inprod_grad_eta_val: -2.2028581e-07\n",
      "rim_grad_norm: 0.003196918\n",
      "eta_norm_val: 0.00046930838\n",
      "Cost New: 5.063976e-06\n",
      "Cost Old: 5.1210363e-06\n",
      "TSC Score New: 0.0037204097\n",
      "TSC Score Old: 0.0037444013\n",
      "armijo: True\n",
      "proposed_initial_alpha: 0.5180572697557795\n",
      "updating X: initial cost: 5.1210363e-06; New Cost: 5.063976e-06\n",
      "(1.2876123e-06, 21, 0.0052651456, 0.0021905375, 0.9240973, -0.5247285, 1.2820474, 5.1210363e-06, 5.063976e-06)\n",
      "alpha_val: 0.8463792\n",
      "theta_val: -0.5408995\n",
      "inprod_grad_eta_val: -1.8777095e-07\n",
      "rim_grad_norm: 0.0031918285\n",
      "eta_norm_val: 0.000433292\n",
      "Cost New: 5.022726e-06\n",
      "Cost Old: 5.063976e-06\n",
      "TSC Score New: 0.0037014545\n",
      "TSC Score Old: 0.0037204097\n",
      "armijo: True\n",
      "proposed_initial_alpha: 0.43936649439961806\n",
      "updating X: initial cost: 5.063976e-06; New Cost: 5.022726e-06\n",
      "(1.2654103e-06, 22, 0.005255841, 0.0017702929, 0.8463792, -0.5408995, 1.3134592, 5.063976e-06, 5.022726e-06)\n",
      "alpha_val: 0.8096367\n",
      "theta_val: -0.53704035\n",
      "inprod_grad_eta_val: -1.5966903e-07\n",
      "rim_grad_norm: 0.0031874233\n",
      "eta_norm_val: 0.00039955808\n",
      "Cost New: 4.9915243e-06\n",
      "Cost Old: 5.022726e-06\n",
      "TSC Score New: 0.003688112\n",
      "TSC Score Old: 0.0037014545\n",
      "armijo: True\n",
      "proposed_initial_alpha: 0.39082820674689955\n",
      "updating X: initial cost: 5.022726e-06; New Cost: 4.9915243e-06\n",
      "(1.2499655e-06, 23, 0.005249359, 0.0012348184, 0.8096367, -0.53704035, 1.307006, 5.022726e-06, 4.9915243e-06)\n",
      "alpha_val: 0.7550439\n",
      "theta_val: -0.5423119\n",
      "inprod_grad_eta_val: -1.4525466e-07\n",
      "rim_grad_norm: 0.0031851614\n",
      "eta_norm_val: 0.00038109516\n",
      "Cost New: 4.967004e-06\n",
      "Cost Old: 4.9915243e-06\n",
      "TSC Score New: 0.003678325\n",
      "TSC Score Old: 0.003688112\n",
      "armijo: True\n",
      "proposed_initial_alpha: 0.3376199005457967\n",
      "updating X: initial cost: 4.9915243e-06; New Cost: 4.967004e-06\n",
      "(1.2366254e-06, 24, 0.005243754, 0.0010689222, 0.7550439, -0.5423119, 1.4030772, 4.9915243e-06, 4.967004e-06)\n",
      "alpha_val: 0.7013099\n",
      "theta_val: -0.5551818\n",
      "inprod_grad_eta_val: -1.2928373e-07\n",
      "rim_grad_norm: 0.0031826533\n",
      "eta_norm_val: 0.00035953158\n",
      "Cost New: 4.94821e-06\n",
      "Cost Old: 4.967004e-06\n",
      "TSC Score New: 0.0036707697\n",
      "TSC Score Old: 0.003678325\n",
      "armijo: True\n",
      "proposed_initial_alpha: 0.29073724813779206\n",
      "updating X: initial cost: 4.967004e-06; New Cost: 4.94821e-06\n",
      "(1.2277326e-06, 25, 0.005240014, 0.0007137751, 0.7013099, -0.5551818, 1.3841864, 4.967004e-06, 4.94821e-06)\n",
      "alpha_val: 0.650991\n",
      "theta_val: -0.5597207\n",
      "inprod_grad_eta_val: -1.1249216e-07\n",
      "rim_grad_norm: 0.0031800144\n",
      "eta_norm_val: 0.00033537106\n",
      "Cost New: 4.9343885e-06\n",
      "Cost Old: 4.94821e-06\n",
      "TSC Score New: 0.003665474\n",
      "TSC Score Old: 0.0036707697\n",
      "armijo: True\n",
      "proposed_initial_alpha: 0.24573429887977816\n",
      "updating X: initial cost: 4.94821e-06; New Cost: 4.9343885e-06\n",
      "(1.2206109e-06, 26, 0.0052370173, 0.00057218265, 0.650991, -0.5597207, 1.3571438, 4.94821e-06, 4.9343885e-06)\n",
      "alpha_val: 0.62495893\n",
      "theta_val: -0.5402823\n",
      "inprod_grad_eta_val: -1.02861534e-07\n",
      "rim_grad_norm: 0.0031784999\n",
      "eta_norm_val: 0.00032069357\n",
      "Cost New: 4.922611e-06\n",
      "Cost Old: 4.9343885e-06\n",
      "TSC Score New: 0.0036606465\n",
      "TSC Score Old: 0.003665474\n",
      "armijo: True\n",
      "proposed_initial_alpha: 0.22899719917985553\n",
      "updating X: initial cost: 4.9343885e-06; New Cost: 4.922611e-06\n",
      "(1.2119635e-06, 27, 0.005233376, 0.0006958169, 0.62495893, -0.5402823, 1.4084153, 4.9343885e-06, 4.922611e-06)\n",
      "alpha_val: 0.5994618\n",
      "theta_val: -0.54163736\n",
      "inprod_grad_eta_val: -9.844457e-08\n",
      "rim_grad_norm: 0.0031778049\n",
      "eta_norm_val: 0.00031373327\n",
      "Cost New: 4.9125097e-06\n",
      "Cost Old: 4.922611e-06\n",
      "TSC Score New: 0.0036564677\n",
      "TSC Score Old: 0.0036606465\n",
      "armijo: True\n",
      "proposed_initial_alpha: 0.20521807466299508\n",
      "updating X: initial cost: 4.922611e-06; New Cost: 4.9125097e-06\n",
      "(1.2067512e-06, 28, 0.0052311798, 0.0004198018, 0.5994618, -0.54163736, 1.4754348, 4.922611e-06, 4.9125097e-06)\n",
      "alpha_val: 0.57277834\n",
      "theta_val: -0.56867844\n",
      "inprod_grad_eta_val: -9.151996e-08\n",
      "rim_grad_norm: 0.003176715\n",
      "eta_norm_val: 0.00030249808\n",
      "Cost New: 4.903786e-06\n",
      "Cost Old: 4.9125097e-06\n",
      "TSC Score New: 0.003652679\n",
      "TSC Score Old: 0.0036564677\n",
      "armijo: True\n",
      "proposed_initial_alpha: 0.1906441695524068\n",
      "updating X: initial cost: 4.9125097e-06; New Cost: 4.903786e-06\n",
      "(1.2024838e-06, 29, 0.0052293814, 0.00034389994, 0.57277834, -0.56867844, 1.4583408, 4.9125097e-06, 4.903786e-06)\n",
      "alpha_val: 0.5488392\n",
      "theta_val: -0.55862856\n",
      "inprod_grad_eta_val: -8.6648114e-08\n",
      "rim_grad_norm: 0.0031759483\n",
      "eta_norm_val: 0.0002943363\n",
      "Cost New: 4.8962693e-06\n",
      "Cost Old: 4.903786e-06\n",
      "TSC Score New: 0.003650251\n",
      "TSC Score Old: 0.003652679\n",
      "armijo: True\n",
      "proposed_initial_alpha: 0.17349526898625445\n",
      "updating X: initial cost: 4.903786e-06; New Cost: 4.8962693e-06\n",
      "(1.1996527e-06, 30, 0.0052281874, 0.00022836892, 0.5488392, -0.55862856, 1.4756598, 4.903786e-06, 4.8962693e-06)\n",
      "alpha_val: 0.54573256\n",
      "theta_val: -0.5492178\n",
      "inprod_grad_eta_val: -8.485434e-08\n",
      "rim_grad_norm: 0.0031756656\n",
      "eta_norm_val: 0.00029127413\n",
      "Cost New: 4.889093e-06\n",
      "Cost Old: 4.8962693e-06\n",
      "TSC Score New: 0.0036472606\n",
      "TSC Score Old: 0.003650251\n",
      "armijo: True\n",
      "proposed_initial_alpha: 0.16914556772557657\n",
      "updating X: initial cost: 4.8962693e-06; New Cost: 4.889093e-06\n",
      "(1.1948201e-06, 31, 0.005226149, 0.00039000023, 0.54573256, -0.5492178, 1.5171436, 4.8962693e-06, 4.889093e-06)\n",
      "alpha_val: 0.54668516\n",
      "theta_val: -0.5588185\n",
      "inprod_grad_eta_val: -8.319309e-08\n",
      "rim_grad_norm: 0.0031754042\n",
      "eta_norm_val: 0.000288409\n",
      "Cost New: 4.881961e-06\n",
      "Cost Old: 4.889093e-06\n",
      "TSC Score New: 0.0036445328\n",
      "TSC Score Old: 0.0036472606\n",
      "armijo: True\n",
      "proposed_initial_alpha: 0.1714517977583078\n",
      "updating X: initial cost: 4.889093e-06; New Cost: 4.881961e-06\n",
      "(1.1928773e-06, 32, 0.0052253297, 0.00015684443, 0.54668516, -0.5588185, 1.5282989, 4.889093e-06, 4.881961e-06)\n",
      "alpha_val: 0.5260495\n",
      "theta_val: -0.5734787\n",
      "inprod_grad_eta_val: -8.227774e-08\n",
      "rim_grad_norm: 0.00317526\n",
      "eta_norm_val: 0.00028681697\n",
      "Cost New: 4.875548e-06\n",
      "Cost Old: 4.881961e-06\n",
      "TSC Score New: 0.0036416303\n",
      "TSC Score Old: 0.0036445328\n",
      "armijo: True\n",
      "proposed_initial_alpha: 0.15589397940958388\n",
      "updating X: initial cost: 4.881961e-06; New Cost: 4.875548e-06\n",
      "(1.1901872e-06, 33, 0.005224195, 0.00021722325, 0.5260495, -0.5734787, 1.5561693, 4.881961e-06, 4.875548e-06)\n",
      "alpha_val: 0.51301956\n",
      "theta_val: -0.585338\n",
      "inprod_grad_eta_val: -7.978175e-08\n",
      "rim_grad_norm: 0.003174867\n",
      "eta_norm_val: 0.00028243384\n",
      "Cost New: 4.8693746e-06\n",
      "Cost Old: 4.875548e-06\n",
      "TSC Score New: 0.003639514\n",
      "TSC Score Old: 0.0036416303\n",
      "armijo: True\n",
      "proposed_initial_alpha: 0.1547520667229353\n",
      "updating X: initial cost: 4.875548e-06; New Cost: 4.8693746e-06\n",
      "(1.1895779e-06, 34, 0.005223938, 4.9205224e-05, 0.51301956, -0.585338, 1.5372459, 4.875548e-06, 4.8693746e-06)\n",
      "Breaking after 34 iterations\n"
     ]
    }
   ],
   "source": [
    "\n",
    "\n",
    "i = 0\n",
    "cost_nan = False\n",
    "while gradnorm_val > eps:   \n",
    "#for k in range(10):\n",
    "    i = i + 1\n",
    "    #F_v, gradnorm_val, alpha_val,theta_val, beta_val, cost_new_val, cost_val,tsc_score_val, eta_norm_val, inprod_grad_eta_val, riemannian_grad_norm_val,_, _,_,_,_,_ = sess.run([loss, gradnorm_omega, alpha, theta, beta, cost_new, cost, completion_score, eta_norm, inprod_grad_eta, riemannian_grad_norm,eta_norm_update_op.op, cost_new_op.op, train_new_step.op, tsc_score_op.op, eta_update_op.op, grad_update_op.op])\n",
    "    #tsc_score_update_op\n",
    "    #eta_old_val, grad_update_val,_ = sess.run([eta_update_op, grad_update_op])\n",
    "    F_v, gradnorm_val, alpha_val,theta_val, beta_val, cost_new_val, cost_val,tsc_score_val, eta_norm_val, inprod_grad_eta_val, riemannian_grad_norm_val,_, _,_,_,_,_ = sess.run([loss, gradnorm_omega, alpha, theta, beta, cost_new, cost, completion_score, eta_norm, inprod_grad_eta, riemannian_grad_norm,eta_norm_update_op.op, cost_new_op.op, train_new_step.op, tsc_score_update_op.op, eta_update_op.op, grad_update_op.op])\n",
    "    \n",
    "    print \"alpha_val: \" + str(alpha_val)\n",
    "    print \"theta_val: \" + str(theta_val)\n",
    "    print \"inprod_grad_eta_val: \" + str(inprod_grad_eta_val)\n",
    "    print \"rim_grad_norm: \" + str(riemannian_grad_norm_val)\n",
    "    print \"eta_norm_val: \" + str(eta_norm_val)\n",
    "    \n",
    "    lr = alpha_val\n",
    "    cost_prev_value = cost_val\n",
    "    cost_new_value = cost_new_val\n",
    "    cost_0 = cost_val\n",
    "    \n",
    "    print \"Cost New: \" +str(cost_new_value)\n",
    "    print \"Cost Old: \" +str(cost_prev_value)\n",
    "        \n",
    "    tsc_score_old = tsc_score_history[i-1]\n",
    "    \n",
    "    x_reconstr = mt.reconstruct2(sess.run(t3f.full(X_new)),ground_truth_x, mask_indices)\n",
    "    tsc_score_new = tsc(x_reconstr,ground_truth_x, ten_ones, mask_indices).astype('float32')\n",
    "\n",
    "    #tsc_score_new = tsc_score_val\n",
    "    print \"TSC Score New: \" +str(tsc_score_new)\n",
    "    print \"TSC Score Old: \" +str(tsc_score_old)\n",
    "       \n",
    "    backtrackiter = 0\n",
    "\n",
    "    max_iter_count = 10\n",
    "    #armijo = (cost_new_val <= cost_prev_value + backtrack_const*(lr)*inprod_grad_eta_val)\n",
    "    armijo = ((tsc_score_new < tsc_score_old) or (cost_new_val <= cost_prev_value + backtrack_const*(lr)*inprod_grad_eta_val))\n",
    "    print \"armijo: \" + str(armijo)\n",
    "    \n",
    "    proposed_initial_alpha = 2*(cost_new_value - cost_prev_value)/inprod_grad_eta_val\n",
    "    print \"proposed_initial_alpha: \" + str(proposed_initial_alpha)\n",
    "    \n",
    "    #diff_train = np.abs(train_loss_hist[i - 1] - train_loss_hist[i-2])\n",
    "    \n",
    "    #while (cost_prev - cost_new) <= -backtrack_const*(-lr)*inprod_grad_eta_val:\n",
    "    #while (not (cost_new <= cost_prev + backtrack_const*(lr)*inprod_grad_eta_val)):\n",
    "    while ((cost_new_value > cost_prev_value + backtrack_const*(lr)*inprod_grad_eta_val)):\n",
    "    #while ((tsc_score_new > tsc_score_old) or (cost_new_value > cost_prev_value + backtrack_const*(lr)*inprod_grad_eta_val)):\n",
    "        \n",
    "        print \"Backtracking\"\n",
    "        lr = 0.5*lr\n",
    "        print \"Learning Rate: \" + str(lr)\n",
    "        sess.run(t3f.assign(X_new, t3f.round(X + lr * eta_t3f_old, max_tt_rank=63)).op)\n",
    "        x_new_val = sess.run(t3f.full(X_new))\n",
    "        x_new_val[mask_indices==0] = 0.0\n",
    "        \n",
    "               \n",
    "        print \"proposed_initial_alpha: \" + str(proposed_initial_alpha)\n",
    "        proposed_step_size = proposed_initial_alpha /inprod_grad_eta_val\n",
    "        print \"proposed_step_size: \" + str(proposed_step_size)\n",
    "        proposed_initial_alpha = 0.5* proposed_step_size\n",
    "        \n",
    "        cost_new_value = loss_func(x_new_val, a_omega)\n",
    "        sess.run(tf.assign(cost_new,cost_new_value).op)\n",
    "        \n",
    "        tsc_score_new,_ = sess.run([completion_score, tsc_score_update_op.op])\n",
    "        print \"TSC Score New: \" +str(tsc_score_new)\n",
    "        print \"TSC Score Old: \" +str(tsc_score_old)\n",
    "        \n",
    "        if is_nan(cost_new):\n",
    "            cost_nan = True\n",
    "            break\n",
    "        \n",
    "        print \"Cost New: \" +str(cost_new_value)\n",
    "        print \"Cost Old: \" +str(cost_prev_value)\n",
    "        backtrackiter = backtrackiter + 1\n",
    "        print \"backtrackiter_count: \" + str(backtrackiter)\n",
    "    \n",
    "        if cost_nan:\n",
    "            print \"Cost is Nan. Breaking after \" + str(i) + \"; iterations\"\n",
    "            break\n",
    "        \n",
    "        if backtrackiter>= max_iter_count:\n",
    "           print \"Breaking after \" + str(i) + \"; iterations\"\n",
    "           break\n",
    "    \n",
    "    \n",
    "    if (cost_new_value < cost_prev_value):\n",
    "    #if (cost_new_value < cost_prev_value or (tsc_score_new <= tsc_score_old)):\n",
    "        # update x\n",
    "        print \"updating X: initial cost: \" + str(cost_prev_value) + \"; New Cost: \" +  str(cost_new_value)\n",
    "        sess.run([t3f.assign(X, X_new).op, tf.assign(cost,cost_new_value).op])\n",
    "        tsc_score_history.append(tsc_score_new)\n",
    "    else:\n",
    "        print \"Reject Step: not updating X: initial cost: \" + str(cost_prev_value) + \"; New Cost: \" +  str(cost_new_value)\n",
    "        tsc_score_history.append(tsc_score_old)\n",
    "        \n",
    "    train_loss_hist.append(gradnorm_val)\n",
    "    cost_history.append(cost_new_value)\n",
    "    \n",
    "    if i > 1:\n",
    "        diff_train = np.abs(train_loss_hist[i - 1] - train_loss_hist[i-2])/np.abs(train_loss_hist[i-1])\n",
    "        print (F_v, i, gradnorm_val, diff_train, alpha_val, theta_val, beta_val, cost_val, cost_new_val)\n",
    "        if diff_train <= epsilon_train:\n",
    "            print \"Breaking after \" + str(i) + \" iterations\"\n",
    "            break\n",
    "    else:\n",
    "        print (F_v, i, gradnorm_val, alpha_val, theta_val, beta_val, cost_val, cost_new_val)\n",
    "    log.append(F_v)"
   ]
  },
  {
   "cell_type": "code",
   "execution_count": 109,
   "metadata": {},
   "outputs": [
    {
     "name": "stdout",
     "output_type": "stream",
     "text": [
      "TSC Score Old: 0.0036416303\n"
     ]
    }
   ],
   "source": [
    "print \"TSC Score Old: \" +str(tsc_score_old)"
   ]
  },
  {
   "cell_type": "code",
   "execution_count": null,
   "metadata": {
    "collapsed": true
   },
   "outputs": [],
   "source": []
  },
  {
   "cell_type": "code",
   "execution_count": 110,
   "metadata": {},
   "outputs": [
    {
     "name": "stdout",
     "output_type": "stream",
     "text": [
      "Tensor(\"Maximum:0\", shape=(), dtype=float32)\n"
     ]
    }
   ],
   "source": [
    "print beta"
   ]
  },
  {
   "cell_type": "code",
   "execution_count": 111,
   "metadata": {
    "collapsed": true
   },
   "outputs": [],
   "source": [
    "#sess.run([eta_update_op.op, grad_update_op.op])"
   ]
  },
  {
   "cell_type": "code",
   "execution_count": 112,
   "metadata": {},
   "outputs": [
    {
     "name": "stdout",
     "output_type": "stream",
     "text": [
      "A Tensor Train variable of shape (53, 63, 46, 144), TT-ranks: (1, 53, 63, 63, 1)\n"
     ]
    }
   ],
   "source": [
    "print X"
   ]
  },
  {
   "cell_type": "code",
   "execution_count": 113,
   "metadata": {
    "collapsed": true
   },
   "outputs": [],
   "source": [
    "estimated_val = sess.run(t3f.full(X))"
   ]
  },
  {
   "cell_type": "code",
   "execution_count": 114,
   "metadata": {
    "collapsed": true
   },
   "outputs": [],
   "source": [
    "ground_truth_val = sess.run(ground_truth)\n"
   ]
  },
  {
   "cell_type": "code",
   "execution_count": 115,
   "metadata": {
    "collapsed": true
   },
   "outputs": [],
   "source": [
    "x_reconstr = mt.reconstruct(estimated_val,ground_truth_val, ten_ones, mask_indices)\n"
   ]
  },
  {
   "cell_type": "code",
   "execution_count": 116,
   "metadata": {
    "collapsed": true
   },
   "outputs": [],
   "source": [
    "def relative_error(x_hat,x_true):\n",
    "    percent_error = np.linalg.norm(x_hat - x_true) / np.linalg.norm(x_true)\n",
    "    return percent_error"
   ]
  },
  {
   "cell_type": "code",
   "execution_count": 117,
   "metadata": {
    "collapsed": true
   },
   "outputs": [],
   "source": [
    "rel_error = relative_error(estimated_val,ground_truth_val)"
   ]
  },
  {
   "cell_type": "code",
   "execution_count": 118,
   "metadata": {},
   "outputs": [
    {
     "name": "stdout",
     "output_type": "stream",
     "text": [
      "0.0041201096\n"
     ]
    }
   ],
   "source": [
    "print rel_error"
   ]
  },
  {
   "cell_type": "code",
   "execution_count": 119,
   "metadata": {
    "collapsed": true
   },
   "outputs": [],
   "source": [
    "rel_error_rec = relative_error(x_reconstr,ground_truth_val)"
   ]
  },
  {
   "cell_type": "code",
   "execution_count": 120,
   "metadata": {},
   "outputs": [
    {
     "data": {
      "text/plain": [
       "0.00269070271283422"
      ]
     },
     "execution_count": 120,
     "metadata": {},
     "output_type": "execute_result"
    }
   ],
   "source": [
    "rel_error_rec"
   ]
  },
  {
   "cell_type": "code",
   "execution_count": 121,
   "metadata": {
    "collapsed": true
   },
   "outputs": [],
   "source": [
    "x_miss_img = mt.reconstruct_image_affine(x_true_org, x_train)"
   ]
  },
  {
   "cell_type": "code",
   "execution_count": 122,
   "metadata": {
    "collapsed": true
   },
   "outputs": [],
   "source": [
    "x_miss = image.index_img(x_miss_img,1)"
   ]
  },
  {
   "cell_type": "code",
   "execution_count": 123,
   "metadata": {},
   "outputs": [
    {
     "data": {
      "image/png": "[encoded data removed]",
      "text/plain": [
       "<matplotlib.figure.Figure at 0x1695057d0>"
      ]
     },
     "metadata": {},
     "output_type": "display_data"
    }
   ],
   "source": [
    "x_miss_image = plotting.plot_epi(x_miss, bg_img=None,black_bg=True, cmap='jet', cut_coords=[1, -13, 32]) "
   ]
  },
  {
   "cell_type": "code",
   "execution_count": 124,
   "metadata": {},
   "outputs": [
    {
     "data": {
      "image/png": "[encoded data removed]",
      "text/plain": [
       "<matplotlib.figure.Figure at 0x1b7655a10>"
      ]
     },
     "metadata": {},
     "output_type": "display_data"
    }
   ],
   "source": [
    "x_hat_img = mt.reconstruct_image_affine(x_true_org, x_reconstr)\n",
    "x_hat = image.index_img(x_hat_img,1)\n",
    "recovered_image = plotting.plot_epi(x_hat, bg_img=None,black_bg=True, cmap='jet', cut_coords=None)"
   ]
  },
  {
   "cell_type": "code",
   "execution_count": 125,
   "metadata": {},
   "outputs": [
    {
     "data": {
      "image/png": "[encoded data removed]",
      "text/plain": [
       "<matplotlib.figure.Figure at 0x168de0fd0>"
      ]
     },
     "metadata": {},
     "output_type": "display_data"
    }
   ],
   "source": [
    "x_org = mt.reconstruct_image_affine(x_true_org, x_true_img)\n",
    "x_org_img = image.index_img(x_org,1)\n",
    "#x_true_org_img = image.index_img(x_true_org,1)\n",
    "org_image = plotting.plot_epi(x_org_img, bg_img=None,black_bg=True, cmap='jet', cut_coords=None)"
   ]
  },
  {
   "cell_type": "code",
   "execution_count": 126,
   "metadata": {
    "collapsed": true
   },
   "outputs": [],
   "source": [
    "#x_true_org_img = image.index_img(x_true_org,1)\n",
    "#org_image = plotting.plot_epi(x_true_org_img, bg_img=None,black_bg=True, cmap='jet', cut_coords=None)"
   ]
  },
  {
   "cell_type": "code",
   "execution_count": 127,
   "metadata": {},
   "outputs": [
    {
     "name": "stdout",
     "output_type": "stream",
     "text": [
      "('Saving figure', '/work/scratch/tt3/1/missing_ratio_60.00.png')\n",
      "Called from mrd\n"
     ]
    }
   ],
   "source": [
    "images_folder = \"/work/scratch/tt3/1\"\n",
    "mrd.draw_original_vs_reconstructed_rim(image.index_img(x_true_org,1),x_hat, image.index_img(x_miss_img,1), \"4D fMRI Tensor Completion\",\n",
    "                                             rel_error_rec, observed_ratio, coord=None, folder=images_folder)"
   ]
  },
  {
   "cell_type": "code",
   "execution_count": 128,
   "metadata": {
    "collapsed": true
   },
   "outputs": [],
   "source": [
    "estimated_val_img = mt.reconstruct_image_affine(x_true_org, estimated_val)"
   ]
  },
  {
   "cell_type": "code",
   "execution_count": 129,
   "metadata": {
    "collapsed": true
   },
   "outputs": [],
   "source": [
    "estimated_val_hat = image.index_img(estimated_val_img,1)"
   ]
  },
  {
   "cell_type": "code",
   "execution_count": 130,
   "metadata": {},
   "outputs": [
    {
     "name": "stdout",
     "output_type": "stream",
     "text": [
      "('Saving figure', '/work/scratch/tt3/2/missing_ratio_60.00.png')\n",
      "Called from mrd\n"
     ]
    }
   ],
   "source": [
    "images_folder = \"/work/scratch/tt3/2\"\n",
    "mrd.draw_original_vs_reconstructed_rim(image.index_img(x_true_org,1),estimated_val_hat,image.index_img(x_miss_img,1), \"4D fMRI Tensor Completion\",\n",
    "                                             rel_error_rec, observed_ratio, coord=None, folder=images_folder)"
   ]
  },
  {
   "cell_type": "code",
   "execution_count": null,
   "metadata": {
    "collapsed": true
   },
   "outputs": [],
   "source": []
  },
  {
   "cell_type": "code",
   "execution_count": 131,
   "metadata": {
    "collapsed": true
   },
   "outputs": [],
   "source": [
    "tsc_score1 = tsc(x_reconstr,ground_truth_val, ten_ones, mask_indices)"
   ]
  },
  {
   "cell_type": "code",
   "execution_count": 132,
   "metadata": {},
   "outputs": [
    {
     "data": {
      "text/plain": [
       "0.0036395139826763214"
      ]
     },
     "execution_count": 132,
     "metadata": {},
     "output_type": "execute_result"
    }
   ],
   "source": [
    "tsc_score1"
   ]
  },
  {
   "cell_type": "code",
   "execution_count": 133,
   "metadata": {
    "collapsed": true
   },
   "outputs": [],
   "source": [
    "tsc_score = tsc(estimated_val,ground_truth_val, ten_ones, mask_indices)"
   ]
  },
  {
   "cell_type": "code",
   "execution_count": 134,
   "metadata": {},
   "outputs": [
    {
     "data": {
      "text/plain": [
       "0.0036395139826763214"
      ]
     },
     "execution_count": 134,
     "metadata": {},
     "output_type": "execute_result"
    }
   ],
   "source": [
    "tsc_score"
   ]
  },
  {
   "cell_type": "code",
   "execution_count": 135,
   "metadata": {},
   "outputs": [
    {
     "data": {
      "text/plain": [
       "<nibabel.nifti1.Nifti1Image at 0x12cfa9690>"
      ]
     },
     "execution_count": 135,
     "metadata": {},
     "output_type": "execute_result"
    }
   ],
   "source": [
    "x_miss"
   ]
  },
  {
   "cell_type": "code",
   "execution_count": 136,
   "metadata": {},
   "outputs": [
    {
     "name": "stdout",
     "output_type": "stream",
     "text": [
      "<class 'nibabel.nifti1.Nifti1Image'>\n",
      "data shape (53, 63, 46)\n",
      "affine: \n",
      "[[  -3.    0.    0.   78.]\n",
      " [   0.    3.    0. -111.]\n",
      " [   0.    0.    3.  -51.]\n",
      " [   0.    0.    0.    1.]]\n",
      "metadata:\n",
      "<class 'nibabel.nifti1.Nifti1Header'> object, endian='<'\n",
      "sizeof_hdr      : 348\n",
      "data_type       : \n",
      "db_name         : \n",
      "extents         : 0\n",
      "session_error   : 0\n",
      "regular         : \n",
      "dim_info        : 0\n",
      "dim             : [ 3 53 63 46  1  1  1  1]\n",
      "intent_p1       : 0.0\n",
      "intent_p2       : 0.0\n",
      "intent_p3       : 0.0\n",
      "intent_code     : none\n",
      "datatype        : float32\n",
      "bitpix          : 32\n",
      "slice_start     : 0\n",
      "pixdim          : [-1.  3.  3.  3.  1.  1.  1.  1.]\n",
      "vox_offset      : 0.0\n",
      "scl_slope       : nan\n",
      "scl_inter       : nan\n",
      "slice_end       : 0\n",
      "slice_code      : unknown\n",
      "xyzt_units      : 0\n",
      "cal_max         : 0.00044677733\n",
      "cal_min         : 0.0\n",
      "slice_duration  : 0.0\n",
      "toffset         : 0.0\n",
      "glmax           : 0\n",
      "glmin           : 0\n",
      "descrip         : \n",
      "aux_file        : \n",
      "qform_code      : unknown\n",
      "sform_code      : aligned\n",
      "quatern_b       : 0.0\n",
      "quatern_c       : 1.0\n",
      "quatern_d       : 0.0\n",
      "qoffset_x       : 78.0\n",
      "qoffset_y       : -111.0\n",
      "qoffset_z       : -51.0\n",
      "srow_x          : [-3.  0.  0. 78.]\n",
      "srow_y          : [   0.    3.    0. -111.]\n",
      "srow_z          : [  0.   0.   3. -51.]\n",
      "intent_name     : \n",
      "magic           : n+1\n"
     ]
    }
   ],
   "source": [
    "print x_miss"
   ]
  },
  {
   "cell_type": "code",
   "execution_count": 137,
   "metadata": {},
   "outputs": [
    {
     "name": "stdout",
     "output_type": "stream",
     "text": [
      "0.09246032\n",
      "0.003530144\n",
      "0.0006312597\n",
      "0.00018791296\n",
      "4.7072335e-05\n",
      "2.2818673e-05\n",
      "1.5973803e-05\n",
      "1.2539418e-05\n",
      "1.0065585e-05\n",
      "8.712967e-06\n",
      "7.771228e-06\n",
      "7.048376e-06\n",
      "6.523366e-06\n",
      "6.119249e-06\n",
      "5.824273e-06\n",
      "5.598913e-06\n",
      "5.426866e-06\n",
      "5.2965192e-06\n",
      "5.196172e-06\n",
      "5.1210363e-06\n",
      "5.063976e-06\n",
      "5.022726e-06\n",
      "4.9915243e-06\n",
      "4.967004e-06\n",
      "4.94821e-06\n",
      "4.9343885e-06\n",
      "4.922611e-06\n",
      "4.9125097e-06\n",
      "4.903786e-06\n",
      "4.8962693e-06\n",
      "4.889093e-06\n",
      "4.881961e-06\n",
      "4.875548e-06\n",
      "4.8693746e-06\n",
      "('Saving dataset', '/work/rs1/solution_cost.csv')\n",
      "('Saving dataset', '/work/rs1/tsc_cost.csv')\n"
     ]
    }
   ],
   "source": [
    "output_cost = OrderedDict()\n",
    "indices = []\n",
    "\n",
    "cost_arr = []\n",
    "tsc_arr = []\n",
    "\n",
    "counter = 0\n",
    "for item in cost_history:\n",
    "    print item\n",
    "    cost_arr.append(item)\n",
    "    indices.append(counter)\n",
    "    counter = counter + 1\n",
    "    \n",
    "output_cost['k'] = indices\n",
    "output_cost['cost'] = cost_arr\n",
    "    \n",
    "output_df = pd.DataFrame(output_cost, index=indices)\n",
    "\n",
    "folder = '/work/rs1/'\n",
    "fig_id = 'solution_cost'    \n",
    "mrd.save_csv_by_path(output_df,folder,fig_id)  \n",
    "\n",
    "tsc_score_output = OrderedDict()\n",
    "tsc_score_indices = []\n",
    "\n",
    "counter = 0\n",
    "for item in tsc_score_history:\n",
    "    tsc_arr.append(item)\n",
    "    tsc_score_indices.append(counter)\n",
    "    counter = counter + 1\n",
    "\n",
    "tsc_score_output['k'] = tsc_score_indices\n",
    "tsc_score_output['tsc_cost'] = tsc_arr\n",
    "    \n",
    "output_tsc_df = pd.DataFrame(tsc_score_output, index=tsc_score_indices)\n",
    "fig_id = 'tsc_cost' \n",
    "mrd.save_csv_by_path(output_tsc_df,folder,fig_id)  "
   ]
  },
  {
   "cell_type": "code",
   "execution_count": 138,
   "metadata": {},
   "outputs": [
    {
     "data": {
      "text/plain": [
       "0.003530144"
      ]
     },
     "execution_count": 138,
     "metadata": {},
     "output_type": "execute_result"
    }
   ],
   "source": [
    "cost_history[1]"
   ]
  },
  {
   "cell_type": "code",
   "execution_count": 139,
   "metadata": {},
   "outputs": [
    {
     "name": "stdout",
     "output_type": "stream",
     "text": [
      "Missing Ratio: 0.6\n",
      "x_true_path:/work/rs1/x_true_img_60\n"
     ]
    }
   ],
   "source": [
    "import nibabel as nib\n",
    "import os\n",
    "\n",
    "suffix = int(round((missing_ratio)*100.0, 0))\n",
    "print \"Missing Ratio: \" + str(missing_ratio)\n",
    "x_true_path = os.path.join(folder,\"x_true_img_\" + str(suffix))\n",
    "x_hat_path = os.path.join(folder,\"x_hat_img_\" + str(suffix))\n",
    "x_miss_path = os.path.join(folder,\"x_miss_img_\" + str(suffix))\n",
    "        \n",
    "print(\"x_true_path:\" + str(x_true_path))\n",
    "nib.save(x_hat_img, x_hat_path)"
   ]
  },
  {
   "cell_type": "code",
   "execution_count": null,
   "metadata": {
    "collapsed": true
   },
   "outputs": [],
   "source": []
  },
  {
   "cell_type": "code",
   "execution_count": 158,
   "metadata": {
    "collapsed": true
   },
   "outputs": [],
   "source": [
    "std_img = math_img(\"np.std(img)\", img=x_true_org)\n",
    "mean_img = image.mean_img(x_true_org)\n",
    "z_scored_image = math_img(\"(yt - np.mean(yt))/np.std(yt)\", yt=x_true_org)"
   ]
  },
  {
   "cell_type": "code",
   "execution_count": 159,
   "metadata": {
    "collapsed": true
   },
   "outputs": [],
   "source": [
    "ground_truth_z_score = stats.zscore(z_scored_image.get_data())\n",
    "mask_z_score_indices = (abs(ground_truth_z_score) > 2).astype('int') "
   ]
  },
  {
   "cell_type": "code",
   "execution_count": 160,
   "metadata": {
    "collapsed": true
   },
   "outputs": [],
   "source": [
    "mask_z_indices_count = np.count_nonzero(mask_z_score_indices==1)\n",
    "#x_train[mask_indices==0] = 0.0"
   ]
  },
  {
   "cell_type": "code",
   "execution_count": 161,
   "metadata": {},
   "outputs": [
    {
     "data": {
      "text/plain": [
       "687217"
      ]
     },
     "execution_count": 161,
     "metadata": {},
     "output_type": "execute_result"
    }
   ],
   "source": [
    "mask_z_indices_count"
   ]
  },
  {
   "cell_type": "code",
   "execution_count": 143,
   "metadata": {
    "collapsed": true
   },
   "outputs": [],
   "source": [
    "def tsc_z_score(x_hat,x_true, ten_ones, mask, z_score_mask):\n",
    "    x_true_ind = np.multiply(x_true, z_score_mask)\n",
    "    x_hat_ind = np.multiply(x_hat, z_score_mask)\n",
    "    nomin = np.linalg.norm(np.multiply((ten_ones - mask), (x_true_ind -  x_hat_ind)))\n",
    "    denom = np.linalg.norm(np.multiply((ten_ones - mask), x_true_ind))\n",
    "    score = nomin/denom\n",
    "    return score "
   ]
  },
  {
   "cell_type": "code",
   "execution_count": 162,
   "metadata": {},
   "outputs": [
    {
     "data": {
      "text/plain": [
       "687217"
      ]
     },
     "execution_count": 162,
     "metadata": {},
     "output_type": "execute_result"
    }
   ],
   "source": [
    "mask_z_indices_count"
   ]
  },
  {
   "cell_type": "code",
   "execution_count": 145,
   "metadata": {},
   "outputs": [
    {
     "data": {
      "text/plain": [
       "(53, 63, 46, 144)"
      ]
     },
     "execution_count": 145,
     "metadata": {},
     "output_type": "execute_result"
    }
   ],
   "source": [
    "mask_z_score_indices.shape"
   ]
  },
  {
   "cell_type": "code",
   "execution_count": 163,
   "metadata": {
    "collapsed": true
   },
   "outputs": [],
   "source": [
    "z_scored_tsc = tsc_z_score(x_reconstr,ground_truth_val, ten_ones, mask_indices, mask_z_score_indices)"
   ]
  },
  {
   "cell_type": "code",
   "execution_count": 164,
   "metadata": {},
   "outputs": [
    {
     "data": {
      "text/plain": [
       "0.004784236514984682"
      ]
     },
     "execution_count": 164,
     "metadata": {},
     "output_type": "execute_result"
    }
   ],
   "source": [
    "z_scored_tsc"
   ]
  },
  {
   "cell_type": "code",
   "execution_count": 148,
   "metadata": {},
   "outputs": [
    {
     "data": {
      "text/plain": [
       "35"
      ]
     },
     "execution_count": 148,
     "metadata": {},
     "output_type": "execute_result"
    }
   ],
   "source": [
    "len(tsc_score_history)"
   ]
  },
  {
   "cell_type": "code",
   "execution_count": 149,
   "metadata": {},
   "outputs": [
    {
     "data": {
      "text/plain": [
       "0.003678325"
      ]
     },
     "execution_count": 149,
     "metadata": {},
     "output_type": "execute_result"
    }
   ],
   "source": [
    "tsc_score_history[24]"
   ]
  },
  {
   "cell_type": "code",
   "execution_count": null,
   "metadata": {
    "collapsed": true
   },
   "outputs": [],
   "source": []
  }
 ],
 "metadata": {
  "kernelspec": {
   "display_name": "Python 2",
   "language": "python",
   "name": "python2"
  },
  "language_info": {
   "codemirror_mode": {
    "name": "ipython",
    "version": 2
   },
   "file_extension": ".py",
   "mimetype": "text/x-python",
   "name": "python",
   "nbconvert_exporter": "python",
   "pygments_lexer": "ipython2",
   "version": "2.7.13"
  }
 },
 "nbformat": 4,
 "nbformat_minor": 2
}
