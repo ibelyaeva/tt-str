{
 "cells": [
  {
   "cell_type": "code",
   "execution_count": 1,
   "metadata": {},
   "outputs": [
    {
     "name": "stderr",
     "output_type": "stream",
     "text": [
      "/usr/local/lib/python2.7/site-packages/tvtk/array_handler.py:268: FutureWarning: Conversion of the second argument of issubdtype from `complex` to `np.complexfloating` is deprecated. In future, it will be treated as `np.complex128 == np.dtype(complex).type`.\n",
      "  assert not numpy.issubdtype(z.dtype, complex), \\\n"
     ]
    }
   ],
   "source": [
    "\"\"\"\n",
    "This example uses the streamline module to display field lines of a\n",
    "magnetic dipole (a current loop).\n",
    "This example requires scipy.\n",
    "The magnetic field from an arbitrary current loop is calculated from\n",
    "eqns (1) and (2) in Phys Rev A Vol. 35, N 4, pp. 1535-1546; 1987.\n",
    "To get a prettier result, we use a fairly large grid to sample the\n",
    "field. As a consequence, we need to clear temporary arrays as soon as\n",
    "possible.\n",
    "For a more thorough example of magnetic field calculation and\n",
    "visualization with Mayavi and scipy, see\n",
    ":ref:`example_magnetic_field`.\n",
    "\"\"\"\n",
    "# Author: Gael Varoquaux <gael.varoquaux@normalesup.org>\n",
    "# Copyright (c) 2007, Enthought, Inc.\n",
    "# License: BSD Style.\n",
    "\n",
    "import numpy as np\n",
    "from scipy import special\n",
    "\n",
    "#### Calculate the field ####################################################\n",
    "radius = 1  # Radius of the coils\n",
    "\n",
    "x, y, z = [e.astype(np.float32) for e in\n",
    "            np.ogrid[-10:10:150j, -10:10:150j, -10:10:150j]]\n",
    "\n",
    "# express the coordinates in polar form\n",
    "rho = np.sqrt(x ** 2 + y ** 2)\n",
    "x_proj = x / rho\n",
    "y_proj = y / rho\n",
    "# Free memory early\n",
    "del x, y\n",
    "\n",
    "E = special.ellipe((4 * radius * rho) / ((radius + rho) ** 2 + z ** 2))\n",
    "K = special.ellipk((4 * radius * rho) / ((radius + rho) ** 2 + z ** 2))\n",
    "Bz = 1 / np.sqrt((radius + rho) ** 2 + z ** 2) * (\n",
    "                K\n",
    "                + E * (radius ** 2 - rho ** 2 - z ** 2) /\n",
    "                    ((radius - rho) ** 2 + z ** 2)\n",
    "            )\n",
    "Brho = z / (rho * np.sqrt((radius + rho) ** 2 + z ** 2)) * (\n",
    "                - K\n",
    "                + E * (radius ** 2 + rho ** 2 + z ** 2) /\n",
    "                    ((radius - rho) ** 2 + z ** 2)\n",
    "            )\n",
    "del E, K, z, rho\n",
    "# On the axis of the coil we get a divided by zero. This returns a\n",
    "# NaN, where the field is actually zero :\n",
    "Brho[np.isnan(Brho)] = 0\n",
    "\n",
    "Bx, By = x_proj * Brho, y_proj * Brho\n",
    "\n",
    "del x_proj, y_proj, Brho\n",
    "\n",
    "#### Visualize the field ####################################################\n",
    "from mayavi import mlab\n",
    "fig = mlab.figure(1, size=(400, 400), bgcolor=(1, 1, 1), fgcolor=(0, 0, 0))\n",
    "\n",
    "field = mlab.pipeline.vector_field(Bx, By, Bz)\n",
    "# Unfortunately, the above call makes a copy of the arrays, so we delete\n",
    "# this copy to free memory.\n",
    "del Bx, By, Bz\n",
    "\n",
    "magnitude = mlab.pipeline.extract_vector_norm(field)\n",
    "contours = mlab.pipeline.iso_surface(magnitude,\n",
    "                                        contours=[0.01, 0.8, 3.8, ],\n",
    "                                        transparent=True,\n",
    "                                        opacity=0.4,\n",
    "                                        colormap='YlGnBu',\n",
    "                                        vmin=0, vmax=2)\n",
    "\n",
    "\n",
    "field_lines = mlab.pipeline.streamline(magnitude, seedtype='line',\n",
    "                                        integration_direction='both',\n",
    "                                        colormap='bone',\n",
    "                                        vmin=0, vmax=1)\n",
    "\n",
    "# Tweak a bit the streamline.\n",
    "field_lines.stream_tracer.maximum_propagation = 100.\n",
    "field_lines.seed.widget.point1 = [69, 75.5, 75.5]\n",
    "field_lines.seed.widget.point2 = [82, 75.5, 75.5]\n",
    "field_lines.seed.widget.resolution = 50\n",
    "field_lines.seed.widget.enabled = False\n",
    "\n",
    "mlab.view(42, 73, 104, [79,  75,  76])\n",
    "\n",
    "mlab.show()"
   ]
  },
  {
   "cell_type": "code",
   "execution_count": 2,
   "metadata": {},
   "outputs": [
    {
     "ename": "NameError",
     "evalue": "name 'Bx' is not defined",
     "output_type": "error",
     "traceback": [
      "\u001b[0;31m---------------------------------------------------------------------------\u001b[0m",
      "\u001b[0;31mNameError\u001b[0m                                 Traceback (most recent call last)",
      "\u001b[0;32m<ipython-input-2-d60aaa27901d>\u001b[0m in \u001b[0;36m<module>\u001b[0;34m()\u001b[0m\n\u001b[0;32m----> 1\u001b[0;31m \u001b[0mBx\u001b[0m\u001b[0;34m.\u001b[0m\u001b[0mshape\u001b[0m\u001b[0;34m\u001b[0m\u001b[0m\n\u001b[0m",
      "\u001b[0;31mNameError\u001b[0m: name 'Bx' is not defined"
     ]
    }
   ],
   "source": [
    "Bx.shape"
   ]
  },
  {
   "cell_type": "code",
   "execution_count": null,
   "metadata": {
    "collapsed": true
   },
   "outputs": [],
   "source": []
  }
 ],
 "metadata": {
  "kernelspec": {
   "display_name": "Python 2",
   "language": "python",
   "name": "python2"
  },
  "language_info": {
   "codemirror_mode": {
    "name": "ipython",
    "version": 2
   },
   "file_extension": ".py",
   "mimetype": "text/x-python",
   "name": "python",
   "nbconvert_exporter": "python",
   "pygments_lexer": "ipython2",
   "version": "2.7.13"
  }
 },
 "nbformat": 4,
 "nbformat_minor": 2
}
