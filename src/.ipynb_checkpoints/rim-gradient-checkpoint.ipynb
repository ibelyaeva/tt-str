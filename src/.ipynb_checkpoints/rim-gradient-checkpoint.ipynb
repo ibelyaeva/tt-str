{
 "cells": [
  {
   "cell_type": "code",
   "execution_count": 1,
   "metadata": {},
   "outputs": [
    {
     "name": "stderr",
     "output_type": "stream",
     "text": [
      "/usr/local/lib/python2.7/site-packages/matplotlib/__init__.py:1405: UserWarning: \n",
      "This call to matplotlib.use() has no effect because the backend has already\n",
      "been chosen; matplotlib.use() must be called *before* pylab, matplotlib.pyplot,\n",
      "or matplotlib.backends is imported for the first time.\n",
      "\n",
      "  warnings.warn(_use_error_msg)\n"
     ]
    }
   ],
   "source": [
    "import tensorflow as tf\n",
    "import numpy as np\n",
    "import t3f\n",
    "tf.set_random_seed(0)\n",
    "np.random.seed(0)\n",
    "%matplotlib inline\n",
    "import matplotlib.pyplot as plt\n",
    "import metric_util as mt\n",
    "import data_util as du\n",
    "from t3f import shapes\n",
    "from nilearn import image\n",
    "from skimage.measure import compare_ssim as ssim\n",
    "from tensorflow.python.util import nest\n",
    "import copy\n",
    "from nilearn import plotting"
   ]
  },
  {
   "cell_type": "code",
   "execution_count": 2,
   "metadata": {
    "collapsed": true
   },
   "outputs": [],
   "source": [
    "#sess = tf.InteractiveSession()"
   ]
  },
  {
   "cell_type": "code",
   "execution_count": 3,
   "metadata": {
    "collapsed": true
   },
   "outputs": [],
   "source": [
    "def frobenius_norm_tf(x):\n",
    "    return tf.reduce_sum(x ** 2) ** 0.5"
   ]
  },
  {
   "cell_type": "code",
   "execution_count": 4,
   "metadata": {
    "collapsed": true
   },
   "outputs": [],
   "source": [
    "def relative_error1(x_hat,x_true):\n",
    "    percent_error = frobenius_norm_tf(x_hat - x_true) / frobenius_norm_tf(x_true)\n",
    "    return percent_error"
   ]
  },
  {
   "cell_type": "code",
   "execution_count": 5,
   "metadata": {},
   "outputs": [
    {
     "name": "stdout",
     "output_type": "stream",
     "text": [
      "Subject Path: /work/pl/sch/analysis/data/COBRE001/swaAMAYER+cobre01_63001+M87100944+20110309at135133+RSTpre_V01_R01+CM.nii\n"
     ]
    }
   ],
   "source": [
    "subject_scan_path = du.get_full_path_subject1()\n",
    "print \"Subject Path: \" + str(subject_scan_path)\n",
    "x_true_org = mt.read_image_abs_path(subject_scan_path)\n"
   ]
  },
  {
   "cell_type": "code",
   "execution_count": 6,
   "metadata": {
    "collapsed": true
   },
   "outputs": [],
   "source": [
    "observed_ratio = 0.9\n",
    "x_true_img = np.array(x_true_org.get_data())\n",
    "mask_indices = (np.random.rand(x_true_img.shape[0],x_true_img.shape[1],x_true_img.shape[2], x_true_img.shape[3]) < observed_ratio).astype('int') \n",
    "ten_ones = np.ones_like(mask_indices)\n",
    "x_train = copy.deepcopy(x_true_img)\n",
    "x_train[mask_indices==0] = 0.0\n",
    "#x_train[mask_indices == 0] = np.mean(x_train[mask_indices == 1])\n",
    "x_init = copy.deepcopy(x_train)\n",
    "\n",
    "ground_truth = copy.deepcopy(x_true_img)"
   ]
  },
  {
   "cell_type": "code",
   "execution_count": 7,
   "metadata": {
    "collapsed": true
   },
   "outputs": [],
   "source": [
    "x_miss_img = mt.reconstruct_image_affine(x_true_org, x_train)"
   ]
  },
  {
   "cell_type": "code",
   "execution_count": 8,
   "metadata": {
    "collapsed": true
   },
   "outputs": [],
   "source": [
    "x_miss = image.index_img(x_miss_img,1)"
   ]
  },
  {
   "cell_type": "code",
   "execution_count": 9,
   "metadata": {},
   "outputs": [
    {
     "data": {
      "image/png": "[encoded data removed]",
      "text/plain": [
       "<matplotlib.figure.Figure at 0x11aae3c90>"
      ]
     },
     "metadata": {},
     "output_type": "display_data"
    }
   ],
   "source": [
    "x_miss_image = plotting.plot_epi(x_miss, bg_img=None,black_bg=True, cmap='jet', cut_coords=None) "
   ]
  },
  {
   "cell_type": "code",
   "execution_count": 10,
   "metadata": {},
   "outputs": [
    {
     "name": "stdout",
     "output_type": "stream",
     "text": [
      "[1, 53, 1, 1, 1] 0 (1, 53, 53)\n",
      "[1, 53, 144, 1, 1] 1 (53, 63, 144)\n",
      "[1, 53, 144, 144, 1] 2 (144, 46, 144)\n",
      "ranks: [1, 53, 144, 144, 1]\n"
     ]
    }
   ],
   "source": [
    "ground_truth_tf = t3f.to_tt_tensor(ground_truth, max_tt_rank=63)"
   ]
  },
  {
   "cell_type": "code",
   "execution_count": 11,
   "metadata": {},
   "outputs": [],
   "source": [
    "A = t3f.get_variable('A', initializer=ground_truth_tf, trainable=False)"
   ]
  },
  {
   "cell_type": "code",
   "execution_count": 12,
   "metadata": {},
   "outputs": [
    {
     "name": "stdout",
     "output_type": "stream",
     "text": [
      "A Tensor Train variable of shape (53, 63, 46, 144), TT-ranks: (1, 53, 144, 144, 1)\n"
     ]
    }
   ],
   "source": [
    "print A"
   ]
  },
  {
   "cell_type": "code",
   "execution_count": 13,
   "metadata": {},
   "outputs": [
    {
     "name": "stdout",
     "output_type": "stream",
     "text": [
      "[1, 53, 1, 1, 1] 0 (1, 53, 53)\n",
      "[1, 53, 144, 1, 1] 1 (53, 63, 144)\n",
      "[1, 53, 144, 144, 1] 2 (144, 46, 144)\n",
      "ranks: [1, 53, 144, 144, 1]\n"
     ]
    }
   ],
   "source": [
    "x_train_tf = t3f.to_tt_tensor(x_init, max_tt_rank=63)"
   ]
  },
  {
   "cell_type": "code",
   "execution_count": 14,
   "metadata": {
    "collapsed": true
   },
   "outputs": [],
   "source": [
    "X = t3f.get_variable('X', initializer=x_train_tf)"
   ]
  },
  {
   "cell_type": "code",
   "execution_count": 15,
   "metadata": {},
   "outputs": [],
   "source": [
    "# Algorithm\n",
    "gradF = X - A\n",
    "riemannian_grad = t3f.riemannian.project(gradF, X)\n",
    "F = 0.5 * t3f.frobenius_norm_squared(X - A)\n",
    "alpha = 0.01\n",
    "gradnorm = t3f.frobenius_norm_squared(X - A)/(t3f.frobenius_norm_squared(A))\n",
    "\n",
    "train_step = t3f.assign(X, t3f.round(X - alpha * riemannian_grad, max_tt_rank=63))\n",
    "rel_error1 = relative_error1(t3f.full(X), t3f.full(A))\n"
   ]
  },
  {
   "cell_type": "code",
   "execution_count": 16,
   "metadata": {},
   "outputs": [],
   "source": [
    "eps = 1.0e-5"
   ]
  },
  {
   "cell_type": "code",
   "execution_count": null,
   "metadata": {},
   "outputs": [
    {
     "data": {
      "text/plain": [
       "1e-05"
      ]
     },
     "execution_count": 17,
     "metadata": {},
     "output_type": "execute_result"
    }
   ],
   "source": [
    "eps"
   ]
  },
  {
   "cell_type": "code",
   "execution_count": null,
   "metadata": {},
   "outputs": [
    {
     "name": "stdout",
     "output_type": "stream",
     "text": [
      "(69212920000000.0, 1, 0.024655635, 0.15700592)\n",
      "(67863755000000.0, 2, 0.024175024, 0.15544668)\n",
      "(66523050000000.0, 3, 0.023697425, 0.15390319)\n",
      "(65209444000000.0, 4, 0.023229482, 0.15237446)\n",
      "(63921503000000.0, 5, 0.022770679, 0.15086165)\n",
      "(62657755000000.0, 6, 0.022320496, 0.14936388)\n",
      "(61421266000000.0, 7, 0.021880023, 0.14788102)\n",
      "(60206822000000.0, 8, 0.021447403, 0.14641336)\n",
      "(59017875000000.0, 9, 0.021023866, 0.14496057)\n",
      "(57852610000000.0, 10, 0.020608764, 0.14352192)\n",
      "(56710600000000.0, 11, 0.02020195, 0.14209783)\n",
      "(55590773000000.0, 12, 0.019803034, 0.14068858)\n",
      "(54493990000000.0, 13, 0.019412328, 0.13929337)\n",
      "(53418620000000.0, 14, 0.019029249, 0.13791147)\n",
      "(52364780000000.0, 15, 0.018653842, 0.13654357)\n",
      "(51330970000000.0, 16, 0.018285569, 0.1351898)\n",
      "(50318277000000.0, 17, 0.01792482, 0.13384992)\n",
      "(49325410000000.0, 18, 0.01757113, 0.13252291)\n",
      "(48353207000000.0, 19, 0.017224804, 0.13120916)\n",
      "(47398382000000.0, 20, 0.016884668, 0.12990846)\n",
      "(46462820000000.0, 21, 0.016551394, 0.1286211)\n",
      "(45547356000000.0, 22, 0.01622528, 0.1273473)\n",
      "(44649322000000.0, 23, 0.015905375, 0.12608576)\n",
      "(43769425000000.0, 24, 0.015591929, 0.124837145)\n",
      "(42906300000000.0, 25, 0.015284459, 0.123600654)\n",
      "(42060397000000.0, 26, 0.014983124, 0.12237659)\n",
      "(41231455000000.0, 27, 0.0146878315, 0.12116445)\n",
      "(40419210000000.0, 28, 0.014398486, 0.11996455)\n",
      "(39622920000000.0, 29, 0.014114824, 0.11877647)\n",
      "(38843290000000.0, 30, 0.013837098, 0.11760062)\n",
      "(38077480000000.0, 31, 0.013564295, 0.1164365)\n",
      "(37327400000000.0, 32, 0.013297095, 0.1152841)\n",
      "(36593046000000.0, 33, 0.013035497, 0.114143394)\n",
      "(35871950000000.0, 34, 0.01277862, 0.11301395)\n",
      "(35166154000000.0, 35, 0.012527197, 0.111895815)\n",
      "(34473980000000.0, 36, 0.012280624, 0.11078854)\n",
      "(33795110000000.0, 37, 0.012038791, 0.1096926)\n",
      "(33130092000000.0, 38, 0.011801893, 0.10860786)\n",
      "(32477895000000.0, 39, 0.0115695605, 0.10753375)\n",
      "(31838916000000.0, 40, 0.011341938, 0.10647083)\n",
      "(31216412000000.0, 41, 0.011120184, 0.105418354)\n",
      "(30603018000000.0, 42, 0.010901676, 0.104376435)\n",
      "(30001110000000.0, 43, 0.010687259, 0.103345215)\n",
      "(29411674000000.0, 44, 0.010477285, 0.1023245)\n",
      "(28833003000000.0, 45, 0.010271145, 0.10131402)\n",
      "(28267015000000.0, 46, 0.010069524, 0.1003138)\n",
      "(27711318000000.0, 47, 0.009871569, 0.09932404)\n",
      "(27167925000000.0, 48, 0.009677997, 0.098343745)\n",
      "(26633147000000.0, 49, 0.009487494, 0.097372726)\n",
      "(26110247000000.0, 50, 0.009301222, 0.096412025)\n",
      "(25597510000000.0, 51, 0.00911857, 0.09546108)\n",
      "(25094972000000.0, 52, 0.008939551, 0.09451966)\n",
      "(24601896000000.0, 53, 0.008763904, 0.093587615)\n",
      "(24119144000000.0, 54, 0.008591933, 0.09266471)\n",
      "(23645735000000.0, 55, 0.008423291, 0.09175116)\n"
     ]
    }
   ],
   "source": [
    "sess = tf.Session()\n",
    "sess.run(tf.global_variables_initializer())\n",
    "log = []\n",
    "#for i in range(1000):\n",
    "gradnorm_val = sess.run([gradnorm])\n",
    "i = 0\n",
    "while gradnorm_val > eps:    \n",
    "    i = i + 1\n",
    "    F_v, rel_error1_v, gradnorm_val,_ = sess.run([F, rel_error1, gradnorm, train_step.op])\n",
    "    print (F_v, i, gradnorm_val, rel_error1_v)\n",
    "    log.append(F_v)"
   ]
  },
  {
   "cell_type": "code",
   "execution_count": null,
   "metadata": {
    "collapsed": true
   },
   "outputs": [],
   "source": []
  },
  {
   "cell_type": "code",
   "execution_count": null,
   "metadata": {
    "collapsed": true
   },
   "outputs": [],
   "source": [
    "estimated_val = sess.run(t3f.full(X))"
   ]
  },
  {
   "cell_type": "code",
   "execution_count": null,
   "metadata": {
    "collapsed": true
   },
   "outputs": [],
   "source": [
    "def relative_error(x_hat,x_true):\n",
    "    percent_error = np.linalg.norm(x_hat - x_true) / np.linalg.norm(x_true)\n",
    "    return percent_error"
   ]
  },
  {
   "cell_type": "code",
   "execution_count": null,
   "metadata": {
    "collapsed": true
   },
   "outputs": [],
   "source": [
    "rel_error = relative_error(estimated_val,ground_truth)"
   ]
  },
  {
   "cell_type": "code",
   "execution_count": null,
   "metadata": {},
   "outputs": [],
   "source": [
    "rel_error"
   ]
  },
  {
   "cell_type": "code",
   "execution_count": null,
   "metadata": {
    "collapsed": true
   },
   "outputs": [],
   "source": [
    "x_miss_img = mt.reconstruct_image_affine(x_true_org, x_train)"
   ]
  },
  {
   "cell_type": "code",
   "execution_count": null,
   "metadata": {
    "collapsed": true
   },
   "outputs": [],
   "source": [
    "x_miss = image.index_img(x_miss_img,1)"
   ]
  },
  {
   "cell_type": "code",
   "execution_count": null,
   "metadata": {},
   "outputs": [],
   "source": [
    "x_miss_image = plotting.plot_epi(x_miss, bg_img=None,black_bg=True, cmap='jet', cut_coords=None) "
   ]
  },
  {
   "cell_type": "code",
   "execution_count": null,
   "metadata": {},
   "outputs": [],
   "source": [
    "x_hat_img = mt.reconstruct_image_affine(x_true_org, estimated_val)\n",
    "x_hat = image.index_img(x_hat_img,1)\n",
    "recovered_image = plotting.plot_epi(x_hat, bg_img=None,black_bg=True, cmap='jet', cut_coords=None)"
   ]
  },
  {
   "cell_type": "code",
   "execution_count": null,
   "metadata": {},
   "outputs": [],
   "source": [
    "x_true_org_img = image.index_img(x_true_org,1)\n",
    "org_image = plotting.plot_epi(x_true_org_img, bg_img=None,black_bg=True, cmap='jet', cut_coords=None)"
   ]
  },
  {
   "cell_type": "code",
   "execution_count": null,
   "metadata": {
    "collapsed": true
   },
   "outputs": [],
   "source": []
  },
  {
   "cell_type": "code",
   "execution_count": null,
   "metadata": {
    "collapsed": true
   },
   "outputs": [],
   "source": []
  },
  {
   "cell_type": "code",
   "execution_count": null,
   "metadata": {
    "collapsed": true
   },
   "outputs": [],
   "source": []
  }
 ],
 "metadata": {
  "kernelspec": {
   "display_name": "Python 2",
   "language": "python",
   "name": "python2"
  },
  "language_info": {
   "codemirror_mode": {
    "name": "ipython",
    "version": 2
   },
   "file_extension": ".py",
   "mimetype": "text/x-python",
   "name": "python",
   "nbconvert_exporter": "python",
   "pygments_lexer": "ipython2",
   "version": "2.7.13"
  }
 },
 "nbformat": 4,
 "nbformat_minor": 2
}
