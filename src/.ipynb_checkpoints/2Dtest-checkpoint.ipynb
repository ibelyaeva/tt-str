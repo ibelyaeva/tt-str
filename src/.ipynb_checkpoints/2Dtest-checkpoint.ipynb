{
 "cells": [
  {
   "cell_type": "code",
   "execution_count": 1,
   "metadata": {
    "collapsed": true
   },
   "outputs": [],
   "source": [
    "import nilearn\n",
    "\n",
    "from medpy.io import load\n",
    "from medpy.features.intensity import intensities\n",
    "from nilearn import image\n",
    "import nibabel as nib\n",
    "from medpy.io import header\n",
    "from medpy.io import load, save\n",
    "import copy\n",
    "from nilearn import plotting\n",
    "import os\n",
    "import numpy as np\n",
    "import SimpleITK as sitk\n",
    "import matplotlib.pyplot as plt\n",
    "import matplotlib.gridspec as gridspec\n",
    "import random\n",
    "from math import ceil\n",
    "from nilearn.datasets import MNI152_FILE_PATH\n",
    "from sklearn.model_selection import train_test_split\n",
    "from nibabel.affines import apply_affine\n",
    "from nilearn.image.resampling import coord_transform, get_bounds, get_mask_bounds\n",
    "from skimage.draw import ellipsoid\n",
    "from nilearn.image import resample_img\n",
    "from nilearn.masking import compute_background_mask\n",
    "import pyten\n",
    "from pyten.tenclass import Tensor  # Use it to construct Tensor object\n",
    "from pyten.tools import tenerror\n",
    "from pyten.method import *\n",
    "\n",
    "import mri_draw_utils as mri_d\n",
    "import data_util as dtu\n",
    "import metric_util as mt\n",
    "from scipy import ndimage"
   ]
  },
  {
   "cell_type": "code",
   "execution_count": 2,
   "metadata": {
    "collapsed": true
   },
   "outputs": [],
   "source": [
    "import data_util as du"
   ]
  },
  {
   "cell_type": "code",
   "execution_count": null,
   "metadata": {
    "collapsed": true
   },
   "outputs": [],
   "source": [
    "subject_scan_path = du.get_full_path_subject1()\n",
    "print \"Subject Path: \" + str(subject_scan_path)\n",
    "    \n",
    "title = 'fMRI 2D Scan Completion. Pattern - Randomly Missing Values.'\n",
    "pattern = 'random'\n",
    "solution_path = \"/work/pl/sch/analysis/scripts/csv_data/solution/random/d2\""
   ]
  }
 ],
 "metadata": {
  "kernelspec": {
   "display_name": "Python 2",
   "language": "python",
   "name": "python2"
  },
  "language_info": {
   "codemirror_mode": {
    "name": "ipython",
    "version": 2
   },
   "file_extension": ".py",
   "mimetype": "text/x-python",
   "name": "python",
   "nbconvert_exporter": "python",
   "pygments_lexer": "ipython2",
   "version": "2.7.13"
  }
 },
 "nbformat": 4,
 "nbformat_minor": 2
}
