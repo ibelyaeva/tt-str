{
 "cells": [
  {
   "cell_type": "code",
   "execution_count": 1,
   "metadata": {},
   "outputs": [
    {
     "name": "stderr",
     "output_type": "stream",
     "text": [
      "/usr/local/lib/python2.7/site-packages/matplotlib/__init__.py:1405: UserWarning: \n",
      "This call to matplotlib.use() has no effect because the backend has already\n",
      "been chosen; matplotlib.use() must be called *before* pylab, matplotlib.pyplot,\n",
      "or matplotlib.backends is imported for the first time.\n",
      "\n",
      "  warnings.warn(_use_error_msg)\n"
     ]
    }
   ],
   "source": [
    "import numpy as np\n",
    "import tensorflow as tf\n",
    "import t3f\n",
    "tf.set_random_seed(0)\n",
    "np.random.seed(0)\n",
    "%matplotlib inline\n",
    "import matplotlib.pyplot as plt\n",
    "import metric_util as mt\n",
    "import data_util as du\n",
    "from t3f import shapes\n",
    "from nilearn import image\n",
    "import nibabel as nib"
   ]
  },
  {
   "cell_type": "markdown",
   "metadata": {},
   "source": [
    "# Tensor completion\n",
    "\n",
    "In this example we will see how can we do tensor completion with t3f, i.e. observe a fraction of values in a tensor and recover the rest by assuming that the original tensor has low TT-rank.\n",
    "Mathematically it means that we have a binary mask $P$ and a ground truth tensor $A$, but we observe only a noisy and sparsified version of $A$: $P \\odot (\\hat{A})$, where $\\odot$ is the elementwise product (applying the binary mask) and $\\hat{A} = A + \\text{noise}$. In this case our task reduces to the following optimization problem:\n",
    "\\begin{equation*}\n",
    "\\begin{aligned}\n",
    "& \\underset{X}{\\text{minimize}} \n",
    "& & \\|P \\odot (X - \\hat{A})\\|_F^2 \\\\\n",
    "& \\text{subject to} \n",
    "& & \\text{tt_rank}(X) \\leq r_0\n",
    "\\end{aligned}\n",
    "\\end{equation*}\n",
    "\n"
   ]
  },
  {
   "cell_type": "markdown",
   "metadata": {},
   "source": [
    "### Generating problem instance,\n",
    "Lets generate a random matrix $A$, noise, and mask $P$."
   ]
  },
  {
   "cell_type": "code",
   "execution_count": 2,
   "metadata": {},
   "outputs": [
    {
     "name": "stdout",
     "output_type": "stream",
     "text": [
      "Subject Path: /work/pl/sch/analysis/data/COBRE001/swaAMAYER+cobre01_63001+M87100944+20110309at135133+RSTpre_V01_R01+CM.nii\n"
     ]
    }
   ],
   "source": [
    "subject_scan_path = du.get_full_path_subject1()\n",
    "print \"Subject Path: \" + str(subject_scan_path)\n",
    "x_true_org = mt.read_image_abs_path(subject_scan_path)\n",
    "#x_true_org = image.index_img(x_true_org,1)\n",
    "x_true_org1 = mt.read_image_abs_path(subject_scan_path)"
   ]
  },
  {
   "cell_type": "code",
   "execution_count": 3,
   "metadata": {},
   "outputs": [],
   "source": [
    "x_true_img = np.array(x_true_org.get_data())"
   ]
  },
  {
   "cell_type": "code",
   "execution_count": 4,
   "metadata": {},
   "outputs": [],
   "source": [
    "#shape = (3, 4, 4, 5, 7, 5)\n",
    "shape = (53,63,46,144)\n",
    "# Fix random seed so the results are comparable between runs.\n",
    "tf.set_random_seed(0)\n",
    "# Generate ground truth tensor A. To make sure that it has low TT-rank,\n",
    "# let's generate a random tt-rank 5 tensor and apply t3f.full to it to convert to actual tensor.\n",
    "#ground_truth = t3f.full(t3f.random_tensor(shape, tt_rank=5))\n",
    "ground_truth = x_true_img\n",
    "# Make a (non trainable) variable out of ground truth. Otherwise, it will be randomly regenerated on each sess.run.\n",
    "ground_truth = tf.get_variable('ground_truth', initializer=ground_truth, trainable=False)\n",
    "noise = 1e-2 * tf.get_variable('noise', initializer=tf.random_normal(shape), trainable=False)\n",
    "noisy_ground_truth = ground_truth\n",
    "# Observe 25% of the tensor values.\n",
    "sparsity_mask = tf.cast(tf.random_uniform(shape) <= 0.80, tf.float32)\n",
    "sparsity_mask = tf.get_variable('sparsity_mask', initializer=sparsity_mask, trainable=False)\n",
    "sparse_observation = noisy_ground_truth * sparsity_mask"
   ]
  },
  {
   "cell_type": "markdown",
   "metadata": {},
   "source": [
    "### Initialize the variable and compute the loss"
   ]
  },
  {
   "cell_type": "code",
   "execution_count": 5,
   "metadata": {},
   "outputs": [],
   "source": [
    "def frobenius_norm_tf(x):\n",
    "    return tf.reduce_sum(x ** 2) ** 0.5"
   ]
  },
  {
   "cell_type": "code",
   "execution_count": 6,
   "metadata": {},
   "outputs": [],
   "source": [
    "def relative_error1(x_hat,x_true):\n",
    "    percent_error = frobenius_norm_tf(x_hat - x_true) / (frobenius_norm_tf(x_true))\n",
    "    return percent_error"
   ]
  },
  {
   "cell_type": "code",
   "execution_count": 7,
   "metadata": {},
   "outputs": [
    {
     "name": "stdout",
     "output_type": "stream",
     "text": [
      "[1, 53, 1, 1, 1] 0 (1, 53, 53)\n",
      "[1, 53, 144, 1, 1] 1 (53, 63, 144)\n",
      "[1, 53, 144, 144, 1] 2 (144, 46, 144)\n",
      "ranks: [1, 53, 144, 144, 1]\n"
     ]
    }
   ],
   "source": [
    "observed_total = tf.reduce_sum(sparsity_mask)\n",
    "total = np.prod(shape)\n",
    "ranks_a = np.array([53,63,46,144,1])\n",
    "tt_with_ranks = t3f.to_tt_tensor(x_true_img, max_tt_rank=144)\n",
    "ranks = shapes.tt_ranks(tt_with_ranks)\n",
    "initialization = t3f.random_tensor(shape, tt_rank=10)\n",
    "estimated = t3f.get_variable('estimated', initializer=initialization)\n",
    "# Loss is MSE between the estimated and ground-truth tensor as computed in the observed cells.\n",
    "loss = tf.reduce_sum((sparsity_mask * t3f.full(estimated) - sparse_observation)**2)/(tf.reduce_sum(sparse_observation)**2)\n",
    "# Test loss is MSE between the estimated tensor and full (and not noisy) ground-truth tensor A.\n",
    "test_loss = tf.reduce_sum((t3f.full(estimated) - ground_truth)**2)/(tf.reduce_sum(ground_truth)**2)\n",
    "rel_error1 = relative_error1(t3f.full(estimated), ground_truth)"
   ]
  },
  {
   "cell_type": "code",
   "execution_count": 8,
   "metadata": {},
   "outputs": [
    {
     "data": {
      "text/plain": [
       "(53, 63, 46, 144)"
      ]
     },
     "execution_count": 8,
     "metadata": {},
     "output_type": "execute_result"
    }
   ],
   "source": [
    "shape"
   ]
  },
  {
   "cell_type": "markdown",
   "metadata": {},
   "source": [
    "# SGD optimization\n",
    "The simplest way to solve the optimization problem is Stochastic Gradient Descent: let TensorFlow differentiate the loss w.r.t. the factors (cores) of the TensorTrain decomposition of the estimated tensor and minimize the loss with your favourite SGD variation."
   ]
  },
  {
   "cell_type": "code",
   "execution_count": 9,
   "metadata": {},
   "outputs": [],
   "source": [
    "optimizer = tf.train.AdamOptimizer(learning_rate=0.01, epsilon=1e-18)\n",
    "step = optimizer.minimize(loss)"
   ]
  },
  {
   "cell_type": "code",
   "execution_count": 10,
   "metadata": {},
   "outputs": [
    {
     "name": "stdout",
     "output_type": "stream",
     "text": [
      "(0, 9.8959106e-08, 7.915635e-08, 1.0000002, array([  1,  53, 144, 144,   1], dtype=int32))\n",
      "(1, 9.8959106e-08, 7.915635e-08, 1.0000002, array([  1,  53, 144, 144,   1], dtype=int32))\n",
      "(2, 9.8959106e-08, 7.9156344e-08, 1.0000002, array([  1,  53, 144, 144,   1], dtype=int32))\n",
      "(3, 9.895909e-08, 7.9156344e-08, 1.0000002, array([  1,  53, 144, 144,   1], dtype=int32))\n",
      "(4, 9.895907e-08, 7.915633e-08, 1.0000001, array([  1,  53, 144, 144,   1], dtype=int32))\n",
      "(5, 9.8959056e-08, 7.915631e-08, 0.9999999, array([  1,  53, 144, 144,   1], dtype=int32))\n",
      "(6, 9.895901e-08, 7.915629e-08, 0.99999976, array([  1,  53, 144, 144,   1], dtype=int32))\n",
      "(7, 9.895896e-08, 7.9156244e-08, 0.9999996, array([  1,  53, 144, 144,   1], dtype=int32))\n",
      "(8, 9.8958886e-08, 7.91562e-08, 0.9999992, array([  1,  53, 144, 144,   1], dtype=int32))\n",
      "(9, 9.8958786e-08, 7.915611e-08, 0.99999875, array([  1,  53, 144, 144,   1], dtype=int32))\n"
     ]
    }
   ],
   "source": [
    "sess = tf.Session()\n",
    "sess.run(tf.global_variables_initializer())\n",
    "train_loss_hist = []\n",
    "test_loss_hist = []\n",
    "for i in range(10):\n",
    "    _, tr_loss_v, test_loss_v, rel_error1_v, ranks_v = sess.run([step, loss, test_loss,rel_error1, ranks])\n",
    "    train_loss_hist.append(tr_loss_v)\n",
    "    test_loss_hist.append(test_loss_v)\n",
    "    print(i, tr_loss_v, test_loss_v, rel_error1_v, ranks_v)\n",
    "    #if i % 1000 == 0:\n",
    "     #   print(i, tr_loss_v, test_loss_v, rel_error1_v)"
   ]
  },
  {
   "cell_type": "code",
   "execution_count": 11,
   "metadata": {},
   "outputs": [
    {
     "data": {
      "text/plain": [
       "<matplotlib.legend.Legend at 0x101c46410>"
      ]
     },
     "execution_count": 11,
     "metadata": {},
     "output_type": "execute_result"
    },
    {
     "data": {
      "image/png": "[encoded data removed]",
      "text/plain": [
       "<matplotlib.figure.Figure at 0x1326bb090>"
      ]
     },
     "metadata": {},
     "output_type": "display_data"
    }
   ],
   "source": [
    "plt.loglog(train_loss_hist, label='train')\n",
    "plt.loglog(test_loss_hist, label='test')\n",
    "plt.xlabel('Iteration')\n",
    "plt.ylabel('MSE Loss value')\n",
    "plt.title('SGD completion')\n",
    "plt.legend()\n"
   ]
  },
  {
   "cell_type": "code",
   "execution_count": 12,
   "metadata": {},
   "outputs": [],
   "source": [
    "#ground_truth_var = t3f.get_variable('ground_truth', initializer=ground_truth, reuse=True)"
   ]
  },
  {
   "cell_type": "code",
   "execution_count": 13,
   "metadata": {},
   "outputs": [],
   "source": [
    "#ground_truth.read_value()\n",
    "ground_truth_val = ground_truth.eval(session=sess)"
   ]
  },
  {
   "cell_type": "code",
   "execution_count": 14,
   "metadata": {},
   "outputs": [],
   "source": [
    "estimated_val = sess.run(t3f.full(estimated))"
   ]
  },
  {
   "cell_type": "code",
   "execution_count": 15,
   "metadata": {},
   "outputs": [],
   "source": [
    "def relative_error(x_hat,x_true):\n",
    "    percent_error = np.linalg.norm(x_hat - x_true) / np.linalg.norm(x_true)\n",
    "    return percent_error"
   ]
  },
  {
   "cell_type": "code",
   "execution_count": 16,
   "metadata": {},
   "outputs": [],
   "source": [
    "rel_error = relative_error(estimated_val,ground_truth_val)"
   ]
  },
  {
   "cell_type": "code",
   "execution_count": 17,
   "metadata": {},
   "outputs": [
    {
     "data": {
      "text/plain": [
       "0.99999785"
      ]
     },
     "execution_count": 17,
     "metadata": {},
     "output_type": "execute_result"
    }
   ],
   "source": [
    "rel_error"
   ]
  },
  {
   "cell_type": "code",
   "execution_count": 18,
   "metadata": {},
   "outputs": [],
   "source": [
    "#ten_ones = np.ones_like(mask)\n",
    "#x_reconstr = mt.reconstruct(x_hat,x_true, ten_ones, mask)"
   ]
  },
  {
   "cell_type": "code",
   "execution_count": 19,
   "metadata": {},
   "outputs": [
    {
     "data": {
      "text/plain": [
       "(53, 63, 46, 144)"
      ]
     },
     "execution_count": 19,
     "metadata": {},
     "output_type": "execute_result"
    }
   ],
   "source": [
    "estimated_val.shape"
   ]
  },
  {
   "cell_type": "code",
   "execution_count": 20,
   "metadata": {},
   "outputs": [],
   "source": [
    "from nilearn import image"
   ]
  },
  {
   "cell_type": "code",
   "execution_count": 21,
   "metadata": {},
   "outputs": [],
   "source": [
    "shape = (53,63,46,144)"
   ]
  },
  {
   "cell_type": "code",
   "execution_count": 22,
   "metadata": {},
   "outputs": [],
   "source": [
    "sparse_observation_val=sparse_observation.eval(session=sess)"
   ]
  },
  {
   "cell_type": "code",
   "execution_count": 23,
   "metadata": {},
   "outputs": [],
   "source": [
    "x_miss_img = mt.reconstruct_image_affine(x_true_org, sparse_observation_val)"
   ]
  },
  {
   "cell_type": "code",
   "execution_count": 24,
   "metadata": {},
   "outputs": [],
   "source": [
    "#x_miss = x_miss_img\n",
    "x_miss = image.index_img(x_miss_img,1)"
   ]
  },
  {
   "cell_type": "code",
   "execution_count": 25,
   "metadata": {},
   "outputs": [],
   "source": [
    "x_hat_img = mt.reconstruct_image_affine(x_true_org, estimated_val)\n"
   ]
  },
  {
   "cell_type": "code",
   "execution_count": 26,
   "metadata": {},
   "outputs": [],
   "source": [
    "#x_hat = x_hat_img\n",
    "x_hat = image.index_img(x_hat_img,1)"
   ]
  },
  {
   "cell_type": "code",
   "execution_count": 27,
   "metadata": {},
   "outputs": [],
   "source": [
    "from nilearn import plotting"
   ]
  },
  {
   "cell_type": "code",
   "execution_count": null,
   "metadata": {},
   "outputs": [],
   "source": []
  },
  {
   "cell_type": "code",
   "execution_count": 28,
   "metadata": {},
   "outputs": [],
   "source": [
    "x_true_org = image.index_img(x_true_org,1)"
   ]
  },
  {
   "cell_type": "code",
   "execution_count": 29,
   "metadata": {},
   "outputs": [
    {
     "data": {
      "image/png": "[encoded data removed]",
      "text/plain": [
       "<matplotlib.figure.Figure at 0x101c29650>"
      ]
     },
     "metadata": {},
     "output_type": "display_data"
    }
   ],
   "source": [
    "recovered_image = plotting.plot_epi(x_hat, bg_img=None,black_bg=True, cmap='jet', cut_coords=None) "
   ]
  },
  {
   "cell_type": "code",
   "execution_count": 30,
   "metadata": {},
   "outputs": [
    {
     "data": {
      "image/png": "[encoded data removed]",
      "text/plain": [
       "<matplotlib.figure.Figure at 0x1042c0150>"
      ]
     },
     "metadata": {},
     "output_type": "display_data"
    }
   ],
   "source": [
    "x_miss_image = plotting.plot_epi(x_miss, bg_img=None,black_bg=True, cmap='jet', cut_coords=None) "
   ]
  },
  {
   "cell_type": "code",
   "execution_count": 31,
   "metadata": {},
   "outputs": [],
   "source": [
    "import ellipsoid_masker as elpm\n",
    "import ellipsoid_mask as em"
   ]
  },
  {
   "cell_type": "code",
   "execution_count": 32,
   "metadata": {},
   "outputs": [],
   "source": [
    "def create_corrupted_image(x0,y0,z0, x_r, y_r):\n",
    "    pass"
   ]
  },
  {
   "cell_type": "code",
   "execution_count": 64,
   "metadata": {},
   "outputs": [],
   "source": [
    "def generate_structural_missing_pattern(x0,y0,z0, x_r, y_r, frames_count, path_folder):\n",
    "    subject_scan_path = du.get_full_path_subject1()\n",
    "        \n",
    "    print (\"3D Random Missing Value Pattern Simulations has started...\")\n",
    "    print \"Subject Path: \" + str(subject_scan_path)\n",
    "    \n",
    "    n = 0\n",
    "    # type 1 (center is the center of the image), corrupt first 10 frames\n",
    "    #x0, y0, z0 = (0 ,-18 , 17)\n",
    "    #x_r, y_r, z_r = (20, 17, 15)\n",
    "    \n",
    "    print \"===Type 1 Experiments====\"\n",
    "    \n",
    "    target_img = image.index_img(subject_scan_path,n)\n",
    "    \n",
    "    type_1_folder_path = path_folder\n",
    "    masked_img_file_path  = type_1_folder_path + \"/\" + \"size_\" + str(x_r) + \"_\" + str(y_r) + \"_\" + str(z_r) + \"_scan_\" + str(n)\n",
    "    \n",
    "    corrupted_volumes_list = []\n",
    "    corrupted_volumes_list_scan_numbers = []\n",
    "    \n",
    "    for i in xrange(frames_count):\n",
    "        masked_img_file_path  = type_1_folder_path + \"/\" + \"size_\" + str(x_r) + \"_\" + str(y_r) + \"_\" + str(z_r) + \"_scan_\" + str(i)\n",
    "        target_img = image.index_img(subject_scan_path,i)\n",
    "        image_masked_by_ellipsoid = elpm.create_ellipsoid_mask(x0, y0, z0, x_r, y_r, z_r, target_img, masked_img_file_path)\n",
    "        \n",
    "        masked_img_file_path = masked_img_file_path + \".nii\"\n",
    "        ellipsoid = em.EllipsoidMask(x0, y0, z0, x_r, y_r, z_r, masked_img_file_path)\n",
    "        ellipsoid_volume = ellipsoid.volume()\n",
    "        observed_ratio = mt.compute_observed_ratio(image_masked_by_ellipsoid)\n",
    "        \n",
    "        corrupted_volumes_list.append(image_masked_by_ellipsoid)\n",
    "        corrupted_volumes_list_scan_numbers.append(i)\n",
    "        print (\"Ellipsoid Volume: \" + str(ellipsoid_volume) + \"; Missing Ratio: \" + str(observed_ratio))\n",
    "    \n",
    "    # now create corrupted 4d where fist 10 frames has ellipsoid missing across 10 frames\n",
    "    counter = 0\n",
    "    \n",
    "    volumes_list = []\n",
    "    for img in image.iter_img(subject_scan_path):\n",
    "        print \"Volume Index: \" + str(counter)\n",
    "        if counter in corrupted_volumes_list_scan_numbers:\n",
    "            print \"Adding corrupted volume to the list \" + str(counter)\n",
    "            volumes_list.append(corrupted_volumes_list[counter])\n",
    "        else:\n",
    "            print \"Adding normal volume to the list \" + str(counter)\n",
    "            volumes_list.append(img)\n",
    "        counter = counter + 1\n",
    "        \n",
    "    # now generate corrupted 4D from the list\n",
    "    corrupted4d_10 = image.concat_imgs(volumes_list)\n",
    "    print \"Corrupted 4D - 10 frames: \" + str(corrupted4d_10)\n",
    "    observed_ratio4D_10 = mt.compute_observed_ratio(corrupted4d_10)\n",
    "    print (\"Corrupted 4D - 10 Volume: \" + \"; Missing Ratio: \" + str(observed_ratio4D_10))\n",
    "    corr_file_path4D = du.corrupted4D_10_frames_path()\n",
    "    nib.save(corrupted4d_10, corr_file_path4D)\n",
    "    return corrupted4d_10"
   ]
  },
  {
   "cell_type": "code",
   "execution_count": 34,
   "metadata": {},
   "outputs": [],
   "source": [
    "def get_xyz(i, j, k, epi_img):\n",
    "    M = epi_img.affine[:3, :3]\n",
    "    abc = epi_img.affine[:3, 3]\n",
    "    return M.dot([i, j, k]) + abc"
   ]
  },
  {
   "cell_type": "code",
   "execution_count": 35,
   "metadata": {},
   "outputs": [],
   "source": [
    "coord = [26,31,23]\n",
    "path_folder3D = \"/work/el/3D\""
   ]
  },
  {
   "cell_type": "code",
   "execution_count": 36,
   "metadata": {},
   "outputs": [],
   "source": [
    "x_true_org3D = image.index_img(subject_scan_path,0)\n",
    "nib.save(x_true_org3D,path_folder3D)"
   ]
  },
  {
   "cell_type": "code",
   "execution_count": 37,
   "metadata": {},
   "outputs": [],
   "source": [
    "x_coord  = get_xyz(10,7,4, x_true_org3D)"
   ]
  },
  {
   "cell_type": "code",
   "execution_count": 38,
   "metadata": {},
   "outputs": [
    {
     "data": {
      "text/plain": [
       "array([ 48., -90., -39.])"
      ]
     },
     "execution_count": 38,
     "metadata": {},
     "output_type": "execute_result"
    }
   ],
   "source": [
    "x_coord"
   ]
  },
  {
   "cell_type": "code",
   "execution_count": null,
   "metadata": {},
   "outputs": [],
   "source": []
  },
  {
   "cell_type": "code",
   "execution_count": null,
   "metadata": {},
   "outputs": [],
   "source": []
  },
  {
   "cell_type": "code",
   "execution_count": 39,
   "metadata": {},
   "outputs": [],
   "source": [
    "path_folder3D = \"/work/el/3D\""
   ]
  },
  {
   "cell_type": "code",
   "execution_count": 40,
   "metadata": {},
   "outputs": [],
   "source": [
    "path_folder = \"/work/el/75\""
   ]
  },
  {
   "cell_type": "code",
   "execution_count": null,
   "metadata": {},
   "outputs": [],
   "source": []
  },
  {
   "cell_type": "code",
   "execution_count": 59,
   "metadata": {},
   "outputs": [],
   "source": [
    "#x0, y0, z0 = (-10, -20,17)\n",
    "#x0, y0, z0 = (-5, -20,17)\n",
    "#x0, y0, z0 = (2, 32,22)\n",
    "#x_r, y_r, z_r = (20,17,15)\n",
    "x0, y0, z0 = (2, 32,22)\n",
    "# size 1\n",
    "#x_r, y_r, z_r = (7,10,8)\n",
    "# size 2\n",
    "#x_r, y_r, z_r = (9,10,8)\n",
    "#size 3\n",
    "x_r, y_r, z_r = (12,10,8)"
   ]
  },
  {
   "cell_type": "code",
   "execution_count": 65,
   "metadata": {},
   "outputs": [
    {
     "name": "stdout",
     "output_type": "stream",
     "text": [
      "3D Random Missing Value Pattern Simulations has started...\n",
      "Subject Path: /work/pl/sch/analysis/data/COBRE001/swaAMAYER+cobre01_63001+M87100944+20110309at135133+RSTpre_V01_R01+CM.nii\n",
      "===Type 1 Experiments====\n",
      "Box Coordinates: ; x_min: -78.0; x_max: 78.0; y_min: -111.0; y_max: 75.0; z_min -51.0; z_max: 84.0\n",
      "X-spacing: 3.0; Y-spacing: 3.0; Z-spacing: 3.0\n",
      "Saving Ellpse Mask @: /work/el/75/size_12_10_8_scan_0\n",
      "('Saving figure', '/work/el/75/size_12_10_8_scan_0.tiff')\n",
      "Called from mrd\n",
      "nnz = 153446\n",
      "size = 153594\n",
      "Ellipsoid Volume: 4021.23859659; Missing Ratio: 0.000963579306483\n",
      "Volume Index: 0\n",
      "Adding corrupted volume to the list 0\n",
      "Volume Index: 1\n",
      "Adding normal volume to the list 1\n",
      "Volume Index: 2\n",
      "Adding normal volume to the list 2\n",
      "Volume Index: 3\n",
      "Adding normal volume to the list 3\n",
      "Volume Index: 4\n",
      "Adding normal volume to the list 4\n",
      "Volume Index: 5\n",
      "Adding normal volume to the list 5\n",
      "Volume Index: 6\n",
      "Adding normal volume to the list 6\n",
      "Volume Index: 7\n",
      "Adding normal volume to the list 7\n",
      "Volume Index: 8\n",
      "Adding normal volume to the list 8\n",
      "Volume Index: 9\n",
      "Adding normal volume to the list 9\n",
      "Volume Index: 10\n",
      "Adding normal volume to the list 10\n",
      "Volume Index: 11\n",
      "Adding normal volume to the list 11\n",
      "Volume Index: 12\n",
      "Adding normal volume to the list 12\n",
      "Volume Index: 13\n",
      "Adding normal volume to the list 13\n",
      "Volume Index: 14\n",
      "Adding normal volume to the list 14\n",
      "Volume Index: 15\n",
      "Adding normal volume to the list 15\n",
      "Volume Index: 16\n",
      "Adding normal volume to the list 16\n",
      "Volume Index: 17\n",
      "Adding normal volume to the list 17\n",
      "Volume Index: 18\n",
      "Adding normal volume to the list 18\n",
      "Volume Index: 19\n",
      "Adding normal volume to the list 19\n",
      "Volume Index: 20\n",
      "Adding normal volume to the list 20\n",
      "Volume Index: 21\n",
      "Adding normal volume to the list 21\n",
      "Volume Index: 22\n",
      "Adding normal volume to the list 22\n",
      "Volume Index: 23\n",
      "Adding normal volume to the list 23\n",
      "Volume Index: 24\n",
      "Adding normal volume to the list 24\n",
      "Volume Index: 25\n",
      "Adding normal volume to the list 25\n",
      "Volume Index: 26\n",
      "Adding normal volume to the list 26\n",
      "Volume Index: 27\n",
      "Adding normal volume to the list 27\n",
      "Volume Index: 28\n",
      "Adding normal volume to the list 28\n",
      "Volume Index: 29\n",
      "Adding normal volume to the list 29\n",
      "Volume Index: 30\n",
      "Adding normal volume to the list 30\n",
      "Volume Index: 31\n",
      "Adding normal volume to the list 31\n",
      "Volume Index: 32\n",
      "Adding normal volume to the list 32\n",
      "Volume Index: 33\n",
      "Adding normal volume to the list 33\n",
      "Volume Index: 34\n",
      "Adding normal volume to the list 34\n",
      "Volume Index: 35\n",
      "Adding normal volume to the list 35\n",
      "Volume Index: 36\n",
      "Adding normal volume to the list 36\n",
      "Volume Index: 37\n",
      "Adding normal volume to the list 37\n",
      "Volume Index: 38\n",
      "Adding normal volume to the list 38\n",
      "Volume Index: 39\n",
      "Adding normal volume to the list 39\n",
      "Volume Index: 40\n",
      "Adding normal volume to the list 40\n",
      "Volume Index: 41\n",
      "Adding normal volume to the list 41\n",
      "Volume Index: 42\n",
      "Adding normal volume to the list 42\n",
      "Volume Index: 43\n",
      "Adding normal volume to the list 43\n",
      "Volume Index: 44\n",
      "Adding normal volume to the list 44\n",
      "Volume Index: 45\n",
      "Adding normal volume to the list 45\n",
      "Volume Index: 46\n",
      "Adding normal volume to the list 46\n",
      "Volume Index: 47\n",
      "Adding normal volume to the list 47\n",
      "Volume Index: 48\n",
      "Adding normal volume to the list 48\n",
      "Volume Index: 49\n",
      "Adding normal volume to the list 49\n",
      "Volume Index: 50\n",
      "Adding normal volume to the list 50\n",
      "Volume Index: 51\n",
      "Adding normal volume to the list 51\n",
      "Volume Index: 52\n",
      "Adding normal volume to the list 52\n",
      "Volume Index: 53\n",
      "Adding normal volume to the list 53\n",
      "Volume Index: 54\n",
      "Adding normal volume to the list 54\n",
      "Volume Index: 55\n",
      "Adding normal volume to the list 55\n",
      "Volume Index: 56\n",
      "Adding normal volume to the list 56\n",
      "Volume Index: 57\n",
      "Adding normal volume to the list 57\n",
      "Volume Index: 58\n",
      "Adding normal volume to the list 58\n",
      "Volume Index: 59\n",
      "Adding normal volume to the list 59\n",
      "Volume Index: 60\n",
      "Adding normal volume to the list 60\n",
      "Volume Index: 61\n",
      "Adding normal volume to the list 61\n",
      "Volume Index: 62\n",
      "Adding normal volume to the list 62\n",
      "Volume Index: 63\n",
      "Adding normal volume to the list 63\n",
      "Volume Index: 64\n",
      "Adding normal volume to the list 64\n",
      "Volume Index: 65\n",
      "Adding normal volume to the list 65\n",
      "Volume Index: 66\n",
      "Adding normal volume to the list 66\n",
      "Volume Index: 67\n",
      "Adding normal volume to the list 67\n",
      "Volume Index: 68\n",
      "Adding normal volume to the list 68\n",
      "Volume Index: 69\n",
      "Adding normal volume to the list 69\n",
      "Volume Index: 70\n",
      "Adding normal volume to the list 70\n",
      "Volume Index: 71\n",
      "Adding normal volume to the list 71\n",
      "Volume Index: 72\n",
      "Adding normal volume to the list 72\n",
      "Volume Index: 73\n",
      "Adding normal volume to the list 73\n",
      "Volume Index: 74\n",
      "Adding normal volume to the list 74\n",
      "Volume Index: 75\n",
      "Adding normal volume to the list 75\n",
      "Volume Index: 76\n",
      "Adding normal volume to the list 76\n",
      "Volume Index: 77\n",
      "Adding normal volume to the list 77\n",
      "Volume Index: 78\n",
      "Adding normal volume to the list 78\n",
      "Volume Index: 79\n",
      "Adding normal volume to the list 79\n",
      "Volume Index: 80\n",
      "Adding normal volume to the list 80\n",
      "Volume Index: 81\n",
      "Adding normal volume to the list 81\n",
      "Volume Index: 82\n",
      "Adding normal volume to the list 82\n",
      "Volume Index: 83\n",
      "Adding normal volume to the list 83\n",
      "Volume Index: 84\n",
      "Adding normal volume to the list 84\n",
      "Volume Index: 85\n",
      "Adding normal volume to the list 85\n",
      "Volume Index: 86\n",
      "Adding normal volume to the list 86\n",
      "Volume Index: 87\n",
      "Adding normal volume to the list 87\n",
      "Volume Index: 88\n",
      "Adding normal volume to the list 88\n",
      "Volume Index: 89\n",
      "Adding normal volume to the list 89\n",
      "Volume Index: 90\n",
      "Adding normal volume to the list 90\n",
      "Volume Index: 91\n",
      "Adding normal volume to the list 91\n",
      "Volume Index: 92\n",
      "Adding normal volume to the list 92\n",
      "Volume Index: 93\n",
      "Adding normal volume to the list 93\n",
      "Volume Index: 94\n",
      "Adding normal volume to the list 94\n",
      "Volume Index: 95\n",
      "Adding normal volume to the list 95\n",
      "Volume Index: 96\n",
      "Adding normal volume to the list 96\n",
      "Volume Index: 97\n",
      "Adding normal volume to the list 97\n",
      "Volume Index: 98\n",
      "Adding normal volume to the list 98\n",
      "Volume Index: 99\n",
      "Adding normal volume to the list 99\n",
      "Volume Index: 100\n",
      "Adding normal volume to the list 100\n",
      "Volume Index: 101\n",
      "Adding normal volume to the list 101\n",
      "Volume Index: 102\n",
      "Adding normal volume to the list 102\n",
      "Volume Index: 103\n",
      "Adding normal volume to the list 103\n",
      "Volume Index: 104\n",
      "Adding normal volume to the list 104\n",
      "Volume Index: 105\n",
      "Adding normal volume to the list 105\n",
      "Volume Index: 106\n",
      "Adding normal volume to the list 106\n",
      "Volume Index: 107\n",
      "Adding normal volume to the list 107\n",
      "Volume Index: 108\n",
      "Adding normal volume to the list 108\n",
      "Volume Index: 109\n",
      "Adding normal volume to the list 109\n",
      "Volume Index: 110\n",
      "Adding normal volume to the list 110\n",
      "Volume Index: 111\n",
      "Adding normal volume to the list 111\n",
      "Volume Index: 112\n",
      "Adding normal volume to the list 112\n",
      "Volume Index: 113\n",
      "Adding normal volume to the list 113\n",
      "Volume Index: 114\n",
      "Adding normal volume to the list 114\n",
      "Volume Index: 115\n",
      "Adding normal volume to the list 115\n",
      "Volume Index: 116\n",
      "Adding normal volume to the list 116\n",
      "Volume Index: 117\n",
      "Adding normal volume to the list 117\n",
      "Volume Index: 118\n",
      "Adding normal volume to the list 118\n",
      "Volume Index: 119\n",
      "Adding normal volume to the list 119\n",
      "Volume Index: 120\n",
      "Adding normal volume to the list 120\n",
      "Volume Index: 121\n",
      "Adding normal volume to the list 121\n",
      "Volume Index: 122\n",
      "Adding normal volume to the list 122\n",
      "Volume Index: 123\n",
      "Adding normal volume to the list 123\n",
      "Volume Index: 124\n",
      "Adding normal volume to the list 124\n",
      "Volume Index: 125\n",
      "Adding normal volume to the list 125\n",
      "Volume Index: 126\n",
      "Adding normal volume to the list 126\n",
      "Volume Index: 127\n",
      "Adding normal volume to the list 127\n",
      "Volume Index: 128\n",
      "Adding normal volume to the list 128\n",
      "Volume Index: 129\n",
      "Adding normal volume to the list 129\n",
      "Volume Index: 130\n",
      "Adding normal volume to the list 130\n",
      "Volume Index: 131\n",
      "Adding normal volume to the list 131\n",
      "Volume Index: 132\n",
      "Adding normal volume to the list 132\n",
      "Volume Index: 133\n",
      "Adding normal volume to the list 133\n",
      "Volume Index: 134\n",
      "Adding normal volume to the list 134\n",
      "Volume Index: 135\n",
      "Adding normal volume to the list 135\n",
      "Volume Index: 136\n",
      "Adding normal volume to the list 136\n",
      "Volume Index: 137\n",
      "Adding normal volume to the list 137\n",
      "Volume Index: 138\n",
      "Adding normal volume to the list 138\n",
      "Volume Index: 139\n",
      "Adding normal volume to the list 139\n",
      "Volume Index: 140\n",
      "Adding normal volume to the list 140\n",
      "Volume Index: 141\n",
      "Adding normal volume to the list 141\n",
      "Volume Index: 142\n",
      "Adding normal volume to the list 142\n",
      "Volume Index: 143\n",
      "Adding normal volume to the list 143\n"
     ]
    },
    {
     "name": "stdout",
     "output_type": "stream",
     "text": [
      "Corrupted 4D - 10 frames: <class 'nibabel.nifti1.Nifti1Image'>\n",
      "data shape (53, 63, 46, 144)\n",
      "affine: \n",
      "[[  -3.    0.    0.   78.]\n",
      " [   0.    3.    0. -111.]\n",
      " [   0.    0.    3.  -51.]\n",
      " [   0.    0.    0.    1.]]\n",
      "metadata:\n",
      "<class 'nibabel.nifti1.Nifti1Header'> object, endian='<'\n",
      "sizeof_hdr      : 348\n",
      "data_type       : \n",
      "db_name         : \n",
      "extents         : 0\n",
      "session_error   : 0\n",
      "regular         : \n",
      "dim_info        : 0\n",
      "dim             : [  4  53  63  46 144   1   1   1]\n",
      "intent_p1       : 0.0\n",
      "intent_p2       : 0.0\n",
      "intent_p3       : 0.0\n",
      "intent_code     : none\n",
      "datatype        : float32\n",
      "bitpix          : 32\n",
      "slice_start     : 0\n",
      "pixdim          : [-1.  3.  3.  3.  1.  1.  1.  1.]\n",
      "vox_offset      : 0.0\n",
      "scl_slope       : nan\n",
      "scl_inter       : nan\n",
      "slice_end       : 0\n",
      "slice_code      : unknown\n",
      "xyzt_units      : 0\n",
      "cal_max         : 33853.625\n",
      "cal_min         : 0.0\n",
      "slice_duration  : 0.0\n",
      "toffset         : 0.0\n",
      "glmax           : 0\n",
      "glmin           : 0\n",
      "descrip         : \n",
      "aux_file        : \n",
      "qform_code      : unknown\n",
      "sform_code      : aligned\n",
      "quatern_b       : 0.0\n",
      "quatern_c       : 1.0\n",
      "quatern_d       : 0.0\n",
      "qoffset_x       : 78.0\n",
      "qoffset_y       : -111.0\n",
      "qoffset_z       : -51.0\n",
      "srow_x          : [-3.  0.  0. 78.]\n",
      "srow_y          : [   0.    3.    0. -111.]\n",
      "srow_z          : [  0.   0.   3. -51.]\n",
      "intent_name     : \n",
      "magic           : n+1\n",
      "nnz = 22117388\n",
      "size = 22117536\n",
      "Corrupted 4D - 10 Volume: ; Missing Ratio: 6.69152296173e-06\n"
     ]
    },
    {
     "data": {
      "text/plain": [
       "<matplotlib.figure.Figure at 0x1042eec10>"
      ]
     },
     "metadata": {},
     "output_type": "display_data"
    }
   ],
   "source": [
    "x_miss_img = generate_structural_missing_pattern(x0,y0,z0, x_r, y_r, 1, path_folder)"
   ]
  },
  {
   "cell_type": "code",
   "execution_count": 66,
   "metadata": {},
   "outputs": [
    {
     "data": {
      "text/plain": [
       "<nibabel.nifti1.Nifti1Image at 0x162aaf490>"
      ]
     },
     "execution_count": 66,
     "metadata": {},
     "output_type": "execute_result"
    }
   ],
   "source": [
    "x_miss_img"
   ]
  },
  {
   "cell_type": "code",
   "execution_count": 70,
   "metadata": {},
   "outputs": [],
   "source": [
    "x_miss_img_data = np.array(x_miss_img.get_data())"
   ]
  },
  {
   "cell_type": "code",
   "execution_count": 80,
   "metadata": {},
   "outputs": [],
   "source": [
    "import copy"
   ]
  },
  {
   "cell_type": "code",
   "execution_count": 81,
   "metadata": {},
   "outputs": [],
   "source": [
    "x_miss_mask = copy.deepcopy(x_miss_img_data)"
   ]
  },
  {
   "cell_type": "code",
   "execution_count": 85,
   "metadata": {},
   "outputs": [],
   "source": [
    "x_miss_mask = (x_miss_img_data==0).astype('int') "
   ]
  },
  {
   "cell_type": "code",
   "execution_count": null,
   "metadata": {},
   "outputs": [],
   "source": [
    "(x_miss_img_data==0 > 0).astype('int') "
   ]
  },
  {
   "cell_type": "code",
   "execution_count": null,
   "metadata": {},
   "outputs": [],
   "source": []
  },
  {
   "cell_type": "code",
   "execution_count": 86,
   "metadata": {},
   "outputs": [
    {
     "data": {
      "text/plain": [
       "(53, 63, 46, 144)"
      ]
     },
     "execution_count": 86,
     "metadata": {},
     "output_type": "execute_result"
    }
   ],
   "source": [
    "x_miss_mask.shape"
   ]
  },
  {
   "cell_type": "code",
   "execution_count": 77,
   "metadata": {},
   "outputs": [
    {
     "data": {
      "text/plain": [
       "(53, 63, 46, 144)"
      ]
     },
     "execution_count": 77,
     "metadata": {},
     "output_type": "execute_result"
    }
   ],
   "source": [
    "x_miss_img_data.shape"
   ]
  },
  {
   "cell_type": "code",
   "execution_count": 43,
   "metadata": {},
   "outputs": [
    {
     "name": "stdout",
     "output_type": "stream",
     "text": [
      "<class 'nibabel.nifti1.Nifti1Image'>\n",
      "data shape (53, 63, 46)\n",
      "affine: \n",
      "[[  -3.    0.    0.   78.]\n",
      " [   0.    3.    0. -111.]\n",
      " [   0.    0.    3.  -51.]\n",
      " [   0.    0.    0.    1.]]\n",
      "metadata:\n",
      "<class 'nibabel.nifti1.Nifti1Header'> object, endian='<'\n",
      "sizeof_hdr      : 348\n",
      "data_type       : \n",
      "db_name         : \n",
      "extents         : 0\n",
      "session_error   : 0\n",
      "regular         : r\n",
      "dim_info        : 0\n",
      "dim             : [ 3 53 63 46  1  1  1  1]\n",
      "intent_p1       : 0.0\n",
      "intent_p2       : 0.0\n",
      "intent_p3       : 0.0\n",
      "intent_code     : none\n",
      "datatype        : float32\n",
      "bitpix          : 32\n",
      "slice_start     : 0\n",
      "pixdim          : [-1.  3.  3.  3.  1.  1.  1.  1.]\n",
      "vox_offset      : 0.0\n",
      "scl_slope       : nan\n",
      "scl_inter       : nan\n",
      "slice_end       : 0\n",
      "slice_code      : unknown\n",
      "xyzt_units      : 10\n",
      "cal_max         : 33505.785\n",
      "cal_min         : 101.88748\n",
      "slice_duration  : 0.0\n",
      "toffset         : 0.0\n",
      "glmax           : 0\n",
      "glmin           : 0\n",
      "descrip         : spm - 3D normalized\n",
      "aux_file        : \n",
      "qform_code      : aligned\n",
      "sform_code      : aligned\n",
      "quatern_b       : 0.0\n",
      "quatern_c       : 1.0\n",
      "quatern_d       : 0.0\n",
      "qoffset_x       : 78.0\n",
      "qoffset_y       : -111.0\n",
      "qoffset_z       : -51.0\n",
      "srow_x          : [-3.  0.  0. 78.]\n",
      "srow_y          : [   0.    3.    0. -111.]\n",
      "srow_z          : [  0.   0.   3. -51.]\n",
      "intent_name     : \n",
      "magic           : n+1\n"
     ]
    }
   ],
   "source": [
    "print x_true_org"
   ]
  },
  {
   "cell_type": "code",
   "execution_count": 44,
   "metadata": {},
   "outputs": [],
   "source": [
    "target_img = image.index_img(x_true_org1,0)"
   ]
  },
  {
   "cell_type": "code",
   "execution_count": null,
   "metadata": {},
   "outputs": [],
   "source": []
  },
  {
   "cell_type": "code",
   "execution_count": 45,
   "metadata": {},
   "outputs": [],
   "source": [
    "masked_img_file_path  = \"/work/el\" + \"/\" + \"size_\" + str(x_r) + \"_\" + str(y_r) + \"_\" + str(z_r) + \"_scan_\" + str(i)"
   ]
  },
  {
   "cell_type": "code",
   "execution_count": 46,
   "metadata": {},
   "outputs": [
    {
     "data": {
      "text/plain": [
       "'/work/el/size_20_12_10_scan_9'"
      ]
     },
     "execution_count": 46,
     "metadata": {},
     "output_type": "execute_result"
    }
   ],
   "source": [
    "masked_img_file_path"
   ]
  },
  {
   "cell_type": "code",
   "execution_count": 47,
   "metadata": {},
   "outputs": [],
   "source": [
    "#image_masked_by_ellipsoid = elpm.create_ellipsoid_mask(x0, y0, z0, x_r, y_r, z_r, target_img, masked_img_file_path)"
   ]
  },
  {
   "cell_type": "code",
   "execution_count": 48,
   "metadata": {},
   "outputs": [
    {
     "data": {
      "text/plain": [
       "<nibabel.nifti1.Nifti1Image at 0x162c01690>"
      ]
     },
     "execution_count": 48,
     "metadata": {},
     "output_type": "execute_result"
    }
   ],
   "source": [
    "target_img"
   ]
  },
  {
   "cell_type": "code",
   "execution_count": null,
   "metadata": {},
   "outputs": [],
   "source": []
  }
 ],
 "metadata": {
  "kernelspec": {
   "display_name": "Python 2",
   "language": "python",
   "name": "python2"
  },
  "language_info": {
   "codemirror_mode": {
    "name": "ipython",
    "version": 2
   },
   "file_extension": ".py",
   "mimetype": "text/x-python",
   "name": "python",
   "nbconvert_exporter": "python",
   "pygments_lexer": "ipython2",
   "version": "2.7.13"
  }
 },
 "nbformat": 4,
 "nbformat_minor": 2
}
