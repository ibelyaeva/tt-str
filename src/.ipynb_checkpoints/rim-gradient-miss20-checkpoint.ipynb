{
 "cells": [
  {
   "cell_type": "code",
   "execution_count": 1,
   "metadata": {},
   "outputs": [
    {
     "name": "stderr",
     "output_type": "stream",
     "text": [
      "/usr/local/lib/python2.7/site-packages/matplotlib/__init__.py:1405: UserWarning: \n",
      "This call to matplotlib.use() has no effect because the backend has already\n",
      "been chosen; matplotlib.use() must be called *before* pylab, matplotlib.pyplot,\n",
      "or matplotlib.backends is imported for the first time.\n",
      "\n",
      "  warnings.warn(_use_error_msg)\n"
     ]
    }
   ],
   "source": [
    "import tensorflow as tf\n",
    "import numpy as np\n",
    "import t3f\n",
    "tf.set_random_seed(0)\n",
    "np.random.seed(0)\n",
    "%matplotlib inline\n",
    "import matplotlib.pyplot as plt\n",
    "import metric_util as mt\n",
    "import data_util as du\n",
    "from t3f import shapes\n",
    "from nilearn import image\n",
    "from skimage.measure import compare_ssim as ssim\n",
    "from tensorflow.python.util import nest\n",
    "import copy\n",
    "from nilearn import plotting\n",
    "from t3f import ops\n",
    "import mri_draw_utils as mrd\n",
    "from t3f import initializers\n",
    "from t3f import approximate\n",
    "from scipy import optimize \n",
    "from nilearn.masking import compute_background_mask\n",
    "from nilearn.masking import compute_epi_mask\n",
    "from collections import OrderedDict\n",
    "import pandas as pd\n",
    "from scipy import stats"
   ]
  },
  {
   "cell_type": "code",
   "execution_count": 2,
   "metadata": {
    "collapsed": true
   },
   "outputs": [],
   "source": [
    "#sess = tf.InteractiveSession()"
   ]
  },
  {
   "cell_type": "code",
   "execution_count": 3,
   "metadata": {
    "collapsed": true
   },
   "outputs": [],
   "source": [
    "def frobenius_norm_tf_squared(x):\n",
    "    return tf.reduce_sum(x ** 2)"
   ]
  },
  {
   "cell_type": "code",
   "execution_count": 4,
   "metadata": {
    "collapsed": true
   },
   "outputs": [],
   "source": [
    "def frobenius_norm_tf(x):\n",
    "    return tf.reduce_sum(x ** 2) ** 0.5"
   ]
  },
  {
   "cell_type": "code",
   "execution_count": 5,
   "metadata": {
    "collapsed": true
   },
   "outputs": [],
   "source": [
    "def relative_error1(x_hat,x_true):\n",
    "    percent_error = frobenius_norm_tf(x_hat - x_true) / frobenius_norm_tf(x_true)\n",
    "    return percent_error"
   ]
  },
  {
   "cell_type": "code",
   "execution_count": 6,
   "metadata": {
    "collapsed": true
   },
   "outputs": [],
   "source": [
    "def innerProduct(x, y):\n",
    "    result = tf.reduce_sum(tf.multiply(x, y))\n",
    "    return result"
   ]
  },
  {
   "cell_type": "code",
   "execution_count": 7,
   "metadata": {
    "collapsed": true
   },
   "outputs": [],
   "source": [
    "def compute_step_size(n_omega, grad):\n",
    "    result = -innerProduct(n_omega,grad)/(innerProduct(n_omega, n_omega))\n",
    "    return result"
   ]
  },
  {
   "cell_type": "code",
   "execution_count": 8,
   "metadata": {
    "collapsed": true
   },
   "outputs": [],
   "source": [
    "def draw(omega, x_true, x_hat, rel_error):\n",
    "    images_folder = \"/work/scratch/tt3\"\n",
    "    ten_ones = np.ones_like(omega)\n",
    "    x_reconstr1 = mt.reconstruct2(x_hat,ground_truth, omega)\n",
    "    x_hat_img = mt.reconstruct_image_affine(x_true_org, x_reconstr1)\n",
    "    x_hat_est = image.index_img(x_hat_img,1)\n",
    "    \n",
    "    x_true_org_img = image.index_img(x_true,1)\n",
    "    x_miss_img = mt.reconstruct_image_affine(x_true_org, x_train)\n",
    "    x_miss = image.index_img(x_miss_img,1)\n",
    "    mrd.draw_original_vs_reconstructed_rim(x_true_org_img,x_hat_est, x_miss, \"Rim Completion\",\n",
    "                                             rel_error, observed_ratio, coord=None, folder=images_folder)"
   ]
  },
  {
   "cell_type": "code",
   "execution_count": 9,
   "metadata": {},
   "outputs": [
    {
     "name": "stdout",
     "output_type": "stream",
     "text": [
      "Subject Path: /work/pl/sch/analysis/data/COBRE001/swaAMAYER+cobre01_63001+M87100944+20110309at135133+RSTpre_V01_R01+CM.nii\n"
     ]
    }
   ],
   "source": [
    "subject_scan_path = du.get_full_path_subject1()\n",
    "print \"Subject Path: \" + str(subject_scan_path)\n",
    "x_true_org = mt.read_image_abs_path(subject_scan_path)\n"
   ]
  },
  {
   "cell_type": "code",
   "execution_count": 10,
   "metadata": {
    "collapsed": true
   },
   "outputs": [],
   "source": [
    "def get_mask(data, observed_ratio):\n",
    "    \n",
    "    if len(data.shape) == 3:\n",
    "        mask_indices = (np.random.rand(data.shape[0],data.shape[1],data.shape[2]) < observed_ratio).astype('int') \n",
    "    elif len(data.shape) == 4:\n",
    "        mask_indices = (np.random.rand(data.shape[0],data.shape[1],data.shape[2], data.shape[3]) < observed_ratio).astype('int') \n",
    "    elif len(data.shape) == 2:\n",
    "        mask_indices = (np.random.rand(data.shape[0],data.shape[1]) < observed_ratio).astype('int') \n",
    "    \n",
    "    return mask_indices"
   ]
  },
  {
   "cell_type": "code",
   "execution_count": 11,
   "metadata": {
    "collapsed": true
   },
   "outputs": [],
   "source": [
    "def get_z_score_mask(data, z_score):\n",
    "    \n",
    "    z_scored_data = stats.zscore(data)\n",
    "    \n",
    "    if len(data.shape) == 3:\n",
    "        mask_indices = (z_scored_data(data.shape[0],data.shape[1],data.shape[2]) < z_score).astype('int') \n",
    "    elif len(data.shape) == 4:\n",
    "        mask_indices = (z_scored_data(data.shape[0],data.shape[1],data.shape[2], data.shape[3]) < z_score).astype('int') \n",
    "    elif len(data.shape) == 2:\n",
    "        mask_indices = (z_scored_data(data.shape[0],data.shape[1]) < z_score).astype('int') \n",
    "    \n",
    "    return mask_indices"
   ]
  },
  {
   "cell_type": "code",
   "execution_count": 12,
   "metadata": {
    "collapsed": true
   },
   "outputs": [],
   "source": [
    "def tsc(x_hat,x_true, ten_ones, mask):\n",
    "    nomin = np.linalg.norm(np.multiply((ten_ones - mask), (x_true - x_hat)))\n",
    "    denom = np.linalg.norm(np.multiply((ten_ones - mask), x_true))\n",
    "    score = (nomin*1.0)/(denom*1.0)\n",
    "    return score "
   ]
  },
  {
   "cell_type": "code",
   "execution_count": 13,
   "metadata": {
    "collapsed": true
   },
   "outputs": [],
   "source": [
    "x_true_img = np.array(x_true_org.get_data())\n",
    "norm_ground_truth = np.linalg.norm(x_true_img)\n",
    "x_true_img = x_true_img * (1./norm_ground_truth)\n",
    "\n",
    "ground_truth_z_score = stats.zscore(x_true_img)\n",
    "\n",
    "mask_img = compute_epi_mask(x_true_org,lower_cutoff=0.03,upper_cutoff=0.97)\n",
    "mask_img_data = np.array(mask_img.get_data())\n",
    "\n",
    "observed_ratio = 0.2\n",
    "missing_ratio = 1 - observed_ratio\n",
    "\n",
    "#mask_indices = get_mask(x_true_img, observed_ratio)\n",
    "\n",
    "mask_indices = (ground_truth_z_score < 2).astype('int') \n",
    "epi_mask = copy.deepcopy(mask_img_data)\n",
    "    \n",
    "#mask_indices[epi_mask==0] = 1\n",
    "mask_indices_count = np.count_nonzero(mask_indices)\n",
    "epi_mask_count = np.count_nonzero(epi_mask==0)*144\n",
    "effective_missing_ratio = float(mask_indices_count)/float(epi_mask_count)\n",
    "\n",
    "\n",
    "#x_true_img = np.array(x_true_org.get_data())\n",
    "\n",
    "#mask_indices = (np.random.rand(x_true_img.shape[0],x_true_img.shape[1],x_true_img.shape[2], x_true_img.shape[3]) < observed_ratio).astype('int') \n",
    "ten_ones = np.ones_like(mask_indices)\n",
    "x_train = copy.deepcopy(x_true_img)\n",
    "x_train[mask_indices==0] = 0.0\n",
    "#x_train[mask_indices == 0] = np.mean(x_train[mask_indices == 1])\n",
    "#x_train[mask_indices == 0] = np.mean(x_train[mask_indices == 1])\n",
    "\n",
    "x_init = copy.deepcopy(x_train)\n",
    "#shape = (1, 53, 63, 63, 1)\n",
    "#x_init_tf = t3f.random_tensor(shape, tt_rank=63)\n",
    "\n",
    "\n",
    "ground_truth = copy.deepcopy(x_true_img)\n",
    "ground_truth_x = copy.deepcopy(x_true_img)\n",
    "a_omega = copy.deepcopy(ground_truth)\n",
    "a_omega[mask_indices==0] = 0.0\n",
    "\n",
    "sparse_observation = copy.deepcopy(ground_truth)\n",
    "sparse_observation[mask_indices==0] = 0.0\n",
    "\n",
    "\n",
    "x_init1 = np.random.rand(53, 63, 46, 144).astype('float32')\n",
    "norm_ground_x_init1 = np.linalg.norm(x_init1)\n",
    "x_init1 = x_true_img * (1./norm_ground_x_init1)"
   ]
  },
  {
   "cell_type": "code",
   "execution_count": 14,
   "metadata": {},
   "outputs": [
    {
     "data": {
      "text/plain": [
       "(53, 63, 46)"
      ]
     },
     "execution_count": 14,
     "metadata": {},
     "output_type": "execute_result"
    }
   ],
   "source": [
    "mask_img_data.shape"
   ]
  },
  {
   "cell_type": "code",
   "execution_count": 15,
   "metadata": {},
   "outputs": [
    {
     "data": {
      "text/plain": [
       "21960150"
      ]
     },
     "execution_count": 15,
     "metadata": {},
     "output_type": "execute_result"
    }
   ],
   "source": [
    "mask_indices_count "
   ]
  },
  {
   "cell_type": "code",
   "execution_count": 16,
   "metadata": {},
   "outputs": [
    {
     "data": {
      "text/plain": [
       "13150512"
      ]
     },
     "execution_count": 16,
     "metadata": {},
     "output_type": "execute_result"
    }
   ],
   "source": [
    "epi_mask_count"
   ]
  },
  {
   "cell_type": "code",
   "execution_count": 17,
   "metadata": {},
   "outputs": [
    {
     "data": {
      "text/plain": [
       "1.6699083655450069"
      ]
     },
     "execution_count": 17,
     "metadata": {},
     "output_type": "execute_result"
    }
   ],
   "source": [
    "effective_missing_ratio"
   ]
  },
  {
   "cell_type": "code",
   "execution_count": 18,
   "metadata": {},
   "outputs": [
    {
     "data": {
      "text/plain": [
       "(array([ 0,  0,  0, ..., 52, 52, 52]),\n",
       " array([ 0,  0,  0, ..., 62, 62, 62]),\n",
       " array([ 0,  1,  2, ..., 43, 44, 45]))"
      ]
     },
     "execution_count": 18,
     "metadata": {},
     "output_type": "execute_result"
    }
   ],
   "source": [
    "np.where( epi_mask == 0)"
   ]
  },
  {
   "cell_type": "code",
   "execution_count": null,
   "metadata": {
    "collapsed": true
   },
   "outputs": [],
   "source": []
  },
  {
   "cell_type": "code",
   "execution_count": 19,
   "metadata": {},
   "outputs": [],
   "source": [
    "mask_indices_norm = np.linalg.norm(mask_indices).astype('float32')"
   ]
  },
  {
   "cell_type": "code",
   "execution_count": 20,
   "metadata": {},
   "outputs": [],
   "source": [
    "mask_indices_norm_sq = (mask_indices_norm**2).astype('float32')"
   ]
  },
  {
   "cell_type": "code",
   "execution_count": 21,
   "metadata": {},
   "outputs": [
    {
     "data": {
      "text/plain": [
       "21960152.0"
      ]
     },
     "execution_count": 21,
     "metadata": {},
     "output_type": "execute_result"
    }
   ],
   "source": [
    "mask_indices_norm_sq"
   ]
  },
  {
   "cell_type": "code",
   "execution_count": 22,
   "metadata": {},
   "outputs": [
    {
     "data": {
      "text/plain": [
       "numpy.float32"
      ]
     },
     "execution_count": 22,
     "metadata": {},
     "output_type": "execute_result"
    }
   ],
   "source": [
    "type(mask_indices_norm_sq)"
   ]
  },
  {
   "cell_type": "code",
   "execution_count": 23,
   "metadata": {},
   "outputs": [
    {
     "data": {
      "text/plain": [
       "4686.166"
      ]
     },
     "execution_count": 23,
     "metadata": {},
     "output_type": "execute_result"
    }
   ],
   "source": [
    "mask_indices_norm"
   ]
  },
  {
   "cell_type": "code",
   "execution_count": null,
   "metadata": {
    "collapsed": true
   },
   "outputs": [],
   "source": []
  },
  {
   "cell_type": "code",
   "execution_count": null,
   "metadata": {
    "collapsed": true
   },
   "outputs": [],
   "source": []
  },
  {
   "cell_type": "code",
   "execution_count": 24,
   "metadata": {},
   "outputs": [
    {
     "data": {
      "text/plain": [
       "74916430.0"
      ]
     },
     "execution_count": 24,
     "metadata": {},
     "output_type": "execute_result"
    }
   ],
   "source": [
    "norm_ground_truth"
   ]
  },
  {
   "cell_type": "code",
   "execution_count": 25,
   "metadata": {
    "collapsed": true
   },
   "outputs": [],
   "source": [
    "folder = '/work/rs1/'"
   ]
  },
  {
   "cell_type": "code",
   "execution_count": 26,
   "metadata": {},
   "outputs": [
    {
     "data": {
      "image/png": "[encoded data removed]",
      "text/plain": [
       "<matplotlib.figure.Figure at 0x120bcf590>"
      ]
     },
     "metadata": {},
     "output_type": "display_data"
    }
   ],
   "source": [
    "x_org = mt.reconstruct_image_affine(x_true_org, x_true_img)\n",
    "x_org_img = image.index_img(x_org,1)\n",
    "#x_true_org_img = image.index_img(x_true_org,1)\n",
    "org_image = plotting.plot_epi(x_org_img, bg_img=None,black_bg=True, cmap='jet', cut_coords=None)"
   ]
  },
  {
   "cell_type": "code",
   "execution_count": 27,
   "metadata": {
    "collapsed": true
   },
   "outputs": [],
   "source": [
    "ten_ones = np.ones_like(mask_indices)\n"
   ]
  },
  {
   "cell_type": "code",
   "execution_count": 28,
   "metadata": {
    "collapsed": true
   },
   "outputs": [],
   "source": [
    "x_reconstr_init = mt.reconstruct2(x_init1,ground_truth, mask_indices)"
   ]
  },
  {
   "cell_type": "code",
   "execution_count": 29,
   "metadata": {},
   "outputs": [],
   "source": [
    "tsc_score_init = tsc(x_reconstr_init,ground_truth, ten_ones, mask_indices).astype('float32')"
   ]
  },
  {
   "cell_type": "code",
   "execution_count": 30,
   "metadata": {},
   "outputs": [
    {
     "name": "stdout",
     "output_type": "stream",
     "text": [
      "0.9996317\n"
     ]
    }
   ],
   "source": [
    "print tsc_score_init"
   ]
  },
  {
   "cell_type": "code",
   "execution_count": 31,
   "metadata": {},
   "outputs": [
    {
     "name": "stdout",
     "output_type": "stream",
     "text": [
      "0.9981253\n"
     ]
    }
   ],
   "source": [
    "norm_sparse_observation = np.linalg.norm(sparse_observation)\n",
    "print norm_sparse_observation"
   ]
  },
  {
   "cell_type": "code",
   "execution_count": 32,
   "metadata": {
    "collapsed": true
   },
   "outputs": [],
   "source": [
    "denom_tsc = np.linalg.norm((1.0 - mask_indices) * x_true_img)"
   ]
  },
  {
   "cell_type": "code",
   "execution_count": 33,
   "metadata": {},
   "outputs": [
    {
     "name": "stdout",
     "output_type": "stream",
     "text": [
      "0.06171205700630138\n"
     ]
    }
   ],
   "source": [
    "print denom_tsc"
   ]
  },
  {
   "cell_type": "code",
   "execution_count": 34,
   "metadata": {},
   "outputs": [
    {
     "name": "stdout",
     "output_type": "stream",
     "text": [
      "[1, 53, 1, 1, 1] 0 (1, 53, 53)\n",
      "[1, 53, 63, 1, 1] 1 (53, 63, 63)\n",
      "[1, 53, 63, 63, 1] 2 (63, 46, 63)\n",
      "ranks: [1, 53, 63, 63, 1]\n"
     ]
    }
   ],
   "source": [
    "mask_indices_tf = t3f.to_tt_tensor(mask_indices.astype('float32'), max_tt_rank=63)"
   ]
  },
  {
   "cell_type": "code",
   "execution_count": 35,
   "metadata": {
    "collapsed": true
   },
   "outputs": [],
   "source": [
    "#x_miss_img = mt.reconstruct_image_affine(x_true_org, x_train*norm_ground_truth)\n",
    "x_miss_img = mt.reconstruct_image_affine(x_true_org, x_train)"
   ]
  },
  {
   "cell_type": "code",
   "execution_count": 36,
   "metadata": {
    "collapsed": true
   },
   "outputs": [],
   "source": [
    "x_miss = norm_ground_truth*x_train"
   ]
  },
  {
   "cell_type": "code",
   "execution_count": 37,
   "metadata": {
    "collapsed": true
   },
   "outputs": [],
   "source": [
    "x_miss = image.index_img(x_miss_img,1)"
   ]
  },
  {
   "cell_type": "code",
   "execution_count": 38,
   "metadata": {},
   "outputs": [
    {
     "data": {
      "image/png": "[encoded data removed]",
      "text/plain": [
       "<matplotlib.figure.Figure at 0x16c6404d0>"
      ]
     },
     "metadata": {},
     "output_type": "display_data"
    }
   ],
   "source": [
    "x_miss_image = plotting.plot_epi(x_miss, bg_img=None,black_bg=True, cmap='jet', cut_coords=None) "
   ]
  },
  {
   "cell_type": "code",
   "execution_count": 39,
   "metadata": {},
   "outputs": [
    {
     "name": "stdout",
     "output_type": "stream",
     "text": [
      "('Saving figure', '/work/scratch/tt3/missing_ratio_80.00.png')\n",
      "Called from mrd\n"
     ]
    }
   ],
   "source": [
    "images_folder = \"/work/scratch/tt3\"\n",
    "mrd.draw_original_vs_reconstructed_rim(image.index_img(x_true_org,1),image.index_img(x_miss_img,1), image.index_img(x_miss_img,1), \"Rim Completion\",\n",
    "                                             observed_ratio, observed_ratio, coord=None, folder=images_folder)"
   ]
  },
  {
   "cell_type": "code",
   "execution_count": 40,
   "metadata": {},
   "outputs": [
    {
     "name": "stdout",
     "output_type": "stream",
     "text": [
      "Missing Ratio: 0.8\n",
      "x_true_path:/work/rs1/x_true_img_80\n"
     ]
    }
   ],
   "source": [
    "import nibabel as nib\n",
    "import os\n",
    "\n",
    "suffix = int(round((missing_ratio)*100.0, 0))\n",
    "print \"Missing Ratio: \" + str(missing_ratio)\n",
    "x_true_path = os.path.join(folder,\"x_true_img_\" + str(suffix))\n",
    "x_miss_path = os.path.join(folder,\"x_miss_img_\" + str(suffix))\n",
    "        \n",
    "print(\"x_true_path:\" + str(x_true_path))\n",
    "nib.save(x_true_org, x_true_path)\n",
    "nib.save(x_miss_img, x_miss_path)"
   ]
  },
  {
   "cell_type": "code",
   "execution_count": null,
   "metadata": {
    "collapsed": true
   },
   "outputs": [],
   "source": []
  },
  {
   "cell_type": "code",
   "execution_count": 41,
   "metadata": {},
   "outputs": [
    {
     "name": "stdout",
     "output_type": "stream",
     "text": [
      "[1, 53, 1, 1, 1] 0 (1, 53, 53)\n",
      "[1, 53, 63, 1, 1] 1 (53, 63, 63)\n",
      "[1, 53, 63, 63, 1] 2 (63, 46, 63)\n",
      "ranks: [1, 53, 63, 63, 1]\n"
     ]
    }
   ],
   "source": [
    "ground_truth_tf = t3f.to_tt_tensor(ground_truth, max_tt_rank=63)"
   ]
  },
  {
   "cell_type": "code",
   "execution_count": 42,
   "metadata": {
    "collapsed": true
   },
   "outputs": [],
   "source": [
    "A = t3f.get_variable('A', initializer=ground_truth_tf, trainable=False)"
   ]
  },
  {
   "cell_type": "code",
   "execution_count": 43,
   "metadata": {
    "collapsed": true
   },
   "outputs": [],
   "source": [
    "ground_truth = tf.get_variable('ground_truth', initializer=ground_truth, trainable=False)\n",
    "sparsity_mask = tf.get_variable('sparsity_mask', initializer=mask_indices, trainable=False)\n",
    "sparsity_mask = tf.cast(sparsity_mask,tf.float32)\n",
    "sparse_observation = ground_truth * sparsity_mask"
   ]
  },
  {
   "cell_type": "code",
   "execution_count": 44,
   "metadata": {
    "collapsed": true
   },
   "outputs": [],
   "source": [
    "#sparsity_mask = t3f.get_variable('sparsity_mask', initializer=mask_indices_tf, trainable=False)\n",
    "#sparsity_mask = t3f.cast(sparsity_mask, tf.float32)\n",
    "#sparse_observation_tf = t3f.to_tt_tensor(sparse_observation, max_tt_rank=63)\n",
    "#sparse_observation_tf3 = t3f.get_variable('sparse_observation_tf', initializer=sparse_observation_tf, trainable=False)"
   ]
  },
  {
   "cell_type": "code",
   "execution_count": 45,
   "metadata": {
    "collapsed": true
   },
   "outputs": [],
   "source": [
    "shape  =  (53, 63, 46, 144)"
   ]
  },
  {
   "cell_type": "code",
   "execution_count": null,
   "metadata": {
    "collapsed": true
   },
   "outputs": [],
   "source": [
    "\n"
   ]
  },
  {
   "cell_type": "code",
   "execution_count": 46,
   "metadata": {},
   "outputs": [
    {
     "name": "stdout",
     "output_type": "stream",
     "text": [
      "[1, 53, 1, 1, 1] 0 (1, 53, 53)\n",
      "[1, 53, 63, 1, 1] 1 (53, 63, 63)\n",
      "[1, 53, 63, 63, 1] 2 (63, 46, 63)\n",
      "ranks: [1, 53, 63, 63, 1]\n"
     ]
    }
   ],
   "source": [
    "x_train_tf = t3f.to_tt_tensor(x_init1, max_tt_rank=63)"
   ]
  },
  {
   "cell_type": "code",
   "execution_count": 47,
   "metadata": {
    "collapsed": true
   },
   "outputs": [],
   "source": [
    "#x_train_tf = t3f.random_tensor(shape, tt_rank=63)"
   ]
  },
  {
   "cell_type": "code",
   "execution_count": 48,
   "metadata": {
    "collapsed": true
   },
   "outputs": [],
   "source": [
    "normAOmegavar = tf.get_variable('normAOmega', initializer=norm_sparse_observation, trainable=False)"
   ]
  },
  {
   "cell_type": "code",
   "execution_count": 49,
   "metadata": {
    "collapsed": true
   },
   "outputs": [],
   "source": [
    "X = t3f.get_variable('X', initializer=x_train_tf)"
   ]
  },
  {
   "cell_type": "code",
   "execution_count": 50,
   "metadata": {
    "collapsed": true
   },
   "outputs": [],
   "source": [
    "X_new = t3f.get_variable('X_new', initializer=x_train_tf)"
   ]
  },
  {
   "cell_type": "code",
   "execution_count": null,
   "metadata": {
    "collapsed": true
   },
   "outputs": [],
   "source": []
  },
  {
   "cell_type": "code",
   "execution_count": null,
   "metadata": {
    "collapsed": true
   },
   "outputs": [],
   "source": []
  },
  {
   "cell_type": "code",
   "execution_count": 51,
   "metadata": {},
   "outputs": [
    {
     "name": "stdout",
     "output_type": "stream",
     "text": [
      "A Tensor Train variable of shape (53, 63, 46, 144), TT-ranks: (1, 53, 63, 63, 1)\n"
     ]
    }
   ],
   "source": [
    "print X"
   ]
  },
  {
   "cell_type": "code",
   "execution_count": 52,
   "metadata": {
    "collapsed": true
   },
   "outputs": [],
   "source": [
    "def train_it_rel_cost(cost_hist, k):\n",
    "    res = np.abs(cost_hist[k] - cost_hist[k-1])/np.abs(cost_hist[k])\n",
    "    return res"
   ]
  },
  {
   "cell_type": "code",
   "execution_count": 53,
   "metadata": {
    "collapsed": true
   },
   "outputs": [],
   "source": [
    "counter = tf.get_variable('counter', initializer=0)"
   ]
  },
  {
   "cell_type": "code",
   "execution_count": 54,
   "metadata": {
    "collapsed": true
   },
   "outputs": [],
   "source": [
    "one = tf.constant(1)\n",
    "zero_point1 = tf.constant(0.1)"
   ]
  },
  {
   "cell_type": "code",
   "execution_count": 55,
   "metadata": {
    "collapsed": true
   },
   "outputs": [],
   "source": [
    "tf_ones = tf.get_variable('tf_ones', initializer=ten_ones, trainable=False)\n",
    "tf_ones = tf.cast(tf_ones,tf.float32)\n"
   ]
  },
  {
   "cell_type": "code",
   "execution_count": 56,
   "metadata": {},
   "outputs": [
    {
     "name": "stdout",
     "output_type": "stream",
     "text": [
      "Tensor(\"Cast_1:0\", shape=(53, 63, 46, 144), dtype=float32)\n"
     ]
    }
   ],
   "source": [
    "print tf_ones"
   ]
  },
  {
   "cell_type": "code",
   "execution_count": 57,
   "metadata": {
    "collapsed": true
   },
   "outputs": [],
   "source": [
    "tt_zeros = initializers.tensor_zeros([53, 63, 46, 144])"
   ]
  },
  {
   "cell_type": "code",
   "execution_count": 58,
   "metadata": {
    "collapsed": true
   },
   "outputs": [],
   "source": [
    "denom_tsc_tf = tf.get_variable('denom_tsc_tf', initializer=denom_tsc, trainable=False)\n",
    "denom_tsc_tf = tf.cast(denom_tsc_tf,tf.float32)"
   ]
  },
  {
   "cell_type": "code",
   "execution_count": null,
   "metadata": {
    "collapsed": true
   },
   "outputs": [],
   "source": []
  },
  {
   "cell_type": "code",
   "execution_count": 59,
   "metadata": {
    "collapsed": true
   },
   "outputs": [],
   "source": [
    "#eta_t3f_old = t3f.get_variable('eta_t3f_old', initializer=tt_zeros)\n",
    "#grad_t3f_old = t3f.get_variable('grad_t3f_old', initializer=tt_zeros)"
   ]
  },
  {
   "cell_type": "code",
   "execution_count": 60,
   "metadata": {
    "collapsed": true
   },
   "outputs": [],
   "source": [
    "eta_old = tf.get_variable('eta_old', shape = (53, 63, 46, 144), validate_shape=False)\n",
    "grad_old = tf.get_variable('grad_old', shape = (53, 63, 46, 144), validate_shape=False)"
   ]
  },
  {
   "cell_type": "code",
   "execution_count": 61,
   "metadata": {
    "collapsed": true
   },
   "outputs": [],
   "source": [
    "one = tf.constant(1)\n",
    "zero_point1 = tf.constant(0.1)"
   ]
  },
  {
   "cell_type": "code",
   "execution_count": 62,
   "metadata": {
    "collapsed": true
   },
   "outputs": [],
   "source": [
    "\n",
    "\n",
    "def gradient(x):\n",
    "    return np.multiply(x,mask_indices) - a_omega\n",
    "    \n",
    "def cost_func(x):\n",
    "    return 0.5*(np.linalg.norm(np.multiply(x,mask_indices)-a_omega)** 2)\n",
    "\n",
    "def find_step_size(x,g,d, old_cost):\n",
    "    step_size = optimize.line_search(cost_func,gradient,x,d,gfk=None, old_fval=old_cost)"
   ]
  },
  {
   "cell_type": "code",
   "execution_count": 63,
   "metadata": {
    "collapsed": true
   },
   "outputs": [],
   "source": [
    "# Algorithm\n",
    "#grad_full = (t3f.full(X)*t3f.full(sparse_observation_tf3) - t3f.full(sparse_observation_tf3))\n",
    "#counter_step = tf.assign(counter, counter + 1)\n",
    "\n",
    "#grad_trans = t3f.riemannian.project(grad_t3f_old, X)\n",
    "#eta_trans = t3f.riemannian.project(eta_t3f_old, X)\n",
    "    \n",
    "#grad_full = sparsity_mask * t3f.full(X) - sparse_observation\n",
    "#grad_t3f = t3f.to_tt_tensor(grad_full, max_tt_rank=63)\n",
    "\n",
    "#loss = 0.5 * t3f.frobenius_norm_squared(grad_t3f)\n",
    "#gradnorm_omega = t3f.frobenius_norm(grad_t3f)/(normAOmegavar)\n",
    "\n",
    "#riemannian_grad = t3f.riemannian.project(grad_t3f, X)\n",
    "\n",
    "\n",
    "#eta_omega = sparsity_mask * t3f.full(-riemannian_grad)\n",
    "#alpha = compute_step_size(eta_omega, grad_full)\n",
    "\n",
    "\n",
    "\n",
    "#riemannian_grad_norm = t3f.flat_inner(riemannian_grad, riemannian_grad)\n",
    "\n",
    "\n",
    "\n",
    "#rel_error1 = relative_error1(t3f.full(X), t3f.full(sparse_observation))\n",
    "\n",
    "\n"
   ]
  },
  {
   "cell_type": "code",
   "execution_count": 64,
   "metadata": {
    "collapsed": true
   },
   "outputs": [],
   "source": [
    "eps = 1e-12\n",
    "epsilon_train=1e-16"
   ]
  },
  {
   "cell_type": "code",
   "execution_count": 65,
   "metadata": {
    "collapsed": true
   },
   "outputs": [],
   "source": [
    "#print grad_full"
   ]
  },
  {
   "cell_type": "code",
   "execution_count": 66,
   "metadata": {
    "collapsed": true
   },
   "outputs": [],
   "source": [
    "#print grad_t3f"
   ]
  },
  {
   "cell_type": "code",
   "execution_count": 67,
   "metadata": {},
   "outputs": [
    {
     "name": "stdout",
     "output_type": "stream",
     "text": [
      "1e-12\n"
     ]
    }
   ],
   "source": [
    "print eps"
   ]
  },
  {
   "cell_type": "code",
   "execution_count": 68,
   "metadata": {
    "collapsed": true
   },
   "outputs": [],
   "source": [
    "#alpha = 0.3\n"
   ]
  },
  {
   "cell_type": "code",
   "execution_count": 69,
   "metadata": {
    "collapsed": true
   },
   "outputs": [],
   "source": [
    "#sess = tf.Session()\n",
    "#sess.run(tf.global_variables_initializer())"
   ]
  },
  {
   "cell_type": "code",
   "execution_count": 70,
   "metadata": {
    "collapsed": true
   },
   "outputs": [],
   "source": [
    "def compute_loss(x):\n",
    "    return 0.5*(frobenius_norm_tf_squared(sparsity_mask * t3f.full(x) - sparse_observation))"
   ]
  },
  {
   "cell_type": "code",
   "execution_count": 71,
   "metadata": {
    "collapsed": true
   },
   "outputs": [],
   "source": [
    "def reconstruct_tf(x_hat):\n",
    "    x_reconstruct = sparse_observation + (tf_ones - sparsity_mask)*x_hat\n",
    "    return x_reconstruct"
   ]
  },
  {
   "cell_type": "code",
   "execution_count": null,
   "metadata": {
    "collapsed": true
   },
   "outputs": [],
   "source": [
    " "
   ]
  },
  {
   "cell_type": "code",
   "execution_count": 72,
   "metadata": {
    "collapsed": true
   },
   "outputs": [],
   "source": [
    "def tsc_tf(x_hat,x_true_omega, mask):\n",
    "    x_rec = reconstruct_tf(x_hat)\n",
    "    nomin = frobenius_norm_tf((tf_ones - sparsity_mask)*(x_rec - sparse_observation))\n",
    "    #denom = frobenius_norm_tf(tf.multiply(tf_ones - sparsity_mask),(sparse_observation))\n",
    "    score = nomin/denom_tsc_tf\n",
    "    return score  \n"
   ]
  },
  {
   "cell_type": "code",
   "execution_count": null,
   "metadata": {
    "collapsed": true
   },
   "outputs": [],
   "source": []
  },
  {
   "cell_type": "code",
   "execution_count": null,
   "metadata": {
    "collapsed": true
   },
   "outputs": [],
   "source": []
  },
  {
   "cell_type": "code",
   "execution_count": 73,
   "metadata": {
    "collapsed": true
   },
   "outputs": [],
   "source": [
    "#first step"
   ]
  },
  {
   "cell_type": "code",
   "execution_count": 74,
   "metadata": {},
   "outputs": [
    {
     "name": "stdout",
     "output_type": "stream",
     "text": [
      "[1, 53, 1, 1, 1] 0 (1, 53, 53)\n",
      "[1, 53, 63, 1, 1] 1 (53, 63, 63)\n",
      "[1, 53, 63, 63, 1] 2 (63, 46, 63)\n",
      "ranks: [1, 53, 63, 63, 1]\n",
      "Max_TT rank63\n",
      "[1, 53, 63, 63, 1]\n",
      "Max_TT rank63\n",
      "[1, 53, 63, 63, 1]\n"
     ]
    }
   ],
   "source": [
    "zero_point1 = tf.constant(0.1)\n",
    "backtack_const = tf.constant(1e-4)\n",
    "\n",
    "norm_theta_sq = tf.get_variable('norm_theta_sq', initializer=mask_indices_norm_sq, dtype = tf.float32, trainable=False)\n",
    "norm_theta = tf.get_variable('norm_theta', initializer=mask_indices_norm_sq, dtype = tf.float32, trainable=False)\n",
    "\n",
    "#norm_theta_sq_t3f = t3f.get_variable('norm_theta_sq_t3f', initializer=mask_indices_norm_sq)\n",
    "#norm_theta_t3f = t3f.get_variable('norm_theta_t3f', initializer=norm_theta)\n",
    "\n",
    "initial_cost = compute_loss(X)\n",
    "cost = tf.get_variable('cost', initializer=initial_cost)\n",
    "cost_new = tf.get_variable('cost_new', initializer=0.0)\n",
    "\n",
    "#tsc_score_curr = tsc_tf(t3f.full(X),ground_truth, sparse_observation)\n",
    "completion_score = tf.get_variable('completion_score', initializer=tsc_score_init, dtype = tf.float32)\n",
    "\n",
    "\n",
    "grad_full_0 = sparsity_mask * t3f.full(X) - sparse_observation\n",
    "grad_t3f_0 = t3f.to_tt_tensor(grad_full_0, max_tt_rank=63)\n",
    "\n",
    "gradnorm_omega_0 = t3f.frobenius_norm(grad_t3f_0)/(normAOmegavar)\n",
    "riemannian_grad_0 = t3f.riemannian.project(grad_t3f_0, X)\n",
    "riemannian_grad_0 = t3f.round(riemannian_grad_0, max_tt_rank =63, epsilon = 1e-15)\n",
    "\n",
    "grad_t3f_old = t3f.get_variable('grad_t3f_old', initializer=riemannian_grad_0)\n",
    "\n",
    "#grad_t3f_old_op = t3f.assign(grad_t3f_old, riemannian_grad_0, validate_shape=False)\n",
    "riemannian_grad_full_0 = t3f.full(riemannian_grad_0)\n",
    "riemannian_grad_init_op = tf.assign(grad_old,riemannian_grad_full_0)\n",
    "\n",
    "eta_t3f_0 = -riemannian_grad_0\n",
    "eta_t3f_old = t3f.get_variable('eta_t3f_old', initializer=eta_t3f_0)\n",
    "\n",
    "eta_0 = -riemannian_grad_init_op\n",
    "eta_omega_0 = sparsity_mask * t3f.full(-riemannian_grad_0)\n",
    "\n",
    "alpha_0 = compute_step_size(eta_omega_0, riemannian_grad_init_op)\n",
    "eta_op_0 = tf.assign(eta_old,eta_0, validate_shape=False)\n",
    "\n",
    "eta_norm = tf.get_variable('eta_norm', initializer=0.0)\n",
    "eta_norm_init_op = tf.assign(eta_norm, frobenius_norm_tf(eta_op_0))\n",
    "\n",
    "alpha_old = tf.get_variable('alpha_old', initializer=0.0)\n",
    "\n",
    "train_step_0 = t3f.assign(X, t3f.round(X - alpha_0 * eta_t3f_0, max_tt_rank=63))\n",
    "\n"
   ]
  },
  {
   "cell_type": "code",
   "execution_count": 75,
   "metadata": {},
   "outputs": [
    {
     "name": "stdout",
     "output_type": "stream",
     "text": [
      "Rim 0:A Tensor Train of shape (53, 63, 46, 144), TT-ranks: (1, 53, 63, 63, 1)\n"
     ]
    }
   ],
   "source": [
    "print \"Rim 0:\" + str(riemannian_grad_0)"
   ]
  },
  {
   "cell_type": "code",
   "execution_count": 76,
   "metadata": {},
   "outputs": [
    {
     "name": "stdout",
     "output_type": "stream",
     "text": [
      "Eta 0: A Tensor Train of shape (53, 63, 46, 144), TT-ranks: (1, 53, 63, 63, 1)\n"
     ]
    }
   ],
   "source": [
    "print \"Eta 0: \" + str(eta_t3f_0)"
   ]
  },
  {
   "cell_type": "code",
   "execution_count": 77,
   "metadata": {
    "collapsed": true
   },
   "outputs": [],
   "source": [
    "#tt = t3f.round(eta_t3f_old, max_tt_rank =63, epsilon = 1e-15"
   ]
  },
  {
   "cell_type": "code",
   "execution_count": null,
   "metadata": {
    "collapsed": true
   },
   "outputs": [],
   "source": []
  },
  {
   "cell_type": "code",
   "execution_count": null,
   "metadata": {
    "collapsed": true
   },
   "outputs": [],
   "source": []
  },
  {
   "cell_type": "code",
   "execution_count": 78,
   "metadata": {
    "collapsed": true
   },
   "outputs": [],
   "source": [
    "# new\n",
    "#t3f.assign(eta_t3f_old, t3f.round(eta_t3f_old, max_tt_rank =63, epsilon = 1e-15))\n"
   ]
  },
  {
   "cell_type": "code",
   "execution_count": 79,
   "metadata": {},
   "outputs": [
    {
     "name": "stdout",
     "output_type": "stream",
     "text": [
      "[1, 53, 1, 1, 1] 0 (1, 53, 53)\n",
      "[1, 53, 63, 1, 1] 1 (53, 63, 63)\n",
      "[1, 53, 63, 63, 1] 2 (63, 46, 63)\n",
      "ranks: [1, 53, 63, 63, 1]\n",
      "Max_TT rank63\n",
      "[1, 53, 63, 63, 1]\n",
      "Rim Grad shape: A Tensor Train of shape (53, 63, 46, 144), TT-ranks: (1, 53, 63, 63, 1)\n",
      "eta_trans: A Tensor Train of shape (53, 63, 46, 144), TT-ranks: (1, 106, 126, 126, 1)\n",
      "steepest descent\n",
      "conjugate gradient\n",
      "Max_TT rank63\n",
      "[1, 53, 63, 63, 1]\n",
      "[1, 53, 1, 1, 1] 0 (1, 53, 53)\n",
      "[1, 53, 63, 1, 1] 1 (53, 63, 63)\n",
      "[1, 53, 63, 63, 1] 2 (63, 46, 63)\n",
      "ranks: [1, 53, 63, 63, 1]\n",
      "eta: A Tensor Train of shape (53, 63, 46, 144), TT-ranks: (1, 53, 63, 63, 1)\n"
     ]
    }
   ],
   "source": [
    "counter_step = tf.assign(counter, counter + 1)\n",
    "\n",
    "grad_trans = t3f.riemannian.project(grad_t3f_old, X)\n",
    "eta_trans = t3f.riemannian.project(eta_t3f_old, X)\n",
    "    \n",
    "grad_full = sparsity_mask * t3f.full(X) - sparse_observation\n",
    "grad_t3f = t3f.to_tt_tensor(grad_full, max_tt_rank=63)\n",
    "\n",
    "\n",
    "loss = 0.5 * t3f.frobenius_norm_squared(grad_t3f)\n",
    "gradnorm_omega = t3f.frobenius_norm(grad_t3f)/(normAOmegavar)\n",
    "\n",
    "riemannian_grad =  t3f.round(t3f.riemannian.project(grad_t3f, X),max_tt_rank =63)\n",
    "#riemannian_grad = t3f.round(riemannian_grad, max_tt_rank =63, epsilon = 1e-15)\n",
    "riemannian_grad_norm = t3f.frobenius_norm(riemannian_grad)\n",
    "\n",
    "inner_product_rim_grad = t3f.flat_inner(riemannian_grad, riemannian_grad)\n",
    "ip_xitrans_xi = t3f.flat_inner(grad_trans,riemannian_grad)\n",
    "theta = ip_xitrans_xi / inner_product_rim_grad\n",
    "\n",
    "def get_theta():\n",
    "    return t3f.full(ip_xitrans_xi / inner_product_rim_grad)\n",
    "\n",
    "def get_value_zero_point1():\n",
    "    return zero_point1\n",
    "    \n",
    "def get_conj_dir():\n",
    "    print \"conjugate gradient\"\n",
    "    tf.Print(zero_point1,[zero_point1],message=\"conjugate gradient\")\n",
    "    return t3f.full(approximate.add_n([-riemannian_grad, beta*eta_trans], max_tt_rank=63))\n",
    "\n",
    "def get_rim_grad():\n",
    "    print \"steepest descent\"\n",
    "    tf.Print(zero_point1,[zero_point1],message=\"steepest descent\")\n",
    "    return t3f.full(-riemannian_grad)\n",
    "\n",
    "# compute beta\n",
    "inner_product_rim_grad_old = t3f.flat_inner(grad_t3f_old, grad_t3f_old)\n",
    "beta = tf.maximum(0.0, (inner_product_rim_grad - ip_xitrans_xi)/inner_product_rim_grad_old)\n",
    "#eta = -riemannian_grad + beta*eta_trans\n",
    "\n",
    "print \"Rim Grad shape: \" + str(riemannian_grad)\n",
    "print \"eta_trans: \" + str(eta_trans)\n",
    "\n",
    "eta_cond = tf.cond((tf.abs(theta) >= zero_point1), get_rim_grad, get_conj_dir)\n",
    "eta_norm_update_op = tf.assign(eta_norm, frobenius_norm_tf(eta_cond))\n",
    "\n",
    "#eta = tf.case([(tf.greater_equal(theta_full,zero_point1), get_rim_grad)], default=get_conj_dir, exclusive=True)\n",
    "#eta = approximate.add_n([-riemannian_grad, beta*eta_trans], max_tt_rank=63)\n",
    "eta = t3f.to_tt_tensor(eta_cond, max_tt_rank=63)\n",
    "\n",
    "inprod_grad_eta = t3f.flat_inner(riemannian_grad,eta)\n",
    "#\n",
    "#eta_full = t3f.full(eta)\n",
    "\n",
    "print \"eta: \" + str(eta)\n",
    "#print \"eta1: \" + str(eta1)\n",
    "                                            \n",
    "#(1, 106, 126, 126, 1)\n",
    "\n",
    "eta_omega = sparsity_mask * t3f.full(eta)\n",
    "alpha = compute_step_size(eta_omega, grad_full)\n",
    "\n",
    "#two = tf.constant(2.0)\n",
    "#alpha1 =tf.maximum(0.0,two*(cost_new - cost)/inprod_grad_eta)"
   ]
  },
  {
   "cell_type": "code",
   "execution_count": null,
   "metadata": {
    "collapsed": true
   },
   "outputs": [],
   "source": []
  },
  {
   "cell_type": "code",
   "execution_count": 80,
   "metadata": {
    "collapsed": true
   },
   "outputs": [],
   "source": [
    "#eta1 = tf.cond((theta > zero_point1), get_rim_grad, get_conj_dir)"
   ]
  },
  {
   "cell_type": "code",
   "execution_count": 81,
   "metadata": {},
   "outputs": [
    {
     "name": "stdout",
     "output_type": "stream",
     "text": [
      "A Tensor Train of shape (53, 63, 46, 144), TT-ranks: (1, 53, 63, 63, 1)\n"
     ]
    }
   ],
   "source": [
    "print eta"
   ]
  },
  {
   "cell_type": "code",
   "execution_count": null,
   "metadata": {
    "collapsed": true
   },
   "outputs": [],
   "source": []
  },
  {
   "cell_type": "code",
   "execution_count": null,
   "metadata": {
    "collapsed": true
   },
   "outputs": [],
   "source": []
  },
  {
   "cell_type": "code",
   "execution_count": null,
   "metadata": {
    "collapsed": true
   },
   "outputs": [],
   "source": []
  },
  {
   "cell_type": "code",
   "execution_count": null,
   "metadata": {
    "collapsed": true
   },
   "outputs": [],
   "source": []
  },
  {
   "cell_type": "code",
   "execution_count": null,
   "metadata": {
    "collapsed": true
   },
   "outputs": [],
   "source": [
    "    "
   ]
  },
  {
   "cell_type": "code",
   "execution_count": null,
   "metadata": {
    "collapsed": true
   },
   "outputs": [],
   "source": []
  },
  {
   "cell_type": "code",
   "execution_count": null,
   "metadata": {
    "collapsed": true
   },
   "outputs": [],
   "source": [
    " "
   ]
  },
  {
   "cell_type": "code",
   "execution_count": null,
   "metadata": {
    "collapsed": true
   },
   "outputs": [],
   "source": []
  },
  {
   "cell_type": "code",
   "execution_count": null,
   "metadata": {
    "collapsed": true
   },
   "outputs": [],
   "source": []
  },
  {
   "cell_type": "code",
   "execution_count": null,
   "metadata": {
    "collapsed": true
   },
   "outputs": [],
   "source": []
  },
  {
   "cell_type": "code",
   "execution_count": null,
   "metadata": {
    "collapsed": true
   },
   "outputs": [],
   "source": []
  },
  {
   "cell_type": "code",
   "execution_count": null,
   "metadata": {
    "collapsed": true
   },
   "outputs": [],
   "source": []
  },
  {
   "cell_type": "code",
   "execution_count": null,
   "metadata": {
    "collapsed": true
   },
   "outputs": [],
   "source": []
  },
  {
   "cell_type": "code",
   "execution_count": null,
   "metadata": {
    "collapsed": true
   },
   "outputs": [],
   "source": []
  },
  {
   "cell_type": "code",
   "execution_count": null,
   "metadata": {
    "collapsed": true
   },
   "outputs": [],
   "source": []
  },
  {
   "cell_type": "code",
   "execution_count": null,
   "metadata": {
    "collapsed": true
   },
   "outputs": [],
   "source": []
  },
  {
   "cell_type": "code",
   "execution_count": 82,
   "metadata": {
    "collapsed": true
   },
   "outputs": [],
   "source": [
    "#cost_old_update = compute_loss(X)\n",
    "#cost_old_op = tf.assign(cost_old,cost_old_update)"
   ]
  },
  {
   "cell_type": "code",
   "execution_count": null,
   "metadata": {
    "collapsed": true
   },
   "outputs": [],
   "source": []
  },
  {
   "cell_type": "code",
   "execution_count": 83,
   "metadata": {},
   "outputs": [
    {
     "name": "stdout",
     "output_type": "stream",
     "text": [
      "Max_TT rank63\n",
      "[1, 53, 63, 63, 1]\n"
     ]
    }
   ],
   "source": [
    "train_new_step = t3f.assign(X_new, t3f.round(X + alpha * eta, max_tt_rank=63))"
   ]
  },
  {
   "cell_type": "code",
   "execution_count": 84,
   "metadata": {
    "collapsed": true
   },
   "outputs": [],
   "source": [
    "updated_cost_new = compute_loss(train_new_step)\n",
    "cost_new_op = tf.assign(cost_new,updated_cost_new)"
   ]
  },
  {
   "cell_type": "code",
   "execution_count": null,
   "metadata": {
    "collapsed": true
   },
   "outputs": [],
   "source": []
  },
  {
   "cell_type": "code",
   "execution_count": 85,
   "metadata": {
    "collapsed": true
   },
   "outputs": [],
   "source": [
    "tsc_score_new = tsc_tf(t3f.full(train_new_step),ground_truth, sparse_observation)\n",
    "tsc_score_op = tf.assign(completion_score,tsc_score_new)"
   ]
  },
  {
   "cell_type": "code",
   "execution_count": 86,
   "metadata": {},
   "outputs": [
    {
     "name": "stdout",
     "output_type": "stream",
     "text": [
      "Max_TT rank63\n",
      "[1, 53, 63, 63, 1]\n"
     ]
    }
   ],
   "source": [
    "train_step = t3f.assign(X, t3f.round(X + alpha * eta, max_tt_rank=63))"
   ]
  },
  {
   "cell_type": "code",
   "execution_count": 87,
   "metadata": {
    "collapsed": true
   },
   "outputs": [],
   "source": [
    "tsc_score_update = tsc_tf(t3f.full(X_new),ground_truth, sparse_observation)\n",
    "tsc_score_update_op = tf.assign(completion_score,tsc_score_update)"
   ]
  },
  {
   "cell_type": "code",
   "execution_count": 88,
   "metadata": {
    "collapsed": true
   },
   "outputs": [],
   "source": [
    "updated_cost = compute_loss(train_step)\n",
    "cost_op = tf.assign(cost,updated_cost)"
   ]
  },
  {
   "cell_type": "code",
   "execution_count": 89,
   "metadata": {
    "collapsed": true
   },
   "outputs": [],
   "source": [
    "eta_update_op = t3f.assign(eta_t3f_old, eta,use_locking = True)"
   ]
  },
  {
   "cell_type": "code",
   "execution_count": 90,
   "metadata": {
    "collapsed": true
   },
   "outputs": [],
   "source": [
    "grad_update_op = t3f.assign(grad_t3f_old, riemannian_grad)"
   ]
  },
  {
   "cell_type": "code",
   "execution_count": 91,
   "metadata": {},
   "outputs": [
    {
     "name": "stdout",
     "output_type": "stream",
     "text": [
      "Tensor(\"div_1:0\", shape=(), dtype=float32)\n"
     ]
    }
   ],
   "source": [
    "print alpha_0"
   ]
  },
  {
   "cell_type": "code",
   "execution_count": 92,
   "metadata": {},
   "outputs": [
    {
     "name": "stdout",
     "output_type": "stream",
     "text": [
      "Tensor(\"div_4:0\", shape=(), dtype=float32)\n"
     ]
    }
   ],
   "source": [
    "print theta"
   ]
  },
  {
   "cell_type": "code",
   "execution_count": 93,
   "metadata": {},
   "outputs": [
    {
     "name": "stdout",
     "output_type": "stream",
     "text": [
      "Tensor(\"Const_7:0\", shape=(), dtype=float32)\n"
     ]
    }
   ],
   "source": [
    "print zero_point1"
   ]
  },
  {
   "cell_type": "code",
   "execution_count": null,
   "metadata": {
    "collapsed": true
   },
   "outputs": [],
   "source": []
  },
  {
   "cell_type": "code",
   "execution_count": null,
   "metadata": {
    "collapsed": true
   },
   "outputs": [],
   "source": []
  },
  {
   "cell_type": "code",
   "execution_count": null,
   "metadata": {
    "collapsed": true
   },
   "outputs": [],
   "source": []
  },
  {
   "cell_type": "code",
   "execution_count": null,
   "metadata": {
    "collapsed": true
   },
   "outputs": [],
   "source": []
  },
  {
   "cell_type": "code",
   "execution_count": null,
   "metadata": {
    "collapsed": true
   },
   "outputs": [],
   "source": []
  },
  {
   "cell_type": "code",
   "execution_count": null,
   "metadata": {
    "collapsed": true
   },
   "outputs": [],
   "source": []
  },
  {
   "cell_type": "code",
   "execution_count": null,
   "metadata": {
    "collapsed": true
   },
   "outputs": [],
   "source": []
  },
  {
   "cell_type": "code",
   "execution_count": null,
   "metadata": {
    "collapsed": true
   },
   "outputs": [],
   "source": []
  },
  {
   "cell_type": "code",
   "execution_count": null,
   "metadata": {
    "collapsed": true
   },
   "outputs": [],
   "source": []
  },
  {
   "cell_type": "code",
   "execution_count": null,
   "metadata": {
    "collapsed": true
   },
   "outputs": [],
   "source": []
  },
  {
   "cell_type": "code",
   "execution_count": null,
   "metadata": {
    "collapsed": true
   },
   "outputs": [],
   "source": []
  },
  {
   "cell_type": "code",
   "execution_count": null,
   "metadata": {
    "collapsed": true
   },
   "outputs": [],
   "source": []
  },
  {
   "cell_type": "code",
   "execution_count": null,
   "metadata": {
    "collapsed": true
   },
   "outputs": [],
   "source": []
  },
  {
   "cell_type": "code",
   "execution_count": null,
   "metadata": {
    "collapsed": true
   },
   "outputs": [],
   "source": []
  },
  {
   "cell_type": "code",
   "execution_count": null,
   "metadata": {
    "collapsed": true
   },
   "outputs": [],
   "source": []
  },
  {
   "cell_type": "code",
   "execution_count": null,
   "metadata": {
    "collapsed": true
   },
   "outputs": [],
   "source": []
  },
  {
   "cell_type": "code",
   "execution_count": null,
   "metadata": {
    "collapsed": true
   },
   "outputs": [],
   "source": []
  },
  {
   "cell_type": "code",
   "execution_count": null,
   "metadata": {
    "collapsed": true
   },
   "outputs": [],
   "source": []
  },
  {
   "cell_type": "code",
   "execution_count": null,
   "metadata": {
    "collapsed": true
   },
   "outputs": [],
   "source": []
  },
  {
   "cell_type": "code",
   "execution_count": 94,
   "metadata": {
    "collapsed": true
   },
   "outputs": [],
   "source": [
    "#t3f.round(-riemannian_grad + beta*eta_trans, max_tt_rank=[eta_trans])"
   ]
  },
  {
   "cell_type": "code",
   "execution_count": null,
   "metadata": {
    "collapsed": true
   },
   "outputs": [],
   "source": []
  },
  {
   "cell_type": "code",
   "execution_count": null,
   "metadata": {
    "collapsed": true
   },
   "outputs": [],
   "source": []
  },
  {
   "cell_type": "code",
   "execution_count": null,
   "metadata": {
    "collapsed": true
   },
   "outputs": [],
   "source": []
  },
  {
   "cell_type": "code",
   "execution_count": null,
   "metadata": {
    "collapsed": true
   },
   "outputs": [],
   "source": []
  },
  {
   "cell_type": "code",
   "execution_count": null,
   "metadata": {
    "collapsed": true
   },
   "outputs": [],
   "source": []
  },
  {
   "cell_type": "code",
   "execution_count": 95,
   "metadata": {
    "collapsed": true
   },
   "outputs": [],
   "source": [
    "#eta_update_op = t3f.assign(eta_t3f_old, eta,validate_shape=False, use_locking = True)"
   ]
  },
  {
   "cell_type": "code",
   "execution_count": 96,
   "metadata": {
    "collapsed": true
   },
   "outputs": [],
   "source": [
    "#grad_update_op = t3f.assign(grad_t3f_old, riemannian_grad)"
   ]
  },
  {
   "cell_type": "code",
   "execution_count": null,
   "metadata": {
    "collapsed": true
   },
   "outputs": [],
   "source": []
  },
  {
   "cell_type": "code",
   "execution_count": null,
   "metadata": {
    "collapsed": true
   },
   "outputs": [],
   "source": []
  },
  {
   "cell_type": "code",
   "execution_count": null,
   "metadata": {
    "collapsed": true
   },
   "outputs": [],
   "source": []
  },
  {
   "cell_type": "code",
   "execution_count": 97,
   "metadata": {
    "collapsed": true
   },
   "outputs": [],
   "source": [
    "tsc_score_history = []"
   ]
  },
  {
   "cell_type": "code",
   "execution_count": 98,
   "metadata": {
    "collapsed": true
   },
   "outputs": [],
   "source": [
    "sess = tf.Session()\n",
    "sess.run(tf.global_variables_initializer())"
   ]
  },
  {
   "cell_type": "code",
   "execution_count": 99,
   "metadata": {},
   "outputs": [
    {
     "name": "stdout",
     "output_type": "stream",
     "text": [
      "0.99968433 1.0 0.49778685 0.0 0.9975334 0.9996317\n"
     ]
    }
   ],
   "source": [
    "log = []\n",
    "train_loss_hist = []\n",
    "#for i in range(1000):\n",
    "gradnorm_val, alpha_val, eta_op_0_val,cost_val, cost_new_val, eta_norm_val, tsc_score_val,_,_ = sess.run([gradnorm_omega_0, alpha_0, eta_op_0, cost, cost_new, eta_norm,completion_score, train_step_0.op, eta_norm_init_op.op])\n",
    "print gradnorm_val, alpha_val,cost_val, cost_new_val, eta_norm_val, tsc_score_val"
   ]
  },
  {
   "cell_type": "code",
   "execution_count": 100,
   "metadata": {},
   "outputs": [
    {
     "name": "stdout",
     "output_type": "stream",
     "text": [
      "A Tensor Train of shape (53, 63, 46, 144), TT-ranks: (1, 106, 126, 126, 1)\n"
     ]
    }
   ],
   "source": [
    "print grad_trans"
   ]
  },
  {
   "cell_type": "code",
   "execution_count": 101,
   "metadata": {
    "collapsed": true
   },
   "outputs": [],
   "source": [
    "tsc_score_0 = tsc_score_val"
   ]
  },
  {
   "cell_type": "code",
   "execution_count": 102,
   "metadata": {},
   "outputs": [
    {
     "name": "stdout",
     "output_type": "stream",
     "text": [
      "tsc_score_0:0.9996317\n"
     ]
    }
   ],
   "source": [
    "print \"tsc_score_0:\" + str(tsc_score_0)"
   ]
  },
  {
   "cell_type": "code",
   "execution_count": 103,
   "metadata": {
    "collapsed": true
   },
   "outputs": [],
   "source": [
    "tsc_score_history.append(tsc_score_0)"
   ]
  },
  {
   "cell_type": "code",
   "execution_count": null,
   "metadata": {
    "collapsed": true
   },
   "outputs": [],
   "source": []
  },
  {
   "cell_type": "code",
   "execution_count": 104,
   "metadata": {
    "collapsed": true
   },
   "outputs": [],
   "source": [
    "#x_k, grad_k, eta_k = sess.run([t3f.full(X),t3f.full(grad_t3f_old), t3f.full(eta_t3f_old)])"
   ]
  },
  {
   "cell_type": "code",
   "execution_count": 105,
   "metadata": {
    "collapsed": true
   },
   "outputs": [],
   "source": [
    "#scipy_step_size = find_step_size(x_k,grad_k,eta_k, cost_old_val)"
   ]
  },
  {
   "cell_type": "code",
   "execution_count": 106,
   "metadata": {
    "collapsed": true
   },
   "outputs": [],
   "source": [
    "#print \"scipy_step_size: \" + str(scipy_step_size)"
   ]
  },
  {
   "cell_type": "code",
   "execution_count": null,
   "metadata": {
    "collapsed": true
   },
   "outputs": [],
   "source": []
  },
  {
   "cell_type": "code",
   "execution_count": 107,
   "metadata": {
    "collapsed": true
   },
   "outputs": [],
   "source": [
    "#sess.run([loss])"
   ]
  },
  {
   "cell_type": "code",
   "execution_count": 108,
   "metadata": {
    "collapsed": true
   },
   "outputs": [],
   "source": [
    "#sess.run([theta])"
   ]
  },
  {
   "cell_type": "code",
   "execution_count": 109,
   "metadata": {
    "collapsed": true
   },
   "outputs": [],
   "source": [
    "#print theta"
   ]
  },
  {
   "cell_type": "code",
   "execution_count": 110,
   "metadata": {
    "collapsed": true
   },
   "outputs": [],
   "source": [
    "#sess.run([eta_trans])"
   ]
  },
  {
   "cell_type": "code",
   "execution_count": 111,
   "metadata": {
    "collapsed": true
   },
   "outputs": [],
   "source": [
    "#sess.run([eta])"
   ]
  },
  {
   "cell_type": "code",
   "execution_count": 112,
   "metadata": {
    "collapsed": true
   },
   "outputs": [],
   "source": [
    "#sess.run([train_step.op])"
   ]
  },
  {
   "cell_type": "code",
   "execution_count": null,
   "metadata": {
    "collapsed": true
   },
   "outputs": [],
   "source": []
  },
  {
   "cell_type": "code",
   "execution_count": null,
   "metadata": {
    "collapsed": true
   },
   "outputs": [],
   "source": []
  },
  {
   "cell_type": "code",
   "execution_count": 113,
   "metadata": {
    "collapsed": true
   },
   "outputs": [],
   "source": [
    "#def backtrack(t, sess):\n",
    "#    t = t * 0.5\n",
    "#    return t3f.assign(X, t3f.round(X - t * eta, max_tt_rank=63))"
   ]
  },
  {
   "cell_type": "code",
   "execution_count": null,
   "metadata": {
    "collapsed": true
   },
   "outputs": [],
   "source": [
    "\n",
    "    "
   ]
  },
  {
   "cell_type": "code",
   "execution_count": null,
   "metadata": {
    "collapsed": true
   },
   "outputs": [],
   "source": []
  },
  {
   "cell_type": "code",
   "execution_count": 114,
   "metadata": {
    "collapsed": true
   },
   "outputs": [],
   "source": [
    "def loss_func(x, y):\n",
    "    return 0.5*(np.linalg.norm(x - y)** 2)\n",
    "    "
   ]
  },
  {
   "cell_type": "code",
   "execution_count": 115,
   "metadata": {
    "collapsed": true
   },
   "outputs": [],
   "source": [
    "def is_nan(x):\n",
    "    return (x is np.nan or x != x)"
   ]
  },
  {
   "cell_type": "code",
   "execution_count": 116,
   "metadata": {
    "collapsed": true
   },
   "outputs": [],
   "source": [
    "backtrack_const = 1e-4 "
   ]
  },
  {
   "cell_type": "code",
   "execution_count": null,
   "metadata": {
    "collapsed": true
   },
   "outputs": [],
   "source": []
  },
  {
   "cell_type": "code",
   "execution_count": 117,
   "metadata": {
    "collapsed": true
   },
   "outputs": [],
   "source": [
    "cost_history = []\n"
   ]
  },
  {
   "cell_type": "code",
   "execution_count": 118,
   "metadata": {
    "collapsed": true
   },
   "outputs": [],
   "source": [
    "#sess.run([loss, gradnorm_omega, alpha, theta, eta_update_op, grad_update_op, train_step.op])"
   ]
  },
  {
   "cell_type": "code",
   "execution_count": 121,
   "metadata": {},
   "outputs": [
    {
     "name": "stdout",
     "output_type": "stream",
     "text": [
      "alpha_val: 1.0000732\n",
      "theta_val: 0.9999987\n",
      "inprod_grad_eta_val: -3.980958\n",
      "rim_grad_norm: 1.995218\n",
      "eta_norm_val: 1.9949917\n",
      "Cost New: 0.00015365036\n",
      "Cost Old: 0.49778685\n",
      "TSC Score New: 1.0338095\n",
      "TSC Score Old: 0.9996317\n",
      "armijo: True\n",
      "proposed_initial_alpha: 0.2500067525693302\n",
      "updating X: initial cost: 0.49778685; New Cost: 0.00015365036\n",
      "(9.064411e-08, 1, 1.9990237, 1.0000732, 0.9999987, 1.3175784e-06, 0.49778685, 0.00015365036)\n",
      "alpha_val: 1.2263263\n",
      "theta_val: 0.4001596\n",
      "inprod_grad_eta_val: -0.000146249\n",
      "rim_grad_norm: 0.012499904\n",
      "eta_norm_val: 0.012090357\n",
      "Cost New: 6.5020446e-05\n",
      "Cost Old: 0.00015365036\n",
      "TSC Score New: 1.0041715\n",
      "TSC Score Old: 0.9996317\n",
      "armijo: True\n",
      "proposed_initial_alpha: 1.2120412073246631\n",
      "updating X: initial cost: 0.00015365036; New Cost: 6.5020446e-05\n",
      "(4.783076e-12, 2, 0.014862759, 0.0, 1.2263263, 0.4001596, 2.2036382e-05, 0.00015365036, 6.5020446e-05)\n",
      "alpha_val: 1.2527983\n",
      "theta_val: -0.11531868\n",
      "inprod_grad_eta_val: -3.3790147e-05\n",
      "rim_grad_norm: 0.0066173845\n",
      "eta_norm_val: 0.0058120373\n",
      "Cost New: 4.4860284e-05\n",
      "Cost Old: 6.5020446e-05\n",
      "TSC Score New: 0.99098414\n",
      "TSC Score Old: 0.9996317\n",
      "armijo: True\n",
      "proposed_initial_alpha: 1.1932567950720083\n",
      "updating X: initial cost: 6.5020446e-05; New Cost: 4.4860284e-05\n",
      "(1.6785374e-12, 3, 0.0091671515, 0.0, 1.2527983, -0.11531868, 0.25768837, 6.5020446e-05, 4.4860284e-05)\n",
      "alpha_val: 1.2689052\n",
      "theta_val: -0.1617526\n",
      "inprod_grad_eta_val: -1.5190705e-05\n",
      "rim_grad_norm: 0.0050190184\n",
      "eta_norm_val: 0.0038970227\n",
      "Cost New: 3.6227357e-05\n",
      "Cost Old: 4.4860284e-05\n",
      "TSC Score New: 0.9803893\n",
      "TSC Score Old: 1.0338095\n",
      "armijo: True\n",
      "proposed_initial_alpha: 1.1366065280487059\n",
      "updating X: initial cost: 4.4860284e-05; New Cost: 3.6227357e-05\n",
      "(1.0789378e-12, 4, 0.0075896676, 133.49883, 1.2689052, -0.1617526, 0.522278, 4.4860284e-05, 3.6227357e-05)\n",
      "alpha_val: 1.2114333\n",
      "theta_val: -0.26924586\n",
      "inprod_grad_eta_val: -9.346032e-06\n",
      "rim_grad_norm: 0.004398401\n",
      "eta_norm_val: 0.0030567222\n",
      "Cost New: 3.1531417e-05\n",
      "Cost Old: 3.6227357e-05\n",
      "TSC Score New: 0.9739667\n",
      "TSC Score Old: 1.0041715\n",
      "armijo: True\n",
      "proposed_initial_alpha: 1.0049054740863508\n",
      "updating X: initial cost: 3.6227357e-05; New Cost: 3.1531417e-05\n",
      "(8.5440547e-13, 5, 0.00690684, 0.6213061, 1.2114333, -0.26924586, 0.7808992, 3.6227357e-05, 3.1531417e-05)\n",
      "alpha_val: 1.1702993\n",
      "theta_val: -0.36771142\n",
      "inprod_grad_eta_val: -6.1774203e-06\n",
      "rim_grad_norm: 0.0040221075\n",
      "eta_norm_val: 0.002485123\n",
      "Cost New: 2.8745992e-05\n",
      "Cost Old: 3.1531417e-05\n",
      "TSC Score New: 0.9692445\n",
      "TSC Score Old: 0.99098414\n",
      "armijo: True\n",
      "proposed_initial_alpha: 0.9018087141978922\n",
      "updating X: initial cost: 3.1531417e-05; New Cost: 2.8745992e-05\n",
      "(7.261792e-13, 6, 0.0064847153, 0.20784625, 1.1702993, -0.36771142, 0.9040117, 3.1531417e-05, 2.8745992e-05)\n",
      "alpha_val: 1.110297\n",
      "theta_val: -0.41998306\n",
      "inprod_grad_eta_val: -4.5241472e-06\n",
      "rim_grad_norm: 0.003811049\n",
      "eta_norm_val: 0.0021267708\n",
      "Cost New: 2.6876938e-05\n",
      "Cost Old: 2.8745992e-05\n",
      "TSC Score New: 0.9655628\n",
      "TSC Score Old: 0.9803893\n",
      "armijo: True\n",
      "proposed_initial_alpha: 0.826256683658828\n",
      "updating X: initial cost: 2.8745992e-05; New Cost: 2.6876938e-05\n",
      "(6.523813e-13, 7, 0.006228813, 0.098862514, 1.110297, -0.41998306, 1.0399505, 2.8745992e-05, 2.6876938e-05)\n",
      "alpha_val: 1.0628738\n",
      "theta_val: -0.46121156\n",
      "inprod_grad_eta_val: -3.430368e-06\n",
      "rim_grad_norm: 0.003664741\n",
      "eta_norm_val: 0.0018519214\n",
      "Cost New: 2.5556532e-05\n",
      "Cost Old: 2.6876938e-05\n",
      "TSC Score New: 0.96252817\n",
      "TSC Score Old: 0.9739667\n",
      "armijo: True\n",
      "proposed_initial_alpha: 0.7698335736960988\n",
      "updating X: initial cost: 2.6876938e-05; New Cost: 2.5556532e-05\n",
      "(6.0409165e-13, 8, 0.006055514, 0.06509534, 1.0628738, -0.46121156, 1.1079428, 2.6876938e-05, 2.5556532e-05)\n",
      "alpha_val: 1.0281433\n",
      "theta_val: -0.5036088\n",
      "inprod_grad_eta_val: -2.6217745e-06\n",
      "rim_grad_norm: 0.0035527102\n",
      "eta_norm_val: 0.001618999\n",
      "Cost New: 2.4590365e-05\n",
      "Cost Old: 2.5556532e-05\n",
      "TSC Score New: 0.96011657\n",
      "TSC Score Old: 0.9692445\n",
      "armijo: True\n",
      "proposed_initial_alpha: 0.7370329917925091\n",
      "updating X: initial cost: 2.5556532e-05; New Cost: 2.4590365e-05\n",
      "(5.6944965e-13, 9, 0.005928072, 0.041083638, 1.0281433, -0.5036088, 1.1491861, 2.5556532e-05, 2.4590365e-05)\n",
      "alpha_val: 0.9730817\n",
      "theta_val: -0.53173363\n",
      "inprod_grad_eta_val: -2.0772688e-06\n",
      "rim_grad_norm: 0.0034752337\n",
      "eta_norm_val: 0.001441127\n",
      "Cost New: 2.3878223e-05\n",
      "Cost Old: 2.4590365e-05\n",
      "TSC Score New: 0.95828\n",
      "TSC Score Old: 0.9655628\n",
      "armijo: True\n",
      "proposed_initial_alpha: 0.6856518633854809\n",
      "updating X: initial cost: 2.4590365e-05; New Cost: 2.3878223e-05\n",
      "(5.453801e-13, 10, 0.0058378866, 0.028618399, 0.9730817, -0.53173363, 1.2136134, 2.4590365e-05, 2.3878223e-05)\n",
      "alpha_val: 0.9267691\n",
      "theta_val: -0.5475982\n",
      "inprod_grad_eta_val: -1.6519633e-06\n",
      "rim_grad_norm: 0.0034134942\n",
      "eta_norm_val: 0.0012851482\n",
      "Cost New: 2.3339671e-05\n",
      "Cost Old: 2.3878223e-05\n",
      "TSC Score New: 0.956739\n",
      "TSC Score Old: 0.96252817\n",
      "armijo: True\n",
      "proposed_initial_alpha: 0.6520142733828634\n",
      "updating X: initial cost: 2.3878223e-05; New Cost: 2.3339671e-05\n",
      "(5.26602e-13, 11, 0.005766548, 0.021498004, 0.9267691, -0.5475982, 1.230736, 2.3878223e-05, 2.3339671e-05)\n",
      "alpha_val: 0.8894208\n",
      "theta_val: -0.5772192\n",
      "inprod_grad_eta_val: -1.318986e-06\n",
      "rim_grad_norm: 0.0033643679\n",
      "eta_norm_val: 0.0011483441\n",
      "Cost New: 2.2935237e-05\n",
      "Cost Old: 2.3339671e-05\n",
      "TSC Score New: 0.9555183\n",
      "TSC Score Old: 0.96011657\n",
      "armijo: True\n",
      "proposed_initial_alpha: 0.6132500092226083\n",
      "updating X: initial cost: 2.3339671e-05; New Cost: 2.2935237e-05\n",
      "(5.127684e-13, 12, 0.005713424, 0.0154483225, 0.8894208, -0.5772192, 1.2593096, 2.3339671e-05, 2.2935237e-05)\n",
      "alpha_val: 0.8511847\n",
      "theta_val: -0.56532395\n",
      "inprod_grad_eta_val: -1.1103195e-06\n",
      "rim_grad_norm: 0.0033332128\n",
      "eta_norm_val: 0.0010536147\n",
      "Cost New: 2.261226e-05\n",
      "Cost Old: 2.2935237e-05\n",
      "TSC Score New: 0.95453864\n",
      "TSC Score Old: 0.95828\n",
      "armijo: True\n",
      "proposed_initial_alpha: 0.581774753099225\n",
      "updating X: initial cost: 2.2935237e-05; New Cost: 2.261226e-05\n",
      "(5.012388e-13, 13, 0.0056687687, 0.012371071, 0.8511847, -0.56532395, 1.3176858, 2.2935237e-05, 2.261226e-05)\n",
      "alpha_val: 0.8001569\n",
      "theta_val: -0.6100938\n",
      "inprod_grad_eta_val: -9.1164634e-07\n",
      "rim_grad_norm: 0.0033032764\n",
      "eta_norm_val: 0.00095470215\n",
      "Cost New: 2.2370567e-05\n",
      "Cost Old: 2.261226e-05\n",
      "TSC Score New: 0.95375377\n",
      "TSC Score Old: 0.956739\n",
      "armijo: True\n",
      "proposed_initial_alpha: 0.5302335998611285\n",
      "updating X: initial cost: 2.261226e-05; New Cost: 2.2370567e-05\n",
      "(4.930636e-13, 14, 0.0056368895, 0.0092981085, 0.8001569, -0.6100938, 1.3219928, 2.261226e-05, 2.2370567e-05)\n",
      "alpha_val: 0.76619595\n",
      "theta_val: -0.6030414\n",
      "inprod_grad_eta_val: -7.646489e-07\n",
      "rim_grad_norm: 0.0032809512\n",
      "eta_norm_val: 0.00087434455\n",
      "Cost New: 2.2182578e-05\n",
      "Cost Old: 2.2370567e-05\n",
      "TSC Score New: 0.9530592\n",
      "TSC Score Old: 0.9555183\n",
      "armijo: True\n",
      "proposed_initial_alpha: 0.49169994958312785\n",
      "updating X: initial cost: 2.2370567e-05; New Cost: 2.2182578e-05\n",
      "(4.8547494e-13, 15, 0.005607136, 0.0078774635, 0.76619595, -0.6030414, 1.3445635, 2.2370567e-05, 2.2182578e-05)\n",
      "alpha_val: 0.72784907\n",
      "theta_val: -0.62830997\n",
      "inprod_grad_eta_val: -6.6492856e-07\n",
      "rim_grad_norm: 0.0032657192\n",
      "eta_norm_val: 0.0008153429\n",
      "Cost New: 2.2033999e-05\n",
      "Cost Old: 2.2182578e-05\n",
      "TSC Score New: 0.952445\n",
      "TSC Score Old: 0.95453864\n",
      "armijo: True\n",
      "proposed_initial_alpha: 0.4469012178365259\n",
      "updating X: initial cost: 2.2182578e-05; New Cost: 2.2033999e-05\n",
      "(4.8058194e-13, 16, 0.005587868, 0.0056554545, 0.72784907, -0.62830997, 1.4159555, 2.2182578e-05, 2.2033999e-05)\n",
      "alpha_val: 0.7085557\n",
      "theta_val: -0.61460537\n",
      "inprod_grad_eta_val: -5.944748e-07\n",
      "rim_grad_norm: 0.0032549144\n",
      "eta_norm_val: 0.00077094784\n",
      "Cost New: 2.1906779e-05\n",
      "Cost Old: 2.2033999e-05\n",
      "TSC Score New: 0.9519881\n",
      "TSC Score Old: 0.95375377\n",
      "armijo: True\n",
      "proposed_initial_alpha: 0.4280084615663383\n",
      "updating X: initial cost: 2.2033999e-05; New Cost: 2.1906779e-05\n",
      "(4.754889e-13, 17, 0.0055677406, 0.00530635, 0.7085557, -0.61460537, 1.4435288, 2.2033999e-05, 2.1906779e-05)\n",
      "alpha_val: 0.6791551\n",
      "theta_val: -0.6132892\n",
      "inprod_grad_eta_val: -5.5663855e-07\n",
      "rim_grad_norm: 0.0032490971\n",
      "eta_norm_val: 0.00074601255\n",
      "Cost New: 2.1796748e-05\n",
      "Cost Old: 2.1906779e-05\n",
      "TSC Score New: 0.95157015\n",
      "TSC Score Old: 0.9530592\n",
      "armijo: True\n",
      "proposed_initial_alpha: 0.3953397343617133\n",
      "updating X: initial cost: 2.1906779e-05; New Cost: 2.1796748e-05\n",
      "(4.718903e-13, 18, 0.0055534756, 0.0034482083, 0.6791551, -0.6132892, 1.5106068, 2.1906779e-05, 2.1796748e-05)\n"
     ]
    },
    {
     "name": "stdout",
     "output_type": "stream",
     "text": [
      "alpha_val: 0.66638863\n",
      "theta_val: -0.63976043\n",
      "inprod_grad_eta_val: -5.059809e-07\n",
      "rim_grad_norm: 0.0032412922\n",
      "eta_norm_val: 0.00071125553\n",
      "Cost New: 2.1700047e-05\n",
      "Cost Old: 2.1796748e-05\n",
      "TSC Score New: 0.9512201\n",
      "TSC Score Old: 0.952445\n",
      "armijo: True\n",
      "proposed_initial_alpha: 0.38223227817029176\n",
      "updating X: initial cost: 2.1796748e-05; New Cost: 2.1700047e-05\n",
      "(4.685072e-13, 19, 0.005540031, 0.0036149812, 0.66638863, -0.63976043, 1.4905338, 2.1796748e-05, 2.1700047e-05)\n",
      "alpha_val: 0.6394987\n",
      "theta_val: -0.6382604\n",
      "inprod_grad_eta_val: -4.875699e-07\n",
      "rim_grad_norm: 0.003238451\n",
      "eta_norm_val: 0.0006981931\n",
      "Cost New: 2.1614547e-05\n",
      "Cost Old: 2.1700047e-05\n",
      "TSC Score New: 0.9508843\n",
      "TSC Score Old: 0.9519881\n",
      "armijo: True\n",
      "proposed_initial_alpha: 0.350718048084389\n",
      "updating X: initial cost: 2.1700047e-05; New Cost: 2.1614547e-05\n",
      "(4.6574355e-13, 20, 0.005529024, 0.0025686738, 0.6394987, -0.6382604, 1.5786487, 2.1700047e-05, 2.1614547e-05)\n",
      "alpha_val: 0.6244899\n",
      "theta_val: -0.66643685\n",
      "inprod_grad_eta_val: -4.5169003e-07\n",
      "rim_grad_norm: 0.0032329066\n",
      "eta_norm_val: 0.00067201135\n",
      "Cost New: 2.1538119e-05\n",
      "Cost Old: 2.1614547e-05\n",
      "TSC Score New: 0.9505966\n",
      "TSC Score Old: 0.95157015\n",
      "armijo: True\n",
      "proposed_initial_alpha: 0.3384111806690355\n",
      "updating X: initial cost: 2.1614547e-05; New Cost: 2.1538119e-05\n",
      "(4.629417e-13, 21, 0.0055178427, 0.0024268045, 0.6244899, -0.66643685, 1.5438046, 2.1614547e-05, 2.1538119e-05)\n",
      "alpha_val: 0.58898455\n",
      "theta_val: -0.6607916\n",
      "inprod_grad_eta_val: -4.1708304e-07\n",
      "rim_grad_norm: 0.0032275498\n",
      "eta_norm_val: 0.0006457563\n",
      "Cost New: 2.1475686e-05\n",
      "Cost Old: 2.1538119e-05\n",
      "TSC Score New: 0.95035076\n",
      "TSC Score Old: 0.9512201\n",
      "armijo: True\n",
      "proposed_initial_alpha: 0.2993800599053957\n",
      "updating X: initial cost: 2.1538119e-05; New Cost: 2.1475686e-05\n",
      "(4.606873e-13, 22, 0.00550883, 0.0019907376, 0.58898455, -0.6607916, 1.5335472, 2.1538119e-05, 2.1475686e-05)\n",
      "alpha_val: 0.60230047\n",
      "theta_val: -0.63847184\n",
      "inprod_grad_eta_val: -3.9408508e-07\n",
      "rim_grad_norm: 0.0032239852\n",
      "eta_norm_val: 0.00062769727\n",
      "Cost New: 2.141374e-05\n",
      "Cost Old: 2.1475686e-05\n",
      "TSC Score New: 0.9501155\n",
      "TSC Score Old: 0.9508843\n",
      "armijo: True\n",
      "proposed_initial_alpha: 0.3143772128447624\n",
      "updating X: initial cost: 2.1475686e-05; New Cost: 2.141374e-05\n",
      "(4.58522e-13, 23, 0.0055001588, 0.0020264185, 0.60230047, -0.63847184, 1.5481261, 2.1475686e-05, 2.141374e-05)\n",
      "alpha_val: 0.5933428\n",
      "theta_val: -0.65142065\n",
      "inprod_grad_eta_val: -4.055639e-07\n",
      "rim_grad_norm: 0.003225765\n",
      "eta_norm_val: 0.00063677406\n",
      "Cost New: 2.1351969e-05\n",
      "Cost Old: 2.141374e-05\n",
      "TSC Score New: 0.94985735\n",
      "TSC Score Old: 0.9505966\n",
      "armijo: True\n",
      "proposed_initial_alpha: 0.3046181470409182\n",
      "updating X: initial cost: 2.141374e-05; New Cost: 2.1351969e-05\n",
      "(4.569143e-13, 24, 0.0054937117, 0.0016360778, 0.5933428, -0.65142065, 1.6995276, 2.141374e-05, 2.1351969e-05)\n",
      "alpha_val: 0.5782719\n",
      "theta_val: -0.66770077\n",
      "inprod_grad_eta_val: -3.8683933e-07\n",
      "rim_grad_norm: 0.003222861\n",
      "eta_norm_val: 0.00062189886\n",
      "Cost New: 2.1295364e-05\n",
      "Cost Old: 2.1351969e-05\n",
      "TSC Score New: 0.9496429\n",
      "TSC Score Old: 0.95035076\n",
      "armijo: True\n",
      "proposed_initial_alpha: 0.292654477187395\n",
      "updating X: initial cost: 2.1351969e-05; New Cost: 2.1295364e-05\n",
      "(4.551541e-13, 25, 0.0054866443, 0.0015765143, 0.5782719, -0.66770077, 1.5906994, 2.1351969e-05, 2.1295364e-05)\n",
      "alpha_val: 0.551642\n",
      "theta_val: -0.7021282\n",
      "inprod_grad_eta_val: -3.6838492e-07\n",
      "rim_grad_norm: 0.003219997\n",
      "eta_norm_val: 0.0006068846\n",
      "Cost New: 2.1246504e-05\n",
      "Cost Old: 2.1295364e-05\n",
      "TSC Score New: 0.94941074\n",
      "TSC Score Old: 0.9501155\n",
      "armijo: True\n",
      "proposed_initial_alpha: 0.2652653356985114\n",
      "updating X: initial cost: 2.1295364e-05; New Cost: 2.1246504e-05\n",
      "(4.5352036e-13, 26, 0.005480077, 0.0011735382, 0.551642, -0.7021282, 1.6209284, 2.1295364e-05, 2.1246504e-05)\n",
      "alpha_val: 0.52743846\n",
      "theta_val: -0.725621\n",
      "inprod_grad_eta_val: -3.3948942e-07\n",
      "rim_grad_norm: 0.003215507\n",
      "eta_norm_val: 0.000582597\n",
      "Cost New: 2.1205411e-05\n",
      "Cost Old: 2.1246504e-05\n",
      "TSC Score New: 0.9492494\n",
      "TSC Score Old: 0.94985735\n",
      "armijo: True\n",
      "proposed_initial_alpha: 0.24208583506589773\n",
      "updating X: initial cost: 2.1246504e-05; New Cost: 2.1205411e-05\n",
      "(4.5188416e-13, 27, 0.0054734917, 0.0012880991, 0.52743846, -0.725621, 1.5902662, 2.1246504e-05, 2.1205411e-05)\n",
      "alpha_val: 0.5004939\n",
      "theta_val: -0.71264976\n",
      "inprod_grad_eta_val: -3.2295517e-07\n",
      "rim_grad_norm: 0.0032129348\n",
      "eta_norm_val: 0.00056823506\n",
      "Cost New: 2.117001e-05\n",
      "Cost Old: 2.1205411e-05\n",
      "TSC Score New: 0.94908917\n",
      "TSC Score Old: 0.9496429\n",
      "armijo: True\n",
      "proposed_initial_alpha: 0.21923272734473145\n",
      "updating X: initial cost: 2.1205411e-05; New Cost: 2.117001e-05\n",
      "(4.5029795e-13, 28, 0.0054671, 0.0011983812, 0.5004939, -0.71264976, 1.6292366, 2.1205411e-05, 2.117001e-05)\n",
      "alpha_val: 0.4973394\n",
      "theta_val: -0.7065941\n",
      "inprod_grad_eta_val: -3.011635e-07\n",
      "rim_grad_norm: 0.003209542\n",
      "eta_norm_val: 0.00054873346\n",
      "Cost New: 2.1137435e-05\n",
      "Cost Old: 2.117001e-05\n",
      "TSC Score New: 0.9489615\n",
      "TSC Score Old: 0.94941074\n",
      "armijo: True\n",
      "proposed_initial_alpha: 0.21632409732915864\n",
      "updating X: initial cost: 2.117001e-05; New Cost: 2.1137435e-05\n",
      "(4.492618e-13, 29, 0.0054629208, 0.001203141, 0.4973394, -0.7065941, 1.5914433, 2.117001e-05, 2.1137435e-05)\n",
      "alpha_val: 0.46921328\n",
      "theta_val: -0.7184773\n",
      "inprod_grad_eta_val: -2.9432084e-07\n",
      "rim_grad_norm: 0.003208476\n",
      "eta_norm_val: 0.00054246455\n",
      "Cost New: 2.1108926e-05\n",
      "Cost Old: 2.1137435e-05\n",
      "TSC Score New: 0.94886273\n",
      "TSC Score Old: 0.9492494\n",
      "armijo: True\n",
      "proposed_initial_alpha: 0.19372750348752074\n",
      "updating X: initial cost: 2.1137435e-05; New Cost: 2.1108926e-05\n",
      "(4.479954e-13, 30, 0.0054578083, 0.0011691146, 0.46921328, -0.7184773, 1.6794342, 2.1137435e-05, 2.1108926e-05)\n",
      "alpha_val: 0.482135\n",
      "theta_val: -0.6849979\n",
      "inprod_grad_eta_val: -2.873913e-07\n",
      "rim_grad_norm: 0.0032073958\n",
      "eta_norm_val: 0.00053603866\n",
      "Cost New: 2.1079763e-05\n",
      "Cost Old: 2.1108926e-05\n",
      "TSC Score New: 0.948745\n",
      "TSC Score Old: 0.94908917\n",
      "armijo: True\n",
      "proposed_initial_alpha: 0.2029557495973469\n",
      "updating X: initial cost: 2.1108926e-05; New Cost: 2.1079763e-05\n",
      "(4.4710595e-13, 31, 0.005454215, 0.00076503213, 0.482135, -0.6849979, 1.6453218, 2.1108926e-05, 2.1079763e-05)\n",
      "alpha_val: 0.49340838\n",
      "theta_val: -0.68629986\n",
      "inprod_grad_eta_val: -3.015284e-07\n",
      "rim_grad_norm: 0.0032095986\n",
      "eta_norm_val: 0.00054906006\n",
      "Cost New: 2.1047923e-05\n",
      "Cost Old: 2.1079763e-05\n",
      "TSC Score New: 0.94865793\n",
      "TSC Score Old: 0.9489615\n",
      "armijo: True\n",
      "proposed_initial_alpha: 0.2111880126913843\n",
      "updating X: initial cost: 2.1079763e-05; New Cost: 2.1047923e-05\n",
      "(4.4620308e-13, 32, 0.005450565, 0.0009367305, 0.49340838, -0.68629986, 1.7692504, 2.1079763e-05, 2.1047923e-05)\n",
      "alpha_val: 0.47342575\n",
      "theta_val: -0.7201423\n",
      "inprod_grad_eta_val: -2.9967677e-07\n",
      "rim_grad_norm: 0.0032093104\n",
      "eta_norm_val: 0.00054737466\n",
      "Cost New: 2.1018714e-05\n",
      "Cost Old: 2.1047923e-05\n",
      "TSC Score New: 0.9485259\n",
      "TSC Score Old: 0.94886273\n",
      "armijo: True\n",
      "proposed_initial_alpha: 0.19493891229833557\n",
      "updating X: initial cost: 2.1047923e-05; New Cost: 2.1018714e-05\n",
      "(4.4539234e-13, 33, 0.0054472852, 0.00065876433, 0.47342575, -0.7201423, 1.7095808, 2.1047923e-05, 2.1018714e-05)\n",
      "alpha_val: 0.45280263\n",
      "theta_val: -0.7691614\n",
      "inprod_grad_eta_val: -2.83895e-07\n",
      "rim_grad_norm: 0.0032068507\n",
      "eta_norm_val: 0.0005327657\n",
      "Cost New: 2.0993068e-05\n",
      "Cost Old: 2.1018714e-05\n",
      "TSC Score New: 0.94843537\n",
      "TSC Score Old: 0.948745\n",
      "armijo: True\n",
      "proposed_initial_alpha: 0.18067195552719897\n",
      "updating X: initial cost: 2.1018714e-05; New Cost: 2.0993068e-05\n",
      "(4.4447784e-13, 34, 0.0054435832, 0.00066971383, 0.45280263, -0.7691614, 1.6759946, 2.1018714e-05, 2.0993068e-05)\n",
      "alpha_val: 0.44622007\n",
      "theta_val: -0.77170944\n",
      "inprod_grad_eta_val: -2.6766904e-07\n",
      "rim_grad_norm: 0.0032043196\n",
      "eta_norm_val: 0.0005173166\n",
      "Cost New: 2.096974e-05\n",
      "Cost Old: 2.0993068e-05\n",
      "TSC Score New: 0.94833916\n",
      "TSC Score Old: 0.94865793\n",
      "armijo: True\n",
      "proposed_initial_alpha: 0.1743088356295075\n",
      "updating X: initial cost: 2.0993068e-05; New Cost: 2.096974e-05\n",
      "(4.439522e-13, 35, 0.0054414547, 0.000602071, 0.44622007, -0.77170944, 1.6704403, 2.0993068e-05, 2.096974e-05)\n",
      "alpha_val: 0.433415\n",
      "theta_val: -0.7630729\n",
      "inprod_grad_eta_val: -2.572364e-07\n",
      "rim_grad_norm: 0.0032026914\n",
      "eta_norm_val: 0.0005071391\n",
      "Cost New: 2.0948444e-05\n",
      "Cost Old: 2.096974e-05\n",
      "TSC Score New: 0.94826555\n",
      "TSC Score Old: 0.9485259\n",
      "armijo: True\n",
      "proposed_initial_alpha: 0.16556684393838664\n",
      "updating X: initial cost: 2.096974e-05; New Cost: 2.0948444e-05\n"
     ]
    },
    {
     "name": "stdout",
     "output_type": "stream",
     "text": [
      "(4.4309782e-13, 36, 0.0054379925, 0.0006800681, 0.433415, -0.7630729, 1.6943619, 2.096974e-05, 2.0948444e-05)\n",
      "alpha_val: 0.4241533\n",
      "theta_val: -0.7658276\n",
      "inprod_grad_eta_val: -2.5372796e-07\n",
      "rim_grad_norm: 0.0032021436\n",
      "eta_norm_val: 0.0005036694\n",
      "Cost New: 2.0928532e-05\n",
      "Cost Old: 2.0948444e-05\n",
      "TSC Score New: 0.9481897\n",
      "TSC Score Old: 0.94843537\n",
      "armijo: True\n",
      "proposed_initial_alpha: 0.15695926375609803\n",
      "updating X: initial cost: 2.0948444e-05; New Cost: 2.0928532e-05\n",
      "(4.4232773e-13, 37, 0.0054348703, 0.00039117073, 0.4241533, -0.7658276, 1.7417425, 2.0948444e-05, 2.0928532e-05)\n",
      "alpha_val: 0.39910465\n",
      "theta_val: -0.77955365\n",
      "inprod_grad_eta_val: -2.442831e-07\n",
      "rim_grad_norm: 0.0032006686\n",
      "eta_norm_val: 0.00049420516\n",
      "Cost New: 2.0911624e-05\n",
      "Cost Old: 2.0928532e-05\n",
      "TSC Score New: 0.94812775\n",
      "TSC Score Old: 0.94833916\n",
      "armijo: True\n",
      "proposed_initial_alpha: 0.1384255190869705\n",
      "updating X: initial cost: 2.0928532e-05; New Cost: 2.0911624e-05\n",
      "(4.4179366e-13, 38, 0.0054327035, 0.00063666725, 0.39910465, -0.77955365, 1.7133089, 2.0928532e-05, 2.0911624e-05)\n",
      "alpha_val: 0.3830172\n",
      "theta_val: -0.8028497\n",
      "inprod_grad_eta_val: -2.2252152e-07\n",
      "rim_grad_norm: 0.0031972672\n",
      "eta_norm_val: 0.00047167932\n",
      "Cost New: 2.089753e-05\n",
      "Cost Old: 2.0911624e-05\n",
      "TSC Score New: 0.94806653\n",
      "TSC Score Old: 0.94826555\n",
      "armijo: True\n",
      "proposed_initial_alpha: 0.12667116261009953\n",
      "updating X: initial cost: 2.0911624e-05; New Cost: 2.089753e-05\n",
      "(4.4136277e-13, 39, 0.005430955, 0.0005744864, 0.3830172, -0.8028497, 1.6422439, 2.0911624e-05, 2.089753e-05)\n",
      "alpha_val: 0.36293474\n",
      "theta_val: -0.7958787\n",
      "inprod_grad_eta_val: -2.0873216e-07\n",
      "rim_grad_norm: 0.0031951102\n",
      "eta_norm_val: 0.00045682926\n",
      "Cost New: 2.08853e-05\n",
      "Cost Old: 2.089753e-05\n",
      "TSC Score New: 0.948021\n",
      "TSC Score Old: 0.9481897\n",
      "armijo: True\n",
      "proposed_initial_alpha: 0.11719214445317404\n",
      "updating X: initial cost: 2.089753e-05; New Cost: 2.08853e-05\n",
      "(4.4080866e-13, 40, 0.0054287054, 0.0003988294, 0.36293474, -0.7958787, 1.6845951, 2.089753e-05, 2.08853e-05)\n",
      "alpha_val: 0.34503418\n",
      "theta_val: -0.8038946\n",
      "inprod_grad_eta_val: -1.9371396e-07\n",
      "rim_grad_norm: 0.0031927591\n",
      "eta_norm_val: 0.00044008452\n",
      "Cost New: 2.087533e-05\n",
      "Cost Old: 2.08853e-05\n",
      "TSC Score New: 0.94798595\n",
      "TSC Score Old: 0.94812775\n",
      "armijo: True\n",
      "proposed_initial_alpha: 0.10293404760535375\n",
      "updating X: initial cost: 2.08853e-05; New Cost: 2.087533e-05\n",
      "(4.405589e-13, 41, 0.005427691, 0.00032196144, 0.34503418, -0.8038946, 1.6741011, 2.08853e-05, 2.087533e-05)\n",
      "alpha_val: 0.37141365\n",
      "theta_val: -0.72359085\n",
      "inprod_grad_eta_val: -1.9513311e-07\n",
      "rim_grad_norm: 0.0031929815\n",
      "eta_norm_val: 0.0004416944\n",
      "Cost New: 2.086353e-05\n",
      "Cost Old: 2.087533e-05\n",
      "TSC Score New: 0.9479376\n",
      "TSC Score Old: 0.94806653\n",
      "armijo: True\n",
      "proposed_initial_alpha: 0.12094087131913198\n",
      "updating X: initial cost: 2.087533e-05; New Cost: 2.086353e-05\n",
      "(4.4002527e-13, 42, 0.0054255235, 0.00041439157, 0.37141365, -0.72359085, 1.7362174, 2.087533e-05, 2.086353e-05)\n",
      "alpha_val: 0.34058836\n",
      "theta_val: -0.7537108\n",
      "inprod_grad_eta_val: -2.0673933e-07\n",
      "rim_grad_norm: 0.0031947982\n",
      "eta_norm_val: 0.0004546424\n",
      "Cost New: 2.0853218e-05\n",
      "Cost Old: 2.086353e-05\n",
      "TSC Score New: 0.94789433\n",
      "TSC Score Old: 0.948021\n",
      "armijo: True\n",
      "proposed_initial_alpha: 0.09975703167730353\n",
      "updating X: initial cost: 2.086353e-05; New Cost: 2.0853218e-05\n",
      "(4.3980382e-13, 43, 0.005424624, 0.00018685851, 0.34058836, -0.7537108, 1.8580238, 2.086353e-05, 2.0853218e-05)\n",
      "alpha_val: 0.29510123\n",
      "theta_val: -0.85677916\n",
      "inprod_grad_eta_val: -1.7958193e-07\n",
      "rim_grad_norm: 0.0031905454\n",
      "eta_norm_val: 0.0004237301\n",
      "Cost New: 2.0846457e-05\n",
      "Cost Old: 2.0853218e-05\n",
      "TSC Score New: 0.9478583\n",
      "TSC Score Old: 0.94798595\n",
      "armijo: True\n",
      "proposed_initial_alpha: 0.07529915236700613\n",
      "updating X: initial cost: 2.0853218e-05; New Cost: 2.0846457e-05\n",
      "(4.393063e-13, 44, 0.005422602, 0.0003995289, 0.29510123, -0.85677916, 1.6128709, 2.0853218e-05, 2.0846457e-05)\n",
      "alpha_val: 0.2862919\n",
      "theta_val: -0.8426088\n",
      "inprod_grad_eta_val: -1.5533017e-07\n",
      "rim_grad_norm: 0.0031867425\n",
      "eta_norm_val: 0.00039408248\n",
      "Cost New: 2.0841017e-05\n",
      "Cost Old: 2.0846457e-05\n",
      "TSC Score New: 0.94782\n",
      "TSC Score Old: 0.9479376\n",
      "armijo: True\n",
      "proposed_initial_alpha: 0.07005203565948111\n",
      "updating X: initial cost: 2.0846457e-05; New Cost: 2.0841017e-05\n",
      "(4.3934076e-13, 45, 0.005422742, 0.000165847, 0.2862919, -0.8426088, 1.5937717, 2.0846457e-05, 2.0841017e-05)\n",
      "alpha_val: 0.2538005\n",
      "theta_val: -0.8111201\n",
      "inprod_grad_eta_val: -1.5517557e-07\n",
      "rim_grad_norm: 0.0031867183\n",
      "eta_norm_val: 0.00039388548\n",
      "Cost New: 2.0836733e-05\n",
      "Cost Old: 2.0841017e-05\n",
      "TSC Score New: 0.9477974\n",
      "TSC Score Old: 0.94789433\n",
      "armijo: True\n",
      "proposed_initial_alpha: 0.05521126863751212\n",
      "updating X: initial cost: 2.0841017e-05; New Cost: 2.0836733e-05\n",
      "(4.3890027e-13, 46, 0.005420951, 0.00037286553, 0.2538005, -0.8111201, 1.8093145, 2.0841017e-05, 2.0836733e-05)\n",
      "alpha_val: 0.25568616\n",
      "theta_val: -0.84527147\n",
      "inprod_grad_eta_val: -1.378856e-07\n",
      "rim_grad_norm: 0.0031840045\n",
      "eta_norm_val: 0.00037129573\n",
      "Cost New: 2.083283e-05\n",
      "Cost Old: 2.0836733e-05\n",
      "TSC Score New: 0.94777906\n",
      "TSC Score Old: 0.9478583\n",
      "armijo: True\n",
      "proposed_initial_alpha: 0.056620141098938384\n",
      "updating X: initial cost: 2.0836733e-05; New Cost: 2.083283e-05\n",
      "(4.3894069e-13, 47, 0.0054211156, 2.5847448e-05, 0.25568616, -0.84527147, 1.6396675, 2.0836733e-05, 2.083283e-05)\n",
      "alpha_val: 0.22309524\n",
      "theta_val: -0.80552983\n",
      "inprod_grad_eta_val: -1.4132675e-07\n",
      "rim_grad_norm: 0.0031845449\n",
      "eta_norm_val: 0.00037589922\n",
      "Cost New: 2.0829917e-05\n",
      "Cost Old: 2.083283e-05\n",
      "TSC Score New: 0.9477647\n",
      "TSC Score Old: 0.94782\n",
      "armijo: True\n",
      "proposed_initial_alpha: 0.041212325487436585\n",
      "updating X: initial cost: 2.083283e-05; New Cost: 2.0829917e-05\n",
      "(4.3843515e-13, 48, 0.0054190597, 0.0003303725, 0.22309524, -0.80552983, 1.8505993, 2.083283e-05, 2.0829917e-05)\n",
      "alpha_val: 0.23314157\n",
      "theta_val: -0.84858555\n",
      "inprod_grad_eta_val: -1.2127202e-07\n",
      "rim_grad_norm: 0.0031813944\n",
      "eta_norm_val: 0.00034820914\n",
      "Cost New: 2.082729e-05\n",
      "Cost Old: 2.0829917e-05\n",
      "TSC Score New: 0.9477503\n",
      "TSC Score Old: 0.9477974\n",
      "armijo: True\n",
      "proposed_initial_alpha: 0.04331783410829459\n",
      "updating X: initial cost: 2.0829917e-05; New Cost: 2.082729e-05\n",
      "(4.3870013e-13, 49, 0.0054201377, 3.0321884e-05, 0.23314157, -0.84858555, 1.5862606, 2.0829917e-05, 2.082729e-05)\n",
      "alpha_val: 0.21863084\n",
      "theta_val: -0.7773375\n",
      "inprod_grad_eta_val: -1.347285e-07\n",
      "rim_grad_norm: 0.0031835085\n",
      "eta_norm_val: 0.00036702075\n",
      "Cost New: 2.0824562e-05\n",
      "Cost Old: 2.082729e-05\n",
      "TSC Score New: 0.94773906\n",
      "TSC Score Old: 0.94777906\n",
      "armijo: True\n",
      "proposed_initial_alpha: 0.04050344516608786\n",
      "updating X: initial cost: 2.082729e-05; New Cost: 2.0824562e-05\n",
      "(4.3832215e-13, 50, 0.0054186, 0.00037938217, 0.21863084, -0.7773375, 1.9745529, 2.082729e-05, 2.0824562e-05)\n",
      "alpha_val: 0.22128259\n",
      "theta_val: -0.85561734\n",
      "inprod_grad_eta_val: -1.2021118e-07\n",
      "rim_grad_norm: 0.0031812277\n",
      "eta_norm_val: 0.00034668096\n",
      "Cost New: 2.0822183e-05\n",
      "Cost Old: 2.0824562e-05\n",
      "TSC Score New: 0.9477292\n",
      "TSC Score Old: 0.9477647\n",
      "armijo: True\n",
      "proposed_initial_alpha: 0.03958430615041062\n",
      "updating X: initial cost: 2.0824562e-05; New Cost: 2.0822183e-05\n",
      "(4.3859756e-13, 51, 0.00541972, 0.00019888903, 0.22128259, -0.85561734, 1.6556654, 2.0824562e-05, 2.0822183e-05)\n",
      "alpha_val: 0.24330495\n",
      "theta_val: -0.78013223\n",
      "inprod_grad_eta_val: -1.2890882e-07\n",
      "rim_grad_norm: 0.0031825944\n",
      "eta_norm_val: 0.00035900396\n",
      "Cost New: 2.0818812e-05\n",
      "Cost Old: 2.0822183e-05\n",
      "TSC Score New: 0.94771814\n",
      "TSC Score Old: 0.9477503\n",
      "armijo: True\n",
      "proposed_initial_alpha: 0.05229412978638215\n",
      "updating X: initial cost: 2.0822183e-05; New Cost: 2.0818812e-05\n",
      "(4.381315e-13, 52, 0.0054178243, 0.00028376584, 0.24330495, -0.78013223, 1.9089333, 2.0822183e-05, 2.0818812e-05)\n",
      "alpha_val: 0.26173875\n",
      "theta_val: -0.80275804\n",
      "inprod_grad_eta_val: -1.368275e-07\n",
      "rim_grad_norm: 0.0031838382\n",
      "eta_norm_val: 0.0003698663\n",
      "Cost New: 2.08149e-05\n",
      "Cost Old: 2.0818812e-05\n",
      "TSC Score New: 0.94770336\n",
      "TSC Score Old: 0.94773906\n",
      "armijo: True\n",
      "proposed_initial_alpha: 0.057190935255041375\n",
      "updating X: initial cost: 2.0818812e-05; New Cost: 2.08149e-05\n",
      "(4.3832855e-13, 53, 0.005418626, 0.00020663714, 0.26173875, -0.80275804, 1.9134983, 2.0818812e-05, 2.08149e-05)\n",
      "alpha_val: 0.24501552\n",
      "theta_val: -0.83183855\n",
      "inprod_grad_eta_val: -1.4396399e-07\n",
      "rim_grad_norm: 0.0031849586\n",
      "eta_norm_val: 0.00037939078\n",
      "Cost New: 2.0811123e-05\n",
      "Cost Old: 2.08149e-05\n"
     ]
    },
    {
     "name": "stdout",
     "output_type": "stream",
     "text": [
      "TSC Score New: 0.9476864\n",
      "TSC Score Old: 0.9477292\n",
      "armijo: True\n",
      "proposed_initial_alpha: 0.05246064755519559\n",
      "updating X: initial cost: 2.08149e-05; New Cost: 2.0811123e-05\n",
      "(4.37914e-13, 54, 0.0054169395, 0.0003499019, 0.24501552, -0.83183855, 1.927382, 2.08149e-05, 2.0811123e-05)\n",
      "alpha_val: 0.19453871\n",
      "theta_val: -0.9133973\n",
      "inprod_grad_eta_val: -1.2798117e-07\n",
      "rim_grad_norm: 0.0031824487\n",
      "eta_norm_val: 0.0003577114\n",
      "Cost New: 2.0809113e-05\n",
      "Cost Old: 2.0811123e-05\n",
      "TSC Score New: 0.94767624\n",
      "TSC Score Old: 0.94771814\n",
      "armijo: True\n",
      "proposed_initial_alpha: 0.03141061045268899\n",
      "updating X: initial cost: 2.0811123e-05; New Cost: 2.0809113e-05\n",
      "(4.3796187e-13, 55, 0.005417134, 0.00014798377, 0.19453871, -0.9133973, 1.7009732, 2.0811123e-05, 2.0809113e-05)\n",
      "alpha_val: 0.13997728\n",
      "theta_val: -0.8793408\n",
      "inprod_grad_eta_val: -1.0737071e-07\n",
      "rim_grad_norm: 0.0031792088\n",
      "eta_norm_val: 0.00032764417\n",
      "Cost New: 2.0808277e-05\n",
      "Cost Old: 2.0809113e-05\n",
      "TSC Score New: 0.9476699\n",
      "TSC Score Old: 0.94770336\n",
      "armijo: True\n",
      "proposed_initial_alpha: 0.01558591031589792\n",
      "updating X: initial cost: 2.0809113e-05; New Cost: 2.0808277e-05\n",
      "(4.37563e-13, 56, 0.005415511, 0.00031136128, 0.13997728, -0.8793408, 1.5766946, 2.0809113e-05, 2.0808277e-05)\n",
      "alpha_val: 0.1332283\n",
      "theta_val: -0.8724533\n",
      "inprod_grad_eta_val: -8.102427e-08\n",
      "rim_grad_norm: 0.0031750626\n",
      "eta_norm_val: 0.0002846181\n",
      "Cost New: 2.0807794e-05\n",
      "Cost Old: 2.0808277e-05\n",
      "TSC Score New: 0.9476699\n",
      "TSC Score Old: 0.9476864\n",
      "armijo: True\n",
      "proposed_initial_alpha: 0.011898464564885218\n",
      "updating X: initial cost: 2.0808277e-05; New Cost: 2.0807794e-05\n",
      "(4.3805562e-13, 57, 0.0054175155, 3.5931622e-05, 0.1332283, -0.8724533, 1.4129816, 2.0808277e-05, 2.0807794e-05)\n",
      "alpha_val: 0.09633877\n",
      "theta_val: -0.7623055\n",
      "inprod_grad_eta_val: -8.8934115e-08\n",
      "rim_grad_norm: 0.003176308\n",
      "eta_norm_val: 0.0002981876\n",
      "Cost New: 2.0807534e-05\n",
      "Cost Old: 2.0807794e-05\n",
      "TSC Score New: 0.9476701\n",
      "TSC Score Old: 0.94767624\n",
      "armijo: True\n",
      "proposed_initial_alpha: 0.0058496221426606\n",
      "updating X: initial cost: 2.0807794e-05; New Cost: 2.0807534e-05\n",
      "(4.3808192e-13, 58, 0.0054176226, 0.00029974923, 0.09633877, -0.7623055, 1.9343513, 2.0807794e-05, 2.0807534e-05)\n",
      "alpha_val: 0.05532362\n",
      "theta_val: -0.8986017\n",
      "inprod_grad_eta_val: -6.798168e-08\n",
      "rim_grad_norm: 0.003173008\n",
      "eta_norm_val: 0.00026070685\n",
      "Cost New: 2.0807583e-05\n",
      "Cost Old: 2.0807534e-05\n",
      "TSC Score New: 0.94767135\n",
      "TSC Score Old: 0.9476699\n",
      "armijo: False\n",
      "proposed_initial_alpha: -0.001444880837570999\n",
      "Backtracking\n",
      "Learning Rate: 0.02766180969774723\n",
      "Max_TT rank63\n",
      "[1, 53, 63, 63, 1]\n",
      "proposed_initial_alpha: -0.001444880837570999\n",
      "proposed_step_size: 21253.973453918978\n",
      "TSC Score New: 0.94767076\n",
      "TSC Score Old: 0.9476699\n",
      "Cost New: 2.080614743102567e-05\n",
      "Cost Old: 2.0807534e-05\n",
      "backtrackiter_count: 1\n",
      "updating X: initial cost: 2.0807534e-05; New Cost: 2.080614743102567e-05\n",
      "(4.37914e-13, 59, 0.0054169395, 0.00037003527, 0.05532362, -0.8986017, 1.4513066, 2.0807534e-05, 2.0807583e-05)\n",
      "alpha_val: 0.15209556\n",
      "theta_val: 0.71915716\n",
      "inprod_grad_eta_val: -4.774289e-08\n",
      "rim_grad_norm: 0.0031698174\n",
      "eta_norm_val: 0.00021847933\n",
      "Cost New: 2.0807225e-05\n",
      "Cost Old: 2.0806148e-05\n",
      "TSC Score New: 0.94766766\n",
      "TSC Score Old: 0.9476699\n",
      "armijo: True\n",
      "proposed_initial_alpha: -0.045110034811360764\n",
      "Backtracking\n",
      "Learning Rate: 0.07604777812957764\n",
      "Max_TT rank63\n",
      "[1, 53, 63, 63, 1]\n",
      "proposed_initial_alpha: -0.045110034811360764\n",
      "proposed_step_size: 944853.4496066953\n",
      "TSC Score New: 0.9476704\n",
      "TSC Score Old: 0.9476699\n",
      "Cost New: 2.0805865068311297e-05\n",
      "Cost Old: 2.0806148e-05\n",
      "backtrackiter_count: 1\n",
      "updating X: initial cost: 2.0806148e-05; New Cost: 2.0805865068311297e-05\n",
      "(4.383638e-13, 60, 0.005418769, 1.9769206e-05, 0.15209556, 0.71915716, 0.19723268, 2.0806148e-05, 2.0807225e-05)\n",
      "alpha_val: 0.064750336\n",
      "theta_val: -0.5231902\n",
      "inprod_grad_eta_val: -4.980849e-08\n",
      "rim_grad_norm: 0.003170143\n",
      "eta_norm_val: 0.00022315644\n",
      "Cost New: 2.0807294e-05\n",
      "Cost Old: 2.0805865e-05\n",
      "TSC Score New: 0.94767046\n",
      "TSC Score Old: 0.9476701\n",
      "armijo: False\n",
      "proposed_initial_alpha: -0.05740891268119674\n",
      "Backtracking\n",
      "Learning Rate: 0.032375168055295944\n",
      "Max_TT rank63\n",
      "[1, 53, 63, 63, 1]\n",
      "proposed_initial_alpha: -0.05740891268119674\n",
      "proposed_step_size: 1152592.87905942\n",
      "TSC Score New: 0.9476715\n",
      "TSC Score Old: 0.9476701\n",
      "Cost New: 2.0805850049071648e-05\n",
      "Cost Old: 2.0805865e-05\n",
      "backtrackiter_count: 1\n",
      "updating X: initial cost: 2.0805865e-05; New Cost: 2.0805850049071648e-05\n",
      "(4.38092e-13, 61, 0.0054176636, 0.00012610905, 0.064750336, -0.5231902, 1.5890945, 2.0805865e-05, 2.0807294e-05)\n",
      "alpha_val: 0.028130317\n",
      "theta_val: 0.12943368\n",
      "inprod_grad_eta_val: -3.7667988e-08\n",
      "rim_grad_norm: 0.0031682278\n",
      "eta_norm_val: 0.00019406153\n",
      "Cost New: 2.080733e-05\n",
      "Cost Old: 2.080585e-05\n",
      "TSC Score New: 0.9476719\n",
      "TSC Score Old: 0.94767076\n",
      "armijo: False\n",
      "proposed_initial_alpha: -0.07861621814129294\n",
      "Backtracking\n",
      "Learning Rate: 0.014065158553421497\n",
      "Max_TT rank63\n",
      "[1, 53, 63, 63, 1]\n",
      "proposed_initial_alpha: -0.07861621814129294\n",
      "proposed_step_size: 2087083.0285715198\n",
      "TSC Score New: 0.94767183\n",
      "TSC Score Old: 0.94767076\n",
      "Cost New: 2.0805892102956328e-05\n",
      "Cost Old: 2.080585e-05\n",
      "backtrackiter_count: 1\n",
      "Backtracking\n",
      "Learning Rate: 0.007032579276710749\n",
      "Max_TT rank63\n",
      "[1, 53, 63, 63, 1]\n",
      "proposed_initial_alpha: 1043541.5142857599\n",
      "proposed_step_size: -27703670254925.016\n",
      "TSC Score New: 0.9476726\n",
      "TSC Score Old: 0.94767076\n",
      "Cost New: 2.0805889099106013e-05\n",
      "Cost Old: 2.080585e-05\n",
      "backtrackiter_count: 2\n",
      "Backtracking\n",
      "Learning Rate: 0.0035162896383553743\n",
      "Max_TT rank63\n",
      "[1, 53, 63, 63, 1]\n",
      "proposed_initial_alpha: -13851835127462.508\n",
      "proposed_step_size: 3.677349367930605e+20\n",
      "TSC Score New: 0.9476728\n",
      "TSC Score Old: 0.94767076\n",
      "Cost New: 2.0805907122211156e-05\n",
      "Cost Old: 2.080585e-05\n",
      "backtrackiter_count: 3\n",
      "Backtracking\n",
      "Learning Rate: 0.0017581448191776872\n",
      "Max_TT rank63\n",
      "[1, 53, 63, 63, 1]\n",
      "proposed_initial_alpha: 1.8386746839653024e+20\n",
      "proposed_step_size: -4.881266001718883e+27\n",
      "TSC Score New: 0.94767326\n",
      "TSC Score Old: 0.94767076\n",
      "Cost New: 2.0805916133766656e-05\n",
      "Cost Old: 2.080585e-05\n",
      "backtrackiter_count: 4\n",
      "Backtracking\n",
      "Learning Rate: 0.0008790724095888436\n",
      "Max_TT rank63\n",
      "[1, 53, 63, 63, 1]\n",
      "proposed_initial_alpha: -2.4406330008594416e+27\n",
      "proposed_step_size: 6.479329374392553e+34\n",
      "TSC Score New: 0.9476728\n",
      "TSC Score Old: 0.94767076\n",
      "Cost New: 2.0805916133766656e-05\n",
      "Cost Old: 2.080585e-05\n",
      "backtrackiter_count: 5\n",
      "Backtracking\n",
      "Learning Rate: 0.0004395362047944218\n",
      "Max_TT rank63\n",
      "[1, 53, 63, 63, 1]\n",
      "proposed_initial_alpha: 3.2396646871962764e+34\n",
      "proposed_step_size: -8.600578031822645e+41\n",
      "TSC Score New: 0.9476736\n",
      "TSC Score Old: 0.94767076\n",
      "Cost New: 2.0805904118359757e-05\n",
      "Cost Old: 2.080585e-05\n",
      "backtrackiter_count: 6\n",
      "Backtracking\n",
      "Learning Rate: 0.0002197681023972109\n",
      "Max_TT rank63\n",
      "[1, 53, 63, 63, 1]\n",
      "proposed_initial_alpha: -4.3002890159113225e+41\n",
      "proposed_step_size: 1.1416296071289798e+49\n",
      "TSC Score New: 0.94767326\n",
      "TSC Score Old: 0.94767076\n",
      "Cost New: 2.0805892102956328e-05\n",
      "Cost Old: 2.080585e-05\n",
      "backtrackiter_count: 7\n",
      "Backtracking\n",
      "Learning Rate: 0.00010988405119860545\n",
      "Max_TT rank63\n",
      "[1, 53, 63, 63, 1]\n",
      "proposed_initial_alpha: 5.708148035644899e+48\n",
      "proposed_step_size: -1.5153843788767625e+56\n",
      "TSC Score New: 0.947673\n",
      "TSC Score Old: 0.94767076\n",
      "Cost New: 2.0805904118359757e-05\n",
      "Cost Old: 2.080585e-05\n",
      "backtrackiter_count: 8\n",
      "Backtracking\n",
      "Learning Rate: 5.4942025599302724e-05\n",
      "Max_TT rank63\n",
      "[1, 53, 63, 63, 1]\n",
      "proposed_initial_alpha: -7.576921894383812e+55\n",
      "proposed_step_size: 2.011501630129209e+63\n",
      "TSC Score New: 0.9476741\n",
      "TSC Score Old: 0.94767076\n",
      "Cost New: 2.0805913129914606e-05\n",
      "Cost Old: 2.080585e-05\n",
      "backtrackiter_count: 9\n",
      "Backtracking\n",
      "Learning Rate: 2.7471012799651362e-05\n",
      "Max_TT rank63\n",
      "[1, 53, 63, 63, 1]\n",
      "proposed_initial_alpha: 1.0057508150646045e+63\n",
      "proposed_step_size: -2.670041254491191e+70\n",
      "TSC Score New: 0.9476733\n",
      "TSC Score Old: 0.94767076\n",
      "Cost New: 2.0805916133766656e-05\n",
      "Cost Old: 2.080585e-05\n",
      "backtrackiter_count: 10\n",
      "BackTracking Breaking after 10; iterations\n",
      "Reject Step: not updating X: initial cost: 2.080585e-05; New Cost: 2.0805916133766656e-05\n",
      "(4.381544e-13, 62, 0.0054179174, 0.00033763816, 0.028130317, 0.12943368, 0.6583694, 2.080585e-05, 2.080733e-05)\n",
      "alpha_val: 0.028130317\n",
      "theta_val: 0.99638796\n",
      "inprod_grad_eta_val: -3.7667988e-08\n",
      "rim_grad_norm: 0.0031682278\n",
      "eta_norm_val: 0.00019406153\n",
      "Cost New: 2.080733e-05\n",
      "Cost Old: 2.080585e-05\n"
     ]
    },
    {
     "name": "stdout",
     "output_type": "stream",
     "text": [
      "TSC Score New: 0.9476719\n",
      "TSC Score Old: 0.9476704\n",
      "armijo: False\n",
      "proposed_initial_alpha: -0.07861621814129294\n",
      "Backtracking\n",
      "Learning Rate: 0.014065158553421497\n",
      "Max_TT rank63\n",
      "[1, 53, 63, 63, 1]\n",
      "proposed_initial_alpha: -0.07861621814129294\n",
      "proposed_step_size: 2087083.0285715198\n",
      "TSC Score New: 0.94767183\n",
      "TSC Score Old: 0.9476704\n",
      "Cost New: 2.0805892102956328e-05\n",
      "Cost Old: 2.080585e-05\n",
      "backtrackiter_count: 1\n",
      "Backtracking\n",
      "Learning Rate: 0.007032579276710749\n",
      "Max_TT rank63\n",
      "[1, 53, 63, 63, 1]\n",
      "proposed_initial_alpha: 1043541.5142857599\n",
      "proposed_step_size: -27703670254925.016\n",
      "TSC Score New: 0.9476726\n",
      "TSC Score Old: 0.9476704\n",
      "Cost New: 2.0805889099106013e-05\n",
      "Cost Old: 2.080585e-05\n",
      "backtrackiter_count: 2\n",
      "Backtracking\n",
      "Learning Rate: 0.0035162896383553743\n",
      "Max_TT rank63\n",
      "[1, 53, 63, 63, 1]\n",
      "proposed_initial_alpha: -13851835127462.508\n",
      "proposed_step_size: 3.677349367930605e+20\n",
      "TSC Score New: 0.9476728\n",
      "TSC Score Old: 0.9476704\n",
      "Cost New: 2.0805907122211156e-05\n",
      "Cost Old: 2.080585e-05\n",
      "backtrackiter_count: 3\n",
      "Backtracking\n",
      "Learning Rate: 0.0017581448191776872\n",
      "Max_TT rank63\n",
      "[1, 53, 63, 63, 1]\n",
      "proposed_initial_alpha: 1.8386746839653024e+20\n",
      "proposed_step_size: -4.881266001718883e+27\n",
      "TSC Score New: 0.94767326\n",
      "TSC Score Old: 0.9476704\n",
      "Cost New: 2.0805916133766656e-05\n",
      "Cost Old: 2.080585e-05\n",
      "backtrackiter_count: 4\n",
      "Backtracking\n",
      "Learning Rate: 0.0008790724095888436\n",
      "Max_TT rank63\n",
      "[1, 53, 63, 63, 1]\n",
      "proposed_initial_alpha: -2.4406330008594416e+27\n",
      "proposed_step_size: 6.479329374392553e+34\n",
      "TSC Score New: 0.9476728\n",
      "TSC Score Old: 0.9476704\n",
      "Cost New: 2.0805916133766656e-05\n",
      "Cost Old: 2.080585e-05\n",
      "backtrackiter_count: 5\n",
      "Backtracking\n",
      "Learning Rate: 0.0004395362047944218\n",
      "Max_TT rank63\n",
      "[1, 53, 63, 63, 1]\n",
      "proposed_initial_alpha: 3.2396646871962764e+34\n",
      "proposed_step_size: -8.600578031822645e+41\n",
      "TSC Score New: 0.9476736\n",
      "TSC Score Old: 0.9476704\n",
      "Cost New: 2.0805904118359757e-05\n",
      "Cost Old: 2.080585e-05\n",
      "backtrackiter_count: 6\n",
      "Backtracking\n",
      "Learning Rate: 0.0002197681023972109\n",
      "Max_TT rank63\n",
      "[1, 53, 63, 63, 1]\n",
      "proposed_initial_alpha: -4.3002890159113225e+41\n",
      "proposed_step_size: 1.1416296071289798e+49\n",
      "TSC Score New: 0.94767326\n",
      "TSC Score Old: 0.9476704\n",
      "Cost New: 2.0805892102956328e-05\n",
      "Cost Old: 2.080585e-05\n",
      "backtrackiter_count: 7\n",
      "Backtracking\n",
      "Learning Rate: 0.00010988405119860545\n",
      "Max_TT rank63\n",
      "[1, 53, 63, 63, 1]\n",
      "proposed_initial_alpha: 5.708148035644899e+48\n",
      "proposed_step_size: -1.5153843788767625e+56\n",
      "TSC Score New: 0.947673\n",
      "TSC Score Old: 0.9476704\n",
      "Cost New: 2.0805904118359757e-05\n",
      "Cost Old: 2.080585e-05\n",
      "backtrackiter_count: 8\n",
      "Backtracking\n",
      "Learning Rate: 5.4942025599302724e-05\n",
      "Max_TT rank63\n",
      "[1, 53, 63, 63, 1]\n",
      "proposed_initial_alpha: -7.576921894383812e+55\n",
      "proposed_step_size: 2.011501630129209e+63\n",
      "TSC Score New: 0.9476741\n",
      "TSC Score Old: 0.9476704\n",
      "Cost New: 2.0805913129914606e-05\n",
      "Cost Old: 2.080585e-05\n",
      "backtrackiter_count: 9\n",
      "Backtracking\n",
      "Learning Rate: 2.7471012799651362e-05\n",
      "Max_TT rank63\n",
      "[1, 53, 63, 63, 1]\n",
      "proposed_initial_alpha: 1.0057508150646045e+63\n",
      "proposed_step_size: -2.670041254491191e+70\n",
      "TSC Score New: 0.9476733\n",
      "TSC Score Old: 0.9476704\n",
      "Cost New: 2.0805916133766656e-05\n",
      "Cost Old: 2.080585e-05\n",
      "backtrackiter_count: 10\n",
      "BackTracking Breaking after 10; iterations\n",
      "Reject Step: not updating X: initial cost: 2.080585e-05; New Cost: 2.0805916133766656e-05\n",
      "(4.381544e-13, 63, 0.0054179174, 0.00020405104, 0.028130317, 0.99638796, 0.0036120703, 2.080585e-05, 2.080733e-05)\n",
      "alpha_val: 0.028130317\n",
      "theta_val: 0.99638796\n",
      "inprod_grad_eta_val: -3.7667988e-08\n",
      "rim_grad_norm: 0.0031682278\n",
      "eta_norm_val: 0.00019406153\n",
      "Cost New: 2.080733e-05\n",
      "Cost Old: 2.080585e-05\n",
      "TSC Score New: 0.9476719\n",
      "TSC Score Old: 0.9476715\n",
      "armijo: False\n",
      "proposed_initial_alpha: -0.07861621814129294\n",
      "Backtracking\n",
      "Learning Rate: 0.014065158553421497\n",
      "Max_TT rank63\n",
      "[1, 53, 63, 63, 1]\n",
      "proposed_initial_alpha: -0.07861621814129294\n",
      "proposed_step_size: 2087083.0285715198\n",
      "TSC Score New: 0.94767183\n",
      "TSC Score Old: 0.9476715\n",
      "Cost New: 2.0805892102956328e-05\n",
      "Cost Old: 2.080585e-05\n",
      "backtrackiter_count: 1\n",
      "Backtracking\n",
      "Learning Rate: 0.007032579276710749\n",
      "Max_TT rank63\n",
      "[1, 53, 63, 63, 1]\n",
      "proposed_initial_alpha: 1043541.5142857599\n",
      "proposed_step_size: -27703670254925.016\n",
      "TSC Score New: 0.9476726\n",
      "TSC Score Old: 0.9476715\n",
      "Cost New: 2.0805889099106013e-05\n",
      "Cost Old: 2.080585e-05\n",
      "backtrackiter_count: 2\n",
      "Backtracking\n",
      "Learning Rate: 0.0035162896383553743\n",
      "Max_TT rank63\n",
      "[1, 53, 63, 63, 1]\n",
      "proposed_initial_alpha: -13851835127462.508\n",
      "proposed_step_size: 3.677349367930605e+20\n",
      "TSC Score New: 0.9476728\n",
      "TSC Score Old: 0.9476715\n",
      "Cost New: 2.0805907122211156e-05\n",
      "Cost Old: 2.080585e-05\n",
      "backtrackiter_count: 3\n",
      "Backtracking\n",
      "Learning Rate: 0.0017581448191776872\n",
      "Max_TT rank63\n",
      "[1, 53, 63, 63, 1]\n",
      "proposed_initial_alpha: 1.8386746839653024e+20\n",
      "proposed_step_size: -4.881266001718883e+27\n",
      "TSC Score New: 0.94767326\n",
      "TSC Score Old: 0.9476715\n",
      "Cost New: 2.0805916133766656e-05\n",
      "Cost Old: 2.080585e-05\n",
      "backtrackiter_count: 4\n",
      "Backtracking\n",
      "Learning Rate: 0.0008790724095888436\n",
      "Max_TT rank63\n",
      "[1, 53, 63, 63, 1]\n",
      "proposed_initial_alpha: -2.4406330008594416e+27\n",
      "proposed_step_size: 6.479329374392553e+34\n",
      "TSC Score New: 0.9476728\n",
      "TSC Score Old: 0.9476715\n",
      "Cost New: 2.0805916133766656e-05\n",
      "Cost Old: 2.080585e-05\n",
      "backtrackiter_count: 5\n",
      "Backtracking\n",
      "Learning Rate: 0.0004395362047944218\n",
      "Max_TT rank63\n",
      "[1, 53, 63, 63, 1]\n",
      "proposed_initial_alpha: 3.2396646871962764e+34\n",
      "proposed_step_size: -8.600578031822645e+41\n",
      "TSC Score New: 0.9476736\n",
      "TSC Score Old: 0.9476715\n",
      "Cost New: 2.0805904118359757e-05\n",
      "Cost Old: 2.080585e-05\n",
      "backtrackiter_count: 6\n",
      "Backtracking\n",
      "Learning Rate: 0.0002197681023972109\n",
      "Max_TT rank63\n",
      "[1, 53, 63, 63, 1]\n",
      "proposed_initial_alpha: -4.3002890159113225e+41\n",
      "proposed_step_size: 1.1416296071289798e+49\n",
      "TSC Score New: 0.94767326\n",
      "TSC Score Old: 0.9476715\n",
      "Cost New: 2.0805892102956328e-05\n",
      "Cost Old: 2.080585e-05\n",
      "backtrackiter_count: 7\n",
      "Backtracking\n",
      "Learning Rate: 0.00010988405119860545\n",
      "Max_TT rank63\n",
      "[1, 53, 63, 63, 1]\n",
      "proposed_initial_alpha: 5.708148035644899e+48\n",
      "proposed_step_size: -1.5153843788767625e+56\n",
      "TSC Score New: 0.947673\n",
      "TSC Score Old: 0.9476715\n",
      "Cost New: 2.0805904118359757e-05\n",
      "Cost Old: 2.080585e-05\n",
      "backtrackiter_count: 8\n",
      "Backtracking\n",
      "Learning Rate: 5.4942025599302724e-05\n",
      "Max_TT rank63\n",
      "[1, 53, 63, 63, 1]\n",
      "proposed_initial_alpha: -7.576921894383812e+55\n",
      "proposed_step_size: 2.011501630129209e+63\n",
      "TSC Score New: 0.9476741\n",
      "TSC Score Old: 0.9476715\n",
      "Cost New: 2.0805913129914606e-05\n",
      "Cost Old: 2.080585e-05\n",
      "backtrackiter_count: 9\n",
      "Backtracking\n",
      "Learning Rate: 2.7471012799651362e-05\n",
      "Max_TT rank63\n",
      "[1, 53, 63, 63, 1]\n",
      "proposed_initial_alpha: 1.0057508150646045e+63\n",
      "proposed_step_size: -2.670041254491191e+70\n",
      "TSC Score New: 0.9476733\n",
      "TSC Score Old: 0.9476715\n",
      "Cost New: 2.0805916133766656e-05\n",
      "Cost Old: 2.080585e-05\n",
      "backtrackiter_count: 10\n",
      "BackTracking Breaking after 10; iterations\n",
      "Reject Step: not updating X: initial cost: 2.080585e-05; New Cost: 2.0805916133766656e-05\n",
      "(4.381544e-13, 64, 0.0054179174, 4.6841873e-05, 0.028130317, 0.99638796, 0.0036120703, 2.080585e-05, 2.080733e-05)\n",
      "alpha_val: 0.028130317\n",
      "theta_val: 0.99638796\n",
      "inprod_grad_eta_val: -3.7667988e-08\n",
      "rim_grad_norm: 0.0031682278\n",
      "eta_norm_val: 0.00019406153\n",
      "Cost New: 2.080733e-05\n",
      "Cost Old: 2.080585e-05\n",
      "TSC Score New: 0.9476719\n",
      "TSC Score Old: 0.94767076\n",
      "armijo: False\n",
      "proposed_initial_alpha: -0.07861621814129294\n",
      "Backtracking\n",
      "Learning Rate: 0.014065158553421497\n",
      "Max_TT rank63\n",
      "[1, 53, 63, 63, 1]\n",
      "proposed_initial_alpha: -0.07861621814129294\n",
      "proposed_step_size: 2087083.0285715198\n",
      "TSC Score New: 0.94767183\n",
      "TSC Score Old: 0.94767076\n",
      "Cost New: 2.0805892102956328e-05\n",
      "Cost Old: 2.080585e-05\n",
      "backtrackiter_count: 1\n",
      "Backtracking\n",
      "Learning Rate: 0.007032579276710749\n",
      "Max_TT rank63\n",
      "[1, 53, 63, 63, 1]\n",
      "proposed_initial_alpha: 1043541.5142857599\n",
      "proposed_step_size: -27703670254925.016\n",
      "TSC Score New: 0.9476726\n",
      "TSC Score Old: 0.94767076\n",
      "Cost New: 2.0805889099106013e-05\n",
      "Cost Old: 2.080585e-05\n",
      "backtrackiter_count: 2\n",
      "Backtracking\n",
      "Learning Rate: 0.0035162896383553743\n",
      "Max_TT rank63\n",
      "[1, 53, 63, 63, 1]\n",
      "proposed_initial_alpha: -13851835127462.508\n",
      "proposed_step_size: 3.677349367930605e+20\n",
      "TSC Score New: 0.9476728\n",
      "TSC Score Old: 0.94767076\n",
      "Cost New: 2.0805907122211156e-05\n",
      "Cost Old: 2.080585e-05\n",
      "backtrackiter_count: 3\n",
      "Backtracking\n",
      "Learning Rate: 0.0017581448191776872\n",
      "Max_TT rank63\n",
      "[1, 53, 63, 63, 1]\n",
      "proposed_initial_alpha: 1.8386746839653024e+20\n",
      "proposed_step_size: -4.881266001718883e+27\n"
     ]
    },
    {
     "name": "stdout",
     "output_type": "stream",
     "text": [
      "TSC Score New: 0.94767326\n",
      "TSC Score Old: 0.94767076\n",
      "Cost New: 2.0805916133766656e-05\n",
      "Cost Old: 2.080585e-05\n",
      "backtrackiter_count: 4\n",
      "Backtracking\n",
      "Learning Rate: 0.0008790724095888436\n",
      "Max_TT rank63\n",
      "[1, 53, 63, 63, 1]\n",
      "proposed_initial_alpha: -2.4406330008594416e+27\n",
      "proposed_step_size: 6.479329374392553e+34\n",
      "TSC Score New: 0.9476728\n",
      "TSC Score Old: 0.94767076\n",
      "Cost New: 2.0805916133766656e-05\n",
      "Cost Old: 2.080585e-05\n",
      "backtrackiter_count: 5\n",
      "Backtracking\n",
      "Learning Rate: 0.0004395362047944218\n",
      "Max_TT rank63\n",
      "[1, 53, 63, 63, 1]\n",
      "proposed_initial_alpha: 3.2396646871962764e+34\n",
      "proposed_step_size: -8.600578031822645e+41\n",
      "TSC Score New: 0.9476736\n",
      "TSC Score Old: 0.94767076\n",
      "Cost New: 2.0805904118359757e-05\n",
      "Cost Old: 2.080585e-05\n",
      "backtrackiter_count: 6\n",
      "Backtracking\n",
      "Learning Rate: 0.0002197681023972109\n",
      "Max_TT rank63\n",
      "[1, 53, 63, 63, 1]\n",
      "proposed_initial_alpha: -4.3002890159113225e+41\n",
      "proposed_step_size: 1.1416296071289798e+49\n",
      "TSC Score New: 0.94767326\n",
      "TSC Score Old: 0.94767076\n",
      "Cost New: 2.0805892102956328e-05\n",
      "Cost Old: 2.080585e-05\n",
      "backtrackiter_count: 7\n",
      "Backtracking\n",
      "Learning Rate: 0.00010988405119860545\n",
      "Max_TT rank63\n",
      "[1, 53, 63, 63, 1]\n",
      "proposed_initial_alpha: 5.708148035644899e+48\n",
      "proposed_step_size: -1.5153843788767625e+56\n",
      "TSC Score New: 0.947673\n",
      "TSC Score Old: 0.94767076\n",
      "Cost New: 2.0805904118359757e-05\n",
      "Cost Old: 2.080585e-05\n",
      "backtrackiter_count: 8\n",
      "Backtracking\n",
      "Learning Rate: 5.4942025599302724e-05\n",
      "Max_TT rank63\n",
      "[1, 53, 63, 63, 1]\n",
      "proposed_initial_alpha: -7.576921894383812e+55\n",
      "proposed_step_size: 2.011501630129209e+63\n",
      "TSC Score New: 0.9476741\n",
      "TSC Score Old: 0.94767076\n",
      "Cost New: 2.0805913129914606e-05\n",
      "Cost Old: 2.080585e-05\n",
      "backtrackiter_count: 9\n",
      "Backtracking\n",
      "Learning Rate: 2.7471012799651362e-05\n",
      "Max_TT rank63\n",
      "[1, 53, 63, 63, 1]\n",
      "proposed_initial_alpha: 1.0057508150646045e+63\n",
      "proposed_step_size: -2.670041254491191e+70\n",
      "TSC Score New: 0.9476733\n",
      "TSC Score Old: 0.94767076\n",
      "Cost New: 2.0805916133766656e-05\n",
      "Cost Old: 2.080585e-05\n",
      "backtrackiter_count: 10\n",
      "BackTracking Breaking after 10; iterations\n",
      "Reject Step: not updating X: initial cost: 2.080585e-05; New Cost: 2.0805916133766656e-05\n",
      "(4.381544e-13, 65, 0.0054179174, 0.0, 0.028130317, 0.99638796, 0.0036120703, 2.080585e-05, 2.080733e-05)\n",
      "alpha_val: 0.028130317\n",
      "theta_val: 0.99638796\n",
      "inprod_grad_eta_val: -3.7667988e-08\n",
      "rim_grad_norm: 0.0031682278\n",
      "eta_norm_val: 0.00019406153\n",
      "Cost New: 2.080733e-05\n",
      "Cost Old: 2.080585e-05\n",
      "TSC Score New: 0.9476719\n",
      "TSC Score Old: 0.9476704\n",
      "armijo: False\n",
      "proposed_initial_alpha: -0.07861621814129294\n",
      "Backtracking\n",
      "Learning Rate: 0.014065158553421497\n",
      "Max_TT rank63\n",
      "[1, 53, 63, 63, 1]\n",
      "proposed_initial_alpha: -0.07861621814129294\n",
      "proposed_step_size: 2087083.0285715198\n",
      "TSC Score New: 0.94767183\n",
      "TSC Score Old: 0.9476704\n",
      "Cost New: 2.0805892102956328e-05\n",
      "Cost Old: 2.080585e-05\n",
      "backtrackiter_count: 1\n",
      "Backtracking\n",
      "Learning Rate: 0.007032579276710749\n",
      "Max_TT rank63\n",
      "[1, 53, 63, 63, 1]\n",
      "proposed_initial_alpha: 1043541.5142857599\n",
      "proposed_step_size: -27703670254925.016\n",
      "TSC Score New: 0.9476726\n",
      "TSC Score Old: 0.9476704\n",
      "Cost New: 2.0805889099106013e-05\n",
      "Cost Old: 2.080585e-05\n",
      "backtrackiter_count: 2\n",
      "Backtracking\n",
      "Learning Rate: 0.0035162896383553743\n",
      "Max_TT rank63\n",
      "[1, 53, 63, 63, 1]\n",
      "proposed_initial_alpha: -13851835127462.508\n",
      "proposed_step_size: 3.677349367930605e+20\n",
      "TSC Score New: 0.9476728\n",
      "TSC Score Old: 0.9476704\n",
      "Cost New: 2.0805907122211156e-05\n",
      "Cost Old: 2.080585e-05\n",
      "backtrackiter_count: 3\n",
      "Backtracking\n",
      "Learning Rate: 0.0017581448191776872\n",
      "Max_TT rank63\n",
      "[1, 53, 63, 63, 1]\n",
      "proposed_initial_alpha: 1.8386746839653024e+20\n",
      "proposed_step_size: -4.881266001718883e+27\n",
      "TSC Score New: 0.94767326\n",
      "TSC Score Old: 0.9476704\n",
      "Cost New: 2.0805916133766656e-05\n",
      "Cost Old: 2.080585e-05\n",
      "backtrackiter_count: 4\n",
      "Backtracking\n",
      "Learning Rate: 0.0008790724095888436\n",
      "Max_TT rank63\n",
      "[1, 53, 63, 63, 1]\n",
      "proposed_initial_alpha: -2.4406330008594416e+27\n",
      "proposed_step_size: 6.479329374392553e+34\n",
      "TSC Score New: 0.9476728\n",
      "TSC Score Old: 0.9476704\n",
      "Cost New: 2.0805916133766656e-05\n",
      "Cost Old: 2.080585e-05\n",
      "backtrackiter_count: 5\n",
      "Backtracking\n",
      "Learning Rate: 0.0004395362047944218\n",
      "Max_TT rank63\n",
      "[1, 53, 63, 63, 1]\n",
      "proposed_initial_alpha: 3.2396646871962764e+34\n",
      "proposed_step_size: -8.600578031822645e+41\n",
      "TSC Score New: 0.9476736\n",
      "TSC Score Old: 0.9476704\n",
      "Cost New: 2.0805904118359757e-05\n",
      "Cost Old: 2.080585e-05\n",
      "backtrackiter_count: 6\n",
      "Backtracking\n",
      "Learning Rate: 0.0002197681023972109\n",
      "Max_TT rank63\n",
      "[1, 53, 63, 63, 1]\n",
      "proposed_initial_alpha: -4.3002890159113225e+41\n",
      "proposed_step_size: 1.1416296071289798e+49\n",
      "TSC Score New: 0.94767326\n",
      "TSC Score Old: 0.9476704\n",
      "Cost New: 2.0805892102956328e-05\n",
      "Cost Old: 2.080585e-05\n",
      "backtrackiter_count: 7\n",
      "Backtracking\n",
      "Learning Rate: 0.00010988405119860545\n",
      "Max_TT rank63\n",
      "[1, 53, 63, 63, 1]\n",
      "proposed_initial_alpha: 5.708148035644899e+48\n",
      "proposed_step_size: -1.5153843788767625e+56\n",
      "TSC Score New: 0.947673\n",
      "TSC Score Old: 0.9476704\n",
      "Cost New: 2.0805904118359757e-05\n",
      "Cost Old: 2.080585e-05\n",
      "backtrackiter_count: 8\n",
      "Backtracking\n",
      "Learning Rate: 5.4942025599302724e-05\n",
      "Max_TT rank63\n",
      "[1, 53, 63, 63, 1]\n",
      "proposed_initial_alpha: -7.576921894383812e+55\n",
      "proposed_step_size: 2.011501630129209e+63\n",
      "TSC Score New: 0.9476741\n",
      "TSC Score Old: 0.9476704\n",
      "Cost New: 2.0805913129914606e-05\n",
      "Cost Old: 2.080585e-05\n",
      "backtrackiter_count: 9\n",
      "Backtracking\n",
      "Learning Rate: 2.7471012799651362e-05\n",
      "Max_TT rank63\n",
      "[1, 53, 63, 63, 1]\n",
      "proposed_initial_alpha: 1.0057508150646045e+63\n",
      "proposed_step_size: -2.670041254491191e+70\n",
      "TSC Score New: 0.9476733\n",
      "TSC Score Old: 0.9476704\n",
      "Cost New: 2.0805916133766656e-05\n",
      "Cost Old: 2.080585e-05\n",
      "backtrackiter_count: 10\n",
      "BackTracking Breaking after 10; iterations\n",
      "Reject Step: not updating X: initial cost: 2.080585e-05; New Cost: 2.0805916133766656e-05\n",
      "(4.381544e-13, 66, 0.0054179174, 0.0, 0.028130317, 0.99638796, 0.0036120703, 2.080585e-05, 2.080733e-05)\n",
      "alpha_val: 0.028130317\n",
      "theta_val: 0.99638796\n",
      "inprod_grad_eta_val: -3.7667988e-08\n",
      "rim_grad_norm: 0.0031682278\n",
      "eta_norm_val: 0.00019406153\n",
      "Cost New: 2.080733e-05\n",
      "Cost Old: 2.080585e-05\n",
      "TSC Score New: 0.9476719\n",
      "TSC Score Old: 0.9476715\n",
      "armijo: False\n",
      "proposed_initial_alpha: -0.07861621814129294\n",
      "Backtracking\n",
      "Learning Rate: 0.014065158553421497\n",
      "Max_TT rank63\n",
      "[1, 53, 63, 63, 1]\n",
      "proposed_initial_alpha: -0.07861621814129294\n",
      "proposed_step_size: 2087083.0285715198\n",
      "TSC Score New: 0.94767183\n",
      "TSC Score Old: 0.9476715\n",
      "Cost New: 2.0805892102956328e-05\n",
      "Cost Old: 2.080585e-05\n",
      "backtrackiter_count: 1\n",
      "Backtracking\n",
      "Learning Rate: 0.007032579276710749\n",
      "Max_TT rank63\n",
      "[1, 53, 63, 63, 1]\n",
      "proposed_initial_alpha: 1043541.5142857599\n",
      "proposed_step_size: -27703670254925.016\n",
      "TSC Score New: 0.9476726\n",
      "TSC Score Old: 0.9476715\n",
      "Cost New: 2.0805889099106013e-05\n",
      "Cost Old: 2.080585e-05\n",
      "backtrackiter_count: 2\n",
      "Backtracking\n",
      "Learning Rate: 0.0035162896383553743\n",
      "Max_TT rank63\n",
      "[1, 53, 63, 63, 1]\n",
      "proposed_initial_alpha: -13851835127462.508\n",
      "proposed_step_size: 3.677349367930605e+20\n",
      "TSC Score New: 0.9476728\n",
      "TSC Score Old: 0.9476715\n",
      "Cost New: 2.0805907122211156e-05\n",
      "Cost Old: 2.080585e-05\n",
      "backtrackiter_count: 3\n",
      "Backtracking\n",
      "Learning Rate: 0.0017581448191776872\n",
      "Max_TT rank63\n",
      "[1, 53, 63, 63, 1]\n",
      "proposed_initial_alpha: 1.8386746839653024e+20\n",
      "proposed_step_size: -4.881266001718883e+27\n",
      "TSC Score New: 0.94767326\n",
      "TSC Score Old: 0.9476715\n",
      "Cost New: 2.0805916133766656e-05\n",
      "Cost Old: 2.080585e-05\n",
      "backtrackiter_count: 4\n",
      "Backtracking\n",
      "Learning Rate: 0.0008790724095888436\n",
      "Max_TT rank63\n",
      "[1, 53, 63, 63, 1]\n",
      "proposed_initial_alpha: -2.4406330008594416e+27\n",
      "proposed_step_size: 6.479329374392553e+34\n",
      "TSC Score New: 0.9476728\n",
      "TSC Score Old: 0.9476715\n",
      "Cost New: 2.0805916133766656e-05\n",
      "Cost Old: 2.080585e-05\n",
      "backtrackiter_count: 5\n",
      "Backtracking\n",
      "Learning Rate: 0.0004395362047944218\n",
      "Max_TT rank63\n",
      "[1, 53, 63, 63, 1]\n",
      "proposed_initial_alpha: 3.2396646871962764e+34\n",
      "proposed_step_size: -8.600578031822645e+41\n",
      "TSC Score New: 0.9476736\n",
      "TSC Score Old: 0.9476715\n",
      "Cost New: 2.0805904118359757e-05\n",
      "Cost Old: 2.080585e-05\n",
      "backtrackiter_count: 6\n",
      "Backtracking\n",
      "Learning Rate: 0.0002197681023972109\n",
      "Max_TT rank63\n",
      "[1, 53, 63, 63, 1]\n",
      "proposed_initial_alpha: -4.3002890159113225e+41\n",
      "proposed_step_size: 1.1416296071289798e+49\n",
      "TSC Score New: 0.94767326\n",
      "TSC Score Old: 0.9476715\n",
      "Cost New: 2.0805892102956328e-05\n",
      "Cost Old: 2.080585e-05\n",
      "backtrackiter_count: 7\n",
      "Backtracking\n",
      "Learning Rate: 0.00010988405119860545\n",
      "Max_TT rank63\n",
      "[1, 53, 63, 63, 1]\n"
     ]
    },
    {
     "name": "stdout",
     "output_type": "stream",
     "text": [
      "proposed_initial_alpha: 5.708148035644899e+48\n",
      "proposed_step_size: -1.5153843788767625e+56\n",
      "TSC Score New: 0.947673\n",
      "TSC Score Old: 0.9476715\n",
      "Cost New: 2.0805904118359757e-05\n",
      "Cost Old: 2.080585e-05\n",
      "backtrackiter_count: 8\n",
      "Backtracking\n",
      "Learning Rate: 5.4942025599302724e-05\n",
      "Max_TT rank63\n",
      "[1, 53, 63, 63, 1]\n",
      "proposed_initial_alpha: -7.576921894383812e+55\n",
      "proposed_step_size: 2.011501630129209e+63\n",
      "TSC Score New: 0.9476741\n",
      "TSC Score Old: 0.9476715\n",
      "Cost New: 2.0805913129914606e-05\n",
      "Cost Old: 2.080585e-05\n",
      "backtrackiter_count: 9\n",
      "Backtracking\n",
      "Learning Rate: 2.7471012799651362e-05\n",
      "Max_TT rank63\n",
      "[1, 53, 63, 63, 1]\n",
      "proposed_initial_alpha: 1.0057508150646045e+63\n",
      "proposed_step_size: -2.670041254491191e+70\n",
      "TSC Score New: 0.9476733\n",
      "TSC Score Old: 0.9476715\n",
      "Cost New: 2.0805916133766656e-05\n",
      "Cost Old: 2.080585e-05\n",
      "backtrackiter_count: 10\n",
      "BackTracking Breaking after 10; iterations\n",
      "Reject Step: not updating X: initial cost: 2.080585e-05; New Cost: 2.0805916133766656e-05\n",
      "(4.381544e-13, 67, 0.0054179174, 0.0, 0.028130317, 0.99638796, 0.0036120703, 2.080585e-05, 2.080733e-05)\n",
      "alpha_val: 0.028130317\n",
      "theta_val: 0.99638796\n",
      "inprod_grad_eta_val: -3.7667988e-08\n",
      "rim_grad_norm: 0.0031682278\n",
      "eta_norm_val: 0.00019406153\n",
      "Cost New: 2.080733e-05\n",
      "Cost Old: 2.080585e-05\n",
      "TSC Score New: 0.9476719\n",
      "TSC Score Old: 0.94767076\n",
      "armijo: False\n",
      "proposed_initial_alpha: -0.07861621814129294\n",
      "Backtracking\n",
      "Learning Rate: 0.014065158553421497\n",
      "Max_TT rank63\n",
      "[1, 53, 63, 63, 1]\n",
      "proposed_initial_alpha: -0.07861621814129294\n",
      "proposed_step_size: 2087083.0285715198\n",
      "TSC Score New: 0.94767183\n",
      "TSC Score Old: 0.94767076\n",
      "Cost New: 2.0805892102956328e-05\n",
      "Cost Old: 2.080585e-05\n",
      "backtrackiter_count: 1\n",
      "Backtracking\n",
      "Learning Rate: 0.007032579276710749\n",
      "Max_TT rank63\n",
      "[1, 53, 63, 63, 1]\n",
      "proposed_initial_alpha: 1043541.5142857599\n",
      "proposed_step_size: -27703670254925.016\n",
      "TSC Score New: 0.9476726\n",
      "TSC Score Old: 0.94767076\n",
      "Cost New: 2.0805889099106013e-05\n",
      "Cost Old: 2.080585e-05\n",
      "backtrackiter_count: 2\n",
      "Backtracking\n",
      "Learning Rate: 0.0035162896383553743\n",
      "Max_TT rank63\n",
      "[1, 53, 63, 63, 1]\n",
      "proposed_initial_alpha: -13851835127462.508\n",
      "proposed_step_size: 3.677349367930605e+20\n",
      "TSC Score New: 0.9476728\n",
      "TSC Score Old: 0.94767076\n",
      "Cost New: 2.0805907122211156e-05\n",
      "Cost Old: 2.080585e-05\n",
      "backtrackiter_count: 3\n",
      "Backtracking\n",
      "Learning Rate: 0.0017581448191776872\n",
      "Max_TT rank63\n",
      "[1, 53, 63, 63, 1]\n",
      "proposed_initial_alpha: 1.8386746839653024e+20\n",
      "proposed_step_size: -4.881266001718883e+27\n",
      "TSC Score New: 0.94767326\n",
      "TSC Score Old: 0.94767076\n",
      "Cost New: 2.0805916133766656e-05\n",
      "Cost Old: 2.080585e-05\n",
      "backtrackiter_count: 4\n",
      "Backtracking\n",
      "Learning Rate: 0.0008790724095888436\n",
      "Max_TT rank63\n",
      "[1, 53, 63, 63, 1]\n",
      "proposed_initial_alpha: -2.4406330008594416e+27\n",
      "proposed_step_size: 6.479329374392553e+34\n",
      "TSC Score New: 0.9476728\n",
      "TSC Score Old: 0.94767076\n",
      "Cost New: 2.0805916133766656e-05\n",
      "Cost Old: 2.080585e-05\n",
      "backtrackiter_count: 5\n",
      "Backtracking\n",
      "Learning Rate: 0.0004395362047944218\n",
      "Max_TT rank63\n",
      "[1, 53, 63, 63, 1]\n",
      "proposed_initial_alpha: 3.2396646871962764e+34\n",
      "proposed_step_size: -8.600578031822645e+41\n",
      "TSC Score New: 0.9476736\n",
      "TSC Score Old: 0.94767076\n",
      "Cost New: 2.0805904118359757e-05\n",
      "Cost Old: 2.080585e-05\n",
      "backtrackiter_count: 6\n",
      "Backtracking\n",
      "Learning Rate: 0.0002197681023972109\n",
      "Max_TT rank63\n",
      "[1, 53, 63, 63, 1]\n",
      "proposed_initial_alpha: -4.3002890159113225e+41\n",
      "proposed_step_size: 1.1416296071289798e+49\n",
      "TSC Score New: 0.94767326\n",
      "TSC Score Old: 0.94767076\n",
      "Cost New: 2.0805892102956328e-05\n",
      "Cost Old: 2.080585e-05\n",
      "backtrackiter_count: 7\n",
      "Backtracking\n",
      "Learning Rate: 0.00010988405119860545\n",
      "Max_TT rank63\n",
      "[1, 53, 63, 63, 1]\n",
      "proposed_initial_alpha: 5.708148035644899e+48\n",
      "proposed_step_size: -1.5153843788767625e+56\n",
      "TSC Score New: 0.947673\n",
      "TSC Score Old: 0.94767076\n",
      "Cost New: 2.0805904118359757e-05\n",
      "Cost Old: 2.080585e-05\n",
      "backtrackiter_count: 8\n",
      "Backtracking\n",
      "Learning Rate: 5.4942025599302724e-05\n",
      "Max_TT rank63\n",
      "[1, 53, 63, 63, 1]\n",
      "proposed_initial_alpha: -7.576921894383812e+55\n",
      "proposed_step_size: 2.011501630129209e+63\n",
      "TSC Score New: 0.9476741\n",
      "TSC Score Old: 0.94767076\n",
      "Cost New: 2.0805913129914606e-05\n",
      "Cost Old: 2.080585e-05\n",
      "backtrackiter_count: 9\n",
      "Backtracking\n",
      "Learning Rate: 2.7471012799651362e-05\n",
      "Max_TT rank63\n",
      "[1, 53, 63, 63, 1]\n",
      "proposed_initial_alpha: 1.0057508150646045e+63\n",
      "proposed_step_size: -2.670041254491191e+70\n",
      "TSC Score New: 0.9476733\n",
      "TSC Score Old: 0.94767076\n",
      "Cost New: 2.0805916133766656e-05\n",
      "Cost Old: 2.080585e-05\n",
      "backtrackiter_count: 10\n",
      "BackTracking Breaking after 10; iterations\n",
      "Reject Step: not updating X: initial cost: 2.080585e-05; New Cost: 2.0805916133766656e-05\n",
      "(4.381544e-13, 68, 0.0054179174, 0.0, 0.028130317, 0.99638796, 0.0036120703, 2.080585e-05, 2.080733e-05)\n",
      "alpha_val: 0.028130317\n",
      "theta_val: 0.99638796\n",
      "inprod_grad_eta_val: -3.7667988e-08\n",
      "rim_grad_norm: 0.0031682278\n",
      "eta_norm_val: 0.00019406153\n",
      "Cost New: 2.080733e-05\n",
      "Cost Old: 2.080585e-05\n",
      "TSC Score New: 0.9476719\n",
      "TSC Score Old: 0.9476704\n",
      "armijo: False\n",
      "proposed_initial_alpha: -0.07861621814129294\n",
      "Backtracking\n",
      "Learning Rate: 0.014065158553421497\n",
      "Max_TT rank63\n",
      "[1, 53, 63, 63, 1]\n",
      "proposed_initial_alpha: -0.07861621814129294\n",
      "proposed_step_size: 2087083.0285715198\n",
      "TSC Score New: 0.94767183\n",
      "TSC Score Old: 0.9476704\n",
      "Cost New: 2.0805892102956328e-05\n",
      "Cost Old: 2.080585e-05\n",
      "backtrackiter_count: 1\n",
      "Backtracking\n",
      "Learning Rate: 0.007032579276710749\n",
      "Max_TT rank63\n",
      "[1, 53, 63, 63, 1]\n",
      "proposed_initial_alpha: 1043541.5142857599\n",
      "proposed_step_size: -27703670254925.016\n",
      "TSC Score New: 0.9476726\n",
      "TSC Score Old: 0.9476704\n",
      "Cost New: 2.0805889099106013e-05\n",
      "Cost Old: 2.080585e-05\n",
      "backtrackiter_count: 2\n",
      "Backtracking\n",
      "Learning Rate: 0.0035162896383553743\n",
      "Max_TT rank63\n",
      "[1, 53, 63, 63, 1]\n",
      "proposed_initial_alpha: -13851835127462.508\n",
      "proposed_step_size: 3.677349367930605e+20\n",
      "TSC Score New: 0.9476728\n",
      "TSC Score Old: 0.9476704\n",
      "Cost New: 2.0805907122211156e-05\n",
      "Cost Old: 2.080585e-05\n",
      "backtrackiter_count: 3\n",
      "Backtracking\n",
      "Learning Rate: 0.0017581448191776872\n",
      "Max_TT rank63\n",
      "[1, 53, 63, 63, 1]\n",
      "proposed_initial_alpha: 1.8386746839653024e+20\n",
      "proposed_step_size: -4.881266001718883e+27\n",
      "TSC Score New: 0.94767326\n",
      "TSC Score Old: 0.9476704\n",
      "Cost New: 2.0805916133766656e-05\n",
      "Cost Old: 2.080585e-05\n",
      "backtrackiter_count: 4\n",
      "Backtracking\n",
      "Learning Rate: 0.0008790724095888436\n",
      "Max_TT rank63\n",
      "[1, 53, 63, 63, 1]\n",
      "proposed_initial_alpha: -2.4406330008594416e+27\n",
      "proposed_step_size: 6.479329374392553e+34\n",
      "TSC Score New: 0.9476728\n",
      "TSC Score Old: 0.9476704\n",
      "Cost New: 2.0805916133766656e-05\n",
      "Cost Old: 2.080585e-05\n",
      "backtrackiter_count: 5\n",
      "Backtracking\n",
      "Learning Rate: 0.0004395362047944218\n",
      "Max_TT rank63\n",
      "[1, 53, 63, 63, 1]\n",
      "proposed_initial_alpha: 3.2396646871962764e+34\n",
      "proposed_step_size: -8.600578031822645e+41\n",
      "TSC Score New: 0.9476736\n",
      "TSC Score Old: 0.9476704\n",
      "Cost New: 2.0805904118359757e-05\n",
      "Cost Old: 2.080585e-05\n",
      "backtrackiter_count: 6\n",
      "Backtracking\n",
      "Learning Rate: 0.0002197681023972109\n",
      "Max_TT rank63\n",
      "[1, 53, 63, 63, 1]\n",
      "proposed_initial_alpha: -4.3002890159113225e+41\n",
      "proposed_step_size: 1.1416296071289798e+49\n",
      "TSC Score New: 0.94767326\n",
      "TSC Score Old: 0.9476704\n",
      "Cost New: 2.0805892102956328e-05\n",
      "Cost Old: 2.080585e-05\n",
      "backtrackiter_count: 7\n",
      "Backtracking\n",
      "Learning Rate: 0.00010988405119860545\n",
      "Max_TT rank63\n",
      "[1, 53, 63, 63, 1]\n",
      "proposed_initial_alpha: 5.708148035644899e+48\n",
      "proposed_step_size: -1.5153843788767625e+56\n",
      "TSC Score New: 0.947673\n",
      "TSC Score Old: 0.9476704\n",
      "Cost New: 2.0805904118359757e-05\n",
      "Cost Old: 2.080585e-05\n",
      "backtrackiter_count: 8\n",
      "Backtracking\n",
      "Learning Rate: 5.4942025599302724e-05\n",
      "Max_TT rank63\n",
      "[1, 53, 63, 63, 1]\n",
      "proposed_initial_alpha: -7.576921894383812e+55\n",
      "proposed_step_size: 2.011501630129209e+63\n",
      "TSC Score New: 0.9476741\n",
      "TSC Score Old: 0.9476704\n",
      "Cost New: 2.0805913129914606e-05\n",
      "Cost Old: 2.080585e-05\n",
      "backtrackiter_count: 9\n",
      "Backtracking\n",
      "Learning Rate: 2.7471012799651362e-05\n",
      "Max_TT rank63\n",
      "[1, 53, 63, 63, 1]\n",
      "proposed_initial_alpha: 1.0057508150646045e+63\n",
      "proposed_step_size: -2.670041254491191e+70\n",
      "TSC Score New: 0.9476733\n",
      "TSC Score Old: 0.9476704\n",
      "Cost New: 2.0805916133766656e-05\n",
      "Cost Old: 2.080585e-05\n",
      "backtrackiter_count: 10\n",
      "BackTracking Breaking after 10; iterations\n",
      "Reject Step: not updating X: initial cost: 2.080585e-05; New Cost: 2.0805916133766656e-05\n",
      "(4.381544e-13, 69, 0.0054179174, 0.0, 0.028130317, 0.99638796, 0.0036120703, 2.080585e-05, 2.080733e-05)\n",
      "alpha_val: 0.028130317\n",
      "theta_val: 0.99638796\n",
      "inprod_grad_eta_val: -3.7667988e-08\n",
      "rim_grad_norm: 0.0031682278\n",
      "eta_norm_val: 0.00019406153\n",
      "Cost New: 2.080733e-05\n",
      "Cost Old: 2.080585e-05\n"
     ]
    },
    {
     "name": "stdout",
     "output_type": "stream",
     "text": [
      "TSC Score New: 0.9476719\n",
      "TSC Score Old: 0.9476715\n",
      "armijo: False\n",
      "proposed_initial_alpha: -0.07861621814129294\n",
      "Backtracking\n",
      "Learning Rate: 0.014065158553421497\n",
      "Max_TT rank63\n",
      "[1, 53, 63, 63, 1]\n",
      "proposed_initial_alpha: -0.07861621814129294\n",
      "proposed_step_size: 2087083.0285715198\n",
      "TSC Score New: 0.94767183\n",
      "TSC Score Old: 0.9476715\n",
      "Cost New: 2.0805892102956328e-05\n",
      "Cost Old: 2.080585e-05\n",
      "backtrackiter_count: 1\n",
      "Backtracking\n",
      "Learning Rate: 0.007032579276710749\n",
      "Max_TT rank63\n",
      "[1, 53, 63, 63, 1]\n",
      "proposed_initial_alpha: 1043541.5142857599\n",
      "proposed_step_size: -27703670254925.016\n",
      "TSC Score New: 0.9476726\n",
      "TSC Score Old: 0.9476715\n",
      "Cost New: 2.0805889099106013e-05\n",
      "Cost Old: 2.080585e-05\n",
      "backtrackiter_count: 2\n",
      "Backtracking\n",
      "Learning Rate: 0.0035162896383553743\n",
      "Max_TT rank63\n",
      "[1, 53, 63, 63, 1]\n",
      "proposed_initial_alpha: -13851835127462.508\n",
      "proposed_step_size: 3.677349367930605e+20\n",
      "TSC Score New: 0.9476728\n",
      "TSC Score Old: 0.9476715\n",
      "Cost New: 2.0805907122211156e-05\n",
      "Cost Old: 2.080585e-05\n",
      "backtrackiter_count: 3\n",
      "Backtracking\n",
      "Learning Rate: 0.0017581448191776872\n",
      "Max_TT rank63\n",
      "[1, 53, 63, 63, 1]\n",
      "proposed_initial_alpha: 1.8386746839653024e+20\n",
      "proposed_step_size: -4.881266001718883e+27\n",
      "TSC Score New: 0.94767326\n",
      "TSC Score Old: 0.9476715\n",
      "Cost New: 2.0805916133766656e-05\n",
      "Cost Old: 2.080585e-05\n",
      "backtrackiter_count: 4\n",
      "Backtracking\n",
      "Learning Rate: 0.0008790724095888436\n",
      "Max_TT rank63\n",
      "[1, 53, 63, 63, 1]\n",
      "proposed_initial_alpha: -2.4406330008594416e+27\n",
      "proposed_step_size: 6.479329374392553e+34\n",
      "TSC Score New: 0.9476728\n",
      "TSC Score Old: 0.9476715\n",
      "Cost New: 2.0805916133766656e-05\n",
      "Cost Old: 2.080585e-05\n",
      "backtrackiter_count: 5\n",
      "Backtracking\n",
      "Learning Rate: 0.0004395362047944218\n",
      "Max_TT rank63\n",
      "[1, 53, 63, 63, 1]\n",
      "proposed_initial_alpha: 3.2396646871962764e+34\n",
      "proposed_step_size: -8.600578031822645e+41\n",
      "TSC Score New: 0.9476736\n",
      "TSC Score Old: 0.9476715\n",
      "Cost New: 2.0805904118359757e-05\n",
      "Cost Old: 2.080585e-05\n",
      "backtrackiter_count: 6\n",
      "Backtracking\n",
      "Learning Rate: 0.0002197681023972109\n",
      "Max_TT rank63\n",
      "[1, 53, 63, 63, 1]\n",
      "proposed_initial_alpha: -4.3002890159113225e+41\n",
      "proposed_step_size: 1.1416296071289798e+49\n",
      "TSC Score New: 0.94767326\n",
      "TSC Score Old: 0.9476715\n",
      "Cost New: 2.0805892102956328e-05\n",
      "Cost Old: 2.080585e-05\n",
      "backtrackiter_count: 7\n",
      "Backtracking\n",
      "Learning Rate: 0.00010988405119860545\n",
      "Max_TT rank63\n",
      "[1, 53, 63, 63, 1]\n",
      "proposed_initial_alpha: 5.708148035644899e+48\n",
      "proposed_step_size: -1.5153843788767625e+56\n",
      "TSC Score New: 0.947673\n",
      "TSC Score Old: 0.9476715\n",
      "Cost New: 2.0805904118359757e-05\n",
      "Cost Old: 2.080585e-05\n",
      "backtrackiter_count: 8\n",
      "Backtracking\n",
      "Learning Rate: 5.4942025599302724e-05\n",
      "Max_TT rank63\n",
      "[1, 53, 63, 63, 1]\n",
      "proposed_initial_alpha: -7.576921894383812e+55\n",
      "proposed_step_size: 2.011501630129209e+63\n",
      "TSC Score New: 0.9476741\n",
      "TSC Score Old: 0.9476715\n",
      "Cost New: 2.0805913129914606e-05\n",
      "Cost Old: 2.080585e-05\n",
      "backtrackiter_count: 9\n",
      "Backtracking\n",
      "Learning Rate: 2.7471012799651362e-05\n",
      "Max_TT rank63\n",
      "[1, 53, 63, 63, 1]\n",
      "proposed_initial_alpha: 1.0057508150646045e+63\n",
      "proposed_step_size: -2.670041254491191e+70\n",
      "TSC Score New: 0.9476733\n",
      "TSC Score Old: 0.9476715\n",
      "Cost New: 2.0805916133766656e-05\n",
      "Cost Old: 2.080585e-05\n",
      "backtrackiter_count: 10\n",
      "BackTracking Breaking after 10; iterations\n",
      "Reject Step: not updating X: initial cost: 2.080585e-05; New Cost: 2.0805916133766656e-05\n",
      "(4.381544e-13, 70, 0.0054179174, 0.0, 0.028130317, 0.99638796, 0.0036120703, 2.080585e-05, 2.080733e-05)\n",
      "alpha_val: 0.028130317\n",
      "theta_val: 0.99638796\n",
      "inprod_grad_eta_val: -3.7667988e-08\n",
      "rim_grad_norm: 0.0031682278\n",
      "eta_norm_val: 0.00019406153\n",
      "Cost New: 2.080733e-05\n",
      "Cost Old: 2.080585e-05\n",
      "TSC Score New: 0.9476719\n",
      "TSC Score Old: 0.94767076\n",
      "armijo: False\n",
      "proposed_initial_alpha: -0.07861621814129294\n",
      "Backtracking\n",
      "Learning Rate: 0.014065158553421497\n",
      "Max_TT rank63\n",
      "[1, 53, 63, 63, 1]\n",
      "proposed_initial_alpha: -0.07861621814129294\n",
      "proposed_step_size: 2087083.0285715198\n",
      "TSC Score New: 0.94767183\n",
      "TSC Score Old: 0.94767076\n",
      "Cost New: 2.0805892102956328e-05\n",
      "Cost Old: 2.080585e-05\n",
      "backtrackiter_count: 1\n",
      "Backtracking\n",
      "Learning Rate: 0.007032579276710749\n",
      "Max_TT rank63\n",
      "[1, 53, 63, 63, 1]\n",
      "proposed_initial_alpha: 1043541.5142857599\n",
      "proposed_step_size: -27703670254925.016\n",
      "TSC Score New: 0.9476726\n",
      "TSC Score Old: 0.94767076\n",
      "Cost New: 2.0805889099106013e-05\n",
      "Cost Old: 2.080585e-05\n",
      "backtrackiter_count: 2\n",
      "Backtracking\n",
      "Learning Rate: 0.0035162896383553743\n",
      "Max_TT rank63\n",
      "[1, 53, 63, 63, 1]\n",
      "proposed_initial_alpha: -13851835127462.508\n",
      "proposed_step_size: 3.677349367930605e+20\n",
      "TSC Score New: 0.9476728\n",
      "TSC Score Old: 0.94767076\n",
      "Cost New: 2.0805907122211156e-05\n",
      "Cost Old: 2.080585e-05\n",
      "backtrackiter_count: 3\n",
      "Backtracking\n",
      "Learning Rate: 0.0017581448191776872\n",
      "Max_TT rank63\n",
      "[1, 53, 63, 63, 1]\n",
      "proposed_initial_alpha: 1.8386746839653024e+20\n",
      "proposed_step_size: -4.881266001718883e+27\n",
      "TSC Score New: 0.94767326\n",
      "TSC Score Old: 0.94767076\n",
      "Cost New: 2.0805916133766656e-05\n",
      "Cost Old: 2.080585e-05\n",
      "backtrackiter_count: 4\n",
      "Backtracking\n",
      "Learning Rate: 0.0008790724095888436\n",
      "Max_TT rank63\n",
      "[1, 53, 63, 63, 1]\n",
      "proposed_initial_alpha: -2.4406330008594416e+27\n",
      "proposed_step_size: 6.479329374392553e+34\n",
      "TSC Score New: 0.9476728\n",
      "TSC Score Old: 0.94767076\n",
      "Cost New: 2.0805916133766656e-05\n",
      "Cost Old: 2.080585e-05\n",
      "backtrackiter_count: 5\n",
      "Backtracking\n",
      "Learning Rate: 0.0004395362047944218\n",
      "Max_TT rank63\n",
      "[1, 53, 63, 63, 1]\n",
      "proposed_initial_alpha: 3.2396646871962764e+34\n",
      "proposed_step_size: -8.600578031822645e+41\n",
      "TSC Score New: 0.9476736\n",
      "TSC Score Old: 0.94767076\n",
      "Cost New: 2.0805904118359757e-05\n",
      "Cost Old: 2.080585e-05\n",
      "backtrackiter_count: 6\n",
      "Backtracking\n",
      "Learning Rate: 0.0002197681023972109\n",
      "Max_TT rank63\n",
      "[1, 53, 63, 63, 1]\n",
      "proposed_initial_alpha: -4.3002890159113225e+41\n",
      "proposed_step_size: 1.1416296071289798e+49\n",
      "TSC Score New: 0.94767326\n",
      "TSC Score Old: 0.94767076\n",
      "Cost New: 2.0805892102956328e-05\n",
      "Cost Old: 2.080585e-05\n",
      "backtrackiter_count: 7\n",
      "Backtracking\n",
      "Learning Rate: 0.00010988405119860545\n",
      "Max_TT rank63\n",
      "[1, 53, 63, 63, 1]\n",
      "proposed_initial_alpha: 5.708148035644899e+48\n",
      "proposed_step_size: -1.5153843788767625e+56\n",
      "TSC Score New: 0.947673\n",
      "TSC Score Old: 0.94767076\n",
      "Cost New: 2.0805904118359757e-05\n",
      "Cost Old: 2.080585e-05\n",
      "backtrackiter_count: 8\n",
      "Backtracking\n",
      "Learning Rate: 5.4942025599302724e-05\n",
      "Max_TT rank63\n",
      "[1, 53, 63, 63, 1]\n",
      "proposed_initial_alpha: -7.576921894383812e+55\n",
      "proposed_step_size: 2.011501630129209e+63\n",
      "TSC Score New: 0.9476741\n",
      "TSC Score Old: 0.94767076\n",
      "Cost New: 2.0805913129914606e-05\n",
      "Cost Old: 2.080585e-05\n",
      "backtrackiter_count: 9\n",
      "Backtracking\n",
      "Learning Rate: 2.7471012799651362e-05\n",
      "Max_TT rank63\n",
      "[1, 53, 63, 63, 1]\n",
      "proposed_initial_alpha: 1.0057508150646045e+63\n",
      "proposed_step_size: -2.670041254491191e+70\n"
     ]
    },
    {
     "ename": "KeyboardInterrupt",
     "evalue": "",
     "output_type": "error",
     "traceback": [
      "\u001b[0;31m---------------------------------------------------------------------------\u001b[0m",
      "\u001b[0;31mKeyboardInterrupt\u001b[0m                         Traceback (most recent call last)",
      "\u001b[0;32m<ipython-input-121-87dd4c3e9501>\u001b[0m in \u001b[0;36m<module>\u001b[0;34m()\u001b[0m\n\u001b[1;32m     66\u001b[0m \u001b[0;34m\u001b[0m\u001b[0m\n\u001b[1;32m     67\u001b[0m         \u001b[0mcost_new_value\u001b[0m \u001b[0;34m=\u001b[0m \u001b[0mloss_func\u001b[0m\u001b[0;34m(\u001b[0m\u001b[0mx_new_val\u001b[0m\u001b[0;34m,\u001b[0m \u001b[0ma_omega\u001b[0m\u001b[0;34m)\u001b[0m\u001b[0;34m\u001b[0m\u001b[0m\n\u001b[0;32m---> 68\u001b[0;31m         \u001b[0msess\u001b[0m\u001b[0;34m.\u001b[0m\u001b[0mrun\u001b[0m\u001b[0;34m(\u001b[0m\u001b[0mtf\u001b[0m\u001b[0;34m.\u001b[0m\u001b[0massign\u001b[0m\u001b[0;34m(\u001b[0m\u001b[0mcost_new\u001b[0m\u001b[0;34m,\u001b[0m\u001b[0mcost_new_value\u001b[0m\u001b[0;34m)\u001b[0m\u001b[0;34m.\u001b[0m\u001b[0mop\u001b[0m\u001b[0;34m)\u001b[0m\u001b[0;34m\u001b[0m\u001b[0m\n\u001b[0m\u001b[1;32m     69\u001b[0m \u001b[0;34m\u001b[0m\u001b[0m\n\u001b[1;32m     70\u001b[0m         \u001b[0mtsc_score_new\u001b[0m \u001b[0;34m=\u001b[0m \u001b[0mtsc\u001b[0m\u001b[0;34m(\u001b[0m\u001b[0msess\u001b[0m\u001b[0;34m.\u001b[0m\u001b[0mrun\u001b[0m\u001b[0;34m(\u001b[0m\u001b[0mt3f\u001b[0m\u001b[0;34m.\u001b[0m\u001b[0mfull\u001b[0m\u001b[0;34m(\u001b[0m\u001b[0mX_new\u001b[0m\u001b[0;34m)\u001b[0m\u001b[0;34m)\u001b[0m\u001b[0;34m,\u001b[0m\u001b[0mground_truth_x\u001b[0m\u001b[0;34m,\u001b[0m \u001b[0mten_ones\u001b[0m\u001b[0;34m,\u001b[0m \u001b[0mmask_indices\u001b[0m\u001b[0;34m)\u001b[0m\u001b[0;34m.\u001b[0m\u001b[0mastype\u001b[0m\u001b[0;34m(\u001b[0m\u001b[0;34m'float32'\u001b[0m\u001b[0;34m)\u001b[0m\u001b[0;34m\u001b[0m\u001b[0m\n",
      "\u001b[0;32m/usr/local/lib/python2.7/site-packages/tensorflow/python/client/session.pyc\u001b[0m in \u001b[0;36mrun\u001b[0;34m(self, fetches, feed_dict, options, run_metadata)\u001b[0m\n\u001b[1;32m    906\u001b[0m     \u001b[0;32mtry\u001b[0m\u001b[0;34m:\u001b[0m\u001b[0;34m\u001b[0m\u001b[0m\n\u001b[1;32m    907\u001b[0m       result = self._run(None, fetches, feed_dict, options_ptr,\n\u001b[0;32m--> 908\u001b[0;31m                          run_metadata_ptr)\n\u001b[0m\u001b[1;32m    909\u001b[0m       \u001b[0;32mif\u001b[0m \u001b[0mrun_metadata\u001b[0m\u001b[0;34m:\u001b[0m\u001b[0;34m\u001b[0m\u001b[0m\n\u001b[1;32m    910\u001b[0m         \u001b[0mproto_data\u001b[0m \u001b[0;34m=\u001b[0m \u001b[0mtf_session\u001b[0m\u001b[0;34m.\u001b[0m\u001b[0mTF_GetBuffer\u001b[0m\u001b[0;34m(\u001b[0m\u001b[0mrun_metadata_ptr\u001b[0m\u001b[0;34m)\u001b[0m\u001b[0;34m\u001b[0m\u001b[0m\n",
      "\u001b[0;32m/usr/local/lib/python2.7/site-packages/tensorflow/python/client/session.pyc\u001b[0m in \u001b[0;36m_run\u001b[0;34m(self, handle, fetches, feed_dict, options, run_metadata)\u001b[0m\n\u001b[1;32m   1141\u001b[0m     \u001b[0;32mif\u001b[0m \u001b[0mfinal_fetches\u001b[0m \u001b[0;32mor\u001b[0m \u001b[0mfinal_targets\u001b[0m \u001b[0;32mor\u001b[0m \u001b[0;34m(\u001b[0m\u001b[0mhandle\u001b[0m \u001b[0;32mand\u001b[0m \u001b[0mfeed_dict_tensor\u001b[0m\u001b[0;34m)\u001b[0m\u001b[0;34m:\u001b[0m\u001b[0;34m\u001b[0m\u001b[0m\n\u001b[1;32m   1142\u001b[0m       results = self._do_run(handle, final_targets, final_fetches,\n\u001b[0;32m-> 1143\u001b[0;31m                              feed_dict_tensor, options, run_metadata)\n\u001b[0m\u001b[1;32m   1144\u001b[0m     \u001b[0;32melse\u001b[0m\u001b[0;34m:\u001b[0m\u001b[0;34m\u001b[0m\u001b[0m\n\u001b[1;32m   1145\u001b[0m       \u001b[0mresults\u001b[0m \u001b[0;34m=\u001b[0m \u001b[0;34m[\u001b[0m\u001b[0;34m]\u001b[0m\u001b[0;34m\u001b[0m\u001b[0m\n",
      "\u001b[0;32m/usr/local/lib/python2.7/site-packages/tensorflow/python/client/session.pyc\u001b[0m in \u001b[0;36m_do_run\u001b[0;34m(self, handle, target_list, fetch_list, feed_dict, options, run_metadata)\u001b[0m\n\u001b[1;32m   1322\u001b[0m     \u001b[0;32mif\u001b[0m \u001b[0mhandle\u001b[0m \u001b[0;32mis\u001b[0m \u001b[0mNone\u001b[0m\u001b[0;34m:\u001b[0m\u001b[0;34m\u001b[0m\u001b[0m\n\u001b[1;32m   1323\u001b[0m       return self._do_call(_run_fn, feeds, fetches, targets, options,\n\u001b[0;32m-> 1324\u001b[0;31m                            run_metadata)\n\u001b[0m\u001b[1;32m   1325\u001b[0m     \u001b[0;32melse\u001b[0m\u001b[0;34m:\u001b[0m\u001b[0;34m\u001b[0m\u001b[0m\n\u001b[1;32m   1326\u001b[0m       \u001b[0;32mreturn\u001b[0m \u001b[0mself\u001b[0m\u001b[0;34m.\u001b[0m\u001b[0m_do_call\u001b[0m\u001b[0;34m(\u001b[0m\u001b[0m_prun_fn\u001b[0m\u001b[0;34m,\u001b[0m \u001b[0mhandle\u001b[0m\u001b[0;34m,\u001b[0m \u001b[0mfeeds\u001b[0m\u001b[0;34m,\u001b[0m \u001b[0mfetches\u001b[0m\u001b[0;34m)\u001b[0m\u001b[0;34m\u001b[0m\u001b[0m\n",
      "\u001b[0;32m/usr/local/lib/python2.7/site-packages/tensorflow/python/client/session.pyc\u001b[0m in \u001b[0;36m_do_call\u001b[0;34m(self, fn, *args)\u001b[0m\n\u001b[1;32m   1328\u001b[0m   \u001b[0;32mdef\u001b[0m \u001b[0m_do_call\u001b[0m\u001b[0;34m(\u001b[0m\u001b[0mself\u001b[0m\u001b[0;34m,\u001b[0m \u001b[0mfn\u001b[0m\u001b[0;34m,\u001b[0m \u001b[0;34m*\u001b[0m\u001b[0margs\u001b[0m\u001b[0;34m)\u001b[0m\u001b[0;34m:\u001b[0m\u001b[0;34m\u001b[0m\u001b[0m\n\u001b[1;32m   1329\u001b[0m     \u001b[0;32mtry\u001b[0m\u001b[0;34m:\u001b[0m\u001b[0;34m\u001b[0m\u001b[0m\n\u001b[0;32m-> 1330\u001b[0;31m       \u001b[0;32mreturn\u001b[0m \u001b[0mfn\u001b[0m\u001b[0;34m(\u001b[0m\u001b[0;34m*\u001b[0m\u001b[0margs\u001b[0m\u001b[0;34m)\u001b[0m\u001b[0;34m\u001b[0m\u001b[0m\n\u001b[0m\u001b[1;32m   1331\u001b[0m     \u001b[0;32mexcept\u001b[0m \u001b[0merrors\u001b[0m\u001b[0;34m.\u001b[0m\u001b[0mOpError\u001b[0m \u001b[0;32mas\u001b[0m \u001b[0me\u001b[0m\u001b[0;34m:\u001b[0m\u001b[0;34m\u001b[0m\u001b[0m\n\u001b[1;32m   1332\u001b[0m       \u001b[0mmessage\u001b[0m \u001b[0;34m=\u001b[0m \u001b[0mcompat\u001b[0m\u001b[0;34m.\u001b[0m\u001b[0mas_text\u001b[0m\u001b[0;34m(\u001b[0m\u001b[0me\u001b[0m\u001b[0;34m.\u001b[0m\u001b[0mmessage\u001b[0m\u001b[0;34m)\u001b[0m\u001b[0;34m\u001b[0m\u001b[0m\n",
      "\u001b[0;32m/usr/local/lib/python2.7/site-packages/tensorflow/python/client/session.pyc\u001b[0m in \u001b[0;36m_run_fn\u001b[0;34m(feed_dict, fetch_list, target_list, options, run_metadata)\u001b[0m\n\u001b[1;32m   1311\u001b[0m     \u001b[0;32mdef\u001b[0m \u001b[0m_run_fn\u001b[0m\u001b[0;34m(\u001b[0m\u001b[0mfeed_dict\u001b[0m\u001b[0;34m,\u001b[0m \u001b[0mfetch_list\u001b[0m\u001b[0;34m,\u001b[0m \u001b[0mtarget_list\u001b[0m\u001b[0;34m,\u001b[0m \u001b[0moptions\u001b[0m\u001b[0;34m,\u001b[0m \u001b[0mrun_metadata\u001b[0m\u001b[0;34m)\u001b[0m\u001b[0;34m:\u001b[0m\u001b[0;34m\u001b[0m\u001b[0m\n\u001b[1;32m   1312\u001b[0m       \u001b[0;31m# Ensure any changes to the graph are reflected in the runtime.\u001b[0m\u001b[0;34m\u001b[0m\u001b[0;34m\u001b[0m\u001b[0m\n\u001b[0;32m-> 1313\u001b[0;31m       \u001b[0mself\u001b[0m\u001b[0;34m.\u001b[0m\u001b[0m_extend_graph\u001b[0m\u001b[0;34m(\u001b[0m\u001b[0;34m)\u001b[0m\u001b[0;34m\u001b[0m\u001b[0m\n\u001b[0m\u001b[1;32m   1314\u001b[0m       return self._call_tf_sessionrun(\n\u001b[1;32m   1315\u001b[0m           options, feed_dict, fetch_list, target_list, run_metadata)\n",
      "\u001b[0;32m/usr/local/lib/python2.7/site-packages/tensorflow/python/client/session.pyc\u001b[0m in \u001b[0;36m_extend_graph\u001b[0;34m(self)\u001b[0m\n\u001b[1;32m   1359\u001b[0m           \u001b[0;32mwith\u001b[0m \u001b[0merrors\u001b[0m\u001b[0;34m.\u001b[0m\u001b[0mraise_exception_on_not_ok_status\u001b[0m\u001b[0;34m(\u001b[0m\u001b[0;34m)\u001b[0m \u001b[0;32mas\u001b[0m \u001b[0mstatus\u001b[0m\u001b[0;34m:\u001b[0m\u001b[0;34m\u001b[0m\u001b[0m\n\u001b[1;32m   1360\u001b[0m             tf_session.TF_ExtendGraph(self._session,\n\u001b[0;32m-> 1361\u001b[0;31m                                       graph_def.SerializeToString(), status)\n\u001b[0m\u001b[1;32m   1362\u001b[0m           \u001b[0mself\u001b[0m\u001b[0;34m.\u001b[0m\u001b[0m_opened\u001b[0m \u001b[0;34m=\u001b[0m \u001b[0mTrue\u001b[0m\u001b[0;34m\u001b[0m\u001b[0m\n\u001b[1;32m   1363\u001b[0m \u001b[0;34m\u001b[0m\u001b[0m\n",
      "\u001b[0;31mKeyboardInterrupt\u001b[0m: "
     ]
    }
   ],
   "source": [
    "\n",
    "\n",
    "i = 0\n",
    "cost_nan = False\n",
    "while gradnorm_val > eps:   \n",
    "#for k in range(20):\n",
    "    i = i + 1\n",
    "    #F_v, gradnorm_val, alpha_val,theta_val, beta_val, cost_new_val, cost_val,tsc_score_val, eta_norm_val, inprod_grad_eta_val, riemannian_grad_norm_val,_, _,_,_,_,_ = sess.run([loss, gradnorm_omega, alpha, theta, beta, cost_new, cost, completion_score, eta_norm, inprod_grad_eta, riemannian_grad_norm,eta_norm_update_op.op, cost_new_op.op, train_new_step.op, tsc_score_op.op, eta_update_op.op, grad_update_op.op])\n",
    "    #tsc_score_update_op\n",
    "    #eta_old_val, grad_update_val,_ = sess.run([eta_update_op, grad_update_op])\n",
    "    F_v, gradnorm_val, alpha_val,theta_val, beta_val, cost_new_val, cost_val,tsc_score_val, eta_norm_val, inprod_grad_eta_val, riemannian_grad_norm_val,_, _,_,_,_,_ = sess.run([loss, gradnorm_omega, alpha, theta, beta, cost_new, cost, completion_score, eta_norm, inprod_grad_eta, riemannian_grad_norm,eta_norm_update_op.op, cost_new_op.op, train_new_step.op, tsc_score_update_op.op, eta_update_op.op, grad_update_op.op])\n",
    "    \n",
    "    print \"alpha_val: \" + str(alpha_val)\n",
    "    print \"theta_val: \" + str(theta_val)\n",
    "    print \"inprod_grad_eta_val: \" + str(inprod_grad_eta_val)\n",
    "    print \"rim_grad_norm: \" + str(riemannian_grad_norm_val)\n",
    "    print \"eta_norm_val: \" + str(eta_norm_val)\n",
    "    \n",
    "    lr = alpha_val\n",
    "    cost_prev_value = cost_val\n",
    "    cost_new_value = cost_new_val\n",
    "    cost_0 = cost_val\n",
    "    \n",
    "    print \"Cost New: \" +str(cost_new_value)\n",
    "    print \"Cost Old: \" +str(cost_prev_value)\n",
    "        \n",
    "    tsc_score_old = tsc_score_history[i-1]\n",
    "    \n",
    "    #x_reconstr = mt.reconstruct2(sess.run(t3f.full(X_new)),ground_truth_x, mask_indices)\n",
    "    tsc_score_new = tsc(sess.run(t3f.full(X_new)),ground_truth_x, ten_ones, mask_indices).astype('float32')\n",
    "\n",
    "    #tsc_score_new = tsc_score_val\n",
    "    print \"TSC Score New: \" +str(tsc_score_new)\n",
    "    print \"TSC Score Old: \" +str(tsc_score_old)\n",
    "       \n",
    "    backtrackiter = 0\n",
    "\n",
    "    max_iter_count = 10\n",
    "    #armijo = (cost_new_val <= cost_prev_value + backtrack_const*(lr)*inprod_grad_eta_val)\n",
    "    armijo = ((tsc_score_new < tsc_score_old) or (cost_new_val <= cost_prev_value + backtrack_const*(lr)*inprod_grad_eta_val))\n",
    "    print \"armijo: \" + str(armijo)\n",
    "    \n",
    "    proposed_initial_alpha = 2*(cost_new_value - cost_prev_value)/inprod_grad_eta_val\n",
    "    print \"proposed_initial_alpha: \" + str(proposed_initial_alpha)\n",
    "    \n",
    "    #diff_train = np.abs(train_loss_hist[i - 1] - train_loss_hist[i-2])\n",
    "    \n",
    "    #while (cost_prev - cost_new) <= -backtrack_const*(-lr)*inprod_grad_eta_val:\n",
    "    #while (not (cost_new <= cost_prev + backtrack_const*(lr)*inprod_grad_eta_val)):\n",
    "    while ((cost_new_value > cost_prev_value + backtrack_const*(lr)*inprod_grad_eta_val)):\n",
    "    #while ((tsc_score_new > tsc_score_old*1.05) or (cost_new_value > cost_prev_value + backtrack_const*(lr)*inprod_grad_eta_val)):\n",
    "    #while ((tsc_score_new > tsc_score_old)):\n",
    "         \n",
    "        print \"Backtracking\"\n",
    "        lr = 0.5*lr\n",
    "        print \"Learning Rate: \" + str(lr)\n",
    "        sess.run(t3f.assign(X_new, t3f.round(X + lr * eta_t3f_old, max_tt_rank=63)).op)\n",
    "        x_new_val = sess.run(t3f.full(X_new))\n",
    "        x_new_val[mask_indices==0] = 0.0\n",
    "        \n",
    "               \n",
    "        print \"proposed_initial_alpha: \" + str(proposed_initial_alpha)\n",
    "        proposed_step_size = proposed_initial_alpha /inprod_grad_eta_val\n",
    "        print \"proposed_step_size: \" + str(proposed_step_size)\n",
    "        proposed_initial_alpha = 0.5*proposed_step_size\n",
    "        \n",
    "        cost_new_value = loss_func(x_new_val, a_omega)\n",
    "        sess.run(tf.assign(cost_new,cost_new_value).op)\n",
    "        \n",
    "        tsc_score_new = tsc(sess.run(t3f.full(X_new)),ground_truth_x, ten_ones, mask_indices).astype('float32')\n",
    "        #tsc_score_new,_ = sess.run([completion_score, tsc_score_update_op.op])\n",
    "        print \"TSC Score New: \" +str(tsc_score_new)\n",
    "        print \"TSC Score Old: \" +str(tsc_score_old)\n",
    "        \n",
    "        if is_nan(cost_new):\n",
    "            cost_nan = True\n",
    "            break\n",
    "        \n",
    "        print \"Cost New: \" +str(cost_new_value)\n",
    "        print \"Cost Old: \" +str(cost_prev_value)\n",
    "        backtrackiter = backtrackiter + 1\n",
    "        print \"backtrackiter_count: \" + str(backtrackiter)\n",
    "    \n",
    "        if cost_nan:\n",
    "            print \"Cost is Nan. Breaking after \" + str(i) + \"; iterations\"\n",
    "            break\n",
    "        \n",
    "        if backtrackiter>= max_iter_count:\n",
    "           print \"BackTracking Breaking after \" + str(backtrackiter) + \"; iterations\"\n",
    "           break\n",
    "    \n",
    "    \n",
    "    #if (cost_new_value < cost_prev_value):\n",
    "    if ((cost_new_value < cost_prev_value) or (tsc_score_new <= tsc_score_old)):\n",
    "    #if ((tsc_score_new <= tsc_score_old)):\n",
    "        # update x\n",
    "        print \"updating X: initial cost: \" + str(cost_prev_value) + \"; New Cost: \" +  str(cost_new_value)\n",
    "        sess.run([t3f.assign(X, X_new).op, tf.assign(cost,cost_new_value).op])\n",
    "        tsc_score_history.append(tsc_score_new)\n",
    "    else:\n",
    "        print \"Reject Step: not updating X: initial cost: \" + str(cost_prev_value) + \"; New Cost: \" +  str(cost_new_value)\n",
    "        tsc_score_history.append(tsc_score_old)\n",
    "        \n",
    "    train_loss_hist.append(gradnorm_val)\n",
    "    cost_history.append(cost_new_value)\n",
    "    \n",
    "    if i > 1:\n",
    "        diff_train = np.abs(train_loss_hist[i - 1] - train_loss_hist[i-2])/np.abs(train_loss_hist[i-1])\n",
    "        print (F_v, i, gradnorm_val, diff_train, alpha_val, theta_val, beta_val, cost_val, cost_new_val)\n",
    "        if diff_train <= epsilon_train and diff_train <> 0.0:\n",
    "            print \"Breaking after \" + str(i) + \" iterations\"\n",
    "            break\n",
    "    else:\n",
    "        print (F_v, i, gradnorm_val, alpha_val, theta_val, beta_val, cost_val, cost_new_val)\n",
    "    log.append(F_v)"
   ]
  },
  {
   "cell_type": "code",
   "execution_count": null,
   "metadata": {},
   "outputs": [],
   "source": [
    "print \"TSC Score Old: \" +str(tsc_score_old)"
   ]
  },
  {
   "cell_type": "code",
   "execution_count": null,
   "metadata": {},
   "outputs": [],
   "source": [
    "print diff_train"
   ]
  },
  {
   "cell_type": "code",
   "execution_count": null,
   "metadata": {
    "collapsed": true
   },
   "outputs": [],
   "source": [
    "tsc_score_new"
   ]
  },
  {
   "cell_type": "code",
   "execution_count": null,
   "metadata": {},
   "outputs": [],
   "source": [
    "print beta"
   ]
  },
  {
   "cell_type": "code",
   "execution_count": null,
   "metadata": {
    "collapsed": true
   },
   "outputs": [],
   "source": [
    "#sess.run([eta_update_op.op, grad_update_op.op])"
   ]
  },
  {
   "cell_type": "code",
   "execution_count": null,
   "metadata": {},
   "outputs": [],
   "source": [
    "print X"
   ]
  },
  {
   "cell_type": "code",
   "execution_count": null,
   "metadata": {
    "collapsed": true
   },
   "outputs": [],
   "source": [
    "estimated_val = sess.run(t3f.full(X))"
   ]
  },
  {
   "cell_type": "code",
   "execution_count": null,
   "metadata": {
    "collapsed": true
   },
   "outputs": [],
   "source": [
    "ground_truth_val = sess.run(ground_truth)\n"
   ]
  },
  {
   "cell_type": "code",
   "execution_count": null,
   "metadata": {
    "collapsed": true
   },
   "outputs": [],
   "source": [
    "x_reconstr = mt.reconstruct(estimated_val,ground_truth_val, ten_ones, mask_indices)\n"
   ]
  },
  {
   "cell_type": "code",
   "execution_count": null,
   "metadata": {
    "collapsed": true
   },
   "outputs": [],
   "source": [
    "def relative_error(x_hat,x_true):\n",
    "    percent_error = np.linalg.norm(x_hat - x_true) / np.linalg.norm(x_true)\n",
    "    return percent_error"
   ]
  },
  {
   "cell_type": "code",
   "execution_count": null,
   "metadata": {
    "collapsed": true
   },
   "outputs": [],
   "source": [
    "rel_error = relative_error(estimated_val,ground_truth_val)"
   ]
  },
  {
   "cell_type": "code",
   "execution_count": null,
   "metadata": {},
   "outputs": [],
   "source": [
    "print rel_error"
   ]
  },
  {
   "cell_type": "code",
   "execution_count": null,
   "metadata": {
    "collapsed": true
   },
   "outputs": [],
   "source": [
    "rel_error_rec = relative_error(x_reconstr,ground_truth_val)"
   ]
  },
  {
   "cell_type": "code",
   "execution_count": null,
   "metadata": {},
   "outputs": [],
   "source": [
    "rel_error_rec"
   ]
  },
  {
   "cell_type": "code",
   "execution_count": null,
   "metadata": {
    "collapsed": true
   },
   "outputs": [],
   "source": [
    "x_miss_img = mt.reconstruct_image_affine(x_true_org, x_train)"
   ]
  },
  {
   "cell_type": "code",
   "execution_count": null,
   "metadata": {
    "collapsed": true
   },
   "outputs": [],
   "source": [
    "x_miss = image.index_img(x_miss_img,1)"
   ]
  },
  {
   "cell_type": "code",
   "execution_count": null,
   "metadata": {},
   "outputs": [],
   "source": [
    "x_miss_image = plotting.plot_epi(x_miss, bg_img=None,black_bg=True, cmap='jet', cut_coords=[1, -13, 32]) "
   ]
  },
  {
   "cell_type": "code",
   "execution_count": null,
   "metadata": {},
   "outputs": [],
   "source": [
    "x_hat_img = mt.reconstruct_image_affine(x_true_org, x_reconstr)\n",
    "x_hat = image.index_img(x_hat_img,1)\n",
    "recovered_image = plotting.plot_epi(x_hat, bg_img=None,black_bg=True, cmap='jet', cut_coords=None)"
   ]
  },
  {
   "cell_type": "code",
   "execution_count": null,
   "metadata": {},
   "outputs": [],
   "source": [
    "x_org = mt.reconstruct_image_affine(x_true_org, x_true_img)\n",
    "x_org_img = image.index_img(x_org,1)\n",
    "#x_true_org_img = image.index_img(x_true_org,1)\n",
    "org_image = plotting.plot_epi(x_org_img, bg_img=None,black_bg=True, cmap='jet', cut_coords=None)"
   ]
  },
  {
   "cell_type": "code",
   "execution_count": null,
   "metadata": {
    "collapsed": true
   },
   "outputs": [],
   "source": [
    "#x_true_org_img = image.index_img(x_true_org,1)\n",
    "#org_image = plotting.plot_epi(x_true_org_img, bg_img=None,black_bg=True, cmap='jet', cut_coords=None)"
   ]
  },
  {
   "cell_type": "code",
   "execution_count": null,
   "metadata": {},
   "outputs": [],
   "source": [
    "images_folder = \"/work/scratch/tt3/1\"\n",
    "mrd.draw_original_vs_reconstructed_rim(image.index_img(x_true_org,1),x_hat, image.index_img(x_miss_img,1), \"4D fMRI Tensor Completion\",\n",
    "                                             rel_error_rec, observed_ratio, coord=None, folder=images_folder)"
   ]
  },
  {
   "cell_type": "code",
   "execution_count": null,
   "metadata": {
    "collapsed": true
   },
   "outputs": [],
   "source": [
    "estimated_val_img = mt.reconstruct_image_affine(x_true_org, estimated_val)"
   ]
  },
  {
   "cell_type": "code",
   "execution_count": null,
   "metadata": {
    "collapsed": true
   },
   "outputs": [],
   "source": [
    "estimated_val_hat = image.index_img(estimated_val_img,1)"
   ]
  },
  {
   "cell_type": "code",
   "execution_count": null,
   "metadata": {},
   "outputs": [],
   "source": [
    "images_folder = \"/work/scratch/tt3/2\"\n",
    "mrd.draw_original_vs_reconstructed_rim(image.index_img(x_true_org,1),estimated_val_hat,image.index_img(x_miss_img,1), \"4D fMRI Tensor Completion\",\n",
    "                                             rel_error_rec, observed_ratio, coord=None, folder=images_folder)"
   ]
  },
  {
   "cell_type": "code",
   "execution_count": null,
   "metadata": {
    "collapsed": true
   },
   "outputs": [],
   "source": []
  },
  {
   "cell_type": "code",
   "execution_count": null,
   "metadata": {
    "collapsed": true
   },
   "outputs": [],
   "source": [
    "tsc_score1 = tsc(x_reconstr,ground_truth_val, ten_ones, mask_indices)"
   ]
  },
  {
   "cell_type": "code",
   "execution_count": null,
   "metadata": {},
   "outputs": [],
   "source": [
    "tsc_score1"
   ]
  },
  {
   "cell_type": "code",
   "execution_count": null,
   "metadata": {
    "collapsed": true
   },
   "outputs": [],
   "source": [
    "tsc_score = tsc(estimated_val,ground_truth_val, ten_ones, mask_indices)"
   ]
  },
  {
   "cell_type": "code",
   "execution_count": null,
   "metadata": {},
   "outputs": [],
   "source": [
    "tsc_score"
   ]
  },
  {
   "cell_type": "code",
   "execution_count": null,
   "metadata": {},
   "outputs": [],
   "source": [
    "x_miss"
   ]
  },
  {
   "cell_type": "code",
   "execution_count": null,
   "metadata": {},
   "outputs": [],
   "source": [
    "print x_miss"
   ]
  },
  {
   "cell_type": "code",
   "execution_count": null,
   "metadata": {},
   "outputs": [],
   "source": [
    "output_cost = OrderedDict()\n",
    "indices = []\n",
    "\n",
    "cost_arr = []\n",
    "tsc_arr = []\n",
    "\n",
    "counter = 0\n",
    "for item in cost_history:\n",
    "    print item\n",
    "    cost_arr.append(item)\n",
    "    indices.append(counter)\n",
    "    counter = counter + 1\n",
    "    \n",
    "output_cost['k'] = indices\n",
    "output_cost['cost'] = cost_arr\n",
    "    \n",
    "output_df = pd.DataFrame(output_cost, index=indices)\n",
    "\n",
    "folder = '/work/rs1/'\n",
    "fig_id = 'solution_cost'    \n",
    "mrd.save_csv_by_path(output_df,folder,fig_id)  \n",
    "\n",
    "tsc_score_output = OrderedDict()\n",
    "tsc_score_indices = []\n",
    "\n",
    "counter = 0\n",
    "for item in tsc_score_history:\n",
    "    tsc_arr.append(item)\n",
    "    tsc_score_indices.append(counter)\n",
    "    counter = counter + 1\n",
    "\n",
    "tsc_score_output['k'] = tsc_score_indices\n",
    "tsc_score_output['tsc_cost'] = tsc_arr\n",
    "    \n",
    "output_tsc_df = pd.DataFrame(tsc_score_output, index=tsc_score_indices)\n",
    "fig_id = 'tsc_cost' \n",
    "mrd.save_csv_by_path(output_tsc_df,folder,fig_id)  "
   ]
  },
  {
   "cell_type": "code",
   "execution_count": null,
   "metadata": {},
   "outputs": [],
   "source": [
    "cost_history[1]"
   ]
  },
  {
   "cell_type": "code",
   "execution_count": null,
   "metadata": {},
   "outputs": [],
   "source": [
    "import nibabel as nib\n",
    "import os\n",
    "\n",
    "suffix = int(round((missing_ratio)*100.0, 0))\n",
    "print \"Missing Ratio: \" + str(missing_ratio)\n",
    "x_true_path = os.path.join(folder,\"x_true_img_\" + str(suffix))\n",
    "x_hat_path = os.path.join(folder,\"x_hat_img_\" + str(suffix))\n",
    "x_miss_path = os.path.join(folder,\"x_miss_img_\" + str(suffix))\n",
    "        \n",
    "print(\"x_true_path:\" + str(x_true_path))\n",
    "nib.save(x_hat_img, x_hat_path)"
   ]
  },
  {
   "cell_type": "code",
   "execution_count": null,
   "metadata": {
    "collapsed": true
   },
   "outputs": [],
   "source": []
  }
 ],
 "metadata": {
  "kernelspec": {
   "display_name": "Python 2",
   "language": "python",
   "name": "python2"
  },
  "language_info": {
   "codemirror_mode": {
    "name": "ipython",
    "version": 2
   },
   "file_extension": ".py",
   "mimetype": "text/x-python",
   "name": "python",
   "nbconvert_exporter": "python",
   "pygments_lexer": "ipython2",
   "version": "2.7.13"
  }
 },
 "nbformat": 4,
 "nbformat_minor": 2
}
