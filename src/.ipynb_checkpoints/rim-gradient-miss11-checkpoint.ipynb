{
 "cells": [
  {
   "cell_type": "code",
   "execution_count": 1,
   "metadata": {},
   "outputs": [
    {
     "name": "stderr",
     "output_type": "stream",
     "text": [
      "/usr/local/lib/python2.7/site-packages/matplotlib/__init__.py:1405: UserWarning: \n",
      "This call to matplotlib.use() has no effect because the backend has already\n",
      "been chosen; matplotlib.use() must be called *before* pylab, matplotlib.pyplot,\n",
      "or matplotlib.backends is imported for the first time.\n",
      "\n",
      "  warnings.warn(_use_error_msg)\n"
     ]
    }
   ],
   "source": [
    "import tensorflow as tf\n",
    "import numpy as np\n",
    "import t3f\n",
    "tf.set_random_seed(0)\n",
    "np.random.seed(0)\n",
    "%matplotlib inline\n",
    "import matplotlib.pyplot as plt\n",
    "import metric_util as mt\n",
    "import data_util as du\n",
    "from t3f import shapes\n",
    "from nilearn import image\n",
    "from skimage.measure import compare_ssim as ssim\n",
    "from tensorflow.python.util import nest\n",
    "import copy\n",
    "from nilearn import plotting\n",
    "from t3f import ops\n",
    "import mri_draw_utils as mrd\n",
    "from t3f import initializers\n",
    "from t3f import approximate\n",
    "from scipy import optimize "
   ]
  },
  {
   "cell_type": "code",
   "execution_count": 2,
   "metadata": {
    "collapsed": true
   },
   "outputs": [],
   "source": [
    "#sess = tf.InteractiveSession()"
   ]
  },
  {
   "cell_type": "code",
   "execution_count": 3,
   "metadata": {
    "collapsed": true
   },
   "outputs": [],
   "source": [
    "def frobenius_norm_tf_squared(x):\n",
    "    return tf.reduce_sum(x ** 2)"
   ]
  },
  {
   "cell_type": "code",
   "execution_count": 4,
   "metadata": {
    "collapsed": true
   },
   "outputs": [],
   "source": [
    "def frobenius_norm_tf(x):\n",
    "    return tf.reduce_sum(x ** 2) ** 0.5"
   ]
  },
  {
   "cell_type": "code",
   "execution_count": 5,
   "metadata": {
    "collapsed": true
   },
   "outputs": [],
   "source": [
    "def relative_error1(x_hat,x_true):\n",
    "    percent_error = frobenius_norm_tf(x_hat - x_true) / frobenius_norm_tf(x_true)\n",
    "    return percent_error"
   ]
  },
  {
   "cell_type": "code",
   "execution_count": 6,
   "metadata": {
    "collapsed": true
   },
   "outputs": [],
   "source": [
    "def innerProduct(x, y):\n",
    "    result = tf.reduce_sum(tf.multiply(x, y))\n",
    "    return result"
   ]
  },
  {
   "cell_type": "code",
   "execution_count": 7,
   "metadata": {
    "collapsed": true
   },
   "outputs": [],
   "source": [
    "def compute_step_size(n_omega, grad):\n",
    "    result = -innerProduct(n_omega,grad)/(innerProduct(n_omega, n_omega))\n",
    "    return result"
   ]
  },
  {
   "cell_type": "code",
   "execution_count": 8,
   "metadata": {
    "collapsed": true
   },
   "outputs": [],
   "source": [
    "def draw(omega, x_true, x_hat, rel_error):\n",
    "    images_folder = \"/work/scratch/tt1\"\n",
    "    ten_ones = np.ones_like(omega)\n",
    "    x_reconstr1 = mt.reconstruct2(x_hat,ground_truth, omega)\n",
    "    x_hat_img = mt.reconstruct_image_affine(x_true_org, x_reconstr1)\n",
    "    x_hat_est = image.index_img(x_hat_img,1)\n",
    "    \n",
    "    x_true_org_img = image.index_img(x_true,1)\n",
    "    x_miss_img = mt.reconstruct_image_affine(x_true_org, x_train)\n",
    "    x_miss = image.index_img(x_miss_img,1)\n",
    "    mrd.draw_original_vs_reconstructed_rim(x_true_org_img,x_hat_est, x_miss, \"Rim Completion\",\n",
    "                                             rel_error, observed_ratio, coord=None, folder=images_folder)"
   ]
  },
  {
   "cell_type": "code",
   "execution_count": 9,
   "metadata": {},
   "outputs": [
    {
     "name": "stdout",
     "output_type": "stream",
     "text": [
      "Subject Path: /work/pl/sch/analysis/data/COBRE001/swaAMAYER+cobre01_63001+M87100944+20110309at135133+RSTpre_V01_R01+CM.nii\n"
     ]
    }
   ],
   "source": [
    "subject_scan_path = du.get_full_path_subject1()\n",
    "print \"Subject Path: \" + str(subject_scan_path)\n",
    "x_true_org = mt.read_image_abs_path(subject_scan_path)\n"
   ]
  },
  {
   "cell_type": "code",
   "execution_count": null,
   "metadata": {
    "collapsed": true
   },
   "outputs": [],
   "source": []
  },
  {
   "cell_type": "code",
   "execution_count": 10,
   "metadata": {
    "collapsed": true
   },
   "outputs": [],
   "source": [
    "observed_ratio = 0.4\n",
    "x_true_img = np.array(x_true_org.get_data())\n",
    "mask_indices = (np.random.rand(x_true_img.shape[0],x_true_img.shape[1],x_true_img.shape[2], x_true_img.shape[3]) < observed_ratio).astype('int') \n",
    "ten_ones = np.ones_like(mask_indices)\n",
    "x_train = copy.deepcopy(x_true_img)\n",
    "x_train[mask_indices==0] = 0.0\n",
    "x_train[mask_indices == 0] = np.mean(x_train[mask_indices == 1])\n",
    "#x_train[mask_indices == 0] = np.mean(x_train[mask_indices == 1])\n",
    "\n",
    "x_init = copy.deepcopy(x_train)\n",
    "#shape = (1, 53, 63, 63, 1)\n",
    "#x_init_tf = t3f.random_tensor(shape, tt_rank=63)\n",
    "\n",
    "ground_truth = copy.deepcopy(x_true_img)\n",
    "a_omega = copy.deepcopy(ground_truth)\n",
    "a_omega[mask_indices==0] = 0.0\n",
    "\n",
    "sparse_observation = copy.deepcopy(ground_truth)\n",
    "sparse_observation[mask_indices==0] = 0.0"
   ]
  },
  {
   "cell_type": "code",
   "execution_count": null,
   "metadata": {
    "collapsed": true
   },
   "outputs": [],
   "source": []
  },
  {
   "cell_type": "code",
   "execution_count": 11,
   "metadata": {
    "collapsed": true
   },
   "outputs": [],
   "source": [
    "ten_ones = np.ones_like(mask_indices)\n"
   ]
  },
  {
   "cell_type": "code",
   "execution_count": 12,
   "metadata": {},
   "outputs": [
    {
     "name": "stdout",
     "output_type": "stream",
     "text": [
      "47395410.0\n"
     ]
    }
   ],
   "source": [
    "norm_sparse_observation = np.linalg.norm(sparse_observation)\n",
    "print norm_sparse_observation"
   ]
  },
  {
   "cell_type": "code",
   "execution_count": 13,
   "metadata": {},
   "outputs": [
    {
     "name": "stdout",
     "output_type": "stream",
     "text": [
      "[1, 53, 1, 1, 1] 0 (1, 53, 53)\n",
      "[1, 53, 63, 1, 1] 1 (53, 63, 63)\n",
      "[1, 53, 63, 63, 1] 2 (63, 46, 63)\n",
      "ranks: [1, 53, 63, 63, 1]\n"
     ]
    }
   ],
   "source": [
    "mask_indices_tf = t3f.to_tt_tensor(mask_indices.astype('float32'), max_tt_rank=63)"
   ]
  },
  {
   "cell_type": "code",
   "execution_count": 14,
   "metadata": {
    "collapsed": true
   },
   "outputs": [],
   "source": [
    "x_miss_img = mt.reconstruct_image_affine(x_true_org, x_train)"
   ]
  },
  {
   "cell_type": "code",
   "execution_count": 15,
   "metadata": {
    "collapsed": true
   },
   "outputs": [],
   "source": [
    "x_miss = image.index_img(x_miss_img,1)"
   ]
  },
  {
   "cell_type": "code",
   "execution_count": 16,
   "metadata": {},
   "outputs": [
    {
     "data": {
      "image/png": "[encoded data removed]",
      "text/plain": [
       "<matplotlib.figure.Figure at 0x10b79ca90>"
      ]
     },
     "metadata": {},
     "output_type": "display_data"
    }
   ],
   "source": [
    "x_miss_image = plotting.plot_epi(x_miss, bg_img=None,black_bg=True, cmap='jet', cut_coords=None) "
   ]
  },
  {
   "cell_type": "code",
   "execution_count": 17,
   "metadata": {},
   "outputs": [
    {
     "name": "stdout",
     "output_type": "stream",
     "text": [
      "('Saving figure', '/work/scratch/tt1/missing_ratio_60.00.png')\n",
      "Called from mrd\n"
     ]
    }
   ],
   "source": [
    "images_folder = \"/work/scratch/tt1\"\n",
    "mrd.draw_original_vs_reconstructed_rim(image.index_img(x_true_org,1),image.index_img(x_miss_img,1), image.index_img(x_miss_img,1), \"Rim Completion\",\n",
    "                                             observed_ratio, observed_ratio, coord=None, folder=images_folder)"
   ]
  },
  {
   "cell_type": "code",
   "execution_count": 18,
   "metadata": {},
   "outputs": [
    {
     "name": "stdout",
     "output_type": "stream",
     "text": [
      "[1, 53, 1, 1, 1] 0 (1, 53, 53)\n",
      "[1, 53, 63, 1, 1] 1 (53, 63, 63)\n",
      "[1, 53, 63, 63, 1] 2 (63, 46, 63)\n",
      "ranks: [1, 53, 63, 63, 1]\n"
     ]
    }
   ],
   "source": [
    "ground_truth_tf = t3f.to_tt_tensor(ground_truth, max_tt_rank=63)"
   ]
  },
  {
   "cell_type": "code",
   "execution_count": 19,
   "metadata": {
    "collapsed": true
   },
   "outputs": [],
   "source": [
    "A = t3f.get_variable('A', initializer=ground_truth_tf, trainable=False)"
   ]
  },
  {
   "cell_type": "code",
   "execution_count": 20,
   "metadata": {
    "collapsed": true
   },
   "outputs": [],
   "source": [
    "ground_truth = tf.get_variable('ground_truth', initializer=ground_truth, trainable=False)\n",
    "sparsity_mask = tf.get_variable('sparsity_mask', initializer=mask_indices, trainable=False)\n",
    "sparsity_mask = tf.cast(sparsity_mask,tf.float32)\n",
    "sparse_observation = ground_truth * sparsity_mask"
   ]
  },
  {
   "cell_type": "code",
   "execution_count": 21,
   "metadata": {
    "collapsed": true
   },
   "outputs": [],
   "source": [
    "#sparsity_mask = t3f.get_variable('sparsity_mask', initializer=mask_indices_tf, trainable=False)\n",
    "#sparsity_mask = t3f.cast(sparsity_mask, tf.float32)\n",
    "#sparse_observation_tf = t3f.to_tt_tensor(sparse_observation, max_tt_rank=63)\n",
    "#sparse_observation_tf3 = t3f.get_variable('sparse_observation_tf', initializer=sparse_observation_tf, trainable=False)"
   ]
  },
  {
   "cell_type": "code",
   "execution_count": 22,
   "metadata": {},
   "outputs": [
    {
     "name": "stdout",
     "output_type": "stream",
     "text": [
      "[1, 53, 1, 1, 1] 0 (1, 53, 53)\n",
      "[1, 53, 63, 1, 1] 1 (53, 63, 63)\n",
      "[1, 53, 63, 63, 1] 2 (63, 46, 63)\n",
      "ranks: [1, 53, 63, 63, 1]\n"
     ]
    }
   ],
   "source": [
    "x_train_tf = t3f.to_tt_tensor(x_init, max_tt_rank=63)"
   ]
  },
  {
   "cell_type": "code",
   "execution_count": null,
   "metadata": {
    "collapsed": true
   },
   "outputs": [],
   "source": []
  },
  {
   "cell_type": "code",
   "execution_count": 23,
   "metadata": {
    "collapsed": true
   },
   "outputs": [],
   "source": [
    "normAOmegavar = tf.get_variable('normAOmega', initializer=norm_sparse_observation, trainable=False)"
   ]
  },
  {
   "cell_type": "code",
   "execution_count": 24,
   "metadata": {
    "collapsed": true
   },
   "outputs": [],
   "source": [
    "X = t3f.get_variable('X', initializer=x_train_tf)"
   ]
  },
  {
   "cell_type": "code",
   "execution_count": 25,
   "metadata": {
    "collapsed": true
   },
   "outputs": [],
   "source": [
    "X_new = t3f.get_variable('X_new', initializer=x_train_tf)"
   ]
  },
  {
   "cell_type": "code",
   "execution_count": null,
   "metadata": {
    "collapsed": true
   },
   "outputs": [],
   "source": []
  },
  {
   "cell_type": "code",
   "execution_count": 26,
   "metadata": {},
   "outputs": [
    {
     "name": "stdout",
     "output_type": "stream",
     "text": [
      "A Tensor Train variable of shape (53, 63, 46, 144), TT-ranks: (1, 53, 63, 63, 1)\n"
     ]
    }
   ],
   "source": [
    "print X"
   ]
  },
  {
   "cell_type": "code",
   "execution_count": 27,
   "metadata": {
    "collapsed": true
   },
   "outputs": [],
   "source": [
    "def train_it_rel_cost(cost_hist, k):\n",
    "    res = np.abs(cost_hist[k] - cost_hist[k-1])/np.abs(cost_hist[k])\n",
    "    return res"
   ]
  },
  {
   "cell_type": "code",
   "execution_count": 28,
   "metadata": {
    "collapsed": true
   },
   "outputs": [],
   "source": [
    "counter = tf.get_variable('counter', initializer=0)"
   ]
  },
  {
   "cell_type": "code",
   "execution_count": 29,
   "metadata": {
    "collapsed": true
   },
   "outputs": [],
   "source": [
    "one = tf.constant(1)\n",
    "zero_point1 = tf.constant(0.1)"
   ]
  },
  {
   "cell_type": "code",
   "execution_count": 30,
   "metadata": {
    "collapsed": true
   },
   "outputs": [],
   "source": [
    "tt_zeros = initializers.tensor_zeros([53, 63, 46, 144])"
   ]
  },
  {
   "cell_type": "code",
   "execution_count": 31,
   "metadata": {
    "collapsed": true
   },
   "outputs": [],
   "source": [
    "#eta_t3f_old = t3f.get_variable('eta_t3f_old', initializer=tt_zeros)\n",
    "#grad_t3f_old = t3f.get_variable('grad_t3f_old', initializer=tt_zeros)"
   ]
  },
  {
   "cell_type": "code",
   "execution_count": 32,
   "metadata": {
    "collapsed": true
   },
   "outputs": [],
   "source": [
    "eta_old = tf.get_variable('eta_old', shape = (53, 63, 46, 144), validate_shape=False)\n",
    "grad_old = tf.get_variable('grad_old', shape = (53, 63, 46, 144), validate_shape=False)"
   ]
  },
  {
   "cell_type": "code",
   "execution_count": 33,
   "metadata": {
    "collapsed": true
   },
   "outputs": [],
   "source": [
    "one = tf.constant(1)\n",
    "zero_point1 = tf.constant(0.1)"
   ]
  },
  {
   "cell_type": "code",
   "execution_count": 34,
   "metadata": {
    "collapsed": true
   },
   "outputs": [],
   "source": [
    "\n",
    "\n",
    "def gradient(x):\n",
    "    return np.multiply(x,mask_indices) - a_omega\n",
    "    \n",
    "def cost_func(x):\n",
    "    return 0.5*(np.linalg.norm(np.multiply(x,mask_indices)-a_omega)** 2)\n",
    "\n",
    "def find_step_size(x,g,d, old_cost):\n",
    "    step_size = optimize.line_search(cost_func,gradient,x,d,gfk=None, old_fval=old_cost)"
   ]
  },
  {
   "cell_type": "code",
   "execution_count": 35,
   "metadata": {
    "collapsed": true
   },
   "outputs": [],
   "source": [
    "# Algorithm\n",
    "#grad_full = (t3f.full(X)*t3f.full(sparse_observation_tf3) - t3f.full(sparse_observation_tf3))\n",
    "#counter_step = tf.assign(counter, counter + 1)\n",
    "\n",
    "#grad_trans = t3f.riemannian.project(grad_t3f_old, X)\n",
    "#eta_trans = t3f.riemannian.project(eta_t3f_old, X)\n",
    "    \n",
    "#grad_full = sparsity_mask * t3f.full(X) - sparse_observation\n",
    "#grad_t3f = t3f.to_tt_tensor(grad_full, max_tt_rank=63)\n",
    "\n",
    "#loss = 0.5 * t3f.frobenius_norm_squared(grad_t3f)\n",
    "#gradnorm_omega = t3f.frobenius_norm(grad_t3f)/(normAOmegavar)\n",
    "\n",
    "#riemannian_grad = t3f.riemannian.project(grad_t3f, X)\n",
    "\n",
    "\n",
    "#eta_omega = sparsity_mask * t3f.full(-riemannian_grad)\n",
    "#alpha = compute_step_size(eta_omega, grad_full)\n",
    "\n",
    "\n",
    "\n",
    "#riemannian_grad_norm = t3f.flat_inner(riemannian_grad, riemannian_grad)\n",
    "\n",
    "\n",
    "\n",
    "#rel_error1 = relative_error1(t3f.full(X), t3f.full(sparse_observation))\n",
    "\n",
    "\n"
   ]
  },
  {
   "cell_type": "code",
   "execution_count": 36,
   "metadata": {
    "collapsed": true
   },
   "outputs": [],
   "source": [
    "eps = 1e-5\n",
    "epsilon_train=1e-5"
   ]
  },
  {
   "cell_type": "code",
   "execution_count": 37,
   "metadata": {
    "collapsed": true
   },
   "outputs": [],
   "source": [
    "#print grad_full"
   ]
  },
  {
   "cell_type": "code",
   "execution_count": 38,
   "metadata": {
    "collapsed": true
   },
   "outputs": [],
   "source": [
    "#print grad_t3f"
   ]
  },
  {
   "cell_type": "code",
   "execution_count": 39,
   "metadata": {},
   "outputs": [
    {
     "name": "stdout",
     "output_type": "stream",
     "text": [
      "1e-05\n"
     ]
    }
   ],
   "source": [
    "print eps"
   ]
  },
  {
   "cell_type": "code",
   "execution_count": 40,
   "metadata": {
    "collapsed": true
   },
   "outputs": [],
   "source": [
    "#alpha = 0.3\n"
   ]
  },
  {
   "cell_type": "code",
   "execution_count": 41,
   "metadata": {
    "collapsed": true
   },
   "outputs": [],
   "source": [
    "#sess = tf.Session()\n",
    "#sess.run(tf.global_variables_initializer())"
   ]
  },
  {
   "cell_type": "code",
   "execution_count": 42,
   "metadata": {
    "collapsed": true
   },
   "outputs": [],
   "source": [
    "def compute_loss(x):\n",
    "    return 0.5*frobenius_norm_tf_squared(sparsity_mask * t3f.full(x) - sparse_observation)"
   ]
  },
  {
   "cell_type": "code",
   "execution_count": null,
   "metadata": {
    "collapsed": true
   },
   "outputs": [],
   "source": []
  },
  {
   "cell_type": "code",
   "execution_count": null,
   "metadata": {
    "collapsed": true
   },
   "outputs": [],
   "source": [
    "\n"
   ]
  },
  {
   "cell_type": "code",
   "execution_count": null,
   "metadata": {
    "collapsed": true
   },
   "outputs": [],
   "source": []
  },
  {
   "cell_type": "code",
   "execution_count": null,
   "metadata": {
    "collapsed": true
   },
   "outputs": [],
   "source": []
  },
  {
   "cell_type": "code",
   "execution_count": 43,
   "metadata": {
    "collapsed": true
   },
   "outputs": [],
   "source": [
    "#first step"
   ]
  },
  {
   "cell_type": "code",
   "execution_count": 44,
   "metadata": {},
   "outputs": [
    {
     "name": "stdout",
     "output_type": "stream",
     "text": [
      "[1, 53, 1, 1, 1] 0 (1, 53, 53)\n",
      "[1, 53, 63, 1, 1] 1 (53, 63, 63)\n",
      "[1, 53, 63, 63, 1] 2 (63, 46, 63)\n",
      "ranks: [1, 53, 63, 63, 1]\n",
      "Max_TT rank63\n",
      "[1, 53, 63, 63, 1]\n",
      "Max_TT rank63\n",
      "[1, 53, 63, 63, 1]\n"
     ]
    }
   ],
   "source": [
    "zero_point1 = tf.constant(0.1)\n",
    "backtack_const = tf.constant(1e-4)\n",
    "\n",
    "initial_cost = compute_loss(X)\n",
    "cost = tf.get_variable('cost', initializer=0.0)\n",
    "cost_old = tf.get_variable('cost_old', initializer=initial_cost)\n",
    "\n",
    "grad_full_0 = sparsity_mask * t3f.full(X) - sparse_observation\n",
    "grad_t3f_0 = t3f.to_tt_tensor(grad_full_0, max_tt_rank=63)\n",
    "\n",
    "gradnorm_omega_0 = t3f.frobenius_norm(grad_t3f_0)/(normAOmegavar)\n",
    "riemannian_grad_0 = t3f.riemannian.project(grad_t3f_0, X)\n",
    "riemannian_grad_0 = t3f.round(riemannian_grad_0, max_tt_rank =63, epsilon = 1e-15)\n",
    "\n",
    "grad_t3f_old = t3f.get_variable('grad_t3f_old', initializer=riemannian_grad_0)\n",
    "\n",
    "#grad_t3f_old_op = t3f.assign(grad_t3f_old, riemannian_grad_0, validate_shape=False)\n",
    "riemannian_grad_full_0 = t3f.full(riemannian_grad_0)\n",
    "riemannian_grad_init_op = tf.assign(grad_old,riemannian_grad_full_0)\n",
    "\n",
    "eta_t3f_0 = -riemannian_grad_0\n",
    "eta_t3f_old = t3f.get_variable('eta_t3f_old', initializer=eta_t3f_0)\n",
    "\n",
    "eta_0 = -riemannian_grad_init_op\n",
    "eta_omega_0 = sparsity_mask * t3f.full(-riemannian_grad_0)\n",
    "\n",
    "alpha_0 = compute_step_size(eta_omega_0, riemannian_grad_init_op)\n",
    "eta_op_0 = tf.assign(eta_old,eta_0, validate_shape=False)\n",
    "\n",
    "train_step_0 = t3f.assign(X, t3f.round(X - alpha_0 * eta_t3f_0, max_tt_rank=63))\n",
    "\n"
   ]
  },
  {
   "cell_type": "code",
   "execution_count": 45,
   "metadata": {},
   "outputs": [
    {
     "name": "stdout",
     "output_type": "stream",
     "text": [
      "Rim 0:A Tensor Train of shape (53, 63, 46, 144), TT-ranks: (1, 53, 63, 63, 1)\n"
     ]
    }
   ],
   "source": [
    "print \"Rim 0:\" + str(riemannian_grad_0)"
   ]
  },
  {
   "cell_type": "code",
   "execution_count": 46,
   "metadata": {},
   "outputs": [
    {
     "name": "stdout",
     "output_type": "stream",
     "text": [
      "Eta 0: A Tensor Train of shape (53, 63, 46, 144), TT-ranks: (1, 53, 63, 63, 1)\n"
     ]
    }
   ],
   "source": [
    "print \"Eta 0: \" + str(eta_t3f_0)"
   ]
  },
  {
   "cell_type": "code",
   "execution_count": 47,
   "metadata": {
    "collapsed": true
   },
   "outputs": [],
   "source": [
    "#tt = t3f.round(eta_t3f_old, max_tt_rank =63, epsilon = 1e-15"
   ]
  },
  {
   "cell_type": "code",
   "execution_count": null,
   "metadata": {
    "collapsed": true
   },
   "outputs": [],
   "source": []
  },
  {
   "cell_type": "code",
   "execution_count": null,
   "metadata": {
    "collapsed": true
   },
   "outputs": [],
   "source": []
  },
  {
   "cell_type": "code",
   "execution_count": 48,
   "metadata": {
    "collapsed": true
   },
   "outputs": [],
   "source": [
    "# new\n",
    "#t3f.assign(eta_t3f_old, t3f.round(eta_t3f_old, max_tt_rank =63, epsilon = 1e-15))\n"
   ]
  },
  {
   "cell_type": "code",
   "execution_count": 49,
   "metadata": {},
   "outputs": [
    {
     "name": "stdout",
     "output_type": "stream",
     "text": [
      "[1, 53, 1, 1, 1] 0 (1, 53, 53)\n",
      "[1, 53, 63, 1, 1] 1 (53, 63, 63)\n",
      "[1, 53, 63, 63, 1] 2 (63, 46, 63)\n",
      "ranks: [1, 53, 63, 63, 1]\n",
      "Max_TT rank63\n",
      "[1, 53, 63, 63, 1]\n",
      "Rim Grad shape: A Tensor Train of shape (53, 63, 46, 144), TT-ranks: (1, 53, 63, 63, 1)\n",
      "eta_trans: A Tensor Train of shape (53, 63, 46, 144), TT-ranks: (1, 106, 126, 126, 1)\n",
      "steepest descent\n",
      "conjugate gradient\n",
      "Max_TT rank63\n",
      "[1, 53, 63, 63, 1]\n",
      "[1, 53, 1, 1, 1] 0 (1, 53, 53)\n",
      "[1, 53, 63, 1, 1] 1 (53, 63, 63)\n",
      "[1, 53, 63, 63, 1] 2 (63, 46, 63)\n",
      "ranks: [1, 53, 63, 63, 1]\n",
      "eta: A Tensor Train of shape (53, 63, 46, 144), TT-ranks: (1, 53, 63, 63, 1)\n"
     ]
    }
   ],
   "source": [
    "counter_step = tf.assign(counter, counter + 1)\n",
    "\n",
    "grad_trans = t3f.riemannian.project(grad_t3f_old, X)\n",
    "eta_trans = t3f.riemannian.project(eta_t3f_old, X)\n",
    "    \n",
    "grad_full = sparsity_mask * t3f.full(X) - sparse_observation\n",
    "grad_t3f = t3f.to_tt_tensor(grad_full, max_tt_rank=63)\n",
    "\n",
    "loss = 0.5 * t3f.frobenius_norm_squared(grad_t3f)\n",
    "gradnorm_omega = t3f.frobenius_norm(grad_t3f)/(normAOmegavar)\n",
    "\n",
    "riemannian_grad =  t3f.round(t3f.riemannian.project(grad_t3f, X),max_tt_rank =63)\n",
    "#riemannian_grad = t3f.round(riemannian_grad, max_tt_rank =63, epsilon = 1e-15)\n",
    "\n",
    "inner_product_rim_grad = t3f.flat_inner(riemannian_grad, riemannian_grad)\n",
    "ip_xitrans_xi = t3f.flat_inner(grad_trans,riemannian_grad)\n",
    "theta = ip_xitrans_xi / inner_product_rim_grad\n",
    "\n",
    "def get_theta():\n",
    "    return t3f.full(ip_xitrans_xi / inner_product_rim_grad)\n",
    "\n",
    "def get_value_zero_point1():\n",
    "    return zero_point1\n",
    "    \n",
    "def get_conj_dir():\n",
    "    print \"conjugate gradient\"\n",
    "    tf.Print(zero_point1,[zero_point1],message=\"conjugate gradient\")\n",
    "    return t3f.full(approximate.add_n([-riemannian_grad, beta*eta_trans], max_tt_rank=63))\n",
    "\n",
    "def get_rim_grad():\n",
    "    print \"steepest descent\"\n",
    "    tf.Print(zero_point1,[zero_point1],message=\"steepest descent\")\n",
    "    return t3f.full(-riemannian_grad)\n",
    "\n",
    "# compute beta\n",
    "inner_product_rim_grad_old = t3f.flat_inner(grad_t3f_old, grad_t3f_old)\n",
    "beta = tf.maximum(0.0, (inner_product_rim_grad - ip_xitrans_xi)/inner_product_rim_grad_old)\n",
    "#eta = -riemannian_grad + beta*eta_trans\n",
    "\n",
    "print \"Rim Grad shape: \" + str(riemannian_grad)\n",
    "print \"eta_trans: \" + str(eta_trans)\n",
    "\n",
    "eta_cond = tf.cond((theta >= zero_point1), get_rim_grad, get_conj_dir)\n",
    "\n",
    "#eta = tf.case([(tf.greater_equal(theta_full,zero_point1), get_rim_grad)], default=get_conj_dir, exclusive=True)\n",
    "#eta = approximate.add_n([-riemannian_grad, beta*eta_trans], max_tt_rank=63)\n",
    "eta = t3f.to_tt_tensor(eta_cond, max_tt_rank=63)\n",
    "\n",
    "inprod_grad_eta = t3f.flat_inner(riemannian_grad,eta)\n",
    "#\n",
    "#eta_full = t3f.full(eta)\n",
    "\n",
    "print \"eta: \" + str(eta)\n",
    "#print \"eta1: \" + str(eta1)\n",
    "                                            \n",
    "#(1, 106, 126, 126, 1)\n",
    "\n",
    "eta_omega = sparsity_mask * t3f.full(eta)\n",
    "alpha = compute_step_size(eta_omega, grad_full)"
   ]
  },
  {
   "cell_type": "code",
   "execution_count": null,
   "metadata": {
    "collapsed": true
   },
   "outputs": [],
   "source": []
  },
  {
   "cell_type": "code",
   "execution_count": 50,
   "metadata": {
    "collapsed": true
   },
   "outputs": [],
   "source": [
    "#eta1 = tf.cond((theta > zero_point1), get_rim_grad, get_conj_dir)"
   ]
  },
  {
   "cell_type": "code",
   "execution_count": 51,
   "metadata": {},
   "outputs": [
    {
     "name": "stdout",
     "output_type": "stream",
     "text": [
      "A Tensor Train of shape (53, 63, 46, 144), TT-ranks: (1, 53, 63, 63, 1)\n"
     ]
    }
   ],
   "source": [
    "print eta"
   ]
  },
  {
   "cell_type": "code",
   "execution_count": null,
   "metadata": {
    "collapsed": true
   },
   "outputs": [],
   "source": []
  },
  {
   "cell_type": "code",
   "execution_count": null,
   "metadata": {
    "collapsed": true
   },
   "outputs": [],
   "source": []
  },
  {
   "cell_type": "code",
   "execution_count": null,
   "metadata": {
    "collapsed": true
   },
   "outputs": [],
   "source": []
  },
  {
   "cell_type": "code",
   "execution_count": null,
   "metadata": {
    "collapsed": true
   },
   "outputs": [],
   "source": []
  },
  {
   "cell_type": "code",
   "execution_count": null,
   "metadata": {
    "collapsed": true
   },
   "outputs": [],
   "source": [
    "    "
   ]
  },
  {
   "cell_type": "code",
   "execution_count": null,
   "metadata": {
    "collapsed": true
   },
   "outputs": [],
   "source": []
  },
  {
   "cell_type": "code",
   "execution_count": null,
   "metadata": {
    "collapsed": true
   },
   "outputs": [],
   "source": [
    " "
   ]
  },
  {
   "cell_type": "code",
   "execution_count": null,
   "metadata": {
    "collapsed": true
   },
   "outputs": [],
   "source": []
  },
  {
   "cell_type": "code",
   "execution_count": null,
   "metadata": {
    "collapsed": true
   },
   "outputs": [],
   "source": []
  },
  {
   "cell_type": "code",
   "execution_count": null,
   "metadata": {
    "collapsed": true
   },
   "outputs": [],
   "source": []
  },
  {
   "cell_type": "code",
   "execution_count": null,
   "metadata": {
    "collapsed": true
   },
   "outputs": [],
   "source": []
  },
  {
   "cell_type": "code",
   "execution_count": null,
   "metadata": {
    "collapsed": true
   },
   "outputs": [],
   "source": []
  },
  {
   "cell_type": "code",
   "execution_count": null,
   "metadata": {
    "collapsed": true
   },
   "outputs": [],
   "source": []
  },
  {
   "cell_type": "code",
   "execution_count": null,
   "metadata": {
    "collapsed": true
   },
   "outputs": [],
   "source": []
  },
  {
   "cell_type": "code",
   "execution_count": null,
   "metadata": {
    "collapsed": true
   },
   "outputs": [],
   "source": []
  },
  {
   "cell_type": "code",
   "execution_count": null,
   "metadata": {
    "collapsed": true
   },
   "outputs": [],
   "source": []
  },
  {
   "cell_type": "code",
   "execution_count": 52,
   "metadata": {
    "collapsed": true
   },
   "outputs": [],
   "source": [
    "cost_old_update = compute_loss(X)\n",
    "cost_old_op = tf.assign(cost_old,cost_old_update)"
   ]
  },
  {
   "cell_type": "code",
   "execution_count": null,
   "metadata": {
    "collapsed": true
   },
   "outputs": [],
   "source": []
  },
  {
   "cell_type": "code",
   "execution_count": null,
   "metadata": {
    "collapsed": true
   },
   "outputs": [],
   "source": []
  },
  {
   "cell_type": "code",
   "execution_count": 53,
   "metadata": {},
   "outputs": [
    {
     "name": "stdout",
     "output_type": "stream",
     "text": [
      "Max_TT rank63\n",
      "[1, 53, 63, 63, 1]\n"
     ]
    }
   ],
   "source": [
    "train_step = t3f.assign(X, t3f.round(X + alpha * eta, max_tt_rank=63))"
   ]
  },
  {
   "cell_type": "code",
   "execution_count": 54,
   "metadata": {
    "collapsed": true
   },
   "outputs": [],
   "source": [
    "updated_cost = compute_loss(train_step)\n",
    "cost_op = tf.assign(cost,updated_cost)"
   ]
  },
  {
   "cell_type": "code",
   "execution_count": 55,
   "metadata": {
    "collapsed": true
   },
   "outputs": [],
   "source": [
    "eta_update_op = t3f.assign(eta_t3f_old, eta,use_locking = True)"
   ]
  },
  {
   "cell_type": "code",
   "execution_count": 56,
   "metadata": {
    "collapsed": true
   },
   "outputs": [],
   "source": [
    "grad_update_op = t3f.assign(grad_t3f_old, riemannian_grad)"
   ]
  },
  {
   "cell_type": "code",
   "execution_count": 57,
   "metadata": {},
   "outputs": [
    {
     "name": "stdout",
     "output_type": "stream",
     "text": [
      "Tensor(\"div_1:0\", shape=(), dtype=float32)\n"
     ]
    }
   ],
   "source": [
    "print alpha_0"
   ]
  },
  {
   "cell_type": "code",
   "execution_count": 58,
   "metadata": {},
   "outputs": [
    {
     "name": "stdout",
     "output_type": "stream",
     "text": [
      "Tensor(\"div_3:0\", shape=(), dtype=float32)\n"
     ]
    }
   ],
   "source": [
    "print theta"
   ]
  },
  {
   "cell_type": "code",
   "execution_count": 59,
   "metadata": {},
   "outputs": [
    {
     "name": "stdout",
     "output_type": "stream",
     "text": [
      "Tensor(\"Const_7:0\", shape=(), dtype=float32)\n"
     ]
    }
   ],
   "source": [
    "print zero_point1"
   ]
  },
  {
   "cell_type": "code",
   "execution_count": null,
   "metadata": {
    "collapsed": true
   },
   "outputs": [],
   "source": []
  },
  {
   "cell_type": "code",
   "execution_count": null,
   "metadata": {
    "collapsed": true
   },
   "outputs": [],
   "source": []
  },
  {
   "cell_type": "code",
   "execution_count": null,
   "metadata": {
    "collapsed": true
   },
   "outputs": [],
   "source": []
  },
  {
   "cell_type": "code",
   "execution_count": null,
   "metadata": {
    "collapsed": true
   },
   "outputs": [],
   "source": []
  },
  {
   "cell_type": "code",
   "execution_count": null,
   "metadata": {
    "collapsed": true
   },
   "outputs": [],
   "source": []
  },
  {
   "cell_type": "code",
   "execution_count": null,
   "metadata": {
    "collapsed": true
   },
   "outputs": [],
   "source": []
  },
  {
   "cell_type": "code",
   "execution_count": null,
   "metadata": {
    "collapsed": true
   },
   "outputs": [],
   "source": []
  },
  {
   "cell_type": "code",
   "execution_count": null,
   "metadata": {
    "collapsed": true
   },
   "outputs": [],
   "source": []
  },
  {
   "cell_type": "code",
   "execution_count": null,
   "metadata": {
    "collapsed": true
   },
   "outputs": [],
   "source": []
  },
  {
   "cell_type": "code",
   "execution_count": null,
   "metadata": {
    "collapsed": true
   },
   "outputs": [],
   "source": []
  },
  {
   "cell_type": "code",
   "execution_count": null,
   "metadata": {
    "collapsed": true
   },
   "outputs": [],
   "source": []
  },
  {
   "cell_type": "code",
   "execution_count": null,
   "metadata": {
    "collapsed": true
   },
   "outputs": [],
   "source": []
  },
  {
   "cell_type": "code",
   "execution_count": null,
   "metadata": {
    "collapsed": true
   },
   "outputs": [],
   "source": []
  },
  {
   "cell_type": "code",
   "execution_count": null,
   "metadata": {
    "collapsed": true
   },
   "outputs": [],
   "source": []
  },
  {
   "cell_type": "code",
   "execution_count": null,
   "metadata": {
    "collapsed": true
   },
   "outputs": [],
   "source": []
  },
  {
   "cell_type": "code",
   "execution_count": null,
   "metadata": {
    "collapsed": true
   },
   "outputs": [],
   "source": []
  },
  {
   "cell_type": "code",
   "execution_count": null,
   "metadata": {
    "collapsed": true
   },
   "outputs": [],
   "source": []
  },
  {
   "cell_type": "code",
   "execution_count": null,
   "metadata": {
    "collapsed": true
   },
   "outputs": [],
   "source": []
  },
  {
   "cell_type": "code",
   "execution_count": null,
   "metadata": {
    "collapsed": true
   },
   "outputs": [],
   "source": []
  },
  {
   "cell_type": "code",
   "execution_count": 60,
   "metadata": {
    "collapsed": true
   },
   "outputs": [],
   "source": [
    "#t3f.round(-riemannian_grad + beta*eta_trans, max_tt_rank=[eta_trans])"
   ]
  },
  {
   "cell_type": "code",
   "execution_count": null,
   "metadata": {
    "collapsed": true
   },
   "outputs": [],
   "source": []
  },
  {
   "cell_type": "code",
   "execution_count": null,
   "metadata": {
    "collapsed": true
   },
   "outputs": [],
   "source": []
  },
  {
   "cell_type": "code",
   "execution_count": null,
   "metadata": {
    "collapsed": true
   },
   "outputs": [],
   "source": []
  },
  {
   "cell_type": "code",
   "execution_count": null,
   "metadata": {
    "collapsed": true
   },
   "outputs": [],
   "source": []
  },
  {
   "cell_type": "code",
   "execution_count": null,
   "metadata": {
    "collapsed": true
   },
   "outputs": [],
   "source": []
  },
  {
   "cell_type": "code",
   "execution_count": 61,
   "metadata": {
    "collapsed": true
   },
   "outputs": [],
   "source": [
    "#eta_update_op = t3f.assign(eta_t3f_old, eta,validate_shape=False, use_locking = True)"
   ]
  },
  {
   "cell_type": "code",
   "execution_count": 62,
   "metadata": {
    "collapsed": true
   },
   "outputs": [],
   "source": [
    "#grad_update_op = t3f.assign(grad_t3f_old, riemannian_grad)"
   ]
  },
  {
   "cell_type": "code",
   "execution_count": null,
   "metadata": {
    "collapsed": true
   },
   "outputs": [],
   "source": []
  },
  {
   "cell_type": "code",
   "execution_count": null,
   "metadata": {
    "collapsed": true
   },
   "outputs": [],
   "source": []
  },
  {
   "cell_type": "code",
   "execution_count": null,
   "metadata": {
    "collapsed": true
   },
   "outputs": [],
   "source": []
  },
  {
   "cell_type": "code",
   "execution_count": null,
   "metadata": {
    "collapsed": true
   },
   "outputs": [],
   "source": []
  },
  {
   "cell_type": "code",
   "execution_count": 63,
   "metadata": {
    "collapsed": true
   },
   "outputs": [],
   "source": [
    "sess = tf.Session()\n",
    "sess.run(tf.global_variables_initializer())"
   ]
  },
  {
   "cell_type": "code",
   "execution_count": 64,
   "metadata": {},
   "outputs": [
    {
     "name": "stdout",
     "output_type": "stream",
     "text": [
      "0.24615465 1.0 167078700000000.0 0.0\n"
     ]
    }
   ],
   "source": [
    "log = []\n",
    "train_loss_hist = []\n",
    "#for i in range(1000):\n",
    "gradnorm_val, alpha_val, eta_op_0_val,cost_old_val, cost_val, _ = sess.run([gradnorm_omega_0, alpha_0, eta_op_0, cost_old, cost, train_step_0.op])\n",
    "print gradnorm_val, alpha_val,cost_old_val, cost_val"
   ]
  },
  {
   "cell_type": "code",
   "execution_count": 65,
   "metadata": {},
   "outputs": [
    {
     "name": "stdout",
     "output_type": "stream",
     "text": [
      "A Tensor Train of shape (53, 63, 46, 144), TT-ranks: (1, 106, 126, 126, 1)\n"
     ]
    }
   ],
   "source": [
    "print grad_trans"
   ]
  },
  {
   "cell_type": "code",
   "execution_count": null,
   "metadata": {
    "collapsed": true
   },
   "outputs": [],
   "source": []
  },
  {
   "cell_type": "code",
   "execution_count": null,
   "metadata": {
    "collapsed": true
   },
   "outputs": [],
   "source": []
  },
  {
   "cell_type": "code",
   "execution_count": null,
   "metadata": {
    "collapsed": true
   },
   "outputs": [],
   "source": []
  },
  {
   "cell_type": "code",
   "execution_count": 66,
   "metadata": {
    "collapsed": true
   },
   "outputs": [],
   "source": [
    "#x_k, grad_k, eta_k = sess.run([t3f.full(X),t3f.full(grad_t3f_old), t3f.full(eta_t3f_old)])"
   ]
  },
  {
   "cell_type": "code",
   "execution_count": 67,
   "metadata": {
    "collapsed": true
   },
   "outputs": [],
   "source": [
    "#scipy_step_size = find_step_size(x_k,grad_k,eta_k, cost_old_val)"
   ]
  },
  {
   "cell_type": "code",
   "execution_count": 68,
   "metadata": {
    "collapsed": true
   },
   "outputs": [],
   "source": [
    "#print \"scipy_step_size: \" + str(scipy_step_size)"
   ]
  },
  {
   "cell_type": "code",
   "execution_count": null,
   "metadata": {
    "collapsed": true
   },
   "outputs": [],
   "source": []
  },
  {
   "cell_type": "code",
   "execution_count": 69,
   "metadata": {
    "collapsed": true
   },
   "outputs": [],
   "source": [
    "#sess.run([loss])"
   ]
  },
  {
   "cell_type": "code",
   "execution_count": 70,
   "metadata": {
    "collapsed": true
   },
   "outputs": [],
   "source": [
    "#sess.run([theta])"
   ]
  },
  {
   "cell_type": "code",
   "execution_count": 71,
   "metadata": {
    "collapsed": true
   },
   "outputs": [],
   "source": [
    "#print theta"
   ]
  },
  {
   "cell_type": "code",
   "execution_count": 72,
   "metadata": {
    "collapsed": true
   },
   "outputs": [],
   "source": [
    "#sess.run([eta_trans])"
   ]
  },
  {
   "cell_type": "code",
   "execution_count": 73,
   "metadata": {
    "collapsed": true
   },
   "outputs": [],
   "source": [
    "#sess.run([eta])"
   ]
  },
  {
   "cell_type": "code",
   "execution_count": 74,
   "metadata": {
    "collapsed": true
   },
   "outputs": [],
   "source": [
    "#sess.run([train_step.op])"
   ]
  },
  {
   "cell_type": "code",
   "execution_count": null,
   "metadata": {
    "collapsed": true
   },
   "outputs": [],
   "source": []
  },
  {
   "cell_type": "code",
   "execution_count": null,
   "metadata": {
    "collapsed": true
   },
   "outputs": [],
   "source": []
  },
  {
   "cell_type": "code",
   "execution_count": 75,
   "metadata": {
    "collapsed": true
   },
   "outputs": [],
   "source": [
    "#def backtrack(t, sess):\n",
    "#    t = t * 0.5\n",
    "#    return t3f.assign(X, t3f.round(X - t * eta, max_tt_rank=63))"
   ]
  },
  {
   "cell_type": "code",
   "execution_count": null,
   "metadata": {
    "collapsed": true
   },
   "outputs": [],
   "source": [
    "\n",
    "    "
   ]
  },
  {
   "cell_type": "code",
   "execution_count": null,
   "metadata": {
    "collapsed": true
   },
   "outputs": [],
   "source": []
  },
  {
   "cell_type": "code",
   "execution_count": 76,
   "metadata": {
    "collapsed": true
   },
   "outputs": [],
   "source": [
    "def loss_func(x, y):\n",
    "    return 0.5*(np.linalg.norm(x - y)** 2)\n",
    "    "
   ]
  },
  {
   "cell_type": "code",
   "execution_count": 77,
   "metadata": {
    "collapsed": true
   },
   "outputs": [],
   "source": [
    "def is_nan(x):\n",
    "    return (x is np.nan or x != x)"
   ]
  },
  {
   "cell_type": "code",
   "execution_count": 78,
   "metadata": {
    "collapsed": true
   },
   "outputs": [],
   "source": [
    "backtrack_const = 1e-4 "
   ]
  },
  {
   "cell_type": "code",
   "execution_count": 79,
   "metadata": {
    "collapsed": true
   },
   "outputs": [],
   "source": [
    "#sess.run([loss, gradnorm_omega, alpha, theta, eta_update_op, grad_update_op, train_step.op])"
   ]
  },
  {
   "cell_type": "code",
   "execution_count": 80,
   "metadata": {},
   "outputs": [
    {
     "name": "stdout",
     "output_type": "stream",
     "text": [
      "alpha_val: 2.4887774\n",
      "theta_val: 0.7138214\n",
      "inprod_grad_eta_val: -256221680000000.0\n",
      "Cost New: 4978111400000.0\n",
      "Cost Old: 323811680000000.0\n",
      "armijo: True\n",
      "(133266030000000.0, 1, 0.34445974, 2.4887774, 0.7138214, 0.5609109, 323811680000000.0, 4978111400000.0)\n",
      "alpha_val: 2.3981068\n",
      "theta_val: 0.097273074\n",
      "inprod_grad_eta_val: -3109626800000.0\n",
      "Cost New: 1208275000000.0\n",
      "Cost Old: 4978111400000.0\n",
      "armijo: True\n",
      "(1697219700000.0, 2, 0.038872976, 7.8611617, 2.3981068, 0.097273074, 0.010945612, 4978111400000.0, 1208275000000.0)\n",
      "alpha_val: 2.2949393\n",
      "theta_val: 0.04596721\n",
      "inprod_grad_eta_val: -760361500000.0\n",
      "Cost New: 297455120000.0\n",
      "Cost Old: 1208275000000.0\n",
      "armijo: True\n",
      "(435539150000.0, 3, 0.019692114, 0.97403777, 2.2949393, 0.04596721, 0.23102918, 1208275000000.0, 297455120000.0)\n",
      "alpha_val: 2.4014194\n",
      "theta_val: 0.37846285\n",
      "inprod_grad_eta_val: -154508870000.0\n",
      "Cost New: 107339150000.0\n",
      "Cost Old: 297455120000.0\n",
      "armijo: True\n",
      "(99151905000.0, 4, 0.009395703, 1.0958638, 2.4014194, 0.37846285, 0.12764871, 297455120000.0, 107339150000.0)\n",
      "alpha_val: 2.242011\n",
      "theta_val: 0.06258597\n",
      "inprod_grad_eta_val: -33601378000.0\n",
      "Cost New: 67098920000.0\n",
      "Cost Old: 107339150000.0\n",
      "armijo: True\n",
      "(32141480000.0, 5, 0.005349481, 0.7563765, 2.242011, 0.06258597, 0.20395528, 107339150000.0, 67098920000.0)\n",
      "alpha_val: 2.5743592\n",
      "theta_val: 0.17103156\n",
      "inprod_grad_eta_val: -16120736000.0\n",
      "Cost New: 44878545000.0\n",
      "Cost Old: 67098920000.0\n",
      "armijo: True\n",
      "(18683337000.0, 6, 0.0040785517, 0.3116129, 2.5743592, 0.17103156, 0.39752614, 67098920000.0, 44878545000.0)\n",
      "alpha_val: 1.869475\n",
      "theta_val: 0.018422024\n",
      "inprod_grad_eta_val: -7805901000.0\n",
      "Cost New: 37015556000.0\n",
      "Cost Old: 44878545000.0\n",
      "armijo: True\n",
      "(11013049000.0, 7, 0.0031313566, 0.30248713, 1.869475, 0.018422024, 0.48353434, 44878545000.0, 37015556000.0)\n",
      "alpha_val: 2.6472373\n",
      "theta_val: 0.2521306\n",
      "inprod_grad_eta_val: -5219356700.0\n",
      "Cost New: 29529215000.0\n",
      "Cost Old: 37015556000.0\n",
      "armijo: True\n",
      "(8196706000.0, 8, 0.0027014592, 0.15913524, 2.6472373, 0.2521306, 0.49153507, 37015556000.0, 29529215000.0)\n",
      "alpha_val: 1.7111639\n",
      "theta_val: -0.033162326\n",
      "inprod_grad_eta_val: -3398318000.0\n",
      "Cost New: 26274870000.0\n",
      "Cost Old: 29529215000.0\n",
      "armijo: True\n",
      "(6056476000.0, 9, 0.0023221418, 0.1633481, 1.7111639, -0.033162326, 0.7206474, 29529215000.0, 26274870000.0)\n",
      "alpha_val: 2.6382482\n",
      "theta_val: 0.30053964\n",
      "inprod_grad_eta_val: -2791689200.0\n",
      "Cost New: 22553008000.0\n",
      "Cost Old: 26274870000.0\n",
      "armijo: True\n",
      "(4985337300.0, 10, 0.002106813, 0.10220592, 2.6382482, 0.30053964, 0.5363649, 26274870000.0, 22553008000.0)\n",
      "alpha_val: 1.5427457\n",
      "theta_val: -0.131378\n",
      "inprod_grad_eta_val: -1723945600.0\n",
      "Cost New: 21105684000.0\n",
      "Cost Old: 22553008000.0\n",
      "armijo: True\n",
      "(4073598200.0, 11, 0.0019044423, 0.10626244, 1.5427457, -0.131378, 0.8444516, 22553008000.0, 21105684000.0)\n",
      "alpha_val: 2.6104004\n",
      "theta_val: 0.31137237\n",
      "inprod_grad_eta_val: -1829266300.0\n",
      "Cost New: 18842341000.0\n",
      "Cost Old: 21105684000.0\n",
      "armijo: True\n",
      "(3635237400.0, 12, 0.0017990578, 0.05857761, 2.6104004, 0.31137237, 0.60454226, 21105684000.0, 18842341000.0)\n",
      "alpha_val: 1.4006495\n",
      "theta_val: -0.2136956\n",
      "inprod_grad_eta_val: -1043925200.0\n",
      "Cost New: 18049330000.0\n",
      "Cost Old: 18842341000.0\n",
      "armijo: True\n",
      "(3179308500.0, 13, 0.0016824612, 0.069301195, 1.4006495, -0.2136956, 0.94291383, 18842341000.0, 18049330000.0)\n",
      "alpha_val: 2.524917\n",
      "theta_val: 0.37342188\n",
      "inprod_grad_eta_val: -1316409500.0\n",
      "Cost New: 16590568000.0\n",
      "Cost Old: 18049330000.0\n",
      "armijo: True\n",
      "(2950386200.0, 14, 0.001620758, 0.038070623, 2.524917, 0.37342188, 0.5803987, 18049330000.0, 16590568000.0)\n",
      "alpha_val: 1.3173312\n",
      "theta_val: -0.27053595\n",
      "inprod_grad_eta_val: -676721150.0\n",
      "Cost New: 16116916000.0\n",
      "Cost Old: 16590568000.0\n",
      "armijo: True\n",
      "(2686858500.0, 15, 0.0015466823, 0.047893256, 1.3173312, -0.27053595, 0.963091, 16590568000.0, 16116916000.0)\n",
      "alpha_val: 2.428403\n",
      "theta_val: 0.40579417\n",
      "inprod_grad_eta_val: -956339260.0\n",
      "Cost New: 15173275000.0\n",
      "Cost Old: 16116916000.0\n",
      "armijo: True\n",
      "(2548858400.0, 16, 0.0015064392, 0.026714087, 2.428403, 0.40579417, 0.56947863, 16116916000.0, 15173275000.0)\n",
      "alpha_val: 1.2079085\n",
      "theta_val: -0.35357934\n",
      "inprod_grad_eta_val: -420537950.0\n",
      "Cost New: 14907477000.0\n",
      "Cost Old: 15173275000.0\n",
      "armijo: True\n",
      "(2381501700.0, 17, 0.0014561435, 0.034540366, 1.2079085, -0.35357934, 1.0392779, 15173275000.0, 14907477000.0)\n",
      "alpha_val: 2.3011768\n",
      "theta_val: 0.4377306\n",
      "inprod_grad_eta_val: -748881700.0\n",
      "Cost New: 14263745000.0\n",
      "Cost Old: 14907477000.0\n",
      "armijo: True\n",
      "(2325542100.0, 18, 0.0014389339, 0.011959938, 2.3011768, 0.4377306, 0.57345396, 14907477000.0, 14263745000.0)\n",
      "alpha_val: 1.1136512\n",
      "theta_val: -0.41992438\n",
      "inprod_grad_eta_val: -275276740.0\n",
      "Cost New: 14120854000.0\n",
      "Cost Old: 14263745000.0\n",
      "armijo: True\n",
      "(2217842400.0, 19, 0.0014052192, 0.023992479, 1.1136512, -0.41992438, 1.0051177, 14263745000.0, 14120854000.0)\n",
      "alpha_val: 2.1416366\n",
      "theta_val: 0.4526688\n",
      "inprod_grad_eta_val: -546728200.0\n",
      "Cost New: 13727933000.0\n",
      "Cost Old: 14120854000.0\n",
      "armijo: True\n",
      "(2193022200.0, 20, 0.001397334, 0.005643002, 2.1416366, 0.4526688, 0.5644906, 14120854000.0, 13727933000.0)\n",
      "alpha_val: 0.95454514\n",
      "theta_val: -0.46417853\n",
      "inprod_grad_eta_val: -176171410.0\n",
      "Cost New: 13653097000.0\n",
      "Cost Old: 13727933000.0\n",
      "armijo: True\n",
      "(2127018100.0, 21, 0.0013761454, 0.015397091, 0.95454514, -0.46417853, 1.1175311, 13727933000.0, 13653097000.0)\n",
      "alpha_val: 1.981087\n",
      "theta_val: 0.51193684\n",
      "inprod_grad_eta_val: -440149400.0\n",
      "Cost New: 13386578000.0\n",
      "Cost Old: 13653097000.0\n",
      "armijo: True\n",
      "(2122449000.0, 22, 0.0013746666, 0.0010757691, 1.981087, 0.51193684, 0.51480156, 13653097000.0, 13386578000.0)\n",
      "alpha_val: 0.86022663\n",
      "theta_val: -0.53691846\n",
      "inprod_grad_eta_val: -113619730.0\n",
      "Cost New: 13350870000.0\n",
      "Cost Old: 13386578000.0\n",
      "armijo: True\n",
      "(2071619200.0, 23, 0.001358106, 0.012193853, 0.86022663, -0.53691846, 1.0615697, 13386578000.0, 13350870000.0)\n",
      "alpha_val: 1.7913605\n",
      "theta_val: 0.51733536\n",
      "inprod_grad_eta_val: -344211400.0\n",
      "Cost New: 13182085000.0\n",
      "Cost Old: 13350870000.0\n",
      "armijo: True\n",
      "(2075195100.0, 24, 0.0013592778, 0.00086201675, 1.7913605, 0.51733536, 0.54647756, 13350870000.0, 13182085000.0)\n",
      "alpha_val: 0.729178\n",
      "theta_val: -0.5437766\n",
      "inprod_grad_eta_val: -85025370.0\n",
      "Cost New: 13164976000.0\n",
      "Cost Old: 13182085000.0\n",
      "armijo: True\n",
      "(2038270300.0, 25, 0.0013471304, 0.0090172095, 0.729178, -0.5437766, 1.104182, 13182085000.0, 13164976000.0)\n",
      "alpha_val: 1.5729104\n",
      "theta_val: 0.5303106\n",
      "inprod_grad_eta_val: -271486820.0\n",
      "Cost New: 13063250000.0\n",
      "Cost Old: 13164976000.0\n",
      "armijo: True\n",
      "(2041298400.0, 26, 0.0013481306, 0.0007419462, 1.5729104, 0.5303106, 0.517937, 13164976000.0, 13063250000.0)\n",
      "alpha_val: 0.6088071\n",
      "theta_val: -0.5328057\n",
      "inprod_grad_eta_val: -68761260.0\n",
      "Cost New: 13052954000.0\n",
      "Cost Old: 13063250000.0\n",
      "armijo: True\n",
      "(2011827000.0, 27, 0.0013383634, 0.0072979024, 0.6088071, -0.5328057, 1.1441493, 13063250000.0, 13052954000.0)\n",
      "alpha_val: 1.4161892\n",
      "theta_val: 0.5381266\n",
      "inprod_grad_eta_val: -224148900.0\n",
      "Cost New: 12983721000.0\n",
      "Cost Old: 13052954000.0\n",
      "armijo: True\n",
      "(2016357900.0, 28, 0.0013398697, 0.0011242122, 1.4161892, 0.5381266, 0.510876, 13052954000.0, 12983721000.0)\n",
      "alpha_val: 0.5726027\n",
      "theta_val: -0.54760736\n",
      "inprod_grad_eta_val: -51867532.0\n",
      "Cost New: 12976440000.0\n",
      "Cost Old: 12983721000.0\n",
      "armijo: True\n",
      "(1997018000.0, 29, 0.0013334284, 0.0048306, 0.5726027, -0.54760736, 1.1903961, 12983721000.0, 12976440000.0)\n",
      "alpha_val: 1.2954844\n",
      "theta_val: 0.5076077\n",
      "inprod_grad_eta_val: -202827820.0\n",
      "Cost New: 12922958000.0\n",
      "Cost Old: 12976440000.0\n",
      "armijo: True\n",
      "(2001883300.0, 30, 0.0013350518, 0.0012159914, 1.2954844, 0.5076077, 0.57925814, 12976440000.0, 12922958000.0)\n",
      "alpha_val: 0.511052\n",
      "theta_val: -0.57291853\n",
      "inprod_grad_eta_val: -44379560.0\n",
      "Cost New: 12918229000.0\n",
      "Cost Old: 12922958000.0\n",
      "armijo: True\n",
      "(1986980200.0, 31, 0.0013300731, 0.0037432034, 0.511052, -0.57291853, 1.1526362, 12922958000.0, 12918229000.0)\n",
      "alpha_val: 1.131356\n",
      "theta_val: 0.5006309\n",
      "inprod_grad_eta_val: -174739170.0\n",
      "Cost New: 12884239000.0\n",
      "Cost Old: 12918229000.0\n",
      "armijo: True\n",
      "(1991588100.0, 32, 0.0013316144, 0.0011574964, 1.131356, 0.5006309, 0.5870819, 12918229000.0, 12884239000.0)\n",
      "alpha_val: 0.4709354\n",
      "theta_val: -0.50345474\n",
      "inprod_grad_eta_val: -52795570.0\n",
      "Cost New: 12881389000.0\n",
      "Cost Old: 12884239000.0\n",
      "armijo: True\n",
      "(1976909200.0, 33, 0.001326698, 0.0037057807, 0.4709354, -0.50345474, 1.0769079, 12884239000.0, 12881389000.0)\n"
     ]
    },
    {
     "name": "stdout",
     "output_type": "stream",
     "text": [
      "alpha_val: 0.98837495\n",
      "theta_val: 0.40871197\n",
      "inprod_grad_eta_val: -148005920.0\n",
      "Cost New: 12859218000.0\n",
      "Cost Old: 12881389000.0\n",
      "armijo: True\n",
      "(1980507400.0, 34, 0.0013279049, 0.0009088585, 0.98837495, 0.40871197, 0.6991958, 12881389000.0, 12859218000.0)\n",
      "alpha_val: 0.45611832\n",
      "theta_val: -0.52422357\n",
      "inprod_grad_eta_val: -40586556.0\n",
      "Cost New: 12856314000.0\n",
      "Cost Old: 12859218000.0\n",
      "armijo: True\n",
      "(1970812500.0, 35, 0.0013246507, 0.0024566154, 0.45611832, -0.52422357, 1.1508497, 12859218000.0, 12856314000.0)\n",
      "alpha_val: 0.9374256\n",
      "theta_val: 0.4310368\n",
      "inprod_grad_eta_val: -135021460.0\n",
      "Cost New: 12837983000.0\n",
      "Cost Old: 12856314000.0\n",
      "armijo: True\n",
      "(1974635300.0, 36, 0.0013259349, 0.00096850714, 0.9374256, 0.4310368, 0.6874468, 12856314000.0, 12837983000.0)\n",
      "alpha_val: 0.38280287\n",
      "theta_val: -0.51980734\n",
      "inprod_grad_eta_val: -37338464.0\n",
      "Cost New: 12836642000.0\n",
      "Cost Old: 12837983000.0\n",
      "armijo: True\n",
      "(1966787200.0, 37, 0.0013232973, 0.0019932196, 0.38280287, -0.51980734, 1.1540258, 12837983000.0, 12836642000.0)\n",
      "alpha_val: 0.8570301\n",
      "theta_val: 0.4225106\n",
      "inprod_grad_eta_val: -128036260.0\n",
      "Cost New: 12822683000.0\n",
      "Cost Old: 12836642000.0\n",
      "armijo: True\n",
      "(1972140500.0, 38, 0.0013250969, 0.0013581379, 0.8570301, 0.4225106, 0.7211846, 12836642000.0, 12822683000.0)\n",
      "alpha_val: 0.34203213\n",
      "theta_val: -0.558391\n",
      "inprod_grad_eta_val: -32074718.0\n",
      "Cost New: 12821918000.0\n",
      "Cost Old: 12822683000.0\n",
      "armijo: True\n",
      "(1965697900.0, 39, 0.0013229308, 0.0016373796, 0.34203213, -0.558391, 1.0975274, 12822683000.0, 12821918000.0)\n",
      "alpha_val: 0.7521119\n",
      "theta_val: 0.43715128\n",
      "inprod_grad_eta_val: -108259224.0\n",
      "Cost New: 12813153000.0\n",
      "Cost Old: 12821918000.0\n",
      "armijo: True\n",
      "(1968958700.0, 40, 0.0013240275, 0.00082834286, 0.7521119, 0.43715128, 0.6757474, 12821918000.0, 12813153000.0)\n",
      "alpha_val: 0.32549825\n",
      "theta_val: -0.45644864\n",
      "inprod_grad_eta_val: -38125450.0\n",
      "Cost New: 12812335000.0\n",
      "Cost Old: 12813153000.0\n",
      "armijo: True\n",
      "(1961457400.0, 41, 0.0013215031, 0.0019102992, 0.32549825, -0.45644864, 1.1387055, 12813153000.0, 12812335000.0)\n",
      "alpha_val: 0.6881879\n",
      "theta_val: 0.360853\n",
      "inprod_grad_eta_val: -104237550.0\n",
      "Cost New: 12805643000.0\n",
      "Cost Old: 12812335000.0\n",
      "armijo: True\n",
      "(1966032500.0, 42, 0.0013230434, 0.001164203, 0.6881879, 0.360853, 0.78712523, 12812335000.0, 12805643000.0)\n",
      "alpha_val: 0.3136672\n",
      "theta_val: -0.46417576\n",
      "inprod_grad_eta_val: -35901470.0\n",
      "Cost New: 12805205000.0\n",
      "Cost Old: 12805643000.0\n",
      "armijo: True\n",
      "(1955820500.0, 43, 0.0013196028, 0.002607253, 0.3136672, -0.46417576, 1.0738144, 12805643000.0, 12805205000.0)\n",
      "alpha_val: 0.6800937\n",
      "theta_val: 0.3103846\n",
      "inprod_grad_eta_val: -95986980.0\n",
      "Cost New: 12798680000.0\n",
      "Cost Old: 12805205000.0\n",
      "armijo: True\n",
      "(1963750500.0, 44, 0.0013222753, 0.0020210845, 0.6800937, 0.3103846, 0.8658838, 12805205000.0, 12798680000.0)\n",
      "alpha_val: 0.33284968\n",
      "theta_val: -0.49123558\n",
      "inprod_grad_eta_val: -28373504.0\n",
      "Cost New: 12797719000.0\n",
      "Cost Old: 12798680000.0\n",
      "armijo: True\n",
      "(1957798700.0, 45, 0.00132027, 0.0015188211, 0.33284968, -0.49123558, 1.2338352, 12798680000.0, 12797719000.0)\n",
      "alpha_val: 0.6922322\n",
      "theta_val: 0.3463072\n",
      "inprod_grad_eta_val: -100661550.0\n",
      "Cost New: 12790930000.0\n",
      "Cost Old: 12797719000.0\n",
      "armijo: True\n",
      "(1962563300.0, 46, 0.0013218756, 0.0012146379, 0.6922322, 0.3463072, 0.8285411, 12797719000.0, 12790930000.0)\n",
      "alpha_val: 0.32179436\n",
      "theta_val: -0.48304912\n",
      "inprod_grad_eta_val: -31864540.0\n",
      "Cost New: 12790219000.0\n",
      "Cost Old: 12790930000.0\n",
      "armijo: True\n",
      "(1958383900.0, 47, 0.0013204673, 0.0010664983, 0.32179436, -0.48304912, 1.1944402, 12790930000.0, 12790219000.0)\n",
      "alpha_val: 0.6676225\n",
      "theta_val: 0.3533628\n",
      "inprod_grad_eta_val: -99202070.0\n",
      "Cost New: 12783793000.0\n",
      "Cost Old: 12790219000.0\n",
      "armijo: True\n",
      "(1964082200.0, 48, 0.001322387, 0.0014516844, 0.6676225, 0.3533628, 0.79124284, 12790219000.0, 12783793000.0)\n",
      "alpha_val: 0.33117205\n",
      "theta_val: -0.4933006\n",
      "inprod_grad_eta_val: -30374530.0\n",
      "Cost New: 12782775000.0\n",
      "Cost Old: 12783793000.0\n",
      "armijo: True\n",
      "(1954960900.0, 49, 0.0013193127, 0.0023302252, 0.33117205, -0.4933006, 1.1797603, 12783793000.0, 12782775000.0)\n",
      "alpha_val: 0.7274707\n",
      "theta_val: 0.30971348\n",
      "inprod_grad_eta_val: -102316010.0\n",
      "Cost New: 12774863000.0\n",
      "Cost Old: 12782775000.0\n",
      "armijo: True\n",
      "(1960971000.0, 50, 0.0013213392, 0.001533627, 0.7274707, 0.30971348, 0.9011654, 12782775000.0, 12774863000.0)\n",
      "alpha_val: 0.27152535\n",
      "theta_val: -0.5972527\n",
      "inprod_grad_eta_val: -15644380.0\n",
      "Cost New: 12774352000.0\n",
      "Cost Old: 12774863000.0\n",
      "armijo: True\n",
      "(1958459300.0, 51, 0.0013204927, 0.0006410151, 0.27152535, -0.5972527, 1.3039148, 12774863000.0, 12774352000.0)\n",
      "alpha_val: 0.65833473\n",
      "theta_val: 0.4858012\n",
      "inprod_grad_eta_val: -99794140.0\n",
      "Cost New: 12768103000.0\n",
      "Cost Old: 12774352000.0\n",
      "armijo: True\n",
      "(1962998000.0, 52, 0.0013220219, 0.001156737, 0.65833473, 0.4858012, 0.61435133, 12774352000.0, 12768103000.0)\n",
      "alpha_val: 0.26427418\n",
      "theta_val: -0.48464605\n",
      "inprod_grad_eta_val: -31816702.0\n",
      "Cost New: 12767477000.0\n",
      "Cost Old: 12768103000.0\n",
      "armijo: True\n",
      "(1953365500.0, 53, 0.0013187743, 0.0024626188, 0.26427418, -0.48464605, 1.1724901, 12768103000.0, 12767477000.0)\n",
      "alpha_val: 0.6801261\n",
      "theta_val: 0.32182354\n",
      "inprod_grad_eta_val: -96888830.0\n",
      "Cost New: 12761103000.0\n",
      "Cost Old: 12767477000.0\n",
      "armijo: True\n",
      "(1958418600.0, 54, 0.001320479, 0.0012909479, 0.6801261, 0.32182354, 0.83373106, 12767477000.0, 12761103000.0)\n",
      "alpha_val: 0.24652088\n",
      "theta_val: -0.6159514\n",
      "inprod_grad_eta_val: -10839469.0\n",
      "Cost New: 12760813000.0\n",
      "Cost Old: 12761103000.0\n",
      "armijo: True\n",
      "(1957719600.0, 55, 0.0013202432, 0.00017855878, 0.24652088, -0.6159514, 1.3500094, 12761103000.0, 12760813000.0)\n",
      "alpha_val: 0.653314\n",
      "theta_val: 0.521621\n",
      "inprod_grad_eta_val: -96190230.0\n",
      "Cost New: 12754760000.0\n",
      "Cost Old: 12760813000.0\n",
      "armijo: True\n",
      "(1962319900.0, 56, 0.0013217935, 0.0011728782, 0.653314, 0.521621, 0.56848615, 12760813000.0, 12754760000.0)\n",
      "alpha_val: 0.26194838\n",
      "theta_val: -0.51640487\n",
      "inprod_grad_eta_val: -25706588.0\n",
      "Cost New: 12754261000.0\n",
      "Cost Old: 12754760000.0\n",
      "armijo: True\n",
      "(1951693400.0, 57, 0.0013182098, 0.0027186335, 0.26194838, -0.51640487, 1.2519217, 12754760000.0, 12754261000.0)\n",
      "alpha_val: 0.60506845\n",
      "theta_val: 0.3940238\n",
      "inprod_grad_eta_val: -94142920.0\n",
      "Cost New: 12749608000.0\n",
      "Cost Old: 12754261000.0\n",
      "armijo: True\n",
      "(1959084700.0, 58, 0.0013207035, 0.001888185, 0.60506845, 0.3940238, 0.71837384, 12754261000.0, 12749608000.0)\n",
      "alpha_val: 0.21267128\n",
      "theta_val: -0.5160993\n",
      "inprod_grad_eta_val: -26598318.0\n",
      "Cost New: 12749626000.0\n",
      "Cost Old: 12749608000.0\n",
      "armijo: False\n",
      "Backtracking\n",
      "Learning Rate: 0.10633563995361328\n",
      "Max_TT rank63\n",
      "[1, 53, 63, 63, 1]\n",
      "Cost New: 12750248438.28125\n",
      "Cost Old: 12749608000.0\n",
      "backtrackiter_count: 1\n",
      "Backtracking\n",
      "Learning Rate: 0.05316781997680664\n",
      "Max_TT rank63\n",
      "[1, 53, 63, 63, 1]\n",
      "Cost New: 12750764936.812622\n",
      "Cost Old: 12749608000.0\n",
      "backtrackiter_count: 2\n",
      "Backtracking\n",
      "Learning Rate: 0.02658390998840332\n",
      "Max_TT rank63\n",
      "[1, 53, 63, 63, 1]\n",
      "Cost New: 12751079332.344849\n",
      "Cost Old: 12749608000.0\n",
      "backtrackiter_count: 3\n",
      "Backtracking\n",
      "Learning Rate: 0.01329195499420166\n",
      "Max_TT rank63\n",
      "[1, 53, 63, 63, 1]\n",
      "Cost New: 12751263979.146606\n",
      "Cost Old: 12749608000.0\n",
      "backtrackiter_count: 4\n",
      "Backtracking\n",
      "Learning Rate: 0.00664597749710083\n",
      "Max_TT rank63\n",
      "[1, 53, 63, 63, 1]\n",
      "Cost New: 12751353807.803833\n",
      "Cost Old: 12749608000.0\n",
      "backtrackiter_count: 5\n",
      "backtracing stopped after: 5\n",
      "(1951895200.0, 59, 0.0013182779, 0.0018399988, 0.21267128, -0.5160993, 1.1644175, 12749608000.0, 12749626000.0)\n",
      "alpha_val: 0.7234513\n",
      "theta_val: 0.24735208\n",
      "inprod_grad_eta_val: -101114504.0\n",
      "Cost New: 12743355000.0\n",
      "Cost Old: 12751429000.0\n",
      "armijo: True\n",
      "(1962496500.0, 60, 0.001321853, 0.0027046234, 0.7234513, 0.24735208, 1.0525364, 12751429000.0, 12743355000.0)\n",
      "alpha_val: 0.269203\n",
      "theta_val: -0.63338983\n",
      "inprod_grad_eta_val: -11254502.0\n",
      "Cost New: 12742701000.0\n",
      "Cost Old: 12743355000.0\n",
      "armijo: True\n",
      "(1954964100.0, 61, 0.0013193139, 0.0019245872, 0.269203, -0.63338983, 1.3113884, 12743355000.0, 12742701000.0)\n",
      "alpha_val: 0.6652692\n",
      "theta_val: 0.49079818\n",
      "inprod_grad_eta_val: -98438480.0\n",
      "Cost New: 12736256000.0\n",
      "Cost Old: 12742701000.0\n",
      "armijo: True\n",
      "(1960552000.0, 62, 0.001321198, 0.0014260282, 0.6652692, 0.49079818, 0.6174471, 12742701000.0, 12736256000.0)\n",
      "alpha_val: 0.22335805\n",
      "theta_val: -0.52343047\n",
      "inprod_grad_eta_val: -27253704.0\n",
      "Cost New: 12736181000.0\n",
      "Cost Old: 12736256000.0\n",
      "armijo: True\n",
      "(1954663400.0, 63, 0.0013192124, 0.0015051252, 0.22335805, -0.52343047, 1.1526041, 12736256000.0, 12736181000.0)\n"
     ]
    },
    {
     "name": "stdout",
     "output_type": "stream",
     "text": [
      "alpha_val: 0.55035675\n",
      "theta_val: 0.43535003\n",
      "inprod_grad_eta_val: -85099370.0\n",
      "Cost New: 12732550000.0\n",
      "Cost Old: 12736181000.0\n",
      "armijo: True\n",
      "(1956952800.0, 64, 0.0013199847, 0.000585082, 0.55035675, 0.43535003, 0.64518225, 12736181000.0, 12732550000.0)\n",
      "alpha_val: 0.19980252\n",
      "theta_val: -0.45893046\n",
      "inprod_grad_eta_val: -29353578.0\n",
      "Cost New: 12732461000.0\n",
      "Cost Old: 12732550000.0\n",
      "armijo: True\n",
      "(1952017000.0, 65, 0.001318319, 0.0012634805, 0.19980252, -0.45893046, 1.2070918, 12732550000.0, 12732461000.0)\n",
      "alpha_val: 0.5308402\n",
      "theta_val: 0.35113484\n",
      "inprod_grad_eta_val: -80765190.0\n",
      "Cost New: 12729558000.0\n",
      "Cost Old: 12732461000.0\n",
      "armijo: True\n",
      "(1953445100.0, 66, 0.0013188012, 0.00036562924, 0.5308402, 0.35113484, 0.7442993, 12732461000.0, 12729558000.0)\n",
      "alpha_val: 0.17259157\n",
      "theta_val: -0.56643605\n",
      "inprod_grad_eta_val: -16260292.0\n",
      "Cost New: 12729677000.0\n",
      "Cost Old: 12729558000.0\n",
      "armijo: False\n",
      "Backtracking\n",
      "Learning Rate: 0.08629578351974487\n",
      "Max_TT rank63\n",
      "[1, 53, 63, 63, 1]\n",
      "Cost New: 12730115648.445312\n",
      "Cost Old: 12729558000.0\n",
      "backtrackiter_count: 1\n",
      "Backtracking\n",
      "Learning Rate: 0.043147891759872437\n",
      "Max_TT rank63\n",
      "[1, 53, 63, 63, 1]\n",
      "Cost New: 12730469680.480957\n",
      "Cost Old: 12729558000.0\n",
      "backtrackiter_count: 2\n",
      "Backtracking\n",
      "Learning Rate: 0.021573945879936218\n",
      "Max_TT rank63\n",
      "[1, 53, 63, 63, 1]\n",
      "Cost New: 12730679110.199707\n",
      "Cost Old: 12729558000.0\n",
      "backtrackiter_count: 3\n",
      "Backtracking\n",
      "Learning Rate: 0.010786972939968109\n",
      "Max_TT rank63\n",
      "[1, 53, 63, 63, 1]\n",
      "Cost New: 12730836183.619263\n",
      "Cost Old: 12729558000.0\n",
      "backtrackiter_count: 4\n",
      "Backtracking\n",
      "Learning Rate: 0.0053934864699840546\n",
      "Max_TT rank63\n",
      "[1, 53, 63, 63, 1]\n",
      "Cost New: 12730925940.294067\n",
      "Cost Old: 12729558000.0\n",
      "backtrackiter_count: 5\n",
      "backtracing stopped after: 5\n",
      "(1953971700.0, 67, 0.001318979, 0.00013477562, 0.17259157, -0.56643605, 1.2687256, 12729558000.0, 12729677000.0)\n",
      "alpha_val: 0.657868\n",
      "theta_val: 0.33822256\n",
      "inprod_grad_eta_val: -88022400.0\n",
      "Cost New: 12725187000.0\n",
      "Cost Old: 12730969000.0\n",
      "armijo: True\n",
      "(1958384900.0, 68, 0.0013204676, 0.00112733, 0.657868, 0.33822256, 0.8904825, 12730969000.0, 12725187000.0)\n",
      "alpha_val: 0.29385996\n",
      "theta_val: -0.5938595\n",
      "inprod_grad_eta_val: -8951999.0\n",
      "Cost New: 12724142000.0\n",
      "Cost Old: 12725187000.0\n",
      "armijo: True\n",
      "(1954938400.0, 69, 0.0013193052, 0.00088107516, 0.29385996, -0.5938595, 1.4472263, 12725187000.0, 12724142000.0)\n",
      "alpha_val: 0.6338478\n",
      "theta_val: 0.46145442\n",
      "inprod_grad_eta_val: -92983304.0\n",
      "Cost New: 12718715000.0\n",
      "Cost Old: 12724142000.0\n",
      "armijo: True\n",
      "(1959954200.0, 70, 0.0013209966, 0.0012803957, 0.6338478, 0.46145442, 0.6265383, 12724142000.0, 12718715000.0)\n",
      "alpha_val: 0.17585927\n",
      "theta_val: -0.56472284\n",
      "inprod_grad_eta_val: -23412316.0\n",
      "Cost New: 12718817000.0\n",
      "Cost Old: 12718715000.0\n",
      "armijo: False\n",
      "Backtracking\n",
      "Learning Rate: 0.0879296362400055\n",
      "Max_TT rank63\n",
      "[1, 53, 63, 63, 1]\n",
      "Cost New: 12719240288.821411\n",
      "Cost Old: 12718715000.0\n",
      "backtrackiter_count: 1\n",
      "Backtracking\n",
      "Learning Rate: 0.04396481812000275\n",
      "Max_TT rank63\n",
      "[1, 53, 63, 63, 1]\n",
      "Cost New: 12719581708.92627\n",
      "Cost Old: 12718715000.0\n",
      "backtrackiter_count: 2\n",
      "Backtracking\n",
      "Learning Rate: 0.021982409060001373\n",
      "Max_TT rank63\n",
      "[1, 53, 63, 63, 1]\n",
      "Cost New: 12719791049.066895\n",
      "Cost Old: 12718715000.0\n",
      "backtrackiter_count: 3\n",
      "Backtracking\n",
      "Learning Rate: 0.010991204530000687\n",
      "Max_TT rank63\n",
      "[1, 53, 63, 63, 1]\n",
      "Cost New: 12719870798.14502\n",
      "Cost Old: 12718715000.0\n",
      "backtrackiter_count: 4\n",
      "Backtracking\n",
      "Learning Rate: 0.005495602265000343\n",
      "Max_TT rank63\n",
      "[1, 53, 63, 63, 1]\n",
      "Cost New: 12719965500.5\n",
      "Cost Old: 12718715000.0\n",
      "backtrackiter_count: 5\n",
      "backtracing stopped after: 5\n",
      "(1951397900.0, 71, 0.0013181099, 0.00218998, 0.17585927, -0.56472284, 1.0642571, 12718715000.0, 12718817000.0)\n",
      "alpha_val: 0.6332872\n",
      "theta_val: 0.26680332\n",
      "inprod_grad_eta_val: -91238610.0\n",
      "Cost New: 12714831000.0\n",
      "Cost Old: 12720049000.0\n",
      "armijo: True\n",
      "(1958159700.0, 72, 0.0013203917, 0.0017280784, 0.6332872, 0.26680332, 1.0577546, 12720049000.0, 12714831000.0)\n",
      "alpha_val: 0.20361036\n",
      "theta_val: -0.62272096\n",
      "inprod_grad_eta_val: -12563414.0\n",
      "Cost New: 12714752000.0\n",
      "Cost Old: 12714831000.0\n",
      "armijo: True\n",
      "(1954967000.0, 73, 0.0013193148, 0.00081621285, 0.20361036, -0.62272096, 1.2766287, 12714831000.0, 12714752000.0)\n",
      "alpha_val: 0.5728347\n",
      "theta_val: 0.4795828\n",
      "inprod_grad_eta_val: -83994100.0\n",
      "Cost New: 12710861000.0\n",
      "Cost Old: 12714752000.0\n",
      "armijo: True\n",
      "(1957507600.0, 74, 0.0013201719, 0.00064919546, 0.5728347, 0.4795828, 0.6089777, 12714752000.0, 12710861000.0)\n",
      "alpha_val: 0.18292122\n",
      "theta_val: -0.5113132\n",
      "inprod_grad_eta_val: -24407736.0\n",
      "Cost New: 12710853000.0\n",
      "Cost Old: 12710861000.0\n",
      "armijo: True\n",
      "(1951411500.0, 75, 0.0013181146, 0.0015607836, 0.18292122, -0.5113132, 1.1620879, 12710861000.0, 12710853000.0)\n",
      "alpha_val: 0.5315017\n",
      "theta_val: 0.34003493\n",
      "inprod_grad_eta_val: -81465330.0\n",
      "Cost New: 12707790000.0\n",
      "Cost Old: 12710853000.0\n",
      "armijo: True\n",
      "(1955308300.0, 76, 0.00131943, 0.0009969281, 0.5315017, 0.34003493, 0.8324548, 12710853000.0, 12707790000.0)\n",
      "alpha_val: 0.19773586\n",
      "theta_val: -0.5857544\n",
      "inprod_grad_eta_val: -12609432.0\n",
      "Cost New: 12707713000.0\n",
      "Cost Old: 12707790000.0\n",
      "armijo: True\n",
      "(1954102900.0, 77, 0.0013190232, 0.00030837604, 0.19773586, -0.5857544, 1.3420813, 12707790000.0, 12707713000.0)\n",
      "alpha_val: 0.50435954\n",
      "theta_val: 0.48781493\n",
      "inprod_grad_eta_val: -77581500.0\n",
      "Cost New: 12705203000.0\n",
      "Cost Old: 12707713000.0\n",
      "armijo: True\n",
      "(1956659600.0, 78, 0.0013198858, 0.0006535698, 0.50435954, 0.48781493, 0.57632655, 12707713000.0, 12705203000.0)\n",
      "alpha_val: 0.18556938\n",
      "theta_val: -0.5098108\n",
      "inprod_grad_eta_val: -22488890.0\n",
      "Cost New: 12705149000.0\n",
      "Cost Old: 12705203000.0\n",
      "armijo: True\n",
      "(1951418600.0, 79, 0.001318117, 0.0013419251, 0.18556938, -0.5098108, 1.1711925, 12705203000.0, 12705149000.0)\n",
      "alpha_val: 0.4648659\n",
      "theta_val: 0.376279\n",
      "inprod_grad_eta_val: -73141096.0\n",
      "Cost New: 12703097000.0\n",
      "Cost Old: 12705149000.0\n",
      "armijo: True\n",
      "(1954622100.0, 80, 0.0013191984, 0.0008197265, 0.4648659, 0.376279, 0.7580349, 12705149000.0, 12703097000.0)\n",
      "alpha_val: 0.18546976\n",
      "theta_val: -0.48381233\n",
      "inprod_grad_eta_val: -21934376.0\n",
      "Cost New: 12703008000.0\n",
      "Cost Old: 12703097000.0\n",
      "armijo: True\n",
      "(1955646600.0, 81, 0.0013195442, 0.00026202496, 0.18546976, -0.48381233, 1.29595, 12703097000.0, 12703008000.0)\n",
      "alpha_val: 0.48728597\n",
      "theta_val: 0.39294565\n",
      "inprod_grad_eta_val: -71991470.0\n",
      "Cost New: 12700740000.0\n",
      "Cost Old: 12703008000.0\n",
      "armijo: True\n",
      "(1956429200.0, 82, 0.0013198081, 0.00019996357, 0.48728597, 0.39294565, 0.6841274, 12703008000.0, 12700740000.0)\n",
      "alpha_val: 0.17936079\n",
      "theta_val: -0.53155476\n",
      "inprod_grad_eta_val: -15880563.0\n",
      "Cost New: 12700627000.0\n",
      "Cost Old: 12700740000.0\n",
      "armijo: True\n",
      "(1952231300.0, 83, 0.0013183914, 0.0010745353, 0.17936079, -0.53155476, 1.345507, 12700740000.0, 12700627000.0)\n",
      "alpha_val: 0.5635416\n",
      "theta_val: 0.45258737\n",
      "inprod_grad_eta_val: -76311520.0\n",
      "Cost New: 12697169000.0\n",
      "Cost Old: 12700627000.0\n",
      "armijo: True\n",
      "(1955407900.0, 84, 0.0013194636, 0.00081259164, 0.5635416, 0.45258737, 0.6604973, 12700627000.0, 12697169000.0)\n",
      "alpha_val: 0.21970738\n",
      "theta_val: -0.6248137\n",
      "inprod_grad_eta_val: 90195.55\n",
      "Cost New: 12696838000.0\n",
      "Cost Old: 12697169000.0\n",
      "armijo: True\n",
      "(1955522200.0, 85, 0.0013195021, 2.9203038e-05, 0.21970738, -0.6248137, 1.5511448, 12697169000.0, 12696838000.0)\n",
      "alpha_val: 0.5688172\n",
      "theta_val: 0.5849157\n",
      "inprod_grad_eta_val: -82002580.0\n",
      "Cost New: 12693058000.0\n",
      "Cost Old: 12696838000.0\n",
      "armijo: True\n",
      "(1958471700.0, 86, 0.0013204969, 0.00075332925, 0.5688172, 0.5849157, 0.46722376, 12696838000.0, 12693058000.0)\n",
      "alpha_val: 0.15237018\n",
      "theta_val: -0.51356244\n",
      "inprod_grad_eta_val: -22218338.0\n",
      "Cost New: 12693126000.0\n",
      "Cost Old: 12693058000.0\n",
      "armijo: False\n",
      "Backtracking\n",
      "Learning Rate: 0.07618509232997894\n",
      "Max_TT rank63\n",
      "[1, 53, 63, 63, 1]\n",
      "Cost New: 12693487507.035645\n",
      "Cost Old: 12693058000.0\n",
      "backtrackiter_count: 1\n",
      "Backtracking\n",
      "Learning Rate: 0.03809254616498947\n",
      "Max_TT rank63\n",
      "[1, 53, 63, 63, 1]\n",
      "Cost New: 12693783768.38684\n",
      "Cost Old: 12693058000.0\n",
      "backtrackiter_count: 2\n",
      "Backtracking\n",
      "Learning Rate: 0.019046273082494736\n",
      "Max_TT rank63\n",
      "[1, 53, 63, 63, 1]\n",
      "Cost New: 12693960531.007812\n",
      "Cost Old: 12693058000.0\n",
      "backtrackiter_count: 3\n",
      "Backtracking\n",
      "Learning Rate: 0.009523136541247368\n",
      "Max_TT rank63\n",
      "[1, 53, 63, 63, 1]\n",
      "Cost New: 12694077543.560669\n",
      "Cost Old: 12693058000.0\n",
      "backtrackiter_count: 4\n",
      "Backtracking\n",
      "Learning Rate: 0.004761568270623684\n",
      "Max_TT rank63\n",
      "[1, 53, 63, 63, 1]\n"
     ]
    },
    {
     "name": "stdout",
     "output_type": "stream",
     "text": [
      "Cost New: 12694167170.561646\n",
      "Cost Old: 12693058000.0\n",
      "backtrackiter_count: 5\n",
      "backtracing stopped after: 5\n",
      "(1952154400.0, 87, 0.0013183655, 0.0016167355, 0.15237018, -0.51356244, 1.252815, 12693058000.0, 12693126000.0)\n",
      "alpha_val: 0.62192863\n",
      "theta_val: 0.26647675\n",
      "inprod_grad_eta_val: -86843820.0\n",
      "Cost New: 12689227000.0\n",
      "Cost Old: 12694243000.0\n",
      "armijo: True\n",
      "(1957509500.0, 88, 0.0013201725, 0.0013687595, 0.62192863, 0.26647675, 0.93850946, 12694243000.0, 12689227000.0)\n",
      "alpha_val: 0.20818736\n",
      "theta_val: -0.6584008\n",
      "inprod_grad_eta_val: -6076082.5\n",
      "Cost New: 12689076000.0\n",
      "Cost Old: 12689227000.0\n",
      "armijo: True\n",
      "(1957427500.0, 89, 0.0013201447, 2.0987734e-05, 0.20818736, -0.6584008, 1.3403825, 12689227000.0, 12689076000.0)\n",
      "alpha_val: 0.52154726\n",
      "theta_val: 0.5214489\n",
      "inprod_grad_eta_val: -81606430.0\n",
      "Cost New: 12685874000.0\n",
      "Cost Old: 12689076000.0\n",
      "armijo: True\n",
      "(1957777400.0, 90, 0.0013202628, 8.9410336e-05, 0.52154726, 0.5214489, 0.5563832, 12689076000.0, 12685874000.0)\n",
      "alpha_val: 0.16815719\n",
      "theta_val: -0.47698602\n",
      "inprod_grad_eta_val: -27071208.0\n",
      "Cost New: 12685897000.0\n",
      "Cost Old: 12685874000.0\n",
      "armijo: False\n",
      "Backtracking\n",
      "Learning Rate: 0.0840785950422287\n",
      "Max_TT rank63\n",
      "[1, 53, 63, 63, 1]\n",
      "Cost New: 12686251339.257935\n",
      "Cost Old: 12685874000.0\n",
      "backtrackiter_count: 1\n",
      "Backtracking\n",
      "Learning Rate: 0.04203929752111435\n",
      "Max_TT rank63\n",
      "[1, 53, 63, 63, 1]\n",
      "Cost New: 12686584849.62024\n",
      "Cost Old: 12685874000.0\n",
      "backtrackiter_count: 2\n",
      "Backtracking\n",
      "Learning Rate: 0.021019648760557175\n",
      "Max_TT rank63\n",
      "[1, 53, 63, 63, 1]\n",
      "Cost New: 12686803873.735474\n",
      "Cost Old: 12685874000.0\n",
      "backtrackiter_count: 3\n",
      "Backtracking\n",
      "Learning Rate: 0.010509824380278587\n",
      "Max_TT rank63\n",
      "[1, 53, 63, 63, 1]\n",
      "Cost New: 12686955698.379395\n",
      "Cost Old: 12685874000.0\n",
      "backtrackiter_count: 4\n",
      "Backtracking\n",
      "Learning Rate: 0.005254912190139294\n",
      "Max_TT rank63\n",
      "[1, 53, 63, 63, 1]\n",
      "Cost New: 12687055256.016113\n",
      "Cost Old: 12685874000.0\n",
      "backtrackiter_count: 5\n",
      "backtracing stopped after: 5\n",
      "(1953064000.0, 91, 0.0013186726, 0.0012059349, 0.16815719, -0.47698602, 1.1570725, 12685874000.0, 12685897000.0)\n",
      "alpha_val: 0.61065596\n",
      "theta_val: 0.1899098\n",
      "inprod_grad_eta_val: -86822970.0\n",
      "Cost New: 12682395000.0\n",
      "Cost Old: 12687119000.0\n",
      "armijo: True\n",
      "(1956909000.0, 92, 0.00131997, 0.0009829381, 0.61065596, 0.1899098, 1.1001693, 12687119000.0, 12682395000.0)\n",
      "alpha_val: 0.15158187\n",
      "theta_val: -0.65321916\n",
      "inprod_grad_eta_val: -5619549.5\n",
      "Cost New: 12682418000.0\n",
      "Cost Old: 12682395000.0\n",
      "armijo: False\n",
      "Backtracking\n",
      "Learning Rate: 0.07579093426465988\n",
      "Max_TT rank63\n",
      "[1, 53, 63, 63, 1]\n",
      "Cost New: 12682754722.172363\n",
      "Cost Old: 12682395000.0\n",
      "backtrackiter_count: 1\n",
      "Backtracking\n",
      "Learning Rate: 0.03789546713232994\n",
      "Max_TT rank63\n",
      "[1, 53, 63, 63, 1]\n",
      "Cost New: 12683058323.908203\n",
      "Cost Old: 12682395000.0\n",
      "backtrackiter_count: 2\n",
      "Backtracking\n",
      "Learning Rate: 0.01894773356616497\n",
      "Max_TT rank63\n",
      "[1, 53, 63, 63, 1]\n",
      "Cost New: 12683242477.55127\n",
      "Cost Old: 12682395000.0\n",
      "backtrackiter_count: 3\n",
      "Backtracking\n",
      "Learning Rate: 0.009473866783082485\n",
      "Max_TT rank63\n",
      "[1, 53, 63, 63, 1]\n",
      "Cost New: 12683361929.277832\n",
      "Cost Old: 12682395000.0\n",
      "backtrackiter_count: 4\n",
      "Backtracking\n",
      "Learning Rate: 0.004736933391541243\n",
      "Max_TT rank63\n",
      "[1, 53, 63, 63, 1]\n",
      "Cost New: 12683444052.666138\n",
      "Cost Old: 12682395000.0\n",
      "backtrackiter_count: 5\n",
      "backtracing stopped after: 5\n",
      "(1956038700.0, 93, 0.0013196764, 0.00022247835, 0.15158187, -0.65321916, 1.3669456, 12682395000.0, 12682418000.0)\n",
      "alpha_val: 0.56377023\n",
      "theta_val: 0.45953926\n",
      "inprod_grad_eta_val: -86901180.0\n",
      "Cost New: 12679704000.0\n",
      "Cost Old: 12683521000.0\n",
      "armijo: True\n",
      "(1959045500.0, 94, 0.0013206903, 0.0007676751, 0.56377023, 0.45953926, 0.6542357, 12683521000.0, 12679704000.0)\n",
      "alpha_val: 0.16982883\n",
      "theta_val: -0.43904108\n",
      "inprod_grad_eta_val: -32808578.0\n",
      "Cost New: 12679681000.0\n",
      "Cost Old: 12679704000.0\n",
      "armijo: True\n",
      "(1953837400.0, 95, 0.0013189337, 0.0013318264, 0.16982883, -0.43904108, 1.073883, 12679704000.0, 12679681000.0)\n",
      "alpha_val: 0.45148215\n",
      "theta_val: 0.32499227\n",
      "inprod_grad_eta_val: -73148720.0\n",
      "Cost New: 12677923000.0\n",
      "Cost Old: 12679681000.0\n",
      "armijo: True\n",
      "(1954313000.0, 96, 0.0013190941, 0.000121614, 0.45148215, 0.32499227, 0.76138633, 12679681000.0, 12677923000.0)\n",
      "alpha_val: 0.15535805\n",
      "theta_val: -0.4873718\n",
      "inprod_grad_eta_val: -21482396.0\n",
      "Cost New: 12677950000.0\n",
      "Cost Old: 12677923000.0\n",
      "armijo: False\n",
      "Backtracking\n",
      "Learning Rate: 0.07767902314662933\n",
      "Max_TT rank63\n",
      "[1, 53, 63, 63, 1]\n",
      "Cost New: 12678268310.36145\n",
      "Cost Old: 12677923000.0\n",
      "backtrackiter_count: 1\n",
      "Backtracking\n",
      "Learning Rate: 0.03883951157331467\n",
      "Max_TT rank63\n",
      "[1, 53, 63, 63, 1]\n",
      "Cost New: 12678574346.5083\n",
      "Cost Old: 12677923000.0\n",
      "backtrackiter_count: 2\n",
      "Backtracking\n",
      "Learning Rate: 0.019419755786657333\n",
      "Max_TT rank63\n",
      "[1, 53, 63, 63, 1]\n",
      "Cost New: 12678773396.391113\n",
      "Cost Old: 12677923000.0\n",
      "backtrackiter_count: 3\n",
      "Backtracking\n",
      "Learning Rate: 0.009709877893328667\n",
      "Max_TT rank63\n",
      "[1, 53, 63, 63, 1]\n",
      "Cost New: 12678902779.652832\n",
      "Cost Old: 12677923000.0\n",
      "backtrackiter_count: 4\n",
      "Backtracking\n",
      "Learning Rate: 0.004854938946664333\n",
      "Max_TT rank63\n",
      "[1, 53, 63, 63, 1]\n",
      "Cost New: 12678974935.98938\n",
      "Cost Old: 12677923000.0\n",
      "backtrackiter_count: 5\n",
      "backtracing stopped after: 5\n",
      "(1954289300.0, 97, 0.0013190862, 6.0013076e-06, 0.15535805, -0.4873718, 1.2900981, 12677923000.0, 12677950000.0)\n",
      "Breaking after 97 iterations\n"
     ]
    }
   ],
   "source": [
    "\n",
    "\n",
    "i = 0\n",
    "cost_nan = False\n",
    "while gradnorm_val > eps:   \n",
    "#for k in range(20):\n",
    "    i = i + 1\n",
    "    F_v, gradnorm_val, alpha_val,theta_val, beta_val, cost_old_val, cost_val,inprod_grad_eta_val, _, _,_,_,_ = sess.run([loss, gradnorm_omega, alpha, theta, beta, cost_old, cost, inprod_grad_eta, cost_op.op, cost_old_op.op, train_step.op, eta_update_op.op, grad_update_op.op])\n",
    "    #eta_old_val, grad_update_val,_ = sess.run([eta_update_op, grad_update_op])\n",
    "    \n",
    "    print \"alpha_val: \" + str(alpha_val)\n",
    "    print \"theta_val: \" + str(theta_val)\n",
    "    print \"inprod_grad_eta_val: \" + str(inprod_grad_eta_val)\n",
    "    \n",
    "    lr = alpha_val\n",
    "    cost_prev = cost_old_val\n",
    "    cost_new = cost_val\n",
    "    \n",
    "    print \"Cost New: \" +str(cost_new)\n",
    "    print \"Cost Old: \" +str(cost_prev)\n",
    "        \n",
    "    backtrackiter = 0\n",
    "\n",
    "    \n",
    "    armijo = (cost_new <= cost_prev + backtrack_const*(lr)*inprod_grad_eta_val)\n",
    "    print \"armijo: \" + str(armijo)\n",
    "    #while (cost_prev - cost_new) <= -backtrack_const*(-lr)*inprod_grad_eta_val:\n",
    "    while (not (cost_new <= cost_prev + backtrack_const*(lr)*inprod_grad_eta_val)):\n",
    "        \n",
    "        print \"Backtracking\"\n",
    "        lr = 0.5*lr\n",
    "        print \"Learning Rate: \" + str(lr)\n",
    "        sess.run(t3f.assign(X_new, t3f.round(X + lr * eta_t3f_old, max_tt_rank=63)).op)\n",
    "        x_new_val = sess.run(t3f.full(X_new))\n",
    "        x_new_val[mask_indices==0] = 0.0\n",
    "        \n",
    "        cost_new = loss_func(x_new_val, a_omega)\n",
    "        \n",
    "        if is_nan(cost_new):\n",
    "            cost_nan = True\n",
    "            break\n",
    "        \n",
    "        print \"Cost New: \" +str(cost_new)\n",
    "        print \"Cost Old: \" +str(cost_prev)\n",
    "        backtrackiter = backtrackiter + 1\n",
    "        print \"backtrackiter_count: \" + str(backtrackiter)\n",
    "    \n",
    "        if backtrackiter > 4:\n",
    "            print \"backtracing stopped after: \" + str(backtrackiter)\n",
    "            sess.run(t3f.assign(X, X_new).op)\n",
    "            break\n",
    "    \n",
    "        if cost_nan:\n",
    "            print \"Cost is Nan. Breaking after \" + str(i) + \"; iterations\"\n",
    "            sess.run(t3f.assign(X, X_new).op)\n",
    "            break\n",
    "        \n",
    "    train_loss_hist.append(gradnorm_val)\n",
    "    \n",
    "    if i > 1:\n",
    "        diff_train = np.abs(train_loss_hist[i - 1] - train_loss_hist[i-2])/np.abs(train_loss_hist[i-1])\n",
    "        print (F_v, i, gradnorm_val, diff_train, alpha_val, theta_val, beta_val, cost_old_val, cost_val)\n",
    "        if diff_train <= epsilon_train:\n",
    "            print \"Breaking after \" + str(i) + \" iterations\"\n",
    "            break\n",
    "    else:\n",
    "        print (F_v, i, gradnorm_val, alpha_val, theta_val, beta_val, cost_old_val, cost_val)\n",
    "    log.append(F_v)"
   ]
  },
  {
   "cell_type": "code",
   "execution_count": null,
   "metadata": {
    "collapsed": true
   },
   "outputs": [],
   "source": []
  },
  {
   "cell_type": "code",
   "execution_count": null,
   "metadata": {
    "collapsed": true
   },
   "outputs": [],
   "source": []
  },
  {
   "cell_type": "code",
   "execution_count": 81,
   "metadata": {},
   "outputs": [
    {
     "name": "stdout",
     "output_type": "stream",
     "text": [
      "Tensor(\"Maximum:0\", shape=(), dtype=float32)\n"
     ]
    }
   ],
   "source": [
    "print beta"
   ]
  },
  {
   "cell_type": "code",
   "execution_count": 82,
   "metadata": {
    "collapsed": true
   },
   "outputs": [],
   "source": [
    "#sess.run([eta_update_op.op, grad_update_op.op])"
   ]
  },
  {
   "cell_type": "code",
   "execution_count": 83,
   "metadata": {},
   "outputs": [
    {
     "name": "stdout",
     "output_type": "stream",
     "text": [
      "A Tensor Train variable of shape (53, 63, 46, 144), TT-ranks: (1, 53, 63, 63, 1)\n"
     ]
    }
   ],
   "source": [
    "print X"
   ]
  },
  {
   "cell_type": "code",
   "execution_count": 84,
   "metadata": {
    "collapsed": true
   },
   "outputs": [],
   "source": [
    "estimated_val = sess.run(t3f.full(X))"
   ]
  },
  {
   "cell_type": "code",
   "execution_count": 85,
   "metadata": {
    "collapsed": true
   },
   "outputs": [],
   "source": [
    "ground_truth_val = sess.run(ground_truth)\n"
   ]
  },
  {
   "cell_type": "code",
   "execution_count": 86,
   "metadata": {
    "collapsed": true
   },
   "outputs": [],
   "source": [
    "x_reconstr = mt.reconstruct(estimated_val,ground_truth_val, ten_ones, mask_indices)\n"
   ]
  },
  {
   "cell_type": "code",
   "execution_count": 87,
   "metadata": {
    "collapsed": true
   },
   "outputs": [],
   "source": [
    "def relative_error(x_hat,x_true):\n",
    "    percent_error = np.linalg.norm(x_hat - x_true) / np.linalg.norm(x_true)\n",
    "    return percent_error"
   ]
  },
  {
   "cell_type": "code",
   "execution_count": 88,
   "metadata": {
    "collapsed": true
   },
   "outputs": [],
   "source": [
    "rel_error = relative_error(estimated_val,ground_truth_val)"
   ]
  },
  {
   "cell_type": "code",
   "execution_count": 89,
   "metadata": {},
   "outputs": [
    {
     "name": "stdout",
     "output_type": "stream",
     "text": [
      "0.0034758453\n"
     ]
    }
   ],
   "source": [
    "print rel_error"
   ]
  },
  {
   "cell_type": "code",
   "execution_count": 90,
   "metadata": {
    "collapsed": true
   },
   "outputs": [],
   "source": [
    "rel_error_rec = relative_error(x_reconstr,ground_truth_val)"
   ]
  },
  {
   "cell_type": "code",
   "execution_count": 91,
   "metadata": {},
   "outputs": [
    {
     "data": {
      "text/plain": [
       "0.0027503645420537755"
      ]
     },
     "execution_count": 91,
     "metadata": {},
     "output_type": "execute_result"
    }
   ],
   "source": [
    "rel_error_rec"
   ]
  },
  {
   "cell_type": "code",
   "execution_count": 92,
   "metadata": {
    "collapsed": true
   },
   "outputs": [],
   "source": [
    "x_miss_img = mt.reconstruct_image_affine(x_true_org, x_train)"
   ]
  },
  {
   "cell_type": "code",
   "execution_count": 93,
   "metadata": {
    "collapsed": true
   },
   "outputs": [],
   "source": [
    "x_miss = image.index_img(x_miss_img,1)"
   ]
  },
  {
   "cell_type": "code",
   "execution_count": 94,
   "metadata": {},
   "outputs": [
    {
     "data": {
      "image/png": "[encoded data removed]",
      "text/plain": [
       "<matplotlib.figure.Figure at 0x144f9f050>"
      ]
     },
     "metadata": {},
     "output_type": "display_data"
    }
   ],
   "source": [
    "x_miss_image = plotting.plot_epi(x_miss, bg_img=None,black_bg=True, cmap='jet', cut_coords=None) "
   ]
  },
  {
   "cell_type": "code",
   "execution_count": 95,
   "metadata": {},
   "outputs": [
    {
     "data": {
      "image/png": "[encoded data removed]",
      "text/plain": [
       "<matplotlib.figure.Figure at 0x20d62e790>"
      ]
     },
     "metadata": {},
     "output_type": "display_data"
    }
   ],
   "source": [
    "x_hat_img = mt.reconstruct_image_affine(x_true_org, x_reconstr)\n",
    "x_hat = image.index_img(x_hat_img,1)\n",
    "recovered_image = plotting.plot_epi(x_hat, bg_img=None,black_bg=True, cmap='jet', cut_coords=None)"
   ]
  },
  {
   "cell_type": "code",
   "execution_count": 96,
   "metadata": {},
   "outputs": [
    {
     "data": {
      "image/png": "[encoded data removed]",
      "text/plain": [
       "<matplotlib.figure.Figure at 0x145838c50>"
      ]
     },
     "metadata": {},
     "output_type": "display_data"
    }
   ],
   "source": [
    "x_true_org_img = image.index_img(x_true_org,1)\n",
    "org_image = plotting.plot_epi(x_true_org_img, bg_img=None,black_bg=True, cmap='jet', cut_coords=None)"
   ]
  },
  {
   "cell_type": "code",
   "execution_count": 97,
   "metadata": {},
   "outputs": [
    {
     "name": "stdout",
     "output_type": "stream",
     "text": [
      "('Saving figure', '/work/scratch/tt1/1/missing_ratio_60.00.png')\n",
      "Called from mrd\n"
     ]
    }
   ],
   "source": [
    "images_folder = \"/work/scratch/tt1/1\"\n",
    "mrd.draw_original_vs_reconstructed_rim(image.index_img(x_true_org,1),x_hat, image.index_img(x_miss_img,1), \"Rim Completion\",\n",
    "                                             rel_error_rec, observed_ratio, coord=None, folder=images_folder)"
   ]
  },
  {
   "cell_type": "code",
   "execution_count": 98,
   "metadata": {
    "collapsed": true
   },
   "outputs": [],
   "source": [
    "estimated_val_img = mt.reconstruct_image_affine(x_true_org, estimated_val)"
   ]
  },
  {
   "cell_type": "code",
   "execution_count": 99,
   "metadata": {
    "collapsed": true
   },
   "outputs": [],
   "source": [
    "estimated_val_hat = image.index_img(estimated_val_img,1)"
   ]
  },
  {
   "cell_type": "code",
   "execution_count": 100,
   "metadata": {},
   "outputs": [
    {
     "name": "stdout",
     "output_type": "stream",
     "text": [
      "('Saving figure', '/work/scratch/tt1/2/missing_ratio_60.00.png')\n",
      "Called from mrd\n"
     ]
    }
   ],
   "source": [
    "images_folder = \"/work/scratch/tt1/2\"\n",
    "mrd.draw_original_vs_reconstructed_rim(image.index_img(x_true_org,1),estimated_val_hat,image.index_img(x_miss_img,1), \"Rim Completion2\",\n",
    "                                             rel_error_rec, observed_ratio, coord=None, folder=images_folder)"
   ]
  },
  {
   "cell_type": "code",
   "execution_count": 101,
   "metadata": {
    "collapsed": true
   },
   "outputs": [],
   "source": [
    "def tsc(x_hat,x_true, ten_ones, mask):\n",
    "    nomin = np.linalg.norm(np.multiply((ten_ones - mask), (x_true - x_hat)))\n",
    "    denom = np.linalg.norm(np.multiply((ten_ones - mask), x_true))\n",
    "    score = nomin/denom\n",
    "    return score  "
   ]
  },
  {
   "cell_type": "code",
   "execution_count": 102,
   "metadata": {
    "collapsed": true
   },
   "outputs": [],
   "source": [
    "tsc_score = tsc(estimated_val,ground_truth_val, ten_ones, mask_indices)"
   ]
  },
  {
   "cell_type": "code",
   "execution_count": 103,
   "metadata": {},
   "outputs": [
    {
     "data": {
      "text/plain": [
       "0.003550440968278484"
      ]
     },
     "execution_count": 103,
     "metadata": {},
     "output_type": "execute_result"
    }
   ],
   "source": [
    "tsc_score"
   ]
  },
  {
   "cell_type": "code",
   "execution_count": null,
   "metadata": {
    "collapsed": true
   },
   "outputs": [],
   "source": []
  }
 ],
 "metadata": {
  "kernelspec": {
   "display_name": "Python 2",
   "language": "python",
   "name": "python2"
  },
  "language_info": {
   "codemirror_mode": {
    "name": "ipython",
    "version": 2
   },
   "file_extension": ".py",
   "mimetype": "text/x-python",
   "name": "python",
   "nbconvert_exporter": "python",
   "pygments_lexer": "ipython2",
   "version": "2.7.13"
  }
 },
 "nbformat": 4,
 "nbformat_minor": 2
}
