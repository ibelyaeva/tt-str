{
 "cells": [
  {
   "cell_type": "code",
   "execution_count": 4,
   "metadata": {},
   "outputs": [],
   "source": [
    "from mayavi import mlab\n",
    "from scipy import sin, ogrid, array\n",
    "from pylab import plot, show \n",
    "\n",
    "# prepare data, hence test scipy elements\n",
    "x , y = ogrid[-3:3:100j , -3:3:100j]\n",
    "z = sin(x**2 + y**2)\n",
    "\n",
    "# test matplotlib\n",
    "plot(x, sin(x**2)); show()\n",
    "\n",
    "#now mayavi2\n",
    "obj = mlab.surf(x,y,z)\n",
    "P = mlab.pipeline\n",
    "scalar_cut_plane = P.scalar_cut_plane(obj, plane_orientation='y_axes')\n",
    "scalar_cut_plane.enable_contours = True\n",
    "scalar_cut_plane.contour.filled_contours = True\n",
    "scalar_cut_plane.implicit_plane.widget.origin = array([  0.00000000e+00,   1.46059210e+00,  -2.02655792e-06])\n",
    "\n",
    "scalar_cut_plane.warp_scalar.filter.normal = array([ 0.,  1.,  0.])\n",
    "scalar_cut_plane.implicit_plane.widget.normal = array([ 0.,  1.,  0.])\n",
    "f = mlab.gcf()\n",
    "f.scene.camera.azimuth(10)\n",
    "\n",
    "f.scene.show_axes = True\n",
    "f.scene.magnification = 4 # or 4\n",
    "mlab.axes()\n",
    "\n",
    "# Now animate the data.\n",
    "dt = 0.01; N = 40\n",
    "ms = obj.mlab_source\n",
    "for k in xrange(N):\n",
    "    x = x + k*dt\n",
    "    scalars = sin(x**2 + y**2)\n",
    "    ms.set(x=x, scalars=scalars)"
   ]
  },
  {
   "cell_type": "code",
   "execution_count": 3,
   "metadata": {
    "collapsed": true
   },
   "outputs": [],
   "source": []
  },
  {
   "cell_type": "code",
   "execution_count": null,
   "metadata": {
    "collapsed": true
   },
   "outputs": [],
   "source": []
  }
 ],
 "metadata": {
  "kernelspec": {
   "display_name": "Python 2",
   "language": "python",
   "name": "python2"
  },
  "language_info": {
   "codemirror_mode": {
    "name": "ipython",
    "version": 2
   },
   "file_extension": ".py",
   "mimetype": "text/x-python",
   "name": "python",
   "nbconvert_exporter": "python",
   "pygments_lexer": "ipython2",
   "version": "2.7.13"
  }
 },
 "nbformat": 4,
 "nbformat_minor": 2
}
