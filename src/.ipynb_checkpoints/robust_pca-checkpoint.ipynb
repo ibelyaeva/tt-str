{
 "cells": [
  {
   "cell_type": "code",
   "execution_count": null,
   "metadata": {},
   "outputs": [],
   "source": [
    "import tensorly as tl\n",
    "import numpy as np"
   ]
  },
  {
   "cell_type": "code",
   "execution_count": null,
   "metadata": {},
   "outputs": [],
   "source": [
    "\n",
    "import numpy as np\n",
    "np.random.seed(0)\n",
    "%matplotlib inline\n",
    "import matplotlib.pyplot as plt\n",
    "from nilearn import image\n",
    "import copy\n",
    "from nilearn import plotting\n",
    "from nilearn.masking import compute_background_mask\n",
    "from nilearn.masking import compute_epi_mask\n",
    "from collections import OrderedDict\n",
    "import pandas as pd\n",
    "from scipy import stats\n",
    "from nilearn.image import math_img"
   ]
  },
  {
   "cell_type": "code",
   "execution_count": null,
   "metadata": {},
   "outputs": [],
   "source": [
    "def get_mask(data, observed_ratio):\n",
    "    \n",
    "    if len(data.shape) == 3:\n",
    "        mask_indices = (np.random.rand(data.shape[0],data.shape[1],data.shape[2]) < observed_ratio).astype('int') \n",
    "    elif len(data.shape) == 4:\n",
    "        mask_indices = (np.random.rand(data.shape[0],data.shape[1],data.shape[2], data.shape[3]) < observed_ratio).astype('int') \n",
    "    elif len(data.shape) == 2:\n",
    "        mask_indices = (np.random.rand(data.shape[0],data.shape[1]) < observed_ratio).astype('int') \n",
    "    \n",
    "    return mask_indices"
   ]
  },
  {
   "cell_type": "code",
   "execution_count": null,
   "metadata": {},
   "outputs": [],
   "source": [
    "import nibabel as nib\n",
    "import copy"
   ]
  },
  {
   "cell_type": "code",
   "execution_count": null,
   "metadata": {},
   "outputs": [],
   "source": [
    "def read_image_abs_path(path):\n",
    "    img = nib.load(path)\n",
    "    return img"
   ]
  },
  {
   "cell_type": "code",
   "execution_count": null,
   "metadata": {},
   "outputs": [],
   "source": [
    "subject_scan_path = \"/work/pl/sch/analysis/data/COBRE001/swaAMAYER+cobre01_63001+M87100944+20110309at135133+RSTpre_V01_R01+CM.nii\"\n",
    "print (\"Subject Path: \" + str(subject_scan_path))\n",
    "x_true_org = read_image_abs_path(subject_scan_path)"
   ]
  },
  {
   "cell_type": "code",
   "execution_count": null,
   "metadata": {},
   "outputs": [],
   "source": [
    "x_true_img = np.array(x_true_org.get_data())"
   ]
  },
  {
   "cell_type": "code",
   "execution_count": null,
   "metadata": {},
   "outputs": [],
   "source": [
    "from nilearn.masking import compute_background_mask\n",
    "from nilearn.masking import compute_epi_mask\n",
    "from nilearn import plotting"
   ]
  },
  {
   "cell_type": "code",
   "execution_count": null,
   "metadata": {},
   "outputs": [],
   "source": [
    "mask_img = compute_epi_mask(x_true_org)\n",
    "mask_img_data = np.array(mask_img.get_data())\n",
    "\n",
    "observed_ratio = 0.95\n",
    "missing_ratio = 1 - observed_ratio\n",
    "\n",
    "mask_indices = get_mask(x_true_img, observed_ratio)\n",
    "epi_mask = copy.deepcopy(mask_img_data)\n",
    "    \n",
    "mask_indices[epi_mask==0] = 1\n",
    "\n",
    "\n",
    "\n",
    "#x_true_img = np.array(x_true_org.get_data())\n",
    "\n",
    "norm_ground_truth = np.linalg.norm(x_true_img)\n",
    "x_true_img = x_true_img * (1./norm_ground_truth)"
   ]
  },
  {
   "cell_type": "code",
   "execution_count": null,
   "metadata": {},
   "outputs": [],
   "source": [
    "norm_ground_truth = np.linalg.norm(x_true_img)\n",
    "x_true_img = x_true_img * (1./norm_ground_truth)\n",
    "\n",
    "#mask_indices = (np.random.rand(x_true_img.shape[0],x_true_img.shape[1],x_true_img.shape[2], x_true_img.shape[3]) < observed_ratio).astype('int') \n",
    "ten_ones = np.ones_like(mask_indices)\n",
    "x_train = copy.deepcopy(x_true_img)\n",
    "x_train[mask_indices==0] = 0.0\n",
    "#x_train[mask_indices == 0] = np.mean(x_train[mask_indices == 1])\n",
    "#x_train[mask_indices == 0] = np.mean(x_train[mask_indices == 1])\n",
    "\n",
    "x_init = copy.deepcopy(x_train)"
   ]
  },
  {
   "cell_type": "code",
   "execution_count": null,
   "metadata": {},
   "outputs": [],
   "source": []
  },
  {
   "cell_type": "code",
   "execution_count": null,
   "metadata": {},
   "outputs": [],
   "source": [
    "def reconstruct_image_affine(img_ref, x_hat):\n",
    "    result = nib.Nifti1Image(x_hat, img_ref.affine)\n",
    "    return result"
   ]
  },
  {
   "cell_type": "code",
   "execution_count": null,
   "metadata": {},
   "outputs": [],
   "source": [
    "x_org = reconstruct_image_affine(x_true_org, x_true_img)\n",
    "x_org_img = image.index_img(x_org,1)\n",
    "#x_true_org_img = image.index_img(x_true_org,1)\n",
    "org_image = plotting.plot_epi(x_org_img, bg_img=None,black_bg=True, cmap='jet', cut_coords=None)"
   ]
  },
  {
   "cell_type": "code",
   "execution_count": null,
   "metadata": {},
   "outputs": [],
   "source": [
    "from nilearn import image"
   ]
  },
  {
   "cell_type": "code",
   "execution_count": null,
   "metadata": {},
   "outputs": [],
   "source": [
    "x_miss_img = reconstruct_image_affine(x_true_org, x_train)"
   ]
  },
  {
   "cell_type": "code",
   "execution_count": null,
   "metadata": {},
   "outputs": [],
   "source": [
    "x_miss = image.index_img(x_miss_img,1)"
   ]
  },
  {
   "cell_type": "code",
   "execution_count": null,
   "metadata": {},
   "outputs": [],
   "source": [
    "x_miss_image = plotting.plot_epi(x_miss, bg_img=None,black_bg=True, cmap='jet', cut_coords=[1, -13, 32]) "
   ]
  },
  {
   "cell_type": "code",
   "execution_count": null,
   "metadata": {},
   "outputs": [],
   "source": [
    "from tensorly.decomposition import robust_pca"
   ]
  },
  {
   "cell_type": "code",
   "execution_count": null,
   "metadata": {},
   "outputs": [],
   "source": [
    "low_rank_part, sparse_part = robust_pca(x_train, reg_E=0.04, learning_rate=1.2, n_iter_max=20)"
   ]
  },
  {
   "cell_type": "code",
   "execution_count": null,
   "metadata": {},
   "outputs": [],
   "source": []
  }
 ],
 "metadata": {
  "kernelspec": {
   "display_name": "Python 3",
   "language": "python",
   "name": "python3"
  },
  "language_info": {
   "codemirror_mode": {
    "name": "ipython",
    "version": 3
   },
   "file_extension": ".py",
   "mimetype": "text/x-python",
   "name": "python",
   "nbconvert_exporter": "python",
   "pygments_lexer": "ipython3",
   "version": "3.7.0"
  }
 },
 "nbformat": 4,
 "nbformat_minor": 2
}
